{
  "nbformat": 4,
  "nbformat_minor": 0,
  "metadata": {
    "colab": {
      "name": "Comparison: Stemming vs. Standard Search.ipynb",
      "provenance": [],
      "collapsed_sections": [
        "57olkUd6WQ3C",
        "Gm1Aej_-T9e0"
      ],
      "toc_visible": true,
      "include_colab_link": true
    },
    "kernelspec": {
      "name": "python3",
      "display_name": "Python 3"
    }
  },
  "cells": [
    {
      "cell_type": "markdown",
      "metadata": {
        "id": "view-in-github",
        "colab_type": "text"
      },
      "source": [
        "<a href=\"https://colab.research.google.com/github/pragmalingu/experiments/blob/master/01_Stemming/Evaluation/Comparison_Stemming_vs_Standard_Search.ipynb\" target=\"_parent\"><img src=\"https://colab.research.google.com/assets/colab-badge.svg\" alt=\"Open In Colab\"/></a>"
      ]
    },
    {
      "cell_type": "markdown",
      "metadata": {
        "id": "n93d8RqwhKXs"
      },
      "source": [
        "# Comparison: Stemming vs. Standard Search"
      ]
    },
    {
      "cell_type": "markdown",
      "metadata": {
        "id": "tApgxGG-lbTG"
      },
      "source": [
        "For our first experiment we connect the Notebook to an Elasticsearch instance and compare a standard Elasticsearch operator with two build-in stemming methods: 'Stemmer Token Filter' and 'Hunspell Token Filter'. \n",
        "(To read details about this experiment visit our [website](https://pragmalingu.de/docs/experiments/experiment1))"
      ]
    },
    {
      "cell_type": "code",
      "metadata": {
        "id": "XdccmnTUnDup",
        "colab": {
          "base_uri": "https://localhost:8080/"
        },
        "outputId": "147b4ec0-b93a-4002-ceae-8296b2322f69"
      },
      "source": [
        "#@title Start the connection to our Elasticsearch instance { display-mode: \"form\" }\n",
        "!pip install Elasticsearch\n",
        "from elasticsearch import Elasticsearch\n",
        "from datetime import datetime\n",
        "es = Elasticsearch([\"pragmalingu:ekFYkgqIeeKZN6tbehsZ@ssh.pragmalingu.de:9200\"])\n",
        "response = es.cat.indices()"
      ],
      "execution_count": 25,
      "outputs": [
        {
          "output_type": "stream",
          "text": [
            "Requirement already satisfied: Elasticsearch in /usr/local/lib/python3.6/dist-packages (7.10.0)\n",
            "Requirement already satisfied: certifi in /usr/local/lib/python3.6/dist-packages (from Elasticsearch) (2020.11.8)\n",
            "Requirement already satisfied: urllib3<2,>=1.21.1 in /usr/local/lib/python3.6/dist-packages (from Elasticsearch) (1.24.3)\n"
          ],
          "name": "stdout"
        }
      ]
    },
    {
      "cell_type": "markdown",
      "metadata": {
        "id": "a0j2BkMTXdiD"
      },
      "source": [
        "## Initialize Stemmers"
      ]
    },
    {
      "cell_type": "markdown",
      "metadata": {
        "id": "Q9EMclEPLvMS"
      },
      "source": [
        "**Algorithmic Stemmer**\n",
        "\n",
        "For more information visit the First Experiment [First Experiment](https://pragmalingu.de/docs/experiments/experiment1)"
      ]
    },
    {
      "cell_type": "code",
      "metadata": {
        "id": "1rgB2Wm3YkrX"
      },
      "source": [
        "#the order of filter and analyzer is arbitrary\n",
        "stemming_analyzer = {\n",
        "    \"filter\" : {\n",
        "        \"eng_stemmer\" : {\n",
        "        \"type\" : \"stemmer\",\n",
        "        \"name\" : \"english\"\n",
        "        }\n",
        "    },\n",
        "    \"analyzer\" : {\n",
        "        \"default\" : {\n",
        "            \"tokenizer\" : \"standard\",\n",
        "            \"filter\" : [\"lowercase\", \"eng_stemmer\"]\n",
        "        }\n",
        "    }\n",
        "}\n",
        "\n",
        "#create the correct settings \n",
        "stemmer_settings = {\n",
        "    \"settings\": {\n",
        "        \"number_of_shards\": 1,\n",
        "        \"number_of_replicas\": 0,\n",
        "        \"analysis\": stemming_analyzer\n",
        "    }\n",
        "}"
      ],
      "execution_count": 26,
      "outputs": []
    },
    {
      "cell_type": "markdown",
      "metadata": {
        "id": "Y1DRyRSxZZE7"
      },
      "source": [
        "**Dictionary Stemmer**\n",
        "\n",
        "For more information visit the First Experiment [First Experiment](https://pragmalingu.de/docs/experiments/experiment1)"
      ]
    },
    {
      "cell_type": "code",
      "metadata": {
        "id": "-S1Zl9JLZZFP",
        "colab": {
          "base_uri": "https://localhost:8080/"
        },
        "outputId": "baa30133-5e32-4b53-933e-a8ac5290ca53"
      },
      "source": [
        "#the order of filter and analyzer is arbitrary\n",
        "dictionary_analyzer = {\n",
        "    \"filter\" : {\n",
        "        \"dictionary_stemmer\" : {\n",
        "          \"type\" : \"hunspell\",\n",
        "          \"locale\" : \"en_US\",\n",
        "          \"dedup\" : True  #duplicate tokens are removed from the filter’s output\n",
        "        }\n",
        "    },\n",
        "    \"analyzer\" : {\n",
        "        \"default\" : {\n",
        "            \"tokenizer\" : \"standard\",\n",
        "            \"filter\" : [\"lowercase\", \"dictionary_stemmer\"]\n",
        "        }\n",
        "    }\n",
        "}\n",
        "\n",
        "#create the correct settings \n",
        "hunspell_settings = {\n",
        "    \"settings\": {\n",
        "        \"number_of_shards\": 1,\n",
        "        \"number_of_replicas\": 0,\n",
        "        \"analysis\": dictionary_analyzer\n",
        "    }\n",
        "}\n",
        "\n",
        "!wget https://cgit.freedesktop.org/libreoffice/dictionaries/tree/en/en_US.aff -P /content/elasticsearch-7.9.1/etc/elasticsearch/config/hunspell/en_US\n",
        "!wget https://cgit.freedesktop.org/libreoffice/dictionaries/tree/en/en_US.dic -P /content/elasticsearch-7.9.1/etc/elasticsearch/config/hunspell/en_US\n",
        "\n",
        "!echo \"#indices.analysis.hunspell.dictionary.location: elasticsearch-7.9.1/etc/elasticsearch/config/\" >> /content/elasticsearch-7.9.1/config/elasticsearch.yml"
      ],
      "execution_count": 27,
      "outputs": [
        {
          "output_type": "stream",
          "text": [
            "--2020-12-06 10:21:07--  https://cgit.freedesktop.org/libreoffice/dictionaries/tree/en/en_US.aff\n",
            "Resolving cgit.freedesktop.org (cgit.freedesktop.org)... 131.252.210.161\n",
            "Connecting to cgit.freedesktop.org (cgit.freedesktop.org)|131.252.210.161|:443... connected.\n",
            "HTTP request sent, awaiting response... 200 OK\n",
            "Length: unspecified [text/html]\n",
            "Saving to: ‘/content/elasticsearch-7.9.1/etc/elasticsearch/config/hunspell/en_US/en_US.aff.1’\n",
            "\n",
            "en_US.aff.1             [ <=>                ]  23.74K  --.-KB/s    in 0.01s   \n",
            "\n",
            "2020-12-06 10:21:07 (1.67 MB/s) - ‘/content/elasticsearch-7.9.1/etc/elasticsearch/config/hunspell/en_US/en_US.aff.1’ saved [24313]\n",
            "\n",
            "--2020-12-06 10:21:07--  https://cgit.freedesktop.org/libreoffice/dictionaries/tree/en/en_US.dic\n",
            "Resolving cgit.freedesktop.org (cgit.freedesktop.org)... 131.252.210.161\n",
            "Connecting to cgit.freedesktop.org (cgit.freedesktop.org)|131.252.210.161|:443... connected.\n",
            "HTTP request sent, awaiting response... 200 OK\n",
            "Length: unspecified [text/html]\n",
            "Saving to: ‘/content/elasticsearch-7.9.1/etc/elasticsearch/config/hunspell/en_US/en_US.dic.1’\n",
            "\n",
            "en_US.dic.1             [ <=>                ]   2.40M  --.-KB/s    in 0.1s    \n",
            "\n",
            "2020-12-06 10:21:08 (16.0 MB/s) - ‘/content/elasticsearch-7.9.1/etc/elasticsearch/config/hunspell/en_US/en_US.dic.1’ saved [2513519]\n",
            "\n",
            "/bin/bash: /content/elasticsearch-7.9.1/config/elasticsearch.yml: No such file or directory\n"
          ],
          "name": "stdout"
        }
      ]
    },
    {
      "cell_type": "markdown",
      "metadata": {
        "id": "RQX8W6VepxxT"
      },
      "source": [
        "## Parse Data\n",
        "\n",
        "Get different corpora, format them and feed them to elasticsearch"
      ]
    },
    {
      "cell_type": "markdown",
      "metadata": {
        "id": "j5gHQcZU8v1-"
      },
      "source": [
        "### ADI Corpus\n",
        "\n",
        "You can get the corpus from [this link](http://ir.dcs.gla.ac.uk/resources/test_collections/adi/).  <br>\n",
        "For detailed information about the parsing of this corpus look at [ this Notebook](https://colab.research.google.com/github/pragmalingu/experiments/blob/master/00_Data/ADICorpus.ipynb) or for parsing in generel read [this guide](https://pragmalingu.de/docs/guides/how-to-parse). An overview of the format of the files can be found here: [Data Sets](https://pragmalingu.de/docs/guides/data-comparison)\n",
        "\n",
        "**Data Processing**"
      ]
    },
    {
      "cell_type": "code",
      "metadata": {
        "id": "P1zxf-JB1HQj",
        "colab": {
          "base_uri": "https://localhost:8080/"
        },
        "outputId": "1a2aae4f-6566-4941-fe34-d787777d0933"
      },
      "source": [
        "# download and unzip data\n",
        "!wget http://ir.dcs.gla.ac.uk/resources/test_collections/adi/adi.tar.gz\n",
        "!tar -xf adi.tar.gz\n",
        "\n",
        "# set paths to the dowloaded data as variables\n",
        "PATH_TO_ADI_QRY = '/content/ADI.QRY'\n",
        "PATH_TO_ADI_REL = '/content/ADI.REL'\n",
        "\n",
        "from collections import defaultdict\n",
        "import re\n",
        "import json\n",
        "from io import StringIO\n",
        "import numpy as np\n",
        "\n",
        "adi_index = \"adi-corpus\"\n",
        "\n",
        "# query files\n",
        "\n",
        "ID_marker = re.compile('\\.I')\n",
        "\n",
        "def get_data(PATH_TO_FILE, marker):\n",
        "  \"\"\"\n",
        "  Reads file and spilts text into entries at the ID marker '.I'.\n",
        "  First entry is empty, so it's removed.\n",
        "  'marker' contains the regex at which we want to split\n",
        "  \"\"\"\n",
        "  with open (PATH_TO_FILE,'r') as f:\n",
        "    text = f.read().replace('\\n',\" \")\n",
        "    lines = re.split(marker,text)\n",
        "    lines.pop(0)\n",
        "  return lines\n",
        "\n",
        "adi_qry_list = get_data(PATH_TO_ADI_QRY, ID_marker)\n",
        "\n",
        "# process query file    \n",
        "\n",
        "qry_chunk_start = re.compile('\\.W')\n",
        "adi_qry_data = defaultdict(dict)\n",
        "\n",
        "for n in range(0,len(adi_qry_list)-1):\n",
        "  line = adi_qry_list[n+1]\n",
        "  _ , question = re.split(qry_chunk_start,line)\n",
        "  adi_qry_data[n+1]['question'] = question\n",
        "\n",
        "# process relevance assesment\n",
        "\n",
        "adi_rel_data = open(PATH_TO_ADI_REL)\n",
        "adi_np = np.loadtxt(adi_rel_data, dtype=float)\n",
        "\n",
        "adi_rel = defaultdict(list)\n",
        "for row in adi_np:\n",
        "  adi_rel[int(row[0])].append(int(row[1])) "
      ],
      "execution_count": 28,
      "outputs": [
        {
          "output_type": "stream",
          "text": [
            "--2020-12-06 10:21:08--  http://ir.dcs.gla.ac.uk/resources/test_collections/adi/adi.tar.gz\n",
            "Resolving ir.dcs.gla.ac.uk (ir.dcs.gla.ac.uk)... 130.209.240.253\n",
            "Connecting to ir.dcs.gla.ac.uk (ir.dcs.gla.ac.uk)|130.209.240.253|:80... connected.\n",
            "HTTP request sent, awaiting response... 200 OK\n",
            "Length: 17307 (17K) [application/gzip]\n",
            "Saving to: ‘adi.tar.gz.1’\n",
            "\n",
            "adi.tar.gz.1        100%[===================>]  16.90K  --.-KB/s    in 0.1s    \n",
            "\n",
            "2020-12-06 10:21:09 (123 KB/s) - ‘adi.tar.gz.1’ saved [17307/17307]\n",
            "\n"
          ],
          "name": "stdout"
        }
      ]
    },
    {
      "cell_type": "markdown",
      "metadata": {
        "id": "RdZwKv7_SZFT"
      },
      "source": [
        "### CACM Corpus\n",
        "\n",
        "You can get the corpus from [this link](http://ir.dcs.gla.ac.uk/resources/test_collections/cacm/).  <br>\n",
        "For detailed information about the parsing of this corpus look at [ this Notebook](https://colab.research.google.com/github/pragmalingu/experiments/blob/master/00_Data/CACMCorpus.ipynb) or for parsing in generel read [this guide](https://pragmalingu.de/docs/guides/how-to-parse). An overview of the format of the files can be found here: [Data Sets](https://pragmalingu.de/docs/guides/data-comparison)\n",
        "\n",
        "**Data Processing**\n"
      ]
    },
    {
      "cell_type": "code",
      "metadata": {
        "id": "CLroBvrduKbn",
        "colab": {
          "base_uri": "https://localhost:8080/"
        },
        "outputId": "25c105cc-6d71-44c8-97a4-25d38417bb5d"
      },
      "source": [
        "# download and unzip data\n",
        "!wget http://ir.dcs.gla.ac.uk/resources/test_collections/cacm/cacm.tar.gz\n",
        "!tar -xf cacm.tar.gz\n",
        "\n",
        "# set paths to the dowloaded data as variablesDownload and unzip data.\n",
        "\n",
        "PATH_TO_CACM_QRY = '/content/query.text'\n",
        "PATH_TO_CACM_REL = '/content/qrels.text'\n",
        "\n",
        "from collections import defaultdict\n",
        "import re\n",
        "import json\n",
        "from io import StringIO\n",
        "import numpy as np\n",
        "\n",
        "cacm_index = \"cacm-corpus\"\n",
        "\n",
        "# get query files\n",
        "\n",
        "ID_marker = re.compile('^\\.I',re.MULTILINE)\n",
        "\n",
        "def get_data(PATH_TO_FILE, marker):\n",
        "  \"\"\"\n",
        "  Reads file and spilts text into entries at the ID marker '.I'.\n",
        "  First entry is empty, so it's removed.\n",
        "  'marker' contains the regex at which we want to split\n",
        "  \"\"\"\n",
        "  with open (PATH_TO_FILE,'r') as f:\n",
        "    text = f.read()\n",
        "    lines = re.split(marker,text)\n",
        "    lines.pop(0)\n",
        "  return lines\n",
        "\n",
        "\n",
        "cacm_qry_list = get_data(PATH_TO_CACM_QRY, ID_marker)\n",
        "\n",
        "# process the query data\n",
        "\n",
        "qry_chunk_start = re.compile('^\\.W\\n',re.MULTILINE)\n",
        "cacm_qry_data = defaultdict(dict)\n",
        "\n",
        "for n in range(0,len(cacm_qry_list)-1):\n",
        "  line = cacm_qry_list[n+1]\n",
        "  _ , question = re.split(qry_chunk_start,line)\n",
        "  cacm_qry_data[n+1]['question'] = question\n",
        "\n",
        "# process the relevance assesment data\n",
        "cacm_rel = defaultdict(list)\n",
        "\n",
        "with open (PATH_TO_CACM_REL,'r') as f:\n",
        "  for line in f:\n",
        "    line = re.split(' ',line)\n",
        "    cacm_rel[int(line[0])].append(line[1])"
      ],
      "execution_count": 29,
      "outputs": [
        {
          "output_type": "stream",
          "text": [
            "--2020-12-06 10:21:09--  http://ir.dcs.gla.ac.uk/resources/test_collections/cacm/cacm.tar.gz\n",
            "Resolving ir.dcs.gla.ac.uk (ir.dcs.gla.ac.uk)... 130.209.240.253\n",
            "Connecting to ir.dcs.gla.ac.uk (ir.dcs.gla.ac.uk)|130.209.240.253|:80... connected.\n",
            "HTTP request sent, awaiting response... 200 OK\n",
            "Length: 705665 (689K) [application/gzip]\n",
            "Saving to: ‘cacm.tar.gz.1’\n",
            "\n",
            "cacm.tar.gz.1       100%[===================>] 689.13K   981KB/s    in 0.7s    \n",
            "\n",
            "2020-12-06 10:21:10 (981 KB/s) - ‘cacm.tar.gz.1’ saved [705665/705665]\n",
            "\n"
          ],
          "name": "stdout"
        }
      ]
    },
    {
      "cell_type": "markdown",
      "metadata": {
        "id": "E20KaO1jSZTc"
      },
      "source": [
        "### CISI Corpus\n",
        "\n",
        "You can get the corpus from [this link](http://ir.dcs.gla.ac.uk/resources/test_collections/cisi/).  <br>\n",
        "For detailed information about the parsing of this corpus look at [ this Notebook](https://colab.research.google.com/github/pragmalingu/experiments/blob/master/00_Data/CISICorpus.ipynb) or for parsing in generel read [this guide](https://pragmalingu.de/docs/guides/how-to-parse). An overview of the format of the files can be found here: [Data Sets](https://pragmalingu.de/docs/guides/data-comparison)\n",
        "\n",
        "**Data Processing**"
      ]
    },
    {
      "cell_type": "code",
      "metadata": {
        "id": "hdn3IdFvNPvi",
        "colab": {
          "base_uri": "https://localhost:8080/"
        },
        "outputId": "51071845-f55d-44e0-e317-738ddd1d1f72"
      },
      "source": [
        "\n",
        "# download and unzip data\n",
        "!wget http://ir.dcs.gla.ac.uk/resources/test_collections/cisi/cisi.tar.gz\n",
        "!tar -xf cisi.tar.gz\n",
        "\n",
        "# set paths to the dowloaded data as variablesDownload and unzip data.\n",
        "PATH_TO_CISI_QRY = '/content/CISI.QRY'\n",
        "PATH_TO_CISI_REL = '/content/CISI.REL'\n",
        "\n",
        "from collections import defaultdict\n",
        "import re\n",
        "import json\n",
        "from io import StringIO\n",
        "import numpy as np\n",
        "\n",
        "cisi_index = \"cisi-corpus\"\n",
        "\n",
        "# get the text and query files\n",
        "\n",
        "ID_marker = re.compile('^\\.I',re.MULTILINE)\n",
        "\n",
        "def get_data(PATH_TO_FILE, marker):\n",
        "  \"\"\"\n",
        "  Reads file and spilts text into entries at the ID marker '.I'.\n",
        "  First entry is empty, so it's removed.\n",
        "  'marker' contains the regex at which we want to split\n",
        "  \"\"\"\n",
        "  with open (PATH_TO_FILE,'r') as f:\n",
        "    text = f.read()\n",
        "    lines = re.split(marker,text)\n",
        "    lines.pop(0)\n",
        "  return lines\n",
        "\n",
        "cisi_qry_list = get_data(PATH_TO_CISI_QRY, ID_marker)\n",
        "\n",
        "# process query file  \n",
        "\n",
        "qry_chunk_start = re.compile('[\\n]\\.W')\n",
        "\n",
        "cisi_qry_data = defaultdict(dict)\n",
        "\n",
        "for line in cisi_qry_list:\n",
        "  id , question = re.split(qry_chunk_start,line)\n",
        "  id = re.findall('\\d{1,3}',id)[0]\n",
        "  cisi_qry_data[id]['question'] = question\n",
        "\n",
        "# process the relevance assesment data\n",
        "cisi_rel = defaultdict(list)\n",
        "\n",
        "with open (PATH_TO_CISI_REL,'r') as f:\n",
        "  for line in f:\n",
        "    line = line.replace(' ','\\t')\n",
        "    line = re.split('\\t',line)\n",
        "    line = list(filter(None, line))\n",
        "    cisi_rel[str(line[0])].append(str(line[1]))"
      ],
      "execution_count": 30,
      "outputs": [
        {
          "output_type": "stream",
          "text": [
            "--2020-12-06 10:21:10--  http://ir.dcs.gla.ac.uk/resources/test_collections/cisi/cisi.tar.gz\n",
            "Resolving ir.dcs.gla.ac.uk (ir.dcs.gla.ac.uk)... 130.209.240.253\n",
            "Connecting to ir.dcs.gla.ac.uk (ir.dcs.gla.ac.uk)|130.209.240.253|:80... connected.\n",
            "HTTP request sent, awaiting response... 200 OK\n",
            "Length: 775144 (757K) [application/gzip]\n",
            "Saving to: ‘cisi.tar.gz.1’\n",
            "\n",
            "cisi.tar.gz.1       100%[===================>] 756.98K   924KB/s    in 0.8s    \n",
            "\n",
            "2020-12-06 10:21:11 (924 KB/s) - ‘cisi.tar.gz.1’ saved [775144/775144]\n",
            "\n"
          ],
          "name": "stdout"
        }
      ]
    },
    {
      "cell_type": "markdown",
      "metadata": {
        "id": "2uBvUwRPpxT_"
      },
      "source": [
        "### Cranfield Corpus\n",
        "\n",
        "You can get the corpus from [this link](http://ir.dcs.gla.ac.uk/resources/test_collections/cran/).  <br>\n",
        "For detailed information about the parsing of this corpus look at [ this Notebook](https://colab.research.google.com/github/pragmalingu/experiments/blob/master/00_Data/CranfieldCorpus.ipynb) or for parsing in generel read [this guide](https://pragmalingu.de/docs/guides/how-to-parse). An overview of the format of the files can be found here: [Data Sets](https://pragmalingu.de/docs/guides/data-comparison)\n",
        "\n",
        "**Data Processing**"
      ]
    },
    {
      "cell_type": "code",
      "metadata": {
        "id": "QsE0BqpwjrI1",
        "colab": {
          "base_uri": "https://localhost:8080/"
        },
        "outputId": "269ed21a-34d2-4fd5-c852-1b26ad84f91a"
      },
      "source": [
        "# download and unzip data\n",
        "!wget http://ir.dcs.gla.ac.uk/resources/test_collections/cran/cran.tar.gz\n",
        "!tar -xf cran.tar.gz\n",
        "\n",
        "# set paths to the dowloaded data as variables\n",
        "PATH_TO_CRAN_QRY = '/content/cran.qry'\n",
        "PATH_TO_CRAN_REL = '/content/cranqrel'\n",
        "\n",
        "from collections import defaultdict\n",
        "import re\n",
        "import json\n",
        "from io import StringIO\n",
        "import numpy as np\n",
        "\n",
        "cran_index = \"cranfield-corpus\"\n",
        "\n",
        "# get the text entries from the text and query files\n",
        "\n",
        "ID_marker = re.compile('\\.I')\n",
        "\n",
        "def get_data(PATH_TO_FILE, marker):\n",
        "  \"\"\"\n",
        "  Reads file and spilts text into entries at the ID marker '.I'.\n",
        "  First entry is empty, so it's removed.\n",
        "  'marker' contains the regex at which we want to split\n",
        "  \"\"\"\n",
        "  with open (PATH_TO_FILE,'r') as f:\n",
        "    text = f.read().replace('\\n',\" \")\n",
        "    lines = re.split(marker,text)\n",
        "    lines.pop(0)\n",
        "  return lines\n",
        "\n",
        "cran_qry_list = get_data(PATH_TO_CRAN_QRY, ID_marker)\n",
        "\n",
        "# process query file\n",
        "\n",
        "qry_chunk_start = re.compile('\\.W')\n",
        "cran_qry_data = defaultdict(dict)\n",
        "\n",
        "for n in range(0,len(cran_qry_list)-1):\n",
        "  line = cran_qry_list[n+1]\n",
        "  _ , question = re.split(qry_chunk_start,line)\n",
        "  cran_qry_data[n+1]['question'] = question\n",
        "\n",
        "# process relevance assesments with rating\n",
        "\n",
        "cran_rel_data = open(PATH_TO_CRAN_REL)\n",
        "cran_np = np.loadtxt(cran_rel_data, dtype=int)\n",
        "\n",
        "cran_rel_rat = defaultdict(list)\n",
        "for row in cran_np:\n",
        "  cran_rel_rat[row[0]].append(tuple(row[1:])) \n",
        "\n",
        "# process relevance assesments without rating\n",
        "cran_rel = defaultdict(list)\n",
        "\n",
        "with open (PATH_TO_CRAN_REL,'r') as f:\n",
        "  for line in f:\n",
        "    line = re.split(' ',line)\n",
        "    cran_rel[int(line[0])].append(line[1])"
      ],
      "execution_count": 31,
      "outputs": [
        {
          "output_type": "stream",
          "text": [
            "--2020-12-06 10:21:11--  http://ir.dcs.gla.ac.uk/resources/test_collections/cran/cran.tar.gz\n",
            "Resolving ir.dcs.gla.ac.uk (ir.dcs.gla.ac.uk)... 130.209.240.253\n",
            "Connecting to ir.dcs.gla.ac.uk (ir.dcs.gla.ac.uk)|130.209.240.253|:80... connected.\n",
            "HTTP request sent, awaiting response... 200 OK\n",
            "Length: 506960 (495K) [application/gzip]\n",
            "Saving to: ‘cran.tar.gz.1’\n",
            "\n",
            "cran.tar.gz.1       100%[===================>] 495.08K   716KB/s    in 0.7s    \n",
            "\n",
            "2020-12-06 10:21:12 (716 KB/s) - ‘cran.tar.gz.1’ saved [506960/506960]\n",
            "\n"
          ],
          "name": "stdout"
        }
      ]
    },
    {
      "cell_type": "markdown",
      "metadata": {
        "id": "Hth0myYcBlAk"
      },
      "source": [
        "### LISA Corpus\n",
        "\n",
        "You can get the corpus from [this link](http://ir.dcs.gla.ac.uk/resources/test_collections/lisa/).  <br>\n",
        "For detailed information about the parsing of this corpus look at [ this Notebook](https://colab.research.google.com/github/pragmalingu/experiments/blob/master/00_Data/LISACorpus.ipynb) or for parsing in generel read [this guide](https://pragmalingu.de/docs/guides/how-to-parse). An overview of the format of the files can be found here: [Data Sets](https://pragmalingu.de/docs/guides/data-comparison)\n",
        "\n",
        "**Data Processing**"
      ]
    },
    {
      "cell_type": "code",
      "metadata": {
        "id": "k6NEluV1IWbP",
        "colab": {
          "base_uri": "https://localhost:8080/"
        },
        "outputId": "98dcba80-3596-48d7-abd5-f9ccd8e58b4a"
      },
      "source": [
        "# download and unzip data\n",
        "!wget http://ir.dcs.gla.ac.uk/resources/test_collections/lisa/lisa.tar.gz\n",
        "!tar -xf lisa.tar.gz\n",
        "\n",
        "# set paths to the dowloaded data as variablesDownload and unzip data.\n",
        "\n",
        "PATH_TO_LISA_QRY = '/content/LISA.QUE'\n",
        "PATH_TO_LISA_REL = '/content/LISARJ.NUM'\n",
        "\n",
        "from collections import defaultdict\n",
        "import re\n",
        "import json\n",
        "from io import StringIO\n",
        "import numpy as np\n",
        "import os\n",
        "\n",
        "lisa_index = \"lisa-corpus\"\n",
        "\n",
        "# get the text and query files\n",
        "\n",
        "file_regex = re.compile('LISA[0-5]')\n",
        "lisa_files = [i for i in os.listdir(PATH_TO_LISA_TXT) if os.path.isfile(os.path.join(PATH_TO_LISA_TXT,i)) and re.match(file_regex,i)]\n",
        "\n",
        "txt_entry_marker = re.compile('\\*{44}',re.MULTILINE)\n",
        "qry_entry_marker = re.compile('#')\n",
        "\n",
        "def get_data(PATH_TO_FILES, marker):\n",
        "  \"\"\"\n",
        "  Reads multiple files and spilts text into entries at the entry marker.\n",
        "  The 'marker' contains the regex at which we want to split\n",
        "  Pops last element since it's empty.\n",
        "  \"\"\"\n",
        "  with open (PATH_TO_FILES,'r') as f:\n",
        "    text = f.read().replace('     ','')\n",
        "    lines = re.split(marker,text)\n",
        "    lines.pop()\n",
        "  return lines\n",
        "\n",
        "lisa_qry_list = get_data(PATH_TO_LISA_QRY, qry_entry_marker)\n",
        "\n",
        "# process the query data\n",
        "\n",
        "lisa_qry_data = defaultdict(dict)\n",
        "# first line is a special case because it doesn't start with a newline\n",
        "first_line = lisa_qry_list[0]\n",
        "first_question = ' '.join(first_line[1:])\n",
        "lisa_qry_data[int(first_line[0])]['question'] = first_question\n",
        "\n",
        "# after that every line can be handle the same way\n",
        "for n in range(0,len(lisa_qry_list)-1):\n",
        "  line = re.split('\\n',lisa_qry_list[n+1])\n",
        "  question = ' '.join(line[2:])\n",
        "  lisa_qry_data[int(line[1])]['question'] = question\n",
        "\n",
        "# process relevance assesments\n",
        "lisa_rel = defaultdict(list)\n",
        "\n",
        "rel_marker = re.compile('            \\n        ')\n",
        "rel_split = re.compile('\\n')\n",
        "\n",
        "with open (PATH_TO_LISA_REL,'r') as f:\n",
        "  file = f.read().strip('       ').replace('\\n','')\n",
        "  lines = re.split(' ',file)\n",
        "  lines = list(filter(None, lines))\n",
        "  n = 0\n",
        "  while n < len(lines):\n",
        "    ID = int(lines[n])\n",
        "    num_rel = int(lines[n+1])\n",
        "    rels = lines[(n+2):(n+num_rel+2)]\n",
        "    lisa_rel[ID].extend(rels)\n",
        "    n = n+1+num_rel+1"
      ],
      "execution_count": 33,
      "outputs": [
        {
          "output_type": "stream",
          "text": [
            "--2020-12-06 10:22:56--  http://ir.dcs.gla.ac.uk/resources/test_collections/lisa/lisa.tar.gz\n",
            "Resolving ir.dcs.gla.ac.uk (ir.dcs.gla.ac.uk)... 130.209.240.253\n",
            "Connecting to ir.dcs.gla.ac.uk (ir.dcs.gla.ac.uk)|130.209.240.253|:80... connected.\n",
            "HTTP request sent, awaiting response... 200 OK\n",
            "Length: 1227725 (1.2M) [application/gzip]\n",
            "Saving to: ‘lisa.tar.gz.2’\n",
            "\n",
            "lisa.tar.gz.2       100%[===================>]   1.17M  1.39MB/s    in 0.8s    \n",
            "\n",
            "2020-12-06 10:22:58 (1.39 MB/s) - ‘lisa.tar.gz.2’ saved [1227725/1227725]\n",
            "\n"
          ],
          "name": "stdout"
        }
      ]
    },
    {
      "cell_type": "markdown",
      "metadata": {
        "id": "6kELIGyq1b8B"
      },
      "source": [
        "### MS MARCO Corpus\n",
        "\n",
        "You can get the corpus from [this link](https://github.com/microsoft/MSMARCO-Document-Ranking).  <br>\n",
        "For detailed information about the parsing of this corpus look at [ this Notebook](https://colab.research.google.com/github/pragmalingu/experiments/blob/master/00_Data/MedlineCorpus.ipynb) or for parsing in generel read [this guide](https://pragmalingu.de/docs/guides/how-to-parse). An overview of the format of the files can be found here: [Data Sets](https://pragmalingu.de/docs/guides/data-comparison)\n",
        "\n",
        "**Data Processing**"
      ]
    },
    {
      "cell_type": "code",
      "metadata": {
        "colab": {
          "base_uri": "https://localhost:8080/"
        },
        "id": "D7vjrQ0y1v7u",
        "outputId": "002bf452-5a03-459c-e2a0-3ba2df920e7f"
      },
      "source": [
        "# download and unzip data\n",
        "!wget https://msmarco.blob.core.windows.net/msmarcoranking/msmarco-docdev-queries.tsv.gz\n",
        "!wget https://msmarco.blob.core.windows.net/msmarcoranking/msmarco-docdev-qrels.tsv.gz\n",
        "!gunzip msmarco-docdev-queries.tsv.gz\n",
        "!gunzip msmarco-docdev-qrels.tsv.gz\n",
        "\n",
        "# set paths to the dowloaded data as variables\n",
        "PATH_TO_MARCO_QRY = './msmarco-docdev-queries.tsv'\n",
        "PATH_TO_MARCO_REL = './msmarco-docdev-qrels.tsv'\n",
        "\n",
        "from collections import defaultdict\n",
        "import re\n",
        "import json\n",
        "import csv\n",
        "import sys\n",
        "\n",
        "# get the query file\n",
        "\n",
        "tsv_file = open(PATH_TO_MARCO_QRY)\n",
        "read_tsv = csv.reader(tsv_file, delimiter=\"\\t\")\n",
        "marco_qry_data = defaultdict(dict)\n",
        "\n",
        "for row in read_tsv:\n",
        "  marco_qry_data[int(row[0])]['question'] = row[1]\n",
        "\n",
        "tsv_file.close()\n",
        "\n",
        "# process relevance assesements \n",
        "\n",
        "tsv_file = open(PATH_TO_MARCO_REL)\n",
        "read_tsv = csv.reader(tsv_file, delimiter=\" \")\n",
        "marco_rel = defaultdict(list)\n",
        "for row in read_tsv:\n",
        "  marco_rel[int(row[0])].append(row[2])\n",
        "\n",
        "\n",
        "tsv_file.close()"
      ],
      "execution_count": 34,
      "outputs": [
        {
          "output_type": "stream",
          "text": [
            "--2020-12-06 10:23:04--  https://msmarco.blob.core.windows.net/msmarcoranking/msmarco-docdev-queries.tsv.gz\n",
            "Resolving msmarco.blob.core.windows.net (msmarco.blob.core.windows.net)... 40.112.152.16\n",
            "Connecting to msmarco.blob.core.windows.net (msmarco.blob.core.windows.net)|40.112.152.16|:443... connected.\n",
            "HTTP request sent, awaiting response... 200 OK\n",
            "Length: 91837 (90K) [application/x-gzip]\n",
            "Saving to: ‘msmarco-docdev-queries.tsv.gz’\n",
            "\n",
            "msmarco-docdev-quer 100%[===================>]  89.68K  --.-KB/s    in 0.06s   \n",
            "\n",
            "2020-12-06 10:23:04 (1.35 MB/s) - ‘msmarco-docdev-queries.tsv.gz’ saved [91837/91837]\n",
            "\n",
            "--2020-12-06 10:23:04--  https://msmarco.blob.core.windows.net/msmarcoranking/msmarco-docdev-qrels.tsv.gz\n",
            "Resolving msmarco.blob.core.windows.net (msmarco.blob.core.windows.net)... 40.112.152.16\n",
            "Connecting to msmarco.blob.core.windows.net (msmarco.blob.core.windows.net)|40.112.152.16|:443... connected.\n",
            "HTTP request sent, awaiting response... 200 OK\n",
            "Length: 38553 (38K) [application/x-gzip]\n",
            "Saving to: ‘msmarco-docdev-qrels.tsv.gz’\n",
            "\n",
            "msmarco-docdev-qrel 100%[===================>]  37.65K  --.-KB/s    in 0.02s   \n",
            "\n",
            "2020-12-06 10:23:04 (1.65 MB/s) - ‘msmarco-docdev-qrels.tsv.gz’ saved [38553/38553]\n",
            "\n",
            "gzip: msmarco-docdev-queries.tsv already exists; do you wish to overwrite (y or n)? ^C\n",
            "gzip: msmarco-docdev-qrels.tsv already exists; do you wish to overwrite (y or n)? ^C\n"
          ],
          "name": "stdout"
        }
      ]
    },
    {
      "cell_type": "markdown",
      "metadata": {
        "id": "Q0KuSIu8SYRi"
      },
      "source": [
        "### Medline Corpus\n",
        "\n",
        "You can get the corpus from [this link](http://ir.dcs.gla.ac.uk/resources/test_collections/med/).  <br>\n",
        "For detailed information about the parsing of this corpus look at [ this Notebook](https://colab.research.google.com/github/pragmalingu/experiments/blob/master/00_Data/MedlineCorpus.ipynb) or for parsing in generel read [this guide](https://pragmalingu.de/docs/guides/how-to-parse). An overview of the format of the files can be found here: [Data Sets](https://pragmalingu.de/docs/guides/data-comparison)\n",
        "\n",
        "**Data Processing**"
      ]
    },
    {
      "cell_type": "code",
      "metadata": {
        "id": "6Yo-Qv89JG4q",
        "colab": {
          "base_uri": "https://localhost:8080/"
        },
        "outputId": "c5b318bf-c847-4906-ac35-a10b4d40d7e5"
      },
      "source": [
        "# download and unzip data\n",
        "!wget http://ir.dcs.gla.ac.uk/resources/test_collections/medl/med.tar.gz\n",
        "!tar -xf med.tar.gz\n",
        "\n",
        "# set paths to the dowloaded data as variables\n",
        "PATH_TO_MED_QRY = '/content/MED.QRY'\n",
        "PATH_TO_MED_REL = '/content/MED.REL'\n",
        "\n",
        "from collections import defaultdict\n",
        "import re\n",
        "import json\n",
        "from io import StringIO\n",
        "import numpy as np\n",
        "\n",
        "med_index = \"medline-corpus\"\n",
        "\n",
        "# get query files\n",
        "\n",
        "ID_marker = re.compile('\\.I')\n",
        "\n",
        "def get_data(PATH_TO_FILE, marker):\n",
        "  \"\"\"\n",
        "  Reads file and spilts text into entries at the ID marker '.I'.\n",
        "  First entry is empty, so it's removed.\n",
        "  'marker' contains the regex at which we want to split\n",
        "  \"\"\"\n",
        "  with open (PATH_TO_FILE,'r') as f:\n",
        "    text = f.read().replace('\\n',\" \")\n",
        "    lines = re.split(marker,text)\n",
        "    lines.pop(0)\n",
        "  return lines\n",
        "\n",
        "med_qry_list = get_data(PATH_TO_MED_QRY, ID_marker)\n",
        "\n",
        "# process query files\n",
        "\n",
        "qry_chunk_start = re.compile('\\.W')\n",
        "\n",
        "med_qry_data = defaultdict(dict)\n",
        "\n",
        "def fill_dictionary(dictionary, chunk_list, marker, key_name):\n",
        "  for n in range(0,len(chunk_list)-1):\n",
        "    line = chunk_list[n+1]\n",
        "    _ , chunk = re.split(marker,line)\n",
        "    dictionary[n+1][key_name] = chunk.strip()\n",
        "\n",
        "fill_dictionary(med_qry_data, med_qry_list, qry_chunk_start, 'question')\n",
        "\n",
        "# process relevance assesments with rating\n",
        "\n",
        "med_rel_data = open(PATH_TO_MED_REL)\n",
        "med_np = np.loadtxt(med_rel_data, dtype=int)\n",
        "\n",
        "med_rel_rat = defaultdict(list)\n",
        "for row in med_np:\n",
        "  med_rel_rat[row[0]].append(row[2])\n",
        "\n",
        "# process relevance assesments without rating\n",
        "med_rel = defaultdict(list)\n",
        "\n",
        "with open (PATH_TO_MED_REL,'r') as f:\n",
        "  for line in f:\n",
        "    line = re.split(' ',line)\n",
        "    med_rel[int(line[0])].append(line[2])"
      ],
      "execution_count": 35,
      "outputs": [
        {
          "output_type": "stream",
          "text": [
            "--2020-12-06 10:37:39--  http://ir.dcs.gla.ac.uk/resources/test_collections/medl/med.tar.gz\n",
            "Resolving ir.dcs.gla.ac.uk (ir.dcs.gla.ac.uk)... 130.209.240.253\n",
            "Connecting to ir.dcs.gla.ac.uk (ir.dcs.gla.ac.uk)|130.209.240.253|:80... connected.\n",
            "HTTP request sent, awaiting response... 200 OK\n",
            "Length: 375183 (366K) [application/gzip]\n",
            "Saving to: ‘med.tar.gz.1’\n",
            "\n",
            "med.tar.gz.1        100%[===================>] 366.39K   650KB/s    in 0.6s    \n",
            "\n",
            "2020-12-06 10:37:40 (650 KB/s) - ‘med.tar.gz.1’ saved [375183/375183]\n",
            "\n"
          ],
          "name": "stdout"
        }
      ]
    },
    {
      "cell_type": "markdown",
      "metadata": {
        "id": "EXbsI4B_34QH"
      },
      "source": [
        "### NPL Corpus\n",
        "\n",
        "You can get the corpus from [this link](http://ir.dcs.gla.ac.uk/resources/test_collections/npl/).  <br>\n",
        "For detailed information about the parsing of this corpus look at [ this Notebook](https://colab.research.google.com/github/pragmalingu/experiments/blob/master/00_Data/NPLCorpus.ipynb) or for parsing in generel read [this guide](https://pragmalingu.de/docs/guides/how-to-parse). An overview of the format of the files can be found here: [Data Sets](https://pragmalingu.de/docs/guides/data-comparison)\n",
        "\n",
        "**Data Processing**"
      ]
    },
    {
      "cell_type": "code",
      "metadata": {
        "id": "FAcUrS6w34QS",
        "colab": {
          "base_uri": "https://localhost:8080/"
        },
        "outputId": "bfd99697-3fd0-4887-e4b6-6100854acd3b"
      },
      "source": [
        "# download and unzip data\n",
        "\n",
        "!wget http://ir.dcs.gla.ac.uk/resources/test_collections/npl/npl.tar.gz\n",
        "!tar -xf npl.tar.gz\n",
        "\n",
        "# set paths to the dowloaded data as variablesDownload and unzip data.\n",
        "\n",
        "PATH_TO_NPL_QRY = '/content/query-text'\n",
        "PATH_TO_NPL_REL = '/content/rlv-ass'\n",
        "\n",
        "from collections import defaultdict\n",
        "import re\n",
        "import json\n",
        "from io import StringIO\n",
        "import numpy as np\n",
        "import os\n",
        "\n",
        "npl_index = \"npl-corpus\"\n",
        "\n",
        "# get the query and rel files\n",
        "\n",
        "qry_entry_marker = re.compile('\\n/\\n')\n",
        "rel_entry_marker = re.compile('\\n   /\\n')\n",
        "\n",
        "def get_data(PATH_TO_FILES, marker):\n",
        "  \"\"\"\n",
        "  Reads multiple files and spilts text into entries at the entry marker.\n",
        "  The 'marker' contains the regex at which we want to split\n",
        "  Pops last element since it's empty.\n",
        "  \"\"\"\n",
        "  with open (PATH_TO_FILES,'r') as f:\n",
        "    text = f.read()\n",
        "    lines = re.split(marker,text)\n",
        "    lines.pop()\n",
        "  return lines\n",
        "\n",
        "npl_qry_list = get_data(PATH_TO_NPL_QRY, qry_entry_marker)\n",
        "npl_rel_list = get_data(PATH_TO_NPL_REL, rel_entry_marker)\n",
        "\n",
        "# process the queries\n",
        "\n",
        "npl_qry_data = defaultdict(dict)\n",
        "\n",
        "for entry in npl_qry_list:\n",
        "  splitted = entry.split('\\n')\n",
        "  splitted = list(filter(None, splitted))\n",
        "  ID = int(splitted[0])\n",
        "  question = ' '.join(map(str, splitted[1:]))\n",
        "  npl_qry_data[ID]['question'] = question\n",
        "\n",
        "# process relevance assesments\n",
        "\n",
        "npl_rel = defaultdict(list)\n",
        "\n",
        "for entry in npl_rel_list:\n",
        "  splitted = entry.replace('\\n','').split(' ')\n",
        "  splitted = list(filter(None, splitted))\n",
        "  ID = int(splitted[0])\n",
        "  npl_rel[ID].extend(splitted[1:]) "
      ],
      "execution_count": 36,
      "outputs": [
        {
          "output_type": "stream",
          "text": [
            "--2020-12-06 10:37:40--  http://ir.dcs.gla.ac.uk/resources/test_collections/npl/npl.tar.gz\n",
            "Resolving ir.dcs.gla.ac.uk (ir.dcs.gla.ac.uk)... 130.209.240.253\n",
            "Connecting to ir.dcs.gla.ac.uk (ir.dcs.gla.ac.uk)|130.209.240.253|:80... connected.\n",
            "HTTP request sent, awaiting response... 200 OK\n",
            "Length: 2125168 (2.0M) [application/gzip]\n",
            "Saving to: ‘npl.tar.gz.1’\n",
            "\n",
            "npl.tar.gz.1        100%[===================>]   2.03M  2.06MB/s    in 1.0s    \n",
            "\n",
            "2020-12-06 10:37:41 (2.06 MB/s) - ‘npl.tar.gz.1’ saved [2125168/2125168]\n",
            "\n"
          ],
          "name": "stdout"
        }
      ]
    },
    {
      "cell_type": "markdown",
      "metadata": {
        "id": "nzHvsKajyd8o"
      },
      "source": [
        "### Time Corpus\n",
        "\n",
        "You can get the corpus from [this link](http://ir.dcs.gla.ac.uk/resources/test_collections/time/).  <br>\n",
        "For detailed information about the parsing of this corpus look at [ this Notebook](https://colab.research.google.com/github/pragmalingu/experiments/blob/master/00_Data/TimeCorpus.ipynb) or for parsing in generel read [this guide](https://pragmalingu.de/docs/guides/how-to-parse). An overview of the format of the files can be found here: [Data Sets](https://pragmalingu.de/docs/guides/data-comparison)\n",
        "\n",
        "**Data Processing**"
      ]
    },
    {
      "cell_type": "code",
      "metadata": {
        "id": "JHfj2Jzbyd83",
        "colab": {
          "base_uri": "https://localhost:8080/"
        },
        "outputId": "a43f80f9-20b9-4d14-b3eb-dc4a361a5ccc"
      },
      "source": [
        "# download and unzip data\n",
        "\n",
        "!wget http://ir.dcs.gla.ac.uk/resources/test_collections/time/time.tar.gz\n",
        "!tar -xf time.tar.gz\n",
        "\n",
        "# set paths to the dowloaded data as variablesDownload and unzip data.\n",
        "\n",
        "PATH_TO_TIME_QRY = '/content/TIME.QUE'\n",
        "PATH_TO_TIME_REL = '/content/TIME.REL'\n",
        "\n",
        "from collections import defaultdict\n",
        "import re\n",
        "import json\n",
        "from io import StringIO\n",
        "import numpy as np\n",
        "import os\n",
        "\n",
        "time_index = \"time-corpus\"\n",
        "\n",
        "# get the text and query files\n",
        "\n",
        "qry_entry_marker = re.compile('\\*FIND    ')\n",
        "def get_data(PATH_TO_FILES, marker):\n",
        "  \"\"\"\n",
        "  Reads multiple files and spilts text into entries at the entry marker.\n",
        "  The 'marker' contains the regex at which we want to split\n",
        "  Pops last element since it's empty.\n",
        "  \"\"\"\n",
        "  with open (PATH_TO_FILES,'r') as f:\n",
        "    text = f.read()\n",
        "    lines = re.split(marker,text)\n",
        "    lines.pop(0)\n",
        "  return lines\n",
        "\n",
        "time_qry_list = get_data(PATH_TO_TIME_QRY, qry_entry_marker)\n",
        "\n",
        "# process query file\n",
        "\n",
        "page_split = re.compile('PAGE \\d{3}')\n",
        "\n",
        "time_qry_data = defaultdict(dict)\n",
        "qry_split = re.compile('\\n\\n ')\n",
        "\n",
        "for query in time_qry_list:\n",
        "  entries = re.split(qry_split,query)\n",
        "  time_qry_data[int(entries[0])]['question'] = entries[1]\n",
        "\n",
        "# process relevance assesments\n",
        "time_rel = defaultdict(list)\n",
        "\n",
        "rel_marker = re.compile('            \\n        ')\n",
        "rel_split = re.compile('\\n')\n",
        "\n",
        "with open (PATH_TO_TIME_REL,'r') as f:\n",
        "  for lines in f:\n",
        "    line = lines.strip().replace('   ',' ').replace('  ',' ').split(' ')\n",
        "    if len(line) > 1:\n",
        "      time_rel[int(line[0])].extend(line[1:])"
      ],
      "execution_count": 37,
      "outputs": [
        {
          "output_type": "stream",
          "text": [
            "--2020-12-06 10:37:42--  http://ir.dcs.gla.ac.uk/resources/test_collections/time/time.tar.gz\n",
            "Resolving ir.dcs.gla.ac.uk (ir.dcs.gla.ac.uk)... 130.209.240.253\n",
            "Connecting to ir.dcs.gla.ac.uk (ir.dcs.gla.ac.uk)|130.209.240.253|:80... connected.\n",
            "HTTP request sent, awaiting response... 200 OK\n",
            "Length: 627965 (613K) [application/gzip]\n",
            "Saving to: ‘time.tar.gz.1’\n",
            "\n",
            "time.tar.gz.1       100%[===================>] 613.25K   881KB/s    in 0.7s    \n",
            "\n",
            "2020-12-06 10:37:43 (881 KB/s) - ‘time.tar.gz.1’ saved [627965/627965]\n",
            "\n"
          ],
          "name": "stdout"
        }
      ]
    },
    {
      "cell_type": "markdown",
      "metadata": {
        "id": "-xNf8E2oSYOT"
      },
      "source": [
        "## Evaluation\n",
        "\n",
        "Since the data is formatted, we can now feed it to the [Elasticsearch Ranking Evaluation API](https://www.elastic.co/guide/en/elasticsearch/reference/current/search-rank-eval.html)."
      ]
    },
    {
      "cell_type": "markdown",
      "metadata": {
        "id": "CemuLaUAMHKP"
      },
      "source": [
        "### Recall\n",
        "\n",
        "In this section we only evaluate the Recall scores."
      ]
    },
    {
      "cell_type": "markdown",
      "metadata": {
        "id": "u71ZvdbWMkIe"
      },
      "source": [
        "**Multi Match Query**\n",
        "\n",
        "Here we evaluate the data with the [\"multi_match\"](https://pragmalingu.de/docs/experiments/experiment1#standard-elasticsearch) option of elastic search:"
      ]
    },
    {
      "cell_type": "code",
      "metadata": {
        "id": "pn_g9h7xMkIi"
      },
      "source": [
        "#use rank eval api, see https://elasticsearch-py.readthedocs.io/en/master/api.html?highlight=_rank_eval#elasticsearch.Elasticsearch.rank_eval \n",
        "#and https://www.elastic.co/guide/en/elasticsearch/reference/current/query-dsl-simple-query-string-query.html \n",
        "\n",
        "import json\n",
        "from collections import defaultdict\n",
        "\n",
        "adi_index = 'pragmalingu-adi-corpus'\n",
        "cacm_index = 'pragmalingu-cacm-corpus'\n",
        "cisi_index = 'pragmalingu-cisi-corpus'\n",
        "cran_index = 'pragmalingu-cranfield-corpus'\n",
        "lisa_index = 'pragmalingu-lisa-corpus'\n",
        "marco_index = 'pragmalingu-marco-corpus'\n",
        "med_index = 'pragmalingu-medline-corpus'\n",
        "npl_index = 'pragmalingu-npl-corpus'\n",
        "time_index = 'pragmalingu-time-corpus'\n",
        "\n",
        "\n",
        "#function to get normal match evaluation body \n",
        "def create_query_body_match_recall(query_dict, rel_dict, index_name):\n",
        "  \"\"\"\n",
        "  The function creates a request for every query in query_dict and rates the relevant documents with rel_dict to 1.\n",
        "  The index name has to be the same as from the documents your looking at.\n",
        "  An evaluation body for the elasticsearch ranking API is returned.\n",
        "  \"\"\"\n",
        "  eval_body = {\n",
        "      \"requests\": '',\n",
        "      \"metric\": {\n",
        "          \"recall\": {\n",
        "              \"relevant_rating_threshold\": 1,\n",
        "              \"k\": 20\n",
        "              }\n",
        "      }\n",
        "  }\n",
        "  requests = [] \n",
        "  current_request = defaultdict(lambda: defaultdict())\n",
        "  current_rel = {\"_index\": index_name, \"_id\": '', \"rating\": int}\n",
        "  for query_ID, query_txt in query_dict.items():\n",
        "    current_query = {\"query\": { \"multi_match\": { \"query\": '' , \"fields\" : [\"title\",\"text\"]}}}\n",
        "    current_query[\"query\"][\"multi_match\"][\"query\"] = query_txt['question']\n",
        "    current_request[\"id\"] = 'Query_'+str(query_ID)\n",
        "    current_request[\"request\"] = current_query.copy()\n",
        "    current_request[\"ratings\"] = [{\"_index\": index_name, \"_id\": str(el), \"rating\": 1} for el in rel_dict[query_ID]]\n",
        "    requests.append(current_request.copy())\n",
        "  eval_body[\"requests\"] = requests\n",
        "  return eval_body\n",
        "\n",
        "#function to get normal match evaluation body \n",
        "def create_query_body_match_recall(query_dict, rel_dict, index_name):\n",
        "  \"\"\"\n",
        "  The function creates a request for every query in query_dict and rates the relevant documents with rel_dict to 1.\n",
        "  The index name has to be the same as from the documents your looking at.\n",
        "  An evaluation body for the elasticsearch ranking API is returned.\n",
        "  \"\"\"\n",
        "  eval_body = {\n",
        "      \"requests\": '',\n",
        "      \"metric\": {\n",
        "          \"recall\": {\n",
        "              \"relevant_rating_threshold\": 1,\n",
        "              \"k\": 20\n",
        "              }\n",
        "      }\n",
        "  }\n",
        "  requests = [] \n",
        "  current_request = defaultdict(lambda: defaultdict())\n",
        "  current_rel = {\"_index\": index_name, \"_id\": '', \"rating\": int}\n",
        "  for query_ID, query_txt in query_dict.items():\n",
        "    current_query = {\"query\": { \"multi_match\": { \"query\": '' , \"fields\" : [\"title\",\"text\"]}}}\n",
        "    current_query[\"query\"][\"multi_match\"][\"query\"] = query_txt['question']\n",
        "    current_request[\"id\"] = 'Query_'+str(query_ID)\n",
        "    current_request[\"request\"] = current_query.copy()\n",
        "    current_request[\"ratings\"] = [{\"_index\": index_name, \"_id\": str(el), \"rating\": 1} for el in rel_dict[query_ID]]\n",
        "    requests.append(current_request.copy())\n",
        "  eval_body[\"requests\"] = requests\n",
        "  return eval_body\n",
        "\n",
        "\n",
        "#ADI\n",
        "adi_create_match_recall = create_query_body_match_recall(adi_qry_data, adi_rel, adi_index)\n",
        "adi_eval_body_match_recall = json.dumps(adi_create_match_recall)\n",
        "adi_res_match_recall = es.rank_eval(adi_eval_body_match_recall, adi_index)\n",
        "#print(json.dumps(adi_res_match_recall, indent=4, sort_keys=True))\n",
        "\n",
        "#CACM\n",
        "cacm_create_match_recall = create_query_body_match_recall(cacm_qry_data, cacm_rel, cacm_index)\n",
        "cacm_eval_body_match_recall = json.dumps(cacm_create_match_recall)\n",
        "cacm_res_match_recall = es.rank_eval(cacm_eval_body_match_recall,cacm_index)\n",
        "#print(json.dumps(cacm_res_match_recall, indent=4, sort_keys=True))\n",
        "\n",
        "#CISI\n",
        "cisi_create_match_recall = create_query_body_match_recall(cisi_qry_data, cisi_rel, cisi_index)\n",
        "cisi_eval_body_match_recall = json.dumps(cisi_create_match_recall)\n",
        "cisi_res_match_recall = es.rank_eval(cisi_eval_body_match_recall, cisi_index)\n",
        "#print(json.dumps(cisi_res_match_recall, indent=4, sort_keys=True))\n",
        "\n",
        "#Cranfield\n",
        "cran_create_match_recall = create_query_body_match_recall(cran_qry_data, cran_rel, cran_index)\n",
        "cran_eval_body_match_recall = json.dumps(cran_create_match_recall)\n",
        "cran_res_match_recall = es.rank_eval(cran_eval_body_match_recall, cran_index)\n",
        "#print(json.dumps(cran_res_match_recall, indent=4, sort_keys=True))\n",
        "\n",
        "#LISA\n",
        "lisa_create_match_recall = create_query_body_match_recall(lisa_qry_data, lisa_rel, lisa_index)\n",
        "lisa_eval_body_match_recall = json.dumps(lisa_create_match_recall)\n",
        "lisa_res_match_recall = es.rank_eval(lisa_eval_body_match_recall,lisa_index)\n",
        "#print(json.dumps(lisa_res_match_recall, indent=4, sort_keys=True))\n",
        "\n",
        "#MS MARCO\n",
        "marco_create_match_recall = create_query_body_match_recall(marco_qry_data, marco_rel, marco_index)\n",
        "marco_eval_body_match_recall = json.dumps(marco_create_match_recall)\n",
        "marco_res_match_recall = es.rank_eval(marco_eval_body_match_recall, marco_index, request_timeout=120)\n",
        "#print(json.dumps(marco_res_match_recall, indent=4, sort_keys=True))\n",
        "\n",
        "#Medline\n",
        "med_create_match_recall = create_query_body_match_recall(med_qry_data, med_rel, med_index)\n",
        "med_eval_body_match_recall = json.dumps(med_create_match_recall)\n",
        "med_res_match_recall = es.rank_eval(med_eval_body_match_recall, med_index)\n",
        "#print(json.dumps(med_res_match_recall, indent=4, sort_keys=True))\n",
        "\n",
        "#NPL\n",
        "npl_create_match_recall = create_query_body_match_recall(npl_qry_data, npl_rel, npl_index)\n",
        "npl_eval_body_match_recall = json.dumps(npl_create_match_recall)\n",
        "npl_res_match_recall = es.rank_eval(npl_eval_body_match_recall,npl_index)\n",
        "#print(json.dumps(npl_res_match_recall, indent=4, sort_keys=True))\n",
        "\n",
        "#TIME\n",
        "time_create_match_recall = create_query_body_match_recall(time_qry_data, time_rel, time_index)\n",
        "time_eval_body_match_recall = json.dumps(time_create_match_recall)\n",
        "time_res_match_recall = es.rank_eval(time_eval_body_match_recall,time_index)\n",
        "#print(json.dumps(time_res_match_recall, indent=4, sort_keys=True))"
      ],
      "execution_count": 38,
      "outputs": []
    },
    {
      "cell_type": "markdown",
      "metadata": {
        "id": "NtYZw0nXnmNd"
      },
      "source": [
        "**Stemmer Token Filter**\n",
        "\n",
        "Here we evaluate the data with the [\"stemmer token filter\"](https://pragmalingu.de/docs/experiments/experiment1#stemmer-token-filter) option of elastic search:"
      ]
    },
    {
      "cell_type": "code",
      "metadata": {
        "id": "BJGIESLqMmFv"
      },
      "source": [
        "#use rank eval api, see https://elasticsearch-py.readthedocs.io/en/master/api.html?highlight=_rank_eval#elasticsearch.Elasticsearch.rank_eval \n",
        "#and https://www.elastic.co/guide/en/elasticsearch/reference/current/search-rank-eval.html#search-rank-eval\n",
        "\n",
        "import json\n",
        "from collections import defaultdict\n",
        "\n",
        "adi_index = 'pragmalingu-stemming-adi-corpus'\n",
        "cacm_index = 'pragmalingu-stemming-cacm-corpus'\n",
        "cisi_index = 'pragmalingu-stemming-cisi-corpus'\n",
        "cran_index = 'pragmalingu-stemming-cranfield-corpus'\n",
        "lisa_index = 'pragmalingu-stemming-lisa-corpus'\n",
        "marco_index = 'pragmalingu-stemming-marco-corpus'\n",
        "med_index = 'pragmalingu-stemming-medline-corpus'\n",
        "npl_index = 'pragmalingu-stemming-npl-corpus'\n",
        "time_index = 'pragmalingu-stemming-time-corpus'\n",
        "\n",
        "#function to get normal match evaluation body \n",
        "def create_query_body_stemming_recall(query_dict, rel_dict, index_name):\n",
        "  \"\"\"\n",
        "  The function creates a request for every query in query_dict and rates the relevant documents with rel_dict to 1.\n",
        "  The index name has to be the same as from the documents your looking at.\n",
        "  An evaluation body for the elasticsearch ranking API is returned.\n",
        "  \"\"\"\n",
        "  eval_body = {\n",
        "      \"requests\":'',\n",
        "      \"metric\": {\n",
        "          \"recall\": {\n",
        "              \"k\": 20,\n",
        "              \"relevant_rating_threshold\": 1\n",
        "              }\n",
        "      }\n",
        "  }\n",
        "  requests = [] \n",
        "  current_request = defaultdict(lambda: defaultdict())\n",
        "  current_rel = {\"_index\": index_name, \"_id\": '', \"rating\": int}\n",
        "  for query_ID, query_txt in query_dict.items():\n",
        "    current_query = {\"query\": { \"multi_match\": { \"query\": '' , \"fields\" : [\"title\",\"text\"]}}}\n",
        "    current_query[\"query\"][\"multi_match\"][\"query\"] = query_txt['question']\n",
        "    current_request[\"id\"] = 'Query_'+str(query_ID)\n",
        "    current_request[\"request\"] = current_query.copy()\n",
        "    current_request[\"ratings\"] = [{\"_index\": index_name, \"_id\": str(el), \"rating\": 1} for el in rel_dict[query_ID]]\n",
        "    requests.append(current_request.copy())\n",
        "  eval_body[\"requests\"] = requests\n",
        "  return eval_body\n",
        "\n",
        "\n",
        "#ADI\n",
        "adi_create_stemming_recall = create_query_body_stemming_recall(adi_qry_data, adi_rel, adi_index)\n",
        "adi_eval_body_stemming_recall = json.dumps(adi_create_stemming_recall)\n",
        "adi_res_stemming_recall = es.rank_eval(adi_eval_body_stemming_recall, adi_index)\n",
        "#print(json.dumps(adi_res_stemming_recall, indent=4, sort_keys=True))\n",
        "\n",
        "#CACM\n",
        "cacm_create_stemming_recall = create_query_body_stemming_recall(cacm_qry_data, cacm_rel, cacm_index)\n",
        "cacm_eval_body_stemming_recall = json.dumps(cacm_create_stemming_recall)\n",
        "cacm_res_stemming_recall = es.rank_eval(cacm_eval_body_stemming_recall,cacm_index)\n",
        "#print(json.dumps(cacm_res_stemming_recall, indent=4, sort_keys=True))\n",
        "\n",
        "#CISI\n",
        "cisi_create_stemming_recall = create_query_body_stemming_recall(cisi_qry_data, cisi_rel, cisi_index)\n",
        "cisi_eval_body_stemming_recall = json.dumps(cisi_create_stemming_recall)\n",
        "cisi_res_stemming_recall = es.rank_eval(cisi_eval_body_stemming_recall, cisi_index)\n",
        "#print(json.dumps(cisi_res_stemming_recall, indent=4, sort_keys=True))\n",
        "\n",
        "#Cranfield\n",
        "cran_create_stemming_recall = create_query_body_stemming_recall(cran_qry_data, cran_rel, cran_index)\n",
        "cran_eval_body_stemming_recall = json.dumps(cran_create_stemming_recall)\n",
        "cran_res_stemming_recall = es.rank_eval(cran_eval_body_stemming_recall, cran_index)\n",
        "#print(json.dumps(cran_res_stemming_recall, indent=4, sort_keys=True))\n",
        "\n",
        "#LISA\n",
        "lisa_create_stemming_recall = create_query_body_stemming_recall(lisa_qry_data, lisa_rel, lisa_index)\n",
        "lisa_eval_body_stemming_recall = json.dumps(lisa_create_stemming_recall)\n",
        "lisa_res_stemming_recall = es.rank_eval(lisa_eval_body_stemming_recall,lisa_index)\n",
        "#print(json.dumps(lisa_res_stemming_recall, indent=4, sort_keys=True))\n",
        "\n",
        "#MS MARCO\n",
        "marco_create_stemming_recall = create_query_body_stemming_recall(marco_qry_data, marco_rel, marco_index)\n",
        "marco_eval_body_stemming_recall = json.dumps(marco_create_stemming_recall)\n",
        "marco_res_stemming_recall = es.rank_eval(marco_eval_body_stemming_recall, marco_index, request_timeout=160)\n",
        "#print(json.dumps(marco_res_stemming_recall, indent=4, sort_keys=True))\n",
        "\n",
        "#Medline\n",
        "med_create_stemming_recall = create_query_body_stemming_recall(med_qry_data, med_rel, med_index)\n",
        "med_eval_body_stemming_recall = json.dumps(med_create_stemming_recall)\n",
        "med_res_stemming_recall = es.rank_eval(med_eval_body_stemming_recall, med_index)\n",
        "#print(json.dumps(med_res_stemming_recall, indent=4, sort_keys=True))\n",
        "\n",
        "#NPL\n",
        "npl_create_stemming_recall = create_query_body_stemming_recall(npl_qry_data, npl_rel, npl_index)\n",
        "npl_eval_body_stemming_recall = json.dumps(npl_create_stemming_recall)\n",
        "npl_res_stemming_recall = es.rank_eval(npl_eval_body_stemming_recall,npl_index)\n",
        "#print(json.dumps(npl_res_stemming_recall, indent=4, sort_keys=True))\n",
        "\n",
        "#TIME\n",
        "time_create_stemming_recall = create_query_body_stemming_recall(time_qry_data, time_rel, time_index)\n",
        "time_eval_body_stemming_recall = json.dumps(time_create_stemming_recall)\n",
        "time_res_stemming_recall = es.rank_eval(time_eval_body_stemming_recall,time_index)\n",
        "#print(json.dumps(time_res_stemming_recallime_res, indent=4, sort_keys=True))"
      ],
      "execution_count": 39,
      "outputs": []
    },
    {
      "cell_type": "markdown",
      "metadata": {
        "id": "keSi-TDWnxmF"
      },
      "source": [
        "**Hunspell Token Filter**\n",
        "\n",
        "Here we evaluate the data with the [\"hunspell token filter\"](https://pragmalingu.de/docs/experiments/experiment1#hunspell-token-filter) option of elastic search:"
      ]
    },
    {
      "cell_type": "code",
      "metadata": {
        "id": "Vijm2d9Uwou2"
      },
      "source": [
        "#use rank eval api, see https://elasticsearch-py.readthedocs.io/en/master/api.html?highlight=_rank_eval#elasticsearch.Elasticsearch.rank_eval \n",
        "#and https://www.elastic.co/guide/en/elasticsearch/reference/current/search-rank-eval.html#search-rank-eval\n",
        "\n",
        "import json\n",
        "from collections import defaultdict\n",
        "\n",
        "adi_index = 'pragmalingu-hunspell-adi-corpus'\n",
        "cacm_index = 'pragmalingu-hunspell-cacm-corpus'\n",
        "cisi_index = 'pragmalingu-hunspell-cisi-corpus'\n",
        "cran_index = 'pragmalingu-hunspell-cranfield-corpus'\n",
        "lisa_index = 'pragmalingu-hunspell-lisa-corpus'\n",
        "marco_index = 'pragmalingu-hunspell-marco-corpus'\n",
        "med_index = 'pragmalingu-hunspell-medline-corpus'\n",
        "npl_index = 'pragmalingu-hunspell-npl-corpus'\n",
        "time_index = 'pragmalingu-hunspell-time-corpus'\n",
        "\n",
        "#function to get normal match evaluation body \n",
        "def create_query_body_hunspell_recall(query_dict, rel_dict, index_name):\n",
        "  \"\"\"\n",
        "  The function creates a request for every query in query_dict and rates the relevant documents with rel_dict to 1.\n",
        "  The index name has to be the same as from the documents your looking at.\n",
        "  An evaluation body for the elasticsearch ranking API is returned.\n",
        "  \"\"\"\n",
        "  eval_body = {\n",
        "      \"requests\":'',\n",
        "      \"metric\": {\n",
        "          \"recall\": {\n",
        "              \"k\": 20,\n",
        "              \"relevant_rating_threshold\": 1\n",
        "              }\n",
        "      }\n",
        "  }\n",
        "  requests = [] \n",
        "  current_request = defaultdict(lambda: defaultdict())\n",
        "  current_rel = {\"_index\": index_name, \"_id\": '', \"rating\": int}\n",
        "  for query_ID, query_txt in query_dict.items():\n",
        "    current_query = {\"query\": { \"multi_match\": { \"query\": '' , \"fields\" : [\"title\",\"text\"]}}}\n",
        "    current_query[\"query\"][\"multi_match\"][\"query\"] = query_txt['question']\n",
        "    current_request[\"id\"] = 'Query_'+str(query_ID)\n",
        "    current_request[\"request\"] = current_query.copy()\n",
        "    current_request[\"ratings\"] = [{\"_index\": index_name, \"_id\": str(el), \"rating\": 1} for el in rel_dict[query_ID]]\n",
        "    requests.append(current_request.copy())\n",
        "  eval_body[\"requests\"] = requests\n",
        "  return eval_body\n",
        "\n",
        "#ADI\n",
        "adi_create_hunspell_recall = create_query_body_hunspell_recall(adi_qry_data, adi_rel, adi_index)\n",
        "adi_eval_body_hunspell_recall = json.dumps(adi_create_hunspell_recall)\n",
        "adi_res_hunspell_recall = es.rank_eval(adi_eval_body_hunspell_recall, adi_index)\n",
        "#print(json.dumps(adi_res_hunspell_recall, indent=4, sort_keys=True))\n",
        "\n",
        "#CACM\n",
        "cacm_create_hunspell_recall = create_query_body_hunspell_recall(cacm_qry_data, cacm_rel, cacm_index)\n",
        "cacm_eval_body_hunspell_recall = json.dumps(cacm_create_hunspell_recall)\n",
        "cacm_res_hunspell_recall = es.rank_eval(cacm_eval_body_hunspell_recall,cacm_index)\n",
        "#print(json.dumps(cacm_res_hunspell_recall, indent=4, sort_keys=True))\n",
        "\n",
        "#CISI\n",
        "cisi_create_hunspell_recall = create_query_body_hunspell_recall(cisi_qry_data, cisi_rel, cisi_index)\n",
        "cisi_eval_body_hunspell_recall = json.dumps(cisi_create_hunspell_recall)\n",
        "cisi_res_hunspell_recall = es.rank_eval(cisi_eval_body_hunspell_recall, cisi_index)\n",
        "#print(json.dumps(cisi_res_hunspell_recall, indent=4, sort_keys=True))\n",
        "\n",
        "#Cranfield\n",
        "cran_create_hunspell_recall = create_query_body_hunspell_recall(cran_qry_data, cran_rel, cran_index)\n",
        "cran_eval_body_hunspell_recall = json.dumps(cran_create_hunspell_recall)\n",
        "cran_res_hunspell_recall = es.rank_eval(cran_eval_body_hunspell_recall, cran_index)\n",
        "#print(json.dumps(cran_res_hunspell_recall, indent=4, sort_keys=True))\n",
        "\n",
        "#LISA\n",
        "lisa_create_hunspell_recall = create_query_body_hunspell_recall(lisa_qry_data, lisa_rel, lisa_index)\n",
        "lisa_eval_body_hunspell_recall = json.dumps(lisa_create_hunspell_recall)\n",
        "lisa_res_hunspell_recall = es.rank_eval(lisa_eval_body_hunspell_recall,lisa_index)\n",
        "#print(json.dumps(lisa_res_hunspell_recall, indent=4, sort_keys=True))\n",
        "\n",
        "#MS MARCO\n",
        "marco_create_hunspell_recall = create_query_body_hunspell_recall(marco_qry_data, marco_rel, marco_index)\n",
        "marco_eval_body_hunspell_recall = json.dumps(marco_create_hunspell_recall)\n",
        "marco_res_hunspell_recall = es.rank_eval(marco_eval_body_hunspell_recall, marco_index, request_timeout=180)\n",
        "#print(json.dumps(marco_res_hunspell_recall, indent=4, sort_keys=True))\n",
        "\n",
        "#Medline\n",
        "med_create_hunspell_recall = create_query_body_hunspell_recall(med_qry_data, med_rel, med_index)\n",
        "med_eval_body_hunspell_recall = json.dumps(med_create_hunspell_recall)\n",
        "med_res_hunspell_recall = es.rank_eval(med_eval_body_hunspell_recall, med_index)\n",
        "#print(json.dumps(med_res_hunspell_recall, indent=4, sort_keys=True))\n",
        "\n",
        "#NPL\n",
        "npl_create_hunspell_recall = create_query_body_hunspell_recall(npl_qry_data, npl_rel, npl_index)\n",
        "npl_eval_body_hunspell_recall = json.dumps(npl_create_hunspell_recall)\n",
        "npl_res_hunspell_recall = es.rank_eval(npl_eval_body_hunspell_recall,npl_index)\n",
        "#print(json.dumps(npl_res_hunspell_recall, indent=4, sort_keys=True))\n",
        "\n",
        "#TIME\n",
        "time_create_hunspell_recall = create_query_body_hunspell_recall(time_qry_data, time_rel, time_index)\n",
        "time_eval_body_hunspell_recall = json.dumps(time_create_hunspell_recall)\n",
        "time_res_hunspell_recall = es.rank_eval(time_eval_body_hunspell_recall,time_index)\n",
        "#print(json.dumps(time_res_hunspell_recall, indent=4, sort_keys=True))"
      ],
      "execution_count": 40,
      "outputs": []
    },
    {
      "cell_type": "markdown",
      "metadata": {
        "id": "kuHz0wJvFBzW"
      },
      "source": [
        "### Precision\n",
        "\n",
        "In this section we only evaluate the Precision scores."
      ]
    },
    {
      "cell_type": "markdown",
      "metadata": {
        "id": "8O7GlO_peURs"
      },
      "source": [
        "**Multi Match Query**\n",
        "\n",
        "Here we evaluate the data with the [\"multi_match\"](https://pragmalingu.de/docs/experiments/experiment1#standard-elasticsearch) option of elastic search:"
      ]
    },
    {
      "cell_type": "code",
      "metadata": {
        "id": "0zkCGwJ6k3ae"
      },
      "source": [
        "#use rank eval api, see https://elasticsearch-py.readthedocs.io/en/master/api.html?highlight=_rank_eval#elasticsearch.Elasticsearch.rank_eval \n",
        "#and https://www.elastic.co/guide/en/elasticsearch/reference/current/search-rank-eval.html#search-rank-eval\n",
        "\n",
        "from collections import defaultdict\n",
        "\n",
        "adi_index = 'pragmalingu-adi-corpus'\n",
        "cacm_index = 'pragmalingu-cacm-corpus'\n",
        "cisi_index = 'pragmalingu-cisi-corpus'\n",
        "cran_index = 'pragmalingu-cranfield-corpus'\n",
        "lisa_index = 'pragmalingu-lisa-corpus'\n",
        "marco_index = 'pragmalingu-marco-corpus'\n",
        "med_index = 'pragmalingu-medline-corpus'\n",
        "npl_index = 'pragmalingu-npl-corpus'\n",
        "time_index = 'pragmalingu-time-corpus'\n",
        "\n",
        "# function to get normal match evaluation body \n",
        "\n",
        "def create_query_body_match_precision(query_dict, rel_dict, index_name):\n",
        "  \"\"\"\n",
        "  The function creates a request for every query in query_dict and rates the relevant documents with rel_dict to 1.\n",
        "  The index name has to be the same as from the documents your looking at.\n",
        "  An evaluation body for the elasticsearch ranking API is returned.\n",
        "  \"\"\"\n",
        "  eval_body = {\n",
        "      \"requests\":'',\n",
        "      \"metric\": {\n",
        "          \"precision\": {\n",
        "              \"k\": 20,\n",
        "              \"relevant_rating_threshold\": 1\n",
        "              }\n",
        "      }\n",
        "  }\n",
        "  requests = [] \n",
        "  current_request = defaultdict(lambda: defaultdict())\n",
        "  current_rel = {\"_index\": index_name, \"_id\": '', \"rating\": int}\n",
        "  for query_ID, query_txt in query_dict.items():\n",
        "    current_query = {\"query\": { \"multi_match\": { \"query\": '' , \"fields\" : [\"title\",\"text\"]}}}\n",
        "    current_query[\"query\"][\"multi_match\"][\"query\"] = query_txt['question']\n",
        "    current_request[\"id\"] = 'Query_'+str(query_ID)\n",
        "    current_request[\"request\"] = current_query.copy()\n",
        "    current_request[\"ratings\"] = [{\"_index\": index_name, \"_id\": str(el), \"rating\": 1} for el in rel_dict[query_ID]]\n",
        "    requests.append(current_request.copy())\n",
        "  eval_body[\"requests\"] = requests\n",
        "  return eval_body\n",
        "\n",
        "#ADI\n",
        "adi_create_match_precision = create_query_body_match_precision(adi_qry_data, adi_rel, adi_index)\n",
        "adi_eval_body_match_precision = json.dumps(adi_create_match_precision)\n",
        "adi_res_match_precision = es.rank_eval(adi_eval_body_match_precision, adi_index)\n",
        "#print(json.dumps(adi_res_match_precision, indent=4, sort_keys=True))\n",
        "\n",
        "#CACM\n",
        "cacm_create_match_precision = create_query_body_match_precision(cacm_qry_data, cacm_rel, cacm_index)\n",
        "cacm_eval_body_match_precision = json.dumps(cacm_create_match_precision)\n",
        "cacm_res_match_precision = es.rank_eval(cacm_eval_body_match_precision,cacm_index)\n",
        "#print(json.dumps(cacm_res_match_precision, indent=4, sort_keys=True))\n",
        "\n",
        "#CISI\n",
        "cisi_create_match_precision = create_query_body_match_precision(cisi_qry_data, cisi_rel, cisi_index)\n",
        "cisi_eval_body_match_precision = json.dumps(cisi_create_match_precision)\n",
        "cisi_res_match_precision = es.rank_eval(cisi_eval_body_match_precision, cisi_index)\n",
        "#print(json.dumps(cisi_res_match_precision, indent=4, sort_keys=True))\n",
        "\n",
        "#Cranfield\n",
        "cran_create_match_precision = create_query_body_match_precision(cran_qry_data, cran_rel, cran_index)\n",
        "cran_eval_body_match_precision = json.dumps(cran_create_match_precision)\n",
        "cran_res_match_precision = es.rank_eval(cran_eval_body_match_precision, cran_index)\n",
        "#print(json.dumps(cran_res_match_precision, indent=4, sort_keys=True))\n",
        "\n",
        "#LISA\n",
        "lisa_create_match_precision = create_query_body_match_precision(lisa_qry_data, lisa_rel, lisa_index)\n",
        "lisa_eval_body_match_precision = json.dumps(lisa_create_match_precision)\n",
        "lisa_res_match_precision = es.rank_eval(lisa_eval_body_match_precision,lisa_index)\n",
        "#print(json.dumps(lisa_res_match_precision, indent=4, sort_keys=True))\n",
        "\n",
        "#MS MARCO\n",
        "marco_create_match_precision = create_query_body_match_precision(marco_qry_data, marco_rel, marco_index)\n",
        "marco_eval_body_match_precision = json.dumps(marco_create_match_precision)\n",
        "marco_res_match_precision = es.rank_eval(marco_eval_body_match_precision, marco_index, request_timeout=120)\n",
        "#print(json.dumps(marco_res_match_precision, indent=4, sort_keys=True))\n",
        "\n",
        "#Medline\n",
        "med_create_match_precision = create_query_body_match_precision(med_qry_data, med_rel, med_index)\n",
        "med_eval_body_match_precision = json.dumps(med_create_match_precision)\n",
        "med_res_match_precision = es.rank_eval(med_eval_body_match_precision, med_index)\n",
        "#print(json.dumps(med_res_match_precision, indent=4, sort_keys=True))\n",
        "\n",
        "#NPL\n",
        "npl_create_match_precision = create_query_body_match_precision(npl_qry_data, npl_rel, npl_index)\n",
        "npl_eval_body_match_precision = json.dumps(npl_create_match_precision)\n",
        "npl_res_match_precision = es.rank_eval(npl_eval_body_match_precision,npl_index)\n",
        "#print(json.dumps(npl_res_match_precision, indent=4, sort_keys=True))\n",
        "\n",
        "#TIME\n",
        "time_create_match_precision = create_query_body_match_precision(time_qry_data, time_rel, time_index)\n",
        "time_eval_body_match_precision = json.dumps(time_create_match_precision)\n",
        "time_res_match_precision = es.rank_eval(time_eval_body_match_precision,time_index)\n",
        "#print(json.dumps(time_res_match_precision, indent=4, sort_keys=True))"
      ],
      "execution_count": 41,
      "outputs": []
    },
    {
      "cell_type": "markdown",
      "metadata": {
        "id": "j7eIIRaFeXNE"
      },
      "source": [
        "**Stemmer Token Filter**\n",
        "\n",
        "Here we evaluate the data with the [\"stemmer token filter\"](https://pragmalingu.de/docs/experiments/experiment1#stemmer-token-filter) option of elastic search:"
      ]
    },
    {
      "cell_type": "code",
      "metadata": {
        "id": "Q7Wrv15xsBsN"
      },
      "source": [
        "#use rank eval api, see https://elasticsearch-py.readthedocs.io/en/master/api.html?highlight=_rank_eval#elasticsearch.Elasticsearch.rank_eval \n",
        "#and https://www.elastic.co/guide/en/elasticsearch/reference/current/search-rank-eval.html#search-rank-eval\n",
        "\n",
        "from collections import defaultdict\n",
        "\n",
        "adi_index = 'pragmalingu-stemming-adi-corpus'\n",
        "cacm_index = 'pragmalingu-stemming-cacm-corpus'\n",
        "cisi_index = 'pragmalingu-stemming-cisi-corpus'\n",
        "cran_index = 'pragmalingu-stemming-cranfield-corpus'\n",
        "lisa_index = 'pragmalingu-stemming-lisa-corpus'\n",
        "marco_index = 'pragmalingu-stemming-marco-corpus'\n",
        "med_index = 'pragmalingu-stemming-medline-corpus'\n",
        "npl_index = 'pragmalingu-stemming-npl-corpus'\n",
        "time_index = 'pragmalingu-stemming-time-corpus'\n",
        "\n",
        "#function to get normal match evaluation body \n",
        "\n",
        "def create_query_body_stemming_precision(query_dict, rel_dict, index_name):\n",
        "  \"\"\"\n",
        "  The function creates a request for every query in query_dict and rates the relevant documents with rel_dict to 1.\n",
        "  The index name has to be the same as from the documents your looking at.\n",
        "  An evaluation body for the elasticsearch ranking API is returned.\n",
        "  \"\"\"\n",
        "  eval_body = {\n",
        "      \"requests\":'',\n",
        "      \"metric\": {\n",
        "          \"precision\": {\n",
        "              \"k\": 20,\n",
        "              \"relevant_rating_threshold\": 1\n",
        "              }\n",
        "      }\n",
        "  }\n",
        "  requests = [] \n",
        "  current_request = defaultdict(lambda: defaultdict())\n",
        "  current_rel = {\"_index\": index_name, \"_id\": '', \"rating\": int}\n",
        "  for query_ID, query_txt in query_dict.items():\n",
        "    current_query = {\"query\": { \"multi_match\": { \"query\": '' , \"fields\" : [\"title\",\"text\"]}}}\n",
        "    current_query[\"query\"][\"multi_match\"][\"query\"] = query_txt['question']\n",
        "    current_request[\"id\"] = 'Query_'+str(query_ID)\n",
        "    current_request[\"request\"] = current_query.copy()\n",
        "    current_request[\"ratings\"] = [{\"_index\": index_name, \"_id\": str(el), \"rating\": 1} for el in rel_dict[query_ID]]\n",
        "    requests.append(current_request.copy())\n",
        "  eval_body[\"requests\"] = requests\n",
        "  return eval_body\n",
        "\n",
        "#ADI\n",
        "adi_create_stemming_precision = create_query_body_stemming_precision(adi_qry_data, adi_rel, adi_index)\n",
        "adi_eval_body_stemming_precision = json.dumps(adi_create_stemming_precision)\n",
        "adi_res_stemming_precision = es.rank_eval(adi_eval_body_stemming_precision, adi_index)\n",
        "#print(json.dumps(adi_res_stemming_precision, indent=4, sort_keys=True))\n",
        "\n",
        "#CACM\n",
        "cacm_create_stemming_precision = create_query_body_stemming_precision(cacm_qry_data, cacm_rel, cacm_index)\n",
        "cacm_eval_body_stemming_precision = json.dumps(cacm_create_stemming_precision)\n",
        "cacm_res_stemming_precision = es.rank_eval(cacm_eval_body_stemming_precision,cacm_index)\n",
        "#print(json.dumps(cacm_res_stemming_precision, indent=4, sort_keys=True))\n",
        "\n",
        "#CISI\n",
        "cisi_create_stemming_precision = create_query_body_stemming_precision(cisi_qry_data, cisi_rel, cisi_index)\n",
        "cisi_eval_body_stemming_precision = json.dumps(cisi_create_stemming_precision)\n",
        "cisi_res_stemming_precision = es.rank_eval(cisi_eval_body_stemming_precision, cisi_index)\n",
        "#print(json.dumps(cisi_res_stemming_precision, indent=4, sort_keys=True))\n",
        "\n",
        "#Cranfield\n",
        "cran_create_stemming_precision = create_query_body_stemming_precision(cran_qry_data, cran_rel, cran_index)\n",
        "cran_eval_body_stemming_precision = json.dumps(cran_create_stemming_precision)\n",
        "cran_res_stemming_precision = es.rank_eval(cran_eval_body_stemming_precision, cran_index)\n",
        "#print(json.dumps(cran_res_stemming_precision, indent=4, sort_keys=True))\n",
        "\n",
        "#LISA\n",
        "lisa_create_stemming_precision = create_query_body_stemming_precision(lisa_qry_data, lisa_rel, lisa_index)\n",
        "lisa_eval_body_stemming_precision = json.dumps(lisa_create_stemming_precision)\n",
        "lisa_res_stemming_precision = es.rank_eval(lisa_eval_body_stemming_precision,lisa_index)\n",
        "#print(json.dumps(lisa_res_stemming_precision, indent=4, sort_keys=True))\n",
        "\n",
        "#MS MARCO\n",
        "marco_create_stemming_precision = create_query_body_stemming_precision(marco_qry_data, marco_rel, marco_index)\n",
        "marco_eval_body_stemming_precision = json.dumps(marco_create_stemming_precision)\n",
        "marco_res_stemming_precision = es.rank_eval(marco_eval_body_stemming_precision, marco_index, request_timeout=160)\n",
        "#print(json.dumps(marco_res_stemming_precision, indent=4, sort_keys=True))\n",
        "\n",
        "#Medline\n",
        "med_create_stemming_precision = create_query_body_stemming_precision(med_qry_data, med_rel, med_index)\n",
        "med_eval_body_stemming_precision = json.dumps(med_create_stemming_precision)\n",
        "med_res_stemming_precision = es.rank_eval(med_eval_body_stemming_precision, med_index)\n",
        "#print(json.dumps(med_res_stemming_precision, indent=4, sort_keys=True))\n",
        "\n",
        "#NPL\n",
        "npl_create_stemming_precision = create_query_body_stemming_precision(npl_qry_data, npl_rel, npl_index)\n",
        "npl_eval_body_stemming_precision= json.dumps(npl_create_stemming_precision)\n",
        "npl_res_stemming_precision = es.rank_eval(npl_eval_body_stemming_precision,npl_index)\n",
        "#print(json.dumps(npl_res_stemming_precision, indent=4, sort_keys=True))\n",
        "\n",
        "#TIME\n",
        "time_create_stemming_precision = create_query_body_stemming_precision(time_qry_data, time_rel, time_index)\n",
        "time_eval_body_stemming_precision = json.dumps(time_create_stemming_precision)\n",
        "time_res_stemming_precision = es.rank_eval(time_eval_body_stemming_precision,time_index)\n",
        "#print(json.dumps(time_res_stemming_precision, indent=4, sort_keys=True))"
      ],
      "execution_count": 42,
      "outputs": []
    },
    {
      "cell_type": "markdown",
      "metadata": {
        "id": "5nOOQ625ea87"
      },
      "source": [
        "**Hunspell Token Filter**\n",
        "\n",
        "Here we evaluate the data with the [\"hunspell token filter\"](https://pragmalingu.de/docs/experiments/experiment1#hunspell-token-filter) option of elastic search:"
      ]
    },
    {
      "cell_type": "code",
      "metadata": {
        "id": "akigfsYR4-NL"
      },
      "source": [
        "#use rank eval api, see https://elasticsearch-py.readthedocs.io/en/master/api.html?highlight=_rank_eval#elasticsearch.Elasticsearch.rank_eval \n",
        "#and https://www.elastic.co/guide/en/elasticsearch/reference/current/search-rank-eval.html#search-rank-eval\n",
        "\n",
        "from collections import defaultdict\n",
        "\n",
        "adi_index = 'pragmalingu-hunspell-adi-corpus'\n",
        "cacm_index = 'pragmalingu-hunspell-cacm-corpus'\n",
        "cisi_index = 'pragmalingu-hunspell-cisi-corpus'\n",
        "cran_index = 'pragmalingu-hunspell-cranfield-corpus'\n",
        "lisa_index = 'pragmalingu-hunspell-lisa-corpus'\n",
        "marco_index = 'pragmalingu-hunspell-marco-corpus'\n",
        "med_index = 'pragmalingu-hunspell-medline-corpus'\n",
        "npl_index = 'pragmalingu-hunspell-npl-corpus'\n",
        "time_index = 'pragmalingu-hunspell-time-corpus'\n",
        "\n",
        "\n",
        "#function to get normal match evaluation body \n",
        "\n",
        "def create_query_body_hunspell_precision(query_dict, rel_dict, index_name):\n",
        "  \"\"\"\n",
        "  The function creates a request for every query in query_dict and rates the relevant documents with rel_dict to 1.\n",
        "  The index name has to be the same as from the documents your looking at.\n",
        "  An evaluation body for the elasticsearch ranking API is returned.\n",
        "  \"\"\"\n",
        "  eval_body = {\n",
        "      \"requests\":'',\n",
        "      \"metric\": {\n",
        "          \"precision\": {\n",
        "              \"k\": 20,\n",
        "              \"relevant_rating_threshold\": 1\n",
        "              }\n",
        "      }\n",
        "  }\n",
        "  requests = [] \n",
        "  current_request = defaultdict(lambda: defaultdict())\n",
        "  current_rel = {\"_index\": index_name, \"_id\": '', \"rating\": int}\n",
        "  for query_ID, query_txt in query_dict.items():\n",
        "    current_query = {\"query\": { \"multi_match\": { \"query\": '' , \"fields\" : [\"title\",\"text\"]}}}\n",
        "    current_query[\"query\"][\"multi_match\"][\"query\"] = query_txt['question']\n",
        "    current_request[\"id\"] = 'Query_'+str(query_ID)\n",
        "    current_request[\"request\"] = current_query.copy()\n",
        "    current_request[\"ratings\"] = [{\"_index\": index_name, \"_id\": str(el), \"rating\": 1} for el in rel_dict[query_ID]]\n",
        "    requests.append(current_request.copy())\n",
        "  eval_body[\"requests\"] = requests\n",
        "  return eval_body\n",
        "\n",
        "\n",
        "#ADI\n",
        "adi_create_hunspell_precision = create_query_body_hunspell_precision(adi_qry_data, adi_rel, adi_index)\n",
        "adi_eval_body_hunspell_precision = json.dumps(adi_create_hunspell_precision)\n",
        "adi_res_hunspell_precision = es.rank_eval(adi_eval_body_hunspell_precision, adi_index)\n",
        "#print(json.dumps(adi_res_hunspell_precision, indent=4, sort_keys=True))\n",
        "\n",
        "#CACM\n",
        "cacm_create_hunspell_precision = create_query_body_hunspell_precision(cacm_qry_data, cacm_rel, cacm_index)\n",
        "cacm_eval_body_hunspell_precision = json.dumps(cacm_create_hunspell_precision)\n",
        "cacm_res_hunspell_precision = es.rank_eval(cacm_eval_body_hunspell_precision,cacm_index)\n",
        "#print(json.dumps(cacm_res_hunspell_precision, indent=4, sort_keys=True))\n",
        "\n",
        "#CISI\n",
        "cisi_create_hunspell_precision = create_query_body_hunspell_precision(cisi_qry_data, cisi_rel, cisi_index)\n",
        "cisi_eval_body_hunspell_precision = json.dumps(cisi_create_hunspell_precision)\n",
        "cisi_res_hunspell_precision = es.rank_eval(cisi_eval_body_hunspell_precision, cisi_index)\n",
        "#print(json.dumps(cisi_res_hunspell_precision, indent=4, sort_keys=True))\n",
        "\n",
        "#Cranfield\n",
        "cran_create_hunspell_precision = create_query_body_hunspell_precision(cran_qry_data, cran_rel, cran_index)\n",
        "cran_eval_body_hunspell_precision = json.dumps(cran_create_hunspell_precision)\n",
        "cran_res_hunspell_precision = es.rank_eval(cran_eval_body_hunspell_precision, cran_index)\n",
        "#print(json.dumps(cran_res_hunspell_precision, indent=4, sort_keys=True))\n",
        "\n",
        "#LISA\n",
        "lisa_create_hunspell_precision = create_query_body_hunspell_precision(lisa_qry_data, lisa_rel, lisa_index)\n",
        "lisa_eval_body_hunspell_precision = json.dumps(lisa_create_hunspell_precision)\n",
        "lisa_res_hunspell_precision = es.rank_eval(lisa_eval_body_hunspell_precision,lisa_index)\n",
        "#print(json.dumps(lisa_res_hunspell_precision, indent=4, sort_keys=True))\n",
        "\n",
        "#MS MARCO\n",
        "marco_create_hunspell_precision = create_query_body_hunspell_precision(marco_qry_data, marco_rel, marco_index)\n",
        "marco_eval_body_hunspell_precision = json.dumps(marco_create_hunspell_precision)\n",
        "marco_res_hunspell_precision = es.rank_eval(marco_eval_body_hunspell_precision, marco_index, request_timeout=180)\n",
        "#print(json.dumps(marco_res_hunspell_precision, indent=4, sort_keys=True))\n",
        "\n",
        "#Medline\n",
        "med_create_hunspell_precision = create_query_body_hunspell_precision(med_qry_data, med_rel, med_index)\n",
        "med_eval_body_hunspell_precision = json.dumps(med_create_hunspell_precision)\n",
        "med_res_hunspell_precision = es.rank_eval(med_eval_body_hunspell_precision, med_index)\n",
        "#print(json.dumps(med_res_hunspell_precision, indent=4, sort_keys=True))\n",
        "\n",
        "#NPL\n",
        "npl_create_hunspell_precision = create_query_body_hunspell_precision(npl_qry_data, npl_rel, npl_index)\n",
        "npl_eval_body_hunspell_precision= json.dumps(npl_create_hunspell_precision)\n",
        "npl_res_hunspell_precision = es.rank_eval(npl_eval_body_hunspell_precision,npl_index)\n",
        "#print(json.dumps(npl_res_hunspell_precision, indent=4, sort_keys=True))\n",
        "\n",
        "#TIME\n",
        "time_create_hunspell_precision = create_query_body_hunspell_precision(time_qry_data, time_rel, time_index)\n",
        "time_eval_body_hunspell_precision = json.dumps(time_create_hunspell_precision)\n",
        "time_res_hunspell_precision = es.rank_eval(time_eval_body_hunspell_precision,time_index)\n",
        "#print(json.dumps(time_res_hunspell_precision, indent=4, sort_keys=True))"
      ],
      "execution_count": 43,
      "outputs": []
    },
    {
      "cell_type": "markdown",
      "metadata": {
        "id": "gpKrbKC7TDxu"
      },
      "source": [
        "## Visualisation\n",
        "\n",
        "The last step is to visualize the data so we can analyze the differences:"
      ]
    },
    {
      "cell_type": "markdown",
      "metadata": {
        "id": "3GI_zdwhG4MF"
      },
      "source": [
        "### Recall"
      ]
    },
    {
      "cell_type": "code",
      "metadata": {
        "id": "tfiqvVDvWX6m",
        "colab": {
          "base_uri": "https://localhost:8080/",
          "height": 531
        },
        "outputId": "231d48db-c494-4d23-b742-a13140f61e18"
      },
      "source": [
        "import matplotlib\n",
        "import matplotlib.pyplot as plt\n",
        "import numpy as np\n",
        "\n",
        "match_metrics_recall = []\n",
        "match_metrics_recall.append(round(adi_res_match_recall['metric_score'], 3))\n",
        "match_metrics_recall.append(round(cacm_res_match_recall['metric_score'], 3))\n",
        "match_metrics_recall.append(round(cisi_res_match_recall['metric_score'], 3))\n",
        "match_metrics_recall.append(round(cran_res_match_recall['metric_score'], 3))\n",
        "match_metrics_recall.append(round(lisa_res_match_recall['metric_score'], 3))\n",
        "match_metrics_recall.append(round(marco_res_match_recall['metric_score'], 3))\n",
        "match_metrics_recall.append(round(med_res_match_recall['metric_score'], 3))\n",
        "match_metrics_recall.append(round(npl_res_match_recall['metric_score'], 3))\n",
        "match_metrics_recall.append(round(time_res_match_recall['metric_score'], 3))\n",
        "\n",
        "stemming_metrics_recall = []\n",
        "stemming_metrics_recall.append(round(adi_res_stemming_recall['metric_score'], 3))\n",
        "stemming_metrics_recall.append(round(cacm_res_stemming_recall['metric_score'], 3))\n",
        "stemming_metrics_recall.append(round(cisi_res_stemming_recall['metric_score'], 3))\n",
        "stemming_metrics_recall.append(round(cran_res_stemming_recall['metric_score'], 3))\n",
        "stemming_metrics_recall.append(round(lisa_res_stemming_recall['metric_score'], 3))\n",
        "stemming_metrics_recall.append(round(marco_res_stemming_recall['metric_score'], 3))\n",
        "stemming_metrics_recall.append(round(med_res_stemming_recall['metric_score'], 3))\n",
        "stemming_metrics_recall.append(round(npl_res_stemming_recall['metric_score'], 3))\n",
        "stemming_metrics_recall.append(round(time_res_stemming_recall['metric_score'], 3))\n",
        "\n",
        "hunspell_metrics_recall = []\n",
        "hunspell_metrics_recall.append(round(adi_res_hunspell_recall['metric_score'], 3))\n",
        "hunspell_metrics_recall.append(round(cacm_res_hunspell_recall['metric_score'], 3))\n",
        "hunspell_metrics_recall.append(round(cisi_res_hunspell_recall['metric_score'], 3))\n",
        "hunspell_metrics_recall.append(round(cran_res_hunspell_recall['metric_score'], 3))\n",
        "hunspell_metrics_recall.append(round(lisa_res_hunspell_recall['metric_score'], 3))\n",
        "hunspell_metrics_recall.append(round(marco_res_hunspell_recall['metric_score'], 3))\n",
        "hunspell_metrics_recall.append(round(med_res_hunspell_recall['metric_score'], 3))\n",
        "hunspell_metrics_recall.append(round(npl_res_hunspell_recall['metric_score'], 3))\n",
        "hunspell_metrics_recall.append(round(time_res_hunspell_recall['metric_score'], 3))\n",
        "\n",
        "labels = ['ADI','CACM', 'CISI','Cranfield', 'LISA', 'MS MARCO', 'Medline', 'NPL','Time']\n",
        "\n",
        "x = np.arange(len(labels))*1.8  # the label locations\n",
        "\n",
        "width = 0.5  # the width of the bars\n",
        "\n",
        "fig, ax = plt.subplots()\n",
        "rects1 = ax.bar(x - width, match_metrics_recall , width, label='With multi-match query')\n",
        "rects2 = ax.bar(x, stemming_metrics_recall, width, label='With stemmer token filter')\n",
        "rects3 = ax.bar(x + width, hunspell_metrics_recall, width, label='With hunspell token filter')\n",
        "\n",
        "# Add some text for labels, title and custom x-axis tick labels, etc.\n",
        "ax.set_ylabel('metric scores')\n",
        "ax.set_title('Recall scores by corpus')\n",
        "ax.set_xticks(x)\n",
        "ax.set_xticklabels(labels)\n",
        "ax.legend()\n",
        "\n",
        "def autolabel(rects):\n",
        "    \"\"\"Attach a text label above each bar in *rects*, displaying its height.\"\"\"\n",
        "    for rect in rects:\n",
        "        height = rect.get_height()\n",
        "        ax.annotate('{}'.format(height),\n",
        "                    xy=(rect.get_x() + rect.get_width() / 2, height),\n",
        "                    xytext=(0, 3),  # 3 points vertical offset\n",
        "                    textcoords=\"offset points\",\n",
        "                    ha='center', va='bottom')\n",
        "\n",
        "autolabel(rects1)\n",
        "autolabel(rects2)\n",
        "autolabel(rects3)\n",
        "\n",
        "fig.tight_layout()\n",
        "fig.set_figwidth(16)\n",
        "fig.set_figheight(8)\n",
        "\n",
        "plt.show()"
      ],
      "execution_count": 44,
      "outputs": [
        {
          "output_type": "display_data",
          "data": {
            "image/png": "[encoded data removed]",
            "text/plain": [
              "<Figure size 1152x576 with 1 Axes>"
            ]
          },
          "metadata": {
            "tags": [],
            "needs_background": "light"
          }
        }
      ]
    },
    {
      "cell_type": "code",
      "metadata": {
        "id": "qZuaqJuC8T_A",
        "colab": {
          "base_uri": "https://localhost:8080/"
        },
        "outputId": "1d891f1e-76ac-4ad0-8547-b2c057965dc2"
      },
      "source": [
        "from tabulate import tabulate\n",
        "\n",
        "match_metrics_recall.insert(0, 'multi-match query') \n",
        "stemming_metrics_recall.insert(0, 'stemmer token filter')\n",
        "hunspell_metrics_recall.insert(0, 'hunspell token filter')\n",
        "\n",
        "l = [match_metrics_recall, stemming_metrics_recall, hunspell_metrics_recall]\n",
        "table = tabulate(l, headers=['ADI','CACM', 'CISI','Cranfield', 'LISA', 'MS MARCO', 'Medline', 'NPL','Time'], tablefmt='orgtbl')\n",
        "\n",
        "print(table)"
      ],
      "execution_count": 45,
      "outputs": [
        {
          "output_type": "stream",
          "text": [
            "|                       |   ADI |   CACM |   CISI |   Cranfield |   LISA |   MS MARCO |   Medline |   NPL |   Time |\n",
            "|-----------------------+-------+--------+--------+-------------+--------+------------+-----------+-------+--------|\n",
            "| multi-match query     | 0.328 |  0.034 |  0.103 |       0.156 |  0.354 |      0.6   |     0.032 | 0.233 |  0.772 |\n",
            "| stemmer token filter  | 0.254 |  0.044 |  0.121 |       0.156 |  0.398 |      0.614 |     0.044 | 0.285 |  0.78  |\n",
            "| hunspell token filter | 0.256 |  0.037 |  0.12  |       0.153 |  0.391 |      0.61  |     0.045 | 0.292 |  0.777 |\n"
          ],
          "name": "stdout"
        }
      ]
    },
    {
      "cell_type": "markdown",
      "metadata": {
        "id": "QuxJmfYZG14r"
      },
      "source": [
        "### Precision"
      ]
    },
    {
      "cell_type": "code",
      "metadata": {
        "id": "YvjJ8xRilGKj",
        "colab": {
          "base_uri": "https://localhost:8080/",
          "height": 531
        },
        "outputId": "68d80b78-b2e7-420a-dbdf-1611d520ab01"
      },
      "source": [
        "import matplotlib\n",
        "import matplotlib.pyplot as plt\n",
        "import numpy as np\n",
        "\n",
        "match_metrics_precision = []\n",
        "match_metrics_precision.append(round(adi_res_match_precision['metric_score'], 3))\n",
        "match_metrics_precision.append(round(cacm_res_match_precision['metric_score'], 3))\n",
        "match_metrics_precision.append(round(cisi_res_match_precision['metric_score'], 3))\n",
        "match_metrics_precision.append(round(cran_res_match_precision['metric_score'], 3))\n",
        "match_metrics_precision.append(round(lisa_res_match_precision['metric_score'], 3))\n",
        "match_metrics_precision.append(round(marco_res_match_precision['metric_score'], 3))\n",
        "match_metrics_precision.append(round(med_res_match_precision['metric_score'], 3))\n",
        "match_metrics_precision.append(round(npl_res_match_precision['metric_score'], 3))\n",
        "match_metrics_precision.append(round(time_res_match_precision['metric_score'], 3))\n",
        "\n",
        "stemming_metrics_precision = []\n",
        "stemming_metrics_precision.append(round(adi_res_stemming_precision['metric_score'], 3))\n",
        "stemming_metrics_precision.append(round(cacm_res_stemming_precision['metric_score'], 3))\n",
        "stemming_metrics_precision.append(round(cisi_res_stemming_precision['metric_score'], 3))\n",
        "stemming_metrics_precision.append(round(cran_res_stemming_precision['metric_score'], 3))\n",
        "stemming_metrics_precision.append(round(lisa_res_stemming_precision['metric_score'], 3))\n",
        "stemming_metrics_precision.append(round(marco_res_stemming_precision['metric_score'], 3))\n",
        "stemming_metrics_precision.append(round(med_res_stemming_precision['metric_score'], 3))\n",
        "stemming_metrics_precision.append(round(npl_res_stemming_precision['metric_score'], 3))\n",
        "stemming_metrics_precision.append(round(time_res_stemming_precision['metric_score'], 3))\n",
        "\n",
        "hunspell_metrics_precision = []\n",
        "hunspell_metrics_precision.append(round(adi_res_hunspell_precision['metric_score'], 3))\n",
        "hunspell_metrics_precision.append(round(cacm_res_hunspell_precision['metric_score'], 3))\n",
        "hunspell_metrics_precision.append(round(cisi_res_hunspell_precision['metric_score'], 3))\n",
        "hunspell_metrics_precision.append(round(cran_res_hunspell_precision['metric_score'], 3))\n",
        "hunspell_metrics_precision.append(round(lisa_res_hunspell_precision['metric_score'], 3))\n",
        "hunspell_metrics_precision.append(round(marco_res_hunspell_precision['metric_score'], 3))\n",
        "hunspell_metrics_precision.append(round(med_res_hunspell_precision['metric_score'], 3))\n",
        "hunspell_metrics_precision.append(round(npl_res_hunspell_precision['metric_score'], 3))\n",
        "hunspell_metrics_precision.append(round(time_res_hunspell_precision['metric_score'], 3))\n",
        "\n",
        "labels = ['ADI','CACM', 'CISI','Cranfield', 'LISA', 'MS MARCO', 'Medline', 'NPL','Time']\n",
        "\n",
        "x = np.arange(len(labels))*1.8  # the label locations\n",
        "\n",
        "width = 0.5  # the width of the bars\n",
        "\n",
        "fig, ax = plt.subplots()\n",
        "rects1 = ax.bar(x - width, match_metrics_precision , width, label='With multi-match query')\n",
        "rects2 = ax.bar(x, stemming_metrics_precision, width, label='With stemmer token filter')\n",
        "rects3 = ax.bar(x + width, hunspell_metrics_precision, width, label='With hunspell token filter')\n",
        "\n",
        "# Add some text for labels, title and custom x-axis tick labels, etc.\n",
        "ax.set_ylabel('metric scores')\n",
        "ax.set_title('Precision scores by corpus')\n",
        "ax.set_xticks(x)\n",
        "ax.set_xticklabels(labels)\n",
        "ax.legend()\n",
        "\n",
        "\n",
        "def autolabel(rects):\n",
        "    \"\"\"Attach a text label above each bar in *rects*, displaying its height.\"\"\"\n",
        "    for rect in rects:\n",
        "        height = rect.get_height()\n",
        "        ax.annotate('{}'.format(height),\n",
        "                    xy=(rect.get_x() + rect.get_width() / 2, height),\n",
        "                    xytext=(0, 3),  # 3 points vertical offset\n",
        "                    textcoords=\"offset points\",\n",
        "                    ha='center', va='bottom')\n",
        "\n",
        "\n",
        "autolabel(rects1)\n",
        "autolabel(rects2)\n",
        "autolabel(rects3)\n",
        "\n",
        "fig.tight_layout()\n",
        "fig.set_figwidth(16)\n",
        "fig.set_figheight(8)\n",
        "\n",
        "plt.show()"
      ],
      "execution_count": 46,
      "outputs": [
        {
          "output_type": "display_data",
          "data": {
            "image/png": "[encoded data removed]",
            "text/plain": [
              "<Figure size 1152x576 with 1 Axes>"
            ]
          },
          "metadata": {
            "tags": [],
            "needs_background": "light"
          }
        }
      ]
    },
    {
      "cell_type": "code",
      "metadata": {
        "id": "ZfXXKUJe_XK2",
        "colab": {
          "base_uri": "https://localhost:8080/"
        },
        "outputId": "ce783184-8a98-41f5-e95d-e6ec9385dba3"
      },
      "source": [
        "from tabulate import tabulate\n",
        "\n",
        "match_metrics_precision.insert(0, 'multi-match query') \n",
        "stemming_metrics_precision.insert(0, 'stemmer token filter') \n",
        "hunspell_metrics_precision.insert(0, 'hunspell token filter')\n",
        "\n",
        "l = [match_metrics_precision, stemming_metrics_precision, hunspell_metrics_precision]\n",
        "table = tabulate(l, headers=['ADI','CACM', 'CISI','Cranfield', 'LISA', 'MS MARCO', 'Medline', 'NPL','Time'], tablefmt='orgtbl')\n",
        "\n",
        "print(table)"
      ],
      "execution_count": 47,
      "outputs": [
        {
          "output_type": "stream",
          "text": [
            "|                       |   ADI |   CACM |   CISI |   Cranfield |   LISA |   MS MARCO |   Medline |   NPL |   Time |\n",
            "|-----------------------+-------+--------+--------+-------------+--------+------------+-----------+-------+--------|\n",
            "| multi-match query     | 0.074 |  0.022 |  0.154 |       0.058 |  0.161 |      0.03  |     0.031 | 0.217 |  0.15  |\n",
            "| stemmer token filter  | 0.063 |  0.028 |  0.169 |       0.059 |  0.186 |      0.031 |     0.041 | 0.258 |  0.152 |\n",
            "| hunspell token filter | 0.063 |  0.024 |  0.167 |       0.058 |  0.183 |      0.031 |     0.041 | 0.258 |  0.151 |\n"
          ],
          "name": "stdout"
        }
      ]
    },
    {
      "cell_type": "markdown",
      "metadata": {
        "id": "F_WKHLDXJypJ"
      },
      "source": [
        "### F-Score"
      ]
    },
    {
      "cell_type": "code",
      "metadata": {
        "id": "QA8CpbbRQtIH",
        "colab": {
          "base_uri": "https://localhost:8080/",
          "height": 531
        },
        "outputId": "07439410-a084-4767-c4a2-db0ddaff6b1f"
      },
      "source": [
        "import matplotlib\n",
        "import matplotlib.pyplot as plt\n",
        "import numpy as np\n",
        "\n",
        "def f_score(recall,precision):\n",
        "  if recall or precision != 0:\n",
        "    fscore = (2*(recall*precision)/(recall+precision))\n",
        "    return fscore\n",
        "\n",
        "match_metrics_fscore = []\n",
        "match_metrics_fscore.append(round(f_score(adi_res_match_recall['metric_score'], adi_res_match_precision['metric_score']),3))\n",
        "match_metrics_fscore.append(round(f_score(cacm_res_match_recall['metric_score'], cacm_res_match_precision['metric_score']),3))\n",
        "match_metrics_fscore.append(round(f_score(cisi_res_match_recall['metric_score'], cisi_res_match_precision['metric_score']),3))\n",
        "match_metrics_fscore.append(round(f_score(cran_res_match_recall['metric_score'], cran_res_match_precision['metric_score']),3))\n",
        "match_metrics_fscore.append(round(f_score(lisa_res_match_recall['metric_score'], lisa_res_match_precision['metric_score']),3))\n",
        "match_metrics_fscore.append(round(f_score(marco_res_match_recall['metric_score'], marco_res_match_precision['metric_score']),3))\n",
        "match_metrics_fscore.append(round(f_score(med_res_match_recall['metric_score'], med_res_match_precision['metric_score']),3))\n",
        "match_metrics_fscore.append(round(f_score(npl_res_match_recall['metric_score'], npl_res_match_precision['metric_score']),3))\n",
        "match_metrics_fscore.append(round(f_score(time_res_match_recall['metric_score'], time_res_match_precision['metric_score']),3))\n",
        "\n",
        "stemming_metrics_fscore = []\n",
        "stemming_metrics_fscore.append(round(f_score(adi_res_stemming_recall['metric_score'], adi_res_stemming_precision['metric_score']),3))\n",
        "stemming_metrics_fscore.append(round(f_score(cacm_res_stemming_recall['metric_score'], cacm_res_stemming_precision['metric_score']),3))\n",
        "stemming_metrics_fscore.append(round(f_score(cisi_res_stemming_recall['metric_score'], cisi_res_stemming_precision['metric_score']),3))\n",
        "stemming_metrics_fscore.append(round(f_score(cran_res_stemming_recall['metric_score'], cran_res_stemming_precision['metric_score']),3))\n",
        "stemming_metrics_fscore.append(round(f_score(lisa_res_stemming_recall['metric_score'], lisa_res_stemming_precision['metric_score']),3))\n",
        "stemming_metrics_fscore.append(round(f_score(marco_res_stemming_recall['metric_score'], marco_res_stemming_precision['metric_score']),3))\n",
        "stemming_metrics_fscore.append(round(f_score(med_res_stemming_recall['metric_score'], med_res_stemming_precision['metric_score']),3))\n",
        "stemming_metrics_fscore.append(round(f_score(npl_res_stemming_recall['metric_score'], npl_res_stemming_precision['metric_score']),3))\n",
        "stemming_metrics_fscore.append(round(f_score(time_res_stemming_recall['metric_score'], time_res_stemming_precision['metric_score']),3))\n",
        "\n",
        "hunspell_metrics_fscore = []\n",
        "hunspell_metrics_fscore.append(round(f_score(adi_res_hunspell_recall['metric_score'], adi_res_hunspell_precision['metric_score']),3))\n",
        "hunspell_metrics_fscore.append(round(f_score(cacm_res_hunspell_recall['metric_score'], cacm_res_hunspell_precision['metric_score']),3))\n",
        "hunspell_metrics_fscore.append(round(f_score(cisi_res_hunspell_recall['metric_score'], cisi_res_hunspell_precision['metric_score']),3))\n",
        "hunspell_metrics_fscore.append(round(f_score(cran_res_hunspell_recall['metric_score'], cran_res_hunspell_precision['metric_score']),3))\n",
        "hunspell_metrics_fscore.append(round(f_score(lisa_res_hunspell_recall['metric_score'], lisa_res_hunspell_precision['metric_score']),3))\n",
        "hunspell_metrics_fscore.append(round(f_score(marco_res_hunspell_recall['metric_score'], marco_res_hunspell_precision['metric_score']),3))\n",
        "hunspell_metrics_fscore.append(round(f_score(med_res_hunspell_recall['metric_score'], med_res_hunspell_precision['metric_score']),3))\n",
        "hunspell_metrics_fscore.append(round(f_score(npl_res_hunspell_recall['metric_score'], npl_res_hunspell_precision['metric_score']),3))\n",
        "hunspell_metrics_fscore.append(round(f_score(time_res_hunspell_recall['metric_score'], time_res_hunspell_precision['metric_score']),3))\n",
        "\n",
        "labels = ['ADI','CACM', 'CISI','cranfield', 'LISA', 'MS MARCO', 'medline', 'NPL','Time']\n",
        "\n",
        "x = np.arange(len(labels))*1.8  # the label locations\n",
        "\n",
        "width = 0.5  # the width of the bars\n",
        "\n",
        "fig, ax = plt.subplots()\n",
        "rects1 = ax.bar(x - width, match_metrics_fscore , width, label='With multi-match query')\n",
        "rects2 = ax.bar(x, stemming_metrics_fscore, width, label='With stemmer token filter')\n",
        "rects3 = ax.bar(x + width, hunspell_metrics_fscore, width, label='With hunspell token filter')\n",
        "\n",
        "# Add some text for labels, title and custom x-axis tick labels, etc.\n",
        "ax.set_ylabel('metric scores')\n",
        "ax.set_title('F1-Scores by corpus')\n",
        "ax.set_xticks(x)\n",
        "ax.set_xticklabels(labels)\n",
        "ax.legend()\n",
        "\n",
        "\n",
        "def autolabel(rects):\n",
        "    \"\"\"Attach a text label above each bar in *rects*, displaying its height.\"\"\"\n",
        "    for rect in rects:\n",
        "        height = rect.get_height()\n",
        "        ax.annotate('{}'.format(height),\n",
        "                    xy=(rect.get_x() + rect.get_width() / 2, height),\n",
        "                    xytext=(0, 3),  # 3 points vertical offset\n",
        "                    textcoords=\"offset points\",\n",
        "                    ha='center', va='bottom')\n",
        "\n",
        "\n",
        "autolabel(rects1)\n",
        "autolabel(rects2)\n",
        "autolabel(rects3)\n",
        "\n",
        "fig.tight_layout()\n",
        "fig.set_figwidth(16)\n",
        "fig.set_figheight(8)\n",
        "\n",
        "plt.show()"
      ],
      "execution_count": 48,
      "outputs": [
        {
          "output_type": "display_data",
          "data": {
            "image/png": "[encoded data removed]",
            "text/plain": [
              "<Figure size 1152x576 with 1 Axes>"
            ]
          },
          "metadata": {
            "tags": [],
            "needs_background": "light"
          }
        }
      ]
    },
    {
      "cell_type": "code",
      "metadata": {
        "id": "R6Tk6Vt8Ah5_",
        "colab": {
          "base_uri": "https://localhost:8080/"
        },
        "outputId": "6f116b3c-76ac-478b-81d1-01084a14e8c2"
      },
      "source": [
        "from tabulate import tabulate\n",
        "\n",
        "match_metrics_fscore.insert(0, 'multi-match query') \n",
        "stemming_metrics_fscore.insert(0, 'stemmer token filter') \n",
        "hunspell_metrics_fscore.insert(0, 'hunspell token filter')\n",
        "\n",
        "l = [match_metrics_fscore, stemming_metrics_fscore, hunspell_metrics_fscore]\n",
        "table = tabulate(l, headers=['ADI','CACM', 'CISI','cranfield', 'LISA', 'MS MARCO', 'medline', 'NPL','Time'], tablefmt='orgtbl')\n",
        "\n",
        "print(table)"
      ],
      "execution_count": 49,
      "outputs": [
        {
          "output_type": "stream",
          "text": [
            "|                       |   ADI |   CACM |   CISI |   cranfield |   LISA |   MS MARCO |   medline |   NPL |   Time |\n",
            "|-----------------------+-------+--------+--------+-------------+--------+------------+-----------+-------+--------|\n",
            "| multi-match query     | 0.12  |  0.027 |  0.123 |       0.085 |  0.222 |      0.057 |     0.032 | 0.225 |  0.251 |\n",
            "| stemmer token filter  | 0.101 |  0.034 |  0.141 |       0.086 |  0.253 |      0.058 |     0.043 | 0.271 |  0.255 |\n",
            "| hunspell token filter | 0.101 |  0.029 |  0.14  |       0.084 |  0.249 |      0.058 |     0.043 | 0.274 |  0.252 |\n"
          ],
          "name": "stdout"
        }
      ]
    },
    {
      "cell_type": "markdown",
      "metadata": {
        "id": "Ikgcrccon7a1"
      },
      "source": [
        "# Read More\n",
        "Details on this experiment can be found on our [website](https://pragmalingu.de/docs/experiments/experiment1)."
      ]
    }
  ]
}