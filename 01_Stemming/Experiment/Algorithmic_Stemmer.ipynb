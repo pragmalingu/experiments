{
  "nbformat": 4,
  "nbformat_minor": 0,
  "metadata": {
    "colab": {
      "name": "Algorithmic_Stemmer.ipynb",
      "provenance": [],
      "collapsed_sections": [
        "hW251z7-J0Ca",
        "X3n5VA1TjdWv",
        "dz4HOfBQzEpL",
        "DUv41dfn9nzz",
        "n3y2zrw_GqBZ",
        "LW6zgF8_JG4e",
        "LDNzoWupJG4m",
        "fiA5r3R3JG5e",
        "LsUvuv-a1HQb",
        "Lj2O4o0G1HQg",
        "B8HH6SIf1HRT",
        "h46hrLuPNPvc",
        "IPqLfvffNPvg",
        "a9CZhmuouKbj",
        "xXozEnL8uKcg",
        "jsHupiWaGwNe"
      ],
      "include_colab_link": true
    },
    "kernelspec": {
      "name": "python3",
      "display_name": "Python 3"
    }
  },
  "cells": [
    {
      "cell_type": "markdown",
      "metadata": {
        "id": "view-in-github",
        "colab_type": "text"
      },
      "source": [
        "<a href=\"https://colab.research.google.com/github/pragmalingu/experiments/blob/master/01_Stemming/Experiment/Algorithmic_Stemmer.ipynb\" target=\"_parent\"><img src=\"https://colab.research.google.com/assets/colab-badge.svg\" alt=\"Open In Colab\"/></a>"
      ]
    },
    {
      "cell_type": "markdown",
      "metadata": {
        "id": "Q9EMclEPLvMS"
      },
      "source": [
        "# Algorithmic Stemmer\n",
        "\n",
        "Algorithmic stemmers apply a series of rules to each word to reduce it to its root form.\n",
        "\n",
        "In this way, they present a few advantages:\n",
        "1. They require little setup and usually work well out of the box;\n",
        "2. They use little memory;\n",
        "3. They are typically faster than dictionary stemmers.\n",
        "\n",
        "(For more information see the [Elasticsearch documentation](https://www.elastic.co/guide/en/elasticsearch/reference/current/stemming.html#algorithmic-stemmers) or the [First Experiment](https://pragmalingu.de/docs/experiments/experiment1#2-stemming) on our website)"
      ]
    },
    {
      "cell_type": "markdown",
      "metadata": {
        "id": "hW251z7-J0Ca"
      },
      "source": [
        "## Introduction"
      ]
    },
    {
      "cell_type": "markdown",
      "metadata": {
        "id": "_Un-oDrHnDui"
      },
      "source": [
        "### Setup an Elasticsearch Instance in Google Colab\n",
        "\n",
        "Everthing to connect to Elasticsearch.\n",
        "Download:"
      ]
    },
    {
      "cell_type": "code",
      "metadata": {
        "id": "XdccmnTUnDup"
      },
      "source": [
        "import os\n",
        "from subprocess import Popen, PIPE, STDOUT\n",
        "# download elasticsearch\n",
        "!wget https://artifacts.elastic.co/downloads/elasticsearch/elasticsearch-7.9.1-linux-x86_64.tar.gz -q\n",
        "!tar -xzf elasticsearch-7.9.1-linux-x86_64.tar.gz\n",
        "!chown -R daemon:daemon elasticsearch-7.9.1\n",
        "\n",
        "# start server\n",
        "es_server = Popen(['elasticsearch-7.9.1/bin/elasticsearch'], \n",
        "                  stdout=PIPE, stderr=STDOUT,\n",
        "                  preexec_fn=lambda: os.setuid(1)  # as daemon\n",
        "                 )\n",
        "# client-side\n",
        "!pip install elasticsearch -q\n",
        "from elasticsearch import Elasticsearch\n",
        "from datetime import datetime\n",
        "es = Elasticsearch([\"localhost:9200/\"])\n",
        "#wait a bit\n",
        "import time\n",
        "time.sleep(30)\n",
        "es.ping()  # got True"
      ],
      "execution_count": null,
      "outputs": []
    },
    {
      "cell_type": "markdown",
      "metadata": {
        "id": "dz4HOfBQzEpL"
      },
      "source": [
        "### Analyser\n",
        "\n",
        "An analyser contains three lower-level building blocks: character filters, a tokenizer, and token filters.\n",
        "To apply stemming we first need to configure a custom analyser that makes use of the stemmer filter. \n",
        "\n",
        "(Stemmer filter reference guide at [Elasticsearch documentation](https://www.elastic.co/guide/en/elasticsearch/reference/current/analysis-stemmer-tokenfilter.html#analysis-stemmer-tokenfilter))"
      ]
    },
    {
      "cell_type": "code",
      "metadata": {
        "id": "_8Y8NEe5qI3c"
      },
      "source": [
        "#the order of filter and analyser is arbitrary\n",
        "\n",
        "#stemmer token filter\n",
        "stemmer_analyser = {\n",
        "    \"filter\" : {\n",
        "        \"eng_stemmer\" : {\n",
        "        \"type\" : \"stemmer\",\n",
        "        \"name\" : \"english\"\n",
        "        }\n",
        "    },\n",
        "    \"analyzer\" : {\n",
        "        \"default\" : {\n",
        "            \"tokenizer\" : \"standard\",\n",
        "            \"filter\" : [\"lowercase\", \"eng_stemmer\"]\n",
        "        }\n",
        "    }\n",
        "}\n",
        "\n",
        "#kstem token filter\n",
        "kstem_analyser = {\n",
        "    \"filter\" : {\n",
        "        \"eng_stemmer\" : {\n",
        "        \"type\" : \"kstem\",\n",
        "        \"name\" : \"english\"\n",
        "        }\n",
        "    },\n",
        "    \"analyzer\" : {\n",
        "        \"default\" : {\n",
        "            \"tokenizer\" : \"standard\",\n",
        "            \"filter\" : [\"lowercase\", \"eng_stemmer\"]\n",
        "        }\n",
        "    }\n",
        "}\n",
        "\n",
        "#porter token filter\n",
        "porter_analyser = {\n",
        "    \"filter\" : {\n",
        "        \"eng_stemmer\" : {\n",
        "        \"type\" : \"porter_stem\",\n",
        "        \"name\" : \"english\"\n",
        "        }\n",
        "    },\n",
        "    \"analyzer\" : {\n",
        "        \"default\" : {\n",
        "            \"tokenizer\" : \"standard\",\n",
        "            \"filter\" : [\"lowercase\", \"eng_stemmer\"]\n",
        "        }\n",
        "    }\n",
        "}\n",
        "\n",
        "#snowball token filter\n",
        "snowball_analyser = {\n",
        "    \"filter\" : {\n",
        "        \"eng_stemmer\" : {\n",
        "        \"type\" : \"snowball\",\n",
        "        \"name\" : \"english\"\n",
        "        }\n",
        "    },\n",
        "    \"analyzer\" : {\n",
        "        \"default\" : {\n",
        "            \"tokenizer\" : \"standard\",\n",
        "            \"filter\" : [\"lowercase\", \"eng_stemmer\"]\n",
        "        }\n",
        "    }\n",
        "}"
      ],
      "execution_count": null,
      "outputs": []
    },
    {
      "cell_type": "markdown",
      "metadata": {
        "id": "rS9_vfDNw1Un"
      },
      "source": [
        "### Indexing\n",
        "\n",
        "Next step is to specify the default analyser for the index; in the following example we do so at index creation.\n",
        "\n",
        "(Reference guide for analyser specification at [Elasticsearch documentation](https://www.elastic.co/guide/en/elasticsearch/reference/current/specify-analyzer.html#specify-index-time-default-analyzer))"
      ]
    },
    {
      "cell_type": "code",
      "metadata": {
        "id": "KwsGM9oVvwIN",
        "outputId": "93d55c96-6315-41cb-bae0-519f6ad69da7",
        "colab": {
          "base_uri": "https://localhost:8080/",
          "height": 35
        }
      },
      "source": [
        "#create the correct settings\n",
        "stemmer_settings = {\n",
        "    \"settings\": {\n",
        "        \"number_of_shards\": 1,\n",
        "        \"number_of_replicas\": 0,\n",
        "        \"analysis\": stemmer_analyser\n",
        "    }\n",
        "}\n",
        "\n",
        "kstem_settings = {\n",
        "    \"settings\": {\n",
        "        \"number_of_shards\": 1,\n",
        "        \"number_of_replicas\": 0,\n",
        "        \"analysis\": kstem_analyser\n",
        "    }\n",
        "}\n",
        "\n",
        "porter_settings = {\n",
        "    \"settings\": {\n",
        "        \"number_of_shards\": 1,\n",
        "        \"number_of_replicas\": 0,\n",
        "        \"analysis\": porter_analyser\n",
        "    }\n",
        "}\n",
        "\n",
        "snowball_settings = {\n",
        "    \"settings\": {\n",
        "        \"number_of_shards\": 1,\n",
        "        \"number_of_replicas\": 0,\n",
        "        \"analysis\": snowball_analyser\n",
        "    }\n",
        "}\n",
        "\n",
        "# create index\n",
        "\n",
        "# stemmer token filter\n",
        "es.indices.create(\"stemmer-index\", body=stemmer_settings)\n",
        "\n",
        "# kstem token filter\n",
        "es.indices.create(\"kstem-index\", body=kstem_settings)\n",
        "\n",
        "# porter token filter\n",
        "es.indices.create(\"porter-index\", body=porter_settings)\n",
        "\n",
        "# snowball token filter\n",
        "es.indices.create(\"snowball-index\", body=snowball_settings)"
      ],
      "execution_count": null,
      "outputs": [
        {
          "output_type": "execute_result",
          "data": {
            "text/plain": [
              "{'acknowledged': True, 'index': 'snowball-index', 'shards_acknowledged': True}"
            ]
          },
          "metadata": {
            "tags": []
          },
          "execution_count": 5
        }
      ]
    },
    {
      "cell_type": "code",
      "metadata": {
        "id": "Fusmj_6ADAlu",
        "outputId": "68877307-c8e7-4b08-fc8d-0d4482f6e1e0",
        "colab": {
          "base_uri": "https://localhost:8080/",
          "height": 88
        }
      },
      "source": [
        "#index document\n",
        "doc = {\n",
        "    'author': 'kimchy',\n",
        "    'text': 'the foxes jumping quickly',\n",
        "    'timestamp': datetime.now()\n",
        "}\n",
        "\n",
        "# stemmer token filter\n",
        "res = es.index(index=\"stemmer-index\", id=1, body=doc)\n",
        "print(res['result'])\n",
        "\n",
        "# kstem token filter\n",
        "res = es.index(index=\"kstem-index\", id=1, body=doc)\n",
        "print(res['result'])\n",
        "\n",
        "# porter token filter\n",
        "res = es.index(index=\"porter-index\", id=1, body=doc)\n",
        "print(res['result'])\n",
        "\n",
        "# snowball token filter\n",
        "res = es.index(index=\"snowball-index\", id=1, body=doc)\n",
        "print(res['result'])"
      ],
      "execution_count": null,
      "outputs": [
        {
          "output_type": "stream",
          "text": [
            "created\n",
            "created\n",
            "created\n",
            "created\n"
          ],
          "name": "stdout"
        }
      ]
    },
    {
      "cell_type": "markdown",
      "metadata": {
        "id": "BMYrZjWp0cjA"
      },
      "source": [
        "### Searching\n",
        "\n",
        "Lastly, let us observe stemming in action by employing a mock query. It's worthwhile noting that the example searches for `jump` rather than `jumping`; Elasticsearchs english stemmer removes the `-ing` suffix, preserving the words root form. "
      ]
    },
    {
      "cell_type": "code",
      "metadata": {
        "id": "OSxra8go2m7x",
        "outputId": "09c31305-4a98-4835-ca60-a259822f9ea0",
        "colab": {
          "base_uri": "https://localhost:8080/",
          "height": 211
        }
      },
      "source": [
        "#test query stemmer token filter\n",
        "res = es.search(index=\"stemmer-index\", body={\"query\": {\"match\" : {\"text\": {\"query\" : \"jump\"} }}})\n",
        "print(\"Got %d Hits:\" % res['hits']['total']['value'])\n",
        "for hit in res['hits']['hits']:\n",
        "    print(\"Stemmer: %(timestamp)s %(author)s: %(text)s\\n\" % hit[\"_source\"])\n",
        "\n",
        "#test query stemmer token filter\n",
        "res = es.search(index=\"kstem-index\", body={\"query\": {\"match\" : {\"text\": {\"query\" : \"jump\"} }}})\n",
        "print(\"Got %d Hits:\" % res['hits']['total']['value'])\n",
        "for hit in res['hits']['hits']:\n",
        "    print(\"Kstem: %(timestamp)s %(author)s: %(text)s\\n\" % hit[\"_source\"])\n",
        "\n",
        "#test query porter token filter\n",
        "res = es.search(index=\"porter-index\", body={\"query\": {\"match\" : {\"text\": {\"query\" : \"jump\"} }}})\n",
        "print(\"Got %d Hits:\" % res['hits']['total']['value'])\n",
        "for hit in res['hits']['hits']:\n",
        "    print(\"Porter: %(timestamp)s %(author)s: %(text)s\\n\" % hit[\"_source\"])\n",
        "\n",
        "#test query snowball token filter\n",
        "res = es.search(index=\"snowball-index\", body={\"query\": {\"match\" : {\"text\": {\"query\" : \"jump\"} }}})\n",
        "print(\"Got %d Hits:\" % res['hits']['total']['value'])\n",
        "for hit in res['hits']['hits']:\n",
        "    print(\"Snowball: %(timestamp)s %(author)s: %(text)s\" % hit[\"_source\"])"
      ],
      "execution_count": null,
      "outputs": [
        {
          "output_type": "stream",
          "text": [
            "Got 1 Hits:\n",
            "Stemmer: 2020-09-23T08:38:42.057548 kimchy: the foxes jumping quickly\n",
            "\n",
            "Got 1 Hits:\n",
            "Kstem: 2020-09-23T08:38:42.057548 kimchy: the foxes jumping quickly\n",
            "\n",
            "Got 1 Hits:\n",
            "Porter: 2020-09-23T08:38:42.057548 kimchy: the foxes jumping quickly\n",
            "\n",
            "Got 1 Hits:\n",
            "Snowball: 2020-09-23T08:38:42.057548 kimchy: the foxes jumping quickly\n"
          ],
          "name": "stdout"
        }
      ]
    }
  ]
}