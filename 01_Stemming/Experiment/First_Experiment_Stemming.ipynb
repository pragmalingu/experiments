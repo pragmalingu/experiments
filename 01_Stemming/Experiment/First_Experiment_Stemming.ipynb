{
  "nbformat": 4,
  "nbformat_minor": 0,
  "metadata": {
    "colab": {
      "name": "First Experiment: Stemming.ipynb",
      "provenance": [],
      "collapsed_sections": [
        "57olkUd6WQ3C",
        "Gm1Aej_-T9e0"
      ],
      "toc_visible": true,
      "include_colab_link": true
    },
    "kernelspec": {
      "name": "python3",
      "display_name": "Python 3"
    }
  },
  "cells": [
    {
      "cell_type": "markdown",
      "metadata": {
        "id": "view-in-github",
        "colab_type": "text"
      },
      "source": [
        "<a href=\"https://colab.research.google.com/github/pragmalingu/experiments/blob/master/01_Stemming/Experiment/First_Experiment_Stemming.ipynb\" target=\"_parent\"><img src=\"https://colab.research.google.com/assets/colab-badge.svg\" alt=\"Open In Colab\"/></a>"
      ]
    },
    {
      "cell_type": "markdown",
      "metadata": {
        "id": "n93d8RqwhKXs"
      },
      "source": [
        "# First Experiment"
      ]
    },
    {
      "cell_type": "markdown",
      "metadata": {
        "id": "tApgxGG-lbTG"
      },
      "source": [
        "For our first experiment we created a Google Colab Notebook that runs an Elasticsearch instance and compared the standard Elasticsearch analyzer with two built-in stemming methods: 'Stemmer Token Filter' and 'Hunspell Token Filter'. \n",
        "(To read details about this experiment visit our [website](https://pragmalingu.de/docs/experiments/experiment1))"
      ]
    },
    {
      "cell_type": "markdown",
      "metadata": {
        "id": "_Un-oDrHnDui"
      },
      "source": [
        "## Setup an Elasticsearch Instance in Google Colab"
      ]
    },
    {
      "cell_type": "markdown",
      "metadata": {
        "id": "wQiAH-sinDum"
      },
      "source": [
        "Download elasticsearch and import dependencies:"
      ]
    },
    {
      "cell_type": "code",
      "metadata": {
        "id": "XdccmnTUnDup",
        "colab": {
          "base_uri": "https://localhost:8080/"
        },
        "outputId": "b7709490-8a6c-44a4-b17e-c48f3913609a"
      },
      "source": [
        "import os\n",
        "import time\n",
        "from subprocess import Popen, PIPE, STDOUT\n",
        "\n",
        "# install elasticsearch client\n",
        "!pip install elasticsearch -q\n",
        "from elasticsearch import Elasticsearch\n",
        "from datetime import datetime\n",
        "\n",
        "# download elasticsearch server\n",
        "!wget https://artifacts.elastic.co/downloads/elasticsearch/elasticsearch-7.9.1-linux-x86_64.tar.gz -q\n",
        "!tar -xzf elasticsearch-7.9.1-linux-x86_64.tar.gz\n",
        "!chown -R daemon:daemon elasticsearch-7.9.1"
      ],
      "execution_count": 1,
      "outputs": [
        {
          "output_type": "stream",
          "text": [
            "\u001b[?25l\r\u001b[K     |█                               | 10kB 18.0MB/s eta 0:00:01\r\u001b[K     |██                              | 20kB 15.9MB/s eta 0:00:01\r\u001b[K     |███                             | 30kB 9.5MB/s eta 0:00:01\r\u001b[K     |████                            | 40kB 7.2MB/s eta 0:00:01\r\u001b[K     |█████                           | 51kB 4.3MB/s eta 0:00:01\r\u001b[K     |██████                          | 61kB 4.9MB/s eta 0:00:01\r\u001b[K     |███████▏                        | 71kB 5.1MB/s eta 0:00:01\r\u001b[K     |████████▏                       | 81kB 5.1MB/s eta 0:00:01\r\u001b[K     |█████████▏                      | 92kB 5.1MB/s eta 0:00:01\r\u001b[K     |██████████▏                     | 102kB 4.2MB/s eta 0:00:01\r\u001b[K     |███████████▏                    | 112kB 4.2MB/s eta 0:00:01\r\u001b[K     |████████████▏                   | 122kB 4.2MB/s eta 0:00:01\r\u001b[K     |█████████████▎                  | 133kB 4.2MB/s eta 0:00:01\r\u001b[K     |██████████████▎                 | 143kB 4.2MB/s eta 0:00:01\r\u001b[K     |███████████████▎                | 153kB 4.2MB/s eta 0:00:01\r\u001b[K     |████████████████▎               | 163kB 4.2MB/s eta 0:00:01\r\u001b[K     |█████████████████▎              | 174kB 4.2MB/s eta 0:00:01\r\u001b[K     |██████████████████▎             | 184kB 4.2MB/s eta 0:00:01\r\u001b[K     |███████████████████▎            | 194kB 4.2MB/s eta 0:00:01\r\u001b[K     |████████████████████▍           | 204kB 4.2MB/s eta 0:00:01\r\u001b[K     |█████████████████████▍          | 215kB 4.2MB/s eta 0:00:01\r\u001b[K     |██████████████████████▍         | 225kB 4.2MB/s eta 0:00:01\r\u001b[K     |███████████████████████▍        | 235kB 4.2MB/s eta 0:00:01\r\u001b[K     |████████████████████████▍       | 245kB 4.2MB/s eta 0:00:01\r\u001b[K     |█████████████████████████▍      | 256kB 4.2MB/s eta 0:00:01\r\u001b[K     |██████████████████████████▌     | 266kB 4.2MB/s eta 0:00:01\r\u001b[K     |███████████████████████████▌    | 276kB 4.2MB/s eta 0:00:01\r\u001b[K     |████████████████████████████▌   | 286kB 4.2MB/s eta 0:00:01\r\u001b[K     |█████████████████████████████▌  | 296kB 4.2MB/s eta 0:00:01\r\u001b[K     |██████████████████████████████▌ | 307kB 4.2MB/s eta 0:00:01\r\u001b[K     |███████████████████████████████▌| 317kB 4.2MB/s eta 0:00:01\r\u001b[K     |████████████████████████████████| 327kB 4.2MB/s \n",
            "\u001b[?25h"
          ],
          "name": "stdout"
        }
      ]
    },
    {
      "cell_type": "markdown",
      "metadata": {
        "id": "bxgS1p4_-zun"
      },
      "source": [
        "Start a local server inside the colab runtime:"
      ]
    },
    {
      "cell_type": "code",
      "metadata": {
        "id": "H9HrpRBGsg9y",
        "colab": {
          "base_uri": "https://localhost:8080/"
        },
        "outputId": "37bcdde9-4fc7-453d-a03a-d53da3be4347"
      },
      "source": [
        "# start server\n",
        "es_server = Popen(['elasticsearch-7.9.1/bin/elasticsearch'], \n",
        "                  stdout=PIPE, stderr=STDOUT,\n",
        "                  preexec_fn=lambda: os.setuid(1)  # as daemon\n",
        "                 )\n",
        "\n",
        "# connect client to server\n",
        "es = Elasticsearch([\"localhost:9200/\"])\n",
        "#wait a bit\n",
        "time.sleep(30)\n",
        "es.ping()  # got True"
      ],
      "execution_count": 2,
      "outputs": [
        {
          "output_type": "execute_result",
          "data": {
            "text/plain": [
              "True"
            ]
          },
          "metadata": {
            "tags": []
          },
          "execution_count": 2
        }
      ]
    },
    {
      "cell_type": "markdown",
      "metadata": {
        "id": "a0j2BkMTXdiD"
      },
      "source": [
        "## Initialize Stemmers"
      ]
    },
    {
      "cell_type": "markdown",
      "metadata": {
        "id": "dz4HOfBQzEpL"
      },
      "source": [
        "**Analyzer**\n",
        "\n",
        "To apply stemming we first need to configure a custom analyzer that makes use of the stemmer token filter. \n",
        "An analyzer contains three lower-level [building blocks](https://www.elastic.co/guide/en/elasticsearch/reference/master/analyzer-anatomy.html): character filters, a tokenizer, and token filters. We define our stemming analyzer configurations below and later use them to create and index for each corpus. These indexes will have the default analyzer replaced by our analyzers.\n"
      ]
    },
    {
      "cell_type": "markdown",
      "metadata": {
        "id": "Q9EMclEPLvMS"
      },
      "source": [
        "### Algorithmic Stemmer\n",
        "\n",
        "Algorithmic stemmers apply a series of rules to each word to reduce it to its root form. We are using the [stemmer tokenfilter](https://www.elastic.co/guide/en/elasticsearch/reference/current/analysis-stemmer-tokenfilter.html#analysis-stemmer-tokenfilter) that is included in Elasticsearch an contains stemmers for several languages.\n",
        "\n",
        "Algorithmic stemmers present a few advantages:\n",
        "1. They require little setup and usually work well out of the box;\n",
        "2. They use little memory;\n",
        "3. They are typically faster than dictionary stemmers.\n",
        "\n",
        "(For more information see the [Elasticsearch documentation](https://www.elastic.co/guide/en/elasticsearch/reference/current/stemming.html#algorithmic-stemmers))"
      ]
    },
    {
      "cell_type": "code",
      "metadata": {
        "id": "1rgB2Wm3YkrX"
      },
      "source": [
        "#the order of filter and analyzer is arbitrary\n",
        "stemming_analyzer = {\n",
        "    \"filter\" : {\n",
        "        \"eng_stemmer\" : {\n",
        "        \"type\" : \"stemmer\",\n",
        "        \"name\" : \"english\"\n",
        "        }\n",
        "    },\n",
        "    \"analyzer\" : {\n",
        "        \"default\" : {\n",
        "            \"tokenizer\" : \"standard\",\n",
        "            \"filter\" : [\"lowercase\", \"eng_stemmer\"]\n",
        "        }\n",
        "    }\n",
        "}\n",
        "\n",
        "#create the corresponding index settings \n",
        "stemmer_settings = {\n",
        "    \"settings\": {\n",
        "        \"number_of_shards\": 1,\n",
        "        \"number_of_replicas\": 0,\n",
        "        \"analysis\": stemming_analyzer\n",
        "    }\n",
        "}"
      ],
      "execution_count": 3,
      "outputs": []
    },
    {
      "cell_type": "markdown",
      "metadata": {
        "id": "Y1DRyRSxZZE7"
      },
      "source": [
        "### Dictionary Stemmer\n",
        "\n",
        "Dictionary stemmers look up words in a provided dictionary, replacing unstemmed word variants with stemmed words from the dictionary. We are using the [Hunspell Token Filter](https://www.elastic.co/guide/en/elasticsearch/reference/current/analysis-hunspell-tokenfilter.html) that is included in Elasticsearch.\n",
        "\n",
        "In theory, these are well suited for:  \n",
        "1. Stemming irregular words;\n",
        "2. Discerning between words that are spelled similarly but not related conceptually.\n",
        "\n",
        "They also admit a few drawbacks:\n",
        "1. Highly dependent on dictionary quality;\n",
        "2. Size and performance, as a result of having to load all words, prefixes and suffixes from the dictionary.\n",
        "\n",
        "(For more information see the [Elasticsearch documentation](https://www.elastic.co/guide/en/elasticsearch/reference/current/stemming.html#dictionary-stemmers))"
      ]
    },
    {
      "cell_type": "code",
      "metadata": {
        "id": "-S1Zl9JLZZFP"
      },
      "source": [
        "#the order of filter and analyzer is arbitrary\n",
        "dictionary_analyzer = {\n",
        "    \"filter\" : {\n",
        "        \"dictionary_stemmer\" : {\n",
        "          \"type\" : \"hunspell\",\n",
        "          \"locale\" : \"en_US\",\n",
        "          \"dedup\" : True  #duplicate tokens are removed from the filter’s output\n",
        "        }\n",
        "    },\n",
        "    \"analyzer\" : {\n",
        "        \"default\" : {\n",
        "            \"tokenizer\" : \"standard\",\n",
        "            \"filter\" : [\"lowercase\", \"dictionary_stemmer\"]\n",
        "        }\n",
        "    }\n",
        "}\n",
        "\n",
        "#create the correct index settings \n",
        "hunspell_settings = {\n",
        "    \"settings\": {\n",
        "        \"number_of_shards\": 1,\n",
        "        \"number_of_replicas\": 0,\n",
        "        \"analysis\": dictionary_analyzer\n",
        "    }\n",
        "}"
      ],
      "execution_count": 4,
      "outputs": []
    },
    {
      "cell_type": "markdown",
      "metadata": {
        "id": "JM88eyhNCWg4"
      },
      "source": [
        "**Dictionary**\n",
        "\n",
        "To use the Hunspell Token Stemmer for English US you have to download a Hunspell dictionary for that language and make it accessable for your Elasticsearch instance at 'elsaticsearch-7.9.1/ect/elasticsearch/hunspell/en_US'. We used the dictionaries that are used for spellchecking in libreoffice:\n",
        "(For more information visit the [Elasticsearch Website](https://www.elastic.co/guide/en/elasticsearch/reference/current/analysis-hunspell-tokenfilter.html#analysis-hunspell-tokenfilter-dictionary-config))"
      ]
    },
    {
      "cell_type": "code",
      "metadata": {
        "id": "FGVDYK3cIlAO",
        "colab": {
          "base_uri": "https://localhost:8080/"
        },
        "outputId": "a2161c5f-7815-4558-bf70-ffdfece8010e"
      },
      "source": [
        "!wget https://cgit.freedesktop.org/libreoffice/dictionaries/plain/en/en_US.aff -P /content/elasticsearch-7.9.1/config/hunspell/en_US\n",
        "!wget https://cgit.freedesktop.org/libreoffice/dictionaries/plain/en/en_US.dic -P /content/elasticsearch-7.9.1/config/hunspell/en_US"
      ],
      "execution_count": 5,
      "outputs": [
        {
          "output_type": "stream",
          "text": [
            "--2021-01-19 12:51:18--  https://cgit.freedesktop.org/libreoffice/dictionaries/plain/en/en_US.aff\n",
            "Resolving cgit.freedesktop.org (cgit.freedesktop.org)... 131.252.210.161\n",
            "Connecting to cgit.freedesktop.org (cgit.freedesktop.org)|131.252.210.161|:443... connected.\n",
            "HTTP request sent, awaiting response... 200 OK\n",
            "Length: 3090 (3.0K) [text/plain]\n",
            "Saving to: ‘/content/elasticsearch-7.9.1/config/hunspell/en_US/en_US.aff’\n",
            "\n",
            "en_US.aff           100%[===================>]   3.02K  --.-KB/s    in 0s      \n",
            "\n",
            "2021-01-19 12:51:18 (104 MB/s) - ‘/content/elasticsearch-7.9.1/config/hunspell/en_US/en_US.aff’ saved [3090/3090]\n",
            "\n",
            "--2021-01-19 12:51:18--  https://cgit.freedesktop.org/libreoffice/dictionaries/plain/en/en_US.dic\n",
            "Resolving cgit.freedesktop.org (cgit.freedesktop.org)... 131.252.210.161\n",
            "Connecting to cgit.freedesktop.org (cgit.freedesktop.org)|131.252.210.161|:443... connected.\n",
            "HTTP request sent, awaiting response... 200 OK\n",
            "Length: 551260 (538K) [text/plain]\n",
            "Saving to: ‘/content/elasticsearch-7.9.1/config/hunspell/en_US/en_US.dic’\n",
            "\n",
            "en_US.dic           100%[===================>] 538.34K  1.38MB/s    in 0.4s    \n",
            "\n",
            "2021-01-19 12:51:19 (1.38 MB/s) - ‘/content/elasticsearch-7.9.1/config/hunspell/en_US/en_US.dic’ saved [551260/551260]\n",
            "\n"
          ],
          "name": "stdout"
        }
      ]
    },
    {
      "cell_type": "markdown",
      "metadata": {
        "id": "TxkfxWauoWbG"
      },
      "source": [
        "## Process Data\n",
        "\n",
        "Download different corpora, format them and feed them to Elasticsearch"
      ]
    },
    {
      "cell_type": "markdown",
      "metadata": {
        "id": "zjiZiQqBB1ax"
      },
      "source": [
        "### ADI Corpus\n",
        "\n",
        "You can get the corpus from [this link](http://ir.dcs.gla.ac.uk/resources/test_collections/adi/).  <br>"
      ]
    },
    {
      "cell_type": "markdown",
      "metadata": {
        "id": "D14Rxr1uny9L"
      },
      "source": [
        "**Parsing**\n",
        "\n",
        "For detailed information about the parsing of this corpus look at [ this Notebook](https://colab.research.google.com/github/pragmalingu/experiments/blob/master/00_Data/ADICorpus.ipynb) or for parsing in generel read [this guide](https://pragmalingu.de/docs/guides/how-to-parse). An overview of the format of the files can be found here: [Data Sets](https://pragmalingu.de/docs/guides/data-comparison)"
      ]
    },
    {
      "cell_type": "code",
      "metadata": {
        "id": "P1zxf-JB1HQj",
        "colab": {
          "base_uri": "https://localhost:8080/"
        },
        "outputId": "d523ccdf-99bb-47c0-dca1-2cfa23d384f8"
      },
      "source": [
        "# download and unzip data\n",
        "!wget http://ir.dcs.gla.ac.uk/resources/test_collections/adi/adi.tar.gz\n",
        "!tar -xf adi.tar.gz\n",
        "\n",
        "# set paths to the dowloaded data as variables\n",
        "PATH_TO_ADI_TXT = '/content/ADI.ALL'\n",
        "PATH_TO_ADI_QRY = '/content/ADI.QRY'\n",
        "PATH_TO_ADI_REL = '/content/ADI.REL'\n",
        "\n",
        "from collections import defaultdict\n",
        "import re\n",
        "import json\n",
        "from io import StringIO\n",
        "import numpy as np\n",
        "\n",
        "adi_index = \"adi-corpus\"\n",
        "\n",
        "# get the text and query files\n",
        "\n",
        "ID_marker = re.compile('\\.I')\n",
        "\n",
        "def get_data(PATH_TO_FILE, marker):\n",
        "  \"\"\"\n",
        "  Reads file and spilts text into entries at the ID marker '.I'.\n",
        "  First entry is empty, so it's removed.\n",
        "  'marker' contains the regex at which we want to split\n",
        "  \"\"\"\n",
        "  with open (PATH_TO_FILE,'r') as f:\n",
        "    text = f.read().replace('\\n',\" \")\n",
        "    lines = re.split(marker,text)\n",
        "    lines.pop(0)\n",
        "  return lines\n",
        "\n",
        "adi_txt_list = get_data(PATH_TO_ADI_TXT, ID_marker)\n",
        "adi_qry_list = get_data(PATH_TO_ADI_QRY, ID_marker)\n",
        "\n",
        "# process text file\n",
        "\n",
        "adi_title_start = re.compile('\\.T')\n",
        "adi_author_start = re.compile('\\.A')\n",
        "adi_text_start = re.compile('\\.W')\n",
        "\n",
        "adi_txt_data = defaultdict(dict)\n",
        "\n",
        "for line in adi_txt_list:\n",
        "  entries = re.split(adi_title_start,line,1)\n",
        "  id = entries[0].strip()\n",
        "  no_id = entries[1]\n",
        "  if len(re.split(adi_author_start, no_id,1)) > 1:\n",
        "    no_id_entries = re.split(adi_author_start, no_id,1)\n",
        "    adi_txt_data[id]['title'] = no_id_entries[0]\n",
        "    no_title = no_id_entries[1]\n",
        "    no_title_entries = re.split(adi_text_start, no_title)\n",
        "    adi_txt_data[id]['author'] = no_title_entries[0]\n",
        "    adi_txt_data[id]['text'] = no_title_entries[1]\n",
        "  else:\n",
        "    no_id_entries = re.split(adi_text_start, no_id)\n",
        "    adi_txt_data[id]['title'] = no_id_entries[0]\n",
        "    adi_txt_data[id]['text'] = no_id_entries[1]\n",
        "\n",
        "# process query file    \n",
        "\n",
        "qry_chunk_start = re.compile('\\.W')\n",
        "adi_qry_data = defaultdict(dict)\n",
        "\n",
        "for n in range(0,len(adi_qry_list)-1):\n",
        "  line = adi_qry_list[n+1]\n",
        "  _ , question = re.split(qry_chunk_start,line)\n",
        "  adi_qry_data[n+1]['question'] = question\n",
        "\n",
        "# process relevance assesment\n",
        "\n",
        "adi_rel_data = open(PATH_TO_ADI_REL)\n",
        "adi_np = np.loadtxt(adi_rel_data, dtype=float)\n",
        "\n",
        "adi_rel = defaultdict(list)\n",
        "for row in adi_np:\n",
        "  adi_rel[int(row[0])].append(int(row[1])) "
      ],
      "execution_count": 6,
      "outputs": [
        {
          "output_type": "stream",
          "text": [
            "--2021-01-19 12:51:19--  http://ir.dcs.gla.ac.uk/resources/test_collections/adi/adi.tar.gz\n",
            "Resolving ir.dcs.gla.ac.uk (ir.dcs.gla.ac.uk)... 130.209.240.253\n",
            "Connecting to ir.dcs.gla.ac.uk (ir.dcs.gla.ac.uk)|130.209.240.253|:80... connected.\n",
            "HTTP request sent, awaiting response... 200 OK\n",
            "Length: 17307 (17K) [application/gzip]\n",
            "Saving to: ‘adi.tar.gz’\n",
            "\n",
            "adi.tar.gz          100%[===================>]  16.90K  --.-KB/s    in 0.1s    \n",
            "\n",
            "2021-01-19 12:51:20 (172 KB/s) - ‘adi.tar.gz’ saved [17307/17307]\n",
            "\n"
          ],
          "name": "stdout"
        }
      ]
    },
    {
      "cell_type": "markdown",
      "metadata": {
        "id": "CFxeglUsbjHY"
      },
      "source": [
        "**Indexing**\n",
        "\n",
        "Create an index of the ADI corpus for every test setting and index all the documents. This is only possible if it isn't created yet.\n",
        "\n",
        "(For more information see the [Elasticsearch documentation](https://elasticsearch-py.readthedocs.io/en/master/api.html#elasticsearch.client.IndicesClient.create))"
      ]
    },
    {
      "cell_type": "code",
      "metadata": {
        "id": "ISoDO5nfbjHa",
        "colab": {
          "base_uri": "https://localhost:8080/"
        },
        "outputId": "328852e5-f966-4731-dcfb-10dd20e50f73"
      },
      "source": [
        "#create index, see https://elasticsearch-py.readthedocs.io/en/master/api.html#elasticsearch.client.IndicesClient.create\n",
        "adi_index = \"adi-corpus\"\n",
        "stemmer_adi_index = \"stemmer-adi-corpus\"\n",
        "hunspell_adi_index = \"hunspell-adi-corpus\"\n",
        "\n",
        "es.indices.create(adi_index)\n",
        "es.indices.create(stemmer_adi_index, body=stemmer_settings)\n",
        "es.indices.create(hunspell_adi_index, body=hunspell_settings)\n",
        "#index document, see https://elasticsearch-py.readthedocs.io/en/master/#example-usage\n",
        "for ID, doc_data in adi_txt_data.items():\n",
        "  es.index(index=adi_index, id=ID, body=doc_data)\n",
        "  es.index(index=stemmer_adi_index, id=ID, body=doc_data)\n",
        "  es.index(index=hunspell_adi_index, id=ID, body=doc_data)\n",
        "\n",
        "create_response = es.cat.indices()\n",
        "print(create_response)"
      ],
      "execution_count": 7,
      "outputs": [
        {
          "output_type": "stream",
          "text": [
            "green  open hunspell-adi-corpus kicIU9sxQZ-NZMGtE_XNnQ 1 0 75 0 93.3kb 93.3kb\n",
            "green  open stemmer-adi-corpus  OtXaThKZSBCFkgRBztIW6Q 1 0 68 0 82.2kb 82.2kb\n",
            "yellow open adi-corpus          iOt6NH_rTUefFgmLXmx2Yw 1 1 79 0 98.8kb 98.8kb\n",
            "\n"
          ],
          "name": "stdout"
        }
      ]
    },
    {
      "cell_type": "markdown",
      "metadata": {
        "id": "PKtJrp2toWcX"
      },
      "source": [
        "### CACM Corpus\n",
        "\n",
        "You can get the corpus from [this link](http://ir.dcs.gla.ac.uk/resources/test_collections/cacm/). <br>"
      ]
    },
    {
      "cell_type": "markdown",
      "metadata": {
        "id": "wyZpwjmboWcY"
      },
      "source": [
        "**Parsing**\n",
        "\n",
        "For detailed information about the parsing of this corpus look at [ this Notebook](https://colab.research.google.com/github/pragmalingu/experiments/blob/master/00_Data/CACMCorpus.ipynb) or for parsing in generel read [this guide](https://pragmalingu.de/docs/guides/how-to-parse). An overview of the format of the files can be found here: [Data Sets](https://pragmalingu.de/docs/guides/data-comparison)"
      ]
    },
    {
      "cell_type": "code",
      "metadata": {
        "id": "CLroBvrduKbn",
        "colab": {
          "base_uri": "https://localhost:8080/"
        },
        "outputId": "e82a55e1-dcfc-4e6d-bb73-0cf2584b0e8d"
      },
      "source": [
        "# download and unzip data\n",
        "!wget http://ir.dcs.gla.ac.uk/resources/test_collections/cacm/cacm.tar.gz\n",
        "!tar -xf cacm.tar.gz\n",
        "\n",
        "# set paths to the dowloaded data as variablesDownload and unzip data.\n",
        "\n",
        "PATH_TO_CACM_TXT = '/content/cacm.all'\n",
        "PATH_TO_CACM_QRY = '/content/query.text'\n",
        "PATH_TO_CACM_REL = '/content/qrels.text'\n",
        "PATH_TO_CACM_COMMON_WORDS = '/content/common_words'\n",
        "\n",
        "from collections import defaultdict\n",
        "import re\n",
        "import json\n",
        "from io import StringIO\n",
        "import numpy as np\n",
        "\n",
        "cacm_index = \"cacm-corpus\"\n",
        "\n",
        "# get the text and query files\n",
        "\n",
        "ID_marker = re.compile('^\\.I',re.MULTILINE)\n",
        "\n",
        "def get_data(PATH_TO_FILE, marker):\n",
        "  \"\"\"\n",
        "  Reads file and spilts text into entries at the ID marker '.I'.\n",
        "  First entry is empty, so it's removed.\n",
        "  'marker' contains the regex at which we want to split\n",
        "  \"\"\"\n",
        "  with open (PATH_TO_FILE,'r') as f:\n",
        "    text = f.read()\n",
        "    lines = re.split(marker,text)\n",
        "    lines.pop(0)\n",
        "  return lines\n",
        "\n",
        "cacm_txt_list = get_data(PATH_TO_CACM_TXT, ID_marker)\n",
        "cacm_qry_list = get_data(PATH_TO_CACM_QRY, ID_marker)\n",
        "\n",
        "# process text file\n",
        "cacm_chunk_title = re.compile('\\.[T]\\n')\n",
        "cacm_chunk_markers = re.compile('^\\.', re.MULTILINE)\n",
        "cacm_chunk_txt = re.compile('W\\n')\n",
        "\n",
        "cacm_txt_data = defaultdict(dict)\n",
        "\n",
        "for line in cacm_txt_list:\n",
        "    entries = re.split(cacm_chunk_title, line)\n",
        "    id = entries[0].strip()  # save id\n",
        "    no_id = entries[1]\n",
        "    list_of_entries = re.split(cacm_chunk_markers, no_id)\n",
        "    cacm_txt_data[id]['title'] = list_of_entries[0].strip()\n",
        "    for entry in list_of_entries:\n",
        "        if len(re.split(cacm_chunk_txt, entry)) == 2:\n",
        "            cacm_txt_data[id]['text'] = re.split(cacm_chunk_txt, entry)[1]\n",
        "            \n",
        "# process the query data\n",
        "\n",
        "qry_chunk_start = re.compile('^\\.W\\n',re.MULTILINE)\n",
        "cacm_qry_data = defaultdict(dict)\n",
        "\n",
        "for n in range(0,len(cacm_qry_list)-1):\n",
        "  line = cacm_qry_list[n+1]\n",
        "  _ , question = re.split(qry_chunk_start,line)\n",
        "  cacm_qry_data[n+1]['question'] = question\n",
        "\n",
        "# process the relevance assesment data\n",
        "cacm_rel = defaultdict(list)\n",
        "\n",
        "with open (PATH_TO_CACM_REL,'r') as f:\n",
        "  for line in f:\n",
        "    line = re.split(' ',line)\n",
        "    cacm_rel[int(line[0])].append(line[1])"
      ],
      "execution_count": 8,
      "outputs": [
        {
          "output_type": "stream",
          "text": [
            "--2021-01-19 12:51:26--  http://ir.dcs.gla.ac.uk/resources/test_collections/cacm/cacm.tar.gz\n",
            "Resolving ir.dcs.gla.ac.uk (ir.dcs.gla.ac.uk)... 130.209.240.253\n",
            "Connecting to ir.dcs.gla.ac.uk (ir.dcs.gla.ac.uk)|130.209.240.253|:80... connected.\n",
            "HTTP request sent, awaiting response... 200 OK\n",
            "Length: 705665 (689K) [application/gzip]\n",
            "Saving to: ‘cacm.tar.gz’\n",
            "\n",
            "cacm.tar.gz         100%[===================>] 689.13K  1.35MB/s    in 0.5s    \n",
            "\n",
            "2021-01-19 12:51:27 (1.35 MB/s) - ‘cacm.tar.gz’ saved [705665/705665]\n",
            "\n"
          ],
          "name": "stdout"
        }
      ]
    },
    {
      "cell_type": "markdown",
      "metadata": {
        "id": "XtidLeKFb3OE"
      },
      "source": [
        "**Indexing**\n",
        "\n",
        "Create an index of the CACM corpus for every test setting and index all the documents. This is only possible if it isn't created yet.\n",
        "\n",
        "(For more information see the [Elasticsearch documentation](https://elasticsearch-py.readthedocs.io/en/master/api.html#elasticsearch.client.IndicesClient.create))"
      ]
    },
    {
      "cell_type": "code",
      "metadata": {
        "id": "SG8pu2Knb3OH",
        "colab": {
          "base_uri": "https://localhost:8080/"
        },
        "outputId": "e7d00710-e57b-413a-8788-0d73539b1ab3"
      },
      "source": [
        "#create index, see https://elasticsearch-py.readthedocs.io/en/master/api.html#elasticsearch.client.IndicesClient.create\n",
        "cacm_index = \"cacm-corpus\"\n",
        "stemmer_cacm_index = \"stemmer-cacm-corpus\"\n",
        "hunspell_cacm_index = \"hunspell-cacm-corpus\"\n",
        "\n",
        "es.indices.create(cacm_index)\n",
        "es.indices.create(stemmer_cacm_index, body=stemmer_settings)\n",
        "es.indices.create(hunspell_cacm_index, body=hunspell_settings)\n",
        "#index document, see https://elasticsearch-py.readthedocs.io/en/master/#example-usage\n",
        "for ID, doc_data in cacm_txt_data.items():\n",
        "  es.index(index=cacm_index, id=ID, body=doc_data)\n",
        "  es.index(index=stemmer_cacm_index, id=ID, body=doc_data)\n",
        "  es.index(index=hunspell_cacm_index, id=ID, body=doc_data)\n",
        "\n",
        "create_response = es.cat.indices()\n",
        "print(create_response)"
      ],
      "execution_count": 9,
      "outputs": [
        {
          "output_type": "stream",
          "text": [
            "green  open hunspell-adi-corpus  kicIU9sxQZ-NZMGtE_XNnQ 1 0  82 0 106.3kb 106.3kb\n",
            "green  open hunspell-cacm-corpus hp3EFjdIQpKGb1dibyY6og 1 0 730 0   1.1mb   1.1mb\n",
            "green  open stemmer-adi-corpus   OtXaThKZSBCFkgRBztIW6Q 1 0  82 0   101kb   101kb\n",
            "yellow open cacm-corpus          dgZ2bM0HQn2qhh0JTa8MBQ 1 1 717 0     1mb     1mb\n",
            "yellow open adi-corpus           iOt6NH_rTUefFgmLXmx2Yw 1 1  82 0 106.3kb 106.3kb\n",
            "green  open stemmer-cacm-corpus  _UpHGJy9QLqYYpqth_RBaQ 1 0 723 0     1mb     1mb\n",
            "\n"
          ],
          "name": "stdout"
        }
      ]
    },
    {
      "cell_type": "markdown",
      "metadata": {
        "id": "TV7rks6ToWcL"
      },
      "source": [
        "### CISI Corpus\n",
        "\n",
        "You can get the corpus from [this link](http://ir.dcs.gla.ac.uk/resources/test_collections/cisi/).  <br>"
      ]
    },
    {
      "cell_type": "markdown",
      "metadata": {
        "id": "86yPro8JoWcM"
      },
      "source": [
        "**Parsing** \n",
        "\n",
        "For detailed information about the parsing of this corpus look at [ this Notebook](https://colab.research.google.com/github/pragmalingu/experiments/blob/master/00_Data/CISICorpus.ipynb) or for parsing in generel read [this guide](https://pragmalingu.de/docs/guides/how-to-parse). An overview of the format of the files can be found here: [Data Sets](https://pragmalingu.de/docs/guides/data-comparison)"
      ]
    },
    {
      "cell_type": "code",
      "metadata": {
        "id": "hdn3IdFvNPvi",
        "colab": {
          "base_uri": "https://localhost:8080/"
        },
        "outputId": "c79fe13f-24b1-4a7f-b008-1052627baf48"
      },
      "source": [
        "\n",
        "# download and unzip data\n",
        "!wget http://ir.dcs.gla.ac.uk/resources/test_collections/cisi/cisi.tar.gz\n",
        "!tar -xf cisi.tar.gz\n",
        "\n",
        "# set paths to the dowloaded data as variablesDownload and unzip data.\n",
        "PATH_TO_CISI_TXT = '/content/CISI.ALL'\n",
        "PATH_TO_CISI_QRY = '/content/CISI.QRY'\n",
        "PATH_TO_CISI_REL = '/content/CISI.REL'\n",
        "\n",
        "from collections import defaultdict\n",
        "import re\n",
        "import json\n",
        "from io import StringIO\n",
        "import numpy as np\n",
        "\n",
        "cisi_index = \"cisi-corpus\"\n",
        "\n",
        "# get the text and query files\n",
        "\n",
        "ID_marker = re.compile('^\\.I',re.MULTILINE)\n",
        "\n",
        "def get_data(PATH_TO_FILE, marker):\n",
        "  \"\"\"\n",
        "  Reads file and spilts text into entries at the ID marker '.I'.\n",
        "  First entry is empty, so it's removed.\n",
        "  'marker' contains the regex at which we want to split\n",
        "  \"\"\"\n",
        "  with open (PATH_TO_FILE,'r') as f:\n",
        "    text = f.read()\n",
        "    lines = re.split(marker,text)\n",
        "    lines.pop(0)\n",
        "  return lines\n",
        "\n",
        "cisi_txt_list = get_data(PATH_TO_CISI_TXT, ID_marker)\n",
        "cisi_qry_list = get_data(PATH_TO_CISI_QRY, ID_marker)\n",
        "\n",
        "# process text file\n",
        "\n",
        "cisi_title_start = re.compile('[\\n]\\.T')\n",
        "cisi_author_start = re.compile('[\\n]\\.A')\n",
        "cisi_date_start = re.compile('[\\n]\\.B')\n",
        "cisi_text_start = re.compile('[\\n]\\.W')\n",
        "cisi_cross_start = re.compile('[\\n]\\.X')\n",
        "\n",
        "cisi_txt_data = defaultdict(dict)\n",
        "\n",
        "for line in cisi_txt_list:\n",
        "  entries = re.split(cisi_title_start,line,1)\n",
        "  id = entries[0].strip()#save the id\n",
        "  no_id = entries[1] \n",
        "  \n",
        "  if len(re.split(cisi_author_start, no_id)) >= 2: # is there just one author?\n",
        "    no_id_entries = re.split(cisi_author_start, no_id,1)\n",
        "    cisi_txt_data[id]['title'] = no_id_entries[0].strip() # save title\n",
        "    no_title = no_id_entries[1]\n",
        "\n",
        "    if len(re.split(cisi_date_start, no_title)) > 1: # is there a publication date?\n",
        "      no_title_entries = re.split(cisi_date_start, no_title)\n",
        "      cisi_txt_data[id]['author'] = no_title_entries[0].strip() # save athour\n",
        "      no_author = no_title_entries[1]\n",
        "      no_author_entries = re.split(cisi_text_start, no_author)\n",
        "      cisi_txt_data[id]['publication_date'] = no_author_entries[0].strip() # save publication date\n",
        "      no_author_date = no_author_entries[1]\n",
        "    else:\n",
        "      no_title_entries = re.split(cisi_text_start, no_title)\n",
        "      cisi_txt_data[id]['author'] = no_title_entries[0].strip() # save athour\n",
        "      no_author_date = no_title_entries[1]\n",
        "\n",
        "  else:\n",
        "    no_id_entries = re.split(cisi_author_start, no_id)\n",
        "    cisi_txt_data[id]['title'] = no_id_entries[0].strip() # save title\n",
        "    cisi_txt_data[id]['author'] = no_id_entries[1].strip() # save first author\n",
        "    no_title_entries = re.split(cisi_text_start, no_title)\n",
        "    cisi_txt_data[id]['author'] += ','+no_title_entries[0].strip() # save second athour\n",
        "    no_author_date = no_title_entries[1]\n",
        "\n",
        "  last_entries = re.split(cisi_cross_start, no_author_date)\n",
        "  cisi_txt_data[id]['text'] = last_entries[0].strip() # save text\n",
        "  cisi_txt_data[id]['cross-refrences'] = last_entries[1].strip() # save cross refrences\n",
        "\n",
        "# process query file  \n",
        "\n",
        "qry_chunk_start = re.compile('[\\n]\\.W')\n",
        "\n",
        "cisi_qry_data = defaultdict(dict)\n",
        "\n",
        "for line in cisi_qry_list:\n",
        "  id , question = re.split(qry_chunk_start,line)\n",
        "  id = re.findall('\\d{1,3}',id)[0]\n",
        "  cisi_qry_data[id]['question'] = question\n",
        "\n",
        "# process the relevance assesment data\n",
        "cisi_rel = defaultdict(list)\n",
        "\n",
        "with open (PATH_TO_CISI_REL,'r') as f:\n",
        "  for line in f:\n",
        "    line = line.replace(' ','\\t')\n",
        "    line = re.split('\\t',line)\n",
        "    line = list(filter(None, line))\n",
        "    cisi_rel[str(line[0])].append(str(line[1]))"
      ],
      "execution_count": 10,
      "outputs": [
        {
          "output_type": "stream",
          "text": [
            "--2021-01-19 12:53:31--  http://ir.dcs.gla.ac.uk/resources/test_collections/cisi/cisi.tar.gz\n",
            "Resolving ir.dcs.gla.ac.uk (ir.dcs.gla.ac.uk)... 130.209.240.253\n",
            "Connecting to ir.dcs.gla.ac.uk (ir.dcs.gla.ac.uk)|130.209.240.253|:80... connected.\n",
            "HTTP request sent, awaiting response... 200 OK\n",
            "Length: 775144 (757K) [application/gzip]\n",
            "Saving to: ‘cisi.tar.gz’\n",
            "\n",
            "cisi.tar.gz         100%[===================>] 756.98K  1.49MB/s    in 0.5s    \n",
            "\n",
            "2021-01-19 12:53:32 (1.49 MB/s) - ‘cisi.tar.gz’ saved [775144/775144]\n",
            "\n"
          ],
          "name": "stdout"
        }
      ]
    },
    {
      "cell_type": "markdown",
      "metadata": {
        "id": "KliMTl3JcXOA"
      },
      "source": [
        "**Indexing**\n",
        "\n",
        "Create an index of the CISI corpus for every test setting and index all the documents. This is only possible if it isn't created yet.\n",
        "\n",
        "(For more information see the [Elasticsearch documentation](https://elasticsearch-py.readthedocs.io/en/master/api.html#elasticsearch.client.IndicesClient.create))"
      ]
    },
    {
      "cell_type": "code",
      "metadata": {
        "id": "SACv5mWtcXOC",
        "colab": {
          "base_uri": "https://localhost:8080/"
        },
        "outputId": "f269943c-302f-4722-c20e-ae76ce7cbf0b"
      },
      "source": [
        "#create index, see https://elasticsearch-py.readthedocs.io/en/master/api.html#elasticsearch.client.IndicesClient.create\n",
        "cisi_index = \"cisi-corpus\"\n",
        "stemmer_cisi_index = \"stemmer-cisi-corpus\"\n",
        "hunspell_cisi_index = \"hunspell-cisi-corpus\"\n",
        "\n",
        "es.indices.create(cisi_index)\n",
        "es.indices.create(stemmer_cisi_index, body=stemmer_settings)\n",
        "es.indices.create(hunspell_cisi_index, body=hunspell_settings)\n",
        "#index document, see https://elasticsearch-py.readthedocs.io/en/master/#example-usage\n",
        "for ID, doc_data in cisi_txt_data.items():\n",
        "  es.index(index=cisi_index, id=ID, body=doc_data)\n",
        "  es.index(index=stemmer_cisi_index, id=ID, body=doc_data)\n",
        "  es.index(index=hunspell_cisi_index, id=ID, body=doc_data)\n",
        "\n",
        "create_response = es.cat.indices()\n",
        "print(create_response)"
      ],
      "execution_count": 11,
      "outputs": [
        {
          "output_type": "stream",
          "text": [
            "green  open hunspell-cisi-corpus Bj8RxqoBTO-S2uo1CZ4aig 1 0 758 0   3.1mb   3.1mb\n",
            "green  open hunspell-cacm-corpus hp3EFjdIQpKGb1dibyY6og 1 0 730 0   1.1mb   1.1mb\n",
            "green  open hunspell-adi-corpus  kicIU9sxQZ-NZMGtE_XNnQ 1 0  82 0 106.3kb 106.3kb\n",
            "green  open stemmer-adi-corpus   OtXaThKZSBCFkgRBztIW6Q 1 0  82 0   101kb   101kb\n",
            "yellow open cacm-corpus          dgZ2bM0HQn2qhh0JTa8MBQ 1 1 717 0     1mb     1mb\n",
            "green  open stemmer-cisi-corpus  UU3-ojXpTA-sb75MRVW5MQ 1 0 752 0     3mb     3mb\n",
            "yellow open cisi-corpus          1qcIGj9gSpm7OBlmq5uY9w 1 1 746 0   3.1mb   3.1mb\n",
            "yellow open adi-corpus           iOt6NH_rTUefFgmLXmx2Yw 1 1  82 0 106.3kb 106.3kb\n",
            "green  open stemmer-cacm-corpus  _UpHGJy9QLqYYpqth_RBaQ 1 0 723 0     1mb     1mb\n",
            "\n"
          ],
          "name": "stdout"
        }
      ]
    },
    {
      "cell_type": "markdown",
      "metadata": {
        "id": "S1FZPluBoWbL"
      },
      "source": [
        "### Cranfield Corpus\n",
        "\n",
        "You can get the corpus from [this link](http://ir.dcs.gla.ac.uk/resources/test_collections/cran/).  <br>\n"
      ]
    },
    {
      "cell_type": "markdown",
      "metadata": {
        "id": "d8BsqgrXoWbO"
      },
      "source": [
        "**Parsing**\n",
        "\n",
        "For detailed information about the parsing of this corpus look at [ this Notebook](https://colab.research.google.com/github/pragmalingu/experiments/blob/master/00_Data/CranfieldCorpus.ipynb) or for parsing in generel read [this guide](https://pragmalingu.de/docs/guides/how-to-parse). An overview of the format of the files can be found here: [Data Sets](https://pragmalingu.de/docs/guides/data-comparison)"
      ]
    },
    {
      "cell_type": "code",
      "metadata": {
        "id": "QsE0BqpwjrI1",
        "colab": {
          "base_uri": "https://localhost:8080/"
        },
        "outputId": "7fbaba3c-f282-4256-c14f-8e22117a15dc"
      },
      "source": [
        "# download and unzip data\n",
        "!wget http://ir.dcs.gla.ac.uk/resources/test_collections/cran/cran.tar.gz\n",
        "!tar -xf cran.tar.gz\n",
        "\n",
        "# set paths to the dowloaded data as variables\n",
        "PATH_TO_CRAN_TXT = '/content/cran.all.1400'\n",
        "PATH_TO_CRAN_QRY = '/content/cran.qry'\n",
        "PATH_TO_CRAN_REL = '/content/cranqrel'\n",
        "\n",
        "from collections import defaultdict\n",
        "import re\n",
        "import json\n",
        "from io import StringIO\n",
        "import numpy as np\n",
        "\n",
        "cran_index = \"cranfield-corpus\"\n",
        "\n",
        "# get the text entries from the text and query files\n",
        "\n",
        "ID_marker = re.compile('\\.I')\n",
        "\n",
        "def get_data(PATH_TO_FILE, marker):\n",
        "  \"\"\"\n",
        "  Reads file and spilts text into entries at the ID marker '.I'.\n",
        "  First entry is empty, so it's removed.\n",
        "  'marker' contains the regex at which we want to split\n",
        "  \"\"\"\n",
        "  with open (PATH_TO_FILE,'r') as f:\n",
        "    text = f.read().replace('\\n',\" \")\n",
        "    lines = re.split(marker,text)\n",
        "    lines.pop(0)\n",
        "  return lines\n",
        "\n",
        "cran_txt_list = get_data(PATH_TO_CRAN_TXT, ID_marker)\n",
        "cran_qry_list = get_data(PATH_TO_CRAN_QRY, ID_marker)\n",
        "\n",
        "# process text file\n",
        "\n",
        "cran_chunk_start = re.compile('\\.[A,B,T,W]')\n",
        "cran_txt_data = defaultdict(dict)\n",
        "\n",
        "for line in cran_txt_list:\n",
        "  entries= re.split(cran_chunk_start,line)\n",
        "  id = entries[0].strip()\n",
        "  title = entries[1]\n",
        "  author = entries[2]\n",
        "  publication_date = entries[3]\n",
        "  text = entries[4:]\n",
        "  cran_txt_data[id]['title'] = ''.join(title)\n",
        "  cran_txt_data[id]['author'] = author\n",
        "  cran_txt_data[id]['publication_date'] = publication_date\n",
        "  cran_txt_data[id]['text'] = ''.join(text)\n",
        "\n",
        "# process query file\n",
        "\n",
        "qry_chunk_start = re.compile('\\.W')\n",
        "cran_qry_data = defaultdict(dict)\n",
        "\n",
        "for n in range(0,len(cran_qry_list)-1):\n",
        "  line = cran_qry_list[n+1]\n",
        "  _ , question = re.split(qry_chunk_start,line)\n",
        "  cran_qry_data[n+1]['question'] = question\n",
        "\n",
        "# process relevance assesments with rating\n",
        "\n",
        "cran_rel_data = open(PATH_TO_CRAN_REL)\n",
        "cran_np = np.loadtxt(cran_rel_data, dtype=int)\n",
        "\n",
        "cran_rel_rat = defaultdict(list)\n",
        "for row in cran_np:\n",
        "  cran_rel_rat[row[0]].append(tuple(row[1:])) \n",
        "\n",
        "# process relevance assesments without rating\n",
        "cran_rel = defaultdict(list)\n",
        "\n",
        "with open (PATH_TO_CRAN_REL,'r') as f:\n",
        "  for line in f:\n",
        "    line = re.split(' ',line)\n",
        "    cran_rel[int(line[0])].append(line[1])"
      ],
      "execution_count": 12,
      "outputs": [
        {
          "output_type": "stream",
          "text": [
            "--2021-01-19 12:54:31--  http://ir.dcs.gla.ac.uk/resources/test_collections/cran/cran.tar.gz\n",
            "Resolving ir.dcs.gla.ac.uk (ir.dcs.gla.ac.uk)... 130.209.240.253\n",
            "Connecting to ir.dcs.gla.ac.uk (ir.dcs.gla.ac.uk)|130.209.240.253|:80... connected.\n",
            "HTTP request sent, awaiting response... 200 OK\n",
            "Length: 506960 (495K) [application/gzip]\n",
            "Saving to: ‘cran.tar.gz’\n",
            "\n",
            "cran.tar.gz         100%[===================>] 495.08K  1002KB/s    in 0.5s    \n",
            "\n",
            "2021-01-19 12:54:32 (1002 KB/s) - ‘cran.tar.gz’ saved [506960/506960]\n",
            "\n"
          ],
          "name": "stdout"
        }
      ]
    },
    {
      "cell_type": "markdown",
      "metadata": {
        "id": "9dex8ehBEXAz"
      },
      "source": [
        "**Indexing**\n",
        "\n",
        "Create an index of the Cranfield corpus for every test setting and index all the documents. This is only possible if it isn't created yet.\n",
        "\n",
        "(For more information see the [Elasticsearch documentation](https://elasticsearch-py.readthedocs.io/en/master/api.html#elasticsearch.client.IndicesClient.create))"
      ]
    },
    {
      "cell_type": "code",
      "metadata": {
        "id": "Rs-sHqHZEXA1",
        "colab": {
          "base_uri": "https://localhost:8080/"
        },
        "outputId": "216448eb-45c7-4b0b-9476-b7a348caf4a0"
      },
      "source": [
        "#create index, see https://elasticsearch-py.readthedocs.io/en/master/api.html#elasticsearch.client.IndicesClient.create\n",
        "cran_index = \"cranfield-corpus\"\n",
        "stemmer_cran_index = \"stemmer-cranfield-corpus\"\n",
        "hunspell_cran_index = \"hunspell-cranfield-corpus\"\n",
        "\n",
        "es.indices.create(cran_index)\n",
        "es.indices.create(stemmer_cran_index, body=stemmer_settings)\n",
        "es.indices.create(hunspell_cran_index, body=hunspell_settings)\n",
        "#index document, see https://elasticsearch-py.readthedocs.io/en/master/#example-usage\n",
        "for ID, doc_data in cran_txt_data.items():\n",
        "  es.index(index=cran_index, id=ID, body=doc_data)\n",
        "  es.index(index=stemmer_cran_index, id=ID, body=doc_data)\n",
        "  es.index(index=hunspell_cran_index, id=ID, body=doc_data)\n",
        "\n",
        "create_response = es.cat.indices()\n",
        "print(create_response)"
      ],
      "execution_count": 13,
      "outputs": [
        {
          "output_type": "stream",
          "text": [
            "green  open hunspell-cisi-corpus      Bj8RxqoBTO-S2uo1CZ4aig 1 0 758 0   3.1mb   3.1mb\n",
            "green  open hunspell-adi-corpus       kicIU9sxQZ-NZMGtE_XNnQ 1 0  82 0 106.3kb 106.3kb\n",
            "green  open hunspell-cacm-corpus      hp3EFjdIQpKGb1dibyY6og 1 0 730 0   1.1mb   1.1mb\n",
            "yellow open cranfield-corpus          WsKMrDwBTXaecRB9A2XTsw 1 1 785 0   2.3mb   2.3mb\n",
            "green  open stemmer-adi-corpus        OtXaThKZSBCFkgRBztIW6Q 1 0  82 0   101kb   101kb\n",
            "green  open stemmer-cranfield-corpus  l01Njc6xR6OrfOGNNvz1CA 1 0 791 0   2.2mb   2.2mb\n",
            "yellow open cacm-corpus               dgZ2bM0HQn2qhh0JTa8MBQ 1 1 717 0     1mb     1mb\n",
            "yellow open cisi-corpus               1qcIGj9gSpm7OBlmq5uY9w 1 1 746 0   3.1mb   3.1mb\n",
            "green  open stemmer-cisi-corpus       UU3-ojXpTA-sb75MRVW5MQ 1 0 752 0     3mb     3mb\n",
            "green  open hunspell-cranfield-corpus IunvU5FQSaSn8xyjiBtLPA 1 0 803 0   2.3mb   2.3mb\n",
            "yellow open adi-corpus                iOt6NH_rTUefFgmLXmx2Yw 1 1  82 0 106.3kb 106.3kb\n",
            "green  open stemmer-cacm-corpus       _UpHGJy9QLqYYpqth_RBaQ 1 0 723 0     1mb     1mb\n",
            "\n"
          ],
          "name": "stdout"
        }
      ]
    },
    {
      "cell_type": "markdown",
      "metadata": {
        "id": "XMSAoYTXoWcj"
      },
      "source": [
        "### LISA Corpus\n",
        "\n",
        "You can get the corpus from [this link](http://ir.dcs.gla.ac.uk/resources/test_collections/lisa/).  <br>"
      ]
    },
    {
      "cell_type": "markdown",
      "metadata": {
        "id": "ot7zglmMoWcl"
      },
      "source": [
        "**Parsing**\n",
        "\n",
        "For detailed information about the parsing of this corpus look at [ this Notebook](https://colab.research.google.com/github/pragmalingu/experiments/blob/master/00_Data/LISACorpus.ipynb) or for parsing in generel read [this guide](https://pragmalingu.de/docs/guides/how-to-parse). An overview of the format of the files can be found here: [Data Sets](https://pragmalingu.de/docs/guides/data-comparison)"
      ]
    },
    {
      "cell_type": "code",
      "metadata": {
        "id": "k6NEluV1IWbP",
        "colab": {
          "base_uri": "https://localhost:8080/"
        },
        "outputId": "3bfd22d9-1fd3-4419-e2f3-ded0c5cae6c8"
      },
      "source": [
        "# download and unzip data\n",
        "!wget http://ir.dcs.gla.ac.uk/resources/test_collections/lisa/lisa.tar.gz\n",
        "!tar -xf lisa.tar.gz\n",
        "\n",
        "# set paths to the dowloaded data as variablesDownload and unzip data.\n",
        "\n",
        "PATH_TO_LISA_TXT = '/content/'\n",
        "PATH_TO_LISA_QRY = '/content/LISA.QUE'\n",
        "PATH_TO_LISA_REL = '/content/LISARJ.NUM'\n",
        "\n",
        "from collections import defaultdict\n",
        "import re\n",
        "import json\n",
        "from io import StringIO\n",
        "import numpy as np\n",
        "import os\n",
        "\n",
        "lisa_index = \"lisa-corpus\"\n",
        "\n",
        "# get the text and query files\n",
        "\n",
        "file_regex = re.compile('LISA[0-5]')\n",
        "lisa_files = [i for i in os.listdir(PATH_TO_LISA_TXT) if os.path.isfile(os.path.join(PATH_TO_LISA_TXT,i)) and re.match(file_regex,i)]\n",
        "\n",
        "txt_entry_marker = re.compile('\\*{44}',re.MULTILINE)\n",
        "qry_entry_marker = re.compile('#')\n",
        "\n",
        "def get_data(PATH_TO_FILES, marker):\n",
        "  \"\"\"\n",
        "  Reads multiple files and spilts text into entries at the entry marker.\n",
        "  The 'marker' contains the regex at which we want to split\n",
        "  Pops last element since it's empty.\n",
        "  \"\"\"\n",
        "  with open (PATH_TO_FILES,'r') as f:\n",
        "    text = f.read().replace('     ','')\n",
        "    lines = re.split(marker,text)\n",
        "    lines.pop()\n",
        "  return lines\n",
        "\n",
        "lisa_txt_list = []\n",
        "for name in lisa_files: \n",
        "  lisa_txt_list.extend(get_data(PATH_TO_LISA_TXT+name, txt_entry_marker))\n",
        "\n",
        "lisa_qry_list = get_data(PATH_TO_LISA_QRY, qry_entry_marker)\n",
        "\n",
        "# process text file\n",
        "\n",
        "doc_strip = re.compile('\\n?Document {1,2}')\n",
        "\n",
        "lisa_txt_list_stripped = []\n",
        "lisa_txt_data = defaultdict(dict)\n",
        "\n",
        "for el in lisa_txt_list:\n",
        "  lisa_txt_list_stripped.append(re.sub(doc_strip,'', el))\n",
        "\n",
        "for entry in lisa_txt_list_stripped:\n",
        "  parts = entry.split('\\n')\n",
        "  empty_index = parts.index('')\n",
        "  ID = parts[0].strip(' ')\n",
        "  title = parts[1:empty_index]\n",
        "  text = parts[empty_index+1:]\n",
        "  lisa_txt_data[ID]['title'] = ''.join(title)\n",
        "  lisa_txt_data[ID]['text'] = ''.join(text)\n",
        "\n",
        "# process the query data\n",
        "\n",
        "lisa_qry_data = defaultdict(dict)\n",
        "# first line is a special case because it doesn't start with a newline\n",
        "first_line = lisa_qry_list[0]\n",
        "first_question = ' '.join(first_line[1:])\n",
        "lisa_qry_data[int(first_line[0])]['question'] = first_question\n",
        "\n",
        "# after that every line can be handle the same way\n",
        "for n in range(0,len(lisa_qry_list)-1):\n",
        "  line = re.split('\\n',lisa_qry_list[n+1])\n",
        "  question = ' '.join(line[2:])\n",
        "  lisa_qry_data[int(line[1])]['question'] = question\n",
        "\n",
        "# process the relevance assesment data\n",
        "\n",
        "# process relevance assesments\n",
        "lisa_rel = defaultdict(list)\n",
        "\n",
        "rel_marker = re.compile('            \\n        ')\n",
        "rel_split = re.compile('\\n')\n",
        "\n",
        "with open (PATH_TO_LISA_REL,'r') as f:\n",
        "  file = f.read().strip('       ').replace('\\n','')\n",
        "  lines = re.split(' ',file)\n",
        "  lines = list(filter(None, lines))\n",
        "  n = 0\n",
        "  while n < len(lines):\n",
        "    ID = int(lines[n])\n",
        "    num_rel = int(lines[n+1])\n",
        "    rels = lines[(n+2):(n+num_rel+2)]\n",
        "    lisa_rel[ID].extend(rels)\n",
        "    n = n+1+num_rel+1"
      ],
      "execution_count": 14,
      "outputs": [
        {
          "output_type": "stream",
          "text": [
            "--2021-01-19 12:55:30--  http://ir.dcs.gla.ac.uk/resources/test_collections/lisa/lisa.tar.gz\n",
            "Resolving ir.dcs.gla.ac.uk (ir.dcs.gla.ac.uk)... 130.209.240.253\n",
            "Connecting to ir.dcs.gla.ac.uk (ir.dcs.gla.ac.uk)|130.209.240.253|:80... connected.\n",
            "HTTP request sent, awaiting response... 200 OK\n",
            "Length: 1227725 (1.2M) [application/gzip]\n",
            "Saving to: ‘lisa.tar.gz’\n",
            "\n",
            "lisa.tar.gz         100%[===================>]   1.17M  1.95MB/s    in 0.6s    \n",
            "\n",
            "2021-01-19 12:55:31 (1.95 MB/s) - ‘lisa.tar.gz’ saved [1227725/1227725]\n",
            "\n"
          ],
          "name": "stdout"
        }
      ]
    },
    {
      "cell_type": "markdown",
      "metadata": {
        "id": "O8nsJ67Nckia"
      },
      "source": [
        "**Indexing**\n",
        "\n",
        "Create an index of the LISA corpus for every test setting and index all the documents. This is only possible if it isn't created yet.\n",
        "\n",
        "(For more information see the [Elasticsearch documentation](https://elasticsearch-py.readthedocs.io/en/master/api.html#elasticsearch.client.IndicesClient.create))"
      ]
    },
    {
      "cell_type": "code",
      "metadata": {
        "id": "g369ZaZ2ckid",
        "colab": {
          "base_uri": "https://localhost:8080/"
        },
        "outputId": "6e3829bb-474e-42b3-e78e-79484c996538"
      },
      "source": [
        "#create index, see https://elasticsearch-py.readthedocs.io/en/master/api.html#elasticsearch.client.IndicesClient.create\n",
        "lisa_index = \"lisa-corpus\"\n",
        "stemmer_lisa_index = \"stemmer-lisa-corpus\"\n",
        "hunspell_lisa_index = \"hunspell-lisa-corpus\"\n",
        "\n",
        "es.indices.create(lisa_index)\n",
        "es.indices.create(stemmer_lisa_index, body=stemmer_settings)\n",
        "es.indices.create(hunspell_lisa_index, body=hunspell_settings)\n",
        "#index document, see https://elasticsearch-py.readthedocs.io/en/master/#example-usage\n",
        "for ID, doc_data in lisa_txt_data.items():\n",
        "  es.index(index=lisa_index, id=ID, body=doc_data)\n",
        "  es.index(index=stemmer_lisa_index, id=ID, body=doc_data)\n",
        "  es.index(index=hunspell_lisa_index, id=ID, body=doc_data)\n",
        "\n",
        "create_response = es.cat.indices()\n",
        "print(create_response)"
      ],
      "execution_count": 15,
      "outputs": [
        {
          "output_type": "stream",
          "text": [
            "green  open hunspell-cisi-corpus      Bj8RxqoBTO-S2uo1CZ4aig 1 0  758 0   3.1mb   3.1mb\n",
            "green  open hunspell-cacm-corpus      hp3EFjdIQpKGb1dibyY6og 1 0 3204 0   1.6mb   1.6mb\n",
            "green  open hunspell-adi-corpus       kicIU9sxQZ-NZMGtE_XNnQ 1 0   82 0 106.8kb 106.8kb\n",
            "green  open stemmer-adi-corpus        OtXaThKZSBCFkgRBztIW6Q 1 0   82 0 101.4kb 101.4kb\n",
            "green  open stemmer-lisa-corpus       mt4dkZwkTnSPS2T6Omt-eA 1 0  807 0     3mb     3mb\n",
            "yellow open cranfield-corpus          WsKMrDwBTXaecRB9A2XTsw 1 1  785 0   2.3mb   2.3mb\n",
            "green  open stemmer-cranfield-corpus  l01Njc6xR6OrfOGNNvz1CA 1 0  791 0   2.2mb   2.2mb\n",
            "green  open hunspell-cranfield-corpus IunvU5FQSaSn8xyjiBtLPA 1 0  803 0   2.3mb   2.3mb\n",
            "yellow open adi-corpus                iOt6NH_rTUefFgmLXmx2Yw 1 1   82 0 106.7kb 106.7kb\n",
            "green  open stemmer-cacm-corpus       _UpHGJy9QLqYYpqth_RBaQ 1 0 3204 0   1.5mb   1.5mb\n",
            "yellow open lisa-corpus               EZpkvj6mQbev5GK_W6sQ6Q 1 1  800 0   3.1mb   3.1mb\n",
            "green  open hunspell-lisa-corpus      dQ2OEbfkTTit-dcDwZiXbA 1 0  818 0   3.1mb   3.1mb\n",
            "yellow open cacm-corpus               dgZ2bM0HQn2qhh0JTa8MBQ 1 1 3204 0   1.6mb   1.6mb\n",
            "yellow open cisi-corpus               1qcIGj9gSpm7OBlmq5uY9w 1 1  746 0   3.1mb   3.1mb\n",
            "green  open stemmer-cisi-corpus       UU3-ojXpTA-sb75MRVW5MQ 1 0  752 0     3mb     3mb\n",
            "\n"
          ],
          "name": "stdout"
        }
      ]
    },
    {
      "cell_type": "markdown",
      "metadata": {
        "id": "BbhrYkLXoWbk"
      },
      "source": [
        "### Medline Corpus\n",
        "\n",
        "You can get the corpus from [this link](http://ir.dcs.gla.ac.uk/resources/test_collections/med/).  <br>\n"
      ]
    },
    {
      "cell_type": "markdown",
      "metadata": {
        "id": "cFc3bnl3oWbm"
      },
      "source": [
        "**Parsing**\n",
        "\n",
        "For detailed information about the parsing of this corpus look at [ this Notebook](https://colab.research.google.com/github/pragmalingu/experiments/blob/master/00_Data/MedlineCorpus.ipynb) or for parsing in generel read [this guide](https://pragmalingu.de/docs/guides/how-to-parse). An overview of the format of the files can be found here: [Data Sets](https://pragmalingu.de/docs/guides/data-comparison)"
      ]
    },
    {
      "cell_type": "code",
      "metadata": {
        "id": "6Yo-Qv89JG4q",
        "colab": {
          "base_uri": "https://localhost:8080/"
        },
        "outputId": "2735155a-2746-4ad3-f27d-ef34a8f53310"
      },
      "source": [
        "# download and unzip data\n",
        "!wget http://ir.dcs.gla.ac.uk/resources/test_collections/medl/med.tar.gz\n",
        "!tar -xf med.tar.gz\n",
        "\n",
        "# set paths to the dowloaded data as variables\n",
        "PATH_TO_MED_TXT = '/content/MED.ALL'\n",
        "PATH_TO_MED_QRY = '/content/MED.QRY'\n",
        "PATH_TO_MED_REL = '/content/MED.REL'\n",
        "\n",
        "from collections import defaultdict\n",
        "import re\n",
        "import json\n",
        "from io import StringIO\n",
        "import numpy as np\n",
        "\n",
        "med_index = \"medline-corpus\"\n",
        "\n",
        "# get the text and query files\n",
        "\n",
        "ID_marker = re.compile('\\.I')\n",
        "\n",
        "def get_data(PATH_TO_FILE, marker):\n",
        "  \"\"\"\n",
        "  Reads file and spilts text into entries at the ID marker '.I'.\n",
        "  First entry is empty, so it's removed.\n",
        "  'marker' contains the regex at which we want to split\n",
        "  \"\"\"\n",
        "  with open (PATH_TO_FILE,'r') as f:\n",
        "    text = f.read().replace('\\n',\" \")\n",
        "    lines = re.split(marker,text)\n",
        "    lines.pop(0)\n",
        "  return lines\n",
        "\n",
        "med_txt_list = get_data(PATH_TO_MED_TXT, ID_marker)\n",
        "med_qry_list = get_data(PATH_TO_MED_QRY, ID_marker)\n",
        "\n",
        "# process the text and query files\n",
        "\n",
        "qry_chunk_start = re.compile('\\.W')\n",
        "\n",
        "med_txt_data = defaultdict(dict)\n",
        "med_qry_data = defaultdict(dict)\n",
        "\n",
        "def fill_dictionary(dictionary, chunk_list, marker, key_name):\n",
        "  for n in range(0,len(chunk_list)-1):\n",
        "    line = chunk_list[n+1]\n",
        "    _ , chunk = re.split(marker,line)\n",
        "    dictionary[n+1][key_name] = chunk.strip()\n",
        "\n",
        "fill_dictionary(med_txt_data, med_txt_list, qry_chunk_start, 'text')\n",
        "fill_dictionary(med_qry_data, med_qry_list, qry_chunk_start, 'question')\n",
        "\n",
        "# process relevance assesments with rating\n",
        "\n",
        "med_rel_data = open(PATH_TO_MED_REL)\n",
        "med_np = np.loadtxt(med_rel_data, dtype=int)\n",
        "\n",
        "med_rel_rat = defaultdict(list)\n",
        "for row in med_np:\n",
        "  med_rel_rat[row[0]].append(row[2])\n",
        "\n",
        "# process relevance assesments without rating\n",
        "med_rel = defaultdict(list)\n",
        "\n",
        "with open (PATH_TO_MED_REL,'r') as f:\n",
        "  for line in f:\n",
        "    line = re.split(' ',line)\n",
        "    med_rel[int(line[0])].append(line[2])"
      ],
      "execution_count": 16,
      "outputs": [
        {
          "output_type": "stream",
          "text": [
            "--2021-01-19 12:59:06--  http://ir.dcs.gla.ac.uk/resources/test_collections/medl/med.tar.gz\n",
            "Resolving ir.dcs.gla.ac.uk (ir.dcs.gla.ac.uk)... 130.209.240.253\n",
            "Connecting to ir.dcs.gla.ac.uk (ir.dcs.gla.ac.uk)|130.209.240.253|:80... connected.\n",
            "HTTP request sent, awaiting response... 200 OK\n",
            "Length: 375183 (366K) [application/gzip]\n",
            "Saving to: ‘med.tar.gz’\n",
            "\n",
            "med.tar.gz          100%[===================>] 366.39K   916KB/s    in 0.4s    \n",
            "\n",
            "2021-01-19 12:59:07 (916 KB/s) - ‘med.tar.gz’ saved [375183/375183]\n",
            "\n"
          ],
          "name": "stdout"
        }
      ]
    },
    {
      "cell_type": "markdown",
      "metadata": {
        "id": "yQtoRnUec7GE"
      },
      "source": [
        "**Indexing**\n",
        "\n",
        "Create an index of the medline corpus for every test setting and index all the documents. This is only possible if it isn't created yet.\n",
        "\n",
        "(For more information see the [Elasticsearch documentation](https://elasticsearch-py.readthedocs.io/en/master/api.html#elasticsearch.client.IndicesClient.create))"
      ]
    },
    {
      "cell_type": "code",
      "metadata": {
        "id": "ZskOyOnyc7GG",
        "colab": {
          "base_uri": "https://localhost:8080/"
        },
        "outputId": "c56509c6-50be-405c-a109-68dbcd16d8bf"
      },
      "source": [
        "#create index, see https://elasticsearch-py.readthedocs.io/en/master/api.html#elasticsearch.client.IndicesClient.create\n",
        "med_index = \"medline-corpus\"\n",
        "stemmer_med_index = \"stemmer-medline-corpus\"\n",
        "hunspell_med_index = \"hunspell-medline-corpus\"\n",
        "\n",
        "es.indices.create(med_index)\n",
        "es.indices.create(stemmer_med_index, body=stemmer_settings)\n",
        "es.indices.create(hunspell_med_index, body=hunspell_settings)\n",
        "#index document, see https://elasticsearch-py.readthedocs.io/en/master/#example-usage\n",
        "for ID, doc_data in med_txt_data.items():\n",
        "  es.index(index=med_index, id=ID, body=doc_data)\n",
        "  es.index(index=stemmer_med_index, id=ID, body=doc_data)\n",
        "  es.index(index=hunspell_med_index, id=ID, body=doc_data)\n",
        "\n",
        "create_response = es.cat.indices()\n",
        "print(create_response)"
      ],
      "execution_count": 17,
      "outputs": [
        {
          "output_type": "stream",
          "text": [
            "green  open hunspell-cisi-corpus      Bj8RxqoBTO-S2uo1CZ4aig 1 0 1460 0   2.5mb   2.5mb\n",
            "green  open hunspell-adi-corpus       kicIU9sxQZ-NZMGtE_XNnQ 1 0   82 0 106.8kb 106.8kb\n",
            "green  open hunspell-cacm-corpus      hp3EFjdIQpKGb1dibyY6og 1 0 3204 0   1.6mb   1.6mb\n",
            "green  open stemmer-lisa-corpus       mt4dkZwkTnSPS2T6Omt-eA 1 0  807 0     3mb     3mb\n",
            "green  open stemmer-adi-corpus        OtXaThKZSBCFkgRBztIW6Q 1 0   82 0 101.4kb 101.4kb\n",
            "yellow open cranfield-corpus          WsKMrDwBTXaecRB9A2XTsw 1 1  785 0   2.3mb   2.3mb\n",
            "green  open stemmer-cranfield-corpus  l01Njc6xR6OrfOGNNvz1CA 1 0  791 0   2.2mb   2.2mb\n",
            "green  open hunspell-cranfield-corpus IunvU5FQSaSn8xyjiBtLPA 1 0  803 0   2.3mb   2.3mb\n",
            "yellow open adi-corpus                iOt6NH_rTUefFgmLXmx2Yw 1 1   82 0 106.7kb 106.7kb\n",
            "green  open stemmer-cacm-corpus       _UpHGJy9QLqYYpqth_RBaQ 1 0 3204 0   1.5mb   1.5mb\n",
            "yellow open medline-corpus            QW-dncM2TE2T98UeTt9cog 1 1  739 0   1.5mb   1.5mb\n",
            "yellow open lisa-corpus               EZpkvj6mQbev5GK_W6sQ6Q 1 1  800 0   3.1mb   3.1mb\n",
            "green  open hunspell-lisa-corpus      dQ2OEbfkTTit-dcDwZiXbA 1 0  818 0   3.1mb   3.1mb\n",
            "green  open stemmer-medline-corpus    az2sMdoNSYSJPgP3euBh9g 1 0  747 0   1.4mb   1.4mb\n",
            "yellow open cacm-corpus               dgZ2bM0HQn2qhh0JTa8MBQ 1 1 3204 0   1.6mb   1.6mb\n",
            "green  open stemmer-cisi-corpus       UU3-ojXpTA-sb75MRVW5MQ 1 0 1460 0   2.5mb   2.5mb\n",
            "yellow open cisi-corpus               1qcIGj9gSpm7OBlmq5uY9w 1 1 1460 0   2.6mb   2.6mb\n",
            "green  open hunspell-medline-corpus   Kmruy-yTRvuV0Xr6zUuX6Q 1 0  755 0   1.5mb   1.5mb\n",
            "\n"
          ],
          "name": "stdout"
        }
      ]
    },
    {
      "cell_type": "markdown",
      "metadata": {
        "id": "xTX_QjdboWc4"
      },
      "source": [
        "### NPL Corpus\n",
        "\n",
        "You can get the corpus from [this link](http://ir.dcs.gla.ac.uk/resources/test_collections/npl/).  <br>\n"
      ]
    },
    {
      "cell_type": "markdown",
      "metadata": {
        "id": "z9MtEOO2oWc5"
      },
      "source": [
        "**Parsing**\n",
        "\n",
        "For detailed information about the parsing of this corpus look at [ this Notebook](https://colab.research.google.com/github/pragmalingu/experiments/blob/master/00_Data/NPLCorpus.ipynb) or for parsing in generel read [this guide](https://pragmalingu.de/docs/guides/how-to-parse). An overview of the format of the files can be found here: [Data Sets](https://pragmalingu.de/docs/guides/data-comparison)"
      ]
    },
    {
      "cell_type": "code",
      "metadata": {
        "id": "FAcUrS6w34QS",
        "colab": {
          "base_uri": "https://localhost:8080/"
        },
        "outputId": "e1e69309-8139-440a-8877-a25f265b263d"
      },
      "source": [
        "# download and unzip data\n",
        "!wget http://ir.dcs.gla.ac.uk/resources/test_collections/npl/npl.tar.gz\n",
        "!tar -xf npl.tar.gz\n",
        "\n",
        "# set paths to the dowloaded data as variablesDownload and unzip data.\n",
        "\n",
        "PATH_TO_NPL_TXT = '/content/doc-text'\n",
        "PATH_TO_NPL_QRY = '/content/query-text'\n",
        "PATH_TO_NPL_REL = '/content/rlv-ass'\n",
        "\n",
        "from collections import defaultdict\n",
        "import re\n",
        "import json\n",
        "from io import StringIO\n",
        "import numpy as np\n",
        "import os\n",
        "\n",
        "npl_index = \"npl-corpus\"\n",
        "\n",
        "# get the text, query and rel files\n",
        "\n",
        "txt_entry_marker = re.compile('\\n   /\\n')\n",
        "qry_entry_marker = re.compile('\\n/\\n')\n",
        "rel_entry_marker = re.compile('\\n   /\\n')\n",
        "\n",
        "def get_data(PATH_TO_FILES, marker):\n",
        "  \"\"\"\n",
        "  Reads multiple files and spilts text into entries at the entry marker.\n",
        "  The 'marker' contains the regex at which we want to split\n",
        "  Pops last element since it's empty.\n",
        "  \"\"\"\n",
        "  with open (PATH_TO_FILES,'r') as f:\n",
        "    text = f.read()\n",
        "    lines = re.split(marker,text)\n",
        "    lines.pop()\n",
        "  return lines\n",
        "\n",
        "npl_txt_list = get_data(PATH_TO_NPL_TXT, txt_entry_marker)\n",
        "npl_qry_list = get_data(PATH_TO_NPL_QRY, qry_entry_marker)\n",
        "npl_rel_list = get_data(PATH_TO_NPL_REL, rel_entry_marker)\n",
        "\n",
        "# process the documents\n",
        "\n",
        "npl_txt_data = defaultdict(dict)\n",
        "\n",
        "for entry in npl_txt_list:\n",
        "  splitted = entry.split('\\n')\n",
        "  splitted = list(filter(None, splitted))\n",
        "  ID = splitted[0]\n",
        "  text = ' '.join(map(str, splitted[1:]))\n",
        "  npl_txt_data[ID]['text'] = text\n",
        "\n",
        "# process the queries\n",
        "\n",
        "npl_qry_data = defaultdict(dict)\n",
        "\n",
        "for entry in npl_qry_list:\n",
        "  splitted = entry.split('\\n')\n",
        "  splitted = list(filter(None, splitted))\n",
        "  ID = int(splitted[0])\n",
        "  question = ' '.join(map(str, splitted[1:]))\n",
        "  npl_qry_data[ID]['question'] = question\n",
        "\n",
        "# process relevance assesments\n",
        "\n",
        "npl_rel = defaultdict(list)\n",
        "\n",
        "for entry in npl_rel_list:\n",
        "  splitted = entry.replace('\\n','').split(' ')\n",
        "  splitted = list(filter(None, splitted))\n",
        "  ID = int(splitted[0])\n",
        "  npl_rel[ID].extend(splitted[1:]) "
      ],
      "execution_count": 18,
      "outputs": [
        {
          "output_type": "stream",
          "text": [
            "--2021-01-19 12:59:47--  http://ir.dcs.gla.ac.uk/resources/test_collections/npl/npl.tar.gz\n",
            "Resolving ir.dcs.gla.ac.uk (ir.dcs.gla.ac.uk)... 130.209.240.253\n",
            "Connecting to ir.dcs.gla.ac.uk (ir.dcs.gla.ac.uk)|130.209.240.253|:80... connected.\n",
            "HTTP request sent, awaiting response... 200 OK\n",
            "Length: 2125168 (2.0M) [application/gzip]\n",
            "Saving to: ‘npl.tar.gz’\n",
            "\n",
            "npl.tar.gz          100%[===================>]   2.03M  2.57MB/s    in 0.8s    \n",
            "\n",
            "2021-01-19 12:59:48 (2.57 MB/s) - ‘npl.tar.gz’ saved [2125168/2125168]\n",
            "\n"
          ],
          "name": "stdout"
        }
      ]
    },
    {
      "cell_type": "markdown",
      "metadata": {
        "id": "xjgZaU7DdVef"
      },
      "source": [
        "**Indexing**\n",
        "\n",
        "Create an index of the NPL corpus for every test setting and index all the documents. This is only possible if it isn't created yet.\n",
        "\n",
        "(For more information see the [Elasticsearch documentation](https://elasticsearch-py.readthedocs.io/en/master/api.html#elasticsearch.client.IndicesClient.create))"
      ]
    },
    {
      "cell_type": "code",
      "metadata": {
        "id": "LU2H1TfhdVek",
        "colab": {
          "base_uri": "https://localhost:8080/"
        },
        "outputId": "276f3767-d2ee-42f9-c264-439b86a5e259"
      },
      "source": [
        "#create index, see https://elasticsearch-py.readthedocs.io/en/master/api.html#elasticsearch.client.IndicesClient.create\n",
        "npl_index = \"npl-corpus\"\n",
        "stemmer_npl_index = \"stemmer-npl-corpus\"\n",
        "hunspell_npl_index = \"hunspell-npl-corpus\"\n",
        "\n",
        "es.indices.create(npl_index)\n",
        "es.indices.create(stemmer_npl_index, body=stemmer_settings)\n",
        "es.indices.create(hunspell_npl_index, body=hunspell_settings)\n",
        "#index document, see https://elasticsearch-py.readthedocs.io/en/master/#example-usage\n",
        "for ID, doc_data in npl_txt_data.items():\n",
        "  es.index(index=npl_index, id=ID, body=doc_data)\n",
        "  es.index(index=stemmer_npl_index, id=ID, body=doc_data)\n",
        "  es.index(index=hunspell_npl_index, id=ID, body=doc_data)\n",
        "\n",
        "create_response = es.cat.indices()\n",
        "print(create_response)"
      ],
      "execution_count": 19,
      "outputs": [
        {
          "output_type": "stream",
          "text": [
            "green  open hunspell-cisi-corpus      Bj8RxqoBTO-S2uo1CZ4aig 1 0 1460 0   2.5mb   2.5mb\n",
            "green  open hunspell-adi-corpus       kicIU9sxQZ-NZMGtE_XNnQ 1 0   82 0 106.8kb 106.8kb\n",
            "green  open hunspell-cacm-corpus      hp3EFjdIQpKGb1dibyY6og 1 0 3204 0   1.6mb   1.6mb\n",
            "green  open stemmer-npl-corpus        TxWtk3HzRXC9H5Y9u6G8tQ 1 0  808 0   2.4mb   2.4mb\n",
            "green  open stemmer-lisa-corpus       mt4dkZwkTnSPS2T6Omt-eA 1 0 6000 0   4.5mb   4.5mb\n",
            "yellow open cranfield-corpus          WsKMrDwBTXaecRB9A2XTsw 1 1 1400 0   1.8mb   1.8mb\n",
            "green  open stemmer-adi-corpus        OtXaThKZSBCFkgRBztIW6Q 1 0   82 0 101.4kb 101.4kb\n",
            "green  open stemmer-cranfield-corpus  l01Njc6xR6OrfOGNNvz1CA 1 0 1400 0   1.8mb   1.8mb\n",
            "green  open hunspell-cranfield-corpus IunvU5FQSaSn8xyjiBtLPA 1 0 1400 0   1.8mb   1.8mb\n",
            "yellow open adi-corpus                iOt6NH_rTUefFgmLXmx2Yw 1 1   82 0 106.7kb 106.7kb\n",
            "green  open stemmer-cacm-corpus       _UpHGJy9QLqYYpqth_RBaQ 1 0 3204 0   1.5mb   1.5mb\n",
            "yellow open medline-corpus            QW-dncM2TE2T98UeTt9cog 1 1 1032 0   1.1mb   1.1mb\n",
            "yellow open lisa-corpus               EZpkvj6mQbev5GK_W6sQ6Q 1 1 6000 0   4.6mb   4.6mb\n",
            "green  open hunspell-lisa-corpus      dQ2OEbfkTTit-dcDwZiXbA 1 0 6000 0   4.6mb   4.6mb\n",
            "yellow open npl-corpus                3YwFduDlSqKb7PnRGDEgbA 1 1  803 0   2.4mb   2.4mb\n",
            "green  open stemmer-medline-corpus    az2sMdoNSYSJPgP3euBh9g 1 0 1032 0     1mb     1mb\n",
            "yellow open cacm-corpus               dgZ2bM0HQn2qhh0JTa8MBQ 1 1 3204 0   1.6mb   1.6mb\n",
            "green  open hunspell-npl-corpus       3Lr2hd20Q82B4gf3dViSJw 1 0  815 0   2.4mb   2.4mb\n",
            "green  open stemmer-cisi-corpus       UU3-ojXpTA-sb75MRVW5MQ 1 0 1460 0   2.5mb   2.5mb\n",
            "yellow open cisi-corpus               1qcIGj9gSpm7OBlmq5uY9w 1 1 1460 0   2.6mb   2.6mb\n",
            "green  open hunspell-medline-corpus   Kmruy-yTRvuV0Xr6zUuX6Q 1 0 1032 0   1.1mb   1.1mb\n",
            "\n"
          ],
          "name": "stdout"
        }
      ]
    },
    {
      "cell_type": "markdown",
      "metadata": {
        "id": "9CQZOrdFoWcv"
      },
      "source": [
        "### Time Corpus\n",
        "\n",
        "You can get the corpus from [this link](http://ir.dcs.gla.ac.uk/resources/test_collections/time/).  <br>\n"
      ]
    },
    {
      "cell_type": "markdown",
      "metadata": {
        "id": "Va-LJiyxoWcv"
      },
      "source": [
        "**Parsing**\n",
        "\n",
        "For detailed information about the parsing of this corpus look at [ this Notebook](https://colab.research.google.com/github/pragmalingu/experiments/blob/master/00_Data/TimeCorpus.ipynb) or for parsing in generel read [this guide](https://pragmalingu.de/docs/guides/how-to-parse). An overview of the format of the files can be found here: [Data Sets](https://pragmalingu.de/docs/guides/data-comparison)"
      ]
    },
    {
      "cell_type": "code",
      "metadata": {
        "id": "JHfj2Jzbyd83",
        "colab": {
          "base_uri": "https://localhost:8080/"
        },
        "outputId": "1340fb36-068b-4ce3-f7e3-3fe0daaa2b0e"
      },
      "source": [
        "# download and unzip data\n",
        "!wget http://ir.dcs.gla.ac.uk/resources/test_collections/time/time.tar.gz\n",
        "!tar -xf time.tar.gz\n",
        "\n",
        "# set paths to the dowloaded data as variablesDownload and unzip data.\n",
        "\n",
        "PATH_TO_TIME_TXT = '/content/TIME.ALL'\n",
        "PATH_TO_TIME_QRY = '/content/TIME.QUE'\n",
        "PATH_TO_TIME_REL = '/content/TIME.REL'\n",
        "\n",
        "from collections import defaultdict\n",
        "import re\n",
        "import json\n",
        "from io import StringIO\n",
        "import numpy as np\n",
        "import os\n",
        "\n",
        "time_index = \"time-corpus\"\n",
        "\n",
        "# get the text and query files\n",
        "\n",
        "txt_entry_marker = re.compile('\\*TEXT')\n",
        "qry_entry_marker = re.compile('\\*FIND    ')\n",
        "def get_data(PATH_TO_FILES, marker):\n",
        "  \"\"\"\n",
        "  Reads multiple files and spilts text into entries at the entry marker.\n",
        "  The 'marker' contains the regex at which we want to split\n",
        "  Pops last element since it's empty.\n",
        "  \"\"\"\n",
        "  with open (PATH_TO_FILES,'r') as f:\n",
        "    text = f.read()\n",
        "    lines = re.split(marker,text)\n",
        "    lines.pop(0)\n",
        "  return lines\n",
        "\n",
        "time_txt_list = get_data(PATH_TO_TIME_TXT, txt_entry_marker)\n",
        "time_qry_list = get_data(PATH_TO_TIME_QRY, qry_entry_marker)\n",
        "\n",
        "# process text file\n",
        "\n",
        "page_split = re.compile('PAGE \\d{3}')\n",
        "\n",
        "time_txt_data = defaultdict(dict)\n",
        "ID = 1\n",
        "for entry in time_txt_list:\n",
        "  splitted = re.split(page_split,entry)\n",
        "  time_txt_data[ID]['text'] = splitted[1]\n",
        "  ID += 1\n",
        "\n",
        "time_qry_data = defaultdict(dict)\n",
        "qry_split = re.compile('\\n\\n ')\n",
        "\n",
        "for query in time_qry_list:\n",
        "  entries = re.split(qry_split,query)\n",
        "  time_qry_data[int(entries[0])]['question'] = entries[1]\n",
        "\n",
        "# process relevance assesments\n",
        "time_rel = defaultdict(list)\n",
        "\n",
        "rel_marker = re.compile('            \\n        ')\n",
        "rel_split = re.compile('\\n')\n",
        "\n",
        "with open (PATH_TO_TIME_REL,'r') as f:\n",
        "  for lines in f:\n",
        "    line = lines.strip().replace('   ',' ').replace('  ',' ').split(' ')\n",
        "    if len(line) > 1:\n",
        "      time_rel[int(line[0])].extend(line[1:])"
      ],
      "execution_count": 20,
      "outputs": [
        {
          "output_type": "stream",
          "text": [
            "--2021-01-19 13:06:40--  http://ir.dcs.gla.ac.uk/resources/test_collections/time/time.tar.gz\n",
            "Resolving ir.dcs.gla.ac.uk (ir.dcs.gla.ac.uk)... 130.209.240.253\n",
            "Connecting to ir.dcs.gla.ac.uk (ir.dcs.gla.ac.uk)|130.209.240.253|:80... connected.\n",
            "HTTP request sent, awaiting response... 200 OK\n",
            "Length: 627965 (613K) [application/gzip]\n",
            "Saving to: ‘time.tar.gz’\n",
            "\n",
            "time.tar.gz         100%[===================>] 613.25K  1.20MB/s    in 0.5s    \n",
            "\n",
            "2021-01-19 13:06:40 (1.20 MB/s) - ‘time.tar.gz’ saved [627965/627965]\n",
            "\n"
          ],
          "name": "stdout"
        }
      ]
    },
    {
      "cell_type": "markdown",
      "metadata": {
        "id": "uFJdHtsUdWbd"
      },
      "source": [
        "**Indexing**\n",
        "\n",
        "Create an index of the Time corpus for every test setting and index all the documents. This is only possible if it isn't created yet.\n",
        "\n",
        "(For more information see the [Elasticsearch documentation](https://elasticsearch-py.readthedocs.io/en/master/api.html#elasticsearch.client.IndicesClient.create))"
      ]
    },
    {
      "cell_type": "code",
      "metadata": {
        "id": "IRuA5W2WdWbe",
        "colab": {
          "base_uri": "https://localhost:8080/"
        },
        "outputId": "041597f8-1ed8-421b-975b-7f7551cf2cde"
      },
      "source": [
        "#create index, see https://elasticsearch-py.readthedocs.io/en/master/api.html#elasticsearch.client.IndicesClient.create\n",
        "time_index = \"time-corpus\"\n",
        "stemmer_time_index = \"stemmer-time-corpus\"\n",
        "hunspell_time_index = \"hunspell-time-corpus\"\n",
        "\n",
        "es.indices.create(time_index)\n",
        "es.indices.create(stemmer_time_index, body=stemmer_settings)\n",
        "es.indices.create(hunspell_time_index, body=hunspell_settings)\n",
        "#index document, see https://elasticsearch-py.readthedocs.io/en/master/#example-usage\n",
        "for ID, doc_data in time_txt_data.items():\n",
        "  es.index(index=time_index, id=ID, body=doc_data)\n",
        "  es.index(index=stemmer_time_index, id=ID, body=doc_data)\n",
        "  es.index(index=hunspell_time_index, id=ID, body=doc_data)\n",
        "\n",
        "create_response = es.cat.indices()\n",
        "print(create_response)"
      ],
      "execution_count": 21,
      "outputs": [
        {
          "output_type": "stream",
          "text": [
            "green  open hunspell-cisi-corpus      Bj8RxqoBTO-S2uo1CZ4aig 1 0 1460 0   2.5mb   2.5mb\n",
            "green  open hunspell-time-corpus      i9GRDhIgQbOl6iSdeQT32Q 1 0  404 0   1.9mb   1.9mb\n",
            "green  open hunspell-cacm-corpus      hp3EFjdIQpKGb1dibyY6og 1 0 3204 0   1.6mb   1.6mb\n",
            "green  open hunspell-adi-corpus       kicIU9sxQZ-NZMGtE_XNnQ 1 0   82 0 106.8kb 106.8kb\n",
            "green  open stemmer-adi-corpus        OtXaThKZSBCFkgRBztIW6Q 1 0   82 0 101.4kb 101.4kb\n",
            "yellow open cranfield-corpus          WsKMrDwBTXaecRB9A2XTsw 1 1 1400 0   1.8mb   1.8mb\n",
            "green  open stemmer-npl-corpus        TxWtk3HzRXC9H5Y9u6G8tQ 1 0  808 0   2.4mb   2.4mb\n",
            "green  open stemmer-lisa-corpus       mt4dkZwkTnSPS2T6Omt-eA 1 0 6000 0   4.5mb   4.5mb\n",
            "green  open stemmer-cranfield-corpus  l01Njc6xR6OrfOGNNvz1CA 1 0 1400 0   1.8mb   1.8mb\n",
            "green  open hunspell-cranfield-corpus IunvU5FQSaSn8xyjiBtLPA 1 0 1400 0   1.8mb   1.8mb\n",
            "green  open stemmer-cacm-corpus       _UpHGJy9QLqYYpqth_RBaQ 1 0 3204 0   1.5mb   1.5mb\n",
            "yellow open adi-corpus                iOt6NH_rTUefFgmLXmx2Yw 1 1   82 0 106.7kb 106.7kb\n",
            "yellow open medline-corpus            QW-dncM2TE2T98UeTt9cog 1 1 1032 0   1.1mb   1.1mb\n",
            "yellow open lisa-corpus               EZpkvj6mQbev5GK_W6sQ6Q 1 1 6000 0   4.6mb   4.6mb\n",
            "green  open hunspell-lisa-corpus      dQ2OEbfkTTit-dcDwZiXbA 1 0 6000 0   4.6mb   4.6mb\n",
            "yellow open npl-corpus                3YwFduDlSqKb7PnRGDEgbA 1 1  803 0   2.4mb   2.4mb\n",
            "green  open stemmer-time-corpus       MVx9AAQkQoW8HY_25O2rUw 1 0  421 0   1.9mb   1.9mb\n",
            "green  open stemmer-medline-corpus    az2sMdoNSYSJPgP3euBh9g 1 0 1032 0     1mb     1mb\n",
            "yellow open cacm-corpus               dgZ2bM0HQn2qhh0JTa8MBQ 1 1 3204 0   1.6mb   1.6mb\n",
            "yellow open cisi-corpus               1qcIGj9gSpm7OBlmq5uY9w 1 1 1460 0   2.6mb   2.6mb\n",
            "green  open stemmer-cisi-corpus       UU3-ojXpTA-sb75MRVW5MQ 1 0 1460 0   2.5mb   2.5mb\n",
            "green  open hunspell-npl-corpus       3Lr2hd20Q82B4gf3dViSJw 1 0  815 0   2.4mb   2.4mb\n",
            "yellow open time-corpus               li47D8c8SLGINWdMA5hK2w 1 1  415 0     2mb     2mb\n",
            "green  open hunspell-medline-corpus   Kmruy-yTRvuV0Xr6zUuX6Q 1 0 1032 0   1.1mb   1.1mb\n",
            "\n"
          ],
          "name": "stdout"
        }
      ]
    },
    {
      "cell_type": "markdown",
      "metadata": {
        "id": "DhXwWF1W4mIn"
      },
      "source": [
        "## Evaluation\n",
        "\n",
        "Since the data is now formatted and indexed, we can test the ranking produced by each configured analyzer with the [Elasticsearch Ranking Evaluation API](https://www.elastic.co/guide/en/elasticsearch/reference/current/search-rank-eval.html)."
      ]
    },
    {
      "cell_type": "markdown",
      "metadata": {
        "id": "CemuLaUAMHKP"
      },
      "source": [
        "### Recall\n",
        "\n",
        "In this section we only evaluate the Recall scores."
      ]
    },
    {
      "cell_type": "markdown",
      "metadata": {
        "id": "u71ZvdbWMkIe"
      },
      "source": [
        "**Multi Match Query**\n",
        "\n",
        "Here we evaluate the data with the [\"multi_match\"](https://pragmalingu.de/docs/experiments/experiment1#standard-elasticsearch) option of elastic search:"
      ]
    },
    {
      "cell_type": "code",
      "metadata": {
        "id": "pn_g9h7xMkIi"
      },
      "source": [
        "#use rank eval api, see https://elasticsearch-py.readthedocs.io/en/master/api.html?highlight=_rank_eval#elasticsearch.Elasticsearch.rank_eval \n",
        "#and https://www.elastic.co/guide/en/elasticsearch/reference/current/query-dsl-simple-query-string-query.html \n",
        "\n",
        "import json\n",
        "from collections import defaultdict\n",
        "\n",
        "adi_index = 'adi-corpus'\n",
        "cacm_index = 'cacm-corpus'\n",
        "cisi_index = 'cisi-corpus'\n",
        "cran_index = 'cranfield-corpus'\n",
        "lisa_index = 'lisa-corpus'\n",
        "med_index = 'medline-corpus'\n",
        "npl_index = 'npl-corpus'\n",
        "time_index = 'time-corpus'\n",
        "\n",
        "#function to get normal match evaluation body \n",
        "def create_query_body_match_recall(query_dict, rel_dict, index_name):\n",
        "  \"\"\"\n",
        "  The function creates a request for every query in query_dict and rates the relevant documents with rel_dict to 1.\n",
        "  The index name has to be the same as from the documents your looking at.\n",
        "  An evaluation body for the elasticsearch ranking API is returned.\n",
        "  \"\"\"\n",
        "  eval_body = {\n",
        "      \"requests\": '',\n",
        "      \"metric\": {\n",
        "          \"recall\": {\n",
        "              \"relevant_rating_threshold\": 1,\n",
        "              \"k\": 20\n",
        "              }\n",
        "      }\n",
        "  }\n",
        "  requests = [] \n",
        "  current_request = defaultdict(lambda: defaultdict())\n",
        "  current_rel = {\"_index\": index_name, \"_id\": '', \"rating\": int}\n",
        "  for query_ID, query_txt in query_dict.items():\n",
        "    current_query = {\"query\": { \"multi_match\": { \"query\": '' , \"fields\" : [\"title\",\"text\"]}}}\n",
        "    current_query[\"query\"][\"multi_match\"][\"query\"] = query_txt['question']\n",
        "    current_request[\"id\"] = 'Query_'+str(query_ID)\n",
        "    current_request[\"request\"] = current_query.copy()\n",
        "    current_request[\"ratings\"] = [{\"_index\": index_name, \"_id\": str(el), \"rating\": 1} for el in rel_dict[query_ID]]\n",
        "    requests.append(current_request.copy())\n",
        "  eval_body[\"requests\"] = requests\n",
        "  return eval_body\n",
        "\n",
        "\n",
        "#ADI\n",
        "adi_create_match_recall = create_query_body_match_recall(adi_qry_data, adi_rel, adi_index)\n",
        "adi_eval_body_match_recall = json.dumps(adi_create_match_recall)\n",
        "adi_res_match_recall = es.rank_eval(adi_eval_body_match_recall, adi_index)\n",
        "#print(json.dumps(adi_res_match_recall, indent=4, sort_keys=True))\n",
        "\n",
        "#CACM\n",
        "cacm_create_match_recall = create_query_body_match_recall(cacm_qry_data, cacm_rel, cacm_index)\n",
        "cacm_eval_body_match_recall = json.dumps(cacm_create_match_recall)\n",
        "cacm_res_match_recall = es.rank_eval(cacm_eval_body_match_recall,cacm_index)\n",
        "#print(json.dumps(cacm_res_match_recall, indent=4, sort_keys=True))\n",
        "\n",
        "#CISI\n",
        "cisi_create_match_recall = create_query_body_match_recall(cisi_qry_data, cisi_rel, cisi_index)\n",
        "cisi_eval_body_match_recall = json.dumps(cisi_create_match_recall)\n",
        "cisi_res_match_recall = es.rank_eval(cisi_eval_body_match_recall, cisi_index)\n",
        "#print(json.dumps(cisi_res_match_recall, indent=4, sort_keys=True))\n",
        "\n",
        "#Cranfield\n",
        "cran_create_match_recall = create_query_body_match_recall(cran_qry_data, cran_rel, cran_index)\n",
        "cran_eval_body_match_recall = json.dumps(cran_create_match_recall)\n",
        "cran_res_match_recall = es.rank_eval(cran_eval_body_match_recall, cran_index)\n",
        "#print(json.dumps(cran_res_match_recall, indent=4, sort_keys=True))\n",
        "\n",
        "#LISA\n",
        "lisa_create_match_recall = create_query_body_match_recall(lisa_qry_data, lisa_rel, lisa_index)\n",
        "lisa_eval_body_match_recall = json.dumps(lisa_create_match_recall)\n",
        "lisa_res_match_recall = es.rank_eval(lisa_eval_body_match_recall,lisa_index)\n",
        "#print(json.dumps(lisa_res_match_recall, indent=4, sort_keys=True))\n",
        "\n",
        "#Medline\n",
        "med_create_match_recall = create_query_body_match_recall(med_qry_data, med_rel, med_index)\n",
        "med_eval_body_match_recall = json.dumps(med_create_match_recall)\n",
        "med_res_match_recall = es.rank_eval(med_eval_body_match_recall, med_index)\n",
        "#print(json.dumps(med_res_match_recall, indent=4, sort_keys=True))\n",
        "\n",
        "#NPL\n",
        "npl_create_match_recall = create_query_body_match_recall(npl_qry_data, npl_rel, npl_index)\n",
        "npl_eval_body_match_recall = json.dumps(npl_create_match_recall)\n",
        "npl_res_match_recall = es.rank_eval(npl_eval_body_match_recall,npl_index)\n",
        "#print(json.dumps(npl_res_match_recall, indent=4, sort_keys=True))\n",
        "\n",
        "#TIME\n",
        "time_create_match_recall = create_query_body_match_recall(time_qry_data, time_rel, time_index)\n",
        "time_eval_body_match_recall = json.dumps(time_create_match_recall)\n",
        "time_res_match_recall = es.rank_eval(time_eval_body_match_recall,time_index)\n",
        "#print(json.dumps(time_res_match_recall, indent=4, sort_keys=True))"
      ],
      "execution_count": 22,
      "outputs": []
    },
    {
      "cell_type": "markdown",
      "metadata": {
        "id": "NtYZw0nXnmNd"
      },
      "source": [
        "**Stemmer Token Filter**\n",
        "\n",
        "Here we evaluate the data with the [\"stemmer token filter\"](https://pragmalingu.de/docs/experiments/experiment1#stemmer-token-filter) option of elastic search:"
      ]
    },
    {
      "cell_type": "code",
      "metadata": {
        "id": "BJGIESLqMmFv"
      },
      "source": [
        "#use rank eval api, see https://elasticsearch-py.readthedocs.io/en/master/api.html?highlight=_rank_eval#elasticsearch.Elasticsearch.rank_eval \n",
        "#and https://www.elastic.co/guide/en/elasticsearch/reference/current/search-rank-eval.html#search-rank-eval\n",
        "\n",
        "import json\n",
        "from collections import defaultdict\n",
        "\n",
        "adi_index = 'stemmer-adi-corpus'\n",
        "cacm_index = 'stemmer-cacm-corpus'\n",
        "cisi_index = 'stemmer-cisi-corpus'\n",
        "cran_index = 'stemmer-cranfield-corpus'\n",
        "lisa_index = 'stemmer-lisa-corpus'\n",
        "med_index = 'stemmer-medline-corpus'\n",
        "npl_index = 'stemmer-npl-corpus'\n",
        "time_index = 'stemmer-time-corpus'\n",
        "\n",
        "\n",
        "#function to get normal match evaluation body \n",
        "def create_query_body_stemming_recall(query_dict, rel_dict, index_name):\n",
        "  \"\"\"\n",
        "  The function creates a request for every query in query_dict and rates the relevant documents with rel_dict to 1.\n",
        "  The index name has to be the same as from the documents your looking at.\n",
        "  An evaluation body for the elasticsearch ranking API is returned.\n",
        "  \"\"\"\n",
        "  eval_body = {\n",
        "      \"requests\":'',\n",
        "      \"metric\": {\n",
        "          \"recall\": {\n",
        "              \"k\": 20,\n",
        "              \"relevant_rating_threshold\": 1\n",
        "              }\n",
        "      }\n",
        "  }\n",
        "  requests = [] \n",
        "  current_request = defaultdict(lambda: defaultdict())\n",
        "  current_rel = {\"_index\": index_name, \"_id\": '', \"rating\": int}\n",
        "  for query_ID, query_txt in query_dict.items():\n",
        "    current_query = {\"query\": { \"multi_match\": { \"query\": '' , \"fields\" : [\"title\",\"text\"]}}}\n",
        "    current_query[\"query\"][\"multi_match\"][\"query\"] = query_txt['question']\n",
        "    current_request[\"id\"] = 'Query_'+str(query_ID)\n",
        "    current_request[\"request\"] = current_query.copy()\n",
        "    current_request[\"ratings\"] = [{\"_index\": index_name, \"_id\": str(el), \"rating\": 1} for el in rel_dict[query_ID]]\n",
        "    requests.append(current_request.copy())\n",
        "  eval_body[\"requests\"] = requests\n",
        "  return eval_body\n",
        "\n",
        "\n",
        "#ADI\n",
        "adi_create_stemming_recall = create_query_body_stemming_recall(adi_qry_data, adi_rel, adi_index)\n",
        "adi_eval_body_stemming_recall = json.dumps(adi_create_stemming_recall)\n",
        "adi_res_stemming_recall = es.rank_eval(adi_eval_body_stemming_recall, adi_index)\n",
        "#print(json.dumps(adi_res_stemming_recall, indent=4, sort_keys=True))\n",
        "\n",
        "#CACM\n",
        "cacm_create_stemming_recall = create_query_body_stemming_recall(cacm_qry_data, cacm_rel, cacm_index)\n",
        "cacm_eval_body_stemming_recall = json.dumps(cacm_create_stemming_recall)\n",
        "cacm_res_stemming_recall = es.rank_eval(cacm_eval_body_stemming_recall,cacm_index)\n",
        "#print(json.dumps(cacm_res_stemming_recall, indent=4, sort_keys=True))\n",
        "\n",
        "#CISI\n",
        "cisi_create_stemming_recall = create_query_body_stemming_recall(cisi_qry_data, cisi_rel, cisi_index)\n",
        "cisi_eval_body_stemming_recall = json.dumps(cisi_create_stemming_recall)\n",
        "cisi_res_stemming_recall = es.rank_eval(cisi_eval_body_stemming_recall, cisi_index)\n",
        "#print(json.dumps(cisi_res_stemming_recall, indent=4, sort_keys=True))\n",
        "\n",
        "#Cranfield\n",
        "cran_create_stemming_recall = create_query_body_stemming_recall(cran_qry_data, cran_rel, cran_index)\n",
        "cran_eval_body_stemming_recall = json.dumps(cran_create_stemming_recall)\n",
        "cran_res_stemming_recall = es.rank_eval(cran_eval_body_stemming_recall, cran_index)\n",
        "#print(json.dumps(cran_res_stemming_recall, indent=4, sort_keys=True))\n",
        "\n",
        "#LISA\n",
        "lisa_create_stemming_recall = create_query_body_stemming_recall(lisa_qry_data, lisa_rel, lisa_index)\n",
        "lisa_eval_body_stemming_recall = json.dumps(lisa_create_stemming_recall)\n",
        "lisa_res_stemming_recall = es.rank_eval(lisa_eval_body_stemming_recall,lisa_index)\n",
        "#print(json.dumps(lisa_res_stemming_recall, indent=4, sort_keys=True))\n",
        "\n",
        "#Medline\n",
        "med_create_stemming_recall = create_query_body_stemming_recall(med_qry_data, med_rel, med_index)\n",
        "med_eval_body_stemming_recall = json.dumps(med_create_stemming_recall)\n",
        "med_res_stemming_recall = es.rank_eval(med_eval_body_stemming_recall, med_index)\n",
        "#print(json.dumps(med_res_stemming_recall, indent=4, sort_keys=True))\n",
        "\n",
        "#NPL\n",
        "npl_create_stemming_recall = create_query_body_stemming_recall(npl_qry_data, npl_rel, npl_index)\n",
        "npl_eval_body_stemming_recall = json.dumps(npl_create_stemming_recall)\n",
        "npl_res_stemming_recall = es.rank_eval(npl_eval_body_stemming_recall,npl_index)\n",
        "#print(json.dumps(npl_res_stemming_recall, indent=4, sort_keys=True))\n",
        "\n",
        "#TIME\n",
        "time_create_stemming_recall = create_query_body_stemming_recall(time_qry_data, time_rel, time_index)\n",
        "time_eval_body_stemming_recall = json.dumps(time_create_stemming_recall)\n",
        "time_res_stemming_recall = es.rank_eval(time_eval_body_stemming_recall,time_index)\n",
        "#print(json.dumps(time_res_stemming_recallime_res, indent=4, sort_keys=True))"
      ],
      "execution_count": 23,
      "outputs": []
    },
    {
      "cell_type": "markdown",
      "metadata": {
        "id": "keSi-TDWnxmF"
      },
      "source": [
        "**Hunspell Token Filter**\n",
        "\n",
        "Here we evaluate the data with the [\"hunspell token filter\"](https://pragmalingu.de/docs/experiments/experiment1#hunspell-token-filter) option of elastic search:"
      ]
    },
    {
      "cell_type": "code",
      "metadata": {
        "id": "Vijm2d9Uwou2"
      },
      "source": [
        "#use rank eval api, see https://elasticsearch-py.readthedocs.io/en/master/api.html?highlight=_rank_eval#elasticsearch.Elasticsearch.rank_eval \n",
        "#and https://www.elastic.co/guide/en/elasticsearch/reference/current/search-rank-eval.html#search-rank-eval\n",
        "\n",
        "import json\n",
        "from collections import defaultdict\n",
        "\n",
        "adi_index = 'hunspell-adi-corpus'\n",
        "cacm_index = 'hunspell-cacm-corpus'\n",
        "cisi_index = 'hunspell-cisi-corpus'\n",
        "cran_index = 'hunspell-cranfield-corpus'\n",
        "lisa_index = 'hunspell-lisa-corpus'\n",
        "med_index = 'hunspell-medline-corpus'\n",
        "npl_index = 'hunspell-npl-corpus'\n",
        "time_index = 'hunspell-time-corpus'\n",
        "\n",
        "#function to get normal match evaluation body \n",
        "def create_query_body_hunspell_recall(query_dict, rel_dict, index_name):\n",
        "  \"\"\"\n",
        "  The function creates a request for every query in query_dict and rates the relevant documents with rel_dict to 1.\n",
        "  The index name has to be the same as from the documents your looking at.\n",
        "  An evaluation body for the elasticsearch ranking API is returned.\n",
        "  \"\"\"\n",
        "  eval_body = {\n",
        "      \"requests\":'',\n",
        "      \"metric\": {\n",
        "          \"recall\": {\n",
        "              \"k\": 20,\n",
        "              \"relevant_rating_threshold\": 1\n",
        "              }\n",
        "      }\n",
        "  }\n",
        "  requests = [] \n",
        "  current_request = defaultdict(lambda: defaultdict())\n",
        "  current_rel = {\"_index\": index_name, \"_id\": '', \"rating\": int}\n",
        "  for query_ID, query_txt in query_dict.items():\n",
        "    current_query = {\"query\": { \"multi_match\": { \"query\": '' , \"fields\" : [\"title\",\"text\"]}}}\n",
        "    current_query[\"query\"][\"multi_match\"][\"query\"] = query_txt['question']\n",
        "    current_request[\"id\"] = 'Query_'+str(query_ID)\n",
        "    current_request[\"request\"] = current_query.copy()\n",
        "    current_request[\"ratings\"] = [{\"_index\": index_name, \"_id\": str(el), \"rating\": 1} for el in rel_dict[query_ID]]\n",
        "    requests.append(current_request.copy())\n",
        "  eval_body[\"requests\"] = requests\n",
        "  return eval_body\n",
        "\n",
        "#ADI\n",
        "adi_create_hunspell_recall = create_query_body_hunspell_recall(adi_qry_data, adi_rel, adi_index)\n",
        "adi_eval_body_hunspell_recall = json.dumps(adi_create_hunspell_recall)\n",
        "adi_res_hunspell_recall = es.rank_eval(adi_eval_body_hunspell_recall, adi_index)\n",
        "#print(json.dumps(adi_res_hunspell_recall, indent=4, sort_keys=True))\n",
        "\n",
        "#CACM\n",
        "cacm_create_hunspell_recall = create_query_body_hunspell_recall(cacm_qry_data, cacm_rel, cacm_index)\n",
        "cacm_eval_body_hunspell_recall = json.dumps(cacm_create_hunspell_recall)\n",
        "cacm_res_hunspell_recall = es.rank_eval(cacm_eval_body_hunspell_recall,cacm_index)\n",
        "#print(json.dumps(cacm_res_hunspell_recall, indent=4, sort_keys=True))\n",
        "\n",
        "#CISI\n",
        "cisi_create_hunspell_recall = create_query_body_hunspell_recall(cisi_qry_data, cisi_rel, cisi_index)\n",
        "cisi_eval_body_hunspell_recall = json.dumps(cisi_create_hunspell_recall)\n",
        "cisi_res_hunspell_recall = es.rank_eval(cisi_eval_body_hunspell_recall, cisi_index)\n",
        "#print(json.dumps(cisi_res_hunspell_recall, indent=4, sort_keys=True))\n",
        "\n",
        "#Cranfield\n",
        "cran_create_hunspell_recall = create_query_body_hunspell_recall(cran_qry_data, cran_rel, cran_index)\n",
        "cran_eval_body_hunspell_recall = json.dumps(cran_create_hunspell_recall)\n",
        "cran_res_hunspell_recall = es.rank_eval(cran_eval_body_hunspell_recall, cran_index)\n",
        "#print(json.dumps(cran_res_hunspell_recall, indent=4, sort_keys=True))\n",
        "\n",
        "#LISA\n",
        "lisa_create_hunspell_recall = create_query_body_hunspell_recall(lisa_qry_data, lisa_rel, lisa_index)\n",
        "lisa_eval_body_hunspell_recall = json.dumps(lisa_create_hunspell_recall)\n",
        "lisa_res_hunspell_recall = es.rank_eval(lisa_eval_body_hunspell_recall,lisa_index)\n",
        "#print(json.dumps(lisa_res_hunspell_recall, indent=4, sort_keys=True))\n",
        "\n",
        "#Medline\n",
        "med_create_hunspell_recall = create_query_body_hunspell_recall(med_qry_data, med_rel, med_index)\n",
        "med_eval_body_hunspell_recall = json.dumps(med_create_hunspell_recall)\n",
        "med_res_hunspell_recall = es.rank_eval(med_eval_body_hunspell_recall, med_index)\n",
        "#print(json.dumps(med_res_hunspell_recall, indent=4, sort_keys=True))\n",
        "\n",
        "#NPL\n",
        "npl_create_hunspell_recall = create_query_body_hunspell_recall(npl_qry_data, npl_rel, npl_index)\n",
        "npl_eval_body_hunspell_recall = json.dumps(npl_create_hunspell_recall)\n",
        "npl_res_hunspell_recall = es.rank_eval(npl_eval_body_hunspell_recall,npl_index)\n",
        "#print(json.dumps(npl_res_hunspell_recall, indent=4, sort_keys=True))\n",
        "\n",
        "#TIME\n",
        "time_create_hunspell_recall = create_query_body_hunspell_recall(time_qry_data, time_rel, time_index)\n",
        "time_eval_body_hunspell_recall = json.dumps(time_create_hunspell_recall)\n",
        "time_res_hunspell_recall = es.rank_eval(time_eval_body_hunspell_recall,time_index)\n",
        "#print(json.dumps(time_res_hunspell_recall, indent=4, sort_keys=True))"
      ],
      "execution_count": 24,
      "outputs": []
    },
    {
      "cell_type": "markdown",
      "metadata": {
        "id": "kJbezFbtMVp3"
      },
      "source": [
        "### Precision\n",
        "\n",
        "In this section we only evaluate the Precision scores."
      ]
    },
    {
      "cell_type": "markdown",
      "metadata": {
        "id": "8O7GlO_peURs"
      },
      "source": [
        "**Multi Match Query**\n",
        "\n",
        "Here we evaluate the data with the [\"multi_match\"](https://pragmalingu.de/docs/experiments/experiment1#standard-elasticsearch) option of elastic search:"
      ]
    },
    {
      "cell_type": "code",
      "metadata": {
        "id": "0zkCGwJ6k3ae"
      },
      "source": [
        "#use rank eval api, see https://elasticsearch-py.readthedocs.io/en/master/api.html?highlight=_rank_eval#elasticsearch.Elasticsearch.rank_eval \n",
        "#and https://www.elastic.co/guide/en/elasticsearch/reference/current/search-rank-eval.html#search-rank-eval\n",
        "\n",
        "from collections import defaultdict\n",
        "\n",
        "\n",
        "\n",
        "adi_index = 'adi-corpus'\n",
        "cacm_index = 'cacm-corpus'\n",
        "cisi_index = 'cisi-corpus'\n",
        "cran_index = 'cranfield-corpus'\n",
        "lisa_index = 'lisa-corpus'\n",
        "med_index = 'medline-corpus'\n",
        "npl_index = 'npl-corpus'\n",
        "time_index = 'time-corpus'\n",
        "\n",
        "# function to get normal match evaluation body \n",
        "\n",
        "def create_query_body_match_precision(query_dict, rel_dict, index_name):\n",
        "  \"\"\"\n",
        "  The function creates a request for every query in query_dict and rates the relevant documents with rel_dict to 1.\n",
        "  The index name has to be the same as from the documents your looking at.\n",
        "  An evaluation body for the elasticsearch ranking API is returned.\n",
        "  \"\"\"\n",
        "  eval_body = {\n",
        "      \"requests\":'',\n",
        "      \"metric\": {\n",
        "          \"precision\": {\n",
        "              \"k\": 20,\n",
        "              \"relevant_rating_threshold\": 1\n",
        "              }\n",
        "      }\n",
        "  }\n",
        "  requests = [] \n",
        "  current_request = defaultdict(lambda: defaultdict())\n",
        "  current_rel = {\"_index\": index_name, \"_id\": '', \"rating\": int}\n",
        "  for query_ID, query_txt in query_dict.items():\n",
        "    current_query = {\"query\": { \"multi_match\": { \"query\": '' , \"fields\" : [\"title\",\"text\"]}}}\n",
        "    current_query[\"query\"][\"multi_match\"][\"query\"] = query_txt['question']\n",
        "    current_request[\"id\"] = 'Query_'+str(query_ID)\n",
        "    current_request[\"request\"] = current_query.copy()\n",
        "    current_request[\"ratings\"] = [{\"_index\": index_name, \"_id\": str(el), \"rating\": 1} for el in rel_dict[query_ID]]\n",
        "    requests.append(current_request.copy())\n",
        "  eval_body[\"requests\"] = requests\n",
        "  return eval_body\n",
        "\n",
        "#ADI\n",
        "adi_create_match_precision = create_query_body_match_precision(adi_qry_data, adi_rel, adi_index)\n",
        "adi_eval_body_match_precision = json.dumps(adi_create_match_precision)\n",
        "adi_res_match_precision = es.rank_eval(adi_eval_body_match_precision, adi_index)\n",
        "#print(json.dumps(adi_res_match_precision, indent=4, sort_keys=True))\n",
        "\n",
        "#CACM\n",
        "cacm_create_match_precision = create_query_body_match_precision(cacm_qry_data, cacm_rel, cacm_index)\n",
        "cacm_eval_body_match_precision = json.dumps(cacm_create_match_precision)\n",
        "cacm_res_match_precision = es.rank_eval(cacm_eval_body_match_precision,cacm_index)\n",
        "#print(json.dumps(cacm_res_match_precision, indent=4, sort_keys=True))\n",
        "\n",
        "#CISI\n",
        "cisi_create_match_precision = create_query_body_match_precision(cisi_qry_data, cisi_rel, cisi_index)\n",
        "cisi_eval_body_match_precision = json.dumps(cisi_create_match_precision)\n",
        "cisi_res_match_precision = es.rank_eval(cisi_eval_body_match_precision, cisi_index)\n",
        "#print(json.dumps(cisi_res_match_precision, indent=4, sort_keys=True))\n",
        "\n",
        "#Cranfield\n",
        "cran_create_match_precision = create_query_body_match_precision(cran_qry_data, cran_rel, cran_index)\n",
        "cran_eval_body_match_precision = json.dumps(cran_create_match_precision)\n",
        "cran_res_match_precision = es.rank_eval(cran_eval_body_match_precision, cran_index)\n",
        "#print(json.dumps(cran_res_match_precision, indent=4, sort_keys=True))\n",
        "\n",
        "#LISA\n",
        "lisa_create_match_precision = create_query_body_match_precision(lisa_qry_data, lisa_rel, lisa_index)\n",
        "lisa_eval_body_match_precision = json.dumps(lisa_create_match_precision)\n",
        "lisa_res_match_precision = es.rank_eval(lisa_eval_body_match_precision,lisa_index)\n",
        "#print(json.dumps(lisa_res_match_precision, indent=4, sort_keys=True))\n",
        "\n",
        "#Medline\n",
        "med_create_match_precision = create_query_body_match_precision(med_qry_data, med_rel, med_index)\n",
        "med_eval_body_match_precision = json.dumps(med_create_match_precision)\n",
        "med_res_match_precision = es.rank_eval(med_eval_body_match_precision, med_index)\n",
        "#print(json.dumps(med_res_match_precision, indent=4, sort_keys=True))\n",
        "\n",
        "#NPL\n",
        "npl_create_match_precision = create_query_body_match_precision(npl_qry_data, npl_rel, npl_index)\n",
        "npl_eval_body_match_precision = json.dumps(npl_create_match_precision)\n",
        "npl_res_match_precision = es.rank_eval(npl_eval_body_match_precision,npl_index)\n",
        "#print(json.dumps(npl_res_match_precision, indent=4, sort_keys=True))\n",
        "\n",
        "#TIME\n",
        "time_create_match_precision = create_query_body_match_precision(time_qry_data, time_rel, time_index)\n",
        "time_eval_body_match_precision = json.dumps(time_create_match_precision)\n",
        "time_res_match_precision = es.rank_eval(time_eval_body_match_precision,time_index)\n",
        "#print(json.dumps(time_res_match_precision, indent=4, sort_keys=True))"
      ],
      "execution_count": 25,
      "outputs": []
    },
    {
      "cell_type": "markdown",
      "metadata": {
        "id": "j7eIIRaFeXNE"
      },
      "source": [
        "**Stemmer Token Filter**\n",
        "\n",
        "Here we evaluate the data with the [\"stemmer token filter\"](https://pragmalingu.de/docs/experiments/experiment1#stemmer-token-filter) option of elastic search:"
      ]
    },
    {
      "cell_type": "code",
      "metadata": {
        "id": "Q7Wrv15xsBsN"
      },
      "source": [
        "#use rank eval api, see https://elasticsearch-py.readthedocs.io/en/master/api.html?highlight=_rank_eval#elasticsearch.Elasticsearch.rank_eval \n",
        "#and https://www.elastic.co/guide/en/elasticsearch/reference/current/search-rank-eval.html#search-rank-eval\n",
        "\n",
        "from collections import defaultdict\n",
        "\n",
        "adi_index = 'stemmer-adi-corpus'\n",
        "cacm_index = 'stemmer-cacm-corpus'\n",
        "cisi_index = 'stemmer-cisi-corpus'\n",
        "cran_index = 'stemmer-cranfield-corpus'\n",
        "lisa_index = 'stemmer-lisa-corpus'\n",
        "med_index = 'stemmer-medline-corpus'\n",
        "npl_index = 'stemmer-npl-corpus'\n",
        "time_index = 'stemmer-time-corpus'\n",
        "\n",
        "#function to get normal match evaluation body \n",
        "\n",
        "def create_query_body_stemming_precision(query_dict, rel_dict, index_name):\n",
        "  \"\"\"\n",
        "  The function creates a request for every query in query_dict and rates the relevant documents with rel_dict to 1.\n",
        "  The index name has to be the same as from the documents your looking at.\n",
        "  An evaluation body for the elasticsearch ranking API is returned.\n",
        "  \"\"\"\n",
        "  eval_body = {\n",
        "      \"requests\":'',\n",
        "      \"metric\": {\n",
        "          \"precision\": {\n",
        "              \"k\": 20,\n",
        "              \"relevant_rating_threshold\": 1\n",
        "              }\n",
        "      }\n",
        "  }\n",
        "  requests = [] \n",
        "  current_request = defaultdict(lambda: defaultdict())\n",
        "  current_rel = {\"_index\": index_name, \"_id\": '', \"rating\": int}\n",
        "  for query_ID, query_txt in query_dict.items():\n",
        "    current_query = {\"query\": { \"multi_match\": { \"query\": '' , \"fields\" : [\"title\",\"text\"]}}}\n",
        "    current_query[\"query\"][\"multi_match\"][\"query\"] = query_txt['question']\n",
        "    current_request[\"id\"] = 'Query_'+str(query_ID)\n",
        "    current_request[\"request\"] = current_query.copy()\n",
        "    current_request[\"ratings\"] = [{\"_index\": index_name, \"_id\": str(el), \"rating\": 1} for el in rel_dict[query_ID]]\n",
        "    requests.append(current_request.copy())\n",
        "  eval_body[\"requests\"] = requests\n",
        "  return eval_body\n",
        "\n",
        "#ADI\n",
        "adi_create_stemming_precision = create_query_body_stemming_precision(adi_qry_data, adi_rel, adi_index)\n",
        "adi_eval_body_stemming_precision = json.dumps(adi_create_stemming_precision)\n",
        "adi_res_stemming_precision = es.rank_eval(adi_eval_body_stemming_precision, adi_index)\n",
        "#print(json.dumps(adi_res_stemming_precision, indent=4, sort_keys=True))\n",
        "\n",
        "#CACM\n",
        "cacm_create_stemming_precision = create_query_body_stemming_precision(cacm_qry_data, cacm_rel, cacm_index)\n",
        "cacm_eval_body_stemming_precision = json.dumps(cacm_create_stemming_precision)\n",
        "cacm_res_stemming_precision = es.rank_eval(cacm_eval_body_stemming_precision,cacm_index)\n",
        "#print(json.dumps(cacm_res_stemming_precision, indent=4, sort_keys=True))\n",
        "\n",
        "#CISI\n",
        "cisi_create_stemming_precision = create_query_body_stemming_precision(cisi_qry_data, cisi_rel, cisi_index)\n",
        "cisi_eval_body_stemming_precision = json.dumps(cisi_create_stemming_precision)\n",
        "cisi_res_stemming_precision = es.rank_eval(cisi_eval_body_stemming_precision, cisi_index)\n",
        "#print(json.dumps(cisi_res_stemming_precision, indent=4, sort_keys=True))\n",
        "\n",
        "#Cranfield\n",
        "cran_create_stemming_precision = create_query_body_stemming_precision(cran_qry_data, cran_rel, cran_index)\n",
        "cran_eval_body_stemming_precision = json.dumps(cran_create_stemming_precision)\n",
        "cran_res_stemming_precision = es.rank_eval(cran_eval_body_stemming_precision, cran_index)\n",
        "#print(json.dumps(cran_res_stemming_precision, indent=4, sort_keys=True))\n",
        "\n",
        "#LISA\n",
        "lisa_create_stemming_precision = create_query_body_stemming_precision(lisa_qry_data, lisa_rel, lisa_index)\n",
        "lisa_eval_body_stemming_precision = json.dumps(lisa_create_stemming_precision)\n",
        "lisa_res_stemming_precision = es.rank_eval(lisa_eval_body_stemming_precision,lisa_index)\n",
        "#print(json.dumps(lisa_res_stemming_precision, indent=4, sort_keys=True))\n",
        "\n",
        "#Medline\n",
        "med_create_stemming_precision = create_query_body_stemming_precision(med_qry_data, med_rel, med_index)\n",
        "med_eval_body_stemming_precision = json.dumps(med_create_stemming_precision)\n",
        "med_res_stemming_precision = es.rank_eval(med_eval_body_stemming_precision, med_index)\n",
        "#print(json.dumps(med_res_stemming_precision, indent=4, sort_keys=True))\n",
        "\n",
        "#NPL\n",
        "npl_create_stemming_precision = create_query_body_stemming_precision(npl_qry_data, npl_rel, npl_index)\n",
        "npl_eval_body_stemming_precision= json.dumps(npl_create_stemming_precision)\n",
        "npl_res_stemming_precision = es.rank_eval(npl_eval_body_stemming_precision,npl_index)\n",
        "#print(json.dumps(npl_res_stemming_precision, indent=4, sort_keys=True))\n",
        "\n",
        "#TIME\n",
        "time_create_stemming_precision = create_query_body_stemming_precision(time_qry_data, time_rel, time_index)\n",
        "time_eval_body_stemming_precision = json.dumps(time_create_stemming_precision)\n",
        "time_res_stemming_precision = es.rank_eval(time_eval_body_stemming_precision,time_index)\n",
        "#print(json.dumps(time_res_stemming_precision, indent=4, sort_keys=True))"
      ],
      "execution_count": 26,
      "outputs": []
    },
    {
      "cell_type": "markdown",
      "metadata": {
        "id": "5nOOQ625ea87"
      },
      "source": [
        "**Hunspell Token Filter**\n",
        "\n",
        "Here we evaluate the data with the [\"hunspell token filter\"](https://pragmalingu.de/docs/experiments/experiment1#hunspell-token-filter) option of elastic search:"
      ]
    },
    {
      "cell_type": "code",
      "metadata": {
        "id": "akigfsYR4-NL"
      },
      "source": [
        "#use rank eval api, see https://elasticsearch-py.readthedocs.io/en/master/api.html?highlight=_rank_eval#elasticsearch.Elasticsearch.rank_eval \n",
        "#and https://www.elastic.co/guide/en/elasticsearch/reference/current/search-rank-eval.html#search-rank-eval\n",
        "\n",
        "from collections import defaultdict\n",
        "\n",
        "adi_index = 'hunspell-adi-corpus'\n",
        "cacm_index = 'hunspell-cacm-corpus'\n",
        "cisi_index = 'hunspell-cisi-corpus'\n",
        "cran_index = 'hunspell-cranfield-corpus'\n",
        "lisa_index = 'hunspell-lisa-corpus'\n",
        "med_index = 'hunspell-medline-corpus'\n",
        "npl_index = 'hunspell-npl-corpus'\n",
        "time_index = 'hunspell-time-corpus'\n",
        "\n",
        "#function to get normal match evaluation body \n",
        "\n",
        "def create_query_body_hunspell_precision(query_dict, rel_dict, index_name):\n",
        "  \"\"\"\n",
        "  The function creates a request for every query in query_dict and rates the relevant documents with rel_dict to 1.\n",
        "  The index name has to be the same as from the documents your looking at.\n",
        "  An evaluation body for the elasticsearch ranking API is returned.\n",
        "  \"\"\"\n",
        "  eval_body = {\n",
        "      \"requests\":'',\n",
        "      \"metric\": {\n",
        "          \"precision\": {\n",
        "              \"k\": 20,\n",
        "              \"relevant_rating_threshold\": 1\n",
        "              }\n",
        "      }\n",
        "  }\n",
        "  requests = [] \n",
        "  current_request = defaultdict(lambda: defaultdict())\n",
        "  current_rel = {\"_index\": index_name, \"_id\": '', \"rating\": int}\n",
        "  for query_ID, query_txt in query_dict.items():\n",
        "    current_query = {\"query\": { \"multi_match\": { \"query\": '' , \"fields\" : [\"title\",\"text\"]}}}\n",
        "    current_query[\"query\"][\"multi_match\"][\"query\"] = query_txt['question']\n",
        "    current_request[\"id\"] = 'Query_'+str(query_ID)\n",
        "    current_request[\"request\"] = current_query.copy()\n",
        "    current_request[\"ratings\"] = [{\"_index\": index_name, \"_id\": str(el), \"rating\": 1} for el in rel_dict[query_ID]]\n",
        "    requests.append(current_request.copy())\n",
        "  eval_body[\"requests\"] = requests\n",
        "  return eval_body\n",
        "\n",
        "\n",
        "#ADI\n",
        "adi_create_hunspell_precision = create_query_body_hunspell_precision(adi_qry_data, adi_rel, adi_index)\n",
        "adi_eval_body_hunspell_precision = json.dumps(adi_create_hunspell_precision)\n",
        "adi_res_hunspell_precision = es.rank_eval(adi_eval_body_hunspell_precision, adi_index)\n",
        "#print(json.dumps(adi_res_hunspell_precision, indent=4, sort_keys=True))\n",
        "\n",
        "#CACM\n",
        "cacm_create_hunspell_precision = create_query_body_hunspell_precision(cacm_qry_data, cacm_rel, cacm_index)\n",
        "cacm_eval_body_hunspell_precision = json.dumps(cacm_create_hunspell_precision)\n",
        "cacm_res_hunspell_precision = es.rank_eval(cacm_eval_body_hunspell_precision,cacm_index)\n",
        "#print(json.dumps(cacm_res_hunspell_precision, indent=4, sort_keys=True))\n",
        "\n",
        "#CISI\n",
        "cisi_create_hunspell_precision = create_query_body_hunspell_precision(cisi_qry_data, cisi_rel, cisi_index)\n",
        "cisi_eval_body_hunspell_precision = json.dumps(cisi_create_hunspell_precision)\n",
        "cisi_res_hunspell_precision = es.rank_eval(cisi_eval_body_hunspell_precision, cisi_index)\n",
        "#print(json.dumps(cisi_res_hunspell_precision, indent=4, sort_keys=True))\n",
        "\n",
        "#Cranfield\n",
        "cran_create_hunspell_precision = create_query_body_hunspell_precision(cran_qry_data, cran_rel, cran_index)\n",
        "cran_eval_body_hunspell_precision = json.dumps(cran_create_hunspell_precision)\n",
        "cran_res_hunspell_precision = es.rank_eval(cran_eval_body_hunspell_precision, cran_index)\n",
        "#print(json.dumps(cran_res_hunspell_precision, indent=4, sort_keys=True))\n",
        "\n",
        "#LISA\n",
        "lisa_create_hunspell_precision = create_query_body_hunspell_precision(lisa_qry_data, lisa_rel, lisa_index)\n",
        "lisa_eval_body_hunspell_precision = json.dumps(lisa_create_hunspell_precision)\n",
        "lisa_res_hunspell_precision = es.rank_eval(lisa_eval_body_hunspell_precision,lisa_index)\n",
        "#print(json.dumps(lisa_res_hunspell_precision, indent=4, sort_keys=True))\n",
        "\n",
        "#Medline\n",
        "med_create_hunspell_precision = create_query_body_hunspell_precision(med_qry_data, med_rel, med_index)\n",
        "med_eval_body_hunspell_precision = json.dumps(med_create_hunspell_precision)\n",
        "med_res_hunspell_precision = es.rank_eval(med_eval_body_hunspell_precision, med_index)\n",
        "#print(json.dumps(med_res_hunspell_precision, indent=4, sort_keys=True))\n",
        "\n",
        "#NPL\n",
        "npl_create_hunspell_precision = create_query_body_hunspell_precision(npl_qry_data, npl_rel, npl_index)\n",
        "npl_eval_body_hunspell_precision= json.dumps(npl_create_hunspell_precision)\n",
        "npl_res_hunspell_precision = es.rank_eval(npl_eval_body_hunspell_precision,npl_index)\n",
        "#print(json.dumps(npl_res_hunspell_precision, indent=4, sort_keys=True))\n",
        "\n",
        "#TIME\n",
        "time_create_hunspell_precision = create_query_body_hunspell_precision(time_qry_data, time_rel, time_index)\n",
        "time_eval_body_hunspell_precision = json.dumps(time_create_hunspell_precision)\n",
        "time_res_hunspell_precision = es.rank_eval(time_eval_body_hunspell_precision,time_index)\n",
        "#print(json.dumps(time_res_hunspell_precision, indent=4, sort_keys=True))"
      ],
      "execution_count": 27,
      "outputs": []
    },
    {
      "cell_type": "markdown",
      "metadata": {
        "id": "G4xAOamijd4r"
      },
      "source": [
        "## Visualization\n",
        "\n",
        "The last step is to visualize the data so we can analyze the differences:"
      ]
    },
    {
      "cell_type": "markdown",
      "metadata": {
        "id": "ltLnp1BTWUoY"
      },
      "source": [
        "### Recall"
      ]
    },
    {
      "cell_type": "code",
      "metadata": {
        "id": "tfiqvVDvWX6m",
        "colab": {
          "base_uri": "https://localhost:8080/",
          "height": 531
        },
        "outputId": "a56eb06f-51fc-4a23-b48d-332143b874af"
      },
      "source": [
        "import matplotlib\n",
        "import matplotlib.pyplot as plt\n",
        "import numpy as np\n",
        "\n",
        "match_metrics_recall = []\n",
        "match_metrics_recall.append(round(adi_res_match_recall['metric_score'], 3))\n",
        "match_metrics_recall.append(round(cacm_res_match_recall['metric_score'], 3))\n",
        "match_metrics_recall.append(round(cisi_res_match_recall['metric_score'], 3))\n",
        "match_metrics_recall.append(round(cran_res_match_recall['metric_score'], 3))\n",
        "match_metrics_recall.append(round(lisa_res_match_recall['metric_score'], 3))\n",
        "match_metrics_recall.append(round(med_res_match_recall['metric_score'], 3))\n",
        "match_metrics_recall.append(round(npl_res_match_recall['metric_score'], 3))\n",
        "match_metrics_recall.append(round(time_res_match_recall['metric_score'], 3))\n",
        "\n",
        "stemming_metrics_recall = []\n",
        "stemming_metrics_recall.append(round(adi_res_stemming_recall['metric_score'], 3))\n",
        "stemming_metrics_recall.append(round(cacm_res_stemming_recall['metric_score'], 3))\n",
        "stemming_metrics_recall.append(round(cisi_res_stemming_recall['metric_score'], 3))\n",
        "stemming_metrics_recall.append(round(cran_res_stemming_recall['metric_score'], 3))\n",
        "stemming_metrics_recall.append(round(lisa_res_stemming_recall['metric_score'], 3))\n",
        "stemming_metrics_recall.append(round(med_res_stemming_recall['metric_score'], 3))\n",
        "stemming_metrics_recall.append(round(npl_res_stemming_recall['metric_score'], 3))\n",
        "stemming_metrics_recall.append(round(time_res_stemming_recall['metric_score'], 3))\n",
        "\n",
        "hunspell_metrics_recall = []\n",
        "hunspell_metrics_recall.append(round(adi_res_hunspell_recall['metric_score'], 3))\n",
        "hunspell_metrics_recall.append(round(cacm_res_hunspell_recall['metric_score'], 3))\n",
        "hunspell_metrics_recall.append(round(cisi_res_hunspell_recall['metric_score'], 3))\n",
        "hunspell_metrics_recall.append(round(cran_res_hunspell_recall['metric_score'], 3))\n",
        "hunspell_metrics_recall.append(round(lisa_res_hunspell_recall['metric_score'], 3))\n",
        "hunspell_metrics_recall.append(round(med_res_hunspell_recall['metric_score'], 3))\n",
        "hunspell_metrics_recall.append(round(npl_res_hunspell_recall['metric_score'], 3))\n",
        "hunspell_metrics_recall.append(round(time_res_hunspell_recall['metric_score'], 3))\n",
        "\n",
        "labels = ['ADI','CACM', 'CISI','Cranfield', 'LISA', 'Medline', 'NPL','Time']\n",
        "\n",
        "x = np.arange(len(labels))*1.8  # the label locations\n",
        "\n",
        "width = 0.5  # the width of the bars\n",
        "\n",
        "fig, ax = plt.subplots()\n",
        "rects1 = ax.bar(x - width, match_metrics_recall , width, label='With multi-match query')\n",
        "rects2 = ax.bar(x, stemming_metrics_recall, width, label='With stemmer token filter')\n",
        "rects3 = ax.bar(x + width, hunspell_metrics_recall, width, label='With hunspell token filter')\n",
        "\n",
        "# Add some text for labels, title and custom x-axis tick labels, etc.\n",
        "ax.set_ylabel('metric scores')\n",
        "ax.set_title('Recall scores by corpus')\n",
        "ax.set_xticks(x)\n",
        "ax.set_xticklabels(labels)\n",
        "ax.legend()\n",
        "\n",
        "def autolabel(rects):\n",
        "    \"\"\"Attach a text label above each bar in *rects*, displaying its height.\"\"\"\n",
        "    for rect in rects:\n",
        "        height = rect.get_height()\n",
        "        ax.annotate('{}'.format(height),\n",
        "                    xy=(rect.get_x() + rect.get_width() / 2, height),\n",
        "                    xytext=(0, 3),  # 3 points vertical offset\n",
        "                    textcoords=\"offset points\",\n",
        "                    ha='center', va='bottom')\n",
        "\n",
        "autolabel(rects1)\n",
        "autolabel(rects2)\n",
        "autolabel(rects3)\n",
        "\n",
        "fig.tight_layout()\n",
        "fig.set_figwidth(16)\n",
        "fig.set_figheight(8)\n",
        "\n",
        "plt.show()"
      ],
      "execution_count": 28,
      "outputs": [
        {
          "output_type": "display_data",
          "data": {
            "image/png": "[encoded data removed]",
            "text/plain": [
              "<Figure size 1152x576 with 1 Axes>"
            ]
          },
          "metadata": {
            "tags": [],
            "needs_background": "light"
          }
        }
      ]
    },
    {
      "cell_type": "code",
      "metadata": {
        "id": "qZuaqJuC8T_A",
        "colab": {
          "base_uri": "https://localhost:8080/"
        },
        "outputId": "ca11d0b7-12ab-481d-d459-508e1856b59b"
      },
      "source": [
        "from tabulate import tabulate\n",
        "\n",
        "match_metrics_recall.insert(0, 'multi-match query') \n",
        "stemming_metrics_recall.insert(0, 'stemmer token filter')\n",
        "hunspell_metrics_recall.insert(0, 'hunspell token filter')\n",
        "\n",
        "l = [match_metrics_recall, stemming_metrics_recall, hunspell_metrics_recall]\n",
        "table = tabulate(l, headers=['ADI','CACM', 'CISI','Cranfield', 'LISA', 'Medline', 'NPL','Time'], tablefmt='orgtbl')\n",
        "\n",
        "print(table)"
      ],
      "execution_count": 29,
      "outputs": [
        {
          "output_type": "stream",
          "text": [
            "|                       |   ADI |   CACM |   CISI |   Cranfield |   LISA |   Medline |   NPL |   Time |\n",
            "|-----------------------+-------+--------+--------+-------------+--------+-----------+-------+--------|\n",
            "| multi-match query     | 0.328 |  0.035 |  0.103 |       0.156 |  0.354 |     0.032 | 0.233 |  0.772 |\n",
            "| stemmer token filter  | 0.254 |  0.046 |  0.121 |       0.156 |  0.398 |     0.044 | 0.285 |  0.78  |\n",
            "| hunspell token filter | 0.256 |  0.042 |  0.12  |       0.153 |  0.391 |     0.045 | 0.292 |  0.777 |\n"
          ],
          "name": "stdout"
        }
      ]
    },
    {
      "cell_type": "markdown",
      "metadata": {
        "id": "57olkUd6WQ3C"
      },
      "source": [
        "### Precision"
      ]
    },
    {
      "cell_type": "code",
      "metadata": {
        "id": "YvjJ8xRilGKj",
        "colab": {
          "base_uri": "https://localhost:8080/",
          "height": 0
        },
        "outputId": "010a25ef-e95e-4163-ea1a-58135f80221b"
      },
      "source": [
        "import matplotlib\n",
        "import matplotlib.pyplot as plt\n",
        "import numpy as np\n",
        "\n",
        "match_metrics_precision = []\n",
        "match_metrics_precision.append(round(adi_res_match_precision['metric_score'], 3))\n",
        "match_metrics_precision.append(round(cacm_res_match_precision['metric_score'], 3))\n",
        "match_metrics_precision.append(round(cisi_res_match_precision['metric_score'], 3))\n",
        "match_metrics_precision.append(round(cran_res_match_precision['metric_score'], 3))\n",
        "match_metrics_precision.append(round(lisa_res_match_precision['metric_score'], 3))\n",
        "match_metrics_precision.append(round(med_res_match_precision['metric_score'], 3))\n",
        "match_metrics_precision.append(round(npl_res_match_precision['metric_score'], 3))\n",
        "match_metrics_precision.append(round(time_res_match_precision['metric_score'], 3))\n",
        "\n",
        "stemming_metrics_precision = []\n",
        "stemming_metrics_precision.append(round(adi_res_stemming_precision['metric_score'], 3))\n",
        "stemming_metrics_precision.append(round(cacm_res_stemming_precision['metric_score'], 3))\n",
        "stemming_metrics_precision.append(round(cisi_res_stemming_precision['metric_score'], 3))\n",
        "stemming_metrics_precision.append(round(cran_res_stemming_precision['metric_score'], 3))\n",
        "stemming_metrics_precision.append(round(lisa_res_stemming_precision['metric_score'], 3))\n",
        "stemming_metrics_precision.append(round(med_res_stemming_precision['metric_score'], 3))\n",
        "stemming_metrics_precision.append(round(npl_res_stemming_precision['metric_score'], 3))\n",
        "stemming_metrics_precision.append(round(time_res_stemming_precision['metric_score'], 3))\n",
        "\n",
        "hunspell_metrics_precision = []\n",
        "hunspell_metrics_precision.append(round(adi_res_hunspell_precision['metric_score'], 3))\n",
        "hunspell_metrics_precision.append(round(cacm_res_hunspell_precision['metric_score'], 3))\n",
        "hunspell_metrics_precision.append(round(cisi_res_hunspell_precision['metric_score'], 3))\n",
        "hunspell_metrics_precision.append(round(cran_res_hunspell_precision['metric_score'], 3))\n",
        "hunspell_metrics_precision.append(round(lisa_res_hunspell_precision['metric_score'], 3))\n",
        "hunspell_metrics_precision.append(round(med_res_hunspell_precision['metric_score'], 3))\n",
        "hunspell_metrics_precision.append(round(npl_res_hunspell_precision['metric_score'], 3))\n",
        "hunspell_metrics_precision.append(round(time_res_hunspell_precision['metric_score'], 3))\n",
        "\n",
        "labels = ['ADI','CACM', 'CISI','Cranfield', 'LISA', 'Medline', 'NPL','Time']\n",
        "\n",
        "x = np.arange(len(labels))*1.8  # the label locations\n",
        "\n",
        "width = 0.5  # the width of the bars\n",
        "\n",
        "fig, ax = plt.subplots()\n",
        "rects1 = ax.bar(x - width, match_metrics_precision , width, label='With multi-match query')\n",
        "rects2 = ax.bar(x, stemming_metrics_precision, width, label='With stemmer token filter')\n",
        "rects3 = ax.bar(x + width, hunspell_metrics_precision, width, label='With hunspell token filter')\n",
        "\n",
        "# Add some text for labels, title and custom x-axis tick labels, etc.\n",
        "ax.set_ylabel('metric scores')\n",
        "ax.set_title('Precision scores by corpus')\n",
        "ax.set_xticks(x)\n",
        "ax.set_xticklabels(labels)\n",
        "ax.legend()\n",
        "\n",
        "\n",
        "def autolabel(rects):\n",
        "    \"\"\"Attach a text label above each bar in *rects*, displaying its height.\"\"\"\n",
        "    for rect in rects:\n",
        "        height = rect.get_height()\n",
        "        ax.annotate('{}'.format(height),\n",
        "                    xy=(rect.get_x() + rect.get_width() / 2, height),\n",
        "                    xytext=(0, 3),  # 3 points vertical offset\n",
        "                    textcoords=\"offset points\",\n",
        "                    ha='center', va='bottom')\n",
        "\n",
        "\n",
        "autolabel(rects1)\n",
        "autolabel(rects2)\n",
        "autolabel(rects3)\n",
        "\n",
        "fig.tight_layout()\n",
        "fig.set_figwidth(16)\n",
        "fig.set_figheight(8)\n",
        "\n",
        "plt.show()"
      ],
      "execution_count": 30,
      "outputs": [
        {
          "output_type": "display_data",
          "data": {
            "image/png": "[encoded data removed]",
            "text/plain": [
              "<Figure size 1152x576 with 1 Axes>"
            ]
          },
          "metadata": {
            "tags": [],
            "needs_background": "light"
          }
        }
      ]
    },
    {
      "cell_type": "code",
      "metadata": {
        "id": "ZfXXKUJe_XK2",
        "colab": {
          "base_uri": "https://localhost:8080/"
        },
        "outputId": "690c427a-42b4-4868-e5c4-17e1bba88ce9"
      },
      "source": [
        "from tabulate import tabulate\n",
        "\n",
        "match_metrics_precision.insert(0, 'multi-match query') \n",
        "stemming_metrics_precision.insert(0, 'stemmer token filter') \n",
        "hunspell_metrics_precision.insert(0, 'hunspell token filter')\n",
        "\n",
        "l = [match_metrics_precision, stemming_metrics_precision, hunspell_metrics_precision]\n",
        "table = tabulate(l, headers=['ADI','CACM', 'CISI','Cranfield', 'LISA', 'Medline', 'NPL','Time'], tablefmt='orgtbl')\n",
        "\n",
        "print(table)"
      ],
      "execution_count": 31,
      "outputs": [
        {
          "output_type": "stream",
          "text": [
            "|                       |   ADI |   CACM |   CISI |   Cranfield |   LISA |   Medline |   NPL |   Time |\n",
            "|-----------------------+-------+--------+--------+-------------+--------+-----------+-------+--------|\n",
            "| multi-match query     | 0.074 |  0.021 |  0.154 |       0.058 |  0.161 |     0.031 | 0.217 |  0.15  |\n",
            "| stemmer token filter  | 0.063 |  0.029 |  0.169 |       0.059 |  0.186 |     0.041 | 0.258 |  0.152 |\n",
            "| hunspell token filter | 0.063 |  0.026 |  0.167 |       0.058 |  0.183 |     0.041 | 0.258 |  0.151 |\n"
          ],
          "name": "stdout"
        }
      ]
    },
    {
      "cell_type": "markdown",
      "metadata": {
        "id": "Gm1Aej_-T9e0"
      },
      "source": [
        "### F-Score"
      ]
    },
    {
      "cell_type": "code",
      "metadata": {
        "id": "QA8CpbbRQtIH",
        "colab": {
          "base_uri": "https://localhost:8080/",
          "height": 0
        },
        "outputId": "3bb60340-f169-4aff-e0a9-92f604d16b88"
      },
      "source": [
        "import matplotlib\n",
        "import matplotlib.pyplot as plt\n",
        "import numpy as np\n",
        "\n",
        "def f_score(recall,precision):\n",
        "  fscore = 2*((recall*precision)/(recall+precision))\n",
        "  return fscore\n",
        "\n",
        "match_metrics_fscore = []\n",
        "match_metrics_fscore.append(round(f_score(adi_res_match_recall['metric_score'], adi_res_match_precision['metric_score']),3))\n",
        "match_metrics_fscore.append(round(f_score(cacm_res_match_recall['metric_score'], cacm_res_match_precision['metric_score']),3))\n",
        "match_metrics_fscore.append(round(f_score(cisi_res_match_recall['metric_score'], cisi_res_match_precision['metric_score']),3))\n",
        "match_metrics_fscore.append(round(f_score(cran_res_match_recall['metric_score'], cran_res_match_precision['metric_score']),3))\n",
        "match_metrics_fscore.append(round(f_score(lisa_res_match_recall['metric_score'], lisa_res_match_precision['metric_score']),3))\n",
        "match_metrics_fscore.append(round(f_score(med_res_match_recall['metric_score'], med_res_match_precision['metric_score']),3))\n",
        "match_metrics_fscore.append(round(f_score(npl_res_match_recall['metric_score'], npl_res_match_precision['metric_score']),3))\n",
        "match_metrics_fscore.append(round(f_score(time_res_match_recall['metric_score'], time_res_match_precision['metric_score']),3))\n",
        "\n",
        "stemming_metrics_fscore = []\n",
        "stemming_metrics_fscore.append(round(f_score(adi_res_stemming_recall['metric_score'], adi_res_stemming_precision['metric_score']),3))\n",
        "stemming_metrics_fscore.append(round(f_score(cacm_res_stemming_recall['metric_score'], cacm_res_stemming_precision['metric_score']),3))\n",
        "stemming_metrics_fscore.append(round(f_score(cisi_res_stemming_recall['metric_score'], cisi_res_stemming_precision['metric_score']),3))\n",
        "stemming_metrics_fscore.append(round(f_score(cran_res_stemming_recall['metric_score'], cran_res_stemming_precision['metric_score']),3))\n",
        "stemming_metrics_fscore.append(round(f_score(lisa_res_stemming_recall['metric_score'], lisa_res_stemming_precision['metric_score']),3))\n",
        "stemming_metrics_fscore.append(round(f_score(med_res_stemming_recall['metric_score'], med_res_stemming_precision['metric_score']),3))\n",
        "stemming_metrics_fscore.append(round(f_score(npl_res_stemming_recall['metric_score'], npl_res_stemming_precision['metric_score']),3))\n",
        "stemming_metrics_fscore.append(round(f_score(time_res_stemming_recall['metric_score'], time_res_stemming_precision['metric_score']),3))\n",
        "\n",
        "hunspell_metrics_fscore = []\n",
        "hunspell_metrics_fscore.append(round(f_score(adi_res_hunspell_recall['metric_score'], adi_res_hunspell_precision['metric_score']),3))\n",
        "hunspell_metrics_fscore.append(round(f_score(cacm_res_hunspell_recall['metric_score'], cacm_res_hunspell_precision['metric_score']),3))\n",
        "hunspell_metrics_fscore.append(round(f_score(cisi_res_hunspell_recall['metric_score'], cisi_res_hunspell_precision['metric_score']),3))\n",
        "hunspell_metrics_fscore.append(round(f_score(cran_res_hunspell_recall['metric_score'], cran_res_hunspell_precision['metric_score']),3))\n",
        "hunspell_metrics_fscore.append(round(f_score(lisa_res_hunspell_recall['metric_score'], lisa_res_hunspell_precision['metric_score']),3))\n",
        "hunspell_metrics_fscore.append(round(f_score(med_res_hunspell_recall['metric_score'], med_res_hunspell_precision['metric_score']),3))\n",
        "hunspell_metrics_fscore.append(round(f_score(npl_res_hunspell_recall['metric_score'], npl_res_hunspell_precision['metric_score']),3))\n",
        "hunspell_metrics_fscore.append(round(f_score(time_res_hunspell_recall['metric_score'], time_res_hunspell_precision['metric_score']),3))\n",
        "\n",
        "labels = ['ADI','CACM', 'CISI','cranfield', 'LISA', 'medline', 'NPL','Time']\n",
        "\n",
        "x = np.arange(len(labels))*1.8  # the label locations\n",
        "\n",
        "width = 0.5  # the width of the bars\n",
        "\n",
        "fig, ax = plt.subplots()\n",
        "rects1 = ax.bar(x - width, match_metrics_fscore , width, label='With multi-match query')\n",
        "rects2 = ax.bar(x, stemming_metrics_fscore, width, label='With stemmer token filter')\n",
        "rects3 = ax.bar(x + width, hunspell_metrics_fscore, width, label='With hunspell token filter')\n",
        "\n",
        "# Add some text for labels, title and custom x-axis tick labels, etc.\n",
        "ax.set_ylabel('metric scores')\n",
        "ax.set_title('F1-Scores by corpus')\n",
        "ax.set_xticks(x)\n",
        "ax.set_xticklabels(labels)\n",
        "ax.legend()\n",
        "\n",
        "\n",
        "def autolabel(rects):\n",
        "    \"\"\"Attach a text label above each bar in *rects*, displaying its height.\"\"\"\n",
        "    for rect in rects:\n",
        "        height = rect.get_height()\n",
        "        ax.annotate('{}'.format(height),\n",
        "                    xy=(rect.get_x() + rect.get_width() / 2, height),\n",
        "                    xytext=(0, 3),  # 3 points vertical offset\n",
        "                    textcoords=\"offset points\",\n",
        "                    ha='center', va='bottom')\n",
        "\n",
        "\n",
        "autolabel(rects1)\n",
        "autolabel(rects2)\n",
        "autolabel(rects3)\n",
        "\n",
        "fig.tight_layout()\n",
        "fig.set_figwidth(16)\n",
        "fig.set_figheight(8)\n",
        "\n",
        "plt.show()"
      ],
      "execution_count": 32,
      "outputs": [
        {
          "output_type": "display_data",
          "data": {
            "image/png": "[encoded data removed]",
            "text/plain": [
              "<Figure size 1152x576 with 1 Axes>"
            ]
          },
          "metadata": {
            "tags": [],
            "needs_background": "light"
          }
        }
      ]
    },
    {
      "cell_type": "code",
      "metadata": {
        "id": "R6Tk6Vt8Ah5_",
        "colab": {
          "base_uri": "https://localhost:8080/"
        },
        "outputId": "9d5b9d23-b61d-4b5a-f49a-513fa06eb47b"
      },
      "source": [
        "from tabulate import tabulate\n",
        "\n",
        "match_metrics_fscore.insert(0, 'multi-match query') \n",
        "stemming_metrics_fscore.insert(0, 'stemmer token filter') \n",
        "hunspell_metrics_fscore.insert(0, 'hunspell token filter')\n",
        "\n",
        "l = [match_metrics_fscore, stemming_metrics_fscore, hunspell_metrics_fscore]\n",
        "table = tabulate(l, headers=['ADI','CACM', 'CISI','cranfield', 'LISA', 'medline', 'NPL','Time'], tablefmt='orgtbl')\n",
        "\n",
        "print(table)"
      ],
      "execution_count": 33,
      "outputs": [
        {
          "output_type": "stream",
          "text": [
            "|                       |   ADI |   CACM |   CISI |   cranfield |   LISA |   medline |   NPL |   Time |\n",
            "|-----------------------+-------+--------+--------+-------------+--------+-----------+-------+--------|\n",
            "| multi-match query     | 0.12  |  0.026 |  0.123 |       0.085 |  0.222 |     0.032 | 0.225 |  0.251 |\n",
            "| stemmer token filter  | 0.101 |  0.035 |  0.141 |       0.086 |  0.253 |     0.043 | 0.271 |  0.255 |\n",
            "| hunspell token filter | 0.101 |  0.032 |  0.14  |       0.084 |  0.249 |     0.043 | 0.274 |  0.252 |\n"
          ],
          "name": "stdout"
        }
      ]
    },
    {
      "cell_type": "markdown",
      "metadata": {
        "id": "Ikgcrccon7a1"
      },
      "source": [
        "# Read More\n",
        "Details on this experiment can be found on our [website](https://pragmalingu.de/docs/experiments/experiment1)."
      ]
    }
  ]
}