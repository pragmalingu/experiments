{
  "nbformat": 4,
  "nbformat_minor": 0,
  "metadata": {
    "colab": {
      "name": "Hunspell_Dictionary_Stemmer.ipynb",
      "provenance": [],
      "include_colab_link": true
    },
    "kernelspec": {
      "name": "python3",
      "display_name": "Python 3"
    }
  },
  "cells": [
    {
      "cell_type": "markdown",
      "metadata": {
        "id": "view-in-github",
        "colab_type": "text"
      },
      "source": [
        "<a href=\"https://colab.research.google.com/github/pragmalingu/experiments/blob/master/01_Stemming/Experiment/Hunspell_Dictionary_Stemmer.ipynb\" target=\"_parent\"><img src=\"https://colab.research.google.com/assets/colab-badge.svg\" alt=\"Open In Colab\"/></a>"
      ]
    },
    {
      "cell_type": "markdown",
      "metadata": {
        "id": "Q9EMclEPLvMS"
      },
      "source": [
        "# Dictionary Stemmer\n",
        "\n",
        "Dictionary stemmers look up words in a provided dictionary, replacing unstemmed word variants with stemmed words from the dictionary.\n",
        "\n",
        "In theory, these are well suited for:\n",
        "1. Stemming irregular words;\n",
        "2. Discerning between words that are spelled similarly but not related conceptually.\n",
        "\n",
        "They also admit a few drawbacks:\n",
        "1. Highly dependent on dictionary quality;\n",
        "2. Size and performance, as a result of having to load all words, prefixes and suffixes from the dictionary.\n",
        "\n",
        "(For more information see the [Elasticsearch documentation](https://www.elastic.co/guide/en/elasticsearch/reference/current/stemming.html#dictionary-stemmers)or the [First Experiment](https://pragmalingu.de/docs/experiments/experiment1#2-stemming) on our website)"
      ]
    },
    {
      "cell_type": "markdown",
      "metadata": {
        "id": "hW251z7-J0Ca"
      },
      "source": [
        "## Introduction"
      ]
    },
    {
      "cell_type": "markdown",
      "metadata": {
        "id": "_Un-oDrHnDui"
      },
      "source": [
        "### Setup an Elasticsearch Instance in Google Colab\n",
        "\n",
        "Everthing to connect to Elasticsearch."
      ]
    },
    {
      "cell_type": "code",
      "metadata": {
        "id": "XdccmnTUnDup"
      },
      "source": [
        "import os\n",
        "from subprocess import Popen, PIPE, STDOUT\n",
        "# download elasticsearch\n",
        "!wget https://artifacts.elastic.co/downloads/elasticsearch/elasticsearch-7.9.1-linux-x86_64.tar.gz -q\n",
        "!tar -xzf elasticsearch-7.9.1-linux-x86_64.tar.gz\n",
        "!chown -R daemon:daemon elasticsearch-7.9.1\n",
        "\n",
        "# start server\n",
        "es_server = Popen(['elasticsearch-7.9.1/bin/elasticsearch'], \n",
        "                  stdout=PIPE, stderr=STDOUT,\n",
        "                  preexec_fn=lambda: os.setuid(1)  # as daemon\n",
        "                 )\n",
        "# client-side\n",
        "!pip install elasticsearch -q\n",
        "from elasticsearch import Elasticsearch\n",
        "from datetime import datetime\n",
        "es = Elasticsearch([\"localhost:9200/\"])\n",
        "#wait a bit\n",
        "import time\n",
        "time.sleep(30)\n",
        "es.ping()  # got True"
      ],
      "execution_count": null,
      "outputs": []
    },
    {
      "cell_type": "markdown",
      "metadata": {
        "id": "HxkrKlValTqM"
      },
      "source": [
        "### Analyser\n",
        "\n",
        "An analyser contains three lower-level building blocks: character filters, a tokenizer, and token filters.\n",
        "To apply dictionary stemming, we first need to configure a custom analyser that makes use of the stemmer filter. \n",
        "\n",
        "(Hunspell filter reference guide at [Elasticsearch documentation](https://www.elastic.co/guide/en/elasticsearch/reference/current/analysis-hunspell-tokenfilter.html#analysis-hunspell-tokenfilter))"
      ]
    },
    {
      "cell_type": "code",
      "metadata": {
        "id": "_8Y8NEe5qI3c"
      },
      "source": [
        "#the order of filter and analyser is arbitrary\n",
        "dictionary_analyser = {\n",
        "    \"filter\" : {\n",
        "        \"dictionary_stemmer\" : {\n",
        "          \"type\" : \"hunspell\",\n",
        "          \"locale\" : \"en_US\",\n",
        "          \"dedup\" : True  #duplicate tokens are removed from the filter’s output\n",
        "        }\n",
        "    },\n",
        "    \"analyzer\" : {\n",
        "        \"default\" : {\n",
        "            \"tokenizer\" : \"standard\",\n",
        "            \"filter\" : [\"lowercase\", \"dictionary_stemmer\"]\n",
        "        }\n",
        "    }\n",
        "}"
      ],
      "execution_count": null,
      "outputs": []
    },
    {
      "cell_type": "markdown",
      "metadata": {
        "id": "rS9_vfDNw1Un"
      },
      "source": [
        "### Indexing\n",
        "\n",
        "The next step is to specify a default analyser for the index; in the following example we do so at index creation.\n",
        "\n",
        "(Reference guide for analyser specification at [Elasticsearch documentation](https://www.elastic.co/guide/en/elasticsearch/reference/current/specify-analyzer.html#specify-index-time-default-analyzer))"
      ]
    },
    {
      "cell_type": "code",
      "metadata": {
        "id": "KwsGM9oVvwIN"
      },
      "source": [
        "#create the correct settings \n",
        "settings = {\n",
        "    \"settings\": {\n",
        "        \"number_of_shards\": 1,\n",
        "        \"number_of_replicas\": 0,\n",
        "        \"analysis\": dictionary_analyser\n",
        "    }\n",
        "}\n",
        "\n",
        "#create index\n",
        "es.indices.delete(\"dictionary-stemming-index\")\n",
        "es.indices.create(\"dictionary-stemming-index\", body=settings)\n",
        "\n",
        "#index document\n",
        "doc = {\n",
        "    'author': 'kimchy',\n",
        "    'text': 'the foxes jumping quickly',\n",
        "    'timestamp': datetime.now()\n",
        "}\n",
        "\n",
        "res = es.index(index=\"dictionary-stemming-index\", id=1, body=doc)\n",
        "print(res['result'])"
      ],
      "execution_count": null,
      "outputs": []
    },
    {
      "cell_type": "markdown",
      "metadata": {
        "id": "K2rw9QKT5yaU"
      },
      "source": [
        "### Searching\n",
        "\n",
        "Lastly, let us observe stemming in action by employing a mock query. It's worthwhile noting that the example searches for `jump` rather than `jumping`; The dictionary stemmer removes the `-ing` suffix, preserving and searching for the words root form. "
      ]
    },
    {
      "cell_type": "code",
      "metadata": {
        "id": "OSxra8go2m7x"
      },
      "source": [
        "#test query\n",
        "res = es.search(index=\"dictionary-stemming-index\", body={\"query\": { \"multi_match\": { \"query\": \"jump\" , \"fields\" : [\"title\",\"text\"]}}})\n",
        "\n",
        "print(\"Got %d Hits:\" % res['hits']['total']['value'])\n",
        "\n",
        "for hit in res['hits']['hits']:\n",
        "    print(\"%(timestamp)s %(author)s: %(text)s\" % hit[\"_source\"])"
      ],
      "execution_count": null,
      "outputs": []
    }
  ]
}