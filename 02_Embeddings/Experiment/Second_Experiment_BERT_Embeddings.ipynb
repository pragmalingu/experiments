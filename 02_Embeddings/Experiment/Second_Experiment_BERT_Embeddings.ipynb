{
  "nbformat": 4,
  "nbformat_minor": 0,
  "metadata": {
    "colab": {
      "name": "Second Experiment: BERT Embeddings.ipynb",
      "provenance": [],
      "collapsed_sections": [
        "_Un-oDrHnDui",
        "r4_SDsRLasRA",
        "nZl09cJE0755",
        "X6uTwgD31Azk"
      ],
      "toc_visible": true,
      "include_colab_link": true
    },
    "kernelspec": {
      "name": "python3",
      "display_name": "Python 3"
    },
    "accelerator": "GPU"
  },
  "cells": [
    {
      "cell_type": "markdown",
      "metadata": {
        "id": "view-in-github",
        "colab_type": "text"
      },
      "source": [
        "<a href=\"https://colab.research.google.com/github/pragmalingu/experiments/blob/02_BERT/02_Embeddings/Experiment/Second_Experiment_BERT_Embeddings.ipynb\" target=\"_parent\"><img src=\"https://colab.research.google.com/assets/colab-badge.svg\" alt=\"Open In Colab\"/></a>"
      ]
    },
    {
      "cell_type": "markdown",
      "metadata": {
        "id": "n93d8RqwhKXs"
      },
      "source": [
        "# Second Experiment\n",
        "\n"
      ]
    },
    {
      "cell_type": "markdown",
      "metadata": {
        "id": "tApgxGG-lbTG"
      },
      "source": [
        "For our second experiment we connect the Notebook to an Elasticsearch instance and compare a standard Elasticsearch operator with Embeddings we get from BERT (Bi-Directional Encoder Representation from Transformer). The Embeddings are indexed built-in stemming methods: 'Stemmer Token Filter' and 'Hunspell Token Filter'. \n",
        "(To read details about this experiment visit our [website](https://pragmalingu.de/docs/experiments/experiment2))"
      ]
    },
    {
      "cell_type": "markdown",
      "metadata": {
        "id": "_Un-oDrHnDui"
      },
      "source": [
        "## Setup an Elasticsearch Instance in Google Colab"
      ]
    },
    {
      "cell_type": "markdown",
      "metadata": {
        "id": "wQiAH-sinDum"
      },
      "source": [
        "Everthing to connect to Elasticsearch, for detailed explaination see [this Guide.](https://pragmalingu.de/docs/guides/elastic-setup)\n",
        "Download:"
      ]
    },
    {
      "cell_type": "code",
      "metadata": {
        "id": "XdccmnTUnDup"
      },
      "source": [
        "import os\n",
        "from subprocess import Popen, PIPE, STDOUT\n",
        "# download elasticsearch\n",
        "!wget https://artifacts.elastic.co/downloads/elasticsearch/elasticsearch-7.9.1-linux-x86_64.tar.gz -q\n",
        "!tar -xzf elasticsearch-7.9.1-linux-x86_64.tar.gz\n",
        "!chown -R daemon:daemon elasticsearch-7.9.1\n"
      ],
      "execution_count": null,
      "outputs": []
    },
    {
      "cell_type": "markdown",
      "metadata": {
        "id": "bxgS1p4_-zun"
      },
      "source": [
        "Start a local server:"
      ]
    },
    {
      "cell_type": "code",
      "metadata": {
        "id": "H9HrpRBGsg9y",
        "outputId": "4748c4fe-302d-45f9-bf4e-21772dc5982e",
        "colab": {
          "base_uri": "https://localhost:8080/"
        }
      },
      "source": [
        "# start server\n",
        "es_server = Popen(['elasticsearch-7.9.1/bin/elasticsearch'], \n",
        "                  stdout=PIPE, stderr=STDOUT,\n",
        "                  preexec_fn=lambda: os.setuid(1)  # as daemon\n",
        "                 )\n",
        "# client-side\n",
        "!pip install elasticsearch -q\n",
        "from elasticsearch import Elasticsearch\n",
        "from datetime import datetime\n",
        "es = Elasticsearch([\"localhost:9200/\"])\n",
        "#wait a bit\n",
        "import time\n",
        "time.sleep(30)\n",
        "es.ping()  # got True"
      ],
      "execution_count": null,
      "outputs": [
        {
          "output_type": "stream",
          "text": [
            "\u001b[?25l\r\u001b[K     |█▌                              | 10kB 17.2MB/s eta 0:00:01\r\u001b[K     |███                             | 20kB 21.4MB/s eta 0:00:01\r\u001b[K     |████▌                           | 30kB 8.4MB/s eta 0:00:01\r\u001b[K     |██████                          | 40kB 10.3MB/s eta 0:00:01\r\u001b[K     |███████▌                        | 51kB 8.0MB/s eta 0:00:01\r\u001b[K     |█████████                       | 61kB 7.6MB/s eta 0:00:01\r\u001b[K     |██████████▌                     | 71kB 7.6MB/s eta 0:00:01\r\u001b[K     |████████████                    | 81kB 6.8MB/s eta 0:00:01\r\u001b[K     |█████████████▌                  | 92kB 6.2MB/s eta 0:00:01\r\u001b[K     |███████████████                 | 102kB 6.7MB/s eta 0:00:01\r\u001b[K     |████████████████▌               | 112kB 6.7MB/s eta 0:00:01\r\u001b[K     |██████████████████              | 122kB 6.7MB/s eta 0:00:01\r\u001b[K     |███████████████████▍            | 133kB 6.7MB/s eta 0:00:01\r\u001b[K     |█████████████████████           | 143kB 6.7MB/s eta 0:00:01\r\u001b[K     |██████████████████████▍         | 153kB 6.7MB/s eta 0:00:01\r\u001b[K     |████████████████████████        | 163kB 6.7MB/s eta 0:00:01\r\u001b[K     |█████████████████████████▍      | 174kB 6.7MB/s eta 0:00:01\r\u001b[K     |███████████████████████████     | 184kB 6.7MB/s eta 0:00:01\r\u001b[K     |████████████████████████████▍   | 194kB 6.7MB/s eta 0:00:01\r\u001b[K     |██████████████████████████████  | 204kB 6.7MB/s eta 0:00:01\r\u001b[K     |███████████████████████████████▍| 215kB 6.7MB/s eta 0:00:01\r\u001b[K     |████████████████████████████████| 225kB 6.7MB/s \n",
            "\u001b[?25h"
          ],
          "name": "stdout"
        },
        {
          "output_type": "execute_result",
          "data": {
            "text/plain": [
              "True"
            ]
          },
          "metadata": {
            "tags": []
          },
          "execution_count": 2
        }
      ]
    },
    {
      "cell_type": "code",
      "metadata": {
        "id": "jW1d1vUw_Bjb",
        "outputId": "7a88e972-6fe5-4951-ad26-9f4593e1ab3a",
        "colab": {
          "base_uri": "https://localhost:8080/"
        }
      },
      "source": [
        "#print new index list\n",
        "create_response = es.cat.indices()\n",
        "print(create_response)"
      ],
      "execution_count": null,
      "outputs": [
        {
          "output_type": "stream",
          "text": [
            "\n"
          ],
          "name": "stdout"
        }
      ]
    },
    {
      "cell_type": "markdown",
      "metadata": {
        "id": "OXr3XUJ8Lg22"
      },
      "source": [
        "## Download and intializie pretrained BERT model"
      ]
    },
    {
      "cell_type": "code",
      "metadata": {
        "id": "8_8fy6OMLfxt",
        "outputId": "21b1b0e3-706b-4dc1-83b3-3a4ff8b82199",
        "colab": {
          "base_uri": "https://localhost:8080/"
        }
      },
      "source": [
        "!pip install -U sentence-transformers\n",
        "\n",
        "from sentence_transformers import SentenceTransformer\n",
        "import torch\n",
        "from tqdm import tqdm_notebook\n",
        "\n",
        "model = SentenceTransformer('bert-base-nli-mean-tokens')\n",
        "\n",
        "# using gpu to boost inference if it's possible\n",
        "if torch.cuda.is_available():\n",
        "  model.to('cuda')\n",
        "\n",
        "print('Max Sequence Length:', model.max_seq_length)\n",
        "\n",
        "#Change the length to max possible length (based on gpu memory)\n",
        "model.max_seq_length = 364\n",
        "\n",
        "print('Max Sequence Length:', model.max_seq_length)"
      ],
      "execution_count": null,
      "outputs": [
        {
          "output_type": "stream",
          "text": [
            "Collecting sentence-transformers\n",
            "\u001b[?25l  Downloading https://files.pythonhosted.org/packages/f4/fd/0190080aa0af78d7cd5874e4e8e85f0bed9967dd387cf05d760832b95da9/sentence-transformers-0.3.8.tar.gz (66kB)\n",
            "\u001b[K     |████████████████████████████████| 71kB 5.3MB/s \n",
            "\u001b[?25hCollecting transformers<3.4.0,>=3.1.0\n",
            "\u001b[?25l  Downloading https://files.pythonhosted.org/packages/19/22/aff234f4a841f8999e68a7a94bdd4b60b4cebcfeca5d67d61cd08c9179de/transformers-3.3.1-py3-none-any.whl (1.1MB)\n",
            "\u001b[K     |████████████████████████████████| 1.1MB 12.3MB/s \n",
            "\u001b[?25hRequirement already satisfied, skipping upgrade: tqdm in /usr/local/lib/python3.6/dist-packages (from sentence-transformers) (4.41.1)\n",
            "Requirement already satisfied, skipping upgrade: torch>=1.2.0 in /usr/local/lib/python3.6/dist-packages (from sentence-transformers) (1.6.0+cu101)\n",
            "Requirement already satisfied, skipping upgrade: numpy in /usr/local/lib/python3.6/dist-packages (from sentence-transformers) (1.18.5)\n",
            "Requirement already satisfied, skipping upgrade: scikit-learn in /usr/local/lib/python3.6/dist-packages (from sentence-transformers) (0.22.2.post1)\n",
            "Requirement already satisfied, skipping upgrade: scipy in /usr/local/lib/python3.6/dist-packages (from sentence-transformers) (1.4.1)\n",
            "Requirement already satisfied, skipping upgrade: nltk in /usr/local/lib/python3.6/dist-packages (from sentence-transformers) (3.2.5)\n",
            "Requirement already satisfied, skipping upgrade: filelock in /usr/local/lib/python3.6/dist-packages (from transformers<3.4.0,>=3.1.0->sentence-transformers) (3.0.12)\n",
            "Requirement already satisfied, skipping upgrade: dataclasses; python_version < \"3.7\" in /usr/local/lib/python3.6/dist-packages (from transformers<3.4.0,>=3.1.0->sentence-transformers) (0.7)\n",
            "Requirement already satisfied, skipping upgrade: requests in /usr/local/lib/python3.6/dist-packages (from transformers<3.4.0,>=3.1.0->sentence-transformers) (2.23.0)\n",
            "Collecting tokenizers==0.8.1.rc2\n",
            "\u001b[?25l  Downloading https://files.pythonhosted.org/packages/80/83/8b9fccb9e48eeb575ee19179e2bdde0ee9a1904f97de5f02d19016b8804f/tokenizers-0.8.1rc2-cp36-cp36m-manylinux1_x86_64.whl (3.0MB)\n",
            "\u001b[K     |████████████████████████████████| 3.0MB 49.5MB/s \n",
            "\u001b[?25hCollecting sentencepiece!=0.1.92\n",
            "\u001b[?25l  Downloading https://files.pythonhosted.org/packages/e5/2d/6d4ca4bef9a67070fa1cac508606328329152b1df10bdf31fb6e4e727894/sentencepiece-0.1.94-cp36-cp36m-manylinux2014_x86_64.whl (1.1MB)\n",
            "\u001b[K     |████████████████████████████████| 1.1MB 51.6MB/s \n",
            "\u001b[?25hRequirement already satisfied, skipping upgrade: regex!=2019.12.17 in /usr/local/lib/python3.6/dist-packages (from transformers<3.4.0,>=3.1.0->sentence-transformers) (2019.12.20)\n",
            "Collecting sacremoses\n",
            "\u001b[?25l  Downloading https://files.pythonhosted.org/packages/7d/34/09d19aff26edcc8eb2a01bed8e98f13a1537005d31e95233fd48216eed10/sacremoses-0.0.43.tar.gz (883kB)\n",
            "\u001b[K     |████████████████████████████████| 890kB 53.6MB/s \n",
            "\u001b[?25hRequirement already satisfied, skipping upgrade: packaging in /usr/local/lib/python3.6/dist-packages (from transformers<3.4.0,>=3.1.0->sentence-transformers) (20.4)\n",
            "Requirement already satisfied, skipping upgrade: future in /usr/local/lib/python3.6/dist-packages (from torch>=1.2.0->sentence-transformers) (0.16.0)\n",
            "Requirement already satisfied, skipping upgrade: joblib>=0.11 in /usr/local/lib/python3.6/dist-packages (from scikit-learn->sentence-transformers) (0.17.0)\n",
            "Requirement already satisfied, skipping upgrade: six in /usr/local/lib/python3.6/dist-packages (from nltk->sentence-transformers) (1.15.0)\n",
            "Requirement already satisfied, skipping upgrade: idna<3,>=2.5 in /usr/local/lib/python3.6/dist-packages (from requests->transformers<3.4.0,>=3.1.0->sentence-transformers) (2.10)\n",
            "Requirement already satisfied, skipping upgrade: certifi>=2017.4.17 in /usr/local/lib/python3.6/dist-packages (from requests->transformers<3.4.0,>=3.1.0->sentence-transformers) (2020.6.20)\n",
            "Requirement already satisfied, skipping upgrade: urllib3!=1.25.0,!=1.25.1,<1.26,>=1.21.1 in /usr/local/lib/python3.6/dist-packages (from requests->transformers<3.4.0,>=3.1.0->sentence-transformers) (1.24.3)\n",
            "Requirement already satisfied, skipping upgrade: chardet<4,>=3.0.2 in /usr/local/lib/python3.6/dist-packages (from requests->transformers<3.4.0,>=3.1.0->sentence-transformers) (3.0.4)\n",
            "Requirement already satisfied, skipping upgrade: click in /usr/local/lib/python3.6/dist-packages (from sacremoses->transformers<3.4.0,>=3.1.0->sentence-transformers) (7.1.2)\n",
            "Requirement already satisfied, skipping upgrade: pyparsing>=2.0.2 in /usr/local/lib/python3.6/dist-packages (from packaging->transformers<3.4.0,>=3.1.0->sentence-transformers) (2.4.7)\n",
            "Building wheels for collected packages: sentence-transformers, sacremoses\n",
            "  Building wheel for sentence-transformers (setup.py) ... \u001b[?25l\u001b[?25hdone\n",
            "  Created wheel for sentence-transformers: filename=sentence_transformers-0.3.8-cp36-none-any.whl size=101996 sha256=3c1d89d06a806e7250673bc9b02f30f737080ac73d55a44aace4dcfa2419aa09\n",
            "  Stored in directory: /root/.cache/pip/wheels/27/ec/b3/d12cc8e4daf77846db6543033d3a5642f204c0320b15945647\n",
            "  Building wheel for sacremoses (setup.py) ... \u001b[?25l\u001b[?25hdone\n",
            "  Created wheel for sacremoses: filename=sacremoses-0.0.43-cp36-none-any.whl size=893257 sha256=4e790c8ef962d8b6795acdcc3dbf069fec07ce4fd946a5a17b9fcd6688ea6199\n",
            "  Stored in directory: /root/.cache/pip/wheels/29/3c/fd/7ce5c3f0666dab31a50123635e6fb5e19ceb42ce38d4e58f45\n",
            "Successfully built sentence-transformers sacremoses\n",
            "Installing collected packages: tokenizers, sentencepiece, sacremoses, transformers, sentence-transformers\n",
            "Successfully installed sacremoses-0.0.43 sentence-transformers-0.3.8 sentencepiece-0.1.94 tokenizers-0.8.1rc2 transformers-3.3.1\n"
          ],
          "name": "stdout"
        },
        {
          "output_type": "stream",
          "text": [
            "100%|██████████| 405M/405M [00:15<00:00, 25.9MB/s]\n"
          ],
          "name": "stderr"
        },
        {
          "output_type": "stream",
          "text": [
            "Max Sequence Length: 128\n",
            "Max Sequence Length: 364\n"
          ],
          "name": "stdout"
        }
      ]
    },
    {
      "cell_type": "markdown",
      "metadata": {
        "id": "RQX8W6VepxxT"
      },
      "source": [
        "## Parse Data\n",
        "\n",
        "Get different corpora, format them and feed them to elasticsearch"
      ]
    },
    {
      "cell_type": "markdown",
      "metadata": {
        "id": "SIXjztjXSYnx"
      },
      "source": [
        "### ADI Corpus"
      ]
    },
    {
      "cell_type": "markdown",
      "metadata": {
        "id": "DGpEnztyYttx"
      },
      "source": [
        "You can get the corpus from [this link](http://ir.dcs.gla.ac.uk/resources/test_collections/adi/).  <br>\n",
        "For detailed information about the parsing of this corpus look at [ this Notebook](https://colab.research.google.com/github/pragmalingu/experiments/blob/master/00_Data/ADICorpus.ipynb) or for parsing in generel read [this guide](https://pragmalingu.de/docs/guides/how-to-parse). An overview of the format of the files can be found here: [Data Sets](https://pragmalingu.de/docs/guides/data-comparison)"
      ]
    },
    {
      "cell_type": "markdown",
      "metadata": {
        "id": "TbXadfCKYxHx"
      },
      "source": [
        "**Parsing**"
      ]
    },
    {
      "cell_type": "code",
      "metadata": {
        "id": "cMSPDRFyShav",
        "outputId": "d1b16151-12b4-44ab-ea6b-6d482c923a27",
        "colab": {
          "base_uri": "https://localhost:8080/"
        }
      },
      "source": [
        "# download and unzip data\n",
        "!wget http://ir.dcs.gla.ac.uk/resources/test_collections/adi/adi.tar.gz\n",
        "!tar -xf adi.tar.gz\n",
        "\n",
        "# set paths to the dowloaded data as variables\n",
        "PATH_TO_ADI_TXT = '/content/ADI.ALL'\n",
        "PATH_TO_ADI_QRY = '/content/ADI.QRY'\n",
        "PATH_TO_ADI_REL = '/content/ADI.REL'\n",
        "\n",
        "from collections import defaultdict\n",
        "import re\n",
        "import json\n",
        "from io import StringIO\n",
        "import numpy as np\n",
        "\n",
        "\n",
        "# get the text and query files\n",
        "\n",
        "ID_marker = re.compile('\\.I')\n",
        "\n",
        "def get_data(PATH_TO_FILE, marker):\n",
        "  \"\"\"\n",
        "  Reads file and spilts text into entries at the ID marker '.I'.\n",
        "  First entry is empty, so it's removed.\n",
        "  'marker' contains the regex at which we want to split\n",
        "  \"\"\"\n",
        "  with open (PATH_TO_FILE,'r') as f:\n",
        "    text = f.read().replace('\\n',\" \")\n",
        "    lines = re.split(marker,text)\n",
        "    lines.pop(0)\n",
        "  return lines\n",
        "\n",
        "adi_txt_list = get_data(PATH_TO_ADI_TXT, ID_marker)\n",
        "adi_qry_list = get_data(PATH_TO_ADI_QRY, ID_marker)\n",
        "\n",
        "# process text file\n",
        "\n",
        "adi_title_start = re.compile('\\.T')\n",
        "adi_author_start = re.compile('\\.A')\n",
        "adi_text_start = re.compile('\\.W')\n",
        "\n",
        "adi_txt_data = defaultdict(dict)\n",
        "\n",
        "for line in adi_txt_list:\n",
        "  entries = re.split(adi_title_start,line,1)\n",
        "  id = entries[0].strip()\n",
        "  no_id = entries[1]\n",
        "  if len(re.split(adi_author_start, no_id,1)) > 1:\n",
        "    no_id_entries = re.split(adi_author_start, no_id,1)\n",
        "    adi_txt_data[id]['title'] = no_id_entries[0]\n",
        "    no_title = no_id_entries[1]\n",
        "    no_title_entries = re.split(adi_text_start, no_title)\n",
        "    adi_txt_data[id]['author'] = no_title_entries[0]\n",
        "    adi_txt_data[id]['text'] = no_title_entries[1]\n",
        "  else:\n",
        "    no_id_entries = re.split(adi_text_start, no_id)\n",
        "    adi_txt_data[id]['title'] = no_id_entries[0]\n",
        "    adi_txt_data[id]['text'] = no_id_entries[1]\n",
        "\n",
        "# process query file    \n",
        "\n",
        "qry_chunk_start = re.compile('\\.W')\n",
        "adi_qry_data = defaultdict(dict)\n",
        "\n",
        "for n in range(0,len(adi_qry_list)-1):\n",
        "  line = adi_qry_list[n+1]\n",
        "  _ , question = re.split(qry_chunk_start,line)\n",
        "  adi_qry_data[n+1]['question'] = question\n",
        "\n",
        "# process relevance assesment\n",
        "\n",
        "adi_rel_data = open(PATH_TO_ADI_REL)\n",
        "adi_np = np.loadtxt(adi_rel_data, dtype=float)\n",
        "\n",
        "adi_rel = defaultdict(list)\n",
        "for row in adi_np:\n",
        "  adi_rel[int(row[0])].append(int(row[1])) \n",
        "\n",
        "# transform text to sentences for BERT text search\n",
        "\n",
        "import nltk\n",
        "from nltk import tokenize\n",
        "from nltk.tokenize import sent_tokenize\n",
        "nltk.download('punkt')\n",
        "\n",
        "def text_to_sentences(string):\n",
        "  sentences = tokenize.sent_tokenize(string)\n",
        "  return sentences\n",
        "\n",
        "for ID, doc in adi_txt_data.items():\n",
        "  text = adi_txt_data[ID]['text']\n",
        "  adi_txt_data[ID]['sentences'] = text_to_sentences(text)"
      ],
      "execution_count": null,
      "outputs": [
        {
          "output_type": "stream",
          "text": [
            "--2020-11-04 08:58:36--  https://nextcloud.samyateia.de/index.php/s/ZWpy29gH4D2sADY/download\n",
            "Resolving nextcloud.samyateia.de (nextcloud.samyateia.de)... 194.55.14.32\n",
            "Connecting to nextcloud.samyateia.de (nextcloud.samyateia.de)|194.55.14.32|:443... connected.\n",
            "HTTP request sent, awaiting response... 200 OK\n",
            "Length: 57344 (56K) [application/x-gzip]\n",
            "Saving to: ‘download’\n",
            "\n",
            "download            100%[===================>]  56.00K   309KB/s    in 0.2s    \n",
            "\n",
            "2020-11-04 08:58:37 (309 KB/s) - ‘download’ saved [57344/57344]\n",
            "\n",
            "[nltk_data] Downloading package punkt to /root/nltk_data...\n",
            "[nltk_data]   Package punkt is already up-to-date!\n"
          ],
          "name": "stdout"
        }
      ]
    },
    {
      "cell_type": "markdown",
      "metadata": {
        "id": "I1VXADwHZuij"
      },
      "source": [
        "**Indexing**"
      ]
    },
    {
      "cell_type": "code",
      "metadata": {
        "id": "jWA0rapwShiT",
        "outputId": "4b687c75-7bdf-4e84-db04-3fa6b317a935",
        "colab": {
          "base_uri": "https://localhost:8080/"
        }
      },
      "source": [
        "# Elasticsearch settings, without using Opendistro\n",
        "# Settings for BERT title search\n",
        "settings_title = {\n",
        "  \"mappings\": {\n",
        "      \"properties\": {\n",
        "          \"title\": {\n",
        "              \"type\": \"text\"\n",
        "              },\n",
        "          \"title_vector\": {\n",
        "           \"type\": \"dense_vector\",\n",
        "           \"dims\": 768\n",
        "            }\n",
        "    }\n",
        "  }\n",
        "}\n",
        "\n",
        "# Settings for BERT text search\n",
        "settings_text = {\n",
        "  \"mappings\": {\n",
        "    \"properties\": {\n",
        "      \"text_vector\": {\n",
        "        \"type\": \"nested\",\n",
        "        \"properties\": {\n",
        "          \"vector\": {\n",
        "            \"type\": \"dense_vector\",\n",
        "            \"dims\": 768 \n",
        "          }\n",
        "        }\n",
        "      },\n",
        "     \"text\": {\n",
        "        \"type\": \"keyword\"\n",
        "    },\n",
        "    }\n",
        "  }\n",
        "}\n",
        "\n",
        "#create index, see https://elasticsearch-py.readthedocs.io/en/master/api.html#elasticsearch.client.IndicesClient.create\n",
        "adi_index = \"adi-corpus\"\n",
        "es.indices.delete(index=adi_index, ignore=[400, 404])\n",
        "es.indices.create(adi_index)\n",
        "\n",
        "adi_index_title = \"bert-title-adi-corpus\"\n",
        "es.indices.delete(index=adi_index_title, ignore=[400, 404])\n",
        "es.indices.create(adi_index_title, body=settings_title)\n",
        "\n",
        "adi_index_text = \"bert-text-adi-corpus\"\n",
        "es.indices.delete(index=adi_index_text, ignore=[400, 404])\n",
        "es.indices.create(adi_index_text, body=settings_text)"
      ],
      "execution_count": null,
      "outputs": [
        {
          "output_type": "execute_result",
          "data": {
            "text/plain": [
              "{'acknowledged': True,\n",
              " 'index': 'bert-text-adi-corpus',\n",
              " 'shards_acknowledged': True}"
            ]
          },
          "metadata": {
            "tags": []
          },
          "execution_count": 11
        }
      ]
    },
    {
      "cell_type": "code",
      "metadata": {
        "id": "ZaxpCqSDShgg",
        "outputId": "3ec4be13-6fe2-44d1-d7b5-499ad564149c",
        "colab": {
          "base_uri": "https://localhost:8080/"
        }
      },
      "source": [
        "for ID, doc_data in adi_txt_data.items():\n",
        "    # index for match query\n",
        "    es.index(index=adi_index, id=ID, body=doc_data)\n",
        "    # index for BERT title search\n",
        "    es.index(\n",
        "      index=adi_index_title, \n",
        "      id=ID, \n",
        "      body={\n",
        "          'title_vector': model.encode(adi_txt_data[ID]['title']),\n",
        "          'title': adi_txt_data[ID]['title'],\n",
        "          }\n",
        "    )\n",
        "    # index for BERT text search\n",
        "    text_list = []\n",
        "    for text in adi_txt_data[ID]['sentences']:\n",
        "      text_list.append({\"vector\": model.encode(text)})\n",
        "    es.index(\n",
        "      index=adi_index_text, \n",
        "      id=ID, \n",
        "      body={\n",
        "          'text_vector': text_list,\n",
        "          'text': adi_txt_data[ID]['text']\n",
        "          }\n",
        "    )\n",
        "\n",
        "#print new index list\n",
        "create_response = es.cat.indices()\n",
        "print(create_response)"
      ],
      "execution_count": null,
      "outputs": [
        {
          "output_type": "stream",
          "text": [
            "yellow open bert-title-adi-corpus 98EDKR1zQWeWw7o3mOSAEA 1 1  75 0   1.1mb   1.1mb\n",
            "yellow open bert-text-adi-corpus  NvuOjGUfTpucKippJ8RjNQ 1 1 270 0     3mb     3mb\n",
            "yellow open adi-corpus            JT-ZyW4bT36a96cX95mg1Q 1 1  73 0 196.3kb 196.3kb\n",
            "\n"
          ],
          "name": "stdout"
        }
      ]
    },
    {
      "cell_type": "markdown",
      "metadata": {
        "id": "RdZwKv7_SZFT"
      },
      "source": [
        "### CACM Corpus"
      ]
    },
    {
      "cell_type": "markdown",
      "metadata": {
        "id": "QB0t-8e0bHEb"
      },
      "source": [
        "You can get the corpus from [this link](http://ir.dcs.gla.ac.uk/resources/test_collections/cacm/). <br>\n",
        "For detailed information about the parsing of this corpus look at [ this Notebook](https://colab.research.google.com/github/pragmalingu/experiments/blob/master/00_Data/CACMCorpus.ipynb) or for parsing in generel read [this guide](https://pragmalingu.de/docs/guides/how-to-parse). An overview of the format of the files can be found here: [Data Sets](https://pragmalingu.de/docs/guides/data-comparison)"
      ]
    },
    {
      "cell_type": "markdown",
      "metadata": {
        "id": "Vr9n3mvAbGwx"
      },
      "source": [
        "**Parsing**"
      ]
    },
    {
      "cell_type": "code",
      "metadata": {
        "id": "wSONOisRSjTi",
        "outputId": "60af27f6-c72e-47cd-8edc-3bd49d70d780",
        "colab": {
          "base_uri": "https://localhost:8080/"
        }
      },
      "source": [
        "# download and unzip data\n",
        "!wget http://ir.dcs.gla.ac.uk/resources/test_collections/cacm/cacm.tar.gz\n",
        "!tar -xf cacm.tar.gz\n",
        "\n",
        "# set paths to the dowloaded data as variablesDownload and unzip data.\n",
        "\n",
        "PATH_TO_CACM_TXT = '/content/cacm.all'\n",
        "PATH_TO_CACM_QRY = '/content/query.text'\n",
        "PATH_TO_CACM_REL = '/content/qrels.text'\n",
        "PATH_TO_CACM_COMMON_WORDS = '/content/common_words'\n",
        "\n",
        "from collections import defaultdict\n",
        "import re\n",
        "import json\n",
        "from io import StringIO\n",
        "import numpy as np\n",
        "\n",
        "# get the text and query files\n",
        "\n",
        "ID_marker = re.compile('^\\.I',re.MULTILINE)\n",
        "\n",
        "def get_data(PATH_TO_FILE, marker):\n",
        "  \"\"\"\n",
        "  Reads file and spilts text into entries at the ID marker '.I'.\n",
        "  First entry is empty, so it's removed.\n",
        "  'marker' contains the regex at which we want to split\n",
        "  \"\"\"\n",
        "  with open (PATH_TO_FILE,'r') as f:\n",
        "    text = f.read()\n",
        "    lines = re.split(marker,text)\n",
        "    lines.pop(0)\n",
        "  return lines\n",
        "\n",
        "cacm_txt_list = get_data(PATH_TO_CACM_TXT, ID_marker)\n",
        "cacm_qry_list = get_data(PATH_TO_CACM_QRY, ID_marker)\n",
        "\n",
        "# process text file\n",
        "\n",
        "cacm_chunk_title = re.compile('\\.[T]\\n')\n",
        "cacm_chunk_txt = re.compile('\\n\\.W\\n') # not enough\n",
        "cacm_chunk_txt_pub = re.compile('\\.[W,B]')\n",
        "cacm_chunk_publication = re.compile('\\.[B]\\n')\n",
        "cacm_chunk_author = re.compile('^\\.[A]\\n', re.MULTILINE)\n",
        "cacm_chunk_author_add_cross = re.compile('^\\.[A,N,X]\\n',re.MULTILINE) # not enough\n",
        "cacm_chunk_add_cross = re.compile('\\.[B,N,X]\\n')\n",
        "\n",
        "\n",
        "cacm_txt_data = defaultdict(dict)\n",
        "\n",
        "for line in cacm_txt_list:\n",
        "  entries= re.split(cacm_chunk_title,line)\n",
        "  id = entries[0].strip() #save id\n",
        "  no_id = entries[1]\n",
        "\n",
        "  if len(re.split(cacm_chunk_txt, no_id)) == 2: # is there text\n",
        "    no_id_entries = re.split(cacm_chunk_txt_pub, no_id,1)\n",
        "    cacm_txt_data[id]['title'] = no_id_entries[0].strip() # save title\n",
        "    cacm_txt_data[id]['text'] = no_id_entries[1].strip() # save text\n",
        "    no_title_txt = no_id_entries[1]\n",
        "\n",
        "    if len(re.split(cacm_chunk_author, no_title_txt)) == 2: # is there a auhtor\n",
        "      no_title_entries = re.split(cacm_chunk_author_add_cross, no_title_txt)\n",
        "      cacm_txt_data[id]['publication_date'] = no_title_entries[0].strip() # save publication date\n",
        "      cacm_txt_data[id]['author'] = no_title_entries[1].strip() # save athor\n",
        "      cacm_txt_data[id]['add_date'] = no_title_entries[2].strip() # save add date\n",
        "      cacm_txt_data[id]['cross-references'] = no_title_entries[3].strip() # save cross-references\n",
        "\n",
        "    else:\n",
        "      no_title_entries = re.split(cacm_chunk_publication, no_title_txt)\n",
        "      cacm_txt_data[id]['publication_date'] = no_title_entries[0].strip() # save publication date\n",
        "      cacm_txt_data[id]['add_date'] = no_title_entries[1].strip() # save add date\n",
        "      cacm_txt_data[id]['cross-references'] = no_title_entries[1].strip() # save cross-references\n",
        "\n",
        "  else:\n",
        "    no_id_entries = re.split(cacm_chunk_publication, no_id,1)\n",
        "    cacm_txt_data[id]['title'] = no_id_entries[0].strip() # save title\n",
        "    no_title = no_id_entries[1]\n",
        "\n",
        "    if len(re.split(cacm_chunk_author, no_title,1)) == 2: # is there a auhtor\n",
        "      no_title_entries = re.split(cacm_chunk_author_add_cross, no_title)\n",
        "      cacm_txt_data[id]['publication_date'] = no_title_entries[0].strip() # save publication date\n",
        "      cacm_txt_data[id]['author'] = no_title_entries[1].strip() # save athor\n",
        "      cacm_txt_data[id]['add_date'] = no_title_entries[2].strip() # save add date\n",
        "      cacm_txt_data[id]['cross-references'] = no_title_entries[3].strip() # save cross-references\n",
        "\n",
        "    else:\n",
        "      no_title_entries = re.split(cacm_chunk_add_cross, no_title)\n",
        "      cacm_txt_data[id]['publication_date'] = no_title_entries[0].strip() # save publication date\n",
        "      cacm_txt_data[id]['add_date'] = no_title_entries[1].strip() # save add date\n",
        "      cacm_txt_data[id]['cross-references'] = no_title_entries[2].strip() # save cross-references\n",
        "\n",
        "# process the query data\n",
        "\n",
        "qry_chunk_start = re.compile('^\\.W\\n',re.MULTILINE)\n",
        "cacm_qry_data = defaultdict(dict)\n",
        "\n",
        "for n in range(0,len(cacm_qry_list)-1):\n",
        "  line = cacm_qry_list[n+1]\n",
        "  _ , question = re.split(qry_chunk_start,line)\n",
        "  cacm_qry_data[n+1]['question'] = question\n",
        "\n",
        "# process the relevance assesment data\n",
        "cacm_rel = defaultdict(list)\n",
        "\n",
        "with open (PATH_TO_CACM_REL,'r') as f:\n",
        "  for line in f:\n",
        "    line = re.split(' ',line)\n",
        "    cacm_rel[int(line[0])].append(line[1])\n",
        "\n",
        "\n",
        "# transform text to sentences for BERT text search\n",
        "\n",
        "import nltk\n",
        "from nltk import tokenize\n",
        "from nltk.tokenize import sent_tokenize\n",
        "nltk.download('punkt')\n",
        "\n",
        "def text_to_sentences(string):\n",
        "  sentences = tokenize.sent_tokenize(string)\n",
        "  return sentences\n",
        "\n",
        "for ID, doc in cacm_txt_data.items():\n",
        "  if 'text' in cacm_txt_data[str(ID)]:\n",
        "    text = cacm_txt_data[ID]['text']\n",
        "    cacm_txt_data[ID]['sentences'] = text_to_sentences(text)"
      ],
      "execution_count": null,
      "outputs": [
        {
          "output_type": "stream",
          "text": [
            "--2020-11-04 08:59:21--  https://nextcloud.samyateia.de/index.php/s/s4WQLTc7DLYsAaZ/download\n",
            "Resolving nextcloud.samyateia.de (nextcloud.samyateia.de)... 194.55.14.32\n",
            "Connecting to nextcloud.samyateia.de (nextcloud.samyateia.de)|194.55.14.32|:443... connected.\n",
            "HTTP request sent, awaiting response... 200 OK\n",
            "Length: 2221056 (2.1M) [application/x-gzip]\n",
            "Saving to: ‘download’\n",
            "\n",
            "download            100%[===================>]   2.12M  3.35MB/s    in 0.6s    \n",
            "\n",
            "2020-11-04 08:59:22 (3.35 MB/s) - ‘download’ saved [2221056/2221056]\n",
            "\n",
            "[nltk_data] Downloading package punkt to /root/nltk_data...\n",
            "[nltk_data]   Package punkt is already up-to-date!\n"
          ],
          "name": "stdout"
        }
      ]
    },
    {
      "cell_type": "markdown",
      "metadata": {
        "id": "IQzMkOPobHtX"
      },
      "source": [
        "**Indexing**"
      ]
    },
    {
      "cell_type": "code",
      "metadata": {
        "id": "j8UEeudxSjZe",
        "outputId": "47bb6db9-1571-4a03-ea20-00d4e5c7be16",
        "colab": {
          "base_uri": "https://localhost:8080/"
        }
      },
      "source": [
        "# Elasticsearch settings, without using Opendistro\n",
        "# Settings for BERT title search\n",
        "settings_title = {\n",
        "  \"mappings\": {\n",
        "      \"properties\": {\n",
        "          \"title\": {\n",
        "              \"type\": \"text\"\n",
        "              },\n",
        "          \"title_vector\": {\n",
        "           \"type\": \"dense_vector\",\n",
        "           \"dims\": 768\n",
        "            }\n",
        "    }\n",
        "  }\n",
        "}\n",
        "\n",
        "# Settings for BERT title search\n",
        "settings_text = {\n",
        "  \"mappings\": {\n",
        "    \"properties\": {\n",
        "      \"text_vector\": {\n",
        "        \"type\": \"nested\",\n",
        "        \"properties\": {\n",
        "          \"vector\": {\n",
        "            \"type\": \"dense_vector\",\n",
        "            \"dims\": 768 \n",
        "          }\n",
        "        }\n",
        "      },\n",
        "     \"text\": {\n",
        "        \"type\": \"keyword\"\n",
        "    },\n",
        "    }\n",
        "  }\n",
        "}\n",
        "\n",
        "#create index, see https://elasticsearch-py.readthedocs.io/en/master/api.html#elasticsearch.client.IndicesClient.create\n",
        "cacm_index= \"cacm-corpus\"\n",
        "es.indices.delete(index=cacm_index, ignore=[400, 404])\n",
        "es.indices.create(cacm_index)\n",
        "\n",
        "cacm_index_title = \"bert-title-cacm-corpus\"\n",
        "es.indices.delete(index=cacm_index_title, ignore=[400, 404])\n",
        "es.indices.create(cacm_index_title, body=settings_title)\n",
        "\n",
        "cacm_index_text = \"bert-text-cacm-corpus\"\n",
        "es.indices.delete(index=cacm_index_text, ignore=[400, 404])\n",
        "es.indices.create(cacm_index_text, body=settings_text)"
      ],
      "execution_count": null,
      "outputs": [
        {
          "output_type": "execute_result",
          "data": {
            "text/plain": [
              "{'acknowledged': True,\n",
              " 'index': 'bert-text-cacm-corpus',\n",
              " 'shards_acknowledged': True}"
            ]
          },
          "metadata": {
            "tags": []
          },
          "execution_count": 17
        }
      ]
    },
    {
      "cell_type": "code",
      "metadata": {
        "id": "FurCBp1tSjRD",
        "outputId": "7a0e7835-381a-4509-a4f6-a014b979bd79",
        "colab": {
          "base_uri": "https://localhost:8080/"
        }
      },
      "source": [
        "model.eval()\n",
        "\n",
        "for ID, doc_data in cacm_txt_data.items():\n",
        "    # index for match query\n",
        "    es.index(index=cacm_index, id=ID, body=doc_data)\n",
        "    # index for BERT title search, not every entry has a title\n",
        "    if 'title' not in cacm_txt_data[str(ID)]:\n",
        "      es.index(\n",
        "          index=cacm_index_title, \n",
        "          id=ID, \n",
        "          body={\n",
        "              'title_vector': model.encode('none'),\n",
        "              'title': '',\n",
        "        }\n",
        "  )\n",
        "    else:\n",
        "      es.index(\n",
        "          index=cacm_index_title, \n",
        "          id=ID, \n",
        "          body={\n",
        "              'title_vector': model.encode(cacm_txt_data[ID]['title']),\n",
        "              'title': cacm_txt_data[ID]['title'],\n",
        "              }\n",
        "               )\n",
        "    # index for BERT text search, not every entry has a title\n",
        "    if 'text' not in cacm_txt_data[str(ID)]:\n",
        "      es.index(\n",
        "        index=cacm_index, \n",
        "        id=ID, \n",
        "        body={\n",
        "            'text_vector': model.encode('none'),\n",
        "            'text': ''\n",
        "            }\n",
        "             )\n",
        "    else:\n",
        "      text_list = []\n",
        "      for text in cacm_txt_data[ID]['sentences']:\n",
        "        text_list.append({\"vector\": model.encode(text)})\n",
        "      \n",
        "      es.index(\n",
        "      index=cacm_index_text, \n",
        "      id=ID, \n",
        "      body={\n",
        "          'text_vector': text_list,\n",
        "          'text': cacm_txt_data[ID]['text']\n",
        "          }\n",
        "    )\n",
        "    \n",
        "\n",
        "#print new index list\n",
        "create_response = es.cat.indices()\n",
        "print(create_response)"
      ],
      "execution_count": null,
      "outputs": [
        {
          "output_type": "stream",
          "text": [
            "yellow open bert-title-cacm-corpus gPCy5XWHTIGjf3yL6L8pKA 1 1   0 0  36.5mb  36.5mb\n",
            "yellow open bert-title-adi-corpus  98EDKR1zQWeWw7o3mOSAEA 1 1  82 0   1.2mb   1.2mb\n",
            "yellow open cacm-corpus            mbZnut8RS5G6NC_FKJ73-w 1 1   0 0  13.7mb  13.7mb\n",
            "yellow open bert-text-adi-corpus   NvuOjGUfTpucKippJ8RjNQ 1 1 285 0     3mb     3mb\n",
            "yellow open bert-text-cacm-corpus  dSeZWZokThetk8wiH9n1mQ 1 1   0 0 107.6mb 107.6mb\n",
            "yellow open adi-corpus             JT-ZyW4bT36a96cX95mg1Q 1 1  82 0 221.4kb 221.4kb\n",
            "\n"
          ],
          "name": "stdout"
        }
      ]
    },
    {
      "cell_type": "markdown",
      "metadata": {
        "id": "E20KaO1jSZTc"
      },
      "source": [
        "### CISI Corpus"
      ]
    },
    {
      "cell_type": "markdown",
      "metadata": {
        "id": "1_BbnCfzaQt5"
      },
      "source": [
        "You can get the corpus from [this link](http://ir.dcs.gla.ac.uk/resources/test_collections/cisi/).  <br>\n",
        "For detailed information about the parsing of this corpus look at [ this Notebook](https://colab.research.google.com/github/pragmalingu/experiments/blob/master/00_Data/CISICorpus.ipynb) or for parsing in generel read [this guide](https://pragmalingu.de/docs/guides/how-to-parse). An overview of the format of the files can be found here: [Data Sets](https://pragmalingu.de/docs/guides/data-comparison)"
      ]
    },
    {
      "cell_type": "markdown",
      "metadata": {
        "id": "BV4P5-4JaUgJ"
      },
      "source": [
        "**Parsing**"
      ]
    },
    {
      "cell_type": "code",
      "metadata": {
        "id": "T64vUBjiSifp",
        "outputId": "494816a4-9d29-47b2-b5ac-9b7694df33a8",
        "colab": {
          "base_uri": "https://localhost:8080/"
        }
      },
      "source": [
        "# download and unzip data\n",
        "!wget http://ir.dcs.gla.ac.uk/resources/test_collections/cisi/cisi.tar.gz\n",
        "!tar -xf cisi.tar.gz\n",
        "\n",
        "# set paths to the dowloaded data as variablesDownload and unzip data.\n",
        "PATH_TO_CISI_TXT = '/content/CISI.ALL'\n",
        "PATH_TO_CISI_QRY = '/content/CISI.QRY'\n",
        "PATH_TO_CISI_REL = '/content/CISI.REL'\n",
        "\n",
        "from collections import defaultdict\n",
        "import re\n",
        "import json\n",
        "from io import StringIO\n",
        "import numpy as np\n",
        "\n",
        "# get the text and query files\n",
        "\n",
        "ID_marker = re.compile('^\\.I',re.MULTILINE)\n",
        "\n",
        "def get_data(PATH_TO_FILE, marker):\n",
        "  \"\"\"\n",
        "  Reads file and spilts text into entries at the ID marker '.I'.\n",
        "  First entry is empty, so it's removed.\n",
        "  'marker' contains the regex at which we want to split\n",
        "  \"\"\"\n",
        "  with open (PATH_TO_FILE,'r') as f:\n",
        "    text = f.read()\n",
        "    lines = re.split(marker,text)\n",
        "    lines.pop(0)\n",
        "  return lines\n",
        "\n",
        "cisi_txt_list = get_data(PATH_TO_CISI_TXT, ID_marker)\n",
        "cisi_qry_list = get_data(PATH_TO_CISI_QRY, ID_marker)\n",
        "\n",
        "# process text file\n",
        "\n",
        "cisi_title_start = re.compile('[\\n]\\.T')\n",
        "cisi_author_start = re.compile('[\\n]\\.A')\n",
        "cisi_date_start = re.compile('[\\n]\\.B')\n",
        "cisi_text_start = re.compile('[\\n]\\.W')\n",
        "cisi_cross_start = re.compile('[\\n]\\.X')\n",
        "\n",
        "cisi_txt_data = defaultdict(dict)\n",
        "\n",
        "for line in cisi_txt_list:\n",
        "  entries = re.split(cisi_title_start,line,1)\n",
        "  id = entries[0].strip()#save the id\n",
        "  no_id = entries[1] \n",
        "  \n",
        "  if len(re.split(cisi_author_start, no_id)) >= 2: # is there just one author?\n",
        "    no_id_entries = re.split(cisi_author_start, no_id,1)\n",
        "    cisi_txt_data[id]['title'] = no_id_entries[0].strip() # save title\n",
        "    no_title = no_id_entries[1]\n",
        "\n",
        "    if len(re.split(cisi_date_start, no_title)) > 1: # is there a publication date?\n",
        "      no_title_entries = re.split(cisi_date_start, no_title)\n",
        "      cisi_txt_data[id]['author'] = no_title_entries[0].strip() # save athour\n",
        "      no_author = no_title_entries[1]\n",
        "      no_author_entries = re.split(cisi_text_start, no_author)\n",
        "      cisi_txt_data[id]['publication_date'] = no_author_entries[0].strip() # save publication date\n",
        "      no_author_date = no_author_entries[1]\n",
        "    else:\n",
        "      no_title_entries = re.split(cisi_text_start, no_title)\n",
        "      cisi_txt_data[id]['author'] = no_title_entries[0].strip() # save athour\n",
        "      no_author_date = no_title_entries[1]\n",
        "\n",
        "  else:\n",
        "    no_id_entries = re.split(cisi_author_start, no_id)\n",
        "    cisi_txt_data[id]['title'] = no_id_entries[0].strip() # save title\n",
        "    cisi_txt_data[id]['author'] = no_id_entries[1].strip() # save first author\n",
        "    no_title_entries = re.split(cisi_text_start, no_title)\n",
        "    cisi_txt_data[id]['author'] += ','+no_title_entries[0].strip() # save second athour\n",
        "    no_author_date = no_title_entries[1]\n",
        "\n",
        "  last_entries = re.split(cisi_cross_start, no_author_date)\n",
        "  cisi_txt_data[id]['text'] = last_entries[0].strip() # save text\n",
        "  cisi_txt_data[id]['cross-refrences'] = last_entries[1].strip() # save cross refrences\n",
        "\n",
        "# process query file  \n",
        "\n",
        "qry_chunk_start = re.compile('[\\n]\\.W')\n",
        "\n",
        "cisi_qry_data = defaultdict(dict)\n",
        "\n",
        "for line in cisi_qry_list:\n",
        "  id , question = re.split(qry_chunk_start,line)\n",
        "  id = re.findall('\\d{1,3}',id)[0]\n",
        "  cisi_qry_data[id]['question'] = question\n",
        "\n",
        "# process the relevance assesment data\n",
        "cisi_rel = defaultdict(list)\n",
        "\n",
        "with open (PATH_TO_CISI_REL,'r') as f:\n",
        "  for line in f:\n",
        "    line = line.replace(' ','\\t')\n",
        "    line = re.split('\\t',line)\n",
        "    line = list(filter(None, line))\n",
        "    cisi_rel[str(line[0])].append(str(line[1]))\n",
        "\n",
        "# transform text to sentences for BERT text search\n",
        "\n",
        "import nltk\n",
        "from nltk import tokenize\n",
        "from nltk.tokenize import sent_tokenize\n",
        "nltk.download('punkt')\n",
        "\n",
        "def text_to_sentences(string):\n",
        "  sentences = tokenize.sent_tokenize(string)\n",
        "  return sentences\n",
        "\n",
        "for ID, doc in cisi_txt_data.items():\n",
        "  text = cisi_txt_data[ID]['text']\n",
        "  cisi_txt_data[ID]['sentences'] = text_to_sentences(text)"
      ],
      "execution_count": null,
      "outputs": [
        {
          "output_type": "stream",
          "text": [
            "--2020-11-04 09:07:03--  https://nextcloud.samyateia.de/index.php/s/ibPgbdqsstrWEAa/download\n",
            "Resolving nextcloud.samyateia.de (nextcloud.samyateia.de)... 194.55.14.32\n",
            "Connecting to nextcloud.samyateia.de (nextcloud.samyateia.de)|194.55.14.32|:443... connected.\n",
            "HTTP request sent, awaiting response... 200 OK\n",
            "Length: 2385920 (2.3M) [application/x-gzip]\n",
            "Saving to: ‘download’\n",
            "\n",
            "download            100%[===================>]   2.28M  3.56MB/s    in 0.6s    \n",
            "\n",
            "2020-11-04 09:07:05 (3.56 MB/s) - ‘download’ saved [2385920/2385920]\n",
            "\n",
            "[nltk_data] Downloading package punkt to /root/nltk_data...\n",
            "[nltk_data]   Package punkt is already up-to-date!\n"
          ],
          "name": "stdout"
        }
      ]
    },
    {
      "cell_type": "markdown",
      "metadata": {
        "id": "MliI7zHGawSY"
      },
      "source": [
        "**Indexing**"
      ]
    },
    {
      "cell_type": "code",
      "metadata": {
        "id": "CXoFBXYUSikA",
        "outputId": "6aedcebf-8aca-486d-9fc8-4d2edd11d42c",
        "colab": {
          "base_uri": "https://localhost:8080/"
        }
      },
      "source": [
        "# Elasticsearch settings, without using Opendistro\n",
        "# Settings for BERT title search\n",
        "settings_title = {\n",
        "  \"mappings\": {\n",
        "      \"properties\": {\n",
        "          \"title\": {\n",
        "              \"type\": \"text\"\n",
        "              },\n",
        "          \"title_vector\": {\n",
        "           \"type\": \"dense_vector\",\n",
        "           \"dims\": 768\n",
        "            }\n",
        "    }\n",
        "  }\n",
        "}\n",
        "\n",
        "# Settings for BERT text search\n",
        "settings_text = {\n",
        "  \"mappings\": {\n",
        "    \"properties\": {\n",
        "      \"text_vector\": {\n",
        "        \"type\": \"nested\",\n",
        "        \"properties\": {\n",
        "          \"vector\": {\n",
        "            \"type\": \"dense_vector\",\n",
        "            \"dims\": 768 \n",
        "          }\n",
        "        }\n",
        "      },\n",
        "     \"text\": {\n",
        "        \"type\": \"keyword\"\n",
        "    },\n",
        "    }\n",
        "  }\n",
        "}\n",
        "\n",
        "\n",
        "\n",
        "#create index, see https://elasticsearch-py.readthedocs.io/en/master/api.html#elasticsearch.client.IndicesClient.create\n",
        "cisi_index = \"cisi-corpus\"\n",
        "es.indices.delete(index=cisi_index, ignore=[400, 404])\n",
        "es.indices.create(cisi_index)\n",
        "\n",
        "cisi_index_title = \"bert-title-cisi-corpus\"\n",
        "es.indices.delete(index=cisi_index_title, ignore=[400, 404])\n",
        "es.indices.create(cisi_index_title, body=settings_title)\n",
        "\n",
        "cisi_index_text = \"bert-text-cisi-corpus\"\n",
        "es.indices.delete(index=cisi_index_text, ignore=[400, 404])\n",
        "es.indices.create(cisi_index_text, body=settings_text)"
      ],
      "execution_count": null,
      "outputs": [
        {
          "output_type": "execute_result",
          "data": {
            "text/plain": [
              "{'acknowledged': True,\n",
              " 'index': 'bert-text-cisi-corpus',\n",
              " 'shards_acknowledged': True}"
            ]
          },
          "metadata": {
            "tags": []
          },
          "execution_count": 20
        }
      ]
    },
    {
      "cell_type": "code",
      "metadata": {
        "id": "FF6S6Q64SioH",
        "outputId": "d314565f-da85-4c80-ad47-a53ec22bc72e",
        "colab": {
          "base_uri": "https://localhost:8080/"
        }
      },
      "source": [
        "for ID, doc_data in cisi_txt_data.items():\n",
        "    # Index for match query\n",
        "    es.index(index=cisi_index, id=ID, body=doc_data)\n",
        "    # Index for BERT title search\n",
        "    es.index(\n",
        "      index=cisi_index_title, \n",
        "      id=ID, \n",
        "      body={\n",
        "          'title_vector': model.encode(cisi_txt_data[ID]['title']),\n",
        "          'title': cisi_txt_data[ID]['title'],\n",
        "          }\n",
        "    )\n",
        "    # Index for BERT text search\n",
        "    text_list = []\n",
        "    for text in cisi_txt_data[ID]['sentences']:\n",
        "      text_list.append({\"vector\": model.encode(text)})\n",
        "      es.index(\n",
        "      index=cisi_index_text, \n",
        "      id=ID, \n",
        "      body={\n",
        "          'text_vector': text_list,\n",
        "          'text': cisi_txt_data[ID]['text']\n",
        "          }\n",
        "    )\n",
        "\n",
        "#print new index list\n",
        "create_response = es.cat.indices()\n",
        "print(create_response)"
      ],
      "execution_count": null,
      "outputs": [
        {
          "output_type": "stream",
          "text": [
            "yellow open bert-title-cacm-corpus gPCy5XWHTIGjf3yL6L8pKA 1 1     0     0  36.8mb  36.8mb\n",
            "yellow open bert-title-cisi-corpus gXf7zVxRRUeJDDVjjfNiQg 1 1   147     0  18.4mb  18.4mb\n",
            "yellow open bert-title-adi-corpus  98EDKR1zQWeWw7o3mOSAEA 1 1    82     0   1.2mb   1.2mb\n",
            "yellow open cacm-corpus            mbZnut8RS5G6NC_FKJ73-w 1 1     0     0  13.8mb  13.8mb\n",
            "yellow open bert-text-adi-corpus   NvuOjGUfTpucKippJ8RjNQ 1 1   285     0     3mb     3mb\n",
            "yellow open bert-text-cacm-corpus  dSeZWZokThetk8wiH9n1mQ 1 1 10685     0 138.4mb 138.4mb\n",
            "yellow open cisi-corpus            BYRfGDrbTdqW3b3X1_Flug 1 1   147     0   2.2mb   2.2mb\n",
            "yellow open adi-corpus             JT-ZyW4bT36a96cX95mg1Q 1 1    82     0 221.4kb 221.4kb\n",
            "yellow open bert-text-cisi-corpus  96dWEdIwR0ifjEoq577TiQ 1 1  7541 19903 296.7mb 296.7mb\n",
            "\n"
          ],
          "name": "stdout"
        }
      ]
    },
    {
      "cell_type": "markdown",
      "metadata": {
        "id": "2uBvUwRPpxT_"
      },
      "source": [
        "### Cranfield Corpus\n"
      ]
    },
    {
      "cell_type": "markdown",
      "metadata": {
        "id": "bcJkkOXMTL79"
      },
      "source": [
        "You can get the corpus from [this link](http://ir.dcs.gla.ac.uk/resources/test_collections/cran/).  <br>\n",
        "For detailed information about the parsing of this corpus look at [ this Notebook](https://colab.research.google.com/github/pragmalingu/experiments/blob/master/00_Data/CranfieldCorpus.ipynb) or for parsing in generel read [this guide](https://pragmalingu.de/docs/guides/how-to-parse). An overview of the format of the files can be found here: [Data Sets](https://pragmalingu.de/docs/guides/data-comparison)"
      ]
    },
    {
      "cell_type": "markdown",
      "metadata": {
        "id": "QRQUEbD_TRv-"
      },
      "source": [
        "**Parsing**"
      ]
    },
    {
      "cell_type": "code",
      "metadata": {
        "id": "kmlwZmVMTRCY",
        "outputId": "1f8422b4-4446-4f5d-e031-8c1a68ec10ae",
        "colab": {
          "base_uri": "https://localhost:8080/"
        }
      },
      "source": [
        "# download and unzip data\n",
        "!wget http://ir.dcs.gla.ac.uk/resources/test_collections/cran/cran.tar.gz\n",
        "!tar -xf cran.tar.gz\n",
        "\n",
        "# set paths to the dowloaded data as variables\n",
        "PATH_TO_CRAN_TXT = '/content/cran.all.1400'\n",
        "PATH_TO_CRAN_QRY = '/content/cran.qry'\n",
        "PATH_TO_CRAN_REL = '/content/cranqrel'\n",
        "\n",
        "from collections import defaultdict\n",
        "import re\n",
        "import json\n",
        "from io import StringIO\n",
        "import numpy as np\n",
        "\n",
        "\n",
        "# get the text entries from the text and query files\n",
        "\n",
        "ID_marker = re.compile('\\.I')\n",
        "\n",
        "def get_data(PATH_TO_FILE, marker):\n",
        "  \"\"\"\n",
        "  Reads file and spilts text into entries at the ID marker '.I'.\n",
        "  First entry is empty, so it's removed.\n",
        "  'marker' contains the regex at which we want to split\n",
        "  \"\"\"\n",
        "  with open (PATH_TO_FILE,'r') as f:\n",
        "    text = f.read().replace('\\n',\" \")\n",
        "    lines = re.split(marker,text)\n",
        "    lines.pop(0)\n",
        "  return lines\n",
        "\n",
        "cran_txt_list = get_data(PATH_TO_CRAN_TXT, ID_marker)\n",
        "cran_qry_list = get_data(PATH_TO_CRAN_QRY, ID_marker)\n",
        "\n",
        "# process text file\n",
        "\n",
        "cran_chunk_start = re.compile('\\.[A,B,T,W]')\n",
        "cran_txt_data = defaultdict(dict)\n",
        "\n",
        "for line in cran_txt_list:\n",
        "  entries= re.split(cran_chunk_start,line)\n",
        "  id = entries[0].strip()\n",
        "  title = entries[1]\n",
        "  author = entries[2]\n",
        "  publication_date = entries[3]\n",
        "  text = entries[4:]\n",
        "  cran_txt_data[id]['title'] = title\n",
        "  cran_txt_data[id]['author'] = author\n",
        "  cran_txt_data[id]['publication_date'] = publication_date\n",
        "  cran_txt_data[id]['text'] = ''.join(text)\n",
        "\n",
        "# process query file\n",
        "\n",
        "qry_chunk_start = re.compile('\\.W')\n",
        "cran_qry_data = defaultdict(dict)\n",
        "\n",
        "for n in range(0,len(cran_qry_list)-1):\n",
        "  line = cran_qry_list[n+1]\n",
        "  _ , question = re.split(qry_chunk_start,line)\n",
        "  cran_qry_data[n+1]['question'] = question\n",
        "\n",
        "# process relevance assesments without rating\n",
        "cran_rel = defaultdict(list)\n",
        "\n",
        "with open (PATH_TO_CRAN_REL,'r') as f:\n",
        "  for line in f:\n",
        "    line = re.split(' ',line)\n",
        "    cran_rel[int(line[0])].append(line[1])\n",
        "\n",
        "# transform text to sentences for BERT text search\n",
        "import nltk\n",
        "from nltk import tokenize\n",
        "from nltk.tokenize import sent_tokenize\n",
        "nltk.download('punkt')\n",
        "\n",
        "def text_to_sentences(string):\n",
        "  sentences = tokenize.sent_tokenize(string)\n",
        "  return sentences\n",
        "\n",
        "for ID, doc in cran_txt_data.items():\n",
        "  if 'text' in cran_txt_data[str(ID)]:\n",
        "    text = cran_txt_data[ID]['text']\n",
        "    cran_txt_data[ID]['sentences'] = text_to_sentences(text)"
      ],
      "execution_count": null,
      "outputs": [
        {
          "output_type": "stream",
          "text": [
            "--2020-11-04 09:10:54--  https://nextcloud.samyateia.de/index.php/s/ePSxPpLELCWteeL/download\n",
            "Resolving nextcloud.samyateia.de (nextcloud.samyateia.de)... 194.55.14.32\n",
            "Connecting to nextcloud.samyateia.de (nextcloud.samyateia.de)|194.55.14.32|:443... connected.\n",
            "HTTP request sent, awaiting response... 200 OK\n",
            "Length: 1698816 (1.6M) [application/x-gzip]\n",
            "Saving to: ‘download’\n",
            "\n",
            "download            100%[===================>]   1.62M  2.94MB/s    in 0.6s    \n",
            "\n",
            "2020-11-04 09:10:55 (2.94 MB/s) - ‘download’ saved [1698816/1698816]\n",
            "\n",
            "[nltk_data] Downloading package punkt to /root/nltk_data...\n",
            "[nltk_data]   Package punkt is already up-to-date!\n"
          ],
          "name": "stdout"
        }
      ]
    },
    {
      "cell_type": "markdown",
      "metadata": {
        "id": "WlYIgjIkTTbT"
      },
      "source": [
        "**Indexing**"
      ]
    },
    {
      "cell_type": "code",
      "metadata": {
        "id": "K2X6d9uySfeq",
        "outputId": "4a1f0e33-a677-48db-cbea-3f1afe54a4c3",
        "colab": {
          "base_uri": "https://localhost:8080/"
        }
      },
      "source": [
        "# Elasticsearch settings, without using Opendistro\n",
        "# Settings for BERT title search\n",
        "settings_title = {\n",
        "  \"mappings\": {\n",
        "      \"properties\": {\n",
        "          \"title\": {\n",
        "              \"type\": \"text\"\n",
        "              },\n",
        "          \"title_vector\": {\n",
        "           \"type\": \"dense_vector\",\n",
        "           \"dims\": 768\n",
        "            }\n",
        "    }\n",
        "  }\n",
        "}\n",
        "# Settings for BERT text search\n",
        "settings_text = {\n",
        "  \"mappings\": {\n",
        "    \"properties\": {\n",
        "      \"text_vector\": {\n",
        "        \"type\": \"nested\",\n",
        "        \"properties\": {\n",
        "          \"vector\": {\n",
        "            \"type\": \"dense_vector\",\n",
        "            \"dims\": 768 \n",
        "          }\n",
        "        }\n",
        "      },\n",
        "     \"text\": {\n",
        "        \"type\": \"keyword\"\n",
        "    },\n",
        "    }\n",
        "  }\n",
        "}\n",
        "#create index, see https://elasticsearch-py.readthedocs.io/en/master/api.html#elasticsearch.client.IndicesClient.create\n",
        "\n",
        "cran_index = \"cranfield-corpus\"\n",
        "es.indices.delete(index=cran_index, ignore=[400, 404])\n",
        "es.indices.create(cran_index)\n",
        "\n",
        "cran_index_title = \"bert-title-cranfield-corpus\"\n",
        "es.indices.delete(index=cran_index_title, ignore=[400, 404])\n",
        "es.indices.create(cran_index_title, body=settings_title)\n",
        "\n",
        "cran_index_text = \"bert-text-cranfield-corpus\"\n",
        "es.indices.delete(index=cran_index_text, ignore=[400, 404])\n",
        "es.indices.create(cran_index_text, body=settings_text)"
      ],
      "execution_count": null,
      "outputs": [
        {
          "output_type": "execute_result",
          "data": {
            "text/plain": [
              "{'acknowledged': True,\n",
              " 'index': 'bert-text-cranfield-corpus',\n",
              " 'shards_acknowledged': True}"
            ]
          },
          "metadata": {
            "tags": []
          },
          "execution_count": 23
        }
      ]
    },
    {
      "cell_type": "code",
      "metadata": {
        "id": "76ENSgO8Rj3g",
        "outputId": "e575638c-7bbc-4a46-c829-f6df0021f009",
        "colab": {
          "base_uri": "https://localhost:8080/"
        }
      },
      "source": [
        "model.eval()\n",
        "#index documents, see https://elasticsearch-py.readthedocs.io/en/master/#example-usage\n",
        "for ID, doc_data in cran_txt_data.items():\n",
        "      # Index for match query\n",
        "      es.index(index=cran_index, id=ID, body=doc_data)\n",
        "      # Index for BERT title search\n",
        "      es.index(\n",
        "         index=cran_index_title, \n",
        "         id=ID, \n",
        "         body={\n",
        "          'title_vector': model.encode(cran_txt_data[ID]['title']),\n",
        "          'title': cran_txt_data[ID]['title'],\n",
        "          }\n",
        "    )\n",
        "      # Index for BERT text search\n",
        "      text_list = []\n",
        "      for text in cran_txt_data[ID]['sentences']:\n",
        "        text_list.append({\"vector\": model.encode(text)})\n",
        "      es.index(\n",
        "            index=cran_index_text, \n",
        "            id=ID, \n",
        "            body={\n",
        "          'text_vector': text_list,\n",
        "          'text': cran_txt_data[ID]['text']\n",
        "          }\n",
        "    )\n",
        "      \n",
        "\n",
        "#print new index list\n",
        "create_response = es.cat.indices()\n",
        "print(create_response)"
      ],
      "execution_count": null,
      "outputs": [
        {
          "output_type": "stream",
          "text": [
            "yellow open bert-title-cacm-corpus      gPCy5XWHTIGjf3yL6L8pKA 1 1  3204     0  46.3mb  46.3mb\n",
            "yellow open bert-title-cisi-corpus      gXf7zVxRRUeJDDVjjfNiQg 1 1  1460     0    21mb    21mb\n",
            "yellow open bert-title-adi-corpus       98EDKR1zQWeWw7o3mOSAEA 1 1    82     0   1.2mb   1.2mb\n",
            "yellow open bert-text-cranfield-corpus  rsMiH1UxTR2-ez4nVWhc2w 1 1  3916     0 169.8mb 169.8mb\n",
            "yellow open cranfield-corpus            OGKdjf1uQceaKM6bYx7vaw 1 1   471     0   2.7mb   2.7mb\n",
            "yellow open bert-title-cranfield-corpus 7-TSHnViRxir1gEg-8b-wg 1 1   471     0  22.4mb  22.4mb\n",
            "yellow open cacm-corpus                 mbZnut8RS5G6NC_FKJ73-w 1 1  3204  1618  25.7mb  25.7mb\n",
            "yellow open bert-text-cacm-corpus       dSeZWZokThetk8wiH9n1mQ 1 1 10685     0 138.4mb 138.4mb\n",
            "yellow open bert-text-adi-corpus        NvuOjGUfTpucKippJ8RjNQ 1 1   285     0     3mb     3mb\n",
            "yellow open cisi-corpus                 BYRfGDrbTdqW3b3X1_Flug 1 1  1460     0   4.4mb   4.4mb\n",
            "yellow open adi-corpus                  JT-ZyW4bT36a96cX95mg1Q 1 1    82     0 221.4kb 221.4kb\n",
            "yellow open bert-text-cisi-corpus       96dWEdIwR0ifjEoq577TiQ 1 1  7792 20745   298mb   298mb\n",
            "\n"
          ],
          "name": "stdout"
        }
      ]
    },
    {
      "cell_type": "markdown",
      "metadata": {
        "id": "Hth0myYcBlAk"
      },
      "source": [
        "### LISA Corpus"
      ]
    },
    {
      "cell_type": "markdown",
      "metadata": {
        "id": "f3e5px45BlAo"
      },
      "source": [
        "You can get the corpus from [this link](http://ir.dcs.gla.ac.uk/resources/test_collections/lisa/).  <br>\n",
        "For detailed information about the parsing of this corpus look at [ this Notebook](https://colab.research.google.com/github/pragmalingu/experiments/blob/master/00_Data/LISACorpus.ipynb) or for parsing in generel read [this guide](https://pragmalingu.de/docs/guides/how-to-parse). An overview of the format of the files can be found here: [Data Sets](https://pragmalingu.de/docs/guides/data-comparison)"
      ]
    },
    {
      "cell_type": "markdown",
      "metadata": {
        "id": "8D3zYeCgBlAq"
      },
      "source": [
        "**Parsing**"
      ]
    },
    {
      "cell_type": "code",
      "metadata": {
        "id": "Eo4o1z1vBlAs",
        "outputId": "0d697f73-068b-4b14-bc13-a33d4bffc462",
        "colab": {
          "base_uri": "https://localhost:8080/"
        }
      },
      "source": [
        "# download and unzip data\n",
        "!wget http://ir.dcs.gla.ac.uk/resources/test_collections/lisa/lisa.tar.gz\n",
        "!tar -xf lisa.tar.gz\n",
        "\n",
        "# set paths to the dowloaded data as variablesDownload and unzip data.\n",
        "\n",
        "PATH_TO_LISA_TXT = '/content/'\n",
        "PATH_TO_LISA_QRY = '/content/LISA.QUE'\n",
        "PATH_TO_LISA_REL = '/content/LISARJ.NUM'\n",
        "\n",
        "from collections import defaultdict\n",
        "import re\n",
        "import json\n",
        "from io import StringIO\n",
        "import numpy as np\n",
        "import os\n",
        "\n",
        "# get the text and query files\n",
        "\n",
        "file_regex = re.compile('LISA[0-5]')\n",
        "lisa_files = [i for i in os.listdir(PATH_TO_LISA_TXT) if os.path.isfile(os.path.join(PATH_TO_LISA_TXT,i)) and re.match(file_regex,i)]\n",
        "\n",
        "txt_entry_marker = re.compile('\\*{44}',re.MULTILINE)\n",
        "qry_entry_marker = re.compile('#')\n",
        "\n",
        "def get_data(PATH_TO_FILES, marker):\n",
        "  \"\"\"\n",
        "  Reads multiple files and spilts text into entries at the entry marker.\n",
        "  The 'marker' contains the regex at which we want to split\n",
        "  Pops last element since it's empty.\n",
        "  \"\"\"\n",
        "  with open (PATH_TO_FILES,'r') as f:\n",
        "    text = f.read().replace('     ','')\n",
        "    lines = re.split(marker,text)\n",
        "    lines.pop()\n",
        "  return lines\n",
        "\n",
        "lisa_txt_list = []\n",
        "for name in lisa_files: \n",
        "  lisa_txt_list.extend(get_data(PATH_TO_LISA_TXT+name, txt_entry_marker))\n",
        "\n",
        "lisa_qry_list = get_data(PATH_TO_LISA_QRY, qry_entry_marker)\n",
        "\n",
        "# process text file\n",
        "\n",
        "doc_strip = re.compile('\\n?Document {1,2}')\n",
        "\n",
        "lisa_txt_list_stripped = []\n",
        "lisa_txt_data = defaultdict(dict)\n",
        "\n",
        "for el in lisa_txt_list:\n",
        "  lisa_txt_list_stripped.append(re.sub(doc_strip,'', el))\n",
        "\n",
        "for entry in lisa_txt_list_stripped:\n",
        "  parts = entry.split('\\n')\n",
        "  empty_index = parts.index('')\n",
        "  ID = parts[0].strip(' ')\n",
        "  title = parts[1:empty_index]\n",
        "  text = parts[empty_index+1:]\n",
        "  lisa_txt_data[ID]['title'] = ''.join(title)\n",
        "  lisa_txt_data[ID]['text'] = ''.join(text)\n",
        "\n",
        "# process the query data\n",
        "\n",
        "lisa_qry_data = defaultdict(dict)\n",
        "# first line is a special case because it doesn't start with a newline\n",
        "first_line = lisa_qry_list[0]\n",
        "first_question = ' '.join(first_line[1:])\n",
        "lisa_qry_data[int(first_line[0])]['question'] = first_question\n",
        "\n",
        "# after that every line can be handle the same way\n",
        "for n in range(0,len(lisa_qry_list)-1):\n",
        "  line = re.split('\\n',lisa_qry_list[n+1])\n",
        "  question = ' '.join(line[2:])\n",
        "  lisa_qry_data[int(line[1])]['question'] = question\n",
        "\n",
        "# process relevance assesments\n",
        "lisa_rel = defaultdict(list)\n",
        "\n",
        "rel_marker = re.compile('            \\n        ')\n",
        "rel_split = re.compile('\\n')\n",
        "\n",
        "with open (PATH_TO_LISA_REL,'r') as f:\n",
        "  file = f.read().strip('       ').replace('\\n','')\n",
        "  lines = re.split(' ',file)\n",
        "  lines = list(filter(None, lines))\n",
        "  n = 0\n",
        "  while n < len(lines):\n",
        "    ID = int(lines[n])\n",
        "    num_rel = int(lines[n+1])\n",
        "    rels = lines[(n+2):(n+num_rel+2)]\n",
        "    lisa_rel[ID].extend(rels)\n",
        "    n = n+1+num_rel+1\n",
        "\n",
        "# transform text to sentences for BERT text search\n",
        "import nltk\n",
        "from nltk import tokenize\n",
        "from nltk.tokenize import sent_tokenize\n",
        "nltk.download('punkt')\n",
        "\n",
        "def text_to_sentences(string):\n",
        "  sentences = tokenize.sent_tokenize(string)\n",
        "  return sentences\n",
        "\n",
        "for ID, doc in lisa_txt_data.items():\n",
        "  text = lisa_txt_data[ID]['text']\n",
        "  lisa_txt_data[ID]['sentences'] = text_to_sentences(text)"
      ],
      "execution_count": null,
      "outputs": [
        {
          "output_type": "stream",
          "text": [
            "--2020-11-04 09:22:36--  https://nextcloud.samyateia.de/index.php/s/Ed8gekyDgpkGGQ6/download\n",
            "Resolving nextcloud.samyateia.de (nextcloud.samyateia.de)... 194.55.14.32\n",
            "Connecting to nextcloud.samyateia.de (nextcloud.samyateia.de)|194.55.14.32|:443... connected.\n",
            "HTTP request sent, awaiting response... 200 OK\n",
            "Length: 4012544 (3.8M) [application/x-gzip]\n",
            "Saving to: ‘download’\n",
            "\n",
            "download            100%[===================>]   3.83M  5.28MB/s    in 0.7s    \n",
            "\n",
            "2020-11-04 09:22:37 (5.28 MB/s) - ‘download’ saved [4012544/4012544]\n",
            "\n",
            "[nltk_data] Downloading package punkt to /root/nltk_data...\n",
            "[nltk_data]   Package punkt is already up-to-date!\n"
          ],
          "name": "stdout"
        }
      ]
    },
    {
      "cell_type": "markdown",
      "metadata": {
        "id": "kvj78Pc1BlBB"
      },
      "source": [
        "**Indexing**"
      ]
    },
    {
      "cell_type": "code",
      "metadata": {
        "id": "CyVRktILBlBD",
        "outputId": "8b8b9e3a-13ea-48a4-f724-5fdcbde52517",
        "colab": {
          "base_uri": "https://localhost:8080/"
        }
      },
      "source": [
        "# Elasticsearch settings, without using Opendistro\n",
        "# Settings for BERT title search\n",
        "settings_title = {\n",
        "  \"mappings\": {\n",
        "      \"properties\": {\n",
        "          \"title\": {\n",
        "              \"type\": \"text\"\n",
        "              },\n",
        "          \"title_vector\": {\n",
        "           \"type\": \"dense_vector\",\n",
        "           \"dims\": 768\n",
        "            }\n",
        "    }\n",
        "  }\n",
        "}\n",
        "# Settings for BERT text search\n",
        "settings_text = {\n",
        "  \"mappings\": {\n",
        "    \"properties\": {\n",
        "      \"text_vector\": {\n",
        "        \"type\": \"nested\",\n",
        "        \"properties\": {\n",
        "          \"vector\": {\n",
        "            \"type\": \"dense_vector\",\n",
        "            \"dims\": 768 \n",
        "          }\n",
        "        }\n",
        "      },\n",
        "     \"text\": {\n",
        "        \"type\": \"keyword\"\n",
        "    },\n",
        "    }\n",
        "  }\n",
        "}\n",
        "#create index, see https://elasticsearch-py.readthedocs.io/en/master/api.html#elasticsearch.client.IndicesClient.create\n",
        "lisa_index = \"lisa-corpus\"\n",
        "es.indices.delete(index=lisa_index, ignore=[400, 404])\n",
        "es.indices.create(lisa_index)\n",
        "\n",
        "lisa_index_title = \"bert-title-lisa-corpus\"\n",
        "es.indices.delete(index=lisa_index_title, ignore=[400, 404])\n",
        "es.indices.create(lisa_index_title, body=settings_title)\n",
        "\n",
        "lisa_index_text = \"bert-text-lisa-corpus\"\n",
        "es.indices.delete(index=lisa_index_text, ignore=[400, 404])\n",
        "es.indices.create(lisa_index_text, body=settings_text)"
      ],
      "execution_count": null,
      "outputs": [
        {
          "output_type": "execute_result",
          "data": {
            "text/plain": [
              "{'acknowledged': True,\n",
              " 'index': 'bert-text-lisa-corpus',\n",
              " 'shards_acknowledged': True}"
            ]
          },
          "metadata": {
            "tags": []
          },
          "execution_count": 28
        }
      ]
    },
    {
      "cell_type": "code",
      "metadata": {
        "id": "vkEWHA9NBlBO",
        "outputId": "6536d113-3759-4835-e2de-6d250500631c",
        "colab": {
          "base_uri": "https://localhost:8080/"
        }
      },
      "source": [
        "for ID, doc_data in lisa_txt_data.items():\n",
        "    # Index for match query\n",
        "    es.index(index=lisa_index, id=ID, body=doc_data)\n",
        "    # Index for BERT title search\n",
        "    es.index(\n",
        "      index=lisa_index_title, \n",
        "      id=ID, \n",
        "      body={\n",
        "          'title_vector': model.encode(''.join(lisa_txt_data[ID]['title'])),\n",
        "          'title': lisa_txt_data[ID]['title'],\n",
        "          }\n",
        "    )\n",
        "    # Index for BERT text search\n",
        "    text_list = []\n",
        "    for text in lisa_txt_data[ID]['sentences']:\n",
        "      text_list.append({\"vector\": model.encode(text)})\n",
        "    es.index(\n",
        "      index=lisa_index_text, \n",
        "      id=ID, \n",
        "      body={\n",
        "          'text_vector': text_list,\n",
        "          'text': lisa_txt_data[ID]['text']\n",
        "          }\n",
        "    )\n",
        "#print new index list\n",
        "create_response = es.cat.indices()\n",
        "print(create_response)"
      ],
      "execution_count": null,
      "outputs": [
        {
          "output_type": "stream",
          "text": [
            "yellow open bert-title-lisa-corpus      JxLlonu4RcOr_Y87PWVXYg 1 1   304     0  72.9mb  72.9mb\n",
            "yellow open bert-title-adi-corpus       98EDKR1zQWeWw7o3mOSAEA 1 1    82     0   1.2mb   1.2mb\n",
            "yellow open cranfield-corpus            OGKdjf1uQceaKM6bYx7vaw 1 1  1400     0   4.4mb   4.4mb\n",
            "yellow open bert-title-cranfield-corpus 7-TSHnViRxir1gEg-8b-wg 1 1  1400     0    20mb    20mb\n",
            "yellow open bert-text-adi-corpus        NvuOjGUfTpucKippJ8RjNQ 1 1   285     0     3mb     3mb\n",
            "yellow open bert-text-lisa-corpus       pF2USCd-S4OsZNc-67FaTA 1 1  1395     0   256mb   256mb\n",
            "yellow open adi-corpus                  JT-ZyW4bT36a96cX95mg1Q 1 1    82     0 221.4kb 221.4kb\n",
            "yellow open lisa-corpus                 Ur9yr5i-QoSx0sPVcq5QPw 1 1   302     0   3.5mb   3.5mb\n",
            "yellow open bert-title-cacm-corpus      gPCy5XWHTIGjf3yL6L8pKA 1 1  3204     0  46.3mb  46.3mb\n",
            "yellow open bert-title-cisi-corpus      gXf7zVxRRUeJDDVjjfNiQg 1 1  1460     0    21mb    21mb\n",
            "yellow open bert-text-cranfield-corpus  rsMiH1UxTR2-ez4nVWhc2w 1 1 11515     0 152.8mb 152.8mb\n",
            "yellow open cacm-corpus                 mbZnut8RS5G6NC_FKJ73-w 1 1  3204  1618  25.7mb  25.7mb\n",
            "yellow open bert-text-cacm-corpus       dSeZWZokThetk8wiH9n1mQ 1 1 10685     0 138.4mb 138.4mb\n",
            "yellow open cisi-corpus                 BYRfGDrbTdqW3b3X1_Flug 1 1  1460     0   4.4mb   4.4mb\n",
            "yellow open bert-text-cisi-corpus       96dWEdIwR0ifjEoq577TiQ 1 1  7792 20745   298mb   298mb\n",
            "\n"
          ],
          "name": "stdout"
        }
      ]
    },
    {
      "cell_type": "markdown",
      "metadata": {
        "id": "1khYBntB-QGW"
      },
      "source": [
        "### Medline Corpus"
      ]
    },
    {
      "cell_type": "markdown",
      "metadata": {
        "id": "hdfuvzhY-QGW"
      },
      "source": [
        "You can get the corpus from [this link](http://ir.dcs.gla.ac.uk/resources/test_collections/med/).  <br>\n",
        "For detailed information about the parsing of this corpus look at [ this Notebook](https://colab.research.google.com/github/pragmalingu/experiments/blob/master/00_Data/MedlineCorpus.ipynb) or for parsing in generel read [this guide](https://pragmalingu.de/docs/guides/how-to-parse). An overview of the format of the files can be found here: [Data Sets](https://pragmalingu.de/docs/guides/data-comparison)"
      ]
    },
    {
      "cell_type": "markdown",
      "metadata": {
        "id": "iVxwNZ_a-QGX"
      },
      "source": [
        "**Parsing**"
      ]
    },
    {
      "cell_type": "code",
      "metadata": {
        "id": "eZl9p5nY-QGX",
        "outputId": "a5b74946-b4f1-4304-d46f-e3e4a10916f9",
        "colab": {
          "base_uri": "https://localhost:8080/"
        }
      },
      "source": [
        "# download and unzip data\n",
        "!wget http://ir.dcs.gla.ac.uk/resources/test_collections/medl/med.tar.gz\n",
        "!tar -xf med.tar.gz\n",
        "\n",
        "# set paths to the dowloaded data as variables\n",
        "PATH_TO_MED_TXT = '/content/MED.ALL'\n",
        "PATH_TO_MED_QRY = '/content/MED.QRY'\n",
        "PATH_TO_MED_REL = '/content/MED.REL'\n",
        "\n",
        "from collections import defaultdict\n",
        "import re\n",
        "import json\n",
        "from io import StringIO\n",
        "import numpy as np\n",
        "\n",
        "\n",
        "# get the text and query files\n",
        "\n",
        "ID_marker = re.compile('\\.I')\n",
        "\n",
        "def get_data(PATH_TO_FILE, marker):\n",
        "  \"\"\"\n",
        "  Reads file and spilts text into entries at the ID marker '.I'.\n",
        "  First entry is empty, so it's removed.\n",
        "  'marker' contains the regex at which we want to split\n",
        "  \"\"\"\n",
        "  with open (PATH_TO_FILE,'r') as f:\n",
        "    text = f.read().replace('\\n',\" \")\n",
        "    lines = re.split(marker,text)\n",
        "    lines.pop(0)\n",
        "  return lines\n",
        "\n",
        "med_txt_list = get_data(PATH_TO_MED_TXT, ID_marker)\n",
        "med_qry_list = get_data(PATH_TO_MED_QRY, ID_marker)\n",
        "\n",
        "# process the text and query files\n",
        "\n",
        "import nltk\n",
        "from nltk import tokenize\n",
        "from nltk.tokenize import sent_tokenize\n",
        "nltk.download('punkt')\n",
        "\n",
        "def text_to_sentences(string):\n",
        "  sentences = tokenize.sent_tokenize(string)\n",
        "  return sentences\n",
        "\n",
        "qry_chunk_start = re.compile('\\.W')\n",
        "\n",
        "med_txt_data = defaultdict(dict)\n",
        "med_qry_data = defaultdict(dict)\n",
        "\n",
        "def fill_dictionary(dictionary, chunk_list, marker, key_name):\n",
        "  for n in range(0,len(chunk_list)-1):\n",
        "    line = chunk_list[n+1]\n",
        "    _ , chunk = re.split(marker,line)\n",
        "    dictionary[n+1][key_name] = chunk.strip()\n",
        "\n",
        "fill_dictionary(med_txt_data, med_txt_list, qry_chunk_start, 'text')\n",
        "fill_dictionary(med_qry_data, med_qry_list, qry_chunk_start, 'question')\n",
        "\n",
        "\n",
        "\n",
        "# process relevance assesments with rating\n",
        "\n",
        "med_rel_data = open(PATH_TO_MED_REL)\n",
        "med_np = np.loadtxt(med_rel_data, dtype=int)\n",
        "\n",
        "med_rel_rat = defaultdict(list)\n",
        "for row in med_np:\n",
        "  med_rel_rat[row[0]].append(row[2])\n",
        "\n",
        "# process relevance assesments without rating\n",
        "med_rel = defaultdict(list)\n",
        "\n",
        "with open (PATH_TO_MED_REL,'r') as f:\n",
        "  for line in f:\n",
        "    line = re.split(' ',line)\n",
        "    med_rel[int(line[0])].append(line[2])\n",
        "\n",
        "\n",
        "# transform text to sentences for BERT text search\n",
        "import nltk\n",
        "from nltk import tokenize\n",
        "from nltk.tokenize import sent_tokenize\n",
        "nltk.download('punkt')\n",
        "\n",
        "def text_to_sentences(string):\n",
        "  sentences = tokenize.sent_tokenize(string)\n",
        "  return sentences\n",
        "\n",
        "for ID, doc in med_txt_data.items():\n",
        "  text = med_txt_data[ID]['text']\n",
        "  med_txt_data[ID]['sentences'] = text_to_sentences(text)\n"
      ],
      "execution_count": null,
      "outputs": [
        {
          "output_type": "stream",
          "text": [
            "--2020-11-04 09:31:29--  https://nextcloud.samyateia.de/index.php/s/MrAgWHEJYMT6HN2/download\n",
            "Resolving nextcloud.samyateia.de (nextcloud.samyateia.de)... 194.55.14.32\n",
            "Connecting to nextcloud.samyateia.de (nextcloud.samyateia.de)|194.55.14.32|:443... connected.\n",
            "HTTP request sent, awaiting response... 200 OK\n",
            "Length: 1149440 (1.1M) [application/x-gzip]\n",
            "Saving to: ‘download’\n",
            "\n",
            "download            100%[===================>]   1.10M  2.01MB/s    in 0.5s    \n",
            "\n",
            "2020-11-04 09:31:30 (2.01 MB/s) - ‘download’ saved [1149440/1149440]\n",
            "\n",
            "[nltk_data] Downloading package punkt to /root/nltk_data...\n",
            "[nltk_data]   Package punkt is already up-to-date!\n",
            "[nltk_data] Downloading package punkt to /root/nltk_data...\n",
            "[nltk_data]   Package punkt is already up-to-date!\n"
          ],
          "name": "stdout"
        }
      ]
    },
    {
      "cell_type": "markdown",
      "metadata": {
        "id": "anwPWt-c-QGd"
      },
      "source": [
        "**Indexing**\n",
        "\n",
        "We won't index the title BERT search because Medline, NPL and Time don't have titles."
      ]
    },
    {
      "cell_type": "code",
      "metadata": {
        "id": "SCJHE6P5dR2f",
        "outputId": "8c9ebc48-793e-4405-f015-5a514c27e552",
        "colab": {
          "base_uri": "https://localhost:8080/"
        }
      },
      "source": [
        "# Elasticsearch settings, without using Opendistro\n",
        "# Settings for BERT text search\n",
        "settings_text = {\n",
        "  \"mappings\": {\n",
        "    \"properties\": {\n",
        "      \"text_vector\": {\n",
        "        \"type\": \"nested\",\n",
        "        \"properties\": {\n",
        "          \"vector\": {\n",
        "            \"type\": \"dense_vector\",\n",
        "            \"dims\": 768 \n",
        "          }\n",
        "        }\n",
        "      },\n",
        "     \"text\": {\n",
        "        \"type\": \"keyword\"\n",
        "    },\n",
        "    }\n",
        "  }\n",
        "}\n",
        "\n",
        "#create index, see https://elasticsearch-py.readthedocs.io/en/master/api.html#elasticsearch.client.IndicesClient.create\n",
        "med_index = \"medline-corpus\"\n",
        "es.indices.delete(index=med_index, ignore=[400, 404])\n",
        "es.indices.create(med_index)\n",
        "\n",
        "med_index_text = \"bert-text-medline-corpus\"\n",
        "es.indices.delete(index=med_index_text, ignore=[400, 404])\n",
        "es.indices.create(med_index_text, body=settings_text)"
      ],
      "execution_count": null,
      "outputs": [
        {
          "output_type": "execute_result",
          "data": {
            "text/plain": [
              "{'acknowledged': True,\n",
              " 'index': 'bert-text-medline-corpus',\n",
              " 'shards_acknowledged': True}"
            ]
          },
          "metadata": {
            "tags": []
          },
          "execution_count": 31
        }
      ]
    },
    {
      "cell_type": "code",
      "metadata": {
        "id": "A2m-Y-XCdR2r",
        "outputId": "61d38db7-19f4-46c1-d869-4d8e942848ab",
        "colab": {
          "base_uri": "https://localhost:8080/"
        }
      },
      "source": [
        "for ID, doc_data in med_txt_data.items():\n",
        "  # Index for match query\n",
        "  es.index(index=med_index, id=ID, body=doc_data)\n",
        "  # Index for BERT text search\n",
        "  text_list = []\n",
        "  for text in med_txt_data[ID]['sentences']:\n",
        "    text_list.append({\"vector\": model.encode(text)})\n",
        "  es.index(\n",
        "      index=med_index_text, \n",
        "      id=ID, \n",
        "      body={\n",
        "          'text_vector': text_list,\n",
        "          'text': med_txt_data[ID]['text']\n",
        "          }\n",
        "    )\n",
        "\n",
        "#print new index list\n",
        "create_response = es.cat.indices()\n",
        "print(create_response)"
      ],
      "execution_count": null,
      "outputs": [
        {
          "output_type": "stream",
          "text": [
            "yellow open bert-title-lisa-corpus      JxLlonu4RcOr_Y87PWVXYg 1 1   304     0  72.9mb  72.9mb\n",
            "yellow open bert-title-adi-corpus       98EDKR1zQWeWw7o3mOSAEA 1 1    82     0   1.2mb   1.2mb\n",
            "yellow open cranfield-corpus            OGKdjf1uQceaKM6bYx7vaw 1 1  1400     0   4.4mb   4.4mb\n",
            "yellow open bert-title-cranfield-corpus 7-TSHnViRxir1gEg-8b-wg 1 1  1400     0    20mb    20mb\n",
            "yellow open bert-text-lisa-corpus       pF2USCd-S4OsZNc-67FaTA 1 1 25833     0 315.9mb 315.9mb\n",
            "yellow open bert-text-adi-corpus        NvuOjGUfTpucKippJ8RjNQ 1 1   285     0     3mb     3mb\n",
            "yellow open adi-corpus                  JT-ZyW4bT36a96cX95mg1Q 1 1    82     0 221.4kb 221.4kb\n",
            "yellow open medline-corpus              Hukxs7ZhQa2Mao8ZyKRpqQ 1 1   221     0   1.8mb   1.8mb\n",
            "yellow open lisa-corpus                 Ur9yr5i-QoSx0sPVcq5QPw 1 1   302     0   3.5mb   3.5mb\n",
            "yellow open bert-title-cacm-corpus      gPCy5XWHTIGjf3yL6L8pKA 1 1  3204     0  46.3mb  46.3mb\n",
            "yellow open bert-title-cisi-corpus      gXf7zVxRRUeJDDVjjfNiQg 1 1  1460     0    21mb    21mb\n",
            "yellow open bert-text-medline-corpus    23cKFAcOQ1uipSbxxzDYAg 1 1  1910     0    86mb    86mb\n",
            "yellow open bert-text-cranfield-corpus  rsMiH1UxTR2-ez4nVWhc2w 1 1 11515     0 152.8mb 152.8mb\n",
            "yellow open cacm-corpus                 mbZnut8RS5G6NC_FKJ73-w 1 1  3204  1618  25.7mb  25.7mb\n",
            "yellow open bert-text-cacm-corpus       dSeZWZokThetk8wiH9n1mQ 1 1 10685     0 138.4mb 138.4mb\n",
            "yellow open cisi-corpus                 BYRfGDrbTdqW3b3X1_Flug 1 1  1460     0   4.4mb   4.4mb\n",
            "yellow open bert-text-cisi-corpus       96dWEdIwR0ifjEoq577TiQ 1 1  7792 20745   298mb   298mb\n",
            "\n"
          ],
          "name": "stdout"
        }
      ]
    },
    {
      "cell_type": "markdown",
      "metadata": {
        "id": "EXbsI4B_34QH"
      },
      "source": [
        "### NPL Corpus"
      ]
    },
    {
      "cell_type": "markdown",
      "metadata": {
        "id": "N-XV8MnE34QK"
      },
      "source": [
        "You can get the corpus from [this link](http://ir.dcs.gla.ac.uk/resources/test_collections/npl/).  <br>\n",
        "For detailed information about the parsing of this corpus look at [ this Notebook](https://colab.research.google.com/github/pragmalingu/experiments/blob/master/00_Data/NPLCorpus.ipynb) or for parsing in generel read [this guide](https://pragmalingu.de/docs/guides/how-to-parse). An overview of the format of the files can be found here: [Data Sets](https://pragmalingu.de/docs/guides/data-comparison)"
      ]
    },
    {
      "cell_type": "markdown",
      "metadata": {
        "id": "nZl09cJE0755"
      },
      "source": [
        "**Parsing**"
      ]
    },
    {
      "cell_type": "code",
      "metadata": {
        "id": "FAcUrS6w34QS",
        "outputId": "e282ff91-f9fc-486f-ebb8-3b8bf69adaf5",
        "colab": {
          "base_uri": "https://localhost:8080/"
        }
      },
      "source": [
        "# download and unzip data\n",
        "!wget http://ir.dcs.gla.ac.uk/resources/test_collections/npl/npl.tar.gz\n",
        "!tar -xf npl.tar.gz\n",
        "\n",
        "# set paths to the dowloaded data as variablesDownload and unzip data.\n",
        "\n",
        "PATH_TO_NPL_TXT = '/content/doc-text'\n",
        "PATH_TO_NPL_QRY = '/content/query-text'\n",
        "PATH_TO_NPL_REL = '/content/rlv-ass'\n",
        "\n",
        "from collections import defaultdict\n",
        "import re\n",
        "import json\n",
        "from io import StringIO\n",
        "import numpy as np\n",
        "import os\n",
        "\n",
        "npl_index = \"npl-corpus\"\n",
        "\n",
        "# get the text, query and rel files\n",
        "\n",
        "txt_entry_marker = re.compile('\\n   /\\n')\n",
        "qry_entry_marker = re.compile('\\n/\\n')\n",
        "rel_entry_marker = re.compile('\\n   /\\n')\n",
        "\n",
        "def get_data(PATH_TO_FILES, marker):\n",
        "  \"\"\"\n",
        "  Reads multiple files and spilts text into entries at the entry marker.\n",
        "  The 'marker' contains the regex at which we want to split\n",
        "  Pops last element since it's empty.\n",
        "  \"\"\"\n",
        "  with open (PATH_TO_FILES,'r') as f:\n",
        "    text = f.read()\n",
        "    lines = re.split(marker,text)\n",
        "    lines.pop()\n",
        "  return lines\n",
        "\n",
        "npl_txt_list = get_data(PATH_TO_NPL_TXT, txt_entry_marker)\n",
        "npl_qry_list = get_data(PATH_TO_NPL_QRY, qry_entry_marker)\n",
        "npl_rel_list = get_data(PATH_TO_NPL_REL, rel_entry_marker)\n",
        "\n",
        "# process the documents\n",
        "\n",
        "npl_txt_data = defaultdict(dict)\n",
        "\n",
        "for entry in npl_txt_list:\n",
        "  splitted = entry.split('\\n')\n",
        "  splitted = list(filter(None, splitted))\n",
        "  ID = splitted[0]\n",
        "  text = ' '.join(map(str, splitted[1:]))\n",
        "  npl_txt_data[ID]['text'] = text\n",
        "\n",
        "# process the queries\n",
        "\n",
        "npl_qry_data = defaultdict(dict)\n",
        "\n",
        "for entry in npl_qry_list:\n",
        "  splitted = entry.split('\\n')\n",
        "  splitted = list(filter(None, splitted))\n",
        "  ID = int(splitted[0])\n",
        "  question = ' '.join(map(str, splitted[1:]))\n",
        "  npl_qry_data[ID]['question'] = question\n",
        "\n",
        "# process relevance assesments\n",
        "\n",
        "npl_rel = defaultdict(list)\n",
        "\n",
        "for entry in npl_rel_list:\n",
        "  splitted = entry.replace('\\n','').split(' ')\n",
        "  splitted = list(filter(None, splitted))\n",
        "  ID = int(splitted[0])\n",
        "  npl_rel[ID].extend(splitted[1:]) \n",
        "\n",
        "# transform text to sentences for BERT text search\n",
        "import nltk\n",
        "from nltk import tokenize\n",
        "from nltk.tokenize import sent_tokenize\n",
        "nltk.download('punkt')\n",
        "\n",
        "def text_to_sentences(string):\n",
        "  sentences = tokenize.sent_tokenize(string)\n",
        "  return sentences\n",
        "\n",
        "for ID, doc in npl_txt_data.items():\n",
        "  text = npl_txt_data[ID]['text']\n",
        "  npl_txt_data[ID]['sentences'] = text_to_sentences(text)"
      ],
      "execution_count": null,
      "outputs": [
        {
          "output_type": "stream",
          "text": [
            "--2020-11-04 09:33:40--  https://nextcloud.samyateia.de/index.php/s/R9NjseQTwqc8PcR/download\n",
            "Resolving nextcloud.samyateia.de (nextcloud.samyateia.de)... 194.55.14.32\n",
            "Connecting to nextcloud.samyateia.de (nextcloud.samyateia.de)|194.55.14.32|:443... connected.\n",
            "HTTP request sent, awaiting response... 200 OK\n",
            "Length: 6428672 (6.1M) [application/x-gzip]\n",
            "Saving to: ‘download’\n",
            "\n",
            "download            100%[===================>]   6.13M  7.54MB/s    in 0.8s    \n",
            "\n",
            "2020-11-04 09:33:41 (7.54 MB/s) - ‘download’ saved [6428672/6428672]\n",
            "\n",
            "[nltk_data] Downloading package punkt to /root/nltk_data...\n",
            "[nltk_data]   Package punkt is already up-to-date!\n"
          ],
          "name": "stdout"
        }
      ]
    },
    {
      "cell_type": "markdown",
      "metadata": {
        "id": "e4IbFZrZ5ivZ"
      },
      "source": [
        "**Indexing**\n",
        "\n",
        "We won't index the title BERT search because Medline, NPL and Time don't have titles."
      ]
    },
    {
      "cell_type": "code",
      "metadata": {
        "id": "XSF2kme_deg0",
        "outputId": "f0270df4-a75d-42b2-c390-f537f66d2fd2",
        "colab": {
          "base_uri": "https://localhost:8080/"
        }
      },
      "source": [
        "# Elasticsearch settings, without using Opendistro\n",
        "# Settings for BERT text search\n",
        "settings_text = {\n",
        "  \"mappings\": {\n",
        "    \"properties\": {\n",
        "      \"text_vector\": {\n",
        "        \"type\": \"nested\",\n",
        "        \"properties\": {\n",
        "          \"vector\": {\n",
        "            \"type\": \"dense_vector\",\n",
        "            \"dims\": 768 \n",
        "          }\n",
        "        }\n",
        "      },\n",
        "     \"text\": {\n",
        "        \"type\": \"keyword\"\n",
        "    },\n",
        "    }\n",
        "  }\n",
        "}\n",
        "\n",
        "#create index, see https://elasticsearch-py.readthedocs.io/en/master/api.html#elasticsearch.client.IndicesClient.create\n",
        "\n",
        "npl_index = \"npl-corpus\"\n",
        "es.indices.delete(index=npl_index, ignore=[400, 404])\n",
        "es.indices.create(npl_index)\n",
        "\n",
        "npl_index_text = \"bert-text-npl-corpus\"\n",
        "es.indices.delete(index=npl_index_text, ignore=[400, 404])\n",
        "es.indices.create(npl_index_text, body=settings_text)"
      ],
      "execution_count": null,
      "outputs": [
        {
          "output_type": "execute_result",
          "data": {
            "text/plain": [
              "{'acknowledged': True,\n",
              " 'index': 'bert-text-npl-corpus',\n",
              " 'shards_acknowledged': True}"
            ]
          },
          "metadata": {
            "tags": []
          },
          "execution_count": 34
        }
      ]
    },
    {
      "cell_type": "code",
      "metadata": {
        "id": "Po8_o4QodehB",
        "outputId": "7c9ef176-506e-4d8f-c62c-f99da039f013",
        "colab": {
          "base_uri": "https://localhost:8080/"
        }
      },
      "source": [
        "for ID, doc_data in npl_txt_data.items():\n",
        "  # Index for match query\n",
        "  es.index(index=npl_index, id=ID, body=doc_data)\n",
        "  # Index for BERT text search\n",
        "  text_list = []\n",
        "  for text in npl_txt_data[ID]['sentences']:\n",
        "    text_list.append({\"vector\": model.encode(text)})\n",
        "  es.index(\n",
        "      index=npl_index_text, \n",
        "      id=ID, \n",
        "      body={\n",
        "          'text_vector': text_list,\n",
        "          'text': npl_txt_data[ID]['text']\n",
        "          }\n",
        "    )\n",
        "\n",
        "#print new index list\n",
        "create_response = es.cat.indices()\n",
        "print(create_response)"
      ],
      "execution_count": null,
      "outputs": [
        {
          "output_type": "stream",
          "text": [
            "yellow open bert-text-npl-corpus        YshVuWjARn6Wa0oceydMuA 1 1  1978     0 151.5mb 151.5mb\n",
            "yellow open bert-title-lisa-corpus      JxLlonu4RcOr_Y87PWVXYg 1 1  6000     0  86.9mb  86.9mb\n",
            "yellow open bert-title-adi-corpus       98EDKR1zQWeWw7o3mOSAEA 1 1    82     0   1.2mb   1.2mb\n",
            "yellow open cranfield-corpus            OGKdjf1uQceaKM6bYx7vaw 1 1  1400     0   4.4mb   4.4mb\n",
            "yellow open bert-title-cranfield-corpus 7-TSHnViRxir1gEg-8b-wg 1 1  1400     0    20mb    20mb\n",
            "yellow open bert-text-adi-corpus        NvuOjGUfTpucKippJ8RjNQ 1 1   285     0     3mb     3mb\n",
            "yellow open bert-text-lisa-corpus       pF2USCd-S4OsZNc-67FaTA 1 1 25833     0 299.7mb 299.7mb\n",
            "yellow open adi-corpus                  JT-ZyW4bT36a96cX95mg1Q 1 1    82     0 221.4kb 221.4kb\n",
            "yellow open medline-corpus              Hukxs7ZhQa2Mao8ZyKRpqQ 1 1  1032     0   3.2mb   3.2mb\n",
            "yellow open lisa-corpus                 Ur9yr5i-QoSx0sPVcq5QPw 1 1  6000     0  10.1mb  10.1mb\n",
            "yellow open bert-title-cacm-corpus      gPCy5XWHTIGjf3yL6L8pKA 1 1  3204     0  46.3mb  46.3mb\n",
            "yellow open bert-title-cisi-corpus      gXf7zVxRRUeJDDVjjfNiQg 1 1  1460     0    21mb    21mb\n",
            "yellow open npl-corpus                  0JRGaHRKRTu36TMIO1yCqw 1 1   984     0   3.3mb   3.3mb\n",
            "yellow open bert-text-medline-corpus    23cKFAcOQ1uipSbxxzDYAg 1 1  8287     0   110mb   110mb\n",
            "yellow open bert-text-cranfield-corpus  rsMiH1UxTR2-ez4nVWhc2w 1 1 11515     0 152.8mb 152.8mb\n",
            "yellow open cacm-corpus                 mbZnut8RS5G6NC_FKJ73-w 1 1  3204  1618  25.7mb  25.7mb\n",
            "yellow open bert-text-cacm-corpus       dSeZWZokThetk8wiH9n1mQ 1 1 10685     0 138.4mb 138.4mb\n",
            "yellow open cisi-corpus                 BYRfGDrbTdqW3b3X1_Flug 1 1  1460     0   4.4mb   4.4mb\n",
            "yellow open bert-text-cisi-corpus       96dWEdIwR0ifjEoq577TiQ 1 1  7792 20745   298mb   298mb\n",
            "\n"
          ],
          "name": "stdout"
        }
      ]
    },
    {
      "cell_type": "markdown",
      "metadata": {
        "id": "nzHvsKajyd8o"
      },
      "source": [
        "### Time Corpus\n",
        "\n"
      ]
    },
    {
      "cell_type": "markdown",
      "metadata": {
        "id": "z1OwnRY3yd8w"
      },
      "source": [
        "You can get the corpus from [this link](http://ir.dcs.gla.ac.uk/resources/test_collections/time/).  <br>\n",
        "For detailed information about the parsing of this corpus look at [ this Notebook](https://colab.research.google.com/github/pragmalingu/experiments/blob/master/00_Data/TimeCorpus.ipynb) or for parsing in generel read [this guide](https://pragmalingu.de/docs/guides/how-to-parse). An overview of the format of the files can be found here: [Data Sets](https://pragmalingu.de/docs/guides/data-comparison)"
      ]
    },
    {
      "cell_type": "markdown",
      "metadata": {
        "id": "X6uTwgD31Azk"
      },
      "source": [
        "**Parsing**"
      ]
    },
    {
      "cell_type": "code",
      "metadata": {
        "id": "JHfj2Jzbyd83",
        "outputId": "fd57d0f1-34d5-404e-c8f0-dc1f80ffd16c",
        "colab": {
          "base_uri": "https://localhost:8080/"
        }
      },
      "source": [
        "# download and unzip data\n",
        "!wget http://ir.dcs.gla.ac.uk/resources/test_collections/time/time.tar.gz\n",
        "!tar -xf time.tar.gz\n",
        "\n",
        "# set paths to the dowloaded data as variablesDownload and unzip data.\n",
        "\n",
        "PATH_TO_TIME_TXT = '/content/TIME.ALL'\n",
        "PATH_TO_TIME_QRY = '/content/TIME.QUE'\n",
        "PATH_TO_TIME_REL = '/content/TIME.REL'\n",
        "\n",
        "from collections import defaultdict\n",
        "import re\n",
        "import json\n",
        "from io import StringIO\n",
        "import numpy as np\n",
        "import os\n",
        "\n",
        "time_index = \"time-corpus\"\n",
        "\n",
        "# get the text and query files\n",
        "\n",
        "txt_entry_marker = re.compile('\\*TEXT')\n",
        "qry_entry_marker = re.compile('\\*FIND    ')\n",
        "def get_data(PATH_TO_FILES, marker):\n",
        "  \"\"\"\n",
        "  Reads multiple files and spilts text into entries at the entry marker.\n",
        "  The 'marker' contains the regex at which we want to split\n",
        "  Pops last element since it's empty.\n",
        "  \"\"\"\n",
        "  with open (PATH_TO_FILES,'r') as f:\n",
        "    text = f.read()\n",
        "    lines = re.split(marker,text)\n",
        "    lines.pop(0)\n",
        "  return lines\n",
        "\n",
        "time_txt_list = get_data(PATH_TO_TIME_TXT, txt_entry_marker)\n",
        "time_qry_list = get_data(PATH_TO_TIME_QRY, qry_entry_marker)\n",
        "\n",
        "# process text file\n",
        "page_split = re.compile('PAGE \\d{3}')\n",
        "\n",
        "time_txt_data = defaultdict(dict)\n",
        "ID = 1\n",
        "for entry in time_txt_list:\n",
        "  splitted = re.split(page_split,entry)\n",
        "  time_txt_data[ID]['text'] = splitted[1]\n",
        "  ID += 1\n",
        "  \n",
        "\n",
        "time_qry_data = defaultdict(dict)\n",
        "qry_split = re.compile('\\n\\n ')\n",
        "\n",
        "for query in time_qry_list:\n",
        "  entries = re.split(qry_split,query)\n",
        "  time_qry_data[int(entries[0])]['question'] = entries[1]\n",
        "\n",
        "# process relevance assesments\n",
        "time_rel = defaultdict(list)\n",
        "\n",
        "rel_marker = re.compile('            \\n        ')\n",
        "rel_split = re.compile('\\n')\n",
        "\n",
        "with open (PATH_TO_TIME_REL,'r') as f:\n",
        "  for lines in f:\n",
        "    line = lines.strip().replace('   ',' ').replace('  ',' ').split(' ')\n",
        "    if len(line) > 1:\n",
        "      time_rel[int(line[0])].extend(line[1:])\n",
        "\n",
        "# transform text to sentences for BERT text search\n",
        "import nltk\n",
        "from nltk import tokenize\n",
        "from nltk.tokenize import sent_tokenize\n",
        "nltk.download('punkt')\n",
        "\n",
        "def text_to_sentences(string):\n",
        "  sentences = tokenize.sent_tokenize(string)\n",
        "  return sentences\n",
        "\n",
        "for ID, doc in time_txt_data.items():\n",
        "  text = time_txt_data[ID]['text']\n",
        "  time_txt_data[ID]['sentences'] = text_to_sentences(text)"
      ],
      "execution_count": null,
      "outputs": [
        {
          "output_type": "stream",
          "text": [
            "--2020-11-04 09:39:29--  https://nextcloud.samyateia.de/index.php/s/9z7pMCNwXKCC2bY/download\n",
            "Resolving nextcloud.samyateia.de (nextcloud.samyateia.de)... 194.55.14.32\n",
            "Connecting to nextcloud.samyateia.de (nextcloud.samyateia.de)|194.55.14.32|:443... connected.\n",
            "HTTP request sent, awaiting response... 200 OK\n",
            "Length: 1568768 (1.5M) [application/x-gzip]\n",
            "Saving to: ‘download’\n",
            "\n",
            "download            100%[===================>]   1.50M  2.73MB/s    in 0.5s    \n",
            "\n",
            "2020-11-04 09:39:31 (2.73 MB/s) - ‘download’ saved [1568768/1568768]\n",
            "\n",
            "[nltk_data] Downloading package punkt to /root/nltk_data...\n",
            "[nltk_data]   Package punkt is already up-to-date!\n"
          ],
          "name": "stdout"
        }
      ]
    },
    {
      "cell_type": "markdown",
      "metadata": {
        "id": "dAk3A0Kq7gBN"
      },
      "source": [
        "**Indexing**\n",
        "\n",
        "We won't index the title BERT search because Medline, NPL and Time don't have titles."
      ]
    },
    {
      "cell_type": "code",
      "metadata": {
        "id": "VUOBFj7teE4N",
        "outputId": "8311ebd9-9bd1-4231-ab9b-655b32115429",
        "colab": {
          "base_uri": "https://localhost:8080/"
        }
      },
      "source": [
        "# Elasticsearch settings, without using Opendistro\n",
        "# Settings for BERT text search\n",
        "settings_text = {\n",
        "  \"mappings\": {\n",
        "    \"properties\": {\n",
        "      \"text_vector\": {\n",
        "        \"type\": \"nested\",\n",
        "        \"properties\": {\n",
        "          \"vector\": {\n",
        "            \"type\": \"dense_vector\",\n",
        "            \"dims\": 768 \n",
        "          }\n",
        "        }\n",
        "      },\n",
        "     \"text\": {\n",
        "        \"type\": \"keyword\"\n",
        "    },\n",
        "    }\n",
        "  }\n",
        "}\n",
        "\n",
        "#create index, see https://elasticsearch-py.readthedocs.io/en/master/api.html#elasticsearch.client.IndicesClient.create\n",
        "\n",
        "time_index = \"time-corpus\"\n",
        "es.indices.delete(index=time_index, ignore=[400, 404])\n",
        "es.indices.create(time_index)\n",
        "\n",
        "time_index_text = \"bert-text-time-corpus\"\n",
        "es.indices.delete(index=time_index_text, ignore=[400, 404])\n",
        "es.indices.create(time_index_text, body=settings_text)"
      ],
      "execution_count": null,
      "outputs": [
        {
          "output_type": "execute_result",
          "data": {
            "text/plain": [
              "{'acknowledged': True,\n",
              " 'index': 'bert-text-time-corpus',\n",
              " 'shards_acknowledged': True}"
            ]
          },
          "metadata": {
            "tags": []
          },
          "execution_count": 37
        }
      ]
    },
    {
      "cell_type": "code",
      "metadata": {
        "id": "0j_EeFrJeE4Z",
        "outputId": "3ce3422b-9a03-4405-bc2e-cd4fefd60000",
        "colab": {
          "base_uri": "https://localhost:8080/"
        }
      },
      "source": [
        "for ID, doc_data in time_txt_data.items():\n",
        "  # Index for match query\n",
        "  es.index(index=time_index, id=ID, body=doc_data)\n",
        "  # Index for BERT text search\n",
        "  text_list = []\n",
        "  for text in time_txt_data[ID]['sentences']:\n",
        "    text_list.append({\"vector\": model.encode(text)})\n",
        "  es.index(\n",
        "      index=time_index_text, \n",
        "      id=ID, \n",
        "      body={\n",
        "          'text_vector': text_list,\n",
        "          'text': time_txt_data[ID]['text']\n",
        "          }\n",
        "    )\n",
        "\n",
        "#print new index list\n",
        "create_response = es.cat.indices()\n",
        "print(create_response)"
      ],
      "execution_count": null,
      "outputs": [
        {
          "output_type": "stream",
          "text": [
            "yellow open bert-text-npl-corpus        YshVuWjARn6Wa0oceydMuA 1 1  1978     0 151.5mb 151.5mb\n",
            "yellow open bert-title-lisa-corpus      JxLlonu4RcOr_Y87PWVXYg 1 1  6000     0  86.9mb  86.9mb\n",
            "yellow open bert-title-adi-corpus       98EDKR1zQWeWw7o3mOSAEA 1 1    82     0   1.2mb   1.2mb\n",
            "yellow open cranfield-corpus            OGKdjf1uQceaKM6bYx7vaw 1 1  1400     0   4.4mb   4.4mb\n",
            "yellow open bert-title-cranfield-corpus 7-TSHnViRxir1gEg-8b-wg 1 1  1400     0    20mb    20mb\n",
            "yellow open bert-text-adi-corpus        NvuOjGUfTpucKippJ8RjNQ 1 1   285     0     3mb     3mb\n",
            "yellow open bert-text-lisa-corpus       pF2USCd-S4OsZNc-67FaTA 1 1 25833     0 299.7mb 299.7mb\n",
            "yellow open adi-corpus                  JT-ZyW4bT36a96cX95mg1Q 1 1    82     0 221.4kb 221.4kb\n",
            "yellow open medline-corpus              Hukxs7ZhQa2Mao8ZyKRpqQ 1 1  1032     0   3.2mb   3.2mb\n",
            "yellow open lisa-corpus                 Ur9yr5i-QoSx0sPVcq5QPw 1 1  6000     0  10.1mb  10.1mb\n",
            "yellow open bert-title-cacm-corpus      gPCy5XWHTIGjf3yL6L8pKA 1 1  3204     0  46.3mb  46.3mb\n",
            "yellow open bert-title-cisi-corpus      gXf7zVxRRUeJDDVjjfNiQg 1 1  1460     0    21mb    21mb\n",
            "yellow open npl-corpus                  0JRGaHRKRTu36TMIO1yCqw 1 1   984     0   3.3mb   3.3mb\n",
            "yellow open bert-text-medline-corpus    23cKFAcOQ1uipSbxxzDYAg 1 1  8287     0   110mb   110mb\n",
            "yellow open bert-text-cranfield-corpus  rsMiH1UxTR2-ez4nVWhc2w 1 1 11515     0 152.8mb 152.8mb\n",
            "yellow open cacm-corpus                 mbZnut8RS5G6NC_FKJ73-w 1 1  3204  1618  25.7mb  25.7mb\n",
            "yellow open bert-text-cacm-corpus       dSeZWZokThetk8wiH9n1mQ 1 1 10685     0 138.4mb 138.4mb\n",
            "yellow open cisi-corpus                 BYRfGDrbTdqW3b3X1_Flug 1 1  1460     0   4.4mb   4.4mb\n",
            "yellow open bert-text-time-corpus       VnLM8unnQoqumq-xb1jreg 1 1  1901     0   158mb   158mb\n",
            "yellow open bert-text-cisi-corpus       96dWEdIwR0ifjEoq577TiQ 1 1  7792 20745   298mb   298mb\n",
            "yellow open time-corpus                 FIYNOiPVSpeRTHTIAC1hUw 1 1    62     0     2mb     2mb\n",
            "\n"
          ],
          "name": "stdout"
        }
      ]
    },
    {
      "cell_type": "markdown",
      "metadata": {
        "id": "-xNf8E2oSYOT"
      },
      "source": [
        "## Evaluation"
      ]
    },
    {
      "cell_type": "markdown",
      "metadata": {
        "id": "CemuLaUAMHKP"
      },
      "source": [
        "### Recall\n",
        "\n",
        "In this section we only evaluate the Recall scores."
      ]
    },
    {
      "cell_type": "markdown",
      "metadata": {
        "id": "u71ZvdbWMkIe"
      },
      "source": [
        "**Multi Match Query**\n",
        "\n",
        "Here we evaluate the data with the [\"**multi_match**\"](https://pragmalingu.de/docs/experiments/experiment1#standard-elasticsearch) option of elastic search:"
      ]
    },
    {
      "cell_type": "code",
      "metadata": {
        "id": "pn_g9h7xMkIi"
      },
      "source": [
        "#use rank eval api, see https://elasticsearch-py.readthedocs.io/en/master/api.html?highlight=_rank_eval#elasticsearch.Elasticsearch.rank_eval \n",
        "#and https://www.elastic.co/guide/en/elasticsearch/reference/current/query-dsl-simple-query-string-query.html \n",
        "\n",
        "import json\n",
        "from collections import defaultdict\n",
        "\n",
        "adi_index = 'adi-corpus'\n",
        "cacm_index = 'cacm-corpus'\n",
        "cisi_index = 'cisi-corpus'\n",
        "cran_index = 'cranfield-corpus'\n",
        "lisa_index = 'lisa-corpus'\n",
        "med_index = 'medline-corpus'\n",
        "npl_index = 'npl-corpus'\n",
        "time_index = 'time-corpus'\n",
        "\n",
        "text_field = \"text\"\n",
        "title_field = \"title\"\n",
        "\n",
        "#function to get normal match evaluation body \n",
        "def create_query_body_match_recall(query_dict, rel_dict, index_name,field):\n",
        "  \"\"\"\n",
        "  The function creates a request for every query in query_dict and rates the relevant documents with rel_dict to 1.\n",
        "  The index name has to be the same as from the documents your looking at.\n",
        "  An evaluation body for the elasticsearch ranking API is returned.\n",
        "  \"\"\"\n",
        "  eval_body = {\n",
        "      \"requests\": '',\n",
        "      \"metric\": {\n",
        "          \"recall\": {\n",
        "              \"relevant_rating_threshold\": 1,\n",
        "              \"k\": 20\n",
        "              }\n",
        "      }\n",
        "  }\n",
        "  requests = [] \n",
        "  current_request = defaultdict(lambda: defaultdict())\n",
        "  current_rel = {\"_index\": index_name, \"_id\": '', \"rating\": int}\n",
        "  for query_ID, query_txt in query_dict.items():\n",
        "    current_query = {\"query\": { \"multi_match\": { \"query\": '' , \"fields\" : [field]}}}\n",
        "    current_query[\"query\"][\"multi_match\"][\"query\"] = query_txt['question']\n",
        "    current_request[\"id\"] = 'Query_'+str(query_ID)\n",
        "    current_request[\"request\"] = current_query.copy()\n",
        "    current_request[\"ratings\"] = [{\"_index\": index_name, \"_id\": str(el), \"rating\": 1} for el in rel_dict[query_ID]]\n",
        "    requests.append(current_request.copy())\n",
        "  eval_body[\"requests\"] = requests\n",
        "  return eval_body\n",
        "\n",
        "\n",
        "#ADI\n",
        "adi_create_match_recall = create_query_body_match_recall(adi_qry_data, adi_rel, adi_index,title_field)\n",
        "adi_eval_body_match_recall = json.dumps(adi_create_match_recall)\n",
        "adi_res_match_recall_title = es.rank_eval(adi_eval_body_match_recall, adi_index)\n",
        "#print(json.dumps(adi_res_match_recall, indent=4, sort_keys=True))\n",
        "adi_create_match_recall = create_query_body_match_recall(adi_qry_data, adi_rel, adi_index,text_field)\n",
        "adi_eval_body_match_recall = json.dumps(adi_create_match_recall)\n",
        "adi_res_match_recall_text = es.rank_eval(adi_eval_body_match_recall, adi_index)\n",
        "#print(json.dumps(adi_res_match_recall, indent=4, sort_keys=True))\n",
        "\n",
        "#CACM\n",
        "cacm_create_match_recall = create_query_body_match_recall(cacm_qry_data, cacm_rel, cacm_index,title_field)\n",
        "cacm_eval_body_match_recall = json.dumps(cacm_create_match_recall)\n",
        "cacm_res_match_recall_title = es.rank_eval(cacm_eval_body_match_recall,cacm_index)\n",
        "#print(json.dumps(cacm_res_match_recall, indent=4, sort_keys=True))\n",
        "cacm_create_match_recall = create_query_body_match_recall(cacm_qry_data, cacm_rel, cacm_index,text_field)\n",
        "cacm_eval_body_match_recall = json.dumps(cacm_create_match_recall)\n",
        "cacm_res_match_recall_text = es.rank_eval(cacm_eval_body_match_recall,cacm_index)\n",
        "#print(json.dumps(cacm_res_match_recall, indent=4, sort_keys=True))\n",
        "\n",
        "#CISI\n",
        "cisi_create_match_recall = create_query_body_match_recall(cisi_qry_data, cisi_rel, cisi_index,title_field)\n",
        "cisi_eval_body_match_recall = json.dumps(cisi_create_match_recall)\n",
        "cisi_res_match_recall_title = es.rank_eval(cisi_eval_body_match_recall, cisi_index)\n",
        "#print(json.dumps(cisi_res_match_recall, indent=4, sort_keys=True))\n",
        "cisi_create_match_recall = create_query_body_match_recall(cisi_qry_data, cisi_rel, cisi_index,text_field)\n",
        "cisi_eval_body_match_recall = json.dumps(cisi_create_match_recall)\n",
        "cisi_res_match_recall_text = es.rank_eval(cisi_eval_body_match_recall, cisi_index)\n",
        "#print(json.dumps(cisi_res_match_recall, indent=4, sort_keys=True))\n",
        "\n",
        "#Cranfield\n",
        "cran_create_match_recall = create_query_body_match_recall(cran_qry_data, cran_rel, cran_index,title_field)\n",
        "cran_eval_body_match_recall = json.dumps(cran_create_match_recall)\n",
        "cran_res_match_recall_title = es.rank_eval(cran_eval_body_match_recall, cran_index)\n",
        "#print(json.dumps(cran_create_match_recall, indent=4, sort_keys=True))\n",
        "cran_create_match_recall = create_query_body_match_recall(cran_qry_data, cran_rel, cran_index,text_field)\n",
        "cran_eval_body_match_recall = json.dumps(cran_create_match_recall)\n",
        "cran_res_match_recall_text = es.rank_eval(cran_eval_body_match_recall, cran_index)\n",
        "#print(json.dumps(cran_create_match_recall, indent=4, sort_keys=True))\n",
        "\n",
        "#LISA\n",
        "lisa_create_match_recall = create_query_body_match_recall(lisa_qry_data, lisa_rel, lisa_index,title_field)\n",
        "lisa_eval_body_match_recall = json.dumps(lisa_create_match_recall)\n",
        "lisa_res_match_recall_title = es.rank_eval(lisa_eval_body_match_recall,lisa_index)\n",
        "#print(json.dumps(lisa_res_match_recall, indent=4, sort_keys=True))\n",
        "lisa_create_match_recall = create_query_body_match_recall(lisa_qry_data, lisa_rel, lisa_index,text_field)\n",
        "lisa_eval_body_match_recall = json.dumps(lisa_create_match_recall)\n",
        "lisa_res_match_recall_text = es.rank_eval(lisa_eval_body_match_recall,lisa_index)\n",
        "#print(json.dumps(lisa_res_match_recall, indent=4, sort_keys=True))"
      ],
      "execution_count": null,
      "outputs": []
    },
    {
      "cell_type": "markdown",
      "metadata": {
        "id": "keSi-TDWnxmF"
      },
      "source": [
        "**BERT Sentence Embbedings on 'title' field**\n",
        "\n",
        "Here we evaluate the data with BERT embeddings [on the title field](https://pragmalingu.de/docs/experiments/experiment2):"
      ]
    },
    {
      "cell_type": "code",
      "metadata": {
        "id": "Vijm2d9Uwou2"
      },
      "source": [
        "#use rank eval api, see https://elasticsearch-py.readthedocs.io/en/master/api.html?highlight=_rank_eval#elasticsearch.Elasticsearch.rank_eval \n",
        "#and https://www.elastic.co/guide/en/elasticsearch/reference/current/search-rank-eval.html#search-rank-eval\n",
        "\n",
        "from collections import defaultdict\n",
        "\n",
        "adi_index = 'bert-title-adi-corpus'\n",
        "cacm_index = 'bert-title-cacm-corpus'\n",
        "cisi_index = 'bert-title-cisi-corpus'\n",
        "cran_index = 'bert-title-cranfield-corpus'\n",
        "lisa_index = 'bert-title-lisa-corpus'\n",
        "\n",
        "# function to get normal match evaluation body \n",
        "\n",
        "def create_query_body_bert_title_recall(query_dict, rel_dict, index_name):\n",
        "  \"\"\"\n",
        "  The function creates a request for every query in query_dict and rates the relevant documents with rel_dict to 1.\n",
        "  The index name has to be the same as from the documents your looking at.\n",
        "  An evaluation body for the elasticsearch ranking API is returned.\n",
        "  \"\"\"\n",
        "  eval_body = {\n",
        "      \"requests\":'',\n",
        "      \"metric\": {\n",
        "          \"recall\": {\n",
        "          \"k\" : 20,\n",
        "          \"relevant_rating_threshold\": 1,\n",
        "          #\"ignore_unlabeled\": \"false\"\n",
        "          }\n",
        "         }\n",
        "      }\n",
        "  requests = [] \n",
        "  current_request = defaultdict(lambda: defaultdict())\n",
        "  current_rel = {\"_index\": index_name, \"_id\": '', \"rating\": int}\n",
        "  for query_ID, query_txt in query_dict.items():\n",
        "    current_query = {\n",
        "        \"query\" : {\n",
        "  \"script_score\": {\n",
        "    \"query\": {\"match_all\": {}},\n",
        "    \"script\": {\n",
        "      \"source\": \"cosineSimilarity(params.query_vector, doc['title_vector']) + 1.0\",\n",
        "      \"params\": {\"query_vector\": list(model.encode(query_txt['question']).astype(float))}\n",
        "    }\n",
        "  }\n",
        "  }\n",
        "    }\n",
        "    current_request[\"id\"] = 'Query_'+str(query_ID)\n",
        "    current_request[\"request\"] = current_query.copy()\n",
        "    current_request[\"ratings\"] = [{\n",
        "          \"_index\": index_name, \n",
        "          \"_id\": str(el) if type(el) != tuple else str(el[0]), \n",
        "          \"rating\": 1} for el in rel_dict[query_ID]]\n",
        "    requests.append(current_request.copy())\n",
        "  eval_body[\"requests\"] = requests\n",
        "  return eval_body\n",
        "\n",
        "\n",
        "# ADI\n",
        "\n",
        "adi_create_bert_title_recall = create_query_body_bert_title_recall(adi_qry_data, adi_rel, adi_index)\n",
        "adi_eval_body_bert_title_recall = json.dumps(adi_create_bert_title_recall)\n",
        "adi_res_bert_title_recall = es.rank_eval(adi_eval_body_bert_title_recall, adi_index)\n",
        "#print(json.dumps(adi_res_bert_title_recall, indent=4, sort_keys=True))\n",
        "\n",
        "# CACM\n",
        "\n",
        "cacm_create_bert_title_recall = create_query_body_bert_title_recall(cacm_qry_data, cacm_rel, cacm_index)\n",
        "cacm_eval_body_bert_title_recall = json.dumps(cacm_create_bert_title_recall)\n",
        "cacm_res_bert_title_recall = es.rank_eval(cacm_eval_body_bert_title_recall, cacm_index)\n",
        "#print(json.dumps(cacm_res_bert_title_recall, indent=4, sort_keys=True))\n",
        "\n",
        "# CISI\n",
        "\n",
        "cisi_create_bert_title_recall = create_query_body_bert_title_recall(cisi_qry_data, cisi_rel, cisi_index)\n",
        "cisi_eval_body_bert_title_recall = json.dumps(cisi_create_bert_title_recall)\n",
        "cisi_res_bert_title_recall = es.rank_eval(cisi_eval_body_bert_title_recall, cisi_index)\n",
        "#print(json.dumps(cisi_res_bert_title_recall, indent=4, sort_keys=True))\n",
        "\n",
        "# Cranfield\n",
        "\n",
        "cran_create_bert_title_recall = create_query_body_bert_title_recall(cran_qry_data, cran_rel, cran_index)\n",
        "cran_eval_body_bert_title_recall = json.dumps(cran_create_bert_title_recall)\n",
        "cran_res_bert_title_recall = es.rank_eval(cran_eval_body_bert_title_recall, cran_index)\n",
        "#print(json.dumps(cran_res_bert_title_recall, indent=4, sort_keys=True))\n",
        "\n",
        "# LISA\n",
        "\n",
        "lisa_create_bert_title_recall = create_query_body_bert_title_recall(lisa_qry_data, lisa_rel, lisa_index)\n",
        "lisa_eval_body_bert_title_recall = json.dumps(lisa_create_bert_title_recall)\n",
        "lisa_res_bert_title_recall = es.rank_eval(lisa_eval_body_bert_title_recall, lisa_index)\n",
        "#print(json.dumps(lisa_res_bert_title_recall, indent=4, sort_keys=True))"
      ],
      "execution_count": null,
      "outputs": []
    },
    {
      "cell_type": "markdown",
      "metadata": {
        "id": "cKJJH-CaIy9J"
      },
      "source": [
        "**BERT Transformer on 'text' field**\n",
        "\n",
        "Here we evaluate the data with BERT embedding [on the text field](https://pragmalingu.de/docs/experiments/experiment2):"
      ]
    },
    {
      "cell_type": "code",
      "metadata": {
        "id": "BJGIESLqMmFv"
      },
      "source": [
        "#use rank eval api, see https://elasticsearch-py.readthedocs.io/en/master/api.html?highlight=_rank_eval#elasticsearch.Elasticsearch.rank_eval \n",
        "#and https://www.elastic.co/guide/en/elasticsearch/reference/current/search-rank-eval.html#search-rank-eval\n",
        "\n",
        "from collections import defaultdict\n",
        "\n",
        "adi_index = 'bert-text-adi-corpus'\n",
        "cacm_index = 'bert-text-cacm-corpus'\n",
        "cisi_index = 'bert-text-cisi-corpus'\n",
        "cran_index = 'bert-text-cranfield-corpus'\n",
        "lisa_index = 'bert-text-lisa-corpus'\n",
        "med_index = 'bert-text-medline-corpus'\n",
        "npl_index = 'bert-text-npl-corpus'\n",
        "time_index = 'bert-text-time-corpus'\n",
        "\n",
        "# function to get normal match evaluation body \n",
        "\n",
        "def create_query_body_bert_text_recall(query_dict, rel_dict, index_name):\n",
        "  \"\"\"\n",
        "  The function creates a request for every query in query_dict and rates the relevant documents with rel_dict to 1.\n",
        "  The index name has to be the same as from the documents your looking at.\n",
        "  An evaluation body for the elasticsearch ranking API is returned.\n",
        "  \"\"\"\n",
        "  eval_body = {\n",
        "      \"requests\":'',\n",
        "      \"metric\": {\n",
        "          \"recall\": {\n",
        "          \"k\" : 20,\n",
        "          \"relevant_rating_threshold\": 1,\n",
        "          #\"ignore_unlabeled\": \"false\"\n",
        "          }\n",
        "         }\n",
        "      }\n",
        "  requests = [] \n",
        "  current_request = defaultdict(lambda: defaultdict())\n",
        "  current_rel = {\"_index\": index_name, \"_id\": '', \"rating\": int}\n",
        "  for query_ID, query_txt in query_dict.items():\n",
        "    current_query = {\n",
        "        \"query\": {\n",
        "            \"nested\": {\n",
        "                \"path\": \"text_vector\",\n",
        "                \"score_mode\": \"min\", \n",
        "                \"query\": {\n",
        "                    \"function_score\": {\n",
        "                        \"script_score\": {\n",
        "                            \"script\": {\n",
        "                                \"source\": \"1.0 + cosineSimilarity(params.query_vector, 'text_vector.vector')\",\n",
        "                                \"params\": {\"query_vector\": list(model.encode(query_txt['question']).astype(float))}\n",
        "                                }\n",
        "                                }\n",
        "                                }\n",
        "                          }\n",
        "                       }\n",
        "                  }\n",
        "                  }\n",
        "    current_request[\"id\"] = 'Query_'+str(query_ID)\n",
        "    current_request[\"request\"] = current_query.copy()\n",
        "    current_request[\"ratings\"] = [{\n",
        "          \"_index\": index_name, \n",
        "          \"_id\": str(el) if type(el) != tuple else str(el[0]), \n",
        "          \"rating\": 1} for el in rel_dict[query_ID]]\n",
        "    requests.append(current_request.copy())\n",
        "  eval_body[\"requests\"] = requests\n",
        "  return eval_body\n",
        "\n",
        "# ADI\n",
        "\n",
        "adi_create_bert_text_recall = create_query_body_bert_text_recall(adi_qry_data, adi_rel, adi_index)\n",
        "adi_eval_body_bert_text_recall = json.dumps(adi_create_bert_text_recall)\n",
        "adi_res_bert_text_recall = es.rank_eval(adi_eval_body_bert_text_recall, adi_index)\n",
        "#print(json.dumps(adi_res, indent=4, sort_keys=True))\n",
        "\n",
        "# CACM\n",
        "\n",
        "cacm_create_bert_text_recall = create_query_body_bert_text_recall(cacm_qry_data, cacm_rel, cacm_index)\n",
        "cacm_eval_body_bert_text_recall = json.dumps(cacm_create_bert_text_recall)\n",
        "cacm_res_bert_text_recall = es.rank_eval(cacm_eval_body_bert_text_recall, cacm_index)\n",
        "#print(json.dumps(cacm_res, indent=4, sort_keys=True))\n",
        "\n",
        "# CISI\n",
        "\n",
        "cisi_create_bert_text_recall = create_query_body_bert_text_recall(cisi_qry_data, cisi_rel, cisi_index)\n",
        "cisi_eval_body_bert_text_recall = json.dumps(cisi_create_bert_text_recall)\n",
        "cisi_res_bert_text_recall = es.rank_eval(cisi_eval_body_bert_text_recall, cisi_index)\n",
        "#print(json.dumps(cisi_res, indent=4, sort_keys=True))\n",
        "\n",
        "# Cranfield\n",
        "\n",
        "cran_create_bert_text_recall = create_query_body_bert_text_recall(cran_qry_data, cran_rel, cran_index)\n",
        "cran_eval_body_bert_text_recall = json.dumps(cran_create_bert_text_recall)\n",
        "cran_res_bert_text_recall = es.rank_eval(cran_eval_body_bert_text_recall, cran_index)\n",
        "#print(json.dumps(cran_res_bert_text_recall, indent=4, sort_keys=True))\n",
        "\n",
        "# LISA\n",
        "\n",
        "lisa_create_bert_text_recall = create_query_body_bert_text_recall(lisa_qry_data, lisa_rel, lisa_index)\n",
        "lisa_eval_body_bert_text_recall = json.dumps(lisa_create_bert_text_recall)\n",
        "lisa_res_bert_text_recall = es.rank_eval(lisa_eval_body_bert_text_recall, lisa_index)\n",
        "#print(json.dumps(lisa_res, indent=4, sort_keys=True))\n",
        "\n",
        "# Medline\n",
        "\n",
        "med_create_bert_text_recall = create_query_body_bert_text_recall(med_qry_data, med_rel, med_index)\n",
        "med_eval_body_bert_text_recall = json.dumps(med_create_bert_text_recall)\n",
        "med_res_bert_text_recall = es.rank_eval(med_eval_body_bert_text_recall, med_index)\n",
        "#print(json.dumps(med_res, indent=4, sort_keys=True))\n",
        "\n",
        "# NPL\n",
        "\n",
        "npl_create_bert_text_recall = create_query_body_bert_text_recall(npl_qry_data, npl_rel, npl_index)\n",
        "npl_eval_body_bert_text_recall = json.dumps(npl_create_bert_text_recall)\n",
        "npl_res_bert_text_recall = es.rank_eval(npl_eval_body_bert_text_recall, npl_index)\n",
        "#print(json.dumps(npl_res, indent=4, sort_keys=True))\n",
        "\n",
        "# Time\n",
        "\n",
        "time_create_bert_text_recall = create_query_body_bert_text_recall(time_qry_data, time_rel, time_index)\n",
        "time_eval_body_bert_text_recall = json.dumps(time_create_bert_text_recall)\n",
        "time_res_bert_text_recall = es.rank_eval(time_eval_body_bert_text_recall, time_index)\n",
        "#print(json.dumps(time_res, indent=4, sort_keys=True))"
      ],
      "execution_count": null,
      "outputs": []
    },
    {
      "cell_type": "markdown",
      "metadata": {
        "id": "kuHz0wJvFBzW"
      },
      "source": [
        "### Precision\n",
        "\n",
        "In this section we only evaluate the Precision scores."
      ]
    },
    {
      "cell_type": "markdown",
      "metadata": {
        "id": "tfC6EgJdFBza"
      },
      "source": [
        "**Multi Match Query**\n",
        "\n",
        "Here we evaluate the data with the [\"multi_match\"](https://pragmalingu.de/docs/experiments/experiment1#standard-elasticsearch) option of elastic search:"
      ]
    },
    {
      "cell_type": "code",
      "metadata": {
        "id": "8dvtBA_NFBzc"
      },
      "source": [
        "#use rank eval api, see https://elasticsearch-py.readthedocs.io/en/master/api.html?highlight=_rank_eval#elasticsearch.Elasticsearch.rank_eval \n",
        "#and https://www.elastic.co/guide/en/elasticsearch/reference/current/query-dsl-simple-query-string-query.html \n",
        "\n",
        "import json\n",
        "from collections import defaultdict\n",
        "\n",
        "adi_index = 'adi-corpus'\n",
        "cacm_index = 'cacm-corpus'\n",
        "cisi_index = 'cisi-corpus'\n",
        "cran_index = 'cranfield-corpus'\n",
        "lisa_index = 'lisa-corpus'\n",
        "med_index = 'medline-corpus'\n",
        "npl_index = 'npl-corpus'\n",
        "time_index = 'time-corpus'\n",
        "\n",
        "text_field = \"text\"\n",
        "title_field = \"title\"\n",
        "\n",
        "#function to get normal match evaluation body \n",
        "def create_query_body_match_precision(query_dict, rel_dict, index_name, field):\n",
        "  \"\"\"\n",
        "  The function creates a request for every query in query_dict and rates the relevant documents with rel_dict to 1.\n",
        "  The index name has to be the same as from the documents your looking at.\n",
        "  An evaluation body for the elasticsearch ranking API is returned.\n",
        "  \"\"\"\n",
        "  eval_body = {\n",
        "      \"requests\": '',\n",
        "      \"metric\": {\n",
        "          \"precision\": {\n",
        "              \"relevant_rating_threshold\": 1,\n",
        "              \"k\": 20\n",
        "              }\n",
        "      }\n",
        "  }\n",
        "  requests = [] \n",
        "  current_request = defaultdict(lambda: defaultdict())\n",
        "  current_rel = {\"_index\": index_name, \"_id\": '', \"rating\": int}\n",
        "  for query_ID, query_txt in query_dict.items():\n",
        "    current_query = {\"query\": { \"multi_match\": { \"query\": '' , \"fields\" : [field]}}}\n",
        "    current_query[\"query\"][\"multi_match\"][\"query\"] = query_txt['question']\n",
        "    current_request[\"id\"] = 'Query_'+str(query_ID)\n",
        "    current_request[\"request\"] = current_query.copy()\n",
        "    current_request[\"ratings\"] = [{\"_index\": index_name, \"_id\": str(el), \"rating\": 1} for el in rel_dict[query_ID]]\n",
        "    requests.append(current_request.copy())\n",
        "  eval_body[\"requests\"] = requests\n",
        "  return eval_body\n",
        "\n",
        "\n",
        "#ADI\n",
        "adi_create_match_precision= create_query_body_match_precision(adi_qry_data, adi_rel, adi_index,title_field)\n",
        "adi_eval_body_match_precision = json.dumps(adi_create_match_precision)\n",
        "adi_res_match_precision_title = es.rank_eval(adi_eval_body_match_precision, adi_index)\n",
        "#print(json.dumps(adi_res_match_precision, indent=4, sort_keys=True))\n",
        "adi_create_match_precision= create_query_body_match_precision(adi_qry_data, adi_rel, adi_index,text_field)\n",
        "adi_eval_body_match_precision = json.dumps(adi_create_match_precision)\n",
        "adi_res_match_precision_text = es.rank_eval(adi_eval_body_match_precision, adi_index)\n",
        "#print(json.dumps(adi_res_match_precision, indent=4, sort_keys=True))\n",
        "\n",
        "\n",
        "#CACM\n",
        "cacm_create_match_precision = create_query_body_match_precision(cacm_qry_data, cacm_rel, cacm_index,title_field)\n",
        "cacm_eval_body_match_precision = json.dumps(cacm_create_match_precision)\n",
        "cacm_res_match_precision_title = es.rank_eval(cacm_eval_body_match_precision,cacm_index)\n",
        "#print(json.dumps(cacm_res_match_precision, indent=4, sort_keys=True))\n",
        "cacm_create_match_precision = create_query_body_match_precision(cacm_qry_data, cacm_rel, cacm_index,text_field)\n",
        "cacm_eval_body_match_precision = json.dumps(cacm_create_match_precision)\n",
        "cacm_res_match_precision_text = es.rank_eval(cacm_eval_body_match_precision,cacm_index)\n",
        "#print(json.dumps(cacm_res_match_precision, indent=4, sort_keys=True))\n",
        "\n",
        "#CISI\n",
        "cisi_create_match_precision = create_query_body_match_precision(cisi_qry_data, cisi_rel, cisi_index,title_field)\n",
        "cisi_eval_body_match_precision = json.dumps(cisi_create_match_precision)\n",
        "cisi_res_match_precision_title = es.rank_eval(cisi_eval_body_match_precision, cisi_index)\n",
        "#print(json.dumps(cisi_res_match_precision, indent=4, sort_keys=True))\n",
        "cisi_create_match_precision = create_query_body_match_precision(cisi_qry_data, cisi_rel, cisi_index,text_field)\n",
        "cisi_eval_body_match_precision = json.dumps(cisi_create_match_precision)\n",
        "cisi_res_match_precision_text = es.rank_eval(cisi_eval_body_match_precision, cisi_index)\n",
        "#print(json.dumps(cisi_res_match_precision, indent=4, sort_keys=True))\n",
        "\n",
        "#Cranfield\n",
        "cran_create_match_precision = create_query_body_match_precision(cran_qry_data, cran_rel, cran_index,title_field)\n",
        "cran_eval_body_match_precision = json.dumps(cran_create_match_precision)\n",
        "cran_res_match_precision_title = es.rank_eval(cran_eval_body_match_precision, cran_index)\n",
        "#print(json.dumps(cran_res_match_precision, indent=4, sort_keys=True))\n",
        "cran_create_match_precision = create_query_body_match_precision(cran_qry_data, cran_rel, cran_index,text_field)\n",
        "cran_eval_body_match_precision = json.dumps(cran_create_match_precision)\n",
        "cran_res_match_precision_text = es.rank_eval(cran_eval_body_match_precision, cran_index)\n",
        "#print(json.dumps(cran_res_match_precision, indent=4, sort_keys=True))\n",
        "\n",
        "#LISA\n",
        "lisa_create_match_precision = create_query_body_match_precision(lisa_qry_data, lisa_rel, lisa_index,title_field)\n",
        "lisa_eval_body_match_precision = json.dumps(lisa_create_match_precision)\n",
        "lisa_res_match_precision_title = es.rank_eval(lisa_eval_body_match_precision,lisa_index)\n",
        "#print(json.dumps(lisa_res_match_precision, indent=4, sort_keys=True))\n",
        "#LISA\n",
        "lisa_create_match_precision = create_query_body_match_precision(lisa_qry_data, lisa_rel, lisa_index,text_field)\n",
        "lisa_eval_body_match_precision = json.dumps(lisa_create_match_precision)\n",
        "lisa_res_match_precision_text = es.rank_eval(lisa_eval_body_match_precision,lisa_index)\n",
        "#print(json.dumps(lisa_res_match_precision, indent=4, sort_keys=True))"
      ],
      "execution_count": null,
      "outputs": []
    },
    {
      "cell_type": "markdown",
      "metadata": {
        "id": "9t-G24e7FBzq"
      },
      "source": [
        "**BERT Sentence Embeddings on 'title' field**\n",
        "\n",
        "Here we evaluate the data with BERT embeddings [on the title field](https://pragmalingu.de/docs/experiments/experiment2):"
      ]
    },
    {
      "cell_type": "code",
      "metadata": {
        "id": "b3MqSL8VFBzs"
      },
      "source": [
        "#use rank eval api, see https://elasticsearch-py.readthedocs.io/en/master/api.html?highlight=_rank_eval#elasticsearch.Elasticsearch.rank_eval \n",
        "#and https://www.elastic.co/guide/en/elasticsearch/reference/current/search-rank-eval.html#search-rank-eval\n",
        "\n",
        "from collections import defaultdict\n",
        "\n",
        "adi_index = 'bert-title-adi-corpus'\n",
        "cacm_index = 'bert-title-cacm-corpus'\n",
        "cisi_index = 'bert-title-cisi-corpus'\n",
        "cran_index = 'bert-title-cranfield-corpus'\n",
        "lisa_index = 'bert-title-lisa-corpus'\n",
        "\n",
        "# function to get normal match evaluation body \n",
        "\n",
        "def create_query_body_bert_title_precision(query_dict, rel_dict, index_name):\n",
        "  \"\"\"\n",
        "  The function creates a request for every query in query_dict and rates the relevant documents with rel_dict to 1.\n",
        "  The index name has to be the same as from the documents your looking at.\n",
        "  An evaluation body for the elasticsearch ranking API is returned.\n",
        "  \"\"\"\n",
        "  eval_body = {\n",
        "      \"requests\":'',\n",
        "      \"metric\": {\n",
        "          \"precision\": {\n",
        "            \"k\" : 20,\n",
        "            \"relevant_rating_threshold\": 1,\n",
        "            #\"ignore_unlabeled\": \"false\"\n",
        "            }\n",
        "      }\n",
        "  }\n",
        "  requests = [] \n",
        "  current_request = defaultdict(lambda: defaultdict())\n",
        "  current_rel = {\"_index\": index_name, \"_id\": '', \"rating\": int}\n",
        "  for query_ID, query_txt in query_dict.items():\n",
        "    current_query = {\n",
        "        \"query\" : {\n",
        "  \"script_score\": {\n",
        "    \"query\": {\"match_all\": {}},\n",
        "    \"script\": {\n",
        "      \"source\": \"cosineSimilarity(params.query_vector, doc['title_vector']) + 1.0\",\n",
        "      \"params\": {\"query_vector\": list(model.encode(query_txt['question']).astype(float))}\n",
        "    }\n",
        "  }\n",
        "  }\n",
        "    }\n",
        "    current_request[\"id\"] = 'Query_'+str(query_ID)\n",
        "    current_request[\"request\"] = current_query.copy()\n",
        "    current_request[\"ratings\"] = [{\n",
        "          \"_index\": index_name, \n",
        "          \"_id\": str(el) if type(el) != tuple else str(el[0]), \n",
        "          \"rating\": 1} for el in rel_dict[query_ID]]\n",
        "    requests.append(current_request.copy())\n",
        "  eval_body[\"requests\"] = requests\n",
        "  return eval_body\n",
        "\n",
        "\n",
        "# ADI\n",
        "\n",
        "adi_create_bert_title_precision = create_query_body_bert_title_recall(adi_qry_data, adi_rel, adi_index)\n",
        "adi_eval_body_bert_title_precision = json.dumps(adi_create_bert_title_precision)\n",
        "adi_res_bert_title_precision = es.rank_eval(adi_eval_body_bert_title_precision, adi_index)\n",
        "#print(json.dumps(adi_res_bert_title_precision, indent=4, sort_keys=True))\n",
        "\n",
        "# CACM\n",
        "\n",
        "cacm_create_bert_title_precision = create_query_body_bert_title_precision(cacm_qry_data, cacm_rel, cacm_index)\n",
        "cacm_eval_body_bert_title_precision = json.dumps(cacm_create_bert_title_precision)\n",
        "cacm_res_bert_title_precision = es.rank_eval(cacm_eval_body_bert_title_precision, cacm_index)\n",
        "#print(json.dumps(cacm_res_bert_title_precision, indent=4, sort_keys=True))\n",
        "\n",
        "# CISI\n",
        "\n",
        "cisi_create_bert_title_precision = create_query_body_bert_title_precision(cisi_qry_data, cisi_rel, cisi_index)\n",
        "cisi_eval_body_bert_title_precision = json.dumps(cisi_create_bert_title_precision)\n",
        "cisi_res_bert_title_precision = es.rank_eval(cisi_eval_body_bert_title_precision, cisi_index)\n",
        "#print(json.dumps(cisi_res_bert_title_precision, indent=4, sort_keys=True))\n",
        "\n",
        "# Cranfield\n",
        "\n",
        "cran_create_bert_title_precision = create_query_body_bert_title_precision(cran_qry_data, cran_rel, cran_index)\n",
        "cran_eval_body_bert_title_precision = json.dumps(cran_create_bert_title_precision)\n",
        "cran_res_bert_title_precision = es.rank_eval(cran_eval_body_bert_title_precision, cran_index)\n",
        "#print(json.dumps(cran_res_bert_title_precision, indent=4, sort_keys=True))\n",
        "\n",
        "# LISA\n",
        "\n",
        "lisa_create_bert_title_precision = create_query_body_bert_title_precision(lisa_qry_data, lisa_rel, lisa_index)\n",
        "lisa_eval_body_bert_title_precision = json.dumps(lisa_create_bert_title_precision)\n",
        "lisa_res_bert_title_precision = es.rank_eval(lisa_eval_body_bert_title_precision, lisa_index)\n",
        "#print(json.dumps(lisa_res_bert_title_precision, indent=4, sort_keys=True))"
      ],
      "execution_count": null,
      "outputs": []
    },
    {
      "cell_type": "markdown",
      "metadata": {
        "id": "T1W4bvetJDUI"
      },
      "source": [
        "**BERT Transformer on 'text' field**\n",
        "\n",
        "Here we evaluate the data with BERT embedding [on the text field](https://pragmalingu.de/docs/experiments/experiment2):"
      ]
    },
    {
      "cell_type": "code",
      "metadata": {
        "id": "2sTzK1e2FBzk"
      },
      "source": [
        "#use rank eval api, see https://elasticsearch-py.readthedocs.io/en/master/api.html?highlight=_rank_eval#elasticsearch.Elasticsearch.rank_eval \n",
        "#and https://www.elastic.co/guide/en/elasticsearch/reference/current/search-rank-eval.html#search-rank-eval\n",
        "\n",
        "from collections import defaultdict\n",
        "\n",
        "adi_index = 'bert-text-adi-corpus'\n",
        "cacm_index = 'bert-text-cacm-corpus'\n",
        "cisi_index = 'bert-text-cisi-corpus'\n",
        "cran_index = 'bert-text-cranfield-corpus'\n",
        "lisa_index = 'bert-text-lisa-corpus'\n",
        "med_index = 'bert-text-medline-corpus'\n",
        "npl_index = 'bert-text-npl-corpus'\n",
        "time_index = 'bert-text-time-corpus'\n",
        "\n",
        "# function to get normal match evaluation body \n",
        "\n",
        "def create_query_body_bert_text_precision(query_dict, rel_dict, index_name):\n",
        "  \"\"\"\n",
        "  The function creates a request for every query in query_dict and rates the relevant documents with rel_dict to 1.\n",
        "  The index name has to be the same as from the documents your looking at.\n",
        "  An evaluation body for the elasticsearch ranking API is returned.\n",
        "  \"\"\"\n",
        "  eval_body = {\n",
        "      \"requests\":'',\n",
        "      \"metric\": {\n",
        "          \"precision\": {\n",
        "          \"k\" : 20,\n",
        "          \"relevant_rating_threshold\": 1,\n",
        "          #\"ignore_unlabeled\": \"false\"\n",
        "          }\n",
        "         }\n",
        "      }\n",
        "  requests = [] \n",
        "  current_request = defaultdict(lambda: defaultdict())\n",
        "  current_rel = {\"_index\": index_name, \"_id\": '', \"rating\": int}\n",
        "  for query_ID, query_txt in query_dict.items():\n",
        "    current_query = {\n",
        "        \"query\": {\n",
        "            \"nested\": {\n",
        "                \"path\": \"text_vector\",\n",
        "                \"score_mode\": \"min\", \n",
        "                \"query\": {\n",
        "                    \"function_score\": {\n",
        "                        \"script_score\": {\n",
        "                            \"script\": {\n",
        "                                \"source\": \"1.0 + cosineSimilarity(params.query_vector, 'text_vector.vector')\",\n",
        "                                \"params\": {\"query_vector\": list(model.encode(query_txt['question']).astype(float))}\n",
        "                                }\n",
        "                                }\n",
        "                                }\n",
        "                          }\n",
        "                       }\n",
        "                  }\n",
        "                  }\n",
        "    current_request[\"id\"] = 'Query_'+str(query_ID)\n",
        "    current_request[\"request\"] = current_query.copy()\n",
        "    current_request[\"ratings\"] = [{\n",
        "          \"_index\": index_name, \n",
        "          \"_id\": str(el) if type(el) != tuple else str(el[0]), \n",
        "          \"rating\": 1} for el in rel_dict[query_ID]]\n",
        "    requests.append(current_request.copy())\n",
        "  eval_body[\"requests\"] = requests\n",
        "  return eval_body\n",
        "\n",
        "\n",
        "\n",
        "# ADI\n",
        "\n",
        "adi_create_bert_text_precision = create_query_body_bert_text_precision(adi_qry_data, adi_rel, adi_index)\n",
        "adi_eval_body_bert_text_precision = json.dumps(adi_create_bert_text_precision)\n",
        "adi_res_bert_text_precision = es.rank_eval(adi_eval_body_bert_text_precision, adi_index)\n",
        "#print(json.dumps(adi_res, indent=4, sort_keys=True))\n",
        "\n",
        "# CACM\n",
        "\n",
        "cacm_create_bert_text_precision = create_query_body_bert_text_precision(cacm_qry_data, cacm_rel, cacm_index)\n",
        "cacm_eval_body_bert_text_precision = json.dumps(cacm_create_bert_text_precision)\n",
        "cacm_res_bert_text_precision = es.rank_eval(cacm_eval_body_bert_text_precision, cacm_index)\n",
        "#print(json.dumps(cacm_res, indent=4, sort_keys=True))\n",
        "\n",
        "# CISI\n",
        "\n",
        "cisi_create_bert_text_precision = create_query_body_bert_text_precision(cisi_qry_data, cisi_rel, cisi_index)\n",
        "cisi_eval_body_bert_text_precision = json.dumps(cisi_create_bert_text_precision)\n",
        "cisi_res_bert_text_precision = es.rank_eval(cisi_eval_body_bert_text_precision, cisi_index)\n",
        "#print(json.dumps(cisi_res, indent=4, sort_keys=True))\n",
        "\n",
        "# Cranfield\n",
        "\n",
        "cran_create_bert_text_precision = create_query_body_bert_text_precision(cran_qry_data, cran_rel, cran_index)\n",
        "cran_eval_body_bert_text_precision = json.dumps(cran_create_bert_text_precision)\n",
        "cran_res_bert_text_precision = es.rank_eval(cran_eval_body_bert_text_precision, cran_index)\n",
        "#print(json.dumps(cran_res, indent=4, sort_keys=True))\n",
        "\n",
        "# LISA\n",
        "\n",
        "lisa_create_bert_text_precision = create_query_body_bert_text_precision(lisa_qry_data, lisa_rel, lisa_index)\n",
        "lisa_eval_body_bert_text_precision = json.dumps(lisa_create_bert_text_precision)\n",
        "lisa_res_bert_text_precision = es.rank_eval(lisa_eval_body_bert_text_precision, lisa_index)\n",
        "#print(json.dumps(lisa_res, indent=4, sort_keys=True))\n",
        "\n",
        "# Medline\n",
        "\n",
        "med_create_bert_text_precision = create_query_body_bert_text_precision(med_qry_data, med_rel, med_index)\n",
        "med_eval_body_bert_text_precision = json.dumps(med_create_bert_text_precision)\n",
        "med_res_bert_text_precision = es.rank_eval(med_eval_body_bert_text_precision, med_index)\n",
        "#print(json.dumps(med_res, indent=4, sort_keys=True))\n",
        "\n",
        "# NPL\n",
        "\n",
        "npl_create_bert_text_precision = create_query_body_bert_text_precision(npl_qry_data, npl_rel, npl_index)\n",
        "npl_eval_body_bert_text_precision = json.dumps(npl_create_bert_text_precision)\n",
        "npl_res_bert_text_precision = es.rank_eval(npl_eval_body_bert_text_precision, npl_index)\n",
        "#print(json.dumps(npl_res, indent=4, sort_keys=True))\n",
        "\n",
        "# Time\n",
        "\n",
        "time_create_bert_text_precision = create_query_body_bert_text_precision(time_qry_data, time_rel, time_index)\n",
        "time_eval_body_bert_text_precision = json.dumps(time_create_bert_text_precision)\n",
        "time_res_bert_text_precision = es.rank_eval(time_eval_body_bert_text_precision, time_index)\n",
        "#print(json.dumps(time_res, indent=4, sort_keys=True))"
      ],
      "execution_count": null,
      "outputs": []
    },
    {
      "cell_type": "markdown",
      "metadata": {
        "id": "gpKrbKC7TDxu"
      },
      "source": [
        "## Visualisation\n",
        "\n",
        "Here we visualize our results:"
      ]
    },
    {
      "cell_type": "markdown",
      "metadata": {
        "id": "3GI_zdwhG4MF"
      },
      "source": [
        "### Recall"
      ]
    },
    {
      "cell_type": "code",
      "metadata": {
        "id": "BXibzPzmf_KK",
        "outputId": "27b40ace-3b28-46f6-f187-81d434530c07",
        "colab": {
          "base_uri": "https://localhost:8080/",
          "height": 531
        }
      },
      "source": [
        "import matplotlib\n",
        "import matplotlib.pyplot as plt\n",
        "import numpy as np\n",
        "\n",
        "match_metrics_recall_title = []\n",
        "match_metrics_recall_title.append(round(adi_res_match_recall_title['metric_score'], 3))\n",
        "match_metrics_recall_title.append(round(cacm_res_match_recall_title['metric_score'], 3))\n",
        "match_metrics_recall_title.append(round(cisi_res_match_recall_title['metric_score'], 3))\n",
        "match_metrics_recall_title.append(round(cran_res_match_recall_title['metric_score'], 3))\n",
        "match_metrics_recall_title.append(round(lisa_res_match_recall_title['metric_score'], 3))\n",
        "\n",
        "bert_title_metrics_recall = []\n",
        "bert_title_metrics_recall.append(round(adi_res_bert_title_recall['metric_score'], 3))\n",
        "bert_title_metrics_recall.append(round(cacm_res_bert_title_recall['metric_score'], 3))\n",
        "bert_title_metrics_recall.append(round(cisi_res_bert_title_recall['metric_score'], 3))\n",
        "bert_title_metrics_recall.append(round(cran_res_bert_title_recall['metric_score'], 3))\n",
        "bert_title_metrics_recall.append(round(lisa_res_bert_title_recall['metric_score'], 3))\n",
        "\n",
        "match_metrics_recall_text = []\n",
        "match_metrics_recall_text.append(round(adi_res_match_recall_text['metric_score'], 3))\n",
        "match_metrics_recall_text.append(round(cacm_res_match_recall_text['metric_score'], 3))\n",
        "match_metrics_recall_text.append(round(cisi_res_match_recall_text['metric_score'], 3))\n",
        "match_metrics_recall_text.append(round(cran_res_match_recall_text['metric_score'], 3))\n",
        "match_metrics_recall_text.append(round(lisa_res_match_recall_text['metric_score'], 3))\n",
        "\n",
        "bert_text_metrics_recall = []\n",
        "bert_text_metrics_recall.append(round(adi_res_bert_text_recall['metric_score'], 3))\n",
        "bert_text_metrics_recall.append(round(cacm_res_bert_text_recall['metric_score'], 3))\n",
        "bert_text_metrics_recall.append(round(cisi_res_bert_text_recall['metric_score'], 3))\n",
        "bert_text_metrics_recall.append(round(cran_res_bert_text_recall['metric_score'], 3))\n",
        "bert_text_metrics_recall.append(round(lisa_res_bert_text_recall['metric_score'], 3))\n",
        "\n",
        "labels = ['ADI','CACM', 'CISI','Cranfield', 'LISA']\n",
        "\n",
        "x = np.arange(len(labels))*2.5  # the label locations\n",
        "\n",
        "width = 0.5  # the width of the bars\n",
        "\n",
        "fig, ax = plt.subplots()\n",
        "rects1 = ax.bar(x - width, match_metrics_recall_title , width, label='With multi-match query title field')\n",
        "rects2 = ax.bar(x, bert_title_metrics_recall, width, label='With BERT on title field')\n",
        "rects3 = ax.bar(x + width, match_metrics_recall_text , width, label='With multi-match query text field')\n",
        "rects4 = ax.bar(x + 2*width, bert_text_metrics_recall, width, label='With BERT on text field')\n",
        "\n",
        "# Add some text for labels, title and custom x-axis tick labels, etc.\n",
        "ax.set_ylabel('metric scores')\n",
        "ax.set_title('Recall scores by corpus')\n",
        "ax.set_xticks(x)\n",
        "ax.set_xticklabels(labels)\n",
        "ax.legend()\n",
        "\n",
        "def autolabel(rects):\n",
        "    \"\"\"Attach a text label above each bar in *rects*, displaying its height.\"\"\"\n",
        "    for rect in rects:\n",
        "        height = rect.get_height()\n",
        "        ax.annotate('{}'.format(height),\n",
        "                    xy=(rect.get_x() + rect.get_width() / 2, height),\n",
        "                    xytext=(0, 3),  # 3 points vertical offset\n",
        "                    textcoords=\"offset points\",\n",
        "                    ha='center', va='bottom')\n",
        "\n",
        "autolabel(rects1)\n",
        "autolabel(rects2)\n",
        "autolabel(rects3)\n",
        "autolabel(rects4)\n",
        "\n",
        "fig.tight_layout()\n",
        "fig.set_figwidth(16)\n",
        "fig.set_figheight(8)\n",
        "\n",
        "plt.show()"
      ],
      "execution_count": null,
      "outputs": [
        {
          "output_type": "display_data",
          "data": {
            "image/png": "[encoded data removed]",
            "text/plain": [
              "<Figure size 1152x576 with 1 Axes>"
            ]
          },
          "metadata": {
            "tags": [],
            "needs_background": "light"
          }
        }
      ]
    },
    {
      "cell_type": "code",
      "metadata": {
        "id": "nlVzOT5uDt3d",
        "outputId": "346969bf-201c-4089-8f34-247576269542",
        "colab": {
          "base_uri": "https://localhost:8080/"
        }
      },
      "source": [
        "from tabulate import tabulate\n",
        "\n",
        "match_metrics_recall_title.insert(0, 'multi-match query')  \n",
        "bert_title_metrics_recall.insert(0, 'BERT on title field')\n",
        "match_metrics_recall_text.insert(0, 'multi-match query on text') \n",
        "bert_text_metrics_recall.insert(0, 'BERT on text field')\n",
        "\n",
        "l = [match_metrics_recall_title, bert_title_metrics_recall, match_metrics_recall_text, bert_text_metrics_recall]\n",
        "table = tabulate(l, headers=['ADI','CACM', 'CISI','cranfield', 'LISA'], tablefmt='orgtbl')\n",
        "\n",
        "print(table)"
      ],
      "execution_count": null,
      "outputs": [
        {
          "output_type": "stream",
          "text": [
            "|                           |   ADI |   CACM |   CISI |   cranfield |   LISA |\n",
            "|---------------------------+-------+--------+--------+-------------+--------|\n",
            "| multi-match query         | 0.24  |  0.053 |  0.058 |       0.118 |  0.289 |\n",
            "| BERT on title field       | 0.227 |  0.007 |  0.038 |       0.071 |  0.139 |\n",
            "| multi-match query on text | 0.295 |  0.035 |  0.112 |       0.16  |  0.313 |\n",
            "| BERT on text field        | 0.204 |  0.018 |  0.024 |       0.039 |  0.055 |\n"
          ],
          "name": "stdout"
        }
      ]
    },
    {
      "cell_type": "markdown",
      "metadata": {
        "id": "QuxJmfYZG14r"
      },
      "source": [
        "### Precision"
      ]
    },
    {
      "cell_type": "code",
      "metadata": {
        "id": "tRF25Yq3G0QU",
        "outputId": "c62ba6f6-0625-4737-d299-0e3718f1daf8",
        "colab": {
          "base_uri": "https://localhost:8080/",
          "height": 531
        }
      },
      "source": [
        "import matplotlib\n",
        "import matplotlib.pyplot as plt\n",
        "import numpy as np\n",
        "\n",
        "match_metrics_precision_title = []\n",
        "match_metrics_precision_title.append(round(adi_res_match_precision_title['metric_score'], 3))\n",
        "match_metrics_precision_title.append(round(cacm_res_match_precision_title['metric_score'], 3))\n",
        "match_metrics_precision_title.append(round(cisi_res_match_precision_title['metric_score'], 3))\n",
        "match_metrics_precision_title.append(round(cran_res_match_precision_title['metric_score'], 3))\n",
        "match_metrics_precision_title.append(round(lisa_res_match_precision_title['metric_score'], 3))\n",
        "\n",
        "match_metrics_precision_text = []\n",
        "match_metrics_precision_text.append(round(adi_res_match_precision_text['metric_score'], 3))\n",
        "match_metrics_precision_text.append(round(cacm_res_match_precision_text['metric_score'], 3))\n",
        "match_metrics_precision_text.append(round(cisi_res_match_precision_text['metric_score'], 3))\n",
        "match_metrics_precision_text.append(round(cran_res_match_precision_text['metric_score'], 3))\n",
        "match_metrics_precision_text.append(round(lisa_res_match_precision_text['metric_score'], 3))\n",
        "\n",
        "bert_title_metrics_precision = []\n",
        "bert_title_metrics_precision.append(round(adi_res_bert_title_precision['metric_score'], 3))\n",
        "bert_title_metrics_precision.append(round(cacm_res_bert_title_precision['metric_score'], 3))\n",
        "bert_title_metrics_precision.append(round(cisi_res_bert_title_precision['metric_score'], 3))\n",
        "bert_title_metrics_precision.append(round(cran_res_bert_title_precision['metric_score'], 3))\n",
        "bert_title_metrics_precision.append(round(lisa_res_bert_title_precision['metric_score'], 3))\n",
        "\n",
        "bert_text_metrics_precision = []\n",
        "bert_text_metrics_precision.append(round(adi_res_bert_text_precision['metric_score'], 3))\n",
        "bert_text_metrics_precision.append(round(cacm_res_bert_text_precision['metric_score'], 3))\n",
        "bert_text_metrics_precision.append(round(cisi_res_bert_text_precision['metric_score'], 3))\n",
        "bert_text_metrics_precision.append(round(cran_res_bert_text_precision['metric_score'], 3))\n",
        "bert_text_metrics_precision.append(round(lisa_res_bert_text_precision['metric_score'], 3))\n",
        "\n",
        "\n",
        "labels = ['ADI','CACM', 'CISI','Cranfield', 'LISA']\n",
        "\n",
        "x = np.arange(len(labels))*2.5 # the label locations\n",
        "\n",
        "width = 0.5  # the width of the bars\n",
        "\n",
        "fig, ax = plt.subplots()\n",
        "rects1 = ax.bar(x - width, match_metrics_precision_title , width, label='With multi-match query on title')\n",
        "rects2 = ax.bar(x, bert_title_metrics_precision, width, label='With BERT on title field')\n",
        "rects3 = ax.bar(x + width, match_metrics_precision_text , width, label='With multi-match query on text')\n",
        "rects4 = ax.bar(x + 2*width, bert_text_metrics_precision, width, label='With BERT on text field')\n",
        "\n",
        "# Add some text for labels, title and custom x-axis tick labels, etc.\n",
        "ax.set_ylabel('metric scores')\n",
        "ax.set_title('Precision scores by corpus')\n",
        "ax.set_xticks(x)\n",
        "ax.set_xticklabels(labels)\n",
        "ax.legend()\n",
        "\n",
        "def autolabel(rects):\n",
        "    \"\"\"Attach a text label above each bar in *rects*, displaying its height.\"\"\"\n",
        "    for rect in rects:\n",
        "        height = rect.get_height()\n",
        "        ax.annotate('{}'.format(height),\n",
        "                    xy=(rect.get_x() + rect.get_width() / 2, height),\n",
        "                    xytext=(0, 3),  # 3 points vertical offset\n",
        "                    textcoords=\"offset points\",\n",
        "                    ha='center', va='bottom')\n",
        "\n",
        "autolabel(rects1)\n",
        "autolabel(rects2)\n",
        "autolabel(rects3)\n",
        "autolabel(rects4)\n",
        "\n",
        "fig.tight_layout()\n",
        "fig.set_figwidth(16)\n",
        "fig.set_figheight(8)\n",
        "\n",
        "plt.show()"
      ],
      "execution_count": null,
      "outputs": [
        {
          "output_type": "display_data",
          "data": {
            "image/png": "[encoded data removed]",
            "text/plain": [
              "<Figure size 1152x576 with 1 Axes>"
            ]
          },
          "metadata": {
            "tags": [],
            "needs_background": "light"
          }
        }
      ]
    },
    {
      "cell_type": "code",
      "metadata": {
        "id": "eqQB7ExDDWzX",
        "outputId": "6540c929-19cd-4ef3-8fda-9b59feeb0dd3",
        "colab": {
          "base_uri": "https://localhost:8080/"
        }
      },
      "source": [
        "from tabulate import tabulate\n",
        "\n",
        "match_metrics_precision_title.insert(0, 'multi-match query on title') \n",
        "bert_title_metrics_precision.insert(0, 'BERT on title field')\n",
        "match_metrics_precision_text.insert(0, 'multi-match query on text') \n",
        "bert_text_metrics_precision.insert(0, 'BERT on text field')\n",
        "\n",
        "l = [match_metrics_precision_title, bert_title_metrics_precision, match_metrics_precision_text, bert_text_metrics_precision]\n",
        "table = tabulate(l, headers=['ADI','CACM', 'CISI','cranfield', 'LISA'], tablefmt='orgtbl')\n",
        "\n",
        "print(table)"
      ],
      "execution_count": null,
      "outputs": [
        {
          "output_type": "stream",
          "text": [
            "|                            |   ADI |   CACM |   CISI |   cranfield |   LISA |\n",
            "|----------------------------+-------+--------+--------+-------------+--------|\n",
            "| multi-match query on title | 0.056 |  0.022 |  0.092 |       0.044 |  0.139 |\n",
            "| BERT on title field        | 0.227 |  0.006 |  0.088 |       0.028 |  0.056 |\n",
            "| multi-match query on text  | 0.072 |  0.023 |  0.154 |       0.059 |  0.141 |\n",
            "| BERT on text field         | 0.059 |  0.012 |  0.053 |       0.012 |  0.031 |\n"
          ],
          "name": "stdout"
        }
      ]
    },
    {
      "cell_type": "markdown",
      "metadata": {
        "id": "Gm1Aej_-T9e0"
      },
      "source": [
        "### F-Score"
      ]
    },
    {
      "cell_type": "code",
      "metadata": {
        "id": "QA8CpbbRQtIH",
        "outputId": "5b409c54-53e3-4b8c-f761-4044869c24db",
        "colab": {
          "base_uri": "https://localhost:8080/",
          "height": 531
        }
      },
      "source": [
        "import matplotlib\n",
        "import matplotlib.pyplot as plt\n",
        "import numpy as np\n",
        "\n",
        "def f_score(recall,precision):\n",
        "  if recall or precision != 0:\n",
        "    fscore = (2*(recall*precision)/(recall+precision))\n",
        "    return fscore\n",
        "\n",
        "match_metrics_fscore_title = []\n",
        "match_metrics_fscore_title.append(round(f_score(adi_res_match_recall_title['metric_score'], adi_res_match_precision_title['metric_score']),3))\n",
        "match_metrics_fscore_title.append(round(f_score(cacm_res_match_recall_title['metric_score'], cacm_res_match_precision_title['metric_score']),3))\n",
        "match_metrics_fscore_title.append(round(f_score(cisi_res_match_recall_title['metric_score'], cisi_res_match_precision_title['metric_score']),3))\n",
        "match_metrics_fscore_title.append(round(f_score(cran_res_match_recall_title['metric_score'], cran_res_match_precision_title['metric_score']),3))\n",
        "match_metrics_fscore_title.append(round(f_score(lisa_res_match_recall_title['metric_score'], lisa_res_match_precision_title['metric_score']),3))\n",
        "\n",
        "match_metrics_fscore_text = []\n",
        "match_metrics_fscore_text.append(round(f_score(adi_res_match_recall_text['metric_score'], adi_res_match_precision_text['metric_score']),3))\n",
        "match_metrics_fscore_text.append(round(f_score(cacm_res_match_recall_text['metric_score'], cacm_res_match_precision_text['metric_score']),3))\n",
        "match_metrics_fscore_text.append(round(f_score(cisi_res_match_recall_text['metric_score'], cisi_res_match_precision_text['metric_score']),3))\n",
        "match_metrics_fscore_text.append(round(f_score(cran_res_match_recall_text['metric_score'], cran_res_match_precision_text['metric_score']),3))\n",
        "match_metrics_fscore_text.append(round(f_score(lisa_res_match_recall_text['metric_score'], lisa_res_match_precision_text['metric_score']),3))\n",
        "\n",
        "bert_title_metrics_fscore = []\n",
        "bert_title_metrics_fscore.append(round(f_score(adi_res_bert_title_recall['metric_score'], adi_res_bert_title_precision['metric_score']),3))\n",
        "bert_title_metrics_fscore.append(round(f_score(cacm_res_bert_title_recall['metric_score'], cacm_res_bert_title_precision['metric_score']),3))\n",
        "bert_title_metrics_fscore.append(round(f_score(cisi_res_bert_title_recall['metric_score'], cisi_res_bert_title_precision['metric_score']),3))\n",
        "bert_title_metrics_fscore.append(round(f_score(cran_res_bert_title_recall['metric_score'], cran_res_bert_title_precision['metric_score']),3))\n",
        "bert_title_metrics_fscore.append(round(f_score(lisa_res_bert_title_recall['metric_score'], lisa_res_bert_title_precision['metric_score']),3))\n",
        "\n",
        "bert_text_metrics_fscore = []\n",
        "bert_text_metrics_fscore.append(round(f_score(adi_res_bert_text_recall['metric_score'], adi_res_bert_text_precision['metric_score']),3))\n",
        "bert_text_metrics_fscore.append(round(f_score(cacm_res_bert_text_recall['metric_score'], cacm_res_bert_text_precision['metric_score']),3))\n",
        "bert_text_metrics_fscore.append(round(f_score(cisi_res_bert_text_recall['metric_score'], cisi_res_bert_text_precision['metric_score']),3))\n",
        "bert_text_metrics_fscore.append(round(f_score(cran_res_bert_text_recall['metric_score'], cran_res_bert_text_precision['metric_score']),3))\n",
        "bert_text_metrics_fscore.append(round(f_score(lisa_res_bert_text_recall['metric_score'], lisa_res_bert_text_precision['metric_score']),3))\n",
        "\n",
        "labels = ['ADI','CACM', 'CISI','cranfield', 'LISA']\n",
        "\n",
        "x = np.arange(len(labels))*2.5  # the label locations\n",
        "\n",
        "width = 0.5  # the width of the bars\n",
        "\n",
        "fig, ax = plt.subplots()\n",
        "rects1 = ax.bar(x - width, match_metrics_fscore_title , width, label='With multi-match query on title')\n",
        "rects2 = ax.bar(x, bert_title_metrics_fscore, width, label='With BERT on title field')\n",
        "rects3 = ax.bar(x + width, match_metrics_fscore_text , width, label='With multi-match query on text')\n",
        "rects4 = ax.bar(x + 2*width, bert_text_metrics_fscore, width, label='With BERT on text field')\n",
        "\n",
        "# Add some text for labels, title and custom x-axis tick labels, etc.\n",
        "ax.set_ylabel('metric scores')\n",
        "ax.set_title('F1-Scores by corpus')\n",
        "ax.set_xticks(x)\n",
        "ax.set_xticklabels(labels)\n",
        "ax.legend()\n",
        "\n",
        "\n",
        "def autolabel(rects):\n",
        "    \"\"\"Attach a text label above each bar in *rects*, displaying its height.\"\"\"\n",
        "    for rect in rects:\n",
        "        height = rect.get_height()\n",
        "        ax.annotate('{}'.format(height),\n",
        "                    xy=(rect.get_x() + rect.get_width() / 2, height),\n",
        "                    xytext=(0, 3),  # 3 points vertical offset\n",
        "                    textcoords=\"offset points\",\n",
        "                    ha='center', va='bottom')\n",
        "\n",
        "\n",
        "autolabel(rects1)\n",
        "autolabel(rects2)\n",
        "autolabel(rects3)\n",
        "autolabel(rects4)\n",
        "\n",
        "fig.tight_layout()\n",
        "fig.set_figwidth(16)\n",
        "fig.set_figheight(8)\n",
        "\n",
        "plt.show()"
      ],
      "execution_count": null,
      "outputs": [
        {
          "output_type": "display_data",
          "data": {
            "image/png": "[encoded data removed]",
            "text/plain": [
              "<Figure size 1152x576 with 1 Axes>"
            ]
          },
          "metadata": {
            "tags": [],
            "needs_background": "light"
          }
        }
      ]
    },
    {
      "cell_type": "code",
      "metadata": {
        "id": "R6Tk6Vt8Ah5_",
        "outputId": "66eecfc4-d98c-487b-81e1-a78c4fedf57b",
        "colab": {
          "base_uri": "https://localhost:8080/"
        }
      },
      "source": [
        "from tabulate import tabulate\n",
        "\n",
        "match_metrics_fscore_title.insert(0, 'multi-match query on title') \n",
        "bert_title_metrics_fscore.insert(0, 'BERT on title field')\n",
        "match_metrics_fscore_text.insert(0, 'multi-match query on text') \n",
        "bert_text_metrics_fscore.insert(0, 'BERT on text field')\n",
        "\n",
        "l = [match_metrics_fscore_title, bert_title_metrics_fscore,match_metrics_fscore_text,bert_text_metrics_fscore]\n",
        "table = tabulate(l, headers=['ADI','CACM', 'CISI','cranfield', 'LISA'], tablefmt='orgtbl')\n",
        "\n",
        "print(table)"
      ],
      "execution_count": null,
      "outputs": [
        {
          "output_type": "stream",
          "text": [
            "|                            |   ADI |   CACM |   CISI |   cranfield |   LISA |\n",
            "|----------------------------+-------+--------+--------+-------------+--------|\n",
            "| multi-match query on title | 0.091 |  0.031 |  0.071 |       0.065 |  0.187 |\n",
            "| BERT on title field        | 0.227 |  0.006 |  0.054 |       0.04  |  0.08  |\n",
            "| multi-match query on text  | 0.116 |  0.028 |  0.129 |       0.087 |  0.195 |\n",
            "| BERT on text field         | 0.091 |  0.014 |  0.033 |       0.019 |  0.04  |\n"
          ],
          "name": "stdout"
        }
      ]
    },
    {
      "cell_type": "markdown",
      "metadata": {
        "id": "Ikgcrccon7a1"
      },
      "source": [
        "Read more on this experiment on our [website](https://pragmalingu.de/docs/experiments/experiment2)."
      ]
    }
  ]
}