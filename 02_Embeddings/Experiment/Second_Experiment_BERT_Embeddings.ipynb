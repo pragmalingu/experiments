{
  "nbformat": 4,
  "nbformat_minor": 0,
  "metadata": {
    "colab": {
      "name": "Second Experiment: BERT Embeddings.ipynb",
      "provenance": [],
      "collapsed_sections": [
        "_Un-oDrHnDui",
        "r4_SDsRLasRA",
        "nZl09cJE0755",
        "X6uTwgD31Azk"
      ],
      "toc_visible": true,
      "include_colab_link": true
    },
    "kernelspec": {
      "name": "python3",
      "display_name": "Python 3"
    },
    "accelerator": "GPU",
    "widgets": {
      "application/vnd.jupyter.widget-state+json": {
        "4ef99fd1cb804bc5bac5652299144243": {
          "model_module": "@jupyter-widgets/controls",
          "model_name": "HBoxModel",
          "state": {
            "_view_name": "HBoxView",
            "_dom_classes": [],
            "_model_name": "HBoxModel",
            "_view_module": "@jupyter-widgets/controls",
            "_model_module_version": "1.5.0",
            "_view_count": null,
            "_view_module_version": "1.5.0",
            "box_style": "",
            "layout": "IPY_MODEL_971bb0659fb542e9903da221344b1637",
            "_model_module": "@jupyter-widgets/controls",
            "children": [
              "IPY_MODEL_d9d5cd50a5b04fda9259820dadee3f09",
              "IPY_MODEL_6f44cdae565a4969ab62f439469fe96f"
            ]
          }
        },
        "971bb0659fb542e9903da221344b1637": {
          "model_module": "@jupyter-widgets/base",
          "model_name": "LayoutModel",
          "state": {
            "_view_name": "LayoutView",
            "grid_template_rows": null,
            "right": null,
            "justify_content": null,
            "_view_module": "@jupyter-widgets/base",
            "overflow": null,
            "_model_module_version": "1.2.0",
            "_view_count": null,
            "flex_flow": null,
            "width": null,
            "min_width": null,
            "border": null,
            "align_items": null,
            "bottom": null,
            "_model_module": "@jupyter-widgets/base",
            "top": null,
            "grid_column": null,
            "overflow_y": null,
            "overflow_x": null,
            "grid_auto_flow": null,
            "grid_area": null,
            "grid_template_columns": null,
            "flex": null,
            "_model_name": "LayoutModel",
            "justify_items": null,
            "grid_row": null,
            "max_height": null,
            "align_content": null,
            "visibility": null,
            "align_self": null,
            "height": null,
            "min_height": null,
            "padding": null,
            "grid_auto_rows": null,
            "grid_gap": null,
            "max_width": null,
            "order": null,
            "_view_module_version": "1.2.0",
            "grid_template_areas": null,
            "object_position": null,
            "object_fit": null,
            "grid_auto_columns": null,
            "margin": null,
            "display": null,
            "left": null
          }
        },
        "d9d5cd50a5b04fda9259820dadee3f09": {
          "model_module": "@jupyter-widgets/controls",
          "model_name": "FloatProgressModel",
          "state": {
            "_view_name": "ProgressView",
            "style": "IPY_MODEL_9b896e86c72a4bc7aa1c07835f7a6365",
            "_dom_classes": [],
            "description": "100%",
            "_model_name": "FloatProgressModel",
            "bar_style": "success",
            "max": 405234788,
            "_view_module": "@jupyter-widgets/controls",
            "_model_module_version": "1.5.0",
            "value": 405234788,
            "_view_count": null,
            "_view_module_version": "1.5.0",
            "orientation": "horizontal",
            "min": 0,
            "description_tooltip": null,
            "_model_module": "@jupyter-widgets/controls",
            "layout": "IPY_MODEL_210bfa48fdc2486fa01f665e93dec74c"
          }
        },
        "6f44cdae565a4969ab62f439469fe96f": {
          "model_module": "@jupyter-widgets/controls",
          "model_name": "HTMLModel",
          "state": {
            "_view_name": "HTMLView",
            "style": "IPY_MODEL_8fcb2445963342479746e96ef34683e8",
            "_dom_classes": [],
            "description": "",
            "_model_name": "HTMLModel",
            "placeholder": "​",
            "_view_module": "@jupyter-widgets/controls",
            "_model_module_version": "1.5.0",
            "value": " 405M/405M [00:17&lt;00:00, 23.2MB/s]",
            "_view_count": null,
            "_view_module_version": "1.5.0",
            "description_tooltip": null,
            "_model_module": "@jupyter-widgets/controls",
            "layout": "IPY_MODEL_4b69f4cd32f943849e5462462faa54ef"
          }
        },
        "9b896e86c72a4bc7aa1c07835f7a6365": {
          "model_module": "@jupyter-widgets/controls",
          "model_name": "ProgressStyleModel",
          "state": {
            "_view_name": "StyleView",
            "_model_name": "ProgressStyleModel",
            "description_width": "initial",
            "_view_module": "@jupyter-widgets/base",
            "_model_module_version": "1.5.0",
            "_view_count": null,
            "_view_module_version": "1.2.0",
            "bar_color": null,
            "_model_module": "@jupyter-widgets/controls"
          }
        },
        "210bfa48fdc2486fa01f665e93dec74c": {
          "model_module": "@jupyter-widgets/base",
          "model_name": "LayoutModel",
          "state": {
            "_view_name": "LayoutView",
            "grid_template_rows": null,
            "right": null,
            "justify_content": null,
            "_view_module": "@jupyter-widgets/base",
            "overflow": null,
            "_model_module_version": "1.2.0",
            "_view_count": null,
            "flex_flow": null,
            "width": null,
            "min_width": null,
            "border": null,
            "align_items": null,
            "bottom": null,
            "_model_module": "@jupyter-widgets/base",
            "top": null,
            "grid_column": null,
            "overflow_y": null,
            "overflow_x": null,
            "grid_auto_flow": null,
            "grid_area": null,
            "grid_template_columns": null,
            "flex": null,
            "_model_name": "LayoutModel",
            "justify_items": null,
            "grid_row": null,
            "max_height": null,
            "align_content": null,
            "visibility": null,
            "align_self": null,
            "height": null,
            "min_height": null,
            "padding": null,
            "grid_auto_rows": null,
            "grid_gap": null,
            "max_width": null,
            "order": null,
            "_view_module_version": "1.2.0",
            "grid_template_areas": null,
            "object_position": null,
            "object_fit": null,
            "grid_auto_columns": null,
            "margin": null,
            "display": null,
            "left": null
          }
        },
        "8fcb2445963342479746e96ef34683e8": {
          "model_module": "@jupyter-widgets/controls",
          "model_name": "DescriptionStyleModel",
          "state": {
            "_view_name": "StyleView",
            "_model_name": "DescriptionStyleModel",
            "description_width": "",
            "_view_module": "@jupyter-widgets/base",
            "_model_module_version": "1.5.0",
            "_view_count": null,
            "_view_module_version": "1.2.0",
            "_model_module": "@jupyter-widgets/controls"
          }
        },
        "4b69f4cd32f943849e5462462faa54ef": {
          "model_module": "@jupyter-widgets/base",
          "model_name": "LayoutModel",
          "state": {
            "_view_name": "LayoutView",
            "grid_template_rows": null,
            "right": null,
            "justify_content": null,
            "_view_module": "@jupyter-widgets/base",
            "overflow": null,
            "_model_module_version": "1.2.0",
            "_view_count": null,
            "flex_flow": null,
            "width": null,
            "min_width": null,
            "border": null,
            "align_items": null,
            "bottom": null,
            "_model_module": "@jupyter-widgets/base",
            "top": null,
            "grid_column": null,
            "overflow_y": null,
            "overflow_x": null,
            "grid_auto_flow": null,
            "grid_area": null,
            "grid_template_columns": null,
            "flex": null,
            "_model_name": "LayoutModel",
            "justify_items": null,
            "grid_row": null,
            "max_height": null,
            "align_content": null,
            "visibility": null,
            "align_self": null,
            "height": null,
            "min_height": null,
            "padding": null,
            "grid_auto_rows": null,
            "grid_gap": null,
            "max_width": null,
            "order": null,
            "_view_module_version": "1.2.0",
            "grid_template_areas": null,
            "object_position": null,
            "object_fit": null,
            "grid_auto_columns": null,
            "margin": null,
            "display": null,
            "left": null
          }
        },
        "68f4df10cf7d4bb489d4f6bf7cc800f1": {
          "model_module": "@jupyter-widgets/controls",
          "model_name": "HBoxModel",
          "state": {
            "_view_name": "HBoxView",
            "_dom_classes": [],
            "_model_name": "HBoxModel",
            "_view_module": "@jupyter-widgets/controls",
            "_model_module_version": "1.5.0",
            "_view_count": null,
            "_view_module_version": "1.5.0",
            "box_style": "",
            "layout": "IPY_MODEL_da8f8568fea1477a85440ea0abdd48c9",
            "_model_module": "@jupyter-widgets/controls",
            "children": [
              "IPY_MODEL_e296da70f7844a709d902a489e20be6a",
              "IPY_MODEL_abf3fc9db0dd4d68adb5a5d71b205322"
            ]
          }
        },
        "da8f8568fea1477a85440ea0abdd48c9": {
          "model_module": "@jupyter-widgets/base",
          "model_name": "LayoutModel",
          "state": {
            "_view_name": "LayoutView",
            "grid_template_rows": null,
            "right": null,
            "justify_content": null,
            "_view_module": "@jupyter-widgets/base",
            "overflow": null,
            "_model_module_version": "1.2.0",
            "_view_count": null,
            "flex_flow": null,
            "width": null,
            "min_width": null,
            "border": null,
            "align_items": null,
            "bottom": null,
            "_model_module": "@jupyter-widgets/base",
            "top": null,
            "grid_column": null,
            "overflow_y": null,
            "overflow_x": null,
            "grid_auto_flow": null,
            "grid_area": null,
            "grid_template_columns": null,
            "flex": null,
            "_model_name": "LayoutModel",
            "justify_items": null,
            "grid_row": null,
            "max_height": null,
            "align_content": null,
            "visibility": null,
            "align_self": null,
            "height": null,
            "min_height": null,
            "padding": null,
            "grid_auto_rows": null,
            "grid_gap": null,
            "max_width": null,
            "order": null,
            "_view_module_version": "1.2.0",
            "grid_template_areas": null,
            "object_position": null,
            "object_fit": null,
            "grid_auto_columns": null,
            "margin": null,
            "display": null,
            "left": null
          }
        },
        "e296da70f7844a709d902a489e20be6a": {
          "model_module": "@jupyter-widgets/controls",
          "model_name": "FloatProgressModel",
          "state": {
            "_view_name": "ProgressView",
            "style": "IPY_MODEL_d0588d792f9f4d7da9c8c88e0286f11e",
            "_dom_classes": [],
            "description": "",
            "_model_name": "FloatProgressModel",
            "bar_style": "success",
            "max": 1,
            "_view_module": "@jupyter-widgets/controls",
            "_model_module_version": "1.5.0",
            "value": 1,
            "_view_count": null,
            "_view_module_version": "1.5.0",
            "orientation": "horizontal",
            "min": 0,
            "description_tooltip": null,
            "_model_module": "@jupyter-widgets/controls",
            "layout": "IPY_MODEL_5620b2d69bfa4b82bf3cb4f8a24d8131"
          }
        },
        "abf3fc9db0dd4d68adb5a5d71b205322": {
          "model_module": "@jupyter-widgets/controls",
          "model_name": "HTMLModel",
          "state": {
            "_view_name": "HTMLView",
            "style": "IPY_MODEL_86dcee0b7bb349ddbf5b84bf42bb6834",
            "_dom_classes": [],
            "description": "",
            "_model_name": "HTMLModel",
            "placeholder": "​",
            "_view_module": "@jupyter-widgets/controls",
            "_model_module_version": "1.5.0",
            "value": " 3/? [00:00&lt;00:00, 16.82it/s]",
            "_view_count": null,
            "_view_module_version": "1.5.0",
            "description_tooltip": null,
            "_model_module": "@jupyter-widgets/controls",
            "layout": "IPY_MODEL_9941937685914cb6969c30c3784e629e"
          }
        },
        "d0588d792f9f4d7da9c8c88e0286f11e": {
          "model_module": "@jupyter-widgets/controls",
          "model_name": "ProgressStyleModel",
          "state": {
            "_view_name": "StyleView",
            "_model_name": "ProgressStyleModel",
            "description_width": "initial",
            "_view_module": "@jupyter-widgets/base",
            "_model_module_version": "1.5.0",
            "_view_count": null,
            "_view_module_version": "1.2.0",
            "bar_color": null,
            "_model_module": "@jupyter-widgets/controls"
          }
        },
        "5620b2d69bfa4b82bf3cb4f8a24d8131": {
          "model_module": "@jupyter-widgets/base",
          "model_name": "LayoutModel",
          "state": {
            "_view_name": "LayoutView",
            "grid_template_rows": null,
            "right": null,
            "justify_content": null,
            "_view_module": "@jupyter-widgets/base",
            "overflow": null,
            "_model_module_version": "1.2.0",
            "_view_count": null,
            "flex_flow": null,
            "width": null,
            "min_width": null,
            "border": null,
            "align_items": null,
            "bottom": null,
            "_model_module": "@jupyter-widgets/base",
            "top": null,
            "grid_column": null,
            "overflow_y": null,
            "overflow_x": null,
            "grid_auto_flow": null,
            "grid_area": null,
            "grid_template_columns": null,
            "flex": null,
            "_model_name": "LayoutModel",
            "justify_items": null,
            "grid_row": null,
            "max_height": null,
            "align_content": null,
            "visibility": null,
            "align_self": null,
            "height": null,
            "min_height": null,
            "padding": null,
            "grid_auto_rows": null,
            "grid_gap": null,
            "max_width": null,
            "order": null,
            "_view_module_version": "1.2.0",
            "grid_template_areas": null,
            "object_position": null,
            "object_fit": null,
            "grid_auto_columns": null,
            "margin": null,
            "display": null,
            "left": null
          }
        },
        "86dcee0b7bb349ddbf5b84bf42bb6834": {
          "model_module": "@jupyter-widgets/controls",
          "model_name": "DescriptionStyleModel",
          "state": {
            "_view_name": "StyleView",
            "_model_name": "DescriptionStyleModel",
            "description_width": "",
            "_view_module": "@jupyter-widgets/base",
            "_model_module_version": "1.5.0",
            "_view_count": null,
            "_view_module_version": "1.2.0",
            "_model_module": "@jupyter-widgets/controls"
          }
        },
        "9941937685914cb6969c30c3784e629e": {
          "model_module": "@jupyter-widgets/base",
          "model_name": "LayoutModel",
          "state": {
            "_view_name": "LayoutView",
            "grid_template_rows": null,
            "right": null,
            "justify_content": null,
            "_view_module": "@jupyter-widgets/base",
            "overflow": null,
            "_model_module_version": "1.2.0",
            "_view_count": null,
            "flex_flow": null,
            "width": null,
            "min_width": null,
            "border": null,
            "align_items": null,
            "bottom": null,
            "_model_module": "@jupyter-widgets/base",
            "top": null,
            "grid_column": null,
            "overflow_y": null,
            "overflow_x": null,
            "grid_auto_flow": null,
            "grid_area": null,
            "grid_template_columns": null,
            "flex": null,
            "_model_name": "LayoutModel",
            "justify_items": null,
            "grid_row": null,
            "max_height": null,
            "align_content": null,
            "visibility": null,
            "align_self": null,
            "height": null,
            "min_height": null,
            "padding": null,
            "grid_auto_rows": null,
            "grid_gap": null,
            "max_width": null,
            "order": null,
            "_view_module_version": "1.2.0",
            "grid_template_areas": null,
            "object_position": null,
            "object_fit": null,
            "grid_auto_columns": null,
            "margin": null,
            "display": null,
            "left": null
          }
        }
      }
    }
  },
  "cells": [
    {
      "cell_type": "markdown",
      "metadata": {
        "id": "view-in-github",
        "colab_type": "text"
      },
      "source": [
        "<a href=\"https://colab.research.google.com/github/pragmalingu/experiments/blob/master/02_Embeddings/Experiment/Second_Experiment_BERT_Embeddings.ipynb\" target=\"_parent\"><img src=\"https://colab.research.google.com/assets/colab-badge.svg\" alt=\"Open In Colab\"/></a>"
      ]
    },
    {
      "cell_type": "markdown",
      "metadata": {
        "id": "n93d8RqwhKXs"
      },
      "source": [
        "# Second Experiment\n",
        "\n"
      ]
    },
    {
      "cell_type": "markdown",
      "metadata": {
        "id": "tApgxGG-lbTG"
      },
      "source": [
        "For our second experiment we connect the Notebook to an Elasticsearch instance and compare a standard Elasticsearch operator with Embeddings we get from BERT (Bi-Directional Encoder Representation from Transformer). The Embeddings are indexed built-in stemming methods: 'Stemmer Token Filter' and 'Hunspell Token Filter'. \n",
        "(To read details about this experiment visit our [website](https://pragmalingu.de/docs/experiments/experiment1))"
      ]
    },
    {
      "cell_type": "markdown",
      "metadata": {
        "id": "_Un-oDrHnDui"
      },
      "source": [
        "## Setup an Elasticsearch Instance in Google Colab"
      ]
    },
    {
      "cell_type": "markdown",
      "metadata": {
        "id": "wQiAH-sinDum"
      },
      "source": [
        "Everthing to connect to Elasticsearch, for detailed explaination see [this Notebook.](https://)\n",
        "Download:"
      ]
    },
    {
      "cell_type": "code",
      "metadata": {
        "id": "XdccmnTUnDup"
      },
      "source": [
        "import os\n",
        "from subprocess import Popen, PIPE, STDOUT\n",
        "# download elasticsearch\n",
        "!wget https://artifacts.elastic.co/downloads/elasticsearch/elasticsearch-7.9.1-linux-x86_64.tar.gz -q\n",
        "!tar -xzf elasticsearch-7.9.1-linux-x86_64.tar.gz\n",
        "!chown -R daemon:daemon elasticsearch-7.9.1\n"
      ],
      "execution_count": 1,
      "outputs": []
    },
    {
      "cell_type": "markdown",
      "metadata": {
        "id": "bxgS1p4_-zun"
      },
      "source": [
        "Start a local server:"
      ]
    },
    {
      "cell_type": "code",
      "metadata": {
        "id": "H9HrpRBGsg9y",
        "colab": {
          "base_uri": "https://localhost:8080/"
        },
        "outputId": "f3be8dca-f020-4612-c521-48701128a627"
      },
      "source": [
        "# start server\n",
        "es_server = Popen(['elasticsearch-7.9.1/bin/elasticsearch'], \n",
        "                  stdout=PIPE, stderr=STDOUT,\n",
        "                  preexec_fn=lambda: os.setuid(1)  # as daemon\n",
        "                 )\n",
        "# client-side\n",
        "!pip install elasticsearch -q\n",
        "from elasticsearch import Elasticsearch\n",
        "from datetime import datetime\n",
        "es = Elasticsearch([\"localhost:9200/\"])\n",
        "#wait a bit\n",
        "import time\n",
        "time.sleep(30)\n",
        "es.ping()  # got True"
      ],
      "execution_count": 2,
      "outputs": [
        {
          "output_type": "stream",
          "text": [
            "\u001b[?25l\r\u001b[K     |█                               | 10kB 19.5MB/s eta 0:00:01\r\u001b[K     |██                              | 20kB 23.0MB/s eta 0:00:01\r\u001b[K     |███                             | 30kB 13.5MB/s eta 0:00:01\r\u001b[K     |████                            | 40kB 11.0MB/s eta 0:00:01\r\u001b[K     |█████                           | 51kB 11.2MB/s eta 0:00:01\r\u001b[K     |█████▉                          | 61kB 10.3MB/s eta 0:00:01\r\u001b[K     |██████▉                         | 71kB 8.8MB/s eta 0:00:01\r\u001b[K     |███████▉                        | 81kB 8.0MB/s eta 0:00:01\r\u001b[K     |████████▉                       | 92kB 8.7MB/s eta 0:00:01\r\u001b[K     |█████████▉                      | 102kB 8.9MB/s eta 0:00:01\r\u001b[K     |██████████▊                     | 112kB 8.9MB/s eta 0:00:01\r\u001b[K     |███████████▊                    | 122kB 8.9MB/s eta 0:00:01\r\u001b[K     |████████████▊                   | 133kB 8.9MB/s eta 0:00:01\r\u001b[K     |█████████████▊                  | 143kB 8.9MB/s eta 0:00:01\r\u001b[K     |██████████████▊                 | 153kB 8.9MB/s eta 0:00:01\r\u001b[K     |███████████████▊                | 163kB 8.9MB/s eta 0:00:01\r\u001b[K     |████████████████▋               | 174kB 8.9MB/s eta 0:00:01\r\u001b[K     |█████████████████▋              | 184kB 8.9MB/s eta 0:00:01\r\u001b[K     |██████████████████▋             | 194kB 8.9MB/s eta 0:00:01\r\u001b[K     |███████████████████▋            | 204kB 8.9MB/s eta 0:00:01\r\u001b[K     |████████████████████▋           | 215kB 8.9MB/s eta 0:00:01\r\u001b[K     |█████████████████████▌          | 225kB 8.9MB/s eta 0:00:01\r\u001b[K     |██████████████████████▌         | 235kB 8.9MB/s eta 0:00:01\r\u001b[K     |███████████████████████▌        | 245kB 8.9MB/s eta 0:00:01\r\u001b[K     |████████████████████████▌       | 256kB 8.9MB/s eta 0:00:01\r\u001b[K     |█████████████████████████▌      | 266kB 8.9MB/s eta 0:00:01\r\u001b[K     |██████████████████████████▍     | 276kB 8.9MB/s eta 0:00:01\r\u001b[K     |███████████████████████████▍    | 286kB 8.9MB/s eta 0:00:01\r\u001b[K     |████████████████████████████▍   | 296kB 8.9MB/s eta 0:00:01\r\u001b[K     |█████████████████████████████▍  | 307kB 8.9MB/s eta 0:00:01\r\u001b[K     |██████████████████████████████▍ | 317kB 8.9MB/s eta 0:00:01\r\u001b[K     |███████████████████████████████▍| 327kB 8.9MB/s eta 0:00:01\r\u001b[K     |████████████████████████████████| 337kB 8.9MB/s \n",
            "\u001b[?25h"
          ],
          "name": "stdout"
        },
        {
          "output_type": "execute_result",
          "data": {
            "text/plain": [
              "True"
            ]
          },
          "metadata": {
            "tags": []
          },
          "execution_count": 2
        }
      ]
    },
    {
      "cell_type": "code",
      "metadata": {
        "id": "jW1d1vUw_Bjb",
        "colab": {
          "base_uri": "https://localhost:8080/"
        },
        "outputId": "dc45a62d-244b-4513-d500-44adf3c3da91"
      },
      "source": [
        "#print new index list\n",
        "create_response = es.cat.indices()\n",
        "print(create_response)"
      ],
      "execution_count": 3,
      "outputs": [
        {
          "output_type": "stream",
          "text": [
            "\n"
          ],
          "name": "stdout"
        }
      ]
    },
    {
      "cell_type": "markdown",
      "metadata": {
        "id": "OXr3XUJ8Lg22"
      },
      "source": [
        "## Download and intializie pretrained BERT model\n",
        "\n",
        "### Bi-Directional Encoder Representation from Transformer (BERT)\n",
        "\n",
        "BERT is an approach of using large pretrained neural networks with some exceptional solutions to get the vectors from texts, which we can use with some similarity metrics like cosine similarity to compare meaning of these texts.\n",
        "\n",
        "(By the way these networks are frequently used as a backbone or part of ensemble of models to solve some NLP tasks like Question Answering, Ranking, Named Entitity Recognition, etc.)\n",
        "\n",
        "[\"I'm brave enough to read the paper on BERT\"](https://arxiv.org/abs/1810.04805)\n",
        "\n",
        "\n",
        "### How do we plan to use it?\n",
        "\n",
        " - get embeddings(vector representations) from documents using BERT\n",
        " - index them using knn algorithm included in ElasticSearch\n",
        " - get embeddings from queries(there're relevance labels of pairs query-document) using BERT\n",
        " - use relevance labels and ranking API from ElasticSearch to calculate metrics and compare it with classical approaches"
      ]
    },
    {
      "cell_type": "markdown",
      "metadata": {
        "id": "8rWL3C3BLMAR"
      },
      "source": [
        "### Basic Demonstration"
      ]
    },
    {
      "cell_type": "markdown",
      "metadata": {
        "id": "rw5jUcEpBvrO"
      },
      "source": [
        "**Download pretrained BERT model**"
      ]
    },
    {
      "cell_type": "code",
      "metadata": {
        "id": "8_8fy6OMLfxt",
        "colab": {
          "base_uri": "https://localhost:8080/",
          "height": 882,
          "referenced_widgets": [
            "4ef99fd1cb804bc5bac5652299144243",
            "971bb0659fb542e9903da221344b1637",
            "d9d5cd50a5b04fda9259820dadee3f09",
            "6f44cdae565a4969ab62f439469fe96f",
            "9b896e86c72a4bc7aa1c07835f7a6365",
            "210bfa48fdc2486fa01f665e93dec74c",
            "8fcb2445963342479746e96ef34683e8",
            "4b69f4cd32f943849e5462462faa54ef"
          ]
        },
        "outputId": "7be7053e-6895-41ab-e794-9c38390d4d4c"
      },
      "source": [
        "!pip install -U sentence-transformers\n",
        "\n",
        "from sentence_transformers import SentenceTransformer\n",
        "import torch\n",
        "from tqdm import tqdm_notebook\n",
        "\n",
        "model = SentenceTransformer('bert-base-nli-mean-tokens')\n",
        "\n",
        "# using gpu to boost inference if it's possible\n",
        "if torch.cuda.is_available():\n",
        "  model.to('cuda')\n",
        "\n",
        "print('Max Sequence Length:', model.max_seq_length)\n",
        "\n",
        "#Change the length to max possible length (based on gpu memory)\n",
        "model.max_seq_length = 364\n",
        "\n",
        "print('Max Sequence Length:', model.max_seq_length)"
      ],
      "execution_count": 4,
      "outputs": [
        {
          "output_type": "stream",
          "text": [
            "Collecting sentence-transformers\n",
            "\u001b[?25l  Downloading https://files.pythonhosted.org/packages/35/aa/f672ce489063c4ee7a566ebac1b723c53ac0cea19d9e36599cc241d8ed56/sentence-transformers-1.0.4.tar.gz (74kB)\n",
            "\u001b[K     |████████████████████████████████| 81kB 7.4MB/s \n",
            "\u001b[?25hCollecting transformers<5.0.0,>=3.1.0\n",
            "\u001b[?25l  Downloading https://files.pythonhosted.org/packages/d8/b2/57495b5309f09fa501866e225c84532d1fd89536ea62406b2181933fb418/transformers-4.5.1-py3-none-any.whl (2.1MB)\n",
            "\u001b[K     |████████████████████████████████| 2.1MB 11.1MB/s \n",
            "\u001b[?25hRequirement already satisfied, skipping upgrade: tqdm in /usr/local/lib/python3.7/dist-packages (from sentence-transformers) (4.41.1)\n",
            "Requirement already satisfied, skipping upgrade: torch>=1.6.0 in /usr/local/lib/python3.7/dist-packages (from sentence-transformers) (1.8.1+cu101)\n",
            "Requirement already satisfied, skipping upgrade: numpy in /usr/local/lib/python3.7/dist-packages (from sentence-transformers) (1.19.5)\n",
            "Requirement already satisfied, skipping upgrade: scikit-learn in /usr/local/lib/python3.7/dist-packages (from sentence-transformers) (0.22.2.post1)\n",
            "Requirement already satisfied, skipping upgrade: scipy in /usr/local/lib/python3.7/dist-packages (from sentence-transformers) (1.4.1)\n",
            "Requirement already satisfied, skipping upgrade: nltk in /usr/local/lib/python3.7/dist-packages (from sentence-transformers) (3.2.5)\n",
            "Collecting sentencepiece\n",
            "\u001b[?25l  Downloading https://files.pythonhosted.org/packages/f5/99/e0808cb947ba10f575839c43e8fafc9cc44e4a7a2c8f79c60db48220a577/sentencepiece-0.1.95-cp37-cp37m-manylinux2014_x86_64.whl (1.2MB)\n",
            "\u001b[K     |████████████████████████████████| 1.2MB 58.2MB/s \n",
            "\u001b[?25hCollecting tokenizers<0.11,>=0.10.1\n",
            "\u001b[?25l  Downloading https://files.pythonhosted.org/packages/ae/04/5b870f26a858552025a62f1649c20d29d2672c02ff3c3fb4c688ca46467a/tokenizers-0.10.2-cp37-cp37m-manylinux2010_x86_64.whl (3.3MB)\n",
            "\u001b[K     |████████████████████████████████| 3.3MB 59.8MB/s \n",
            "\u001b[?25hRequirement already satisfied, skipping upgrade: packaging in /usr/local/lib/python3.7/dist-packages (from transformers<5.0.0,>=3.1.0->sentence-transformers) (20.9)\n",
            "Requirement already satisfied, skipping upgrade: filelock in /usr/local/lib/python3.7/dist-packages (from transformers<5.0.0,>=3.1.0->sentence-transformers) (3.0.12)\n",
            "Collecting sacremoses\n",
            "\u001b[?25l  Downloading https://files.pythonhosted.org/packages/75/ee/67241dc87f266093c533a2d4d3d69438e57d7a90abb216fa076e7d475d4a/sacremoses-0.0.45-py3-none-any.whl (895kB)\n",
            "\u001b[K     |████████████████████████████████| 901kB 58.1MB/s \n",
            "\u001b[?25hRequirement already satisfied, skipping upgrade: importlib-metadata; python_version < \"3.8\" in /usr/local/lib/python3.7/dist-packages (from transformers<5.0.0,>=3.1.0->sentence-transformers) (3.10.1)\n",
            "Requirement already satisfied, skipping upgrade: requests in /usr/local/lib/python3.7/dist-packages (from transformers<5.0.0,>=3.1.0->sentence-transformers) (2.23.0)\n",
            "Requirement already satisfied, skipping upgrade: regex!=2019.12.17 in /usr/local/lib/python3.7/dist-packages (from transformers<5.0.0,>=3.1.0->sentence-transformers) (2019.12.20)\n",
            "Requirement already satisfied, skipping upgrade: typing-extensions in /usr/local/lib/python3.7/dist-packages (from torch>=1.6.0->sentence-transformers) (3.7.4.3)\n",
            "Requirement already satisfied, skipping upgrade: joblib>=0.11 in /usr/local/lib/python3.7/dist-packages (from scikit-learn->sentence-transformers) (1.0.1)\n",
            "Requirement already satisfied, skipping upgrade: six in /usr/local/lib/python3.7/dist-packages (from nltk->sentence-transformers) (1.15.0)\n",
            "Requirement already satisfied, skipping upgrade: pyparsing>=2.0.2 in /usr/local/lib/python3.7/dist-packages (from packaging->transformers<5.0.0,>=3.1.0->sentence-transformers) (2.4.7)\n",
            "Requirement already satisfied, skipping upgrade: click in /usr/local/lib/python3.7/dist-packages (from sacremoses->transformers<5.0.0,>=3.1.0->sentence-transformers) (7.1.2)\n",
            "Requirement already satisfied, skipping upgrade: zipp>=0.5 in /usr/local/lib/python3.7/dist-packages (from importlib-metadata; python_version < \"3.8\"->transformers<5.0.0,>=3.1.0->sentence-transformers) (3.4.1)\n",
            "Requirement already satisfied, skipping upgrade: certifi>=2017.4.17 in /usr/local/lib/python3.7/dist-packages (from requests->transformers<5.0.0,>=3.1.0->sentence-transformers) (2020.12.5)\n",
            "Requirement already satisfied, skipping upgrade: urllib3!=1.25.0,!=1.25.1,<1.26,>=1.21.1 in /usr/local/lib/python3.7/dist-packages (from requests->transformers<5.0.0,>=3.1.0->sentence-transformers) (1.24.3)\n",
            "Requirement already satisfied, skipping upgrade: chardet<4,>=3.0.2 in /usr/local/lib/python3.7/dist-packages (from requests->transformers<5.0.0,>=3.1.0->sentence-transformers) (3.0.4)\n",
            "Requirement already satisfied, skipping upgrade: idna<3,>=2.5 in /usr/local/lib/python3.7/dist-packages (from requests->transformers<5.0.0,>=3.1.0->sentence-transformers) (2.10)\n",
            "Building wheels for collected packages: sentence-transformers\n",
            "  Building wheel for sentence-transformers (setup.py) ... \u001b[?25l\u001b[?25hdone\n",
            "  Created wheel for sentence-transformers: filename=sentence_transformers-1.0.4-cp37-none-any.whl size=114307 sha256=496c53b8da3f33502f0cc92b8c9089e717f7412df69b0d370c362daa776f604e\n",
            "  Stored in directory: /root/.cache/pip/wheels/26/ea/89/d0d2e013d951b6d23270aa9ca4018b82632ab7cd933c331316\n",
            "Successfully built sentence-transformers\n",
            "Installing collected packages: tokenizers, sacremoses, transformers, sentencepiece, sentence-transformers\n",
            "Successfully installed sacremoses-0.0.45 sentence-transformers-1.0.4 sentencepiece-0.1.95 tokenizers-0.10.2 transformers-4.5.1\n"
          ],
          "name": "stdout"
        },
        {
          "output_type": "display_data",
          "data": {
            "application/vnd.jupyter.widget-view+json": {
              "model_id": "4ef99fd1cb804bc5bac5652299144243",
              "version_minor": 0,
              "version_major": 2
            },
            "text/plain": [
              "HBox(children=(FloatProgress(value=0.0, max=405234788.0), HTML(value='')))"
            ]
          },
          "metadata": {
            "tags": []
          }
        },
        {
          "output_type": "stream",
          "text": [
            "\n",
            "Max Sequence Length: 128\n",
            "Max Sequence Length: 364\n"
          ],
          "name": "stdout"
        }
      ]
    },
    {
      "cell_type": "code",
      "metadata": {
        "id": "9NaRtlXTLquq"
      },
      "source": [
        "sentences = ['This framework generates embeddings for each input sentence',\n",
        "    'Sentences are passed as a list of string.', \n",
        "    'The quick brown fox jumps over the lazy dog.']\n",
        "sentence_embeddings = model.encode(sentences)"
      ],
      "execution_count": 5,
      "outputs": []
    },
    {
      "cell_type": "code",
      "metadata": {
        "id": "Ox97uYV9LrHw",
        "outputId": "bfe2a7f8-103b-49ab-c5b6-6c30b7a61acd",
        "colab": {
          "base_uri": "https://localhost:8080/"
        }
      },
      "source": [
        "for sentence, embedding in zip(sentences, sentence_embeddings):\n",
        "    print('Sentence:', sentence)\n",
        "    print('Embedding:', list(embedding[:5]) + ['...'])\n",
        "    print('Embedding\\'s length:', len(embedding))\n",
        "    print('')"
      ],
      "execution_count": 6,
      "outputs": [
        {
          "output_type": "stream",
          "text": [
            "Sentence: This framework generates embeddings for each input sentence\n",
            "Embedding: [-0.1040944, 0.52747667, 1.1797732, 0.1943658, 0.1591138, '...']\n",
            "Embedding's length: 768\n",
            "\n",
            "Sentence: Sentences are passed as a list of string.\n",
            "Embedding: [-0.13118415, -0.17390333, 1.1052188, 0.24854188, 0.041000847, '...']\n",
            "Embedding's length: 768\n",
            "\n",
            "Sentence: The quick brown fox jumps over the lazy dog.\n",
            "Embedding: [-0.74899274, 0.718918, -1.0394568, 0.064087875, 0.05070464, '...']\n",
            "Embedding's length: 768\n",
            "\n"
          ],
          "name": "stdout"
        }
      ]
    },
    {
      "cell_type": "markdown",
      "metadata": {
        "id": "73o0IvM0p0YW"
      },
      "source": [
        "**Indexing**"
      ]
    },
    {
      "cell_type": "code",
      "metadata": {
        "id": "fK_Vw4dENIfX",
        "colab": {
          "base_uri": "https://localhost:8080/"
        },
        "outputId": "03ee2ecb-72eb-460c-9527-d1ab2114aff0"
      },
      "source": [
        "settings = {\n",
        "  \"mappings\": {\n",
        "    \"properties\": {\n",
        "      \"bert_vector\": {\n",
        "         \"type\": \"dense_vector\",\n",
        "        \"dims\": 768\n",
        "      }\n",
        "    }\n",
        "  }\n",
        "}\n",
        "\n",
        "\n",
        "#create index, see https://elasticsearch-py.readthedocs.io/en/master/api.html#elasticsearch.client.IndicesClient.create\n",
        "toy_index = \"bert-toy_index\"\n",
        "es.indices.delete(index=toy_index, ignore=[400, 404])\n",
        "es.indices.create(toy_index, body=settings)"
      ],
      "execution_count": 56,
      "outputs": [
        {
          "output_type": "execute_result",
          "data": {
            "text/plain": [
              "{'acknowledged': True, 'index': 'bert-toy_index', 'shards_acknowledged': True}"
            ]
          },
          "metadata": {
            "tags": []
          },
          "execution_count": 56
        }
      ]
    },
    {
      "cell_type": "code",
      "metadata": {
        "id": "i9N6DKfjNI6M",
        "colab": {
          "base_uri": "https://localhost:8080/",
          "height": 120,
          "referenced_widgets": [
            "68f4df10cf7d4bb489d4f6bf7cc800f1",
            "da8f8568fea1477a85440ea0abdd48c9",
            "e296da70f7844a709d902a489e20be6a",
            "abf3fc9db0dd4d68adb5a5d71b205322",
            "d0588d792f9f4d7da9c8c88e0286f11e",
            "5620b2d69bfa4b82bf3cb4f8a24d8131",
            "86dcee0b7bb349ddbf5b84bf42bb6834",
            "9941937685914cb6969c30c3784e629e"
          ]
        },
        "outputId": "017b7e50-372a-4c1d-ef78-5805b9563110"
      },
      "source": [
        "from tqdm import tqdm_notebook\n",
        "\n",
        "model.eval()\n",
        "\n",
        "for i, sentence in tqdm_notebook(enumerate(sentences)):\n",
        "  with torch.no_grad():\n",
        "    if torch.cuda.is_available():\n",
        "      torch.cuda.ipc_collect()\n",
        "      torch.cuda.empty_cache()\n",
        "    es.index(\n",
        "      index=toy_index, \n",
        "      id=i, \n",
        "      body={\n",
        "          'bert_vector': model.encode(sentence),\n",
        "          'text': sentence\n",
        "          }\n",
        "    )"
      ],
      "execution_count": 57,
      "outputs": [
        {
          "output_type": "stream",
          "text": [
            "/usr/local/lib/python3.7/dist-packages/ipykernel_launcher.py:5: TqdmDeprecationWarning: This function will be removed in tqdm==5.0.0\n",
            "Please use `tqdm.notebook.tqdm` instead of `tqdm.tqdm_notebook`\n",
            "  \"\"\"\n"
          ],
          "name": "stderr"
        },
        {
          "output_type": "display_data",
          "data": {
            "application/vnd.jupyter.widget-view+json": {
              "model_id": "68f4df10cf7d4bb489d4f6bf7cc800f1",
              "version_minor": 0,
              "version_major": 2
            },
            "text/plain": [
              "HBox(children=(FloatProgress(value=1.0, bar_style='info', max=1.0), HTML(value='')))"
            ]
          },
          "metadata": {
            "tags": []
          }
        },
        {
          "output_type": "stream",
          "text": [
            "\n"
          ],
          "name": "stdout"
        }
      ]
    },
    {
      "cell_type": "markdown",
      "metadata": {
        "id": "qnZ63B7fpyKm"
      },
      "source": [
        "**Searching**"
      ]
    },
    {
      "cell_type": "code",
      "metadata": {
        "id": "dIPjcEezP1Kb",
        "colab": {
          "base_uri": "https://localhost:8080/"
        },
        "outputId": "b62fb0ed-18ec-4b7f-8ac2-9d4303baedab"
      },
      "source": [
        "test_str = \"Where is the fox?\"\n",
        "\n",
        "#test query knn-search\n",
        "res = es.search(\n",
        "    index=\"bert-toy_index\", \n",
        "    body={\n",
        "        \"query\" : {\n",
        "            \"script_score\": {\n",
        "                \"query\": {\"match_all\": {}},\n",
        "                \"script\": {\n",
        "                    \"source\": \"cosineSimilarity(params.query_vector, doc['bert_vector']) + 1.0\",\n",
        "                    \"params\": {\"query_vector\": list(model.encode(test_str).astype(float))}\n",
        "                                                   }}}})\n",
        "\n",
        "\n",
        "print(\"Got %d Hits:\\n\\n\" % res['hits']['total']['value'])\n",
        "for hit in res['hits']['hits']:\n",
        "  print(f\"Cosine similarity score: {hit['_score']}  \\nid: {hit['_id']}\\ntext: {hit['_source']['text']}\\n\\n\")\n"
      ],
      "execution_count": 66,
      "outputs": [
        {
          "output_type": "stream",
          "text": [
            "Got 3 Hits:\n",
            "\n",
            "\n",
            "Cosine similarity score: 1.4243826  \n",
            "id: 2\n",
            "text: The quick brown fox jumps over the lazy dog.\n",
            "\n",
            "\n",
            "Cosine similarity score: 1.1635183  \n",
            "id: 0\n",
            "text: This framework generates embeddings for each input sentence\n",
            "\n",
            "\n",
            "Cosine similarity score: 1.14712  \n",
            "id: 1\n",
            "text: Sentences are passed as a list of string.\n",
            "\n",
            "\n"
          ],
          "name": "stdout"
        },
        {
          "output_type": "stream",
          "text": [
            "/usr/local/lib/python3.7/dist-packages/elasticsearch/connection/base.py:200: ElasticsearchWarning: The vector functions of the form function(query, doc['field']) are deprecated, and the form function(query, 'field') should be used instead. For example, cosineSimilarity(query, doc['field']) is replaced by cosineSimilarity(query, 'field').\n",
            "  warnings.warn(message, category=ElasticsearchWarning)\n"
          ],
          "name": "stderr"
        }
      ]
    },
    {
      "cell_type": "code",
      "metadata": {
        "id": "YM_4F8AfhCh2",
        "colab": {
          "base_uri": "https://localhost:8080/"
        },
        "outputId": "0167b712-e422-4d0c-c6c7-b4e8cd21b0cf"
      },
      "source": [
        "# Deleting index \n",
        "es.indices.delete(index=toy_index, ignore=[400, 404])"
      ],
      "execution_count": 67,
      "outputs": [
        {
          "output_type": "execute_result",
          "data": {
            "text/plain": [
              "{'acknowledged': True}"
            ]
          },
          "metadata": {
            "tags": []
          },
          "execution_count": 67
        }
      ]
    },
    {
      "cell_type": "markdown",
      "metadata": {
        "id": "RQX8W6VepxxT"
      },
      "source": [
        "## Parse Data\n",
        "\n",
        "Get different corpora, format them and feed them to elasticsearch"
      ]
    },
    {
      "cell_type": "markdown",
      "metadata": {
        "id": "SIXjztjXSYnx"
      },
      "source": [
        "### ADI Corpus"
      ]
    },
    {
      "cell_type": "markdown",
      "metadata": {
        "id": "DGpEnztyYttx"
      },
      "source": [
        "You can get the corpus from [this link](http://ir.dcs.gla.ac.uk/resources/test_collections/adi/).  <br>\n",
        "For detailed information about the parsing of this corpus look at [ this Notebook](https://colab.research.google.com/github/pragmalingu/private_experiments/blob/adi_corpus/ADICorpus.ipynb) or for parsing in generel read [this guide](https://)."
      ]
    },
    {
      "cell_type": "markdown",
      "metadata": {
        "id": "TbXadfCKYxHx"
      },
      "source": [
        "**Parsing**"
      ]
    },
    {
      "cell_type": "code",
      "metadata": {
        "id": "cMSPDRFyShav",
        "colab": {
          "base_uri": "https://localhost:8080/"
        },
        "outputId": "4702ec77-542c-4cb6-cc7c-13c25537d173"
      },
      "source": [
        "# download and unzip data\n",
        "!wget http://ir.dcs.gla.ac.uk/resources/test_collections/adi/adi.tar.gz\n",
        "!tar -xf adi.tar.gz\n",
        "\n",
        "# set paths to the dowloaded data as variables\n",
        "PATH_TO_ADI_TXT = '/content/ADI.ALL'\n",
        "PATH_TO_ADI_QRY = '/content/ADI.QRY'\n",
        "PATH_TO_ADI_REL = '/content/ADI.REL'\n",
        "\n",
        "from collections import defaultdict\n",
        "import re\n",
        "import json\n",
        "from io import StringIO\n",
        "import numpy as np\n",
        "\n",
        "\n",
        "# get the text and query files\n",
        "\n",
        "ID_marker = re.compile('\\.I')\n",
        "\n",
        "def get_data(PATH_TO_FILE, marker):\n",
        "  \"\"\"\n",
        "  Reads file and spilts text into entries at the ID marker '.I'.\n",
        "  First entry is empty, so it's removed.\n",
        "  'marker' contains the regex at which we want to split\n",
        "  \"\"\"\n",
        "  with open (PATH_TO_FILE,'r') as f:\n",
        "    text = f.read().replace('\\n',\" \")\n",
        "    lines = re.split(marker,text)\n",
        "    lines.pop(0)\n",
        "  return lines\n",
        "\n",
        "adi_txt_list = get_data(PATH_TO_ADI_TXT, ID_marker)\n",
        "adi_qry_list = get_data(PATH_TO_ADI_QRY, ID_marker)\n",
        "\n",
        "# process text file\n",
        "\n",
        "adi_title_start = re.compile('\\.T')\n",
        "adi_author_start = re.compile('\\.A')\n",
        "adi_text_start = re.compile('\\.W')\n",
        "\n",
        "adi_txt_data = defaultdict(dict)\n",
        "\n",
        "for line in adi_txt_list:\n",
        "  entries = re.split(adi_title_start,line,1)\n",
        "  id = entries[0].strip()\n",
        "  no_id = entries[1]\n",
        "  if len(re.split(adi_author_start, no_id,1)) > 1:\n",
        "    no_id_entries = re.split(adi_author_start, no_id,1)\n",
        "    adi_txt_data[id]['title'] = no_id_entries[0]\n",
        "    no_title = no_id_entries[1]\n",
        "    no_title_entries = re.split(adi_text_start, no_title)\n",
        "    adi_txt_data[id]['author'] = no_title_entries[0]\n",
        "    adi_txt_data[id]['text'] = no_title_entries[1]\n",
        "  else:\n",
        "    no_id_entries = re.split(adi_text_start, no_id)\n",
        "    adi_txt_data[id]['title'] = no_id_entries[0]\n",
        "    adi_txt_data[id]['text'] = no_id_entries[1]\n",
        "\n",
        "\n",
        "# process query file    \n",
        "\n",
        "qry_chunk_start = re.compile('\\.W')\n",
        "adi_qry_rel_data = defaultdict(dict)\n",
        "\n",
        "for n in range(0,len(adi_qry_list)):\n",
        "  line = adi_qry_list[n]\n",
        "  _ , question = re.split(qry_chunk_start,line)\n",
        "  adi_qry_rel_data[n+1]['question'] = question\n",
        "\n",
        "# process relevance assesment\n",
        "\n",
        "adi_rel_data = open(PATH_TO_ADI_REL)\n",
        "adi_np = np.loadtxt(adi_rel_data, dtype=float)\n",
        "\n",
        "adi_rel = defaultdict(list)\n",
        "for row in adi_np:\n",
        "  adi_rel[int(row[0])].append(int(row[1])) \n",
        "\n",
        "for id, rels in adi_rel.items():\n",
        "  adi_qry_rel_data[id]['relevance_assessments'] = rels\n",
        "\n",
        "# transform text to sentences for BERT text search\n",
        "\n",
        "import nltk\n",
        "from nltk import tokenize\n",
        "from nltk.tokenize import sent_tokenize\n",
        "nltk.download('punkt')\n",
        "\n",
        "def text_to_sentences(string):\n",
        "  sentences = tokenize.sent_tokenize(string)\n",
        "  return sentences\n",
        "\n",
        "for ID, doc in adi_txt_data.items():\n",
        "  text = adi_txt_data[ID]['text']\n",
        "  adi_txt_data[ID]['sentences'] = text_to_sentences(text)"
      ],
      "execution_count": 10,
      "outputs": [
        {
          "output_type": "stream",
          "text": [
            "--2021-04-19 15:26:06--  http://ir.dcs.gla.ac.uk/resources/test_collections/adi/adi.tar.gz\n",
            "Resolving ir.dcs.gla.ac.uk (ir.dcs.gla.ac.uk)... 130.209.240.253\n",
            "Connecting to ir.dcs.gla.ac.uk (ir.dcs.gla.ac.uk)|130.209.240.253|:80... connected.\n",
            "HTTP request sent, awaiting response... 200 OK\n",
            "Length: 17307 (17K) [application/gzip]\n",
            "Saving to: ‘adi.tar.gz’\n",
            "\n",
            "\radi.tar.gz            0%[                    ]       0  --.-KB/s               \radi.tar.gz          100%[===================>]  16.90K  --.-KB/s    in 0.02s   \n",
            "\n",
            "2021-04-19 15:26:06 (827 KB/s) - ‘adi.tar.gz’ saved [17307/17307]\n",
            "\n",
            "[nltk_data] Downloading package punkt to /root/nltk_data...\n",
            "[nltk_data]   Unzipping tokenizers/punkt.zip.\n"
          ],
          "name": "stdout"
        }
      ]
    },
    {
      "cell_type": "markdown",
      "metadata": {
        "id": "I1VXADwHZuij"
      },
      "source": [
        "**Indexing**"
      ]
    },
    {
      "cell_type": "code",
      "metadata": {
        "id": "jWA0rapwShiT",
        "colab": {
          "base_uri": "https://localhost:8080/"
        },
        "outputId": "e8403531-9075-4586-ae05-3eb8149540d4"
      },
      "source": [
        "# Elasticsearch settings, without using Opendistro\n",
        "# Every index has title, text and vectors to fill\n",
        "settings_nest = {\n",
        "  \"mappings\": {\n",
        "    \"properties\": {\n",
        "      \"text_vector\": {\n",
        "        \"type\": \"nested\",\n",
        "        \"properties\": {\n",
        "          \"vector\": {\n",
        "            \"type\": \"dense_vector\",\n",
        "            \"dims\": 768 \n",
        "          }\n",
        "        }\n",
        "      },\n",
        "     \"text\": {\n",
        "            \"type\" : \"text\"\n",
        "          },\n",
        "          \"title_vector\": {\n",
        "           \"type\": \"dense_vector\",\n",
        "           \"dims\": 768\n",
        "            },\n",
        "      \"title\": {\n",
        "              \"type\": \"text\"\n",
        "              },\n",
        "    }\n",
        "  }\n",
        "}\n",
        "\n",
        "\n",
        "#create index, see https://elasticsearch-py.readthedocs.io/en/master/api.html#elasticsearch.client.IndicesClient.create\n",
        "adi_index = \"adi-corpus\"\n",
        "es.indices.delete(index=adi_index, ignore=[400, 404])\n",
        "es.indices.create(adi_index)\n",
        "\n",
        "adi_index_sent = \"bert-sentence-adi-corpus\"\n",
        "es.indices.delete(index=adi_index_sent, ignore=[400, 404])\n",
        "es.indices.create(adi_index_sent, body=settings_nest)"
      ],
      "execution_count": 11,
      "outputs": [
        {
          "output_type": "execute_result",
          "data": {
            "text/plain": [
              "{'acknowledged': True,\n",
              " 'index': 'bert-sentence-adi-corpus',\n",
              " 'shards_acknowledged': True}"
            ]
          },
          "metadata": {
            "tags": []
          },
          "execution_count": 11
        }
      ]
    },
    {
      "cell_type": "code",
      "metadata": {
        "id": "ZaxpCqSDShgg",
        "colab": {
          "base_uri": "https://localhost:8080/"
        },
        "outputId": "39f3caab-84ab-4293-f383-fdf011f4e17f"
      },
      "source": [
        "for ID, doc_data in adi_txt_data.items():\n",
        "    # index for match query\n",
        "    es.index(index=adi_index, id=ID, body=doc_data)\n",
        "    # index for BERT search\n",
        "    es.index(\n",
        "      index=adi_index_sent, \n",
        "      id=ID, \n",
        "      body={\n",
        "          'text_vector': [{\"vector\": model.encode(text)} for text in adi_txt_data[ID]['sentences']],\n",
        "          'text': adi_txt_data[ID]['text'],\n",
        "          'title_vector': model.encode(adi_txt_data[ID]['title']),\n",
        "          'title': adi_txt_data[ID]['title'],\n",
        "          }\n",
        "    )\n",
        "\n",
        "#print new index list\n",
        "create_response = es.cat.indices()\n",
        "print(create_response)"
      ],
      "execution_count": 12,
      "outputs": [
        {
          "output_type": "stream",
          "text": [
            "yellow open adi-corpus               Ot6xtR1TQymD0mIshf_EmQ 1 1  72 0  13.5kb  13.5kb\n",
            "yellow open bert-sentence-adi-corpus PeiAvAgfSC6Sc-bgvOHQEg 1 1 267 0 567.4kb 567.4kb\n",
            "\n"
          ],
          "name": "stdout"
        }
      ]
    },
    {
      "cell_type": "markdown",
      "metadata": {
        "id": "RdZwKv7_SZFT"
      },
      "source": [
        "### CACM Corpus"
      ]
    },
    {
      "cell_type": "markdown",
      "metadata": {
        "id": "QB0t-8e0bHEb"
      },
      "source": [
        "You can get the corpus from [this link](http://ir.dcs.gla.ac.uk/resources/test_collections/cacm/).  <br>\n",
        "For detailed information about the format of the files, see the PragmaLingu [ Benchmarks](https://pragmalingu.de/docs/benchmarks/overview)"
      ]
    },
    {
      "cell_type": "markdown",
      "metadata": {
        "id": "Vr9n3mvAbGwx"
      },
      "source": [
        "**Parsing**"
      ]
    },
    {
      "cell_type": "code",
      "metadata": {
        "id": "wSONOisRSjTi",
        "colab": {
          "base_uri": "https://localhost:8080/"
        },
        "outputId": "8193614d-a3d9-43ea-fd0a-3aa0b902c9b6"
      },
      "source": [
        "# download and unzip data\n",
        "!wget http://ir.dcs.gla.ac.uk/resources/test_collections/cacm/cacm.tar.gz\n",
        "!tar -xf cacm.tar.gz\n",
        "\n",
        "# set paths to the dowloaded data as variablesDownload and unzip data.\n",
        "\n",
        "PATH_TO_CACM_TXT = '/content/cacm.all'\n",
        "PATH_TO_CACM_QRY = '/content/query.text'\n",
        "PATH_TO_CACM_REL = '/content/qrels.text'\n",
        "PATH_TO_CACM_COMMON_WORDS = '/content/common_words'\n",
        "\n",
        "from collections import defaultdict\n",
        "import re\n",
        "import json\n",
        "from io import StringIO\n",
        "import numpy as np\n",
        "\n",
        "# get the text and query files\n",
        "\n",
        "ID_marker = re.compile('^\\.I',re.MULTILINE)\n",
        "\n",
        "def get_data(PATH_TO_FILE, marker):\n",
        "  \"\"\"\n",
        "  Reads file and spilts text into entries at the ID marker '.I'.\n",
        "  First entry is empty, so it's removed.\n",
        "  'marker' contains the regex at which we want to split\n",
        "  \"\"\"\n",
        "  with open (PATH_TO_FILE,'r') as f:\n",
        "    text = f.read()\n",
        "    lines = re.split(marker,text)\n",
        "    lines.pop(0)\n",
        "  return lines\n",
        "\n",
        "cacm_txt_list = get_data(PATH_TO_CACM_TXT, ID_marker)\n",
        "cacm_qry_list = get_data(PATH_TO_CACM_QRY, ID_marker)\n",
        "\n",
        "# process text file\n",
        "cacm_chunk_title = re.compile('\\.[T]\\n')\n",
        "cacm_chunk_markers = re.compile('^\\.', re.MULTILINE)\n",
        "cacm_chunk_txt = re.compile('W\\n')\n",
        "cacm_chunk_pub = re.compile('B\\n')\n",
        "cacm_chunk_author =re.compile('A\\n')\n",
        "cacm_chunk_add = re.compile('N\\n')\n",
        "cacm_chunk_cross = re.compile('X\\n')\n",
        "\n",
        "cacm_txt_data = defaultdict(dict)\n",
        "\n",
        "for line in cacm_txt_list:\n",
        "    entries = re.split(cacm_chunk_title, line)\n",
        "    id = entries[0].strip()  # save id\n",
        "    no_id = entries[1]\n",
        "    list_of_entries = re.split(cacm_chunk_markers, no_id)\n",
        "    cacm_txt_data[id]['title'] = list_of_entries[0].strip()\n",
        "    for entry in list_of_entries:\n",
        "        if len(re.split(cacm_chunk_txt, entry)) == 2: # check for text\n",
        "            cacm_txt_data[id]['text'] = re.split(cacm_chunk_txt, entry)[1]\n",
        "        if len(re.split(cacm_chunk_pub, entry)) == 2: # check for publication date\n",
        "          cacm_txt_data[id]['publication_date'] = re.split(cacm_chunk_pub, entry)[1]\n",
        "        if len(re.split(cacm_chunk_author, entry)) == 2: # check for author\n",
        "            cacm_txt_data[id]['author'] = re.split(cacm_chunk_author, entry)[1]\n",
        "        if len(re.split(cacm_chunk_add, entry)) == 2: # check for additional date\n",
        "            cacm_txt_data[id]['add_date'] = re.split(cacm_chunk_add, entry)[1]\n",
        "        if len(re.split(cacm_chunk_cross, entry)) == 2:  # check for cross-references\n",
        "            cacm_txt_data[id]['cross-references'] = re.split(cacm_chunk_cross, entry)[1]\n",
        "\n",
        "# process the query data\n",
        "\n",
        "qry_chunk_start = re.compile('^\\.W\\n',re.MULTILINE)\n",
        "cacm_qry_rel_data = defaultdict(dict)\n",
        "\n",
        "for n in range(0,len(cacm_qry_list)):\n",
        "  line = cacm_qry_list[n]\n",
        "  _ , question = re.split(qry_chunk_start,line)\n",
        "  cacm_qry_rel_data[n+1]['question'] = question\n",
        "\n",
        "# process the relevance assesment data\n",
        "cacm_rel = defaultdict(list)\n",
        "\n",
        "with open (PATH_TO_CACM_REL,'r') as f:\n",
        "  for line in f:\n",
        "    line = re.split(' ',line)\n",
        "    cacm_rel[int(line[0])].append(line[1])\n",
        "\n",
        "for id, rels in cacm_rel.items():\n",
        "  cacm_qry_rel_data[id]['relevance_assessments'] = [int(r) for r in rels]\n",
        "\n",
        "\n",
        "# transform text to sentences for BERT text search\n",
        "\n",
        "import nltk\n",
        "from nltk import tokenize\n",
        "from nltk.tokenize import sent_tokenize\n",
        "nltk.download('punkt')\n",
        "\n",
        "def text_to_sentences(string):\n",
        "  sentences = tokenize.sent_tokenize(string)\n",
        "  return sentences\n",
        "\n",
        "for ID, doc in cacm_txt_data.items():\n",
        "  if 'text' in cacm_txt_data[str(ID)]:\n",
        "    text = cacm_txt_data[ID]['text']\n",
        "    cacm_txt_data[ID]['sentences'] = text_to_sentences(text)"
      ],
      "execution_count": 13,
      "outputs": [
        {
          "output_type": "stream",
          "text": [
            "--2021-04-19 15:26:15--  http://ir.dcs.gla.ac.uk/resources/test_collections/cacm/cacm.tar.gz\n",
            "Resolving ir.dcs.gla.ac.uk (ir.dcs.gla.ac.uk)... 130.209.240.253\n",
            "Connecting to ir.dcs.gla.ac.uk (ir.dcs.gla.ac.uk)|130.209.240.253|:80... connected.\n",
            "HTTP request sent, awaiting response... 200 OK\n",
            "Length: 705665 (689K) [application/gzip]\n",
            "Saving to: ‘cacm.tar.gz’\n",
            "\n",
            "\rcacm.tar.gz           0%[                    ]       0  --.-KB/s               \rcacm.tar.gz         100%[===================>] 689.13K  --.-KB/s    in 0.1s    \n",
            "\n",
            "2021-04-19 15:26:15 (6.16 MB/s) - ‘cacm.tar.gz’ saved [705665/705665]\n",
            "\n",
            "[nltk_data] Downloading package punkt to /root/nltk_data...\n",
            "[nltk_data]   Package punkt is already up-to-date!\n"
          ],
          "name": "stdout"
        }
      ]
    },
    {
      "cell_type": "markdown",
      "metadata": {
        "id": "IQzMkOPobHtX"
      },
      "source": [
        "**Indexing**"
      ]
    },
    {
      "cell_type": "code",
      "metadata": {
        "id": "j8UEeudxSjZe",
        "colab": {
          "base_uri": "https://localhost:8080/"
        },
        "outputId": "80e8dd3c-0b2d-49a4-8c0d-ee39492049fe"
      },
      "source": [
        "# Elasticsearch settings, without using Opendistro\n",
        "# Every index has title, text and vectors to fill\n",
        "settings_nest = {\n",
        "  \"mappings\": {\n",
        "    \"properties\": {\n",
        "      \"text_vector\": {\n",
        "        \"type\": \"nested\",\n",
        "        \"properties\": {\n",
        "          \"vector\": {\n",
        "            \"type\": \"dense_vector\",\n",
        "            \"dims\": 768 \n",
        "          }\n",
        "        }\n",
        "      },\n",
        "     \"text\": {\n",
        "            \"type\" : \"text\"\n",
        "          },\n",
        "          \"title_vector\": {\n",
        "           \"type\": \"dense_vector\",\n",
        "           \"dims\": 768\n",
        "            },\n",
        "      \"title\": {\n",
        "              \"type\": \"text\"\n",
        "              },\n",
        "    }\n",
        "  }\n",
        "}\n",
        "\n",
        "#create index, see https://elasticsearch-py.readthedocs.io/en/master/api.html#elasticsearch.client.IndicesClient.create\n",
        "cacm_index= \"cacm-corpus\"\n",
        "es.indices.delete(index=cacm_index, ignore=[400, 404])\n",
        "es.indices.create(cacm_index)\n",
        "\n",
        "cacm_index_sent = \"bert-sentence-cacm-corpus\"\n",
        "es.indices.delete(index=cacm_index_sent, ignore=[400, 404])\n",
        "es.indices.create(cacm_index_sent, body=settings_nest)"
      ],
      "execution_count": 14,
      "outputs": [
        {
          "output_type": "execute_result",
          "data": {
            "text/plain": [
              "{'acknowledged': True,\n",
              " 'index': 'bert-sentence-cacm-corpus',\n",
              " 'shards_acknowledged': True}"
            ]
          },
          "metadata": {
            "tags": []
          },
          "execution_count": 14
        }
      ]
    },
    {
      "cell_type": "code",
      "metadata": {
        "id": "FurCBp1tSjRD",
        "colab": {
          "base_uri": "https://localhost:8080/"
        },
        "outputId": "cc33c33e-4e41-4487-eff0-21630d4f207d"
      },
      "source": [
        "for ID, doc_data in cacm_txt_data.items():\n",
        "    # index for match query\n",
        "    es.index(index=cacm_index, id=ID, body=doc_data)\n",
        "    # index for BERT search, not every entry has a text\n",
        "    if 'text' not in cacm_txt_data[str(ID)]:\n",
        "      es.index(\n",
        "        index=cacm_index_sent, \n",
        "        id=ID, \n",
        "        body={\n",
        "            'text_vector': [{\"vector\": model.encode(char)} for char in 'No'],\n",
        "            'text': '',\n",
        "            'title_vector': model.encode(cacm_txt_data[ID]['title']),\n",
        "            'title': cacm_txt_data[ID]['title'],\n",
        "            }\n",
        "             )\n",
        "    else:\n",
        "      es.index(\n",
        "      index=cacm_index_sent, \n",
        "      id=ID, \n",
        "      body={\n",
        "          'text_vector': [{\"vector\": model.encode(text)} for text in cacm_txt_data[ID]['sentences']],\n",
        "          'text': cacm_txt_data[ID]['text'],\n",
        "          'title_vector': model.encode(cacm_txt_data[ID]['title']),\n",
        "          'title': cacm_txt_data[ID]['title'],\n",
        "          }\n",
        "    )\n",
        "    \n",
        "\n",
        "#print new index list\n",
        "create_response = es.cat.indices()\n",
        "print(create_response)"
      ],
      "execution_count": 15,
      "outputs": [
        {
          "output_type": "stream",
          "text": [
            "yellow open bert-sentence-cacm-corpus Ty-tELX7S3qmCjlVSi_r8Q 1 1 1478 0 161.5mb 161.5mb\n",
            "yellow open cacm-corpus               kLN5pnuPTaSzXGG83eH8uw 1 1  464 0   1.9mb   1.9mb\n",
            "yellow open adi-corpus                Ot6xtR1TQymD0mIshf_EmQ 1 1   82 0 206.6kb 206.6kb\n",
            "yellow open bert-sentence-adi-corpus  PeiAvAgfSC6Sc-bgvOHQEg 1 1  285 0   4.3mb   4.3mb\n",
            "\n"
          ],
          "name": "stdout"
        }
      ]
    },
    {
      "cell_type": "markdown",
      "metadata": {
        "id": "E20KaO1jSZTc"
      },
      "source": [
        "### CISI Corpus"
      ]
    },
    {
      "cell_type": "markdown",
      "metadata": {
        "id": "1_BbnCfzaQt5"
      },
      "source": [
        "You can get the corpus from [this link](http://ir.dcs.gla.ac.uk/resources/test_collections/cisi/).  <br>\n",
        "For detailed information about the parsing of this corpus look at [ this Notebook](https://colab.research.google.com/github/pragmalingu/private_experiments/blob/cisi_corpus/CISICorpus.ipynb) or for parsing in generel read [this guide](https://)."
      ]
    },
    {
      "cell_type": "markdown",
      "metadata": {
        "id": "BV4P5-4JaUgJ"
      },
      "source": [
        "**Parsing**"
      ]
    },
    {
      "cell_type": "code",
      "metadata": {
        "id": "T64vUBjiSifp",
        "colab": {
          "base_uri": "https://localhost:8080/"
        },
        "outputId": "2592eebf-8958-41c1-874f-2d8912e2fc42"
      },
      "source": [
        "# download and unzip data\n",
        "!wget http://ir.dcs.gla.ac.uk/resources/test_collections/cisi/cisi.tar.gz\n",
        "!tar -xf cisi.tar.gz\n",
        "\n",
        "# set paths to the dowloaded data as variablesDownload and unzip data.\n",
        "PATH_TO_CISI_TXT = '/content/CISI.ALL'\n",
        "PATH_TO_CISI_QRY = '/content/CISI.QRY'\n",
        "PATH_TO_CISI_REL = '/content/CISI.REL'\n",
        "\n",
        "from collections import defaultdict\n",
        "import re\n",
        "import json\n",
        "from io import StringIO\n",
        "import numpy as np\n",
        "\n",
        "# get the text and query files\n",
        "\n",
        "ID_marker = re.compile('^\\.I',re.MULTILINE)\n",
        "\n",
        "def get_data(PATH_TO_FILE, marker):\n",
        "  \"\"\"\n",
        "  Reads file and spilts text into entries at the ID marker '.I'.\n",
        "  First entry is empty, so it's removed.\n",
        "  'marker' contains the regex at which we want to split\n",
        "  \"\"\"\n",
        "  with open (PATH_TO_FILE,'r') as f:\n",
        "    text = f.read()\n",
        "    lines = re.split(marker,text)\n",
        "    lines.pop(0)\n",
        "  return lines\n",
        "\n",
        "cisi_txt_list = get_data(PATH_TO_CISI_TXT, ID_marker)\n",
        "cisi_qry_list = get_data(PATH_TO_CISI_QRY, ID_marker)\n",
        "\n",
        "# process text file\n",
        "\n",
        "cisi_title_start = re.compile('[\\n]\\.T')\n",
        "cisi_author_start = re.compile('[\\n]\\.A')\n",
        "cisi_date_start = re.compile('[\\n]\\.B')\n",
        "cisi_text_start = re.compile('[\\n]\\.W')\n",
        "cisi_cross_start = re.compile('[\\n]\\.X')\n",
        "\n",
        "cisi_txt_data = defaultdict(dict)\n",
        "\n",
        "for line in cisi_txt_list:\n",
        "  entries = re.split(cisi_title_start,line,1)\n",
        "  id = entries[0].strip()#save the id\n",
        "  no_id = entries[1] \n",
        "  \n",
        "  if len(re.split(cisi_author_start, no_id)) >= 2: # is there just one author?\n",
        "    no_id_entries = re.split(cisi_author_start, no_id,1)\n",
        "    cisi_txt_data[id]['title'] = no_id_entries[0].strip() # save title\n",
        "    no_title = no_id_entries[1]\n",
        "\n",
        "    if len(re.split(cisi_date_start, no_title)) > 1: # is there a publication date?\n",
        "      no_title_entries = re.split(cisi_date_start, no_title)\n",
        "      cisi_txt_data[id]['author'] = no_title_entries[0].strip() # save athour\n",
        "      no_author = no_title_entries[1]\n",
        "      no_author_entries = re.split(cisi_text_start, no_author)\n",
        "      cisi_txt_data[id]['publication_date'] = no_author_entries[0].strip() # save publication date\n",
        "      no_author_date = no_author_entries[1]\n",
        "    else:\n",
        "      no_title_entries = re.split(cisi_text_start, no_title)\n",
        "      cisi_txt_data[id]['author'] = no_title_entries[0].strip() # save athour\n",
        "      no_author_date = no_title_entries[1]\n",
        "\n",
        "  else:\n",
        "    no_id_entries = re.split(cisi_author_start, no_id)\n",
        "    cisi_txt_data[id]['title'] = no_id_entries[0].strip() # save title\n",
        "    cisi_txt_data[id]['author'] = no_id_entries[1].strip() # save first author\n",
        "    no_title_entries = re.split(cisi_text_start, no_title)\n",
        "    cisi_txt_data[id]['author'] += ','+no_title_entries[0].strip() # save second athour\n",
        "    no_author_date = no_title_entries[1]\n",
        "\n",
        "  last_entries = re.split(cisi_cross_start, no_author_date)\n",
        "  cisi_txt_data[id]['text'] = last_entries[0].strip() # save text\n",
        "  cisi_txt_data[id]['cross-refrences'] = last_entries[1].strip() # save cross refrences\n",
        "\n",
        "# process query file  \n",
        "\n",
        "qry_chunk_start = re.compile('[\\n]\\.W')\n",
        "\n",
        "cisi_qry_rel_data = defaultdict(dict)\n",
        "\n",
        "for line in cisi_qry_list:\n",
        "  id , question = re.split(qry_chunk_start,line)\n",
        "  id = re.findall('\\d{1,3}',id)[0]\n",
        "  cisi_qry_rel_data[id]['question'] = question\n",
        "\n",
        "# process the relevance assesment data\n",
        "cisi_rel = defaultdict(list)\n",
        "\n",
        "with open (PATH_TO_CISI_REL,'r') as f:\n",
        "  for line in f:\n",
        "    line = line.replace(' ','\\t')\n",
        "    line = re.split('\\t',line)\n",
        "    line = list(filter(None, line))\n",
        "    cisi_rel[str(line[0])].append(str(line[1]))\n",
        "\n",
        "for id, rels in cisi_rel.items():\n",
        "  cisi_qry_rel_data[id]['relevance_assessments'] = [int(r) for r in rels]\n",
        "\n",
        "# transform text to sentences for BERT text search\n",
        "\n",
        "import nltk\n",
        "from nltk import tokenize\n",
        "from nltk.tokenize import sent_tokenize\n",
        "nltk.download('punkt')\n",
        "\n",
        "def text_to_sentences(string):\n",
        "  sentences = tokenize.sent_tokenize(string)\n",
        "  return sentences\n",
        "\n",
        "for ID, doc in cisi_txt_data.items():\n",
        "  text = cisi_txt_data[ID]['text']\n",
        "  cisi_txt_data[ID]['sentences'] = text_to_sentences(text)"
      ],
      "execution_count": 16,
      "outputs": [
        {
          "output_type": "stream",
          "text": [
            "--2021-04-19 15:29:56--  http://ir.dcs.gla.ac.uk/resources/test_collections/cisi/cisi.tar.gz\n",
            "Resolving ir.dcs.gla.ac.uk (ir.dcs.gla.ac.uk)... 130.209.240.253\n",
            "Connecting to ir.dcs.gla.ac.uk (ir.dcs.gla.ac.uk)|130.209.240.253|:80... connected.\n",
            "HTTP request sent, awaiting response... 200 OK\n",
            "Length: 775144 (757K) [application/gzip]\n",
            "Saving to: ‘cisi.tar.gz’\n",
            "\n",
            "\rcisi.tar.gz           0%[                    ]       0  --.-KB/s               \rcisi.tar.gz         100%[===================>] 756.98K  --.-KB/s    in 0.1s    \n",
            "\n",
            "2021-04-19 15:29:56 (6.74 MB/s) - ‘cisi.tar.gz’ saved [775144/775144]\n",
            "\n",
            "[nltk_data] Downloading package punkt to /root/nltk_data...\n",
            "[nltk_data]   Package punkt is already up-to-date!\n"
          ],
          "name": "stdout"
        }
      ]
    },
    {
      "cell_type": "markdown",
      "metadata": {
        "id": "MliI7zHGawSY"
      },
      "source": [
        "**Indexing**"
      ]
    },
    {
      "cell_type": "code",
      "metadata": {
        "id": "CXoFBXYUSikA",
        "colab": {
          "base_uri": "https://localhost:8080/"
        },
        "outputId": "e4ca95ce-7c1d-4e9d-f4ee-f207dc0e7d52"
      },
      "source": [
        "# Elasticsearch settings, without using Opendistro\n",
        "# Every index has title, text and vectors to fill\n",
        "settings_nest = {\n",
        "  \"mappings\": {\n",
        "    \"properties\": {\n",
        "      \"text_vector\": {\n",
        "        \"type\": \"nested\",\n",
        "        \"properties\": {\n",
        "          \"vector\": {\n",
        "            \"type\": \"dense_vector\",\n",
        "            \"dims\": 768 \n",
        "          }\n",
        "        }\n",
        "      },\n",
        "     \"text\": {\n",
        "            \"type\" : \"text\"\n",
        "          },\n",
        "          \"title_vector\": {\n",
        "           \"type\": \"dense_vector\",\n",
        "           \"dims\": 768\n",
        "            },\n",
        "      \"title\": {\n",
        "              \"type\": \"text\"\n",
        "              },\n",
        "    }\n",
        "  }\n",
        "}\n",
        "\n",
        "\n",
        "#create index, see https://elasticsearch-py.readthedocs.io/en/master/api.html#elasticsearch.client.IndicesClient.create\n",
        "cisi_index = \"cisi-corpus\"\n",
        "es.indices.delete(index=cisi_index, ignore=[400, 404])\n",
        "es.indices.create(cisi_index)\n",
        "\n",
        "cisi_index_sent = \"bert-sentence-cisi-corpus\"\n",
        "es.indices.delete(index=cisi_index_sent, ignore=[400, 404])\n",
        "es.indices.create(cisi_index_sent, body=settings_nest)"
      ],
      "execution_count": 17,
      "outputs": [
        {
          "output_type": "execute_result",
          "data": {
            "text/plain": [
              "{'acknowledged': True,\n",
              " 'index': 'bert-sentence-cisi-corpus',\n",
              " 'shards_acknowledged': True}"
            ]
          },
          "metadata": {
            "tags": []
          },
          "execution_count": 17
        }
      ]
    },
    {
      "cell_type": "code",
      "metadata": {
        "id": "FF6S6Q64SioH",
        "colab": {
          "base_uri": "https://localhost:8080/"
        },
        "outputId": "deea9bc8-a7f0-4d5b-98be-f44040afa7e6"
      },
      "source": [
        "for ID, doc_data in cisi_txt_data.items():\n",
        "    # Index for match query\n",
        "    es.index(index=cisi_index, id=ID, body=doc_data)\n",
        "      # Index for BERT search\n",
        "    es.index(\n",
        "      index=cisi_index_sent, \n",
        "      id=ID, \n",
        "      body={\n",
        "          'text_vector': [{\"vector\": model.encode(text)} for text in cisi_txt_data[ID]['sentences']],\n",
        "          'text': cisi_txt_data[ID]['text'],\n",
        "          'title_vector': model.encode(cisi_txt_data[ID]['title']),\n",
        "          'title': cisi_txt_data[ID]['title'],\n",
        "          }\n",
        "    )\n",
        "\n",
        "#print new index list\n",
        "create_response = es.cat.indices()\n",
        "print(create_response)"
      ],
      "execution_count": 18,
      "outputs": [
        {
          "output_type": "stream",
          "text": [
            "yellow open bert-sentence-cacm-corpus Ty-tELX7S3qmCjlVSi_r8Q 1 1 1478 0 161.5mb 161.5mb\n",
            "yellow open cacm-corpus               kLN5pnuPTaSzXGG83eH8uw 1 1  464 0   1.9mb   1.9mb\n",
            "yellow open cisi-corpus               onfhviz2TZekNKrLOo_lyw 1 1  329 0     3mb     3mb\n",
            "yellow open adi-corpus                Ot6xtR1TQymD0mIshf_EmQ 1 1   82 0 207.1kb 207.1kb\n",
            "yellow open bert-sentence-cisi-corpus g7fLF8ZHQsOL1tNYrBcveA 1 1 1856 0  98.9mb  98.9mb\n",
            "yellow open bert-sentence-adi-corpus  PeiAvAgfSC6Sc-bgvOHQEg 1 1  285 0   4.3mb   4.3mb\n",
            "\n"
          ],
          "name": "stdout"
        }
      ]
    },
    {
      "cell_type": "markdown",
      "metadata": {
        "id": "2uBvUwRPpxT_"
      },
      "source": [
        "### Cranfield Corpus\n"
      ]
    },
    {
      "cell_type": "markdown",
      "metadata": {
        "id": "bcJkkOXMTL79"
      },
      "source": [
        "You can get the corpus from [this link](http://ir.dcs.gla.ac.uk/resources/test_collections/cran/).  <br>\n",
        "For detailed information about the parsing of this corpus look at [ this Notebook](https://colab.research.google.com/github/pragmalingu/private_experiments/blob/cranfield_corpus/CranfieldCorpus.ipynb) or for parsing in generel read [this guide](https://)."
      ]
    },
    {
      "cell_type": "markdown",
      "metadata": {
        "id": "QRQUEbD_TRv-"
      },
      "source": [
        "**Parsing**"
      ]
    },
    {
      "cell_type": "code",
      "metadata": {
        "id": "kmlwZmVMTRCY",
        "colab": {
          "base_uri": "https://localhost:8080/"
        },
        "outputId": "37056e80-2882-4147-eae4-e7f93a8b34a2"
      },
      "source": [
        "# download and unzip data\n",
        "!wget http://ir.dcs.gla.ac.uk/resources/test_collections/cran/cran.tar.gz\n",
        "!tar -xf cran.tar.gz\n",
        "\n",
        "# set paths to the dowloaded data as variables\n",
        "PATH_TO_CRAN_TXT = '/content/cran.all.1400'\n",
        "PATH_TO_CRAN_QRY = '/content/cran.qry'\n",
        "PATH_TO_CRAN_REL = '/content/cranqrel'\n",
        "\n",
        "from collections import defaultdict\n",
        "import re\n",
        "import json\n",
        "from io import StringIO\n",
        "import numpy as np\n",
        "\n",
        "\n",
        "# get the text entries from the text and query files\n",
        "\n",
        "ID_marker = re.compile('\\.I')\n",
        "\n",
        "def get_data(PATH_TO_FILE, marker):\n",
        "  \"\"\"\n",
        "  Reads file and spilts text into entries at the ID marker '.I'.\n",
        "  First entry is empty, so it's removed.\n",
        "  'marker' contains the regex at which we want to split\n",
        "  \"\"\"\n",
        "  with open (PATH_TO_FILE,'r') as f:\n",
        "    text = f.read().replace('\\n',\" \")\n",
        "    lines = re.split(marker,text)\n",
        "    lines.pop(0)\n",
        "  return lines\n",
        "\n",
        "cran_txt_list = get_data(PATH_TO_CRAN_TXT, ID_marker)\n",
        "cran_qry_list = get_data(PATH_TO_CRAN_QRY, ID_marker)\n",
        "\n",
        "# process text file\n",
        "\n",
        "cran_chunk_start = re.compile('\\.[A,B,T,W]')\n",
        "cran_txt_data = defaultdict(dict)\n",
        "\n",
        "for line in cran_txt_list:\n",
        "  entries= re.split(cran_chunk_start,line)\n",
        "  id = entries[0].strip()\n",
        "  title = entries[1]\n",
        "  author = entries[2]\n",
        "  publication_date = entries[3]\n",
        "  text = entries[4:]\n",
        "  cran_txt_data[id]['title'] = title\n",
        "  cran_txt_data[id]['author'] = author\n",
        "  cran_txt_data[id]['publication_date'] = publication_date\n",
        "  cran_txt_data[id]['text'] = ''.join(text)\n",
        "\n",
        "# process query file\n",
        "qry_chunk_start = re.compile('\\.W')\n",
        "cran_qry_rel_data = defaultdict(dict)\n",
        "\n",
        "for n in range(0,len(cran_qry_list)):\n",
        "  line = cran_qry_list[n]\n",
        "  _ , question = re.split(qry_chunk_start,line)\n",
        "  cran_qry_rel_data[n+1]['question'] = question\n",
        "\n",
        "# process relevance assesments without rating\n",
        "cran_rel = defaultdict(list)\n",
        "\n",
        "with open (PATH_TO_CRAN_REL,'r') as f:\n",
        "  for line in f:\n",
        "    line = re.split(' ',line)\n",
        "    cran_rel[int(line[0])].append(line[1])\n",
        "\n",
        "for id, rels in cran_rel.items():\n",
        "  cran_qry_rel_data[id]['relevance_assessments'] = [int(r) for r in rels]\n",
        "\n",
        "# transform text to sentences for BERT text search\n",
        "import nltk\n",
        "from nltk import tokenize\n",
        "from nltk.tokenize import sent_tokenize\n",
        "nltk.download('punkt')\n",
        "\n",
        "def text_to_sentences(string):\n",
        "  sentences = tokenize.sent_tokenize(string)\n",
        "  return sentences\n",
        "\n",
        "for ID, doc in cran_txt_data.items():\n",
        "  if 'text' in cran_txt_data[str(ID)]:\n",
        "    text = cran_txt_data[ID]['text']\n",
        "    cran_txt_data[ID]['sentences'] = text_to_sentences(text)"
      ],
      "execution_count": 19,
      "outputs": [
        {
          "output_type": "stream",
          "text": [
            "--2021-04-19 15:31:57--  http://ir.dcs.gla.ac.uk/resources/test_collections/cran/cran.tar.gz\n",
            "Resolving ir.dcs.gla.ac.uk (ir.dcs.gla.ac.uk)... 130.209.240.253\n",
            "Connecting to ir.dcs.gla.ac.uk (ir.dcs.gla.ac.uk)|130.209.240.253|:80... connected.\n",
            "HTTP request sent, awaiting response... 200 OK\n",
            "Length: 506960 (495K) [application/gzip]\n",
            "Saving to: ‘cran.tar.gz’\n",
            "\n",
            "\rcran.tar.gz           0%[                    ]       0  --.-KB/s               \rcran.tar.gz         100%[===================>] 495.08K  --.-KB/s    in 0.1s    \n",
            "\n",
            "2021-04-19 15:31:57 (4.70 MB/s) - ‘cran.tar.gz’ saved [506960/506960]\n",
            "\n",
            "[nltk_data] Downloading package punkt to /root/nltk_data...\n",
            "[nltk_data]   Package punkt is already up-to-date!\n"
          ],
          "name": "stdout"
        }
      ]
    },
    {
      "cell_type": "markdown",
      "metadata": {
        "id": "WlYIgjIkTTbT"
      },
      "source": [
        "**Indexing**"
      ]
    },
    {
      "cell_type": "code",
      "metadata": {
        "id": "K2X6d9uySfeq",
        "colab": {
          "base_uri": "https://localhost:8080/"
        },
        "outputId": "20f568c7-78fe-4dde-b1bf-6ecb10084b61"
      },
      "source": [
        "# Elasticsearch settings, without using Opendistro\n",
        "# Every index has title, text and vectors to fill\n",
        "settings_nest = {\n",
        "  \"mappings\": {\n",
        "    \"properties\": {\n",
        "      \"text_vector\": {\n",
        "        \"type\": \"nested\",\n",
        "        \"properties\": {\n",
        "          \"vector\": {\n",
        "            \"type\": \"dense_vector\",\n",
        "            \"dims\": 768 \n",
        "          }\n",
        "        }\n",
        "      },\n",
        "     \"text\": {\n",
        "            \"type\" : \"text\"\n",
        "          },\n",
        "    \"title_vector\": {\n",
        "           \"type\": \"dense_vector\",\n",
        "           \"dims\": 768\n",
        "            },\n",
        "      \"title\": {\n",
        "              \"type\": \"text\"\n",
        "              },\n",
        "    }\n",
        "  }\n",
        "}\n",
        "\n",
        "#create index, see https://elasticsearch-py.readthedocs.io/en/master/api.html#elasticsearch.client.IndicesClient.create\n",
        "\n",
        "\n",
        "\n",
        "#create index, see https://elasticsearch-py.readthedocs.io/en/master/api.html#elasticsearch.client.IndicesClient.create\n",
        "\n",
        "cran_index = \"cranfield-corpus\"\n",
        "es.indices.delete(index=cran_index, ignore=[400, 404])\n",
        "es.indices.create(cran_index)\n",
        "\n",
        "cran_index_sent = \"bert-sentence-cranfield-corpus\"\n",
        "es.indices.delete(index=cran_index_sent, ignore=[400, 404])\n",
        "es.indices.create(cran_index_sent, body=settings_nest)"
      ],
      "execution_count": 20,
      "outputs": [
        {
          "output_type": "execute_result",
          "data": {
            "text/plain": [
              "{'acknowledged': True,\n",
              " 'index': 'bert-sentence-cranfield-corpus',\n",
              " 'shards_acknowledged': True}"
            ]
          },
          "metadata": {
            "tags": []
          },
          "execution_count": 20
        }
      ]
    },
    {
      "cell_type": "code",
      "metadata": {
        "id": "76ENSgO8Rj3g",
        "colab": {
          "base_uri": "https://localhost:8080/"
        },
        "outputId": "98f8bc6e-ae66-4f7c-eae0-a175e4217ac8"
      },
      "source": [
        "#index documents, see https://elasticsearch-py.readthedocs.io/en/master/#example-usage\n",
        "for ID, doc_data in cran_txt_data.items():\n",
        "      # Index for match query\n",
        "      es.index(index=cran_index, id=ID, body=doc_data)\n",
        "      # Index for BERT search\n",
        "      es.index(\n",
        "      index=cran_index_sent, \n",
        "      id=ID, \n",
        "      body={\n",
        "          'text_vector': [{\"vector\": model.encode(text)} for text in cran_txt_data[ID]['sentences']],\n",
        "          'text': cran_txt_data[ID]['text'],\n",
        "          'title_vector': model.encode(cran_txt_data[ID]['title']),\n",
        "          'title': cran_txt_data[ID]['title']\n",
        "          }\n",
        "    )\n",
        "      \n",
        "\n",
        "#print new index list\n",
        "create_response = es.cat.indices()\n",
        "print(create_response)"
      ],
      "execution_count": 21,
      "outputs": [
        {
          "output_type": "stream",
          "text": [
            "yellow open bert-sentence-cacm-corpus      Ty-tELX7S3qmCjlVSi_r8Q 1 1 13353 0 263.3mb 263.3mb\n",
            "yellow open cranfield-corpus               --tJl7R9SQ6TFBynb4HSOA 1 1   223 0   2.4mb   2.4mb\n",
            "yellow open bert-sentence-cranfield-corpus 5lilEXQWTnyO7YmxWakvrA 1 1  1998 0 141.7mb 141.7mb\n",
            "yellow open cacm-corpus                    kLN5pnuPTaSzXGG83eH8uw 1 1   464 0   1.9mb   1.9mb\n",
            "yellow open cisi-corpus                    onfhviz2TZekNKrLOo_lyw 1 1   329 0     3mb     3mb\n",
            "yellow open adi-corpus                     Ot6xtR1TQymD0mIshf_EmQ 1 1    82 0 207.1kb 207.1kb\n",
            "yellow open bert-sentence-cisi-corpus      g7fLF8ZHQsOL1tNYrBcveA 1 1  1856 0  98.9mb  98.9mb\n",
            "yellow open bert-sentence-adi-corpus       PeiAvAgfSC6Sc-bgvOHQEg 1 1   285 0   4.3mb   4.3mb\n",
            "\n"
          ],
          "name": "stdout"
        }
      ]
    },
    {
      "cell_type": "markdown",
      "metadata": {
        "id": "Hth0myYcBlAk"
      },
      "source": [
        "### LISA Corpus"
      ]
    },
    {
      "cell_type": "markdown",
      "metadata": {
        "id": "f3e5px45BlAo"
      },
      "source": [
        "You can get the corpus from [this link](http://ir.dcs.gla.ac.uk/resources/test_collections/lisa/).  <br>\n",
        "For detailed information about the format of the files, see the PragmaLingu [ Benchmarks](https://pragmalingu.de/docs/benchmarks/overview)"
      ]
    },
    {
      "cell_type": "markdown",
      "metadata": {
        "id": "8D3zYeCgBlAq"
      },
      "source": [
        "**Parsing**"
      ]
    },
    {
      "cell_type": "code",
      "metadata": {
        "id": "Eo4o1z1vBlAs",
        "colab": {
          "base_uri": "https://localhost:8080/"
        },
        "outputId": "525b2462-518c-492d-9c7c-3e662260377a"
      },
      "source": [
        "# download and unzip data\n",
        "!wget http://ir.dcs.gla.ac.uk/resources/test_collections/lisa/lisa.tar.gz\n",
        "!tar -xf lisa.tar.gz\n",
        "\n",
        "\n",
        "# set paths to the dowloaded data as variablesDownload and unzip data.\n",
        "\n",
        "PATH_TO_LISA_TXT = '/content/'\n",
        "PATH_TO_LISA_QRY = '/content/LISA.QUE'\n",
        "PATH_TO_LISA_REL = '/content/LISARJ.NUM'\n",
        "\n",
        "from collections import defaultdict\n",
        "import re\n",
        "import json\n",
        "from io import StringIO\n",
        "import numpy as np\n",
        "import os\n",
        "\n",
        "# get the text and query files\n",
        "\n",
        "file_regex = re.compile('LISA[0-5]')\n",
        "lisa_files = [i for i in os.listdir(PATH_TO_LISA_TXT) if os.path.isfile(os.path.join(PATH_TO_LISA_TXT,i)) and re.match(file_regex,i)]\n",
        "\n",
        "txt_entry_marker = re.compile('\\*{44}',re.MULTILINE)\n",
        "qry_entry_marker = re.compile('#')\n",
        "\n",
        "def get_data(PATH_TO_FILES, marker):\n",
        "  \"\"\"\n",
        "  Reads multiple files and spilts text into entries at the entry marker.\n",
        "  The 'marker' contains the regex at which we want to split\n",
        "  Pops last element since it's empty.\n",
        "  \"\"\"\n",
        "  with open (PATH_TO_FILES,'r') as f:\n",
        "    text = f.read().replace('     ','')\n",
        "    lines = re.split(marker,text)\n",
        "    lines.pop()\n",
        "  return lines\n",
        "\n",
        "lisa_txt_list = []\n",
        "for name in lisa_files: \n",
        "  lisa_txt_list.extend(get_data(PATH_TO_LISA_TXT+name, txt_entry_marker))\n",
        "\n",
        "lisa_qry_list = get_data(PATH_TO_LISA_QRY, qry_entry_marker)\n",
        "\n",
        "# process text file\n",
        "\n",
        "doc_strip = re.compile('\\n?Document {1,2}')\n",
        "\n",
        "lisa_txt_list_stripped = []\n",
        "lisa_txt_data = defaultdict(dict)\n",
        "\n",
        "for el in lisa_txt_list:\n",
        "  lisa_txt_list_stripped.append(re.sub(doc_strip,'', el))\n",
        "\n",
        "for entry in lisa_txt_list_stripped:\n",
        "  parts = entry.split('\\n')\n",
        "  empty_index = parts.index('')\n",
        "  ID = parts[0].strip(' ')\n",
        "  title = parts[1:empty_index]\n",
        "  text = parts[empty_index+1:]\n",
        "  lisa_txt_data[ID]['title'] = ''.join(title)\n",
        "  lisa_txt_data[ID]['text'] = ''.join(text)\n",
        "\n",
        "# process the query data\n",
        "\n",
        "lisa_qry_rel_data = defaultdict(dict)\n",
        "# first line is a special case because it doesn't start with a newline\n",
        "first_line = lisa_qry_list[0]\n",
        "first_question = first_line[1:]\n",
        "lisa_qry_rel_data[int(first_line[0])]['question'] = first_question\n",
        "\n",
        "# after that every line can be handle the same way\n",
        "for n in range(0,len(lisa_qry_list)-1):\n",
        "  line = re.split('\\n',lisa_qry_list[n+1])\n",
        "  question = ' '.join(line[2:])\n",
        "  lisa_qry_rel_data[int(line[1])]['question'] = question\n",
        "\n",
        "# process relevance assesments\n",
        "lisa_rel = defaultdict(list)\n",
        "\n",
        "rel_marker = re.compile('            \\n        ')\n",
        "rel_split = re.compile('\\n')\n",
        "\n",
        "with open (PATH_TO_LISA_REL,'r') as f:\n",
        "  file = f.read().strip('       ').replace('\\n','')\n",
        "  lines = re.split(' ',file)\n",
        "  lines = list(filter(None, lines))\n",
        "  n = 0\n",
        "  while n < len(lines):\n",
        "    ID = int(lines[n])\n",
        "    num_rel = int(lines[n+1])\n",
        "    rels = lines[(n+2):(n+num_rel+2)]\n",
        "    lisa_rel[ID].extend(rels)\n",
        "    n = n+1+num_rel+1\n",
        "\n",
        "for id, rels in lisa_rel.items():\n",
        "  lisa_qry_rel_data[id]['relevance_assessments'] = [int(r) for r in rels]\n",
        "\n",
        "# transform text to sentences for BERT text search\n",
        "import nltk\n",
        "from nltk import tokenize\n",
        "from nltk.tokenize import sent_tokenize\n",
        "nltk.download('punkt')\n",
        "\n",
        "def text_to_sentences(string):\n",
        "  sentences = tokenize.sent_tokenize(string)\n",
        "  return sentences\n",
        "\n",
        "for ID, doc in lisa_txt_data.items():\n",
        "  text = lisa_txt_data[ID]['text']\n",
        "  lisa_txt_data[ID]['sentences'] = text_to_sentences(text)"
      ],
      "execution_count": 22,
      "outputs": [
        {
          "output_type": "stream",
          "text": [
            "--2021-04-19 15:34:43--  http://ir.dcs.gla.ac.uk/resources/test_collections/lisa/lisa.tar.gz\n",
            "Resolving ir.dcs.gla.ac.uk (ir.dcs.gla.ac.uk)... 130.209.240.253\n",
            "Connecting to ir.dcs.gla.ac.uk (ir.dcs.gla.ac.uk)|130.209.240.253|:80... connected.\n",
            "HTTP request sent, awaiting response... 200 OK\n",
            "Length: 1227725 (1.2M) [application/gzip]\n",
            "Saving to: ‘lisa.tar.gz’\n",
            "\n",
            "lisa.tar.gz         100%[===================>]   1.17M  --.-KB/s    in 0.1s    \n",
            "\n",
            "2021-04-19 15:34:43 (9.06 MB/s) - ‘lisa.tar.gz’ saved [1227725/1227725]\n",
            "\n",
            "[nltk_data] Downloading package punkt to /root/nltk_data...\n",
            "[nltk_data]   Package punkt is already up-to-date!\n"
          ],
          "name": "stdout"
        }
      ]
    },
    {
      "cell_type": "markdown",
      "metadata": {
        "id": "kvj78Pc1BlBB"
      },
      "source": [
        "**Indexing**"
      ]
    },
    {
      "cell_type": "code",
      "metadata": {
        "id": "CyVRktILBlBD",
        "colab": {
          "base_uri": "https://localhost:8080/"
        },
        "outputId": "56c75de5-7229-4a59-fc53-9010b1ef5e28"
      },
      "source": [
        "# Elasticsearch settings, without using Opendistro\n",
        "# Every index has title, text and vectors to fill\n",
        "settings_nest = {\n",
        "  \"mappings\": {\n",
        "    \"properties\": {\n",
        "      \"text_vector\": {\n",
        "        \"type\": \"nested\",\n",
        "        \"properties\": {\n",
        "          \"vector\": {\n",
        "            \"type\": \"dense_vector\",\n",
        "            \"dims\": 768 \n",
        "          }\n",
        "        }\n",
        "      },\n",
        "     \"text\": {\n",
        "            \"type\" : \"text\"\n",
        "          },\n",
        "          \"title_vector\": {\n",
        "           \"type\": \"dense_vector\",\n",
        "           \"dims\": 768\n",
        "            },\n",
        "      \"title\": {\n",
        "              \"type\": \"text\"\n",
        "              },\n",
        "    }\n",
        "  }\n",
        "}\n",
        "\n",
        "#create index, see https://elasticsearch-py.readthedocs.io/en/master/api.html#elasticsearch.client.IndicesClient.create\n",
        "lisa_index = \"lisa-corpus\"\n",
        "es.indices.delete(index=lisa_index, ignore=[400, 404])\n",
        "es.indices.create(lisa_index)\n",
        "\n",
        "lisa_index_sent = \"bert-sentence-lisa-corpus\"\n",
        "es.indices.delete(index=lisa_index_sent, ignore=[400, 404])\n",
        "es.indices.create(lisa_index_sent, body=settings_nest)"
      ],
      "execution_count": 23,
      "outputs": [
        {
          "output_type": "execute_result",
          "data": {
            "text/plain": [
              "{'acknowledged': True,\n",
              " 'index': 'bert-sentence-lisa-corpus',\n",
              " 'shards_acknowledged': True}"
            ]
          },
          "metadata": {
            "tags": []
          },
          "execution_count": 23
        }
      ]
    },
    {
      "cell_type": "code",
      "metadata": {
        "id": "vkEWHA9NBlBO",
        "colab": {
          "base_uri": "https://localhost:8080/"
        },
        "outputId": "4b594448-322c-45c4-c182-914a767650c9"
      },
      "source": [
        "for ID, doc_data in lisa_txt_data.items():\n",
        "    # Index for match query\n",
        "    es.index(index=lisa_index, id=ID, body=doc_data)\n",
        "    # Index for BERT search\n",
        "    es.index(\n",
        "      index=lisa_index_sent, \n",
        "      id=ID, \n",
        "      body={\n",
        "          'text_vector': [{\"vector\": model.encode(text)} for text in lisa_txt_data[ID]['sentences']],\n",
        "          'text': lisa_txt_data[ID]['text'],\n",
        "          'title_vector': model.encode(''.join(lisa_txt_data[ID]['title'])),\n",
        "          'title': lisa_txt_data[ID]['title']\n",
        "          }\n",
        "    )\n",
        "#print new index list\n",
        "create_response = es.cat.indices()\n",
        "print(create_response)"
      ],
      "execution_count": 24,
      "outputs": [
        {
          "output_type": "stream",
          "text": [
            "yellow open bert-sentence-cacm-corpus      Ty-tELX7S3qmCjlVSi_r8Q 1 1 13353 0 191.4mb 191.4mb\n",
            "yellow open bert-sentence-lisa-corpus      dwxLzKfcS1Orbt9KNizgFA 1 1  1758 0 313.8mb 313.8mb\n",
            "yellow open cranfield-corpus               --tJl7R9SQ6TFBynb4HSOA 1 1  1400 0   4.5mb   4.5mb\n",
            "yellow open bert-sentence-cranfield-corpus 5lilEXQWTnyO7YmxWakvrA 1 1 11515 0 171.9mb 171.9mb\n",
            "yellow open cacm-corpus                    kLN5pnuPTaSzXGG83eH8uw 1 1  3204 0   4.9mb   4.9mb\n",
            "yellow open cisi-corpus                    onfhviz2TZekNKrLOo_lyw 1 1  1460 0   4.5mb   4.5mb\n",
            "yellow open adi-corpus                     Ot6xtR1TQymD0mIshf_EmQ 1 1    82 0 207.1kb 207.1kb\n",
            "yellow open lisa-corpus                    47fCwh1PRe-kGkE3p6WWSw 1 1   414 0   3.7mb   3.7mb\n",
            "yellow open bert-sentence-cisi-corpus      g7fLF8ZHQsOL1tNYrBcveA 1 1  7792 0 116.7mb 116.7mb\n",
            "yellow open bert-sentence-adi-corpus       PeiAvAgfSC6Sc-bgvOHQEg 1 1   285 0   4.3mb   4.3mb\n",
            "\n"
          ],
          "name": "stdout"
        }
      ]
    },
    {
      "cell_type": "markdown",
      "metadata": {
        "id": "1khYBntB-QGW"
      },
      "source": [
        "### Medline Corpus"
      ]
    },
    {
      "cell_type": "markdown",
      "metadata": {
        "id": "hdfuvzhY-QGW"
      },
      "source": [
        "You can get the corpus from [this link](http://ir.dcs.gla.ac.uk/resources/test_collections/med/).  <br>\n",
        "For detailed information about the format of the files, see the PragmaLingu [ Benchmarks](https://pragmalingu.de/docs/benchmarks/overview)"
      ]
    },
    {
      "cell_type": "markdown",
      "metadata": {
        "id": "iVxwNZ_a-QGX"
      },
      "source": [
        "**Parsing**"
      ]
    },
    {
      "cell_type": "code",
      "metadata": {
        "id": "eZl9p5nY-QGX",
        "colab": {
          "base_uri": "https://localhost:8080/"
        },
        "outputId": "3572ab08-d063-4233-c858-85c8ca0c43b8"
      },
      "source": [
        "# download and unzip data\n",
        "!wget http://ir.dcs.gla.ac.uk/resources/test_collections/medl/med.tar.gz\n",
        "!tar -xf med.tar.gz\n",
        "\n",
        "# set paths to the dowloaded data as variables\n",
        "PATH_TO_MED_TXT = '/content/MED.ALL'\n",
        "PATH_TO_MED_QRY = '/content/MED.QRY'\n",
        "PATH_TO_MED_REL = '/content/MED.REL'\n",
        "\n",
        "from collections import defaultdict\n",
        "import re\n",
        "import json\n",
        "from io import StringIO\n",
        "import numpy as np\n",
        "\n",
        "\n",
        "# get the text and query files\n",
        "\n",
        "ID_marker = re.compile('\\.I')\n",
        "\n",
        "def get_data(PATH_TO_FILE, marker):\n",
        "  \"\"\"\n",
        "  Reads file and spilts text into entries at the ID marker '.I'.\n",
        "  First entry is empty, so it's removed.\n",
        "  'marker' contains the regex at which we want to split\n",
        "  \"\"\"\n",
        "  with open (PATH_TO_FILE,'r') as f:\n",
        "    text = f.read().replace('\\n',\" \")\n",
        "    lines = re.split(marker,text)\n",
        "    lines.pop(0)\n",
        "  return lines\n",
        "\n",
        "med_txt_list = get_data(PATH_TO_MED_TXT, ID_marker)\n",
        "med_qry_list = get_data(PATH_TO_MED_QRY, ID_marker)\n",
        "\n",
        "# process the text and query files\n",
        "\n",
        "import nltk\n",
        "from nltk import tokenize\n",
        "from nltk.tokenize import sent_tokenize\n",
        "nltk.download('punkt')\n",
        "\n",
        "def text_to_sentences(string):\n",
        "  sentences = tokenize.sent_tokenize(string)\n",
        "  return sentences\n",
        "\n",
        "qry_chunk_start = re.compile('\\.W')\n",
        "\n",
        "med_txt_data = defaultdict(dict)\n",
        "med_qry_rel_data = defaultdict(dict)\n",
        "\n",
        "def fill_dictionary(dictionary, chunk_list, marker, key_name):\n",
        "  for n in range(0,len(chunk_list)):\n",
        "    line = chunk_list[n]\n",
        "    _ , chunk = re.split(marker,line)\n",
        "    dictionary[n+1][key_name] = chunk.strip()\n",
        "\n",
        "fill_dictionary(med_txt_data, med_txt_list, qry_chunk_start, 'text')\n",
        "fill_dictionary(med_qry_rel_data, med_qry_list, qry_chunk_start, 'question')\n",
        "\n",
        "# process relevance assesments without rating\n",
        "med_rel = defaultdict(list)\n",
        "\n",
        "with open (PATH_TO_MED_REL,'r') as f:\n",
        "  for line in f:\n",
        "    line = re.split(' ',line)\n",
        "    med_rel[int(line[0])].append(line[2])\n",
        "\n",
        "for id, rels in med_rel.items():\n",
        "  med_qry_rel_data[id]['relevance_assessments'] = [int(r) for r in rels]\n",
        "\n",
        "\n",
        "# transform text to sentences for BERT text search\n",
        "import nltk\n",
        "from nltk import tokenize\n",
        "from nltk.tokenize import sent_tokenize\n",
        "nltk.download('punkt')\n",
        "\n",
        "def text_to_sentences(string):\n",
        "  sentences = tokenize.sent_tokenize(string)\n",
        "  return sentences\n",
        "\n",
        "for ID, doc in med_txt_data.items():\n",
        "  text = med_txt_data[ID]['text']\n",
        "  med_txt_data[ID]['sentences'] = text_to_sentences(text)\n"
      ],
      "execution_count": 25,
      "outputs": [
        {
          "output_type": "stream",
          "text": [
            "--2021-04-19 15:41:35--  http://ir.dcs.gla.ac.uk/resources/test_collections/medl/med.tar.gz\n",
            "Resolving ir.dcs.gla.ac.uk (ir.dcs.gla.ac.uk)... 130.209.240.253\n",
            "Connecting to ir.dcs.gla.ac.uk (ir.dcs.gla.ac.uk)|130.209.240.253|:80... connected.\n",
            "HTTP request sent, awaiting response... 200 OK\n",
            "Length: 375183 (366K) [application/gzip]\n",
            "Saving to: ‘med.tar.gz’\n",
            "\n",
            "\rmed.tar.gz            0%[                    ]       0  --.-KB/s               \rmed.tar.gz          100%[===================>] 366.39K  --.-KB/s    in 0.09s   \n",
            "\n",
            "2021-04-19 15:41:36 (4.11 MB/s) - ‘med.tar.gz’ saved [375183/375183]\n",
            "\n",
            "[nltk_data] Downloading package punkt to /root/nltk_data...\n",
            "[nltk_data]   Package punkt is already up-to-date!\n",
            "[nltk_data] Downloading package punkt to /root/nltk_data...\n",
            "[nltk_data]   Package punkt is already up-to-date!\n"
          ],
          "name": "stdout"
        }
      ]
    },
    {
      "cell_type": "markdown",
      "metadata": {
        "id": "anwPWt-c-QGd"
      },
      "source": [
        "**Indexing**\n",
        "\n",
        "We won't index the title BERT search because Medline, NPL and Time don't have titles."
      ]
    },
    {
      "cell_type": "code",
      "metadata": {
        "id": "SCJHE6P5dR2f",
        "colab": {
          "base_uri": "https://localhost:8080/"
        },
        "outputId": "86d153d9-b9f3-4b94-8179-f91402c64471"
      },
      "source": [
        "# Elasticsearch settings, without using Opendistro\n",
        "# Every index has title, text and vectors to fill\n",
        "settings_nest = {\n",
        "  \"mappings\": {\n",
        "    \"properties\": {\n",
        "      \"text_vector\": {\n",
        "        \"type\": \"nested\",\n",
        "        \"properties\": {\n",
        "          \"vector\": {\n",
        "            \"type\": \"dense_vector\",\n",
        "            \"dims\": 768 \n",
        "          }\n",
        "        }\n",
        "      },\n",
        "     \"text\": {\n",
        "            \"type\" : \"text\"\n",
        "          },\n",
        "          \"title_vector\": {\n",
        "           \"type\": \"dense_vector\",\n",
        "           \"dims\": 768\n",
        "            },\n",
        "      \"title\": {\n",
        "              \"type\": \"text\"\n",
        "              },\n",
        "    }\n",
        "  }\n",
        "}\n",
        "\n",
        "#create index, see https://elasticsearch-py.readthedocs.io/en/master/api.html#elasticsearch.client.IndicesClient.create\n",
        "med_index = \"medline-corpus\"\n",
        "es.indices.delete(index=med_index, ignore=[400, 404])\n",
        "es.indices.create(med_index)\n",
        "\n",
        "med_index_sent = \"bert-sentence-medline-corpus\"\n",
        "es.indices.delete(index=med_index_sent, ignore=[400, 404])\n",
        "es.indices.create(med_index_sent, body=settings_nest)\n"
      ],
      "execution_count": 26,
      "outputs": [
        {
          "output_type": "execute_result",
          "data": {
            "text/plain": [
              "{'acknowledged': True,\n",
              " 'index': 'bert-sentence-medline-corpus',\n",
              " 'shards_acknowledged': True}"
            ]
          },
          "metadata": {
            "tags": []
          },
          "execution_count": 26
        }
      ]
    },
    {
      "cell_type": "code",
      "metadata": {
        "id": "A2m-Y-XCdR2r",
        "colab": {
          "base_uri": "https://localhost:8080/"
        },
        "outputId": "7a012cb1-c676-403d-c1bb-e49634bfec36"
      },
      "source": [
        "for ID, doc_data in med_txt_data.items():\n",
        "  # Index for match query\n",
        "  es.index(index=med_index, id=ID, body=doc_data)\n",
        "  # Index for BERT search\n",
        "  es.index(\n",
        "      index=med_index_sent, \n",
        "      id=ID, \n",
        "      body={\n",
        "          'text_vector': [{\"vector\": model.encode(text)} for text in med_txt_data[ID]['sentences']],\n",
        "          'text': med_txt_data[ID]['text']\n",
        "          }\n",
        "    )\n",
        "\n",
        "#print new index list\n",
        "create_response = es.cat.indices()\n",
        "print(create_response)"
      ],
      "execution_count": 27,
      "outputs": [
        {
          "output_type": "stream",
          "text": [
            "yellow open bert-sentence-cacm-corpus      Ty-tELX7S3qmCjlVSi_r8Q 1 1 13353 0 191.4mb 191.4mb\n",
            "yellow open bert-sentence-lisa-corpus      dwxLzKfcS1Orbt9KNizgFA 1 1 25833 0   386mb   386mb\n",
            "yellow open cranfield-corpus               --tJl7R9SQ6TFBynb4HSOA 1 1  1400 0   4.5mb   4.5mb\n",
            "yellow open bert-sentence-cranfield-corpus 5lilEXQWTnyO7YmxWakvrA 1 1 11515 0 171.9mb 171.9mb\n",
            "yellow open cacm-corpus                    kLN5pnuPTaSzXGG83eH8uw 1 1  3204 0   4.9mb   4.9mb\n",
            "yellow open cisi-corpus                    onfhviz2TZekNKrLOo_lyw 1 1  1460 0   4.5mb   4.5mb\n",
            "yellow open adi-corpus                     Ot6xtR1TQymD0mIshf_EmQ 1 1    82 0 207.1kb 207.1kb\n",
            "yellow open medline-corpus                 JRe4PJNsRImMzYoXhFwMPw 1 1   268 0   2.1mb   2.1mb\n",
            "yellow open lisa-corpus                    47fCwh1PRe-kGkE3p6WWSw 1 1   414 0   3.7mb   3.7mb\n",
            "yellow open bert-sentence-adi-corpus       PeiAvAgfSC6Sc-bgvOHQEg 1 1   285 0   4.3mb   4.3mb\n",
            "yellow open bert-sentence-cisi-corpus      g7fLF8ZHQsOL1tNYrBcveA 1 1  7792 0 116.7mb 116.7mb\n",
            "yellow open bert-sentence-medline-corpus   9G0pYxmcTl6H2834ezKZNA 1 1  2278 0  92.7mb  92.7mb\n",
            "\n"
          ],
          "name": "stdout"
        }
      ]
    },
    {
      "cell_type": "markdown",
      "metadata": {
        "id": "EXbsI4B_34QH"
      },
      "source": [
        "### NPL Corpus"
      ]
    },
    {
      "cell_type": "markdown",
      "metadata": {
        "id": "N-XV8MnE34QK"
      },
      "source": [
        "You can get the corpus from [this link](http://ir.dcs.gla.ac.uk/resources/test_collections/npl/).  <br>\n",
        "For detailed information about the format of the files, see the PragmaLingu [ Benchmarks](https://pragmalingu.de/docs/benchmarks/overview)"
      ]
    },
    {
      "cell_type": "markdown",
      "metadata": {
        "id": "nZl09cJE0755"
      },
      "source": [
        "**Parsing**"
      ]
    },
    {
      "cell_type": "code",
      "metadata": {
        "id": "FAcUrS6w34QS",
        "colab": {
          "base_uri": "https://localhost:8080/"
        },
        "outputId": "97d5694a-240a-40a7-fb01-cbd6117c83a9"
      },
      "source": [
        "# download and unzip data\n",
        "!wget http://ir.dcs.gla.ac.uk/resources/test_collections/npl/npl.tar.gz\n",
        "!tar -xf npl.tar.gz\n",
        "\n",
        "# set paths to the dowloaded data as variablesDownload and unzip data.\n",
        "\n",
        "PATH_TO_NPL_TXT = '/content/doc-text'\n",
        "PATH_TO_NPL_QRY = '/content/query-text'\n",
        "PATH_TO_NPL_REL = '/content/rlv-ass'\n",
        "\n",
        "from collections import defaultdict\n",
        "import re\n",
        "import json\n",
        "from io import StringIO\n",
        "import numpy as np\n",
        "import os\n",
        "\n",
        "npl_index = \"npl-corpus\"\n",
        "\n",
        "# get the text, query and rel files\n",
        "\n",
        "txt_entry_marker = re.compile('\\n   /\\n')\n",
        "qry_entry_marker = re.compile('\\n/\\n')\n",
        "rel_entry_marker = re.compile('\\n   /\\n')\n",
        "\n",
        "def get_data(PATH_TO_FILES, marker):\n",
        "  \"\"\"\n",
        "  Reads multiple files and spilts text into entries at the entry marker.\n",
        "  The 'marker' contains the regex at which we want to split\n",
        "  Pops last element since it's empty.\n",
        "  \"\"\"\n",
        "  with open (PATH_TO_FILES,'r') as f:\n",
        "    text = f.read()\n",
        "    lines = re.split(marker,text)\n",
        "    lines.pop()\n",
        "  return lines\n",
        "\n",
        "npl_txt_list = get_data(PATH_TO_NPL_TXT, txt_entry_marker)\n",
        "npl_qry_list = get_data(PATH_TO_NPL_QRY, qry_entry_marker)\n",
        "npl_rel_list = get_data(PATH_TO_NPL_REL, rel_entry_marker)\n",
        "\n",
        "# process the documents\n",
        "\n",
        "npl_txt_data = defaultdict(dict)\n",
        "\n",
        "for entry in npl_txt_list:\n",
        "  splitted = entry.split('\\n')\n",
        "  splitted = list(filter(None, splitted))\n",
        "  ID = splitted[0]\n",
        "  text = ' '.join(map(str, splitted[1:]))\n",
        "  npl_txt_data[ID]['text'] = text\n",
        "\n",
        "# process the queries\n",
        "\n",
        "npl_qry_rel_data = defaultdict(dict)\n",
        "\n",
        "for entry in npl_qry_list:\n",
        "  splitted = entry.split('\\n')\n",
        "  splitted = list(filter(None, splitted))\n",
        "  ID = int(splitted[0])\n",
        "  question = ' '.join(map(str, splitted[1:]))\n",
        "  npl_qry_rel_data[ID]['question'] = question\n",
        "\n",
        "# process relevance assesments\n",
        "\n",
        "npl_rel = defaultdict(list)\n",
        "\n",
        "for entry in npl_rel_list:\n",
        "  splitted = entry.replace('\\n','').split(' ')\n",
        "  splitted = list(filter(None, splitted))\n",
        "  ID = int(splitted[0])\n",
        "  npl_rel[ID].extend(splitted[1:]) \n",
        "\n",
        "npl_rel[60] = npl_rel[6010182]\n",
        "npl_rel[60].append('10182')\n",
        "del npl_rel[6010182]\n",
        "\n",
        "for id, rels in npl_rel.items():\n",
        "  npl_qry_rel_data[id]['relevance_assessments'] = [int(r) for r in rels]\n",
        "\n",
        "# transform text to sentences for BERT text search\n",
        "import nltk\n",
        "from nltk import tokenize\n",
        "from nltk.tokenize import sent_tokenize\n",
        "nltk.download('punkt')\n",
        "\n",
        "def text_to_sentences(string):\n",
        "  sentences = tokenize.sent_tokenize(string)\n",
        "  return sentences\n",
        "\n",
        "for ID, doc in npl_txt_data.items():\n",
        "  text = npl_txt_data[ID]['text']\n",
        "  npl_txt_data[ID]['sentences'] = text_to_sentences(text)"
      ],
      "execution_count": 28,
      "outputs": [
        {
          "output_type": "stream",
          "text": [
            "--2021-04-19 15:43:24--  http://ir.dcs.gla.ac.uk/resources/test_collections/npl/npl.tar.gz\n",
            "Resolving ir.dcs.gla.ac.uk (ir.dcs.gla.ac.uk)... 130.209.240.253\n",
            "Connecting to ir.dcs.gla.ac.uk (ir.dcs.gla.ac.uk)|130.209.240.253|:80... connected.\n",
            "HTTP request sent, awaiting response... 200 OK\n",
            "Length: 2125168 (2.0M) [application/gzip]\n",
            "Saving to: ‘npl.tar.gz’\n",
            "\n",
            "\rnpl.tar.gz            0%[                    ]       0  --.-KB/s               \rnpl.tar.gz          100%[===================>]   2.03M  13.1MB/s    in 0.2s    \n",
            "\n",
            "2021-04-19 15:43:25 (13.1 MB/s) - ‘npl.tar.gz’ saved [2125168/2125168]\n",
            "\n",
            "[nltk_data] Downloading package punkt to /root/nltk_data...\n",
            "[nltk_data]   Package punkt is already up-to-date!\n"
          ],
          "name": "stdout"
        }
      ]
    },
    {
      "cell_type": "markdown",
      "metadata": {
        "id": "e4IbFZrZ5ivZ"
      },
      "source": [
        "**Indexing**\n",
        "\n",
        "We won't index the title BERT search because Medline, NPL and Time don't have titles."
      ]
    },
    {
      "cell_type": "code",
      "metadata": {
        "id": "XSF2kme_deg0",
        "colab": {
          "base_uri": "https://localhost:8080/"
        },
        "outputId": "1f3a5f7a-1931-45ae-fbe4-f0df2589b63f"
      },
      "source": [
        "# Elasticsearch settings, without using Opendistro\n",
        "# Every index has title, text and vectors to fill\n",
        "settings_nest = {\n",
        "  \"mappings\": {\n",
        "    \"properties\": {\n",
        "      \"text_vector\": {\n",
        "        \"type\": \"nested\",\n",
        "        \"properties\": {\n",
        "          \"vector\": {\n",
        "            \"type\": \"dense_vector\",\n",
        "            \"dims\": 768 \n",
        "          }\n",
        "        }\n",
        "      },\n",
        "     \"text\": {\n",
        "            \"type\" : \"text\",\n",
        "          },\n",
        "          \"title\": {\n",
        "              \"type\": \"text\"\n",
        "              },\n",
        "          \"title_vector\": {\n",
        "           \"type\": \"dense_vector\",\n",
        "           \"dims\": 768\n",
        "            }\n",
        "    }\n",
        "  }\n",
        "}\n",
        "\n",
        "#create index, see https://elasticsearch-py.readthedocs.io/en/master/api.html#elasticsearch.client.IndicesClient.create\n",
        "\n",
        "npl_index = \"npl-corpus\"\n",
        "es.indices.delete(index=npl_index, ignore=[400, 404])\n",
        "es.indices.create(npl_index)\n",
        "\n",
        "npl_index_sent = \"bert-sentence-npl-corpus\"\n",
        "es.indices.delete(index=npl_index_sent, ignore=[400, 404])\n",
        "es.indices.create(npl_index_sent, body=settings_nest)"
      ],
      "execution_count": 29,
      "outputs": [
        {
          "output_type": "execute_result",
          "data": {
            "text/plain": [
              "{'acknowledged': True,\n",
              " 'index': 'bert-sentence-npl-corpus',\n",
              " 'shards_acknowledged': True}"
            ]
          },
          "metadata": {
            "tags": []
          },
          "execution_count": 29
        }
      ]
    },
    {
      "cell_type": "code",
      "metadata": {
        "id": "Po8_o4QodehB",
        "colab": {
          "base_uri": "https://localhost:8080/"
        },
        "outputId": "573304a7-a332-477f-ae47-6430ec6336ea"
      },
      "source": [
        "for ID, doc_data in npl_txt_data.items():\n",
        "  # Index for match query\n",
        "  es.index(index=npl_index, id=ID, body=doc_data)\n",
        "  # Index for BERT search\n",
        "  text_list = []\n",
        "  es.index(\n",
        "      index=npl_index_sent, \n",
        "      id=ID, \n",
        "      body={\n",
        "          'text_vector': [{\"vector\": model.encode(text)} for text in npl_txt_data[ID]['sentences']],\n",
        "          'text': npl_txt_data[ID]['text']\n",
        "          }\n",
        "    )\n",
        "\n",
        "#print new index list\n",
        "create_response = es.cat.indices()\n",
        "print(create_response)"
      ],
      "execution_count": 30,
      "outputs": [
        {
          "output_type": "stream",
          "text": [
            "yellow open bert-sentence-lisa-corpus      dwxLzKfcS1Orbt9KNizgFA 1 1 25833 0   386mb   386mb\n",
            "yellow open cranfield-corpus               --tJl7R9SQ6TFBynb4HSOA 1 1  1400 0   4.5mb   4.5mb\n",
            "yellow open bert-sentence-cranfield-corpus 5lilEXQWTnyO7YmxWakvrA 1 1 11515 0 171.9mb 171.9mb\n",
            "yellow open adi-corpus                     Ot6xtR1TQymD0mIshf_EmQ 1 1    82 0 207.1kb 207.1kb\n",
            "yellow open medline-corpus                 JRe4PJNsRImMzYoXhFwMPw 1 1  1033 0   3.2mb   3.2mb\n",
            "yellow open lisa-corpus                    47fCwh1PRe-kGkE3p6WWSw 1 1  6000 0  10.2mb  10.2mb\n",
            "yellow open bert-sentence-adi-corpus       PeiAvAgfSC6Sc-bgvOHQEg 1 1   285 0   4.3mb   4.3mb\n",
            "yellow open bert-sentence-medline-corpus   9G0pYxmcTl6H2834ezKZNA 1 1  8292 0 108.6mb 108.6mb\n",
            "yellow open bert-sentence-cacm-corpus      Ty-tELX7S3qmCjlVSi_r8Q 1 1 13353 0 191.4mb 191.4mb\n",
            "yellow open npl-corpus                     Bbia-hChQ4ONB-mdygmhcA 1 1  1083 0   3.4mb   3.4mb\n",
            "yellow open cacm-corpus                    kLN5pnuPTaSzXGG83eH8uw 1 1  3204 0   4.9mb   4.9mb\n",
            "yellow open cisi-corpus                    onfhviz2TZekNKrLOo_lyw 1 1  1460 0   4.5mb   4.5mb\n",
            "yellow open bert-sentence-npl-corpus       CDOzB7ssQ5u01qFYtAQTQQ 1 1  2182 0 152.7mb 152.7mb\n",
            "yellow open bert-sentence-cisi-corpus      g7fLF8ZHQsOL1tNYrBcveA 1 1  7792 0 116.7mb 116.7mb\n",
            "\n"
          ],
          "name": "stdout"
        }
      ]
    },
    {
      "cell_type": "markdown",
      "metadata": {
        "id": "nzHvsKajyd8o"
      },
      "source": [
        "### Time Corpus\n",
        "\n"
      ]
    },
    {
      "cell_type": "markdown",
      "metadata": {
        "id": "z1OwnRY3yd8w"
      },
      "source": [
        "You can get the corpus from [this link](http://ir.dcs.gla.ac.uk/resources/test_collections/time/).  <br>\n",
        "For detailed information about the format of the files, see the PragmaLingu [ Benchmarks](https://pragmalingu.de/docs/benchmarks/overview)"
      ]
    },
    {
      "cell_type": "markdown",
      "metadata": {
        "id": "X6uTwgD31Azk"
      },
      "source": [
        "**Parsing**"
      ]
    },
    {
      "cell_type": "code",
      "metadata": {
        "id": "JHfj2Jzbyd83",
        "colab": {
          "base_uri": "https://localhost:8080/"
        },
        "outputId": "cda84ed5-c577-4af7-ea3f-7f3ef12e5fa4"
      },
      "source": [
        "# download and unzip data\n",
        "!wget http://ir.dcs.gla.ac.uk/resources/test_collections/time/time.tar.gz\n",
        "!tar -xf time.tar.gz\n",
        "\n",
        "# set paths to the dowloaded data as variablesDownload and unzip data.\n",
        "\n",
        "PATH_TO_TIME_TXT = '/content/TIME.ALL'\n",
        "PATH_TO_TIME_QRY = '/content/TIME.QUE'\n",
        "PATH_TO_TIME_REL = '/content/TIME.REL'\n",
        "\n",
        "from collections import defaultdict\n",
        "import re\n",
        "import json\n",
        "from io import StringIO\n",
        "import numpy as np\n",
        "import os\n",
        "\n",
        "time_index = \"time-corpus\"\n",
        "\n",
        "# get the text and query files\n",
        "\n",
        "txt_entry_marker = re.compile('\\*TEXT')\n",
        "qry_entry_marker = re.compile('\\*FIND    ')\n",
        "def get_data(PATH_TO_FILES, marker):\n",
        "  \"\"\"\n",
        "  Reads multiple files and spilts text into entries at the entry marker.\n",
        "  The 'marker' contains the regex at which we want to split\n",
        "  Pops last element since it's empty.\n",
        "  \"\"\"\n",
        "  with open (PATH_TO_FILES,'r') as f:\n",
        "    text = f.read()\n",
        "    lines = re.split(marker,text)\n",
        "    lines.pop(0)\n",
        "  return lines\n",
        "\n",
        "time_txt_list = get_data(PATH_TO_TIME_TXT, txt_entry_marker)\n",
        "time_qry_list = get_data(PATH_TO_TIME_QRY, qry_entry_marker)\n",
        "\n",
        "# process text file\n",
        "page_split = re.compile('PAGE \\d{3}')\n",
        "\n",
        "time_txt_data = defaultdict(dict)\n",
        "ID = 1\n",
        "for entry in time_txt_list:\n",
        "  splitted = re.split(page_split,entry)\n",
        "  time_txt_data[ID]['text'] = splitted[1]\n",
        "  ID += 1\n",
        "  \n",
        "\n",
        "# process query file\n",
        "time_qry_rel_data = defaultdict(dict)\n",
        "qry_split = re.compile('\\n\\n ')\n",
        "\n",
        "for query in time_qry_list:\n",
        "  entries = re.split(qry_split,query)\n",
        "  time_qry_rel_data[int(entries[0])]['question'] = entries[1]\n",
        "\n",
        "# process relevance assesments\n",
        "time_rel = defaultdict(list)\n",
        "\n",
        "rel_marker = re.compile('            \\n        ')\n",
        "rel_split = re.compile('\\n')\n",
        "\n",
        "with open (PATH_TO_TIME_REL,'r') as f:\n",
        "  for lines in f:\n",
        "    line = lines.strip().replace('   ',' ').replace('  ',' ').split(' ')\n",
        "    if len(line) > 1:\n",
        "      time_rel[int(line[0])].extend(line[1:])\n",
        "\n",
        "for id, rels in time_rel.items():\n",
        "  time_qry_rel_data[id]['relevance_assessments'] = [int(r) for r in rels]\n",
        "\n",
        "# transform text to sentences for BERT text search\n",
        "import nltk\n",
        "from nltk import tokenize\n",
        "from nltk.tokenize import sent_tokenize\n",
        "nltk.download('punkt')\n",
        "\n",
        "def text_to_sentences(string):\n",
        "  sentences = tokenize.sent_tokenize(string)\n",
        "  return sentences\n",
        "\n",
        "for ID, doc in time_txt_data.items():\n",
        "  text = time_txt_data[ID]['text']\n",
        "  time_txt_data[ID]['sentences'] = text_to_sentences(text)"
      ],
      "execution_count": 31,
      "outputs": [
        {
          "output_type": "stream",
          "text": [
            "--2021-04-19 15:48:33--  http://ir.dcs.gla.ac.uk/resources/test_collections/time/time.tar.gz\n",
            "Resolving ir.dcs.gla.ac.uk (ir.dcs.gla.ac.uk)... 130.209.240.253\n",
            "Connecting to ir.dcs.gla.ac.uk (ir.dcs.gla.ac.uk)|130.209.240.253|:80... connected.\n",
            "HTTP request sent, awaiting response... 200 OK\n",
            "Length: 627965 (613K) [application/gzip]\n",
            "Saving to: ‘time.tar.gz’\n",
            "\n",
            "\rtime.tar.gz           0%[                    ]       0  --.-KB/s               \rtime.tar.gz         100%[===================>] 613.25K  --.-KB/s    in 0.1s    \n",
            "\n",
            "2021-04-19 15:48:33 (5.73 MB/s) - ‘time.tar.gz’ saved [627965/627965]\n",
            "\n",
            "[nltk_data] Downloading package punkt to /root/nltk_data...\n",
            "[nltk_data]   Package punkt is already up-to-date!\n"
          ],
          "name": "stdout"
        }
      ]
    },
    {
      "cell_type": "markdown",
      "metadata": {
        "id": "dAk3A0Kq7gBN"
      },
      "source": [
        "**Indexing**\n",
        "\n",
        "We won't index the title BERT search because Medline, NPL and Time don't have titles."
      ]
    },
    {
      "cell_type": "code",
      "metadata": {
        "id": "VUOBFj7teE4N",
        "colab": {
          "base_uri": "https://localhost:8080/"
        },
        "outputId": "6b678cee-d9f7-4f79-fe7f-dbef305e01da"
      },
      "source": [
        "# Elasticsearch settings, without using Opendistro\n",
        "# Every index has title, text and vectors to fill\n",
        "settings_nest = {\n",
        "  \"mappings\": {\n",
        "    \"properties\": {\n",
        "      \"text_vector\": {\n",
        "        \"type\": \"nested\",\n",
        "        \"properties\": {\n",
        "          \"vector\": {\n",
        "            \"type\": \"dense_vector\",\n",
        "            \"dims\": 768 \n",
        "          }\n",
        "        }\n",
        "      },\n",
        "     \"text\": {\n",
        "            \"type\" : \"text\",\n",
        "          },\n",
        "          \"title\": {\n",
        "              \"type\": \"text\"\n",
        "              },\n",
        "          \"title_vector\": {\n",
        "           \"type\": \"dense_vector\",\n",
        "           \"dims\": 768\n",
        "            }\n",
        "    }\n",
        "  }\n",
        "}\n",
        "\n",
        "#create index, see https://elasticsearch-py.readthedocs.io/en/master/api.html#elasticsearch.client.IndicesClient.create\n",
        "\n",
        "time_index = \"time-corpus\"\n",
        "es.indices.delete(index=time_index, ignore=[400, 404])\n",
        "es.indices.create(time_index)\n",
        "\n",
        "time_index_sent = \"bert-sentence-time-corpus\"\n",
        "es.indices.delete(index=time_index_sent, ignore=[400, 404])\n",
        "es.indices.create(time_index_sent, body=settings_nest)"
      ],
      "execution_count": 32,
      "outputs": [
        {
          "output_type": "execute_result",
          "data": {
            "text/plain": [
              "{'acknowledged': True,\n",
              " 'index': 'bert-sentence-time-corpus',\n",
              " 'shards_acknowledged': True}"
            ]
          },
          "metadata": {
            "tags": []
          },
          "execution_count": 32
        }
      ]
    },
    {
      "cell_type": "code",
      "metadata": {
        "id": "0j_EeFrJeE4Z",
        "colab": {
          "base_uri": "https://localhost:8080/"
        },
        "outputId": "bc8a2a43-0045-485a-e2c1-4cd8d26a7801"
      },
      "source": [
        "for ID, doc_data in time_txt_data.items():\n",
        "  # Index for match query\n",
        "  es.index(index=time_index, id=ID, body=doc_data)\n",
        "  # Index for BERT search\n",
        "  es.index(\n",
        "      index=time_index_sent, \n",
        "      id=ID, \n",
        "      body={\n",
        "          'text_vector': [{\"vector\": model.encode(text)} for text in time_txt_data[ID]['sentences']],\n",
        "          'text': time_txt_data[ID]['text']\n",
        "          }\n",
        "    )\n",
        "\n",
        "#print new index list\n",
        "create_response = es.cat.indices()\n",
        "print(create_response)"
      ],
      "execution_count": 33,
      "outputs": [
        {
          "output_type": "stream",
          "text": [
            "yellow open bert-sentence-lisa-corpus      dwxLzKfcS1Orbt9KNizgFA 1 1 25833 0   386mb   386mb\n",
            "yellow open cranfield-corpus               --tJl7R9SQ6TFBynb4HSOA 1 1  1400 0   4.5mb   4.5mb\n",
            "yellow open bert-sentence-cranfield-corpus 5lilEXQWTnyO7YmxWakvrA 1 1 11515 0 171.9mb 171.9mb\n",
            "yellow open adi-corpus                     Ot6xtR1TQymD0mIshf_EmQ 1 1    82 0 207.1kb 207.1kb\n",
            "yellow open medline-corpus                 JRe4PJNsRImMzYoXhFwMPw 1 1  1033 0   3.2mb   3.2mb\n",
            "yellow open lisa-corpus                    47fCwh1PRe-kGkE3p6WWSw 1 1  6000 0  10.2mb  10.2mb\n",
            "yellow open bert-sentence-medline-corpus   9G0pYxmcTl6H2834ezKZNA 1 1  8292 0 108.6mb 108.6mb\n",
            "yellow open bert-sentence-adi-corpus       PeiAvAgfSC6Sc-bgvOHQEg 1 1   285 0   4.3mb   4.3mb\n",
            "yellow open bert-sentence-cacm-corpus      Ty-tELX7S3qmCjlVSi_r8Q 1 1 13353 0 191.4mb 191.4mb\n",
            "yellow open npl-corpus                     Bbia-hChQ4ONB-mdygmhcA 1 1  1083 0   3.4mb   3.4mb\n",
            "yellow open cacm-corpus                    kLN5pnuPTaSzXGG83eH8uw 1 1  3204 0   4.9mb   4.9mb\n",
            "yellow open cisi-corpus                    onfhviz2TZekNKrLOo_lyw 1 1  1460 0   4.5mb   4.5mb\n",
            "yellow open time-corpus                    zbPQGAUmQMGxP6W6S7o3eQ 1 1    78 0   2.1mb   2.1mb\n",
            "yellow open bert-sentence-npl-corpus       CDOzB7ssQ5u01qFYtAQTQQ 1 1  2182 0 152.7mb 152.7mb\n",
            "yellow open bert-sentence-time-corpus      w9YI0uQ7Td-O1Yw8ugz0cg 1 1  2274 0 153.6mb 153.6mb\n",
            "yellow open bert-sentence-cisi-corpus      g7fLF8ZHQsOL1tNYrBcveA 1 1  7792 0 116.7mb 116.7mb\n",
            "\n"
          ],
          "name": "stdout"
        }
      ]
    },
    {
      "cell_type": "markdown",
      "metadata": {
        "id": "-xNf8E2oSYOT"
      },
      "source": [
        "## Evaluation"
      ]
    },
    {
      "cell_type": "markdown",
      "metadata": {
        "id": "CemuLaUAMHKP"
      },
      "source": [
        "### Recall\n",
        "\n",
        "In this section we only evaluate the Recall scores."
      ]
    },
    {
      "cell_type": "markdown",
      "metadata": {
        "id": "u71ZvdbWMkIe"
      },
      "source": [
        "**Multi Match Query**\n",
        "\n",
        "Here we evaluate the data with the [\"multi_match\"](https://pragmalingu.de/docs/experiments/experiment1#standard-elasticsearch) option of elastic search:"
      ]
    },
    {
      "cell_type": "code",
      "metadata": {
        "id": "pn_g9h7xMkIi"
      },
      "source": [
        "#use rank eval api, see https://elasticsearch-py.readthedocs.io/en/master/api.html?highlight=_rank_eval#elasticsearch.Elasticsearch.rank_eval \n",
        "#and https://www.elastic.co/guide/en/elasticsearch/reference/current/query-dsl-simple-query-string-query.html \n",
        "\n",
        "import json\n",
        "from collections import defaultdict\n",
        "\n",
        "adi_index = 'adi-corpus'\n",
        "cacm_index = 'cacm-corpus'\n",
        "cisi_index = 'cisi-corpus'\n",
        "cran_index = 'cranfield-corpus'\n",
        "lisa_index = 'lisa-corpus'\n",
        "med_index = 'medline-corpus'\n",
        "npl_index = 'npl-corpus'\n",
        "time_index = 'time-corpus'\n",
        "\n",
        "text_field = ['text']\n",
        "title_field = ['title']\n",
        "text_title_field = ['title','text']\n",
        "\n",
        "#function to get normal match evaluation body \n",
        "def create_query_body_match_recall(query_rel_dict, rel_dict, index_name,field):\n",
        "  \"\"\"\n",
        "  The function creates a request for every query in query_dict and rates the relevant documents with rel_dict to 1.\n",
        "  The index name has to be the same as from the documents your looking at.\n",
        "  An evaluation body for the elasticsearch ranking API is returned.\n",
        "  \"\"\"\n",
        "  eval_body = {\n",
        "      \"requests\": '',\n",
        "      \"metric\": {\n",
        "          \"recall\": {\n",
        "              \"relevant_rating_threshold\": 1,\n",
        "              \"k\": 20\n",
        "              }\n",
        "      }\n",
        "  }\n",
        "  requests = [] \n",
        "  current_request = defaultdict(lambda: defaultdict())\n",
        "  current_rel = {\"_index\": index_name, \"_id\": '', \"rating\": int}\n",
        "  for query_ID, query_txt in query_rel_dict.items():\n",
        "    current_query = {\"query\": { \"multi_match\": { \"query\": '' , \"fields\" : field}}}\n",
        "    current_query[\"query\"][\"multi_match\"][\"query\"] = query_txt['question']\n",
        "    current_request[\"id\"] = 'Query_'+str(query_ID)\n",
        "    current_request[\"request\"] = current_query.copy()\n",
        "    current_request[\"ratings\"] = [{\"_index\": index_name, \"_id\": str(el), \"rating\": 1} for el in rel_dict[query_ID]]\n",
        "    requests.append(current_request.copy())\n",
        "  eval_body[\"requests\"] = requests\n",
        "  return eval_body\n",
        "\n",
        "\n",
        "#ADI\n",
        "adi_create_match_recall = create_query_body_match_recall(adi_qry_rel_data, adi_rel, adi_index,title_field)\n",
        "adi_eval_body_match_recall = json.dumps(adi_create_match_recall)\n",
        "adi_res_match_recall_title = es.rank_eval(adi_eval_body_match_recall, adi_index)\n",
        "#print(json.dumps(adi_res_match_recall, indent=4, sort_keys=True))\n",
        "adi_create_match_recall = create_query_body_match_recall(adi_qry_rel_data, adi_rel, adi_index,text_field)\n",
        "adi_eval_body_match_recall = json.dumps(adi_create_match_recall)\n",
        "adi_res_match_recall_text = es.rank_eval(adi_eval_body_match_recall, adi_index)\n",
        "#print(json.dumps(adi_create_match_recall, indent=4, sort_keys=True))\n",
        "adi_create_match_recall = create_query_body_match_recall(adi_qry_rel_data, adi_rel, adi_index,text_title_field)\n",
        "adi_eval_body_match_recall = json.dumps(adi_create_match_recall)\n",
        "adi_res_match_recall_text_title = es.rank_eval(adi_eval_body_match_recall, adi_index)\n",
        "#print(json.dumps(adi_create_match_recall, indent=4, sort_keys=True))\n",
        "\n",
        "#CACM\n",
        "cacm_create_match_recall = create_query_body_match_recall(cacm_qry_rel_data, cacm_rel, cacm_index,title_field)\n",
        "cacm_eval_body_match_recall = json.dumps(cacm_create_match_recall)\n",
        "cacm_res_match_recall_title = es.rank_eval(cacm_eval_body_match_recall,cacm_index)\n",
        "#print(json.dumps(cacm_res_match_recall, indent=4, sort_keys=True))\n",
        "cacm_create_match_recall = create_query_body_match_recall(cacm_qry_rel_data, cacm_rel, cacm_index,text_field)\n",
        "cacm_eval_body_match_recall = json.dumps(cacm_create_match_recall)\n",
        "cacm_res_match_recall_text = es.rank_eval(cacm_eval_body_match_recall,cacm_index)\n",
        "#print(json.dumps(cacm_res_match_recall, indent=4, sort_keys=True))\n",
        "cacm_create_match_recall = create_query_body_match_recall(cacm_qry_rel_data, cacm_rel, cacm_index,text_title_field)\n",
        "cacm_eval_body_match_recall = json.dumps(cacm_create_match_recall)\n",
        "cacm_res_match_recall_text_title = es.rank_eval(cacm_eval_body_match_recall,cacm_index)\n",
        "#print(json.dumps(cacm_res_match_recall, indent=4, sort_keys=True))\n",
        "\n",
        "#CISI\n",
        "cisi_create_match_recall = create_query_body_match_recall(cisi_qry_rel_data, cisi_rel, cisi_index,title_field)\n",
        "cisi_eval_body_match_recall = json.dumps(cisi_create_match_recall)\n",
        "cisi_res_match_recall_title = es.rank_eval(cisi_eval_body_match_recall, cisi_index)\n",
        "#print(json.dumps(cisi_res_match_recall, indent=4, sort_keys=True))\n",
        "cisi_create_match_recall = create_query_body_match_recall(cisi_qry_rel_data, cisi_rel, cisi_index,text_field)\n",
        "cisi_eval_body_match_recall = json.dumps(cisi_create_match_recall)\n",
        "cisi_res_match_recall_text = es.rank_eval(cisi_eval_body_match_recall, cisi_index)\n",
        "#print(json.dumps(cisi_res_match_recall, indent=4, sort_keys=True))\n",
        "cisi_create_match_recall = create_query_body_match_recall(cisi_qry_rel_data, cisi_rel, cisi_index,text_title_field)\n",
        "cisi_eval_body_match_recall = json.dumps(cisi_create_match_recall)\n",
        "cisi_res_match_recall_text_title = es.rank_eval(cisi_eval_body_match_recall, cisi_index)\n",
        "#print(json.dumps(cisi_res_match_recall, indent=4, sort_keys=True))\n",
        "\n",
        "#Cranfield\n",
        "cran_create_match_recall = create_query_body_match_recall(cran_qry_rel_data, cran_rel, cran_index,title_field)\n",
        "cran_eval_body_match_recall = json.dumps(cran_create_match_recall)\n",
        "cran_res_match_recall_title = es.rank_eval(cran_eval_body_match_recall, cran_index)\n",
        "#print(json.dumps(cran_create_match_recall, indent=4, sort_keys=True))\n",
        "cran_create_match_recall = create_query_body_match_recall(cran_qry_rel_data, cran_rel, cran_index,text_field)\n",
        "cran_eval_body_match_recall = json.dumps(cran_create_match_recall)\n",
        "cran_res_match_recall_text = es.rank_eval(cran_eval_body_match_recall, cran_index)\n",
        "#print(json.dumps(cran_create_match_recall, indent=4, sort_keys=True))\n",
        "cran_create_match_recall = create_query_body_match_recall(cran_qry_rel_data, cran_rel, cran_index,text_title_field)\n",
        "cran_eval_body_match_recall = json.dumps(cran_create_match_recall)\n",
        "cran_res_match_recall_text_title = es.rank_eval(cran_eval_body_match_recall, cran_index)\n",
        "#print(json.dumps(cran_create_match_recall, indent=4, sort_keys=True))\n",
        "\n",
        "#LISA\n",
        "lisa_create_match_recall = create_query_body_match_recall(lisa_qry_rel_data, lisa_rel, lisa_index,title_field)\n",
        "lisa_eval_body_match_recall = json.dumps(lisa_create_match_recall)\n",
        "lisa_res_match_recall_title = es.rank_eval(lisa_eval_body_match_recall,lisa_index)\n",
        "#print(json.dumps(lisa_res_match_recall, indent=4, sort_keys=True))\n",
        "lisa_create_match_recall = create_query_body_match_recall(lisa_qry_rel_data, lisa_rel, lisa_index,text_field)\n",
        "lisa_eval_body_match_recall = json.dumps(lisa_create_match_recall)\n",
        "lisa_res_match_recall_text = es.rank_eval(lisa_eval_body_match_recall,lisa_index)\n",
        "#print(json.dumps(lisa_res_match_recall, indent=4, sort_keys=True))\n",
        "lisa_create_match_recall = create_query_body_match_recall(lisa_qry_rel_data, lisa_rel, lisa_index,text_title_field)\n",
        "lisa_eval_body_match_recall = json.dumps(lisa_create_match_recall)\n",
        "lisa_res_match_recall_text_title = es.rank_eval(lisa_eval_body_match_recall,lisa_index)\n",
        "#print(json.dumps(lisa_res_match_recall, indent=4, sort_keys=True))\n",
        "\n",
        "#Medline\n",
        "med_create_match_recall = create_query_body_match_recall(med_qry_rel_data, med_rel, med_index,text_field)\n",
        "med_eval_body_match_recall = json.dumps(med_create_match_recall)\n",
        "med_res_match_recall_text = es.rank_eval(med_eval_body_match_recall, med_index)\n",
        "#print(json.dumps(med_res_match_recall, indent=4, sort_keys=True))\n",
        "\n",
        "#NPL\n",
        "npl_create_match_recall = create_query_body_match_recall(npl_qry_rel_data, npl_rel, npl_index,text_field)\n",
        "npl_eval_body_match_recall = json.dumps(npl_create_match_recall)\n",
        "npl_res_match_recall_text = es.rank_eval(npl_eval_body_match_recall,npl_index)\n",
        "#print(json.dumps(npl_res_match_recall, indent=4, sort_keys=True))\n",
        "\n",
        "#TIME\n",
        "time_create_match_recall = create_query_body_match_recall(time_qry_rel_data, time_rel, time_index,text_field)\n",
        "time_eval_body_match_recall = json.dumps(time_create_match_recall)\n",
        "time_res_match_recall_text = es.rank_eval(time_eval_body_match_recall,time_index)\n",
        "#print(json.dumps(time_res_match_recall, indent=4, sort_keys=True))"
      ],
      "execution_count": 34,
      "outputs": []
    },
    {
      "cell_type": "markdown",
      "metadata": {
        "id": "keSi-TDWnxmF"
      },
      "source": [
        "**BERT Sentence Embbedings on 'title' field**"
      ]
    },
    {
      "cell_type": "code",
      "metadata": {
        "id": "Vijm2d9Uwou2",
        "colab": {
          "base_uri": "https://localhost:8080/"
        },
        "outputId": "2d8f625a-b92c-436e-9ad6-6e6942675bf5"
      },
      "source": [
        "#use rank eval api, see https://elasticsearch-py.readthedocs.io/en/master/api.html?highlight=_rank_eval#elasticsearch.Elasticsearch.rank_eval \n",
        "#and https://www.elastic.co/guide/en/elasticsearch/reference/current/search-rank-eval.html#search-rank-eval\n",
        "\n",
        "from collections import defaultdict\n",
        "\n",
        "adi_index = 'bert-sentence-adi-corpus'\n",
        "cacm_index = 'bert-sentence-cacm-corpus'\n",
        "cisi_index = 'bert-sentence-cisi-corpus'\n",
        "cran_index = 'bert-sentence-cranfield-corpus'\n",
        "lisa_index = 'bert-sentence-lisa-corpus'\n",
        "# Medline, NPL and Time corpus are excluded because they don't have any titles\n",
        "\n",
        "# function to get normal match evaluation body \n",
        "\n",
        "def create_query_body_bert_title_recall(query_rel_dict, rel_dict, index_name):\n",
        "  \"\"\"\n",
        "  The function creates a request for every query in query_dict and rates the relevant documents with rel_dict to 1.\n",
        "  The index name has to be the same as from the documents your looking at.\n",
        "  An evaluation body for the elasticsearch ranking API is returned.\n",
        "  \"\"\"\n",
        "  eval_body = {\n",
        "      \"requests\":'',\n",
        "      \"metric\": {\n",
        "          \"recall\": {\n",
        "          \"k\" : 20,\n",
        "          \"relevant_rating_threshold\": 1,\n",
        "          #\"ignore_unlabeled\": \"false\"\n",
        "          }\n",
        "         }\n",
        "      }\n",
        "  requests = [] \n",
        "  current_request = defaultdict(lambda: defaultdict())\n",
        "  current_rel = {\"_index\": index_name, \"_id\": '', \"rating\": int}\n",
        "  for query_ID, query_txt in query_rel_dict.items():\n",
        "    current_query = {\n",
        "        \"query\" : {\n",
        "  \"script_score\": {\n",
        "    \"query\": {\"match_all\": {}},\n",
        "    \"script\": {\n",
        "      \"source\": \"cosineSimilarity(params.query_vector, doc['title_vector']) + 1.0\",\n",
        "      \"params\": {\"query_vector\": list(model.encode(query_txt['question']).astype(float))}\n",
        "    }\n",
        "  }\n",
        "  }\n",
        "    }\n",
        "    current_request[\"id\"] = 'Query_'+str(query_ID)\n",
        "    current_request[\"request\"] = current_query.copy()\n",
        "    current_request[\"ratings\"] = [{\n",
        "          \"_index\": index_name, \n",
        "          \"_id\": str(el) if type(el) != tuple else str(el[0]), \n",
        "          \"rating\": 1} for el in rel_dict[query_ID]]\n",
        "    requests.append(current_request.copy())\n",
        "  eval_body[\"requests\"] = requests\n",
        "  return eval_body\n",
        "\n",
        "\n",
        "# ADI\n",
        "\n",
        "adi_create_bert_title_recall = create_query_body_bert_title_recall(adi_qry_rel_data, adi_rel, adi_index)\n",
        "adi_eval_body_bert_title_recall = json.dumps(adi_create_bert_title_recall)\n",
        "adi_res_bert_title_recall = es.rank_eval(adi_eval_body_bert_title_recall, adi_index)\n",
        "#print(json.dumps(adi_res_bert_title_recall, indent=4, sort_keys=True))\n",
        "\n",
        "# CACM\n",
        "\n",
        "cacm_create_bert_title_recall = create_query_body_bert_title_recall(cacm_qry_rel_data, cacm_rel, cacm_index)\n",
        "cacm_eval_body_bert_title_recall = json.dumps(cacm_create_bert_title_recall)\n",
        "cacm_res_bert_title_recall = es.rank_eval(cacm_eval_body_bert_title_recall, cacm_index)\n",
        "#print(json.dumps(cacm_res_bert_title_recall, indent=4, sort_keys=True))\n",
        "\n",
        "# CISI\n",
        "\n",
        "cisi_create_bert_title_recall = create_query_body_bert_title_recall(cisi_qry_rel_data, cisi_rel, cisi_index)\n",
        "cisi_eval_body_bert_title_recall = json.dumps(cisi_create_bert_title_recall)\n",
        "cisi_res_bert_title_recall = es.rank_eval(cisi_eval_body_bert_title_recall, cisi_index)\n",
        "#print(json.dumps(cisi_res_bert_title_recall, indent=4, sort_keys=True))\n",
        "\n",
        "# Cranfield\n",
        "\n",
        "cran_create_bert_title_recall = create_query_body_bert_title_recall(cran_qry_rel_data, cran_rel, cran_index)\n",
        "cran_eval_body_bert_title_recall = json.dumps(cran_create_bert_title_recall)\n",
        "cran_res_bert_title_recall = es.rank_eval(cran_eval_body_bert_title_recall, cran_index)\n",
        "#print(json.dumps(cran_res_bert_title_recall, indent=4, sort_keys=True))\n",
        "\n",
        "# LISA\n",
        "\n",
        "lisa_create_bert_title_recall = create_query_body_bert_title_recall(lisa_qry_rel_data, lisa_rel, lisa_index)\n",
        "lisa_eval_body_bert_title_recall = json.dumps(lisa_create_bert_title_recall)\n",
        "lisa_res_bert_title_recall = es.rank_eval(lisa_eval_body_bert_title_recall, lisa_index)\n",
        "#print(json.dumps(lisa_res_bert_title_recall, indent=4, sort_keys=True))"
      ],
      "execution_count": 35,
      "outputs": [
        {
          "output_type": "stream",
          "text": [
            "/usr/local/lib/python3.7/dist-packages/elasticsearch/connection/base.py:200: ElasticsearchWarning: The vector functions of the form function(query, doc['field']) are deprecated, and the form function(query, 'field') should be used instead. For example, cosineSimilarity(query, doc['field']) is replaced by cosineSimilarity(query, 'field').\n",
            "  warnings.warn(message, category=ElasticsearchWarning)\n"
          ],
          "name": "stderr"
        }
      ]
    },
    {
      "cell_type": "markdown",
      "metadata": {
        "id": "XwxKPgOpLLQe"
      },
      "source": [
        "**Re-ranking with BERT on title field**"
      ]
    },
    {
      "cell_type": "code",
      "metadata": {
        "colab": {
          "base_uri": "https://localhost:8080/"
        },
        "id": "61qFSv7OLKYr",
        "outputId": "85bc0e01-ec3f-4e96-bdeb-1619fcf44b67"
      },
      "source": [
        "#use rank eval api, see https://elasticsearch-py.readthedocs.io/en/master/api.html?highlight=_rank_eval#elasticsearch.Elasticsearch.rank_eval \n",
        "#and https://www.elastic.co/guide/en/elasticsearch/reference/current/search-rank-eval.html#search-rank-eval\n",
        "\n",
        "from collections import defaultdict\n",
        "\n",
        "adi_index = 'bert-sentence-adi-corpus'\n",
        "cacm_index = 'bert-sentence-cacm-corpus'\n",
        "cisi_index = 'bert-sentence-cisi-corpus'\n",
        "cran_index = 'bert-sentence-cranfield-corpus'\n",
        "lisa_index = 'bert-sentence-lisa-corpus'\n",
        "# Medline, NPL and Time corpus are excluded because they don't have any titles\n",
        "\n",
        "# function to get normal match evaluation body \n",
        "\n",
        "def create_query_body_rerank_title_recall(query_rel_dict, rel_dict, index_name):\n",
        "  \"\"\"\n",
        "  The function creates a request for every query in query_dict and rates the relevant documents with rel_dict to 1.\n",
        "  The index name has to be the same as from the documents your looking at.\n",
        "  An evaluation body for the elasticsearch ranking API is returned.\n",
        "  \"\"\"\n",
        "  eval_body = {\n",
        "      \"requests\":'',\n",
        "      \"metric\": {\n",
        "          \"recall\": {\n",
        "          \"k\" : 20,\n",
        "          \"relevant_rating_threshold\": 1,\n",
        "          #\"ignore_unlabeled\": \"false\"\n",
        "          }\n",
        "         }\n",
        "      }\n",
        "  requests = [] \n",
        "  current_request = defaultdict(lambda: defaultdict())\n",
        "  current_rel = {\"_index\": index_name, \"_id\": '', \"rating\": int}\n",
        "  for query_ID, query_txt in query_rel_dict.items():\n",
        "    current_query =  {\n",
        "  \"query\": {\n",
        "    \"multi_match\" : {\n",
        "                  \"query\" : query_txt['question'],\n",
        "                  \"fields\" : ['title']\n",
        "            }\n",
        "  },\n",
        "  \"rescore\" : {\n",
        "      \"window_size\" : 100,\n",
        "      \"query\" : {\n",
        "         \"rescore_query\" : {\n",
        "              \"script_score\": {\n",
        "    \"query\": {\"match_all\": {}},\n",
        "    \"script\": {\n",
        "      \"source\": \"cosineSimilarity(params.query_vector, doc['title_vector']) + 1.0\",\n",
        "      \"params\": {\"query_vector\": list(model.encode(query_txt['question']).astype(float))}\n",
        "    }\n",
        "            }\n",
        "      }\n",
        "   }\n",
        "}\n",
        "    }\n",
        "    current_request[\"id\"] = 'Query_'+str(query_ID)\n",
        "    current_request[\"request\"] = current_query.copy()\n",
        "    current_request[\"ratings\"] = [{\n",
        "          \"_index\": index_name, \n",
        "          \"_id\": str(el) if type(el) != tuple else str(el[0]), \n",
        "          \"rating\": 1} for el in rel_dict[query_ID]]\n",
        "    requests.append(current_request.copy())\n",
        "  eval_body[\"requests\"] = requests\n",
        "  return eval_body\n",
        "\n",
        "\n",
        "# ADI\n",
        "\n",
        "adi_create_rerank_title_recall = create_query_body_rerank_title_recall(adi_qry_rel_data, adi_rel, adi_index)\n",
        "adi_eval_body_rerank_title_recall = json.dumps(adi_create_rerank_title_recall)\n",
        "adi_res_rerank_title_recall = es.rank_eval(adi_eval_body_rerank_title_recall, adi_index)\n",
        "#print(json.dumps(adi_res_rerank_title_recall, indent=4, sort_keys=True))\n",
        "\n",
        "# CACM\n",
        "\n",
        "cacm_create_rerank_title_recall = create_query_body_rerank_title_recall(cacm_qry_rel_data, cacm_rel, cacm_index)\n",
        "cacm_eval_body_rerank_title_recall = json.dumps(cacm_create_rerank_title_recall)\n",
        "cacm_res_rerank_title_recall = es.rank_eval(cacm_eval_body_rerank_title_recall, cacm_index)\n",
        "#print(json.dumps(cacm_res_rerank_title_recall, indent=4, sort_keys=True))\n",
        "\n",
        "# CISI\n",
        "\n",
        "cisi_create_rerank_title_recall = create_query_body_rerank_title_recall(cisi_qry_rel_data, cisi_rel, cisi_index)\n",
        "cisi_eval_body_rerank_title_recall = json.dumps(cisi_create_rerank_title_recall)\n",
        "cisi_res_rerank_title_recall = es.rank_eval(cisi_eval_body_rerank_title_recall, cisi_index)\n",
        "#print(json.dumps(cisi_res_rerank_title_recall, indent=4, sort_keys=True))\n",
        "\n",
        "# Cranfield\n",
        "\n",
        "cran_create_rerank_title_recall = create_query_body_rerank_title_recall(cran_qry_rel_data, cran_rel, cran_index)\n",
        "cran_eval_body_rerank_title_recall = json.dumps(cran_create_rerank_title_recall)\n",
        "cran_res_rerank_title_recall = es.rank_eval(cran_eval_body_rerank_title_recall, cran_index)\n",
        "#print(json.dumps(cran_res_rerank_title_recall, indent=4, sort_keys=True))\n",
        "\n",
        "# LISA\n",
        "\n",
        "lisa_create_rerank_title_recall = create_query_body_rerank_title_recall(lisa_qry_rel_data, lisa_rel, lisa_index)\n",
        "lisa_eval_body_rerank_title_recall = json.dumps(lisa_create_rerank_title_recall)\n",
        "lisa_res_rerank_title_recall = es.rank_eval(lisa_eval_body_rerank_title_recall, lisa_index)\n",
        "#print(json.dumps(lisa_res_rerank_title_recall, indent=4, sort_keys=True))"
      ],
      "execution_count": 36,
      "outputs": [
        {
          "output_type": "stream",
          "text": [
            "/usr/local/lib/python3.7/dist-packages/elasticsearch/connection/base.py:200: ElasticsearchWarning: The vector functions of the form function(query, doc['field']) are deprecated, and the form function(query, 'field') should be used instead. For example, cosineSimilarity(query, doc['field']) is replaced by cosineSimilarity(query, 'field').\n",
            "  warnings.warn(message, category=ElasticsearchWarning)\n"
          ],
          "name": "stderr"
        }
      ]
    },
    {
      "cell_type": "markdown",
      "metadata": {
        "id": "cKJJH-CaIy9J"
      },
      "source": [
        "**BERT Transformer on 'text' field**"
      ]
    },
    {
      "cell_type": "code",
      "metadata": {
        "id": "BJGIESLqMmFv"
      },
      "source": [
        "#use rank eval api, see https://elasticsearch-py.readthedocs.io/en/master/api.html?highlight=_rank_eval#elasticsearch.Elasticsearch.rank_eval \n",
        "#and https://www.elastic.co/guide/en/elasticsearch/reference/current/search-rank-eval.html#search-rank-eval\n",
        "\n",
        "from collections import defaultdict\n",
        "\n",
        "adi_index = 'bert-sentence-adi-corpus'\n",
        "cacm_index = 'bert-sentence-cacm-corpus'\n",
        "cisi_index = 'bert-sentence-cisi-corpus'\n",
        "cran_index = 'bert-sentence-cranfield-corpus'\n",
        "lisa_index = 'bert-sentence-lisa-corpus'\n",
        "med_index = 'bert-sentence-medline-corpus'\n",
        "npl_index = 'bert-sentence-npl-corpus'\n",
        "time_index = 'bert-sentence-time-corpus'\n",
        "\n",
        "# function to get normal match evaluation body \n",
        "\n",
        "def create_query_body_bert_text_recall(query_rel_dict, rel_dict, index_name):\n",
        "  \"\"\"\n",
        "  The function creates a request for every query in query_dict and rates the relevant documents with rel_dict to 1.\n",
        "  The index name has to be the same as from the documents your looking at.\n",
        "  An evaluation body for the elasticsearch ranking API is returned.\n",
        "  \"\"\"\n",
        "  eval_body = {\n",
        "      \"requests\":'',\n",
        "      \"metric\": {\n",
        "          \"recall\": {\n",
        "          \"k\" : 20,\n",
        "          \"relevant_rating_threshold\": 1,\n",
        "          #\"ignore_unlabeled\": \"false\"\n",
        "          }\n",
        "         }\n",
        "      }\n",
        "  requests = [] \n",
        "  current_request = defaultdict(lambda: defaultdict())\n",
        "  current_rel = {\"_index\": index_name, \"_id\": '', \"rating\": int}\n",
        "  for query_ID, query_txt in query_rel_dict.items():\n",
        "    current_query = {\n",
        "        \"query\": {\n",
        "            \"nested\": {\n",
        "                \"path\": \"text_vector\",\n",
        "                \"score_mode\": \"max\", \n",
        "                \"query\": {\n",
        "                    \"function_score\": {\n",
        "                        \"script_score\": {\n",
        "                            \"script\": {\n",
        "                                \"source\": \"1.0 + cosineSimilarity(params.query_vector, 'text_vector.vector')\",\n",
        "                                \"params\": {\"query_vector\": list(model.encode(query_txt['question']).astype(float))}\n",
        "                                }\n",
        "                                }\n",
        "                                }\n",
        "                          }\n",
        "                       }\n",
        "                  }\n",
        "                  }\n",
        "    current_request[\"id\"] = 'Query_'+str(query_ID)\n",
        "    current_request[\"request\"] = current_query.copy()\n",
        "    current_request[\"ratings\"] = [{\n",
        "          \"_index\": index_name, \n",
        "          \"_id\": str(el) if type(el) != tuple else str(el[0]), \n",
        "          \"rating\": 1} for el in rel_dict[query_ID]]\n",
        "    requests.append(current_request.copy())\n",
        "  eval_body[\"requests\"] = requests\n",
        "  return eval_body\n",
        "\n",
        "# ADI\n",
        "\n",
        "adi_create_bert_text_recall = create_query_body_bert_text_recall(adi_qry_rel_data, adi_rel, adi_index)\n",
        "adi_eval_body_bert_text_recall = json.dumps(adi_create_bert_text_recall)\n",
        "adi_res_bert_text_recall = es.rank_eval(adi_eval_body_bert_text_recall, adi_index)\n",
        "#print(json.dumps(adi_res, indent=4, sort_keys=True))\n",
        "\n",
        "# CACM\n",
        "\n",
        "cacm_create_bert_text_recall = create_query_body_bert_text_recall(cacm_qry_rel_data, cacm_rel, cacm_index)\n",
        "cacm_eval_body_bert_text_recall = json.dumps(cacm_create_bert_text_recall)\n",
        "cacm_res_bert_text_recall = es.rank_eval(cacm_eval_body_bert_text_recall, cacm_index)\n",
        "#print(json.dumps(cacm_res, indent=4, sort_keys=True))\n",
        "\n",
        "# CISI\n",
        "\n",
        "cisi_create_bert_text_recall = create_query_body_bert_text_recall(cisi_qry_rel_data, cisi_rel, cisi_index)\n",
        "cisi_eval_body_bert_text_recall = json.dumps(cisi_create_bert_text_recall)\n",
        "cisi_res_bert_text_recall = es.rank_eval(cisi_eval_body_bert_text_recall, cisi_index)\n",
        "#print(json.dumps(cisi_res, indent=4, sort_keys=True))\n",
        "\n",
        "# Cranfield\n",
        "\n",
        "cran_create_bert_text_recall = create_query_body_bert_text_recall(cran_qry_rel_data, cran_rel, cran_index)\n",
        "cran_eval_body_bert_text_recall = json.dumps(cran_create_bert_text_recall)\n",
        "cran_res_bert_text_recall = es.rank_eval(cran_eval_body_bert_text_recall, cran_index, request_timeout=160)\n",
        "#print(json.dumps(cran_res_bert_text_recall, indent=4, sort_keys=True))\n",
        "\n",
        "# LISA\n",
        "\n",
        "lisa_create_bert_text_recall = create_query_body_bert_text_recall(lisa_qry_rel_data, lisa_rel, lisa_index)\n",
        "lisa_eval_body_bert_text_recall = json.dumps(lisa_create_bert_text_recall)\n",
        "lisa_res_bert_text_recall = es.rank_eval(lisa_eval_body_bert_text_recall, lisa_index)\n",
        "#print(json.dumps(lisa_res, indent=4, sort_keys=True))\n",
        "\n",
        "# Medline\n",
        "\n",
        "med_create_bert_text_recall = create_query_body_bert_text_recall(med_qry_rel_data, med_rel, med_index)\n",
        "med_eval_body_bert_text_recall = json.dumps(med_create_bert_text_recall)\n",
        "med_res_bert_text_recall = es.rank_eval(med_eval_body_bert_text_recall, med_index)\n",
        "#print(json.dumps(med_res, indent=4, sort_keys=True))\n",
        "\n",
        "# NPL\n",
        "\n",
        "npl_create_bert_text_recall = create_query_body_bert_text_recall(npl_qry_rel_data, npl_rel, npl_index)\n",
        "npl_eval_body_bert_text_recall = json.dumps(npl_create_bert_text_recall)\n",
        "npl_res_bert_text_recall = es.rank_eval(npl_eval_body_bert_text_recall, npl_index)\n",
        "#print(json.dumps(npl_res, indent=4, sort_keys=True))\n",
        "\n",
        "# Time\n",
        "\n",
        "time_create_bert_text_recall = create_query_body_bert_text_recall(time_qry_rel_data, time_rel, time_index)\n",
        "time_eval_body_bert_text_recall = json.dumps(time_create_bert_text_recall)\n",
        "time_res_bert_text_recall = es.rank_eval(time_eval_body_bert_text_recall, time_index)\n",
        "#print(json.dumps(time_res, indent=4, sort_keys=True))"
      ],
      "execution_count": 37,
      "outputs": []
    },
    {
      "cell_type": "markdown",
      "metadata": {
        "id": "CxZIfWk-LDfJ"
      },
      "source": [
        "**Re-ranking with BERT on text field**"
      ]
    },
    {
      "cell_type": "code",
      "metadata": {
        "id": "7XThXyyeJlah"
      },
      "source": [
        "#use rank eval api, see https://elasticsearch-py.readthedocs.io/en/master/api.html?highlight=_rank_eval#elasticsearch.Elasticsearch.rank_eval \n",
        "#and https://www.elastic.co/guide/en/elasticsearch/reference/current/search-rank-eval.html#search-rank-eval\n",
        "\n",
        "from collections import defaultdict\n",
        "\n",
        "adi_index = 'bert-sentence-adi-corpus'\n",
        "cacm_index = 'bert-sentence-cacm-corpus'\n",
        "cisi_index = 'bert-sentence-cisi-corpus'\n",
        "cran_index = 'bert-sentence-cranfield-corpus'\n",
        "lisa_index = 'bert-sentence-lisa-corpus'\n",
        "med_index = 'bert-sentence-medline-corpus'\n",
        "npl_index = 'bert-sentence-npl-corpus'\n",
        "time_index = 'bert-sentence-time-corpus'\n",
        "\n",
        "# function to get normal match evaluation body \n",
        "\n",
        "def create_query_body_rerank_text_recall(query_rel_dict, rel_dict, index_name):\n",
        "  \"\"\"\n",
        "  The function creates a request for every query in query_dict and rates the relevant documents with rel_dict to 1.\n",
        "  The index name has to be the same as from the documents your looking at.\n",
        "  An evaluation body for the elasticsearch ranking API is returned.\n",
        "  \"\"\"\n",
        "  eval_body = {\n",
        "      \"requests\":'',\n",
        "      \"metric\": {\n",
        "          \"recall\": {\n",
        "          \"k\" : 20,\n",
        "          \"relevant_rating_threshold\": 1,\n",
        "          #\"ignore_unlabeled\": \"false\"\n",
        "          }\n",
        "         }\n",
        "      }\n",
        "  requests = [] \n",
        "  current_request = defaultdict(lambda: defaultdict())\n",
        "  current_rel = {\"_index\": index_name, \"_id\": '', \"rating\": int}\n",
        "  for query_ID, query_txt in query_rel_dict.items():\n",
        "    current_query = {\n",
        "  \"query\": {\n",
        "    \"multi_match\" : {\n",
        "                  \"query\" : query_txt['question'],\n",
        "                  \"fields\" : ['text']\n",
        "            }\n",
        "  },\n",
        "  \"rescore\" : {\n",
        "      \"window_size\" : 100,\n",
        "      \"query\": {\n",
        "          \"rescore_query\" : {\n",
        "            \"nested\": {\n",
        "                \"path\": \"text_vector\",\n",
        "                \"score_mode\": \"max\", \n",
        "                \"query\": {\n",
        "                    \"function_score\": {\n",
        "                        \"script_score\": {\n",
        "                            \"script\": {\n",
        "                                \"source\": \"1.0 + cosineSimilarity(params.query_vector, 'text_vector.vector')\",\n",
        "                                \"params\": {\"query_vector\": list(model.encode(query_txt['question']).astype(float))}\n",
        "                                }\n",
        "                                }\n",
        "                                }\n",
        "                          }\n",
        "                       }\n",
        "            }\n",
        "                  }\n",
        "}\n",
        "    }\n",
        "    current_request[\"id\"] = 'Query_'+str(query_ID)\n",
        "    current_request[\"request\"] = current_query.copy()\n",
        "    current_request[\"ratings\"] = [{\n",
        "          \"_index\": index_name, \n",
        "          \"_id\": str(el) if type(el) != tuple else str(el[0]), \n",
        "          \"rating\": 1} for el in rel_dict[query_ID]]\n",
        "    requests.append(current_request.copy())\n",
        "  eval_body[\"requests\"] = requests\n",
        "  return eval_body\n",
        "\n",
        "# ADI\n",
        "\n",
        "adi_create_rerank_text_recall = create_query_body_rerank_text_recall(adi_qry_rel_data, adi_rel, adi_index)\n",
        "adi_eval_body_rerank_text_recall = json.dumps(adi_create_rerank_text_recall)\n",
        "adi_res_rerank_text_recall = es.rank_eval(adi_eval_body_rerank_text_recall, adi_index)\n",
        "#print(json.dumps(adi_res_rerank_text_recall, indent=4, sort_keys=True))\n",
        "\n",
        "# CACM\n",
        "\n",
        "cacm_create_rerank_text_recall = create_query_body_rerank_text_recall(cacm_qry_rel_data, cacm_rel, cacm_index)\n",
        "cacm_eval_body_rerank_text_recall = json.dumps(cacm_create_rerank_text_recall)\n",
        "cacm_res_rerank_text_recall = es.rank_eval(cacm_eval_body_rerank_text_recall, cacm_index)\n",
        "#print(json.dumps(cacm_res_rerank_text_recall, indent=4, sort_keys=True))\n",
        "\n",
        "# CISI\n",
        "\n",
        "cisi_create_rerank_text_recall = create_query_body_rerank_text_recall(cisi_qry_rel_data, cisi_rel, cisi_index)\n",
        "cisi_eval_body_rerank_text_recall = json.dumps(cisi_create_rerank_text_recall)\n",
        "cisi_res_rerank_text_recall = es.rank_eval(cisi_eval_body_rerank_text_recall, cisi_index)\n",
        "#print(json.dumps(cisi_res_rerank_text_recall, indent=4, sort_keys=True))\n",
        "\n",
        "# Cranfield\n",
        "\n",
        "cran_create_rerank_text_recall = create_query_body_rerank_text_recall(cran_qry_rel_data, cran_rel, cran_index)\n",
        "cran_eval_body_rerank_text_recall = json.dumps(cran_create_rerank_text_recall)\n",
        "cran_res_rerank_text_recall = es.rank_eval(cran_eval_body_rerank_text_recall, cran_index)\n",
        "#print(json.dumps(cran_res_rerank_text_recall, indent=4, sort_keys=True))\n",
        "\n",
        "# LISA\n",
        "\n",
        "lisa_create_rerank_text_recall = create_query_body_rerank_text_recall(lisa_qry_rel_data, lisa_rel, lisa_index)\n",
        "lisa_eval_body_rerank_text_recall = json.dumps(lisa_create_rerank_text_recall)\n",
        "lisa_res_rerank_text_recall = es.rank_eval(lisa_eval_body_rerank_text_recall, lisa_index)\n",
        "#print(json.dumps(lisa_res_rerank_text_recall, indent=4, sort_keys=True))\n",
        "\n",
        "# Medline\n",
        "\n",
        "med_create_rerank_text_recall = create_query_body_rerank_text_recall(med_qry_rel_data, med_rel, med_index)\n",
        "med_eval_body_rerank_text_recall = json.dumps(med_create_rerank_text_recall)\n",
        "med_res_rerank_text_recall = es.rank_eval(med_eval_body_rerank_text_recall, med_index)\n",
        "#print(json.dumps(med_res_rerank_text_recall, indent=4, sort_keys=True))\n",
        "\n",
        "# NPL\n",
        "\n",
        "npl_create_rerank_text_recall = create_query_body_rerank_text_recall(npl_qry_rel_data, npl_rel, npl_index)\n",
        "npl_eval_body_rerank_text_recall = json.dumps(npl_create_rerank_text_recall)\n",
        "npl_res_rerank_text_recall = es.rank_eval(npl_eval_body_rerank_text_recall, npl_index)\n",
        "#print(json.dumps(npl_res_rerank_text_recall, indent=4, sort_keys=True))\n",
        "\n",
        "# Time\n",
        "\n",
        "time_create_rerank_text_recall = create_query_body_rerank_text_recall(time_qry_rel_data, time_rel, time_index)\n",
        "time_eval_body_rerank_text_recall = json.dumps(time_create_rerank_text_recall)\n",
        "time_res_rerank_text_recall = es.rank_eval(time_eval_body_rerank_text_recall, time_index)\n",
        "#print(json.dumps(time_res_rerank_text_recall, indent=4, sort_keys=True))"
      ],
      "execution_count": 38,
      "outputs": []
    },
    {
      "cell_type": "markdown",
      "metadata": {
        "id": "DuTM-6zybmu8"
      },
      "source": [
        "**Complex Re-ranking Query**"
      ]
    },
    {
      "cell_type": "code",
      "metadata": {
        "colab": {
          "base_uri": "https://localhost:8080/"
        },
        "id": "Z5lQwfbtbpFL",
        "outputId": "190d3d1b-0310-4bab-9871-cfda9eaadb27"
      },
      "source": [
        "#use rank eval api, see https://elasticsearch-py.readthedocs.io/en/master/api.html?highlight=_rank_eval#elasticsearch.Elasticsearch.rank_eval \n",
        "#and https://www.elastic.co/guide/en/elasticsearch/reference/current/search-rank-eval.html#search-rank-eval\n",
        "\n",
        "from collections import defaultdict\n",
        "\n",
        "adi_index = 'bert-sentence-adi-corpus'\n",
        "cacm_index = 'bert-sentence-cacm-corpus'\n",
        "cisi_index = 'bert-sentence-cisi-corpus'\n",
        "cran_index = 'bert-sentence-cranfield-corpus'\n",
        "lisa_index = 'bert-sentence-lisa-corpus'\n",
        "med_index = 'bert-sentence-medline-corpus'\n",
        "npl_index = 'bert-sentence-npl-corpus'\n",
        "time_index = 'bert-sentence-time-corpus'\n",
        "\n",
        "query_weight = 0.7 # has to be float\n",
        "rescore_query_weight = 3.5 # has to be float\n",
        "\n",
        "# function to get normal match evaluation body \n",
        "\n",
        "def create_query_body_complex_rerank_recall(query_rel_dict, rel_dict, index_name):\n",
        "  \"\"\"\n",
        "  The function creates a request for every query in query_dict and rates the relevant documents with rel_dict to 1.\n",
        "  The index name has to be the same as from the documents your looking at.\n",
        "  An evaluation body for the elasticsearch ranking API is returned.\n",
        "  \"\"\"\n",
        "  eval_body = {\n",
        "      \"requests\":'',\n",
        "      \"metric\": {\n",
        "          \"recall\": {\n",
        "          \"k\" : 20,\n",
        "          \"relevant_rating_threshold\": 1,\n",
        "          #\"ignore_unlabeled\": \"false\"\n",
        "          }\n",
        "         }\n",
        "      }\n",
        "  requests = [] \n",
        "  current_request = defaultdict(lambda: defaultdict())\n",
        "  current_rel = {\"_index\": index_name, \"_id\": '', \"rating\": int}\n",
        "  for query_ID, query_txt in query_rel_dict.items():\n",
        "    current_query = {\n",
        "  \"query\": {\n",
        "    \"multi_match\" : {\n",
        "                  \"query\" : query_txt['question'],\n",
        "                  \"fields\" : ['text','title']\n",
        "            }\n",
        "  },\n",
        "  \"rescore\" :  [\n",
        "                {\n",
        "      \"window_size\" : 100,\n",
        "      \"query\" : {\n",
        "         \"rescore_query\" : {\n",
        "              \"script_score\": {\n",
        "    \"query\": {\"match_all\": {}},\n",
        "    \"script\": {\n",
        "      \"source\": \"cosineSimilarity(params.query_vector, doc['title_vector']) + 1.0\",\n",
        "      \"params\": {\"query_vector\": list(model.encode(query_txt['question']).astype(float))}\n",
        "    }\n",
        "            }\n",
        "      },\n",
        "         \"query_weight\" : query_weight,\n",
        "         \"rescore_query_weight\" : rescore_query_weight\n",
        "   }\n",
        "},\n",
        "                {\n",
        "      \"window_size\" : 100,\n",
        "      \"query\": {\n",
        "          \"rescore_query\" : {\n",
        "            \"nested\": {\n",
        "                \"path\": \"text_vector\",\n",
        "                \"score_mode\": \"max\", \n",
        "                \"query\": {\n",
        "                    \"function_score\": {\n",
        "                        \"script_score\": {\n",
        "                            \"script\": {\n",
        "                                \"source\": \"1.0 + cosineSimilarity(params.query_vector, 'text_vector.vector')\",\n",
        "                                \"params\": {\"query_vector\": list(model.encode(query_txt['question']).astype(float))}\n",
        "                                }\n",
        "                                }\n",
        "                                }\n",
        "                          }\n",
        "                       }\n",
        "            }\n",
        "                  }\n",
        "}  \n",
        "  ]}\n",
        "    current_request[\"id\"] = 'Query_'+str(query_ID)\n",
        "    current_request[\"request\"] = current_query.copy()\n",
        "    current_request[\"ratings\"] = [{\n",
        "          \"_index\": index_name, \n",
        "          \"_id\": str(el) if type(el) != tuple else str(el[0]), \n",
        "          \"rating\": 1} for el in rel_dict[query_ID]]\n",
        "    requests.append(current_request.copy())\n",
        "  eval_body[\"requests\"] = requests\n",
        "  return eval_body\n",
        "\n",
        "# ADI\n",
        "\n",
        "adi_create_complex_rerank_recall = create_query_body_complex_rerank_recall(adi_qry_rel_data, adi_rel, adi_index)\n",
        "adi_eval_body_complex_rerank_recall = json.dumps(adi_create_complex_rerank_recall)\n",
        "adi_res_complex_rerank_recall = es.rank_eval(adi_eval_body_complex_rerank_recall, adi_index)\n",
        "#print(json.dumps(adi_res_complex_rerank_recall, indent=4, sort_keys=True))\n",
        "\n",
        "# CACM\n",
        "\n",
        "cacm_create_complex_rerank_recall = create_query_body_complex_rerank_recall(cacm_qry_rel_data, cacm_rel, cacm_index)\n",
        "cacm_eval_body_complex_rerank_recall = json.dumps(cacm_create_complex_rerank_recall)\n",
        "cacm_res_complex_rerank_recall = es.rank_eval(cacm_eval_body_complex_rerank_recall, cacm_index)\n",
        "#print(json.dumps(cacm_res_complex_rerank_recall, indent=4, sort_keys=True))\n",
        "\n",
        "# CISI\n",
        "\n",
        "cisi_create_complex_rerank_recall = create_query_body_complex_rerank_recall(cisi_qry_rel_data, cisi_rel, cisi_index)\n",
        "cisi_eval_body_complex_rerank_recall = json.dumps(cisi_create_complex_rerank_recall)\n",
        "cisi_res_complex_rerank_recall = es.rank_eval(cisi_eval_body_complex_rerank_recall, cisi_index)\n",
        "#print(json.dumps(cisi_res_complex_rerank_recall, indent=4, sort_keys=True))\n",
        "\n",
        "# Cranfield\n",
        "\n",
        "cran_create_complex_rerank_recall = create_query_body_complex_rerank_recall(cran_qry_rel_data, cran_rel, cran_index)\n",
        "cran_eval_body_complex_rerank_recall = json.dumps(cran_create_complex_rerank_recall)\n",
        "cran_res_complex_rerank_recall = es.rank_eval(cran_eval_body_complex_rerank_recall, cran_index)\n",
        "#print(json.dumps(cran_res_complex_rerank_recall, indent=4, sort_keys=True))\n",
        "\n",
        "# LISA\n",
        "\n",
        "lisa_create_complex_rerank_recall = create_query_body_complex_rerank_recall(lisa_qry_rel_data, lisa_rel, lisa_index)\n",
        "lisa_eval_body_complex_rerank_recall = json.dumps(lisa_create_complex_rerank_recall)\n",
        "lisa_res_complex_rerank_recall = es.rank_eval(lisa_eval_body_complex_rerank_recall, lisa_index)\n",
        "#print(json.dumps(lisa_res_complex_rerank_recall, indent=4, sort_keys=True))"
      ],
      "execution_count": 39,
      "outputs": [
        {
          "output_type": "stream",
          "text": [
            "/usr/local/lib/python3.7/dist-packages/elasticsearch/connection/base.py:200: ElasticsearchWarning: The vector functions of the form function(query, doc['field']) are deprecated, and the form function(query, 'field') should be used instead. For example, cosineSimilarity(query, doc['field']) is replaced by cosineSimilarity(query, 'field').\n",
            "  warnings.warn(message, category=ElasticsearchWarning)\n"
          ],
          "name": "stderr"
        }
      ]
    },
    {
      "cell_type": "markdown",
      "metadata": {
        "id": "kuHz0wJvFBzW"
      },
      "source": [
        "### Precision\n",
        "\n",
        "In this section we only evaluate the Precision scores."
      ]
    },
    {
      "cell_type": "markdown",
      "metadata": {
        "id": "tfC6EgJdFBza"
      },
      "source": [
        "**Multi Match Query**\n",
        "\n",
        "Here we evaluate the data with the [\"multi_match\"](https://pragmalingu.de/docs/experiments/experiment1#standard-elasticsearch) option of elastic search:"
      ]
    },
    {
      "cell_type": "code",
      "metadata": {
        "id": "8dvtBA_NFBzc"
      },
      "source": [
        "#use rank eval api, see https://elasticsearch-py.readthedocs.io/en/master/api.html?highlight=_rank_eval#elasticsearch.Elasticsearch.rank_eval \n",
        "#and https://www.elastic.co/guide/en/elasticsearch/reference/current/query-dsl-simple-query-string-query.html \n",
        "\n",
        "import json\n",
        "from collections import defaultdict\n",
        "\n",
        "adi_index = 'adi-corpus'\n",
        "cacm_index = 'cacm-corpus'\n",
        "cisi_index = 'cisi-corpus'\n",
        "cran_index = 'cranfield-corpus'\n",
        "lisa_index = 'lisa-corpus'\n",
        "med_index = 'medline-corpus'\n",
        "npl_index = 'npl-corpus'\n",
        "time_index = 'time-corpus'\n",
        "\n",
        "text_field = ['text']\n",
        "title_field = ['title']\n",
        "text_title_field = ['title','text']\n",
        "\n",
        "\n",
        "#function to get normal match evaluation body \n",
        "def create_query_body_match_precision(query_rel_dict, rel_dict, index_name, field):\n",
        "  \"\"\"\n",
        "  The function creates a request for every query in query_dict and rates the relevant documents with rel_dict to 1.\n",
        "  The index name has to be the same as from the documents your looking at.\n",
        "  An evaluation body for the elasticsearch ranking API is returned.\n",
        "  \"\"\"\n",
        "  eval_body = {\n",
        "      \"requests\": '',\n",
        "      \"metric\": {\n",
        "          \"precision\": {\n",
        "              \"relevant_rating_threshold\": 1,\n",
        "              \"k\": 20\n",
        "              }\n",
        "      }\n",
        "  }\n",
        "  requests = [] \n",
        "  current_request = defaultdict(lambda: defaultdict())\n",
        "  current_rel = {\"_index\": index_name, \"_id\": '', \"rating\": int}\n",
        "  for query_ID, query_txt in query_rel_dict.items():\n",
        "    current_query = {\"query\": { \"multi_match\": { \"query\": '' , \"fields\" : field}}}\n",
        "    current_query[\"query\"][\"multi_match\"][\"query\"] = query_txt['question']\n",
        "    current_request[\"id\"] = 'Query_'+str(query_ID)\n",
        "    current_request[\"request\"] = current_query.copy()\n",
        "    current_request[\"ratings\"] = [{\"_index\": index_name, \"_id\": str(el), \"rating\": 1} for el in rel_dict[query_ID]]\n",
        "    requests.append(current_request.copy())\n",
        "  eval_body[\"requests\"] = requests\n",
        "  return eval_body\n",
        "\n",
        "\n",
        "#ADI\n",
        "adi_create_match_precision= create_query_body_match_precision(adi_qry_rel_data, adi_rel, adi_index,title_field)\n",
        "adi_eval_body_match_precision = json.dumps(adi_create_match_precision)\n",
        "adi_res_match_precision_title = es.rank_eval(adi_eval_body_match_precision, adi_index)\n",
        "#print(json.dumps(adi_res_match_precision, indent=4, sort_keys=True))\n",
        "adi_create_match_precision= create_query_body_match_precision(adi_qry_rel_data, adi_rel, adi_index,text_field)\n",
        "adi_eval_body_match_precision = json.dumps(adi_create_match_precision)\n",
        "adi_res_match_precision_text = es.rank_eval(adi_eval_body_match_precision, adi_index)\n",
        "#print(json.dumps(adi_res_match_precision, indent=4, sort_keys=True))\n",
        "adi_create_match_precision= create_query_body_match_precision(adi_qry_rel_data, adi_rel, adi_index,text_title_field)\n",
        "adi_eval_body_match_precision = json.dumps(adi_create_match_precision)\n",
        "adi_res_match_precision_text_title = es.rank_eval(adi_eval_body_match_precision, adi_index)\n",
        "#print(json.dumps(adi_res_match_precision, indent=4, sort_keys=True))\n",
        "\n",
        "#CACM\n",
        "cacm_create_match_precision = create_query_body_match_precision(cacm_qry_rel_data, cacm_rel, cacm_index,title_field)\n",
        "cacm_eval_body_match_precision = json.dumps(cacm_create_match_precision)\n",
        "cacm_res_match_precision_title = es.rank_eval(cacm_eval_body_match_precision,cacm_index)\n",
        "#print(json.dumps(cacm_res_match_precision, indent=4, sort_keys=True))\n",
        "cacm_create_match_precision = create_query_body_match_precision(cacm_qry_rel_data, cacm_rel, cacm_index,text_field)\n",
        "cacm_eval_body_match_precision = json.dumps(cacm_create_match_precision)\n",
        "cacm_res_match_precision_text = es.rank_eval(cacm_eval_body_match_precision,cacm_index)\n",
        "#print(json.dumps(cacm_res_match_precision, indent=4, sort_keys=True))\n",
        "cacm_create_match_precision = create_query_body_match_precision(cacm_qry_rel_data, cacm_rel, cacm_index,text_title_field)\n",
        "cacm_eval_body_match_precision = json.dumps(cacm_create_match_precision)\n",
        "cacm_res_match_precision_text_title = es.rank_eval(cacm_eval_body_match_precision,cacm_index)\n",
        "#print(json.dumps(cacm_res_match_precision, indent=4, sort_keys=True))\n",
        "\n",
        "#CISI\n",
        "cisi_create_match_precision = create_query_body_match_precision(cisi_qry_rel_data, cisi_rel, cisi_index,title_field)\n",
        "cisi_eval_body_match_precision = json.dumps(cisi_create_match_precision)\n",
        "cisi_res_match_precision_title = es.rank_eval(cisi_eval_body_match_precision, cisi_index)\n",
        "#print(json.dumps(cisi_res_match_precision, indent=4, sort_keys=True))\n",
        "cisi_create_match_precision = create_query_body_match_precision(cisi_qry_rel_data, cisi_rel, cisi_index,text_field)\n",
        "cisi_eval_body_match_precision = json.dumps(cisi_create_match_precision)\n",
        "cisi_res_match_precision_text = es.rank_eval(cisi_eval_body_match_precision, cisi_index)\n",
        "#print(json.dumps(cisi_res_match_precision, indent=4, sort_keys=True))\n",
        "cisi_create_match_precision = create_query_body_match_precision(cisi_qry_rel_data, cisi_rel, cisi_index,text_title_field)\n",
        "cisi_eval_body_match_precision = json.dumps(cisi_create_match_precision)\n",
        "cisi_res_match_precision_text_title = es.rank_eval(cisi_eval_body_match_precision, cisi_index)\n",
        "#print(json.dumps(cisi_res_match_precision, indent=4, sort_keys=True))\n",
        "\n",
        "#Cranfield\n",
        "cran_create_match_precision = create_query_body_match_precision(cran_qry_rel_data, cran_rel, cran_index,title_field)\n",
        "cran_eval_body_match_precision = json.dumps(cran_create_match_precision)\n",
        "cran_res_match_precision_title = es.rank_eval(cran_eval_body_match_precision, cran_index)\n",
        "#print(json.dumps(cran_res_match_precision, indent=4, sort_keys=True))\n",
        "cran_create_match_precision = create_query_body_match_precision(cran_qry_rel_data, cran_rel, cran_index,text_field)\n",
        "cran_eval_body_match_precision = json.dumps(cran_create_match_precision)\n",
        "cran_res_match_precision_text = es.rank_eval(cran_eval_body_match_precision, cran_index)\n",
        "#print(json.dumps(cran_res_match_precision, indent=4, sort_keys=True))\n",
        "cran_create_match_precision = create_query_body_match_precision(cran_qry_rel_data, cran_rel, cran_index,text_title_field)\n",
        "cran_eval_body_match_precision = json.dumps(cran_create_match_precision)\n",
        "cran_res_match_precision_text_title = es.rank_eval(cran_eval_body_match_precision, cran_index)\n",
        "#print(json.dumps(cran_res_match_precision, indent=4, sort_keys=True))\n",
        "\n",
        "#LISA\n",
        "lisa_create_match_precision = create_query_body_match_precision(lisa_qry_rel_data, lisa_rel, lisa_index,title_field)\n",
        "lisa_eval_body_match_precision = json.dumps(lisa_create_match_precision)\n",
        "lisa_res_match_precision_title = es.rank_eval(lisa_eval_body_match_precision,lisa_index)\n",
        "#print(json.dumps(lisa_res_match_precision, indent=4, sort_keys=True))\n",
        "lisa_create_match_precision = create_query_body_match_precision(lisa_qry_rel_data, lisa_rel, lisa_index,text_field)\n",
        "lisa_eval_body_match_precision = json.dumps(lisa_create_match_precision)\n",
        "lisa_res_match_precision_text = es.rank_eval(lisa_eval_body_match_precision,lisa_index)\n",
        "#print(json.dumps(lisa_res_match_precision, indent=4, sort_keys=True))\n",
        "lisa_create_match_precision = create_query_body_match_precision(lisa_qry_rel_data, lisa_rel, lisa_index,text_title_field)\n",
        "lisa_eval_body_match_precision = json.dumps(lisa_create_match_precision)\n",
        "lisa_res_match_precision_text_title = es.rank_eval(lisa_eval_body_match_precision,lisa_index)\n",
        "#print(json.dumps(lisa_res_match_precision, indent=4, sort_keys=True))\n",
        "\n",
        "#Medline\n",
        "med_create_match_precision = create_query_body_match_precision(med_qry_rel_data, med_rel, med_index,text_field)\n",
        "med_eval_body_match_precision = json.dumps(med_create_match_precision)\n",
        "med_res_match_precision_text = es.rank_eval(med_eval_body_match_precision, med_index)\n",
        "#print(json.dumps(med_res_match_precision, indent=4, sort_keys=True))\n",
        "\n",
        "#NPL\n",
        "npl_create_match_precision = create_query_body_match_precision(npl_qry_rel_data, npl_rel, npl_index,text_field)\n",
        "npl_eval_body_match_precision = json.dumps(npl_create_match_precision)\n",
        "npl_res_match_precision_text = es.rank_eval(npl_eval_body_match_precision,npl_index)\n",
        "#print(json.dumps(npl_res_match_precision, indent=4, sort_keys=True))\n",
        "\n",
        "#TIME\n",
        "time_create_match_precision = create_query_body_match_precision(time_qry_rel_data, time_rel, time_index,text_field)\n",
        "time_eval_body_match_precision = json.dumps(time_create_match_precision)\n",
        "time_res_match_precision_text = es.rank_eval(time_eval_body_match_precision,time_index)\n",
        "#print(json.dumps(time_res_match_precision, indent=4, sort_keys=True))"
      ],
      "execution_count": 40,
      "outputs": []
    },
    {
      "cell_type": "markdown",
      "metadata": {
        "id": "9t-G24e7FBzq"
      },
      "source": [
        "**BERT Sentence Embeddings on 'title' field**"
      ]
    },
    {
      "cell_type": "code",
      "metadata": {
        "id": "b3MqSL8VFBzs",
        "colab": {
          "base_uri": "https://localhost:8080/"
        },
        "outputId": "2fe810dc-c97e-49f0-c1f7-c113de5296c4"
      },
      "source": [
        "#use rank eval api, see https://elasticsearch-py.readthedocs.io/en/master/api.html?highlight=_rank_eval#elasticsearch.Elasticsearch.rank_eval \n",
        "#and https://www.elastic.co/guide/en/elasticsearch/reference/current/search-rank-eval.html#search-rank-eval\n",
        "\n",
        "from collections import defaultdict\n",
        "\n",
        "adi_index = 'bert-sentence-adi-corpus'\n",
        "cacm_index = 'bert-sentence-cacm-corpus'\n",
        "cisi_index = 'bert-sentence-cisi-corpus'\n",
        "cran_index = 'bert-sentence-cranfield-corpus'\n",
        "lisa_index = 'bert-sentence-lisa-corpus'\n",
        "# Medline, NPL and Time corpus are excluded because they don't have any titles\n",
        "\n",
        "# function to get normal match evaluation body \n",
        "\n",
        "def create_query_body_bert_title_precision(query_rel_dict, rel_dict, index_name):\n",
        "  \"\"\"\n",
        "  The function creates a request for every query in query_dict and rates the relevant documents with rel_dict to 1.\n",
        "  The index name has to be the same as from the documents your looking at.\n",
        "  An evaluation body for the elasticsearch ranking API is returned.\n",
        "  \"\"\"\n",
        "  eval_body = {\n",
        "      \"requests\":'',\n",
        "      \"metric\": {\n",
        "          \"precision\": {\n",
        "            \"k\" : 20,\n",
        "            \"relevant_rating_threshold\": 1,\n",
        "            #\"ignore_unlabeled\": \"false\"\n",
        "            }\n",
        "      }\n",
        "  }\n",
        "  requests = [] \n",
        "  current_request = defaultdict(lambda: defaultdict())\n",
        "  current_rel = {\"_index\": index_name, \"_id\": '', \"rating\": int}\n",
        "  for query_ID, query_txt in query_rel_dict.items():\n",
        "    current_query = {\n",
        "        \"query\" : {\n",
        "  \"script_score\": {\n",
        "    \"query\": {\"match_all\": {}},\n",
        "    \"script\": {\n",
        "      \"source\": \"cosineSimilarity(params.query_vector, doc['title_vector']) + 1.0\",\n",
        "      \"params\": {\"query_vector\": list(model.encode(query_txt['question']).astype(float))}\n",
        "    }\n",
        "  }\n",
        "  }\n",
        "    }\n",
        "    current_request[\"id\"] = 'Query_'+str(query_ID)\n",
        "    current_request[\"request\"] = current_query.copy()\n",
        "    current_request[\"ratings\"] = [{\n",
        "          \"_index\": index_name, \n",
        "          \"_id\": str(el) if type(el) != tuple else str(el[0]), \n",
        "          \"rating\": 1} for el in rel_dict[query_ID]]\n",
        "    requests.append(current_request.copy())\n",
        "  eval_body[\"requests\"] = requests\n",
        "  return eval_body\n",
        "\n",
        "\n",
        "# ADI\n",
        "\n",
        "adi_create_bert_title_precision = create_query_body_bert_title_recall(adi_qry_rel_data, adi_rel, adi_index)\n",
        "adi_eval_body_bert_title_precision = json.dumps(adi_create_bert_title_precision)\n",
        "adi_res_bert_title_precision = es.rank_eval(adi_eval_body_bert_title_precision, adi_index)\n",
        "#print(json.dumps(adi_res_bert_title_precision, indent=4, sort_keys=True))\n",
        "\n",
        "# CACM\n",
        "\n",
        "cacm_create_bert_title_precision = create_query_body_bert_title_precision(cacm_qry_rel_data, cacm_rel, cacm_index)\n",
        "cacm_eval_body_bert_title_precision = json.dumps(cacm_create_bert_title_precision)\n",
        "cacm_res_bert_title_precision = es.rank_eval(cacm_eval_body_bert_title_precision, cacm_index)\n",
        "#print(json.dumps(cacm_res_bert_title_precision, indent=4, sort_keys=True))\n",
        "\n",
        "# CISI\n",
        "\n",
        "cisi_create_bert_title_precision = create_query_body_bert_title_precision(cisi_qry_rel_data, cisi_rel, cisi_index)\n",
        "cisi_eval_body_bert_title_precision = json.dumps(cisi_create_bert_title_precision)\n",
        "cisi_res_bert_title_precision = es.rank_eval(cisi_eval_body_bert_title_precision, cisi_index)\n",
        "#print(json.dumps(cisi_res_bert_title_precision, indent=4, sort_keys=True))\n",
        "\n",
        "# Cranfield\n",
        "\n",
        "cran_create_bert_title_precision = create_query_body_bert_title_precision(cran_qry_rel_data, cran_rel, cran_index)\n",
        "cran_eval_body_bert_title_precision = json.dumps(cran_create_bert_title_precision)\n",
        "cran_res_bert_title_precision = es.rank_eval(cran_eval_body_bert_title_precision, cran_index)\n",
        "#print(json.dumps(cran_res_bert_title_precision, indent=4, sort_keys=True))\n",
        "\n",
        "# LISA\n",
        "\n",
        "lisa_create_bert_title_precision = create_query_body_bert_title_precision(lisa_qry_rel_data, lisa_rel, lisa_index)\n",
        "lisa_eval_body_bert_title_precision = json.dumps(lisa_create_bert_title_precision)\n",
        "lisa_res_bert_title_precision = es.rank_eval(lisa_eval_body_bert_title_precision, lisa_index)\n",
        "#print(json.dumps(lisa_res_bert_title_precision, indent=4, sort_keys=True))"
      ],
      "execution_count": 41,
      "outputs": [
        {
          "output_type": "stream",
          "text": [
            "/usr/local/lib/python3.7/dist-packages/elasticsearch/connection/base.py:200: ElasticsearchWarning: The vector functions of the form function(query, doc['field']) are deprecated, and the form function(query, 'field') should be used instead. For example, cosineSimilarity(query, doc['field']) is replaced by cosineSimilarity(query, 'field').\n",
            "  warnings.warn(message, category=ElasticsearchWarning)\n"
          ],
          "name": "stderr"
        }
      ]
    },
    {
      "cell_type": "markdown",
      "metadata": {
        "id": "ccWAsqthO04n"
      },
      "source": [
        "**Re-ranking with BERT on title field**"
      ]
    },
    {
      "cell_type": "code",
      "metadata": {
        "colab": {
          "base_uri": "https://localhost:8080/"
        },
        "id": "n5jZrcXMO04p",
        "outputId": "60372cae-3fc8-4bce-b2cb-0b77cc460d98"
      },
      "source": [
        "#use rank eval api, see https://elasticsearch-py.readthedocs.io/en/master/api.html?highlight=_rank_eval#elasticsearch.Elasticsearch.rank_eval \n",
        "#and https://www.elastic.co/guide/en/elasticsearch/reference/current/search-rank-eval.html#search-rank-eval\n",
        "\n",
        "from collections import defaultdict\n",
        "\n",
        "adi_index = 'bert-sentence-adi-corpus'\n",
        "cacm_index = 'bert-sentence-cacm-corpus'\n",
        "cisi_index = 'bert-sentence-cisi-corpus'\n",
        "cran_index = 'bert-sentence-cranfield-corpus'\n",
        "lisa_index = 'bert-sentence-lisa-corpus'\n",
        "# Medline, NPL and Time corpus are excluded because they don't have any titles\n",
        "\n",
        "# function to get normal match evaluation body \n",
        "\n",
        "def create_query_body_rerank_title_precision(query_rel_dict, rel_dict, index_name):\n",
        "  \"\"\"\n",
        "  The function creates a request for every query in query_dict and rates the relevant documents with rel_dict to 1.\n",
        "  The index name has to be the same as from the documents your looking at.\n",
        "  An evaluation body for the elasticsearch ranking API is returned.\n",
        "  \"\"\"\n",
        "  eval_body = {\n",
        "      \"requests\":'',\n",
        "      \"metric\": {\n",
        "          \"precision\": {\n",
        "          \"k\" : 20,\n",
        "          \"relevant_rating_threshold\": 1,\n",
        "          #\"ignore_unlabeled\": \"false\"\n",
        "          }\n",
        "         }\n",
        "      }\n",
        "  requests = [] \n",
        "  current_request = defaultdict(lambda: defaultdict())\n",
        "  current_rel = {\"_index\": index_name, \"_id\": '', \"rating\": int}\n",
        "  for query_ID, query_txt in query_rel_dict.items():\n",
        "    current_query =  {\n",
        "  \"query\": {\n",
        "    \"multi_match\" : {\n",
        "                  \"query\" : query_txt['question'],\n",
        "                  \"fields\" : ['title']\n",
        "            }\n",
        "  },\n",
        "  \"rescore\" : {\n",
        "      \"window_size\" : 100,\n",
        "      \"query\" : {\n",
        "         \"rescore_query\" : {\n",
        "              \"script_score\": {\n",
        "    \"query\": {\"match_all\": {}},\n",
        "    \"script\": {\n",
        "      \"source\": \"cosineSimilarity(params.query_vector, doc['title_vector']) + 1.0\",\n",
        "      \"params\": {\"query_vector\": list(model.encode(query_txt['question']).astype(float))}\n",
        "    }\n",
        "            }\n",
        "      }\n",
        "   }\n",
        "}\n",
        "    }\n",
        "    current_request[\"id\"] = 'Query_'+str(query_ID)\n",
        "    current_request[\"request\"] = current_query.copy()\n",
        "    current_request[\"ratings\"] = [{\n",
        "          \"_index\": index_name, \n",
        "          \"_id\": str(el) if type(el) != tuple else str(el[0]), \n",
        "          \"rating\": 1} for el in rel_dict[query_ID]]\n",
        "    requests.append(current_request.copy())\n",
        "  eval_body[\"requests\"] = requests\n",
        "  return eval_body\n",
        "\n",
        "\n",
        "# ADI\n",
        "\n",
        "adi_create_rerank_title_precision = create_query_body_rerank_title_precision(adi_qry_rel_data, adi_rel, adi_index)\n",
        "adi_eval_body_rerank_title_precision = json.dumps(adi_create_rerank_title_precision)\n",
        "adi_res_rerank_title_precision = es.rank_eval(adi_eval_body_rerank_title_precision, adi_index)\n",
        "#print(json.dumps(adi_res_rerank_title_recall, indent=4, sort_keys=True))\n",
        "\n",
        "# CACM\n",
        "\n",
        "cacm_create_rerank_title_precision = create_query_body_rerank_title_precision(cacm_qry_rel_data, cacm_rel, cacm_index)\n",
        "cacm_eval_body_rerank_title_precision = json.dumps(cacm_create_rerank_title_precision)\n",
        "cacm_res_rerank_title_precision = es.rank_eval(cacm_eval_body_rerank_title_precision, cacm_index)\n",
        "#print(json.dumps(cacm_res_rerank_title_recall, indent=4, sort_keys=True))\n",
        "\n",
        "# CISI\n",
        "\n",
        "cisi_create_rerank_title_precision = create_query_body_rerank_title_precision(cisi_qry_rel_data, cisi_rel, cisi_index)\n",
        "cisi_eval_body_rerank_title_precision = json.dumps(cisi_create_rerank_title_precision)\n",
        "cisi_res_rerank_title_precision = es.rank_eval(cisi_eval_body_rerank_title_precision, cisi_index)\n",
        "#print(json.dumps(cisi_res_rerank_title_recall, indent=4, sort_keys=True))\n",
        "\n",
        "# Cranfield\n",
        "\n",
        "cran_create_rerank_title_precision = create_query_body_rerank_title_precision(cran_qry_rel_data, cran_rel, cran_index)\n",
        "cran_eval_body_rerank_title_precision = json.dumps(cran_create_rerank_title_precision)\n",
        "cran_res_rerank_title_precision = es.rank_eval(cran_eval_body_rerank_title_precision, cran_index)\n",
        "#print(json.dumps(cran_res_rerank_title_recall, indent=4, sort_keys=True))\n",
        "\n",
        "# LISA\n",
        "\n",
        "lisa_create_rerank_title_precision = create_query_body_rerank_title_precision(lisa_qry_rel_data, lisa_rel, lisa_index)\n",
        "lisa_eval_body_rerank_title_precision = json.dumps(lisa_create_rerank_title_precision)\n",
        "lisa_res_rerank_title_precision = es.rank_eval(lisa_eval_body_rerank_title_precision, lisa_index)\n",
        "#print(json.dumps(lisa_res_rerank_title_recall, indent=4, sort_keys=True))"
      ],
      "execution_count": 43,
      "outputs": [
        {
          "output_type": "stream",
          "text": [
            "/usr/local/lib/python3.7/dist-packages/elasticsearch/connection/base.py:200: ElasticsearchWarning: The vector functions of the form function(query, doc['field']) are deprecated, and the form function(query, 'field') should be used instead. For example, cosineSimilarity(query, doc['field']) is replaced by cosineSimilarity(query, 'field').\n",
            "  warnings.warn(message, category=ElasticsearchWarning)\n"
          ],
          "name": "stderr"
        }
      ]
    },
    {
      "cell_type": "markdown",
      "metadata": {
        "id": "T1W4bvetJDUI"
      },
      "source": [
        "**BERT Transformer on 'text' field**"
      ]
    },
    {
      "cell_type": "code",
      "metadata": {
        "id": "2sTzK1e2FBzk"
      },
      "source": [
        "#use rank eval api, see https://elasticsearch-py.readthedocs.io/en/master/api.html?highlight=_rank_eval#elasticsearch.Elasticsearch.rank_eval \n",
        "#and https://www.elastic.co/guide/en/elasticsearch/reference/current/search-rank-eval.html#search-rank-eval\n",
        "\n",
        "from collections import defaultdict\n",
        "\n",
        "adi_index = 'bert-sentence-adi-corpus'\n",
        "cacm_index = 'bert-sentence-cacm-corpus'\n",
        "cisi_index = 'bert-sentence-cisi-corpus'\n",
        "cran_index = 'bert-sentence-cranfield-corpus'\n",
        "lisa_index = 'bert-sentence-lisa-corpus'\n",
        "med_index = 'bert-sentence-medline-corpus'\n",
        "npl_index = 'bert-sentence-npl-corpus'\n",
        "time_index = 'bert-sentence-time-corpus'\n",
        "\n",
        "# function to get normal match evaluation body \n",
        "\n",
        "def create_query_body_bert_text_precision(query_rel_dict, rel_dict, index_name):\n",
        "  \"\"\"\n",
        "  The function creates a request for every query in query_dict and rates the relevant documents with rel_dict to 1.\n",
        "  The index name has to be the same as from the documents your looking at.\n",
        "  An evaluation body for the elasticsearch ranking API is returned.\n",
        "  \"\"\"\n",
        "  eval_body = {\n",
        "      \"requests\":'',\n",
        "      \"metric\": {\n",
        "          \"precision\": {\n",
        "          \"k\" : 20,\n",
        "          \"relevant_rating_threshold\": 1,\n",
        "          #\"ignore_unlabeled\": \"false\"\n",
        "          }\n",
        "         }\n",
        "      }\n",
        "  requests = [] \n",
        "  current_request = defaultdict(lambda: defaultdict())\n",
        "  current_rel = {\"_index\": index_name, \"_id\": '', \"rating\": int}\n",
        "  for query_ID, query_txt in query_rel_dict.items():\n",
        "    current_query = {\n",
        "        \"query\": {\n",
        "            \"nested\": {\n",
        "                \"path\": \"text_vector\",\n",
        "                \"score_mode\": \"max\", \n",
        "                \"query\": {\n",
        "                    \"function_score\": {\n",
        "                        \"script_score\": {\n",
        "                            \"script\": {\n",
        "                                \"source\": \"1.0 + cosineSimilarity(params.query_vector, 'text_vector.vector')\",\n",
        "                                \"params\": {\"query_vector\": list(model.encode(query_txt['question']).astype(float))}\n",
        "                                }\n",
        "                                }\n",
        "                                }\n",
        "                          }\n",
        "                       }\n",
        "                  }\n",
        "                  }\n",
        "    current_request[\"id\"] = 'Query_'+str(query_ID)\n",
        "    current_request[\"request\"] = current_query.copy()\n",
        "    current_request[\"ratings\"] = [{\n",
        "          \"_index\": index_name, \n",
        "          \"_id\": str(el) if type(el) != tuple else str(el[0]), \n",
        "          \"rating\": 1} for el in rel_dict[query_ID]]\n",
        "    requests.append(current_request.copy())\n",
        "  eval_body[\"requests\"] = requests\n",
        "  return eval_body\n",
        "\n",
        "\n",
        "\n",
        "# ADI\n",
        "\n",
        "adi_create_bert_text_precision = create_query_body_bert_text_precision(adi_qry_rel_data, adi_rel, adi_index)\n",
        "adi_eval_body_bert_text_precision = json.dumps(adi_create_bert_text_precision)\n",
        "adi_res_bert_text_precision = es.rank_eval(adi_eval_body_bert_text_precision, adi_index)\n",
        "#print(json.dumps(adi_res, indent=4, sort_keys=True))\n",
        "\n",
        "# CACM\n",
        "\n",
        "cacm_create_bert_text_precision = create_query_body_bert_text_precision(cacm_qry_rel_data, cacm_rel, cacm_index)\n",
        "cacm_eval_body_bert_text_precision = json.dumps(cacm_create_bert_text_precision)\n",
        "cacm_res_bert_text_precision = es.rank_eval(cacm_eval_body_bert_text_precision, cacm_index)\n",
        "#print(json.dumps(cacm_res, indent=4, sort_keys=True))\n",
        "\n",
        "# CISI\n",
        "\n",
        "cisi_create_bert_text_precision = create_query_body_bert_text_precision(cisi_qry_rel_data, cisi_rel, cisi_index)\n",
        "cisi_eval_body_bert_text_precision = json.dumps(cisi_create_bert_text_precision)\n",
        "cisi_res_bert_text_precision = es.rank_eval(cisi_eval_body_bert_text_precision, cisi_index)\n",
        "#print(json.dumps(cisi_res, indent=4, sort_keys=True))\n",
        "\n",
        "# Cranfield\n",
        "\n",
        "cran_create_bert_text_precision = create_query_body_bert_text_precision(cran_qry_rel_data, cran_rel, cran_index)\n",
        "cran_eval_body_bert_text_precision = json.dumps(cran_create_bert_text_precision)\n",
        "cran_res_bert_text_precision = es.rank_eval(cran_eval_body_bert_text_precision, cran_index)\n",
        "#print(json.dumps(cran_res, indent=4, sort_keys=True))\n",
        "\n",
        "# LISA\n",
        "\n",
        "lisa_create_bert_text_precision = create_query_body_bert_text_precision(lisa_qry_rel_data, lisa_rel, lisa_index)\n",
        "lisa_eval_body_bert_text_precision = json.dumps(lisa_create_bert_text_precision)\n",
        "lisa_res_bert_text_precision = es.rank_eval(lisa_eval_body_bert_text_precision, lisa_index)\n",
        "#print(json.dumps(lisa_res, indent=4, sort_keys=True))\n",
        "\n",
        "# Medline\n",
        "\n",
        "med_create_bert_text_precision = create_query_body_bert_text_precision(med_qry_rel_data, med_rel, med_index)\n",
        "med_eval_body_bert_text_precision = json.dumps(med_create_bert_text_precision)\n",
        "med_res_bert_text_precision = es.rank_eval(med_eval_body_bert_text_precision, med_index)\n",
        "#print(json.dumps(med_res, indent=4, sort_keys=True))\n",
        "\n",
        "# NPL\n",
        "\n",
        "npl_create_bert_text_precision = create_query_body_bert_text_precision(npl_qry_rel_data, npl_rel, npl_index)\n",
        "npl_eval_body_bert_text_precision = json.dumps(npl_create_bert_text_precision)\n",
        "npl_res_bert_text_precision = es.rank_eval(npl_eval_body_bert_text_precision, npl_index)\n",
        "#print(json.dumps(npl_res, indent=4, sort_keys=True))\n",
        "\n",
        "# Time\n",
        "\n",
        "time_create_bert_text_precision = create_query_body_bert_text_precision(time_qry_rel_data, time_rel, time_index)\n",
        "time_eval_body_bert_text_precision = json.dumps(time_create_bert_text_precision)\n",
        "time_res_bert_text_precision = es.rank_eval(time_eval_body_bert_text_precision, time_index)\n",
        "#print(json.dumps(time_res, indent=4, sort_keys=True))"
      ],
      "execution_count": 44,
      "outputs": []
    },
    {
      "cell_type": "markdown",
      "metadata": {
        "id": "GCUrmPAtOzC5"
      },
      "source": [
        "**Re-ranking with BERT on text field**"
      ]
    },
    {
      "cell_type": "code",
      "metadata": {
        "id": "xENvFHovOzC5"
      },
      "source": [
        "#use rank eval api, see https://elasticsearch-py.readthedocs.io/en/master/api.html?highlight=_rank_eval#elasticsearch.Elasticsearch.rank_eval \n",
        "#and https://www.elastic.co/guide/en/elasticsearch/reference/current/search-rank-eval.html#search-rank-eval\n",
        "\n",
        "from collections import defaultdict\n",
        "\n",
        "adi_index = 'bert-sentence-adi-corpus'\n",
        "cacm_index = 'bert-sentence-cacm-corpus'\n",
        "cisi_index = 'bert-sentence-cisi-corpus'\n",
        "cran_index = 'bert-sentence-cranfield-corpus'\n",
        "lisa_index = 'bert-sentence-lisa-corpus'\n",
        "med_index = 'bert-sentence-medline-corpus'\n",
        "npl_index = 'bert-sentence-npl-corpus'\n",
        "time_index = 'bert-sentence-time-corpus'\n",
        "\n",
        "# function to get normal match evaluation body \n",
        "\n",
        "def create_query_body_rerank_text_precision(query_rel_dict, rel_dict, index_name):\n",
        "  \"\"\"\n",
        "  The function creates a request for every query in query_dict and rates the relevant documents with rel_dict to 1.\n",
        "  The index name has to be the same as from the documents your looking at.\n",
        "  An evaluation body for the elasticsearch ranking API is returned.\n",
        "  \"\"\"\n",
        "  eval_body = {\n",
        "      \"requests\":'',\n",
        "      \"metric\": {\n",
        "          \"precision\": {\n",
        "          \"k\" : 20,\n",
        "          \"relevant_rating_threshold\": 1,\n",
        "          #\"ignore_unlabeled\": \"false\"\n",
        "          }\n",
        "         }\n",
        "      }\n",
        "  requests = [] \n",
        "  current_request = defaultdict(lambda: defaultdict())\n",
        "  current_rel = {\"_index\": index_name, \"_id\": '', \"rating\": int}\n",
        "  for query_ID, query_txt in query_rel_dict.items():\n",
        "    current_query = {\n",
        "  \"query\": {\n",
        "    \"multi_match\" : {\n",
        "                  \"query\" : query_txt['question'],\n",
        "                  \"fields\" : ['text']\n",
        "            }\n",
        "  },\n",
        "  \"rescore\" : {\n",
        "      \"window_size\" : 100,\n",
        "      \"query\": {\n",
        "          \"rescore_query\" : {\n",
        "            \"nested\": {\n",
        "                \"path\": \"text_vector\",\n",
        "                \"score_mode\": \"max\", \n",
        "                \"query\": {\n",
        "                    \"function_score\": {\n",
        "                        \"script_score\": {\n",
        "                            \"script\": {\n",
        "                                \"source\": \"1.0 + cosineSimilarity(params.query_vector, 'text_vector.vector')\",\n",
        "                                \"params\": {\"query_vector\": list(model.encode(query_txt['question']).astype(float))}\n",
        "                                }\n",
        "                                }\n",
        "                                }\n",
        "                          }\n",
        "                       }\n",
        "            }\n",
        "                  }\n",
        "}\n",
        "    }\n",
        "    current_request[\"id\"] = 'Query_'+str(query_ID)\n",
        "    current_request[\"request\"] = current_query.copy()\n",
        "    current_request[\"ratings\"] = [{\n",
        "          \"_index\": index_name, \n",
        "          \"_id\": str(el) if type(el) != tuple else str(el[0]), \n",
        "          \"rating\": 1} for el in rel_dict[query_ID]]\n",
        "    requests.append(current_request.copy())\n",
        "  eval_body[\"requests\"] = requests\n",
        "  return eval_body\n",
        "\n",
        "# ADI\n",
        "\n",
        "adi_create_rerank_text_precision = create_query_body_rerank_text_precision(adi_qry_rel_data, adi_rel, adi_index)\n",
        "adi_eval_body_rerank_text_precision = json.dumps(adi_create_rerank_text_precision)\n",
        "adi_res_rerank_text_precision = es.rank_eval(adi_eval_body_rerank_text_precision, adi_index)\n",
        "#print(json.dumps(adi_res_rerank_text_recall, indent=4, sort_keys=True))\n",
        "\n",
        "# CACM\n",
        "\n",
        "cacm_create_rerank_text_precision = create_query_body_rerank_text_precision(cacm_qry_rel_data, cacm_rel, cacm_index)\n",
        "cacm_eval_body_rerank_text_precision = json.dumps(cacm_create_rerank_text_precision)\n",
        "cacm_res_rerank_text_precision = es.rank_eval(cacm_eval_body_rerank_text_precision, cacm_index)\n",
        "#print(json.dumps(cacm_res_rerank_text_recall, indent=4, sort_keys=True))\n",
        "\n",
        "# CISI\n",
        "\n",
        "cisi_create_rerank_text_precision = create_query_body_rerank_text_precision(cisi_qry_rel_data, cisi_rel, cisi_index)\n",
        "cisi_eval_body_rerank_text_precision = json.dumps(cisi_create_rerank_text_precision)\n",
        "cisi_res_rerank_text_precision = es.rank_eval(cisi_eval_body_rerank_text_precision, cisi_index)\n",
        "#print(json.dumps(cisi_res_rerank_text_recall, indent=4, sort_keys=True))\n",
        "\n",
        "# Cranfield\n",
        "\n",
        "cran_create_rerank_text_precision = create_query_body_rerank_text_precision(cran_qry_rel_data, cran_rel, cran_index)\n",
        "cran_eval_body_rerank_text_precision = json.dumps(cran_create_rerank_text_precision)\n",
        "cran_res_rerank_text_precision = es.rank_eval(cran_eval_body_rerank_text_precision, cran_index)\n",
        "#print(json.dumps(cran_res_rerank_text_recall, indent=4, sort_keys=True))\n",
        "\n",
        "# LISA\n",
        "\n",
        "lisa_create_rerank_text_precision = create_query_body_rerank_text_precision(lisa_qry_rel_data, lisa_rel, lisa_index)\n",
        "lisa_eval_body_rerank_text_precision = json.dumps(lisa_create_rerank_text_precision)\n",
        "lisa_res_rerank_text_precision = es.rank_eval(lisa_eval_body_rerank_text_precision, lisa_index)\n",
        "#print(json.dumps(lisa_res_rerank_text_recall, indent=4, sort_keys=True))\n",
        "\n",
        "# Medline\n",
        "\n",
        "med_create_rerank_text_precision = create_query_body_rerank_text_precision(med_qry_rel_data, med_rel, med_index)\n",
        "med_eval_body_rerank_text_precision = json.dumps(med_create_rerank_text_precision)\n",
        "med_res_rerank_text_precision = es.rank_eval(med_eval_body_rerank_text_precision, med_index)\n",
        "#print(json.dumps(med_res_rerank_text_recall, indent=4, sort_keys=True))\n",
        "\n",
        "# NPL\n",
        "\n",
        "npl_create_rerank_text_precision = create_query_body_rerank_text_precision(npl_qry_rel_data, npl_rel, npl_index)\n",
        "npl_eval_body_rerank_text_precision = json.dumps(npl_create_rerank_text_precision)\n",
        "npl_res_rerank_text_precision = es.rank_eval(npl_eval_body_rerank_text_precision, npl_index)\n",
        "#print(json.dumps(npl_res_rerank_text_recall, indent=4, sort_keys=True))\n",
        "\n",
        "# Time\n",
        "\n",
        "time_create_rerank_text_precision = create_query_body_rerank_text_precision(time_qry_rel_data, time_rel, time_index)\n",
        "time_eval_body_rerank_text_precision = json.dumps(time_create_rerank_text_precision)\n",
        "time_res_rerank_text_precision = es.rank_eval(time_eval_body_rerank_text_precision, time_index)\n",
        "#print(json.dumps(time_res_rerank_text_recall, indent=4, sort_keys=True))"
      ],
      "execution_count": 45,
      "outputs": []
    },
    {
      "cell_type": "markdown",
      "metadata": {
        "id": "GKXP6GVR0Gbj"
      },
      "source": [
        "**Complex Re-ranking Query**"
      ]
    },
    {
      "cell_type": "code",
      "metadata": {
        "colab": {
          "base_uri": "https://localhost:8080/"
        },
        "id": "DR7MGYFK0YtL",
        "outputId": "85afef98-993b-433e-f160-6ac4bd03ec06"
      },
      "source": [
        "#use rank eval api, see https://elasticsearch-py.readthedocs.io/en/master/api.html?highlight=_rank_eval#elasticsearch.Elasticsearch.rank_eval \n",
        "#and https://www.elastic.co/guide/en/elasticsearch/reference/current/search-rank-eval.html#search-rank-eval\n",
        "\n",
        "from collections import defaultdict\n",
        "\n",
        "adi_index = 'bert-sentence-adi-corpus'\n",
        "cacm_index = 'bert-sentence-cacm-corpus'\n",
        "cisi_index = 'bert-sentence-cisi-corpus'\n",
        "cran_index = 'bert-sentence-cranfield-corpus'\n",
        "lisa_index = 'bert-sentence-lisa-corpus'\n",
        "med_index = 'bert-sentence-medline-corpus'\n",
        "npl_index = 'bert-sentence-npl-corpus'\n",
        "time_index = 'bert-sentence-time-corpus'\n",
        "\n",
        "query_weight = 0.7 # has to be float\n",
        "rescore_query_weight = 3.5 # has to be float\n",
        "\n",
        "# function to get normal match evaluation body \n",
        "\n",
        "def create_query_body_complex_rerank_precision(query_rel_dict, rel_dict, index_name):\n",
        "  \"\"\"\n",
        "  The function creates a request for every query in query_dict and rates the relevant documents with rel_dict to 1.\n",
        "  The index name has to be the same as from the documents your looking at.\n",
        "  An evaluation body for the elasticsearch ranking API is returned.\n",
        "  \"\"\"\n",
        "  eval_body = {\n",
        "      \"requests\":'',\n",
        "      \"metric\": {\n",
        "          \"precision\": {\n",
        "          \"k\" : 20,\n",
        "          \"relevant_rating_threshold\": 1,\n",
        "          #\"ignore_unlabeled\": \"false\"\n",
        "          }\n",
        "         }\n",
        "      }\n",
        "  requests = [] \n",
        "  current_request = defaultdict(lambda: defaultdict())\n",
        "  current_rel = {\"_index\": index_name, \"_id\": '', \"rating\": int}\n",
        "  for query_ID, query_txt in query_rel_dict.items():\n",
        "    current_query = {\n",
        "  \"query\": {\n",
        "    \"multi_match\" : {\n",
        "                  \"query\" : query_txt['question'],\n",
        "                  \"fields\" : ['text','title']\n",
        "            }\n",
        "  },\n",
        "  \"rescore\" :  [\n",
        "                {\n",
        "      \"window_size\" : 100,\n",
        "      \"query\" : {\n",
        "         \"rescore_query\" : {\n",
        "              \"script_score\": {\n",
        "    \"query\": {\"match_all\": {}},\n",
        "    \"script\": {\n",
        "      \"source\": \"cosineSimilarity(params.query_vector, doc['title_vector']) + 1.0\",\n",
        "      \"params\": {\"query_vector\": list(model.encode(query_txt['question']).astype(float))}\n",
        "    }\n",
        "            }\n",
        "      },\n",
        "         \"query_weight\" : query_weight,\n",
        "         \"rescore_query_weight\" : rescore_query_weight\n",
        "   }\n",
        "},\n",
        "                {\n",
        "      \"window_size\" : 100,\n",
        "      \"query\": {\n",
        "          \"rescore_query\" : {\n",
        "            \"nested\": {\n",
        "                \"path\": \"text_vector\",\n",
        "                \"score_mode\": \"max\", \n",
        "                \"query\": {\n",
        "                    \"function_score\": {\n",
        "                        \"script_score\": {\n",
        "                            \"script\": {\n",
        "                                \"source\": \"1.0 + cosineSimilarity(params.query_vector, 'text_vector.vector')\",\n",
        "                                \"params\": {\"query_vector\": list(model.encode(query_txt['question']).astype(float))}\n",
        "                                }\n",
        "                                }\n",
        "                                }\n",
        "                          }\n",
        "                       }\n",
        "            }\n",
        "                  }\n",
        "}  \n",
        "  ]}\n",
        "    current_request[\"id\"] = 'Query_'+str(query_ID)\n",
        "    current_request[\"request\"] = current_query.copy()\n",
        "    current_request[\"ratings\"] = [{\n",
        "          \"_index\": index_name, \n",
        "          \"_id\": str(el) if type(el) != tuple else str(el[0]), \n",
        "          \"rating\": 1} for el in rel_dict[query_ID]]\n",
        "    requests.append(current_request.copy())\n",
        "  eval_body[\"requests\"] = requests\n",
        "  return eval_body\n",
        "\n",
        "# ADI\n",
        "\n",
        "adi_create_complex_rerank_precision = create_query_body_complex_rerank_precision(adi_qry_rel_data, adi_rel, adi_index)\n",
        "adi_eval_body_complex_rerank_precision = json.dumps(adi_create_complex_rerank_precision)\n",
        "adi_res_complex_rerank_precision = es.rank_eval(adi_eval_body_complex_rerank_precision, adi_index)\n",
        "#print(json.dumps(adi_res_complex_rerank_precision, indent=4, sort_keys=True))\n",
        "\n",
        "# CACM\n",
        "\n",
        "cacm_create_complex_rerank_precision = create_query_body_complex_rerank_precision(cacm_qry_rel_data, cacm_rel, cacm_index)\n",
        "cacm_eval_body_complex_rerank_precision = json.dumps(cacm_create_complex_rerank_precision)\n",
        "cacm_res_complex_rerank_precision = es.rank_eval(cacm_eval_body_complex_rerank_precision, cacm_index)\n",
        "#print(json.dumps(cacm_res_complex_rerank_precision, indent=4, sort_keys=True))\n",
        "\n",
        "# CISI\n",
        "\n",
        "cisi_create_complex_rerank_precision = create_query_body_complex_rerank_precision(cisi_qry_rel_data, cisi_rel, cisi_index)\n",
        "cisi_eval_body_complex_rerank_precision = json.dumps(cisi_create_complex_rerank_precision)\n",
        "cisi_res_complex_rerank_precision = es.rank_eval(cisi_eval_body_complex_rerank_precision, cisi_index)\n",
        "#print(json.dumps(cisi_res_complex_rerank_precision, indent=4, sort_keys=True))\n",
        "\n",
        "# Cranfield\n",
        "\n",
        "cran_create_complex_rerank_precision = create_query_body_complex_rerank_precision(cran_qry_rel_data, cran_rel, cran_index)\n",
        "cran_eval_body_complex_rerank_precision = json.dumps(cran_create_complex_rerank_precision)\n",
        "cran_res_complex_rerank_precision = es.rank_eval(cran_eval_body_complex_rerank_precision, cran_index)\n",
        "#print(json.dumps(cran_res_complex_rerank_precision, indent=4, sort_keys=True))\n",
        "\n",
        "# LISA\n",
        "\n",
        "lisa_create_complex_rerank_precision = create_query_body_complex_rerank_precision(lisa_qry_rel_data, lisa_rel, lisa_index)\n",
        "lisa_eval_body_complex_rerank_precision = json.dumps(lisa_create_complex_rerank_precision)\n",
        "lisa_res_complex_rerank_precision = es.rank_eval(lisa_eval_body_complex_rerank_precision, lisa_index)\n",
        "#print(json.dumps(lisa_res_complex_rerank_precision, indent=4, sort_keys=True))"
      ],
      "execution_count": 46,
      "outputs": [
        {
          "output_type": "stream",
          "text": [
            "/usr/local/lib/python3.7/dist-packages/elasticsearch/connection/base.py:200: ElasticsearchWarning: The vector functions of the form function(query, doc['field']) are deprecated, and the form function(query, 'field') should be used instead. For example, cosineSimilarity(query, doc['field']) is replaced by cosineSimilarity(query, 'field').\n",
            "  warnings.warn(message, category=ElasticsearchWarning)\n"
          ],
          "name": "stderr"
        }
      ]
    },
    {
      "cell_type": "markdown",
      "metadata": {
        "id": "gpKrbKC7TDxu"
      },
      "source": [
        "## Visualisation\n",
        "\n",
        "The last step is to visualize the data so we can analyze the differences:"
      ]
    },
    {
      "cell_type": "markdown",
      "metadata": {
        "id": "3GI_zdwhG4MF"
      },
      "source": [
        "### Recall"
      ]
    },
    {
      "cell_type": "markdown",
      "metadata": {
        "id": "nK5M8l-CRCvw"
      },
      "source": [
        "**Recall on 'title' field**"
      ]
    },
    {
      "cell_type": "code",
      "metadata": {
        "colab": {
          "base_uri": "https://localhost:8080/",
          "height": 647
        },
        "id": "crBSdbZMPAH9",
        "outputId": "f43782be-02e2-42f7-fb23-2705fe188e96"
      },
      "source": [
        "import matplotlib\n",
        "import matplotlib.pyplot as plt\n",
        "import numpy as np\n",
        "\n",
        "match_metrics_recall_title = []\n",
        "match_metrics_recall_title.append(round(adi_res_match_recall_title['metric_score'], 3))\n",
        "match_metrics_recall_title.append(round(cacm_res_match_recall_title['metric_score'], 3))\n",
        "match_metrics_recall_title.append(round(cisi_res_match_recall_title['metric_score'], 3))\n",
        "match_metrics_recall_title.append(round(cran_res_match_recall_title['metric_score'], 3))\n",
        "match_metrics_recall_title.append(round(lisa_res_match_recall_title['metric_score'], 3))\n",
        "\n",
        "bert_title_metrics_recall = []\n",
        "bert_title_metrics_recall.append(round(adi_res_bert_title_recall['metric_score'], 3))\n",
        "bert_title_metrics_recall.append(round(cacm_res_bert_title_recall['metric_score'], 3))\n",
        "bert_title_metrics_recall.append(round(cisi_res_bert_title_recall['metric_score'], 3))\n",
        "bert_title_metrics_recall.append(round(cran_res_bert_title_recall['metric_score'], 3))\n",
        "bert_title_metrics_recall.append(round(lisa_res_bert_title_recall['metric_score'], 3))\n",
        "\n",
        "rerank_bert_title_metrics_recall = []\n",
        "rerank_bert_title_metrics_recall.append(round(adi_res_rerank_title_recall['metric_score'], 3))\n",
        "rerank_bert_title_metrics_recall.append(round(cacm_res_rerank_title_recall['metric_score'], 3))\n",
        "rerank_bert_title_metrics_recall.append(round(cisi_res_rerank_title_recall['metric_score'], 3))\n",
        "rerank_bert_title_metrics_recall.append(round(cran_res_rerank_title_recall['metric_score'], 3))\n",
        "rerank_bert_title_metrics_recall.append(round(lisa_res_rerank_title_recall['metric_score'], 3))\n",
        "\n",
        "labels = ['ADI','CACM', 'CISI','Cranfield', 'LISA']\n",
        "\n",
        "x = np.arange(len(labels))*2.5  # the label locations\n",
        "\n",
        "width = 0.5  # the width of the bars\n",
        "\n",
        "fig, ax = plt.subplots()\n",
        "rects1 = ax.bar(x - width, match_metrics_recall_title , width, label='With multi-match query title field')\n",
        "rects2 = ax.bar(x, bert_title_metrics_recall, width, label='With BERT on title field')\n",
        "rects3 = ax.bar(x + width, rerank_bert_title_metrics_recall, width, label='With re-ranking on title field')\n",
        "\n",
        "# Add some text for labels, title and custom x-axis tick labels, etc.\n",
        "ax.set_ylabel('metric scores')\n",
        "ax.set_title('Recall scores on title field by corpus')\n",
        "ax.set_xticks(x)\n",
        "ax.set_xticklabels(labels)\n",
        "ax.legend()\n",
        "\n",
        "def autolabel(rects):\n",
        "    \"\"\"Attach a text label above each bar in *rects*, displaying its height.\"\"\"\n",
        "    for rect in rects:\n",
        "        height = rect.get_height()\n",
        "        ax.annotate('{}'.format(height),\n",
        "                    xy=(rect.get_x() + rect.get_width() / 2, height),\n",
        "                    xytext=(0, 3),  # 3 points vertical offset\n",
        "                    textcoords=\"offset points\",\n",
        "                    ha='center', va='bottom')\n",
        "\n",
        "autolabel(rects1)\n",
        "autolabel(rects2)\n",
        "autolabel(rects3)\n",
        "\n",
        "\n",
        "fig.tight_layout()\n",
        "fig.set_figwidth(16)\n",
        "fig.set_figheight(10)\n",
        "\n",
        "plt.show()"
      ],
      "execution_count": 47,
      "outputs": [
        {
          "output_type": "display_data",
          "data": {
            "image/png": "[encoded data removed]",
            "text/plain": [
              "<Figure size 1152x720 with 1 Axes>"
            ]
          },
          "metadata": {
            "tags": [],
            "needs_background": "light"
          }
        }
      ]
    },
    {
      "cell_type": "markdown",
      "metadata": {
        "id": "uOS8stFeTsI5"
      },
      "source": [
        "**Recall on 'text' field**"
      ]
    },
    {
      "cell_type": "code",
      "metadata": {
        "id": "BXibzPzmf_KK",
        "colab": {
          "base_uri": "https://localhost:8080/",
          "height": 531
        },
        "outputId": "6a852e6c-648c-439d-9ee4-86b1b94511d9"
      },
      "source": [
        "import matplotlib\n",
        "import matplotlib.pyplot as plt\n",
        "import numpy as np\n",
        "\n",
        "match_metrics_recall_text = []\n",
        "match_metrics_recall_text.append(round(adi_res_match_recall_text['metric_score'], 3))\n",
        "match_metrics_recall_text.append(round(cacm_res_match_recall_text['metric_score'], 3))\n",
        "match_metrics_recall_text.append(round(cisi_res_match_recall_text['metric_score'], 3))\n",
        "match_metrics_recall_text.append(round(cran_res_match_recall_text['metric_score'], 3))\n",
        "match_metrics_recall_text.append(round(lisa_res_match_recall_text['metric_score'], 3))\n",
        "match_metrics_recall_text.append(round(med_res_match_recall_text['metric_score'], 3))\n",
        "match_metrics_recall_text.append(round(npl_res_match_recall_text['metric_score'], 3))\n",
        "match_metrics_recall_text.append(round(time_res_match_recall_text['metric_score'], 3))\n",
        "\n",
        "bert_text_metrics_recall = []\n",
        "bert_text_metrics_recall.append(round(adi_res_bert_text_recall['metric_score'], 3))\n",
        "bert_text_metrics_recall.append(round(cacm_res_bert_text_recall['metric_score'], 3))\n",
        "bert_text_metrics_recall.append(round(cisi_res_bert_text_recall['metric_score'], 3))\n",
        "bert_text_metrics_recall.append(round(cran_res_bert_text_recall['metric_score'], 3))\n",
        "bert_text_metrics_recall.append(round(lisa_res_bert_text_recall['metric_score'], 3))\n",
        "bert_text_metrics_recall.append(round(med_res_bert_text_recall['metric_score'], 3))\n",
        "bert_text_metrics_recall.append(round(npl_res_bert_text_recall['metric_score'], 3))\n",
        "bert_text_metrics_recall.append(round(time_res_bert_text_recall['metric_score'], 3))\n",
        "\n",
        "rerank_bert_text_metrics_recall = []\n",
        "rerank_bert_text_metrics_recall.append(round(adi_res_rerank_text_recall['metric_score'], 3))\n",
        "rerank_bert_text_metrics_recall.append(round(cacm_res_rerank_text_recall['metric_score'], 3))\n",
        "rerank_bert_text_metrics_recall.append(round(cisi_res_rerank_text_recall['metric_score'], 3))\n",
        "rerank_bert_text_metrics_recall.append(round(cran_res_rerank_text_recall['metric_score'], 3))\n",
        "rerank_bert_text_metrics_recall.append(round(lisa_res_rerank_text_recall['metric_score'], 3))\n",
        "rerank_bert_text_metrics_recall.append(round(med_res_rerank_text_recall['metric_score'], 3))\n",
        "rerank_bert_text_metrics_recall.append(round(npl_res_rerank_text_recall['metric_score'], 3))\n",
        "rerank_bert_text_metrics_recall.append(round(time_res_rerank_text_recall['metric_score'], 3))\n",
        "\n",
        "\n",
        "labels = ['ADI','CACM', 'CISI','Cranfield', 'LISA', 'Medline', 'NPL', 'Time']\n",
        "\n",
        "x = np.arange(len(labels))*2.5  # the label locations\n",
        "\n",
        "width = 0.6  # the width of the bars\n",
        "\n",
        "fig, ax = plt.subplots()\n",
        "rects1 = ax.bar(x - width, match_metrics_recall_text , width, label='With multi-match query text field')\n",
        "rects2 = ax.bar(x, bert_text_metrics_recall, width, label='With BERT on text field')\n",
        "rects3 = ax.bar(x + width, rerank_bert_text_metrics_recall, width, label='With re-ranking on text field')\n",
        "\n",
        "# Add some text for labels, title and custom x-axis tick labels, etc.\n",
        "ax.set_ylabel('metric scores')\n",
        "ax.set_title('Recall scores on text field by corpus')\n",
        "ax.set_xticks(x)\n",
        "ax.set_xticklabels(labels)\n",
        "ax.legend()\n",
        "\n",
        "def autolabel(rects):\n",
        "    \"\"\"Attach a text label above each bar in *rects*, displaying its height.\"\"\"\n",
        "    for rect in rects:\n",
        "        height = rect.get_height()\n",
        "        ax.annotate('{}'.format(height),\n",
        "                    xy=(rect.get_x() + rect.get_width() / 2, height),\n",
        "                    xytext=(0, 3),  # 3 points vertical offset\n",
        "                    textcoords=\"offset points\",\n",
        "                    ha='center', va='bottom')\n",
        "\n",
        "autolabel(rects1)\n",
        "autolabel(rects2)\n",
        "autolabel(rects3)\n",
        "\n",
        "\n",
        "fig.tight_layout()\n",
        "fig.set_figwidth(16)\n",
        "fig.set_figheight(8)\n",
        "\n",
        "plt.show()"
      ],
      "execution_count": 48,
      "outputs": [
        {
          "output_type": "display_data",
          "data": {
            "image/png": "[encoded data removed]",
            "text/plain": [
              "<Figure size 1152x576 with 1 Axes>"
            ]
          },
          "metadata": {
            "tags": [],
            "needs_background": "light"
          }
        }
      ]
    },
    {
      "cell_type": "markdown",
      "metadata": {
        "id": "h0Ib8trlz4-t"
      },
      "source": [
        "**Recall on a complex re-ranking query**"
      ]
    },
    {
      "cell_type": "code",
      "metadata": {
        "colab": {
          "base_uri": "https://localhost:8080/",
          "height": 647
        },
        "id": "tJBsXlxhmgPV",
        "outputId": "b44767a7-5ba0-4d11-f181-b3db464ac3d2"
      },
      "source": [
        "import matplotlib\n",
        "import matplotlib.pyplot as plt\n",
        "import numpy as np\n",
        "\n",
        "match_metrics_recall_text_title = []\n",
        "match_metrics_recall_text_title.append(round(adi_res_match_recall_text_title['metric_score'], 3))\n",
        "match_metrics_recall_text_title.append(round(cacm_res_match_recall_text_title['metric_score'], 3))\n",
        "match_metrics_recall_text_title.append(round(cisi_res_match_recall_text_title['metric_score'], 3))\n",
        "match_metrics_recall_text_title.append(round(cran_res_match_recall_text_title['metric_score'], 3))\n",
        "match_metrics_recall_text_title.append(round(lisa_res_match_recall_text_title['metric_score'], 3))\n",
        "\n",
        "complex_rerank_bert_metrics_recall = []\n",
        "complex_rerank_bert_metrics_recall.append(round(adi_res_complex_rerank_recall['metric_score'], 3))\n",
        "complex_rerank_bert_metrics_recall.append(round(cacm_res_complex_rerank_recall['metric_score'], 3))\n",
        "complex_rerank_bert_metrics_recall.append(round(cisi_res_complex_rerank_recall['metric_score'], 3))\n",
        "complex_rerank_bert_metrics_recall.append(round(cran_res_complex_rerank_recall['metric_score'], 3))\n",
        "complex_rerank_bert_metrics_recall.append(round(lisa_res_complex_rerank_recall['metric_score'], 3))\n",
        "\n",
        "rerank_bert_text_metrics_recall = []\n",
        "rerank_bert_text_metrics_recall.append(round(adi_res_rerank_text_recall['metric_score'], 3))\n",
        "rerank_bert_text_metrics_recall.append(round(cacm_res_rerank_text_recall['metric_score'], 3))\n",
        "rerank_bert_text_metrics_recall.append(round(cisi_res_rerank_text_recall['metric_score'], 3))\n",
        "rerank_bert_text_metrics_recall.append(round(cran_res_rerank_text_recall['metric_score'], 3))\n",
        "rerank_bert_text_metrics_recall.append(round(lisa_res_rerank_text_recall['metric_score'], 3))\n",
        "\n",
        "rerank_bert_title_metrics_recall = []\n",
        "rerank_bert_title_metrics_recall.append(round(adi_res_rerank_title_recall['metric_score'], 3))\n",
        "rerank_bert_title_metrics_recall.append(round(cacm_res_rerank_title_recall['metric_score'], 3))\n",
        "rerank_bert_title_metrics_recall.append(round(cisi_res_rerank_title_recall['metric_score'], 3))\n",
        "rerank_bert_title_metrics_recall.append(round(cran_res_rerank_title_recall['metric_score'], 3))\n",
        "rerank_bert_title_metrics_recall.append(round(lisa_res_rerank_title_recall['metric_score'], 3))\n",
        "\n",
        "\n",
        "labels = ['ADI','CACM', 'CISI','Cranfield', 'LISA']\n",
        "\n",
        "x = np.arange(len(labels))*2.5  # the label locations\n",
        "\n",
        "width = 0.5  # the width of the bars\n",
        "\n",
        "fig, ax = plt.subplots()\n",
        "rects1 = ax.bar(x - 2*width, match_metrics_recall_text_title , width, label='With multi-match query on title and text field')\n",
        "rects2 = ax.bar(x - width, complex_rerank_bert_metrics_recall , width, label='With complex re-ranking')\n",
        "rects3 = ax.bar(x, rerank_bert_text_metrics_recall, width, label='With re-ranking on text field')\n",
        "rects4 = ax.bar(x + width, rerank_bert_title_metrics_recall, width, label='With re-ranking on title field')\n",
        "\n",
        "# Add some text for labels, title and custom x-axis tick labels, etc.\n",
        "ax.set_ylabel('metric scores')\n",
        "ax.set_title('Complex re-ranking recall scores by corpus')\n",
        "ax.set_xticks(x)\n",
        "ax.set_xticklabels(labels)\n",
        "ax.legend()\n",
        "\n",
        "def autolabel(rects):\n",
        "    \"\"\"Attach a text label above each bar in *rects*, displaying its height.\"\"\"\n",
        "    for rect in rects:\n",
        "        height = rect.get_height()\n",
        "        ax.annotate('{}'.format(height),\n",
        "                    xy=(rect.get_x() + rect.get_width() / 2, height),\n",
        "                    xytext=(0, 3),  # 3 points vertical offset\n",
        "                    textcoords=\"offset points\",\n",
        "                    ha='center', va='bottom')\n",
        "\n",
        "autolabel(rects1)\n",
        "autolabel(rects2)\n",
        "autolabel(rects3)\n",
        "autolabel(rects4)\n",
        "\n",
        "fig.tight_layout()\n",
        "fig.set_figwidth(16)\n",
        "fig.set_figheight(10)\n",
        "\n",
        "plt.show()"
      ],
      "execution_count": 49,
      "outputs": [
        {
          "output_type": "display_data",
          "data": {
            "image/png": "[encoded data removed]",
            "text/plain": [
              "<Figure size 1152x720 with 1 Axes>"
            ]
          },
          "metadata": {
            "tags": [],
            "needs_background": "light"
          }
        }
      ]
    },
    {
      "cell_type": "markdown",
      "metadata": {
        "id": "QuxJmfYZG14r"
      },
      "source": [
        "### Precision"
      ]
    },
    {
      "cell_type": "markdown",
      "metadata": {
        "id": "MEC0F38kUqT7"
      },
      "source": [
        "**Precision on 'title' field**"
      ]
    },
    {
      "cell_type": "code",
      "metadata": {
        "colab": {
          "base_uri": "https://localhost:8080/",
          "height": 647
        },
        "id": "Bp4g4N7TUpXB",
        "outputId": "d1ebdf41-1877-4652-e380-3dd1c672614c"
      },
      "source": [
        "import matplotlib\n",
        "import matplotlib.pyplot as plt\n",
        "import numpy as np\n",
        "\n",
        "match_metrics_precision_title = []\n",
        "match_metrics_precision_title.append(round(adi_res_match_precision_title['metric_score'], 3))\n",
        "match_metrics_precision_title.append(round(cacm_res_match_precision_title['metric_score'], 3))\n",
        "match_metrics_precision_title.append(round(cisi_res_match_precision_title['metric_score'], 3))\n",
        "match_metrics_precision_title.append(round(cran_res_match_precision_title['metric_score'], 3))\n",
        "match_metrics_precision_title.append(round(lisa_res_match_precision_title['metric_score'], 3))\n",
        "\n",
        "bert_title_metrics_precision = []\n",
        "bert_title_metrics_precision.append(round(adi_res_bert_title_precision['metric_score'], 3))\n",
        "bert_title_metrics_precision.append(round(cacm_res_bert_title_precision['metric_score'], 3))\n",
        "bert_title_metrics_precision.append(round(cisi_res_bert_title_precision['metric_score'], 3))\n",
        "bert_title_metrics_precision.append(round(cran_res_bert_title_precision['metric_score'], 3))\n",
        "bert_title_metrics_precision.append(round(lisa_res_bert_title_precision['metric_score'], 3))\n",
        "\n",
        "rerank_bert_title_metrics_precision = []\n",
        "rerank_bert_title_metrics_precision.append(round(adi_res_rerank_title_precision['metric_score'], 3))\n",
        "rerank_bert_title_metrics_precision.append(round(cacm_res_rerank_title_precision['metric_score'], 3))\n",
        "rerank_bert_title_metrics_precision.append(round(cisi_res_rerank_title_precision['metric_score'], 3))\n",
        "rerank_bert_title_metrics_precision.append(round(cran_res_rerank_title_precision['metric_score'], 3))\n",
        "rerank_bert_title_metrics_precision.append(round(lisa_res_rerank_title_precision['metric_score'], 3))\n",
        "\n",
        "labels = ['ADI','CACM', 'CISI','Cranfield', 'LISA']\n",
        "\n",
        "x = np.arange(len(labels))*2.5  # the label locations\n",
        "\n",
        "width = 0.5  # the width of the bars\n",
        "\n",
        "fig, ax = plt.subplots()\n",
        "rects1 = ax.bar(x - width, match_metrics_precision_title , width, label='With multi-match query on title')\n",
        "rects2 = ax.bar(x, bert_title_metrics_precision, width, label='With BERT on title field')\n",
        "rects3 = ax.bar(x + width, rerank_bert_title_metrics_precision, width, label='With re-ranking on title field')\n",
        "\n",
        "# Add some text for labels, title and custom x-axis tick labels, etc.\n",
        "ax.set_ylabel('metric scores')\n",
        "ax.set_title('Precision scores on title field by corpus')\n",
        "ax.set_xticks(x)\n",
        "ax.set_xticklabels(labels)\n",
        "ax.legend()\n",
        "\n",
        "def autolabel(rects):\n",
        "    \"\"\"Attach a text label above each bar in *rects*, displaying its height.\"\"\"\n",
        "    for rect in rects:\n",
        "        height = rect.get_height()\n",
        "        ax.annotate('{}'.format(height),\n",
        "                    xy=(rect.get_x() + rect.get_width() / 2, height),\n",
        "                    xytext=(0, 3),  # 3 points vertical offset\n",
        "                    textcoords=\"offset points\",\n",
        "                    ha='center', va='bottom')\n",
        "\n",
        "autolabel(rects1)\n",
        "autolabel(rects2)\n",
        "autolabel(rects3)\n",
        "\n",
        "fig.tight_layout()\n",
        "fig.set_figwidth(16)\n",
        "fig.set_figheight(10)\n",
        "\n",
        "plt.show()"
      ],
      "execution_count": 50,
      "outputs": [
        {
          "output_type": "display_data",
          "data": {
            "image/png": "[encoded data removed]",
            "text/plain": [
              "<Figure size 1152x720 with 1 Axes>"
            ]
          },
          "metadata": {
            "tags": [],
            "needs_background": "light"
          }
        }
      ]
    },
    {
      "cell_type": "markdown",
      "metadata": {
        "id": "VGP-gBVDVNz2"
      },
      "source": [
        "**Precision on 'text' field**"
      ]
    },
    {
      "cell_type": "code",
      "metadata": {
        "id": "tRF25Yq3G0QU",
        "colab": {
          "base_uri": "https://localhost:8080/",
          "height": 531
        },
        "outputId": "a79c9655-ef5f-4a75-fe66-ff0672bbac74"
      },
      "source": [
        "import matplotlib\n",
        "import matplotlib.pyplot as plt\n",
        "import numpy as np\n",
        "\n",
        "match_metrics_precision_text = []\n",
        "match_metrics_precision_text.append(round(adi_res_match_precision_text['metric_score'], 3))\n",
        "match_metrics_precision_text.append(round(cacm_res_match_precision_text['metric_score'], 3))\n",
        "match_metrics_precision_text.append(round(cisi_res_match_precision_text['metric_score'], 3))\n",
        "match_metrics_precision_text.append(round(cran_res_match_precision_text['metric_score'], 3))\n",
        "match_metrics_precision_text.append(round(lisa_res_match_precision_text['metric_score'], 3))\n",
        "match_metrics_precision_text.append(round(med_res_match_precision_text['metric_score'], 3))\n",
        "match_metrics_precision_text.append(round(npl_res_match_precision_text['metric_score'], 3))\n",
        "match_metrics_precision_text.append(round(time_res_match_precision_text['metric_score'], 3))\n",
        "\n",
        "bert_text_metrics_precision = []\n",
        "bert_text_metrics_precision.append(round(adi_res_bert_text_precision['metric_score'], 3))\n",
        "bert_text_metrics_precision.append(round(cacm_res_bert_text_precision['metric_score'], 3))\n",
        "bert_text_metrics_precision.append(round(cisi_res_bert_text_precision['metric_score'], 3))\n",
        "bert_text_metrics_precision.append(round(cran_res_bert_text_precision['metric_score'], 3))\n",
        "bert_text_metrics_precision.append(round(lisa_res_bert_text_precision['metric_score'], 3))\n",
        "bert_text_metrics_precision.append(round(med_res_bert_text_precision['metric_score'], 3))\n",
        "bert_text_metrics_precision.append(round(npl_res_bert_text_precision['metric_score'], 3))\n",
        "bert_text_metrics_precision.append(round(time_res_bert_text_precision['metric_score'], 3))\n",
        "\n",
        "rerank_bert_text_metrics_precision = []\n",
        "rerank_bert_text_metrics_precision.append(round(adi_res_rerank_text_precision['metric_score'], 3))\n",
        "rerank_bert_text_metrics_precision.append(round(cacm_res_rerank_text_precision['metric_score'], 3))\n",
        "rerank_bert_text_metrics_precision.append(round(cisi_res_rerank_text_precision['metric_score'], 3))\n",
        "rerank_bert_text_metrics_precision.append(round(cran_res_rerank_text_precision['metric_score'], 3))\n",
        "rerank_bert_text_metrics_precision.append(round(lisa_res_rerank_text_precision['metric_score'], 3))\n",
        "rerank_bert_text_metrics_precision.append(round(med_res_rerank_text_precision['metric_score'], 3))\n",
        "rerank_bert_text_metrics_precision.append(round(npl_res_rerank_text_precision['metric_score'], 3))\n",
        "rerank_bert_text_metrics_precision.append(round(time_res_rerank_text_precision['metric_score'], 3))\n",
        "\n",
        "\n",
        "labels = ['ADI','CACM', 'CISI','Cranfield', 'LISA', 'Medline', 'NPL', 'Time']\n",
        "\n",
        "x = np.arange(len(labels))*2.5  # the label locations\n",
        "\n",
        "width = 0.6  # the width of the bars\n",
        "\n",
        "fig, ax = plt.subplots()\n",
        "rects1 = ax.bar(x - width, match_metrics_precision_text , width, label='With multi-match query on text')\n",
        "rects2 = ax.bar(x, bert_text_metrics_precision, width, label='With BERT on text field')\n",
        "rects3 = ax.bar(x + width, rerank_bert_text_metrics_precision, width, label='With re-ranking on text field')\n",
        "\n",
        "# Add some text for labels, title and custom x-axis tick labels, etc.\n",
        "ax.set_ylabel('metric scores')\n",
        "ax.set_title('Precision scores on text field by corpus')\n",
        "ax.set_xticks(x)\n",
        "ax.set_xticklabels(labels)\n",
        "ax.legend()\n",
        "\n",
        "def autolabel(rects):\n",
        "    \"\"\"Attach a text label above each bar in *rects*, displaying its height.\"\"\"\n",
        "    for rect in rects:\n",
        "        height = rect.get_height()\n",
        "        ax.annotate('{}'.format(height),\n",
        "                    xy=(rect.get_x() + rect.get_width() / 2, height),\n",
        "                    xytext=(0, 3),  # 3 points vertical offset\n",
        "                    textcoords=\"offset points\",\n",
        "                    ha='center', va='bottom')\n",
        "\n",
        "autolabel(rects1)\n",
        "autolabel(rects2)\n",
        "autolabel(rects3)\n",
        "\n",
        "fig.tight_layout()\n",
        "fig.set_figwidth(16)\n",
        "fig.set_figheight(8)\n",
        "\n",
        "plt.show()"
      ],
      "execution_count": 51,
      "outputs": [
        {
          "output_type": "display_data",
          "data": {
            "image/png": "[encoded data removed]",
            "text/plain": [
              "<Figure size 1152x576 with 1 Axes>"
            ]
          },
          "metadata": {
            "tags": [],
            "needs_background": "light"
          }
        }
      ]
    },
    {
      "cell_type": "markdown",
      "metadata": {
        "id": "qxvVx6Ew1Z3u"
      },
      "source": [
        "**Precision on a complex re-ranking query**"
      ]
    },
    {
      "cell_type": "code",
      "metadata": {
        "colab": {
          "base_uri": "https://localhost:8080/",
          "height": 647
        },
        "id": "N41wwBZA1Z3v",
        "outputId": "aa4c3788-207a-49b8-8685-5beaf07b0c82"
      },
      "source": [
        "import matplotlib\n",
        "import matplotlib.pyplot as plt\n",
        "import numpy as np\n",
        "\n",
        "match_metrics_precision_text_title = []\n",
        "match_metrics_precision_text_title.append(round(adi_res_match_precision_text_title['metric_score'], 3))\n",
        "match_metrics_precision_text_title.append(round(cacm_res_match_precision_text_title['metric_score'], 3))\n",
        "match_metrics_precision_text_title.append(round(cisi_res_match_precision_text_title['metric_score'], 3))\n",
        "match_metrics_precision_text_title.append(round(cran_res_match_precision_text_title['metric_score'], 3))\n",
        "match_metrics_precision_text_title.append(round(lisa_res_match_precision_text_title['metric_score'], 3))\n",
        "\n",
        "complex_rerank_bert_metrics_precision = []\n",
        "complex_rerank_bert_metrics_precision.append(round(adi_res_complex_rerank_precision['metric_score'], 3))\n",
        "complex_rerank_bert_metrics_precision.append(round(cacm_res_complex_rerank_precision['metric_score'], 3))\n",
        "complex_rerank_bert_metrics_precision.append(round(cisi_res_complex_rerank_precision['metric_score'], 3))\n",
        "complex_rerank_bert_metrics_precision.append(round(cran_res_complex_rerank_precision['metric_score'], 3))\n",
        "complex_rerank_bert_metrics_precision.append(round(lisa_res_complex_rerank_precision['metric_score'], 3))\n",
        "\n",
        "rerank_bert_text_metrics_precision = []\n",
        "rerank_bert_text_metrics_precision.append(round(adi_res_rerank_text_precision['metric_score'], 3))\n",
        "rerank_bert_text_metrics_precision.append(round(cacm_res_rerank_text_precision['metric_score'], 3))\n",
        "rerank_bert_text_metrics_precision.append(round(cisi_res_rerank_text_precision['metric_score'], 3))\n",
        "rerank_bert_text_metrics_precision.append(round(cran_res_rerank_text_precision['metric_score'], 3))\n",
        "rerank_bert_text_metrics_precision.append(round(lisa_res_rerank_text_precision['metric_score'], 3))\n",
        "\n",
        "rerank_bert_title_metrics_precision = []\n",
        "rerank_bert_title_metrics_precision.append(round(adi_res_rerank_title_precision['metric_score'], 3))\n",
        "rerank_bert_title_metrics_precision.append(round(cacm_res_rerank_title_precision['metric_score'], 3))\n",
        "rerank_bert_title_metrics_precision.append(round(cisi_res_rerank_title_precision['metric_score'], 3))\n",
        "rerank_bert_title_metrics_precision.append(round(cran_res_rerank_title_precision['metric_score'], 3))\n",
        "rerank_bert_title_metrics_precision.append(round(lisa_res_rerank_title_precision['metric_score'], 3))\n",
        "\n",
        "\n",
        "labels = ['ADI','CACM', 'CISI','Cranfield', 'LISA']\n",
        "\n",
        "x = np.arange(len(labels))*2.5  # the label locations\n",
        "\n",
        "width = 0.5  # the width of the bars\n",
        "\n",
        "fig, ax = plt.subplots()\n",
        "rects1 = ax.bar(x - 2*width, match_metrics_precision_text_title , width, label='With multi-match query on title and text field')\n",
        "rects2 = ax.bar(x - width, complex_rerank_bert_metrics_precision , width, label='With complex re-ranking')\n",
        "rects3 = ax.bar(x, rerank_bert_text_metrics_precision, width, label='With re-ranking on text field')\n",
        "rects4 = ax.bar(x + width, rerank_bert_title_metrics_precision, width, label='With re-ranking on title field')\n",
        "\n",
        "# Add some text for labels, title and custom x-axis tick labels, etc.\n",
        "ax.set_ylabel('metric scores')\n",
        "ax.set_title('Complex re-ranking precision scores by corpus')\n",
        "ax.set_xticks(x)\n",
        "ax.set_xticklabels(labels)\n",
        "ax.legend()\n",
        "\n",
        "def autolabel(rects):\n",
        "    \"\"\"Attach a text label above each bar in *rects*, displaying its height.\"\"\"\n",
        "    for rect in rects:\n",
        "        height = rect.get_height()\n",
        "        ax.annotate('{}'.format(height),\n",
        "                    xy=(rect.get_x() + rect.get_width() / 2, height),\n",
        "                    xytext=(0, 3),  # 3 points vertical offset\n",
        "                    textcoords=\"offset points\",\n",
        "                    ha='center', va='bottom')\n",
        "\n",
        "autolabel(rects1)\n",
        "autolabel(rects2)\n",
        "autolabel(rects3)\n",
        "autolabel(rects4)\n",
        "\n",
        "fig.tight_layout()\n",
        "fig.set_figwidth(16)\n",
        "fig.set_figheight(10)\n",
        "\n",
        "plt.show()"
      ],
      "execution_count": 52,
      "outputs": [
        {
          "output_type": "display_data",
          "data": {
            "image/png": "[encoded data removed]",
            "text/plain": [
              "<Figure size 1152x720 with 1 Axes>"
            ]
          },
          "metadata": {
            "tags": [],
            "needs_background": "light"
          }
        }
      ]
    },
    {
      "cell_type": "markdown",
      "metadata": {
        "id": "Gm1Aej_-T9e0"
      },
      "source": [
        "### F-Score"
      ]
    },
    {
      "cell_type": "markdown",
      "metadata": {
        "id": "0L5Od2S2V5Sn"
      },
      "source": [
        "**F-Score on 'title' field**"
      ]
    },
    {
      "cell_type": "code",
      "metadata": {
        "colab": {
          "base_uri": "https://localhost:8080/",
          "height": 647
        },
        "id": "mYfPAzYTVwRQ",
        "outputId": "b164c784-250f-48e6-cc8f-8615ce4ea481"
      },
      "source": [
        "import matplotlib\n",
        "import matplotlib.pyplot as plt\n",
        "import numpy as np\n",
        "\n",
        "def f_score(recall,precision):\n",
        "  if recall or precision != 0:\n",
        "    fscore = (2*(recall*precision)/(recall+precision))\n",
        "    return fscore\n",
        "\n",
        "match_metrics_fscore_title = []\n",
        "match_metrics_fscore_title.append(round(f_score(adi_res_match_recall_title['metric_score'], adi_res_match_precision_title['metric_score']),3))\n",
        "match_metrics_fscore_title.append(round(f_score(cacm_res_match_recall_title['metric_score'], cacm_res_match_precision_title['metric_score']),3))\n",
        "match_metrics_fscore_title.append(round(f_score(cisi_res_match_recall_title['metric_score'], cisi_res_match_precision_title['metric_score']),3))\n",
        "match_metrics_fscore_title.append(round(f_score(cran_res_match_recall_title['metric_score'], cran_res_match_precision_title['metric_score']),3))\n",
        "match_metrics_fscore_title.append(round(f_score(lisa_res_match_recall_title['metric_score'], lisa_res_match_precision_title['metric_score']),3))\n",
        "\n",
        "bert_title_metrics_fscore = []\n",
        "bert_title_metrics_fscore.append(round(f_score(adi_res_bert_title_recall['metric_score'], adi_res_bert_title_precision['metric_score']),3))\n",
        "bert_title_metrics_fscore.append(round(f_score(cacm_res_bert_title_recall['metric_score'], cacm_res_bert_title_precision['metric_score']),3))\n",
        "bert_title_metrics_fscore.append(round(f_score(cisi_res_bert_title_recall['metric_score'], cisi_res_bert_title_precision['metric_score']),3))\n",
        "bert_title_metrics_fscore.append(round(f_score(cran_res_bert_title_recall['metric_score'], cran_res_bert_title_precision['metric_score']),3))\n",
        "bert_title_metrics_fscore.append(round(f_score(lisa_res_bert_title_recall['metric_score'], lisa_res_bert_title_precision['metric_score']),3))\n",
        "\n",
        "rerank_bert_title_metrics_fscore = []\n",
        "rerank_bert_title_metrics_fscore.append(round(f_score(adi_res_rerank_title_recall['metric_score'], adi_res_rerank_title_precision['metric_score']),3))\n",
        "rerank_bert_title_metrics_fscore.append(round(f_score(cacm_res_rerank_title_recall['metric_score'], cacm_res_rerank_title_precision['metric_score']),3))\n",
        "rerank_bert_title_metrics_fscore.append(round(f_score(cisi_res_rerank_title_recall['metric_score'], cisi_res_rerank_title_precision['metric_score']),3))\n",
        "rerank_bert_title_metrics_fscore.append(round(f_score(cran_res_rerank_title_recall['metric_score'], cran_res_rerank_title_precision['metric_score']),3))\n",
        "rerank_bert_title_metrics_fscore.append(round(f_score(lisa_res_rerank_title_recall['metric_score'], lisa_res_rerank_title_precision['metric_score']),3))\n",
        "\n",
        "\n",
        "labels = ['ADI','CACM', 'CISI','Cranfield', 'LISA']\n",
        "\n",
        "x = np.arange(len(labels))*2.5  # the label locations\n",
        "\n",
        "width = 0.5  # the width of the bars\n",
        "\n",
        "fig, ax = plt.subplots()\n",
        "rects1 = ax.bar(x - width, match_metrics_fscore_title , width, label='With multi-match query on title')\n",
        "rects2 = ax.bar(x , bert_title_metrics_fscore, width, label='With BERT on title field')\n",
        "rects3 = ax.bar(x + width, rerank_bert_title_metrics_fscore, width, label='With re-ranking on title field')\n",
        "\n",
        "# Add some text for labels, title and custom x-axis tick labels, etc.\n",
        "ax.set_ylabel('metric scores')\n",
        "ax.set_title('F1-Scores on title field by corpus')\n",
        "ax.set_xticks(x)\n",
        "ax.set_xticklabels(labels)\n",
        "ax.legend()\n",
        "\n",
        "\n",
        "def autolabel(rects):\n",
        "    \"\"\"Attach a text label above each bar in *rects*, displaying its height.\"\"\"\n",
        "    for rect in rects:\n",
        "        height = rect.get_height()\n",
        "        ax.annotate('{}'.format(height),\n",
        "                    xy=(rect.get_x() + rect.get_width() / 2, height),\n",
        "                    xytext=(0, 3),  # 3 points vertical offset\n",
        "                    textcoords=\"offset points\",\n",
        "                    ha='center', va='bottom')\n",
        "\n",
        "\n",
        "autolabel(rects1)\n",
        "autolabel(rects2)\n",
        "autolabel(rects3)\n",
        "\n",
        "fig.tight_layout()\n",
        "fig.set_figwidth(16)\n",
        "fig.set_figheight(10)\n",
        "\n",
        "plt.show()"
      ],
      "execution_count": 53,
      "outputs": [
        {
          "output_type": "display_data",
          "data": {
            "image/png": "[encoded data removed]",
            "text/plain": [
              "<Figure size 1152x720 with 1 Axes>"
            ]
          },
          "metadata": {
            "tags": [],
            "needs_background": "light"
          }
        }
      ]
    },
    {
      "cell_type": "markdown",
      "metadata": {
        "id": "-GbgGBIGV-d9"
      },
      "source": [
        "**F-Score on 'text' field**"
      ]
    },
    {
      "cell_type": "code",
      "metadata": {
        "id": "QA8CpbbRQtIH",
        "colab": {
          "base_uri": "https://localhost:8080/",
          "height": 531
        },
        "outputId": "7ecc3742-07e9-422b-a612-3e48494be6f5"
      },
      "source": [
        "import matplotlib\n",
        "import matplotlib.pyplot as plt\n",
        "import numpy as np\n",
        "\n",
        "def f_score(recall,precision):\n",
        "  if recall or precision != 0:\n",
        "    fscore = (2*(recall*precision)/(recall+precision))\n",
        "    return fscore\n",
        "\n",
        "match_metrics_fscore_text = []\n",
        "match_metrics_fscore_text.append(round(f_score(adi_res_match_recall_text['metric_score'], adi_res_match_precision_text['metric_score']),3))\n",
        "match_metrics_fscore_text.append(round(f_score(cacm_res_match_recall_text['metric_score'], cacm_res_match_precision_text['metric_score']),3))\n",
        "match_metrics_fscore_text.append(round(f_score(cisi_res_match_recall_text['metric_score'], cisi_res_match_precision_text['metric_score']),3))\n",
        "match_metrics_fscore_text.append(round(f_score(cran_res_match_recall_text['metric_score'], cran_res_match_precision_text['metric_score']),3))\n",
        "match_metrics_fscore_text.append(round(f_score(lisa_res_match_recall_text['metric_score'], lisa_res_match_precision_text['metric_score']),3))\n",
        "match_metrics_fscore_text.append(round(f_score(med_res_match_recall_text['metric_score'], med_res_match_precision_text['metric_score']),3))\n",
        "match_metrics_fscore_text.append(round(f_score(npl_res_match_recall_text['metric_score'], npl_res_match_precision_text['metric_score']),3))\n",
        "match_metrics_fscore_text.append(round(f_score(time_res_match_recall_text['metric_score'], time_res_match_precision_text['metric_score']),3))\n",
        "\n",
        "bert_text_metrics_fscore = []\n",
        "bert_text_metrics_fscore.append(round(f_score(adi_res_bert_text_recall['metric_score'], adi_res_bert_text_precision['metric_score']),3))\n",
        "bert_text_metrics_fscore.append(round(f_score(cacm_res_bert_text_recall['metric_score'], cacm_res_bert_text_precision['metric_score']),3))\n",
        "bert_text_metrics_fscore.append(round(f_score(cisi_res_bert_text_recall['metric_score'], cisi_res_bert_text_precision['metric_score']),3))\n",
        "bert_text_metrics_fscore.append(round(f_score(cran_res_bert_text_recall['metric_score'], cran_res_bert_text_precision['metric_score']),3))\n",
        "bert_text_metrics_fscore.append(round(f_score(lisa_res_bert_text_recall['metric_score'], lisa_res_bert_text_precision['metric_score']),3))\n",
        "bert_text_metrics_fscore.append(round(f_score(med_res_bert_text_recall['metric_score'], med_res_bert_text_precision['metric_score']),3))\n",
        "bert_text_metrics_fscore.append(round(f_score(npl_res_bert_text_recall['metric_score'], npl_res_bert_text_precision['metric_score']),3))\n",
        "bert_text_metrics_fscore.append(round(f_score(time_res_bert_text_recall['metric_score'], time_res_bert_text_precision['metric_score']),3))\n",
        "\n",
        "rerank_bert_text_metrics_fscore = []\n",
        "rerank_bert_text_metrics_fscore.append(round(f_score(adi_res_rerank_text_recall['metric_score'], adi_res_rerank_text_precision['metric_score']),3))\n",
        "rerank_bert_text_metrics_fscore.append(round(f_score(cacm_res_rerank_text_recall['metric_score'], cacm_res_rerank_text_precision['metric_score']),3))\n",
        "rerank_bert_text_metrics_fscore.append(round(f_score(cisi_res_rerank_text_recall['metric_score'], cisi_res_rerank_text_precision['metric_score']),3))\n",
        "rerank_bert_text_metrics_fscore.append(round(f_score(cran_res_rerank_text_recall['metric_score'], cran_res_rerank_text_precision['metric_score']),3))\n",
        "rerank_bert_text_metrics_fscore.append(round(f_score(lisa_res_rerank_text_recall['metric_score'], lisa_res_rerank_text_precision['metric_score']),3))\n",
        "rerank_bert_text_metrics_fscore.append(round(f_score(med_res_rerank_text_recall['metric_score'], med_res_rerank_text_precision['metric_score']),3))\n",
        "rerank_bert_text_metrics_fscore.append(round(f_score(npl_res_rerank_text_recall['metric_score'], npl_res_rerank_text_precision['metric_score']),3))\n",
        "rerank_bert_text_metrics_fscore.append(round(f_score(time_res_rerank_text_recall['metric_score'], time_res_rerank_text_precision['metric_score']),3))\n",
        "\n",
        "labels = ['ADI','CACM', 'CISI','Cranfield', 'LISA', 'Medline', 'NPL', 'Time']\n",
        "\n",
        "x = np.arange(len(labels))*2.5  # the label locations\n",
        "\n",
        "width = 0.6  # the width of the bars\n",
        "\n",
        "fig, ax = plt.subplots()\n",
        "rects1 = ax.bar(x - width, match_metrics_fscore_text , width, label='With multi-match query on text')\n",
        "rects2 = ax.bar(x , bert_text_metrics_fscore, width, label='With BERT on text field')\n",
        "rects3 = ax.bar(x + width,rerank_bert_text_metrics_fscore, width, label='With re-ranking on text field')\n",
        "\n",
        "# Add some text for labels, title and custom x-axis tick labels, etc.\n",
        "ax.set_ylabel('metric scores')\n",
        "ax.set_title('F1-Scores on text field by corpus')\n",
        "ax.set_xticks(x)\n",
        "ax.set_xticklabels(labels)\n",
        "ax.legend()\n",
        "\n",
        "\n",
        "def autolabel(rects):\n",
        "    \"\"\"Attach a text label above each bar in *rects*, displaying its height.\"\"\"\n",
        "    for rect in rects:\n",
        "        height = rect.get_height()\n",
        "        ax.annotate('{}'.format(height),\n",
        "                    xy=(rect.get_x() + rect.get_width() / 2, height),\n",
        "                    xytext=(0, 3),  # 3 points vertical offset\n",
        "                    textcoords=\"offset points\",\n",
        "                    ha='center', va='bottom')\n",
        "\n",
        "\n",
        "autolabel(rects1)\n",
        "autolabel(rects2)\n",
        "autolabel(rects3)\n",
        "\n",
        "fig.tight_layout()\n",
        "fig.set_figwidth(16)\n",
        "fig.set_figheight(8)\n",
        "\n",
        "plt.show()"
      ],
      "execution_count": 54,
      "outputs": [
        {
          "output_type": "display_data",
          "data": {
            "image/png": "[encoded data removed]",
            "text/plain": [
              "<Figure size 1152x576 with 1 Axes>"
            ]
          },
          "metadata": {
            "tags": [],
            "needs_background": "light"
          }
        }
      ]
    },
    {
      "cell_type": "markdown",
      "metadata": {
        "id": "SEyjJzbi2ys1"
      },
      "source": [
        "**F-score on a complex re-ranking query**"
      ]
    },
    {
      "cell_type": "code",
      "metadata": {
        "colab": {
          "base_uri": "https://localhost:8080/",
          "height": 647
        },
        "id": "hO3oqgZE2ys2",
        "outputId": "8be97a9c-6925-4488-d9f8-7666629cb868"
      },
      "source": [
        "import matplotlib\n",
        "import matplotlib.pyplot as plt\n",
        "import numpy as np\n",
        "\n",
        "def f_score(recall,precision):\n",
        "  if recall or precision != 0:\n",
        "    fscore = (2*(recall*precision)/(recall+precision))\n",
        "    return fscore\n",
        "\n",
        "match_metrics_fscore_text_title = []\n",
        "match_metrics_fscore_text_title.append((round(f_score(adi_res_match_recall_text_title['metric_score'], adi_res_match_precision_text_title['metric_score']),3)))\n",
        "match_metrics_fscore_text_title.append((round(f_score(cacm_res_match_recall_text_title['metric_score'], cacm_res_match_precision_text_title['metric_score']),3)))\n",
        "match_metrics_fscore_text_title.append((round(f_score(cisi_res_match_recall_text_title['metric_score'], cisi_res_match_precision_text_title['metric_score']),3)))\n",
        "match_metrics_fscore_text_title.append((round(f_score(cran_res_match_recall_text_title['metric_score'], cran_res_match_precision_text_title['metric_score']),3)))\n",
        "match_metrics_fscore_text_title.append((round(f_score(lisa_res_match_recall_text_title['metric_score'], lisa_res_match_precision_text_title['metric_score']),3)))\n",
        "\n",
        "complex_rerank_bert_metrics_fscore = []\n",
        "complex_rerank_bert_metrics_fscore.append((round(f_score(adi_res_complex_rerank_recall['metric_score'], adi_res_complex_rerank_precision['metric_score']),3)))\n",
        "complex_rerank_bert_metrics_fscore.append((round(f_score(cacm_res_complex_rerank_recall['metric_score'], cacm_res_complex_rerank_precision['metric_score']),3)))\n",
        "complex_rerank_bert_metrics_fscore.append((round(f_score(cisi_res_complex_rerank_recall['metric_score'], cisi_res_complex_rerank_precision['metric_score']),3)))\n",
        "complex_rerank_bert_metrics_fscore.append((round(f_score(cran_res_complex_rerank_recall['metric_score'], cran_res_complex_rerank_precision['metric_score']),3)))\n",
        "complex_rerank_bert_metrics_fscore.append((round(f_score(lisa_res_complex_rerank_recall['metric_score'], lisa_res_complex_rerank_precision['metric_score']),3)))\n",
        "\n",
        "rerank_bert_text_metrics_fscore = []\n",
        "rerank_bert_text_metrics_fscore.append((round(f_score(adi_res_rerank_text_recall['metric_score'], adi_res_rerank_text_precision['metric_score']),3)))\n",
        "rerank_bert_text_metrics_fscore.append((round(f_score(cacm_res_rerank_text_recall['metric_score'], cacm_res_rerank_text_precision['metric_score']),3)))\n",
        "rerank_bert_text_metrics_fscore.append((round(f_score(cisi_res_rerank_text_recall['metric_score'], cisi_res_rerank_text_precision['metric_score']),3)))\n",
        "rerank_bert_text_metrics_fscore.append((round(f_score(cran_res_rerank_text_recall['metric_score'], cran_res_rerank_text_precision['metric_score']),3)))\n",
        "rerank_bert_text_metrics_fscore.append((round(f_score(lisa_res_rerank_text_recall['metric_score'], lisa_res_rerank_text_precision['metric_score']),3)))\n",
        "\n",
        "rerank_bert_title_metrics_fscore = []\n",
        "rerank_bert_title_metrics_fscore.append((round(f_score(adi_res_rerank_title_recall['metric_score'], adi_res_rerank_title_precision['metric_score']),3)))\n",
        "rerank_bert_title_metrics_fscore.append((round(f_score(cacm_res_rerank_title_recall['metric_score'], cacm_res_rerank_title_precision['metric_score']),3)))\n",
        "rerank_bert_title_metrics_fscore.append((round(f_score(cisi_res_rerank_title_recall['metric_score'], cisi_res_rerank_title_precision['metric_score']),3)))\n",
        "rerank_bert_title_metrics_fscore.append((round(f_score(cran_res_rerank_title_recall['metric_score'], cran_res_rerank_title_precision['metric_score']),3)))\n",
        "rerank_bert_title_metrics_fscore.append((round(f_score(lisa_res_rerank_title_recall['metric_score'], lisa_res_rerank_title_precision['metric_score']),3)))\n",
        "\n",
        "\n",
        "labels = ['ADI','CACM', 'CISI','Cranfield', 'LISA']\n",
        "\n",
        "x = np.arange(len(labels))*2.5  # the label locations\n",
        "\n",
        "width = 0.5  # the width of the bars\n",
        "\n",
        "fig, ax = plt.subplots()\n",
        "rects1 = ax.bar(x - 2*width, match_metrics_fscore_text_title , width, label='With multi-match query on title and text field')\n",
        "rects2 = ax.bar(x - width, complex_rerank_bert_metrics_fscore , width, label='With complex re-ranking')\n",
        "rects3 = ax.bar(x, rerank_bert_text_metrics_fscore, width, label='With re-ranking on text field')\n",
        "rects4 = ax.bar(x + width, rerank_bert_title_metrics_fscore, width, label='With re-ranking on title field')\n",
        "\n",
        "# Add some text for labels, title and custom x-axis tick labels, etc.\n",
        "ax.set_ylabel('metric scores')\n",
        "ax.set_title('Complex re-ranking F1-Scores by corpus')\n",
        "ax.set_xticks(x)\n",
        "ax.set_xticklabels(labels)\n",
        "ax.legend()\n",
        "\n",
        "\n",
        "def autolabel(rects):\n",
        "    \"\"\"Attach a text label above each bar in *rects*, displaying its height.\"\"\"\n",
        "    for rect in rects:\n",
        "        height = rect.get_height()\n",
        "        ax.annotate('{}'.format(height),\n",
        "                    xy=(rect.get_x() + rect.get_width() / 2, height),\n",
        "                    xytext=(0, 3),  # 3 points vertical offset\n",
        "                    textcoords=\"offset points\",\n",
        "                    ha='center', va='bottom')\n",
        "\n",
        "\n",
        "autolabel(rects1)\n",
        "autolabel(rects2)\n",
        "autolabel(rects3)\n",
        "autolabel(rects4)\n",
        "\n",
        "fig.tight_layout()\n",
        "fig.set_figwidth(16)\n",
        "fig.set_figheight(10)\n",
        "\n",
        "plt.show()"
      ],
      "execution_count": 55,
      "outputs": [
        {
          "output_type": "display_data",
          "data": {
            "image/png": "[encoded data removed]",
            "text/plain": [
              "<Figure size 1152x720 with 1 Axes>"
            ]
          },
          "metadata": {
            "tags": [],
            "needs_background": "light"
          }
        }
      ]
    },
    {
      "cell_type": "markdown",
      "metadata": {
        "id": "Ikgcrccon7a1"
      },
      "source": [
        "# Read More\n",
        "Details on this experiment can be found on our [website](https://pragmalingu.de/docs/experiments/experiment2)."
      ]
    }
  ]
}