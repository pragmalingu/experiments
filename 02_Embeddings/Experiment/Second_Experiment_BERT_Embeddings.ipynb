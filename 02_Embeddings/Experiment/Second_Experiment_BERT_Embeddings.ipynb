{
  "nbformat": 4,
  "nbformat_minor": 0,
  "metadata": {
    "colab": {
      "name": "Second Experiment: BERT Embeddings.ipynb",
      "provenance": [],
      "collapsed_sections": [
        "_Un-oDrHnDui",
        "r4_SDsRLasRA",
        "nZl09cJE0755",
        "X6uTwgD31Azk"
      ],
      "toc_visible": true,
      "include_colab_link": true
    },
    "kernelspec": {
      "name": "python3",
      "display_name": "Python 3"
    },
    "accelerator": "GPU"
  },
  "cells": [
    {
      "cell_type": "markdown",
      "metadata": {
        "id": "view-in-github",
        "colab_type": "text"
      },
      "source": [
        "<a href=\"https://colab.research.google.com/github/pragmalingu/experiments/blob/master/02_Embeddings/Experiment/Second_Experiment_BERT_Embeddings.ipynb\" target=\"_parent\"><img src=\"https://colab.research.google.com/assets/colab-badge.svg\" alt=\"Open In Colab\"/></a>"
      ]
    },
    {
      "cell_type": "markdown",
      "metadata": {
        "id": "n93d8RqwhKXs"
      },
      "source": [
        "# Second Experiment\n",
        "\n"
      ]
    },
    {
      "cell_type": "markdown",
      "metadata": {
        "id": "tApgxGG-lbTG"
      },
      "source": [
        "For our second experiment we connect the Notebook to an Elasticsearch instance and compare a standard Elasticsearch operator with Embeddings we get from BERT (Bi-Directional Encoder Representation from Transformer). The Embeddings are indexed built-in stemming methods: 'Stemmer Token Filter' and 'Hunspell Token Filter'. \n",
        "(To read details about this experiment visit our [website](https://pragmalingu.de/docs/experiments/experiment1))"
      ]
    },
    {
      "cell_type": "markdown",
      "metadata": {
        "id": "_Un-oDrHnDui"
      },
      "source": [
        "## Setup an Elasticsearch Instance in Google Colab"
      ]
    },
    {
      "cell_type": "markdown",
      "metadata": {
        "id": "wQiAH-sinDum"
      },
      "source": [
        "Everthing to connect to Elasticsearch, for detailed explaination see [this Notebook.](https://)\n",
        "Download:"
      ]
    },
    {
      "cell_type": "code",
      "metadata": {
        "id": "XdccmnTUnDup"
      },
      "source": [
        "import os\n",
        "from subprocess import Popen, PIPE, STDOUT\n",
        "# download elasticsearch\n",
        "!wget https://artifacts.elastic.co/downloads/elasticsearch/elasticsearch-7.9.1-linux-x86_64.tar.gz -q\n",
        "!tar -xzf elasticsearch-7.9.1-linux-x86_64.tar.gz\n",
        "!chown -R daemon:daemon elasticsearch-7.9.1\n"
      ],
      "execution_count": null,
      "outputs": []
    },
    {
      "cell_type": "markdown",
      "metadata": {
        "id": "bxgS1p4_-zun"
      },
      "source": [
        "Start a local server:"
      ]
    },
    {
      "cell_type": "code",
      "metadata": {
        "id": "H9HrpRBGsg9y",
        "colab": {
          "base_uri": "https://localhost:8080/"
        },
        "outputId": "1b0f7871-a52b-447f-c36c-b74c1d15b7c3"
      },
      "source": [
        "# start server\n",
        "es_server = Popen(['elasticsearch-7.9.1/bin/elasticsearch'], \n",
        "                  stdout=PIPE, stderr=STDOUT,\n",
        "                  preexec_fn=lambda: os.setuid(1)  # as daemon\n",
        "                 )\n",
        "# client-side\n",
        "!pip install elasticsearch -q\n",
        "from elasticsearch import Elasticsearch\n",
        "from datetime import datetime\n",
        "es = Elasticsearch([\"localhost:9200/\"])\n",
        "#wait a bit\n",
        "import time\n",
        "time.sleep(30)\n",
        "es.ping()  # got True"
      ],
      "execution_count": null,
      "outputs": [
        {
          "output_type": "stream",
          "text": [
            "\u001b[?25l\r\u001b[K     |█                               | 10kB 5.2MB/s eta 0:00:01\r\u001b[K     |██                              | 20kB 8.9MB/s eta 0:00:01\r\u001b[K     |███                             | 30kB 6.0MB/s eta 0:00:01\r\u001b[K     |████                            | 40kB 5.5MB/s eta 0:00:01\r\u001b[K     |█████                           | 51kB 5.5MB/s eta 0:00:01\r\u001b[K     |██████                          | 61kB 5.8MB/s eta 0:00:01\r\u001b[K     |███████▏                        | 71kB 3.8MB/s eta 0:00:01\r\u001b[K     |████████▏                       | 81kB 4.2MB/s eta 0:00:01\r\u001b[K     |█████████▏                      | 92kB 4.7MB/s eta 0:00:01\r\u001b[K     |██████████▏                     | 102kB 5.2MB/s eta 0:00:01\r\u001b[K     |███████████▏                    | 112kB 5.2MB/s eta 0:00:01\r\u001b[K     |████████████▏                   | 122kB 5.2MB/s eta 0:00:01\r\u001b[K     |█████████████▎                  | 133kB 5.2MB/s eta 0:00:01\r\u001b[K     |██████████████▎                 | 143kB 5.2MB/s eta 0:00:01\r\u001b[K     |███████████████▎                | 153kB 5.2MB/s eta 0:00:01\r\u001b[K     |████████████████▎               | 163kB 5.2MB/s eta 0:00:01\r\u001b[K     |█████████████████▎              | 174kB 5.2MB/s eta 0:00:01\r\u001b[K     |██████████████████▎             | 184kB 5.2MB/s eta 0:00:01\r\u001b[K     |███████████████████▎            | 194kB 5.2MB/s eta 0:00:01\r\u001b[K     |████████████████████▍           | 204kB 5.2MB/s eta 0:00:01\r\u001b[K     |█████████████████████▍          | 215kB 5.2MB/s eta 0:00:01\r\u001b[K     |██████████████████████▍         | 225kB 5.2MB/s eta 0:00:01\r\u001b[K     |███████████████████████▍        | 235kB 5.2MB/s eta 0:00:01\r\u001b[K     |████████████████████████▍       | 245kB 5.2MB/s eta 0:00:01\r\u001b[K     |█████████████████████████▍      | 256kB 5.2MB/s eta 0:00:01\r\u001b[K     |██████████████████████████▌     | 266kB 5.2MB/s eta 0:00:01\r\u001b[K     |███████████████████████████▌    | 276kB 5.2MB/s eta 0:00:01\r\u001b[K     |████████████████████████████▌   | 286kB 5.2MB/s eta 0:00:01\r\u001b[K     |█████████████████████████████▌  | 296kB 5.2MB/s eta 0:00:01\r\u001b[K     |██████████████████████████████▌ | 307kB 5.2MB/s eta 0:00:01\r\u001b[K     |███████████████████████████████▌| 317kB 5.2MB/s eta 0:00:01\r\u001b[K     |████████████████████████████████| 327kB 5.2MB/s \n",
            "\u001b[?25h"
          ],
          "name": "stdout"
        },
        {
          "output_type": "execute_result",
          "data": {
            "text/plain": [
              "True"
            ]
          },
          "metadata": {
            "tags": []
          },
          "execution_count": 2
        }
      ]
    },
    {
      "cell_type": "code",
      "metadata": {
        "id": "jW1d1vUw_Bjb",
        "colab": {
          "base_uri": "https://localhost:8080/"
        },
        "outputId": "0b1952fd-f60f-4fa5-fd76-be5d721b4bfe"
      },
      "source": [
        "#print new index list\n",
        "create_response = es.cat.indices()\n",
        "print(create_response)"
      ],
      "execution_count": null,
      "outputs": [
        {
          "output_type": "stream",
          "text": [
            "\n"
          ],
          "name": "stdout"
        }
      ]
    },
    {
      "cell_type": "markdown",
      "metadata": {
        "id": "OXr3XUJ8Lg22"
      },
      "source": [
        "## Download and intializie pretrained BERT model"
      ]
    },
    {
      "cell_type": "code",
      "metadata": {
        "id": "8_8fy6OMLfxt",
        "colab": {
          "base_uri": "https://localhost:8080/"
        },
        "outputId": "5dbd727c-222e-4bd3-98b8-f62fa939bc3f"
      },
      "source": [
        "!pip install -U sentence-transformers\n",
        "\n",
        "from sentence_transformers import SentenceTransformer\n",
        "import torch\n",
        "from tqdm import tqdm_notebook\n",
        "\n",
        "model = SentenceTransformer('bert-base-nli-mean-tokens')\n",
        "\n",
        "# using gpu to boost inference if it's possible\n",
        "if torch.cuda.is_available():\n",
        "  model.to('cuda')\n",
        "\n",
        "print('Max Sequence Length:', model.max_seq_length)\n",
        "\n",
        "#Change the length to max possible length (based on gpu memory)\n",
        "model.max_seq_length = 364\n",
        "\n",
        "print('Max Sequence Length:', model.max_seq_length)"
      ],
      "execution_count": null,
      "outputs": [
        {
          "output_type": "stream",
          "text": [
            "Collecting sentence-transformers\n",
            "\u001b[?25l  Downloading https://files.pythonhosted.org/packages/f5/5a/6e41e8383913dd2ba923cdcd02be2e03911595f4d2f9de559ecbed80d2d3/sentence-transformers-0.3.9.tar.gz (64kB)\n",
            "\u001b[K     |████████████████████████████████| 71kB 8.2MB/s \n",
            "\u001b[?25hCollecting transformers<3.6.0,>=3.1.0\n",
            "\u001b[?25l  Downloading https://files.pythonhosted.org/packages/3a/83/e74092e7f24a08d751aa59b37a9fc572b2e4af3918cb66f7766c3affb1b4/transformers-3.5.1-py3-none-any.whl (1.3MB)\n",
            "\u001b[K     |████████████████████████████████| 1.3MB 20.7MB/s \n",
            "\u001b[?25hRequirement already satisfied, skipping upgrade: tqdm in /usr/local/lib/python3.6/dist-packages (from sentence-transformers) (4.41.1)\n",
            "Requirement already satisfied, skipping upgrade: torch>=1.6.0 in /usr/local/lib/python3.6/dist-packages (from sentence-transformers) (1.7.0+cu101)\n",
            "Requirement already satisfied, skipping upgrade: numpy in /usr/local/lib/python3.6/dist-packages (from sentence-transformers) (1.18.5)\n",
            "Requirement already satisfied, skipping upgrade: scikit-learn in /usr/local/lib/python3.6/dist-packages (from sentence-transformers) (0.22.2.post1)\n",
            "Requirement already satisfied, skipping upgrade: scipy in /usr/local/lib/python3.6/dist-packages (from sentence-transformers) (1.4.1)\n",
            "Requirement already satisfied, skipping upgrade: nltk in /usr/local/lib/python3.6/dist-packages (from sentence-transformers) (3.2.5)\n",
            "Collecting tokenizers==0.9.3\n",
            "\u001b[?25l  Downloading https://files.pythonhosted.org/packages/4c/34/b39eb9994bc3c999270b69c9eea40ecc6f0e97991dba28282b9fd32d44ee/tokenizers-0.9.3-cp36-cp36m-manylinux1_x86_64.whl (2.9MB)\n",
            "\u001b[K     |████████████████████████████████| 2.9MB 48.8MB/s \n",
            "\u001b[?25hRequirement already satisfied, skipping upgrade: dataclasses; python_version < \"3.7\" in /usr/local/lib/python3.6/dist-packages (from transformers<3.6.0,>=3.1.0->sentence-transformers) (0.8)\n",
            "Requirement already satisfied, skipping upgrade: filelock in /usr/local/lib/python3.6/dist-packages (from transformers<3.6.0,>=3.1.0->sentence-transformers) (3.0.12)\n",
            "Collecting sacremoses\n",
            "\u001b[?25l  Downloading https://files.pythonhosted.org/packages/7d/34/09d19aff26edcc8eb2a01bed8e98f13a1537005d31e95233fd48216eed10/sacremoses-0.0.43.tar.gz (883kB)\n",
            "\u001b[K     |████████████████████████████████| 890kB 51.4MB/s \n",
            "\u001b[?25hRequirement already satisfied, skipping upgrade: packaging in /usr/local/lib/python3.6/dist-packages (from transformers<3.6.0,>=3.1.0->sentence-transformers) (20.7)\n",
            "Requirement already satisfied, skipping upgrade: regex!=2019.12.17 in /usr/local/lib/python3.6/dist-packages (from transformers<3.6.0,>=3.1.0->sentence-transformers) (2019.12.20)\n",
            "Requirement already satisfied, skipping upgrade: requests in /usr/local/lib/python3.6/dist-packages (from transformers<3.6.0,>=3.1.0->sentence-transformers) (2.23.0)\n",
            "Collecting sentencepiece==0.1.91\n",
            "\u001b[?25l  Downloading https://files.pythonhosted.org/packages/d4/a4/d0a884c4300004a78cca907a6ff9a5e9fe4f090f5d95ab341c53d28cbc58/sentencepiece-0.1.91-cp36-cp36m-manylinux1_x86_64.whl (1.1MB)\n",
            "\u001b[K     |████████████████████████████████| 1.1MB 56.5MB/s \n",
            "\u001b[?25hRequirement already satisfied, skipping upgrade: protobuf in /usr/local/lib/python3.6/dist-packages (from transformers<3.6.0,>=3.1.0->sentence-transformers) (3.12.4)\n",
            "Requirement already satisfied, skipping upgrade: future in /usr/local/lib/python3.6/dist-packages (from torch>=1.6.0->sentence-transformers) (0.16.0)\n",
            "Requirement already satisfied, skipping upgrade: typing-extensions in /usr/local/lib/python3.6/dist-packages (from torch>=1.6.0->sentence-transformers) (3.7.4.3)\n",
            "Requirement already satisfied, skipping upgrade: joblib>=0.11 in /usr/local/lib/python3.6/dist-packages (from scikit-learn->sentence-transformers) (0.17.0)\n",
            "Requirement already satisfied, skipping upgrade: six in /usr/local/lib/python3.6/dist-packages (from nltk->sentence-transformers) (1.15.0)\n",
            "Requirement already satisfied, skipping upgrade: click in /usr/local/lib/python3.6/dist-packages (from sacremoses->transformers<3.6.0,>=3.1.0->sentence-transformers) (7.1.2)\n",
            "Requirement already satisfied, skipping upgrade: pyparsing>=2.0.2 in /usr/local/lib/python3.6/dist-packages (from packaging->transformers<3.6.0,>=3.1.0->sentence-transformers) (2.4.7)\n",
            "Requirement already satisfied, skipping upgrade: certifi>=2017.4.17 in /usr/local/lib/python3.6/dist-packages (from requests->transformers<3.6.0,>=3.1.0->sentence-transformers) (2020.12.5)\n",
            "Requirement already satisfied, skipping upgrade: chardet<4,>=3.0.2 in /usr/local/lib/python3.6/dist-packages (from requests->transformers<3.6.0,>=3.1.0->sentence-transformers) (3.0.4)\n",
            "Requirement already satisfied, skipping upgrade: idna<3,>=2.5 in /usr/local/lib/python3.6/dist-packages (from requests->transformers<3.6.0,>=3.1.0->sentence-transformers) (2.10)\n",
            "Requirement already satisfied, skipping upgrade: urllib3!=1.25.0,!=1.25.1,<1.26,>=1.21.1 in /usr/local/lib/python3.6/dist-packages (from requests->transformers<3.6.0,>=3.1.0->sentence-transformers) (1.24.3)\n",
            "Requirement already satisfied, skipping upgrade: setuptools in /usr/local/lib/python3.6/dist-packages (from protobuf->transformers<3.6.0,>=3.1.0->sentence-transformers) (50.3.2)\n",
            "Building wheels for collected packages: sentence-transformers, sacremoses\n",
            "  Building wheel for sentence-transformers (setup.py) ... \u001b[?25l\u001b[?25hdone\n",
            "  Created wheel for sentence-transformers: filename=sentence_transformers-0.3.9-cp36-none-any.whl size=101034 sha256=342524872c965a7f9a0c1c6430c1b379270c4e0e36abc228baa4d60b5e39fd69\n",
            "  Stored in directory: /root/.cache/pip/wheels/fc/89/43/f2f5bc00b03ef9724b0f6254a97eaf159a4c4ddc024b33e07a\n",
            "  Building wheel for sacremoses (setup.py) ... \u001b[?25l\u001b[?25hdone\n",
            "  Created wheel for sacremoses: filename=sacremoses-0.0.43-cp36-none-any.whl size=893261 sha256=57c7f038c2d11131f9393d3114a3dce1547793340eff791445cfd84f188df2d0\n",
            "  Stored in directory: /root/.cache/pip/wheels/29/3c/fd/7ce5c3f0666dab31a50123635e6fb5e19ceb42ce38d4e58f45\n",
            "Successfully built sentence-transformers sacremoses\n",
            "Installing collected packages: tokenizers, sacremoses, sentencepiece, transformers, sentence-transformers\n",
            "Successfully installed sacremoses-0.0.43 sentence-transformers-0.3.9 sentencepiece-0.1.91 tokenizers-0.9.3 transformers-3.5.1\n"
          ],
          "name": "stdout"
        },
        {
          "output_type": "stream",
          "text": [
            "100%|██████████| 405M/405M [00:24<00:00, 16.7MB/s]\n"
          ],
          "name": "stderr"
        },
        {
          "output_type": "stream",
          "text": [
            "Max Sequence Length: 128\n",
            "Max Sequence Length: 364\n"
          ],
          "name": "stdout"
        }
      ]
    },
    {
      "cell_type": "markdown",
      "metadata": {
        "id": "RQX8W6VepxxT"
      },
      "source": [
        "## Parse Data\n",
        "\n",
        "Get different corpora, format them and feed them to elasticsearch"
      ]
    },
    {
      "cell_type": "markdown",
      "metadata": {
        "id": "SIXjztjXSYnx"
      },
      "source": [
        "### ADI Corpus"
      ]
    },
    {
      "cell_type": "markdown",
      "metadata": {
        "id": "DGpEnztyYttx"
      },
      "source": [
        "You can get the corpus from [this link](http://ir.dcs.gla.ac.uk/resources/test_collections/adi/).  <br>\n",
        "For detailed information about the parsing of this corpus look at [ this Notebook](https://colab.research.google.com/github/pragmalingu/private_experiments/blob/adi_corpus/ADICorpus.ipynb) or for parsing in generel read [this guide](https://)."
      ]
    },
    {
      "cell_type": "markdown",
      "metadata": {
        "id": "TbXadfCKYxHx"
      },
      "source": [
        "**Parsing**"
      ]
    },
    {
      "cell_type": "code",
      "metadata": {
        "id": "cMSPDRFyShav",
        "colab": {
          "base_uri": "https://localhost:8080/"
        },
        "outputId": "aa159517-9bc6-4e2c-a395-9372ca8d8def"
      },
      "source": [
        "# download and unzip data\n",
        "!wget http://ir.dcs.gla.ac.uk/resources/test_collections/adi/\n",
        "!tar -xf adi.tar.gz\n",
        "\n",
        "# set paths to the dowloaded data as variables\n",
        "PATH_TO_ADI_TXT = '/content/ADI.ALL'\n",
        "PATH_TO_ADI_QRY = '/content/ADI.QRY'\n",
        "PATH_TO_ADI_REL = '/content/ADI.REL'\n",
        "\n",
        "from collections import defaultdict\n",
        "import re\n",
        "import json\n",
        "from io import StringIO\n",
        "import numpy as np\n",
        "\n",
        "\n",
        "# get the text and query files\n",
        "\n",
        "ID_marker = re.compile('\\.I')\n",
        "\n",
        "def get_data(PATH_TO_FILE, marker):\n",
        "  \"\"\"\n",
        "  Reads file and spilts text into entries at the ID marker '.I'.\n",
        "  First entry is empty, so it's removed.\n",
        "  'marker' contains the regex at which we want to split\n",
        "  \"\"\"\n",
        "  with open (PATH_TO_FILE,'r') as f:\n",
        "    text = f.read().replace('\\n',\" \")\n",
        "    lines = re.split(marker,text)\n",
        "    lines.pop(0)\n",
        "  return lines\n",
        "\n",
        "adi_txt_list = get_data(PATH_TO_ADI_TXT, ID_marker)\n",
        "adi_qry_list = get_data(PATH_TO_ADI_QRY, ID_marker)\n",
        "\n",
        "# process text file\n",
        "\n",
        "adi_title_start = re.compile('\\.T')\n",
        "adi_author_start = re.compile('\\.A')\n",
        "adi_text_start = re.compile('\\.W')\n",
        "\n",
        "adi_txt_data = defaultdict(dict)\n",
        "\n",
        "for line in adi_txt_list:\n",
        "  entries = re.split(adi_title_start,line,1)\n",
        "  id = entries[0].strip()\n",
        "  no_id = entries[1]\n",
        "  if len(re.split(adi_author_start, no_id,1)) > 1:\n",
        "    no_id_entries = re.split(adi_author_start, no_id,1)\n",
        "    adi_txt_data[id]['title'] = no_id_entries[0]\n",
        "    no_title = no_id_entries[1]\n",
        "    no_title_entries = re.split(adi_text_start, no_title)\n",
        "    adi_txt_data[id]['author'] = no_title_entries[0]\n",
        "    adi_txt_data[id]['text'] = no_title_entries[1]\n",
        "  else:\n",
        "    no_id_entries = re.split(adi_text_start, no_id)\n",
        "    adi_txt_data[id]['title'] = no_id_entries[0]\n",
        "    adi_txt_data[id]['text'] = no_id_entries[1]\n",
        "\n",
        "# process query file    \n",
        "\n",
        "qry_chunk_start = re.compile('\\.W')\n",
        "adi_qry_data = defaultdict(dict)\n",
        "\n",
        "for n in range(0,len(adi_qry_list)-1):\n",
        "  line = adi_qry_list[n+1]\n",
        "  _ , question = re.split(qry_chunk_start,line)\n",
        "  adi_qry_data[n+1]['question'] = question\n",
        "\n",
        "# process relevance assesment\n",
        "\n",
        "adi_rel_data = open(PATH_TO_ADI_REL)\n",
        "adi_np = np.loadtxt(adi_rel_data, dtype=float)\n",
        "\n",
        "adi_rel = defaultdict(list)\n",
        "for row in adi_np:\n",
        "  adi_rel[int(row[0])].append(int(row[1])) \n",
        "\n",
        "# transform text to sentences for BERT text search\n",
        "\n",
        "import nltk\n",
        "from nltk import tokenize\n",
        "from nltk.tokenize import sent_tokenize\n",
        "nltk.download('punkt')\n",
        "\n",
        "def text_to_sentences(string):\n",
        "  sentences = tokenize.sent_tokenize(string)\n",
        "  return sentences\n",
        "\n",
        "for ID, doc in adi_txt_data.items():\n",
        "  text = adi_txt_data[ID]['text']\n",
        "  adi_txt_data[ID]['sentences'] = text_to_sentences(text)"
      ],
      "execution_count": null,
      "outputs": [
        {
          "output_type": "stream",
          "text": [
            "--2020-12-15 10:58:23--  https://nextcloud.samyateia.de/index.php/s/ZWpy29gH4D2sADY/download\n",
            "Resolving nextcloud.samyateia.de (nextcloud.samyateia.de)... 194.55.14.32\n",
            "Connecting to nextcloud.samyateia.de (nextcloud.samyateia.de)|194.55.14.32|:443... connected.\n",
            "HTTP request sent, awaiting response... 200 OK\n",
            "Length: 57344 (56K) [application/x-gzip]\n",
            "Saving to: ‘download’\n",
            "\n",
            "download            100%[===================>]  56.00K   309KB/s    in 0.2s    \n",
            "\n",
            "2020-12-15 10:58:24 (309 KB/s) - ‘download’ saved [57344/57344]\n",
            "\n",
            "[nltk_data] Downloading package punkt to /root/nltk_data...\n",
            "[nltk_data]   Unzipping tokenizers/punkt.zip.\n"
          ],
          "name": "stdout"
        }
      ]
    },
    {
      "cell_type": "markdown",
      "metadata": {
        "id": "I1VXADwHZuij"
      },
      "source": [
        "**Indexing**"
      ]
    },
    {
      "cell_type": "code",
      "metadata": {
        "id": "jWA0rapwShiT",
        "colab": {
          "base_uri": "https://localhost:8080/"
        },
        "outputId": "83ef591a-c8e8-487c-d0b5-4a0ab48b9df3"
      },
      "source": [
        "# Elasticsearch settings, without using Opendistro\n",
        "# Every index has title, text and vectors to fill\n",
        "settings_nest = {\n",
        "  \"mappings\": {\n",
        "    \"properties\": {\n",
        "      \"text_vector\": {\n",
        "        \"type\": \"nested\",\n",
        "        \"properties\": {\n",
        "          \"vector\": {\n",
        "            \"type\": \"dense_vector\",\n",
        "            \"dims\": 768 \n",
        "          }\n",
        "        }\n",
        "      },\n",
        "     \"text\": {\n",
        "            \"type\" : \"text\"\n",
        "          },\n",
        "          \"title_vector\": {\n",
        "           \"type\": \"dense_vector\",\n",
        "           \"dims\": 768\n",
        "            },\n",
        "      \"title\": {\n",
        "              \"type\": \"text\"\n",
        "              },\n",
        "    }\n",
        "  }\n",
        "}\n",
        "\n",
        "\n",
        "#create index, see https://elasticsearch-py.readthedocs.io/en/master/api.html#elasticsearch.client.IndicesClient.create\n",
        "adi_index = \"adi-corpus\"\n",
        "es.indices.delete(index=adi_index, ignore=[400, 404])\n",
        "es.indices.create(adi_index)\n",
        "\n",
        "adi_index_sent = \"bert-sentence-adi-corpus\"\n",
        "es.indices.delete(index=adi_index_sent, ignore=[400, 404])\n",
        "es.indices.create(adi_index_sent, body=settings_nest)"
      ],
      "execution_count": null,
      "outputs": [
        {
          "output_type": "execute_result",
          "data": {
            "text/plain": [
              "{'acknowledged': True,\n",
              " 'index': 'bert-sentence-adi-corpus',\n",
              " 'shards_acknowledged': True}"
            ]
          },
          "metadata": {
            "tags": []
          },
          "execution_count": 6
        }
      ]
    },
    {
      "cell_type": "code",
      "metadata": {
        "id": "ZaxpCqSDShgg",
        "colab": {
          "base_uri": "https://localhost:8080/"
        },
        "outputId": "ccbf7568-3f27-402c-c04f-f8a8fcd3e6cf"
      },
      "source": [
        "for ID, doc_data in adi_txt_data.items():\n",
        "    # index for match query\n",
        "    es.index(index=adi_index, id=ID, body=doc_data)\n",
        "    # index for BERT search\n",
        "    es.index(\n",
        "      index=adi_index_sent, \n",
        "      id=ID, \n",
        "      body={\n",
        "          'text_vector': [{\"vector\": model.encode(text)} for text in adi_txt_data[ID]['sentences']],\n",
        "          'text': adi_txt_data[ID]['text'],\n",
        "          'title_vector': model.encode(adi_txt_data[ID]['title']),\n",
        "          'title': adi_txt_data[ID]['title'],\n",
        "          }\n",
        "    )\n",
        "\n",
        "#print new index list\n",
        "create_response = es.cat.indices()\n",
        "print(create_response)"
      ],
      "execution_count": null,
      "outputs": [
        {
          "output_type": "stream",
          "text": [
            "yellow open adi-corpus               EsnE2mIfS0muc2B9317jQg 1 1  78 0 206.9kb 206.9kb\n",
            "yellow open bert-sentence-adi-corpus gTr0KthuTn6vZI8T1ar-zQ 1 1 281 0   4.2mb   4.2mb\n",
            "\n"
          ],
          "name": "stdout"
        }
      ]
    },
    {
      "cell_type": "markdown",
      "metadata": {
        "id": "RdZwKv7_SZFT"
      },
      "source": [
        "### CACM Corpus"
      ]
    },
    {
      "cell_type": "markdown",
      "metadata": {
        "id": "QB0t-8e0bHEb"
      },
      "source": [
        "You can get the corpus from [this link](http://ir.dcs.gla.ac.uk/resources/test_collections/cacm/).  <br>\n",
        "For detailed information about the format of the files, see the PragmaLingu [ Benchmarks](https://pragmalingu.de/docs/benchmarks/overview)"
      ]
    },
    {
      "cell_type": "markdown",
      "metadata": {
        "id": "Vr9n3mvAbGwx"
      },
      "source": [
        "**Parsing**"
      ]
    },
    {
      "cell_type": "code",
      "metadata": {
        "id": "wSONOisRSjTi",
        "colab": {
          "base_uri": "https://localhost:8080/"
        },
        "outputId": "1b994035-d8dc-488c-c333-a475c88752d3"
      },
      "source": [
        "# download and unzip data\n",
        "!wget http://ir.dcs.gla.ac.uk/resources/test_collections/cacm/cacm.tar.gz\n",
        "!tar -xf cacm.tar.gz\n",
        "\n",
        "# set paths to the dowloaded data as variablesDownload and unzip data.\n",
        "\n",
        "PATH_TO_CACM_TXT = '/content/cacm.all'\n",
        "PATH_TO_CACM_QRY = '/content/query.text'\n",
        "PATH_TO_CACM_REL = '/content/qrels.text'\n",
        "PATH_TO_CACM_COMMON_WORDS = '/content/common_words'\n",
        "\n",
        "from collections import defaultdict\n",
        "import re\n",
        "import json\n",
        "from io import StringIO\n",
        "import numpy as np\n",
        "\n",
        "# get the text and query files\n",
        "\n",
        "ID_marker = re.compile('^\\.I',re.MULTILINE)\n",
        "\n",
        "def get_data(PATH_TO_FILE, marker):\n",
        "  \"\"\"\n",
        "  Reads file and spilts text into entries at the ID marker '.I'.\n",
        "  First entry is empty, so it's removed.\n",
        "  'marker' contains the regex at which we want to split\n",
        "  \"\"\"\n",
        "  with open (PATH_TO_FILE,'r') as f:\n",
        "    text = f.read()\n",
        "    lines = re.split(marker,text)\n",
        "    lines.pop(0)\n",
        "  return lines\n",
        "\n",
        "cacm_txt_list = get_data(PATH_TO_CACM_TXT, ID_marker)\n",
        "cacm_qry_list = get_data(PATH_TO_CACM_QRY, ID_marker)\n",
        "\n",
        "# process text file\n",
        "\n",
        "cacm_chunk_title = re.compile('\\.[T]\\n')\n",
        "cacm_chunk_txt = re.compile('\\n\\.W\\n') # not enough\n",
        "cacm_chunk_txt_pub = re.compile('\\.[W,B]')\n",
        "cacm_chunk_publication = re.compile('\\.[B]\\n')\n",
        "cacm_chunk_author = re.compile('^\\.[A]\\n', re.MULTILINE)\n",
        "cacm_chunk_author_add_cross = re.compile('^\\.[A,N,X]\\n',re.MULTILINE) # not enough\n",
        "cacm_chunk_add_cross = re.compile('\\.[B,N,X]\\n')\n",
        "\n",
        "\n",
        "cacm_txt_data = defaultdict(dict)\n",
        "\n",
        "for line in cacm_txt_list:\n",
        "  entries= re.split(cacm_chunk_title,line)\n",
        "  id = entries[0].strip() #save id\n",
        "  no_id = entries[1]\n",
        "\n",
        "  if len(re.split(cacm_chunk_txt, no_id)) == 2: # is there text\n",
        "    no_id_entries = re.split(cacm_chunk_txt_pub, no_id,1)\n",
        "    cacm_txt_data[id]['title'] = no_id_entries[0].strip() # save title\n",
        "    cacm_txt_data[id]['text'] = no_id_entries[1].strip() # save text\n",
        "    no_title_txt = no_id_entries[1]\n",
        "\n",
        "    if len(re.split(cacm_chunk_author, no_title_txt)) == 2: # is there a auhtor\n",
        "      no_title_entries = re.split(cacm_chunk_author_add_cross, no_title_txt)\n",
        "      cacm_txt_data[id]['publication_date'] = no_title_entries[0].strip() # save publication date\n",
        "      cacm_txt_data[id]['author'] = no_title_entries[1].strip() # save athor\n",
        "      cacm_txt_data[id]['add_date'] = no_title_entries[2].strip() # save add date\n",
        "      cacm_txt_data[id]['cross-references'] = no_title_entries[3].strip() # save cross-references\n",
        "\n",
        "    else:\n",
        "      no_title_entries = re.split(cacm_chunk_publication, no_title_txt)\n",
        "      cacm_txt_data[id]['publication_date'] = no_title_entries[0].strip() # save publication date\n",
        "      cacm_txt_data[id]['add_date'] = no_title_entries[1].strip() # save add date\n",
        "      cacm_txt_data[id]['cross-references'] = no_title_entries[1].strip() # save cross-references\n",
        "\n",
        "  else:\n",
        "    no_id_entries = re.split(cacm_chunk_publication, no_id,1)\n",
        "    cacm_txt_data[id]['title'] = no_id_entries[0].strip() # save title\n",
        "    no_title = no_id_entries[1]\n",
        "\n",
        "    if len(re.split(cacm_chunk_author, no_title,1)) == 2: # is there a auhtor\n",
        "      no_title_entries = re.split(cacm_chunk_author_add_cross, no_title)\n",
        "      cacm_txt_data[id]['publication_date'] = no_title_entries[0].strip() # save publication date\n",
        "      cacm_txt_data[id]['author'] = no_title_entries[1].strip() # save athor\n",
        "      cacm_txt_data[id]['add_date'] = no_title_entries[2].strip() # save add date\n",
        "      cacm_txt_data[id]['cross-references'] = no_title_entries[3].strip() # save cross-references\n",
        "\n",
        "    else:\n",
        "      no_title_entries = re.split(cacm_chunk_add_cross, no_title)\n",
        "      cacm_txt_data[id]['publication_date'] = no_title_entries[0].strip() # save publication date\n",
        "      cacm_txt_data[id]['add_date'] = no_title_entries[1].strip() # save add date\n",
        "      cacm_txt_data[id]['cross-references'] = no_title_entries[2].strip() # save cross-references\n",
        "\n",
        "# process the query data\n",
        "\n",
        "qry_chunk_start = re.compile('^\\.W\\n',re.MULTILINE)\n",
        "cacm_qry_data = defaultdict(dict)\n",
        "\n",
        "for n in range(0,len(cacm_qry_list)-1):\n",
        "  line = cacm_qry_list[n+1]\n",
        "  _ , question = re.split(qry_chunk_start,line)\n",
        "  cacm_qry_data[n+1]['question'] = question\n",
        "\n",
        "# process the relevance assesment data\n",
        "cacm_rel = defaultdict(list)\n",
        "\n",
        "with open (PATH_TO_CACM_REL,'r') as f:\n",
        "  for line in f:\n",
        "    line = re.split(' ',line)\n",
        "    cacm_rel[int(line[0])].append(line[1])\n",
        "\n",
        "\n",
        "# transform text to sentences for BERT text search\n",
        "\n",
        "import nltk\n",
        "from nltk import tokenize\n",
        "from nltk.tokenize import sent_tokenize\n",
        "nltk.download('punkt')\n",
        "\n",
        "def text_to_sentences(string):\n",
        "  sentences = tokenize.sent_tokenize(string)\n",
        "  return sentences\n",
        "\n",
        "for ID, doc in cacm_txt_data.items():\n",
        "  if 'text' in cacm_txt_data[str(ID)]:\n",
        "    text = cacm_txt_data[ID]['text']\n",
        "    cacm_txt_data[ID]['sentences'] = text_to_sentences(text)"
      ],
      "execution_count": null,
      "outputs": [
        {
          "output_type": "stream",
          "text": [
            "--2020-12-15 11:01:05--  https://nextcloud.samyateia.de/index.php/s/s4WQLTc7DLYsAaZ/download\n",
            "Resolving nextcloud.samyateia.de (nextcloud.samyateia.de)... 194.55.14.32\n",
            "Connecting to nextcloud.samyateia.de (nextcloud.samyateia.de)|194.55.14.32|:443... connected.\n",
            "HTTP request sent, awaiting response... 200 OK\n",
            "Length: 2221056 (2.1M) [application/x-gzip]\n",
            "Saving to: ‘download’\n",
            "\n",
            "download            100%[===================>]   2.12M  3.33MB/s    in 0.6s    \n",
            "\n",
            "2020-12-15 11:01:06 (3.33 MB/s) - ‘download’ saved [2221056/2221056]\n",
            "\n",
            "[nltk_data] Downloading package punkt to /root/nltk_data...\n",
            "[nltk_data]   Package punkt is already up-to-date!\n"
          ],
          "name": "stdout"
        }
      ]
    },
    {
      "cell_type": "markdown",
      "metadata": {
        "id": "IQzMkOPobHtX"
      },
      "source": [
        "**Indexing**"
      ]
    },
    {
      "cell_type": "code",
      "metadata": {
        "id": "j8UEeudxSjZe",
        "colab": {
          "base_uri": "https://localhost:8080/"
        },
        "outputId": "c4178dbb-3303-40de-90bf-8d29405853ea"
      },
      "source": [
        "# Elasticsearch settings, without using Opendistro\n",
        "# Every index has title, text and vectors to fill\n",
        "settings_nest = {\n",
        "  \"mappings\": {\n",
        "    \"properties\": {\n",
        "      \"text_vector\": {\n",
        "        \"type\": \"nested\",\n",
        "        \"properties\": {\n",
        "          \"vector\": {\n",
        "            \"type\": \"dense_vector\",\n",
        "            \"dims\": 768 \n",
        "          }\n",
        "        }\n",
        "      },\n",
        "     \"text\": {\n",
        "            \"type\" : \"text\"\n",
        "          },\n",
        "          \"title_vector\": {\n",
        "           \"type\": \"dense_vector\",\n",
        "           \"dims\": 768\n",
        "            },\n",
        "      \"title\": {\n",
        "              \"type\": \"text\"\n",
        "              },\n",
        "    }\n",
        "  }\n",
        "}\n",
        "\n",
        "#create index, see https://elasticsearch-py.readthedocs.io/en/master/api.html#elasticsearch.client.IndicesClient.create\n",
        "cacm_index= \"cacm-corpus\"\n",
        "es.indices.delete(index=cacm_index, ignore=[400, 404])\n",
        "es.indices.create(cacm_index)\n",
        "\n",
        "cacm_index_sent = \"bert-sentence-cacm-corpus\"\n",
        "es.indices.delete(index=cacm_index_sent, ignore=[400, 404])\n",
        "es.indices.create(cacm_index_sent, body=settings_nest)"
      ],
      "execution_count": null,
      "outputs": [
        {
          "output_type": "execute_result",
          "data": {
            "text/plain": [
              "{'acknowledged': True,\n",
              " 'index': 'bert-sentence-cacm-corpus',\n",
              " 'shards_acknowledged': True}"
            ]
          },
          "metadata": {
            "tags": []
          },
          "execution_count": 15
        }
      ]
    },
    {
      "cell_type": "code",
      "metadata": {
        "id": "FurCBp1tSjRD"
      },
      "source": [
        "for ID, doc_data in cacm_txt_data.items():\n",
        "    # index for match query\n",
        "    es.index(index=cacm_index, id=ID, body=doc_data)\n",
        "    # index for BERT search, not every entry has a text\n",
        "    if 'text' not in cacm_txt_data[str(ID)]:\n",
        "      es.index(\n",
        "        index=cacm_index_sent, \n",
        "        id=ID, \n",
        "        body={\n",
        "            'text_vector': [{\"vector\": model.encode(char)} for char in 'No'],\n",
        "            'text': '',\n",
        "            'title_vector': model.encode(cacm_txt_data[ID]['title']),\n",
        "            'title': cacm_txt_data[ID]['title'],\n",
        "            }\n",
        "             )\n",
        "    else:\n",
        "      es.index(\n",
        "      index=cacm_index_sent, \n",
        "      id=ID, \n",
        "      body={\n",
        "          'text_vector': [{\"vector\": model.encode(text)} for text in cacm_txt_data[ID]['sentences']],\n",
        "          'text': cacm_txt_data[ID]['text'],\n",
        "          'title_vector': model.encode(cacm_txt_data[ID]['title']),\n",
        "          'title': cacm_txt_data[ID]['title'],\n",
        "          }\n",
        "    )\n",
        "    \n",
        "\n",
        "#print new index list\n",
        "create_response = es.cat.indices()\n",
        "print(create_response)"
      ],
      "execution_count": null,
      "outputs": []
    },
    {
      "cell_type": "markdown",
      "metadata": {
        "id": "E20KaO1jSZTc"
      },
      "source": [
        "### CISI Corpus"
      ]
    },
    {
      "cell_type": "markdown",
      "metadata": {
        "id": "1_BbnCfzaQt5"
      },
      "source": [
        "You can get the corpus from [this link](http://ir.dcs.gla.ac.uk/resources/test_collections/cisi/).  <br>\n",
        "For detailed information about the parsing of this corpus look at [ this Notebook](https://colab.research.google.com/github/pragmalingu/private_experiments/blob/cisi_corpus/CISICorpus.ipynb) or for parsing in generel read [this guide](https://)."
      ]
    },
    {
      "cell_type": "markdown",
      "metadata": {
        "id": "BV4P5-4JaUgJ"
      },
      "source": [
        "**Parsing**"
      ]
    },
    {
      "cell_type": "code",
      "metadata": {
        "id": "T64vUBjiSifp",
        "colab": {
          "base_uri": "https://localhost:8080/"
        },
        "outputId": "1da14bba-de93-4b72-dec9-ca58a88efacf"
      },
      "source": [
        "# download and unzip data\n",
        "!wget http://ir.dcs.gla.ac.uk/resources/test_collections/cisi/cisi.tar.gz\n",
        "!tar -xf cisi.tar.gz\n",
        "\n",
        "# set paths to the dowloaded data as variablesDownload and unzip data.\n",
        "PATH_TO_CISI_TXT = '/content/CISI.ALL'\n",
        "PATH_TO_CISI_QRY = '/content/CISI.QRY'\n",
        "PATH_TO_CISI_REL = '/content/CISI.REL'\n",
        "\n",
        "from collections import defaultdict\n",
        "import re\n",
        "import json\n",
        "from io import StringIO\n",
        "import numpy as np\n",
        "\n",
        "# get the text and query files\n",
        "\n",
        "ID_marker = re.compile('^\\.I',re.MULTILINE)\n",
        "\n",
        "def get_data(PATH_TO_FILE, marker):\n",
        "  \"\"\"\n",
        "  Reads file and spilts text into entries at the ID marker '.I'.\n",
        "  First entry is empty, so it's removed.\n",
        "  'marker' contains the regex at which we want to split\n",
        "  \"\"\"\n",
        "  with open (PATH_TO_FILE,'r') as f:\n",
        "    text = f.read()\n",
        "    lines = re.split(marker,text)\n",
        "    lines.pop(0)\n",
        "  return lines\n",
        "\n",
        "cisi_txt_list = get_data(PATH_TO_CISI_TXT, ID_marker)\n",
        "cisi_qry_list = get_data(PATH_TO_CISI_QRY, ID_marker)\n",
        "\n",
        "# process text file\n",
        "\n",
        "cisi_title_start = re.compile('[\\n]\\.T')\n",
        "cisi_author_start = re.compile('[\\n]\\.A')\n",
        "cisi_date_start = re.compile('[\\n]\\.B')\n",
        "cisi_text_start = re.compile('[\\n]\\.W')\n",
        "cisi_cross_start = re.compile('[\\n]\\.X')\n",
        "\n",
        "cisi_txt_data = defaultdict(dict)\n",
        "\n",
        "for line in cisi_txt_list:\n",
        "  entries = re.split(cisi_title_start,line,1)\n",
        "  id = entries[0].strip()#save the id\n",
        "  no_id = entries[1] \n",
        "  \n",
        "  if len(re.split(cisi_author_start, no_id)) >= 2: # is there just one author?\n",
        "    no_id_entries = re.split(cisi_author_start, no_id,1)\n",
        "    cisi_txt_data[id]['title'] = no_id_entries[0].strip() # save title\n",
        "    no_title = no_id_entries[1]\n",
        "\n",
        "    if len(re.split(cisi_date_start, no_title)) > 1: # is there a publication date?\n",
        "      no_title_entries = re.split(cisi_date_start, no_title)\n",
        "      cisi_txt_data[id]['author'] = no_title_entries[0].strip() # save athour\n",
        "      no_author = no_title_entries[1]\n",
        "      no_author_entries = re.split(cisi_text_start, no_author)\n",
        "      cisi_txt_data[id]['publication_date'] = no_author_entries[0].strip() # save publication date\n",
        "      no_author_date = no_author_entries[1]\n",
        "    else:\n",
        "      no_title_entries = re.split(cisi_text_start, no_title)\n",
        "      cisi_txt_data[id]['author'] = no_title_entries[0].strip() # save athour\n",
        "      no_author_date = no_title_entries[1]\n",
        "\n",
        "  else:\n",
        "    no_id_entries = re.split(cisi_author_start, no_id)\n",
        "    cisi_txt_data[id]['title'] = no_id_entries[0].strip() # save title\n",
        "    cisi_txt_data[id]['author'] = no_id_entries[1].strip() # save first author\n",
        "    no_title_entries = re.split(cisi_text_start, no_title)\n",
        "    cisi_txt_data[id]['author'] += ','+no_title_entries[0].strip() # save second athour\n",
        "    no_author_date = no_title_entries[1]\n",
        "\n",
        "  last_entries = re.split(cisi_cross_start, no_author_date)\n",
        "  cisi_txt_data[id]['text'] = last_entries[0].strip() # save text\n",
        "  cisi_txt_data[id]['cross-refrences'] = last_entries[1].strip() # save cross refrences\n",
        "\n",
        "# process query file  \n",
        "\n",
        "qry_chunk_start = re.compile('[\\n]\\.W')\n",
        "\n",
        "cisi_qry_data = defaultdict(dict)\n",
        "\n",
        "for line in cisi_qry_list:\n",
        "  id , question = re.split(qry_chunk_start,line)\n",
        "  id = re.findall('\\d{1,3}',id)[0]\n",
        "  cisi_qry_data[id]['question'] = question\n",
        "\n",
        "# process the relevance assesment data\n",
        "cisi_rel = defaultdict(list)\n",
        "\n",
        "with open (PATH_TO_CISI_REL,'r') as f:\n",
        "  for line in f:\n",
        "    line = line.replace(' ','\\t')\n",
        "    line = re.split('\\t',line)\n",
        "    line = list(filter(None, line))\n",
        "    cisi_rel[str(line[0])].append(str(line[1]))\n",
        "\n",
        "# transform text to sentences for BERT text search\n",
        "\n",
        "import nltk\n",
        "from nltk import tokenize\n",
        "from nltk.tokenize import sent_tokenize\n",
        "nltk.download('punkt')\n",
        "\n",
        "def text_to_sentences(string):\n",
        "  sentences = tokenize.sent_tokenize(string)\n",
        "  return sentences\n",
        "\n",
        "for ID, doc in cisi_txt_data.items():\n",
        "  text = cisi_txt_data[ID]['text']\n",
        "  cisi_txt_data[ID]['sentences'] = text_to_sentences(text)"
      ],
      "execution_count": null,
      "outputs": [
        {
          "output_type": "stream",
          "text": [
            "--2020-12-15 11:08:13--  https://nextcloud.samyateia.de/index.php/s/ibPgbdqsstrWEAa/download\n",
            "Resolving nextcloud.samyateia.de (nextcloud.samyateia.de)... 194.55.14.32\n",
            "Connecting to nextcloud.samyateia.de (nextcloud.samyateia.de)|194.55.14.32|:443... connected.\n",
            "HTTP request sent, awaiting response... 200 OK\n",
            "Length: 2385920 (2.3M) [application/x-gzip]\n",
            "Saving to: ‘download’\n",
            "\n",
            "download            100%[===================>]   2.28M  3.55MB/s    in 0.6s    \n",
            "\n",
            "2020-12-15 11:08:15 (3.55 MB/s) - ‘download’ saved [2385920/2385920]\n",
            "\n",
            "[nltk_data] Downloading package punkt to /root/nltk_data...\n",
            "[nltk_data]   Package punkt is already up-to-date!\n"
          ],
          "name": "stdout"
        }
      ]
    },
    {
      "cell_type": "markdown",
      "metadata": {
        "id": "MliI7zHGawSY"
      },
      "source": [
        "**Indexing**"
      ]
    },
    {
      "cell_type": "code",
      "metadata": {
        "id": "CXoFBXYUSikA",
        "colab": {
          "base_uri": "https://localhost:8080/"
        },
        "outputId": "37e21c34-f37a-4b64-ab74-0408770bdaea"
      },
      "source": [
        "# Elasticsearch settings, without using Opendistro\n",
        "# Every index has title, text and vectors to fill\n",
        "settings_nest = {\n",
        "  \"mappings\": {\n",
        "    \"properties\": {\n",
        "      \"text_vector\": {\n",
        "        \"type\": \"nested\",\n",
        "        \"properties\": {\n",
        "          \"vector\": {\n",
        "            \"type\": \"dense_vector\",\n",
        "            \"dims\": 768 \n",
        "          }\n",
        "        }\n",
        "      },\n",
        "     \"text\": {\n",
        "            \"type\" : \"text\"\n",
        "          },\n",
        "          \"title_vector\": {\n",
        "           \"type\": \"dense_vector\",\n",
        "           \"dims\": 768\n",
        "            },\n",
        "      \"title\": {\n",
        "              \"type\": \"text\"\n",
        "              },\n",
        "    }\n",
        "  }\n",
        "}\n",
        "\n",
        "\n",
        "#create index, see https://elasticsearch-py.readthedocs.io/en/master/api.html#elasticsearch.client.IndicesClient.create\n",
        "cisi_index = \"cisi-corpus\"\n",
        "es.indices.delete(index=cisi_index, ignore=[400, 404])\n",
        "es.indices.create(cisi_index)\n",
        "\n",
        "cisi_index_sent = \"bert-sentence-cisi-corpus\"\n",
        "es.indices.delete(index=cisi_index_sent, ignore=[400, 404])\n",
        "es.indices.create(cisi_index_sent, body=settings_nest)"
      ],
      "execution_count": null,
      "outputs": [
        {
          "output_type": "execute_result",
          "data": {
            "text/plain": [
              "{'acknowledged': True,\n",
              " 'index': 'bert-sentence-cisi-corpus',\n",
              " 'shards_acknowledged': True}"
            ]
          },
          "metadata": {
            "tags": []
          },
          "execution_count": 18
        }
      ]
    },
    {
      "cell_type": "code",
      "metadata": {
        "id": "FF6S6Q64SioH",
        "colab": {
          "base_uri": "https://localhost:8080/"
        },
        "outputId": "82542355-7495-4668-e377-8284dbf650e7"
      },
      "source": [
        "for ID, doc_data in cisi_txt_data.items():\n",
        "    # Index for match query\n",
        "    es.index(index=cisi_index, id=ID, body=doc_data)\n",
        "      # Index for BERT search\n",
        "    es.index(\n",
        "      index=cisi_index_sent, \n",
        "      id=ID, \n",
        "      body={\n",
        "          'text_vector': [{\"vector\": model.encode(text)} for text in cisi_txt_data[ID]['sentences']],\n",
        "          'text': cisi_txt_data[ID]['text'],\n",
        "          'title_vector': model.encode(cisi_txt_data[ID]['title']),\n",
        "          'title': cisi_txt_data[ID]['title'],\n",
        "          }\n",
        "    )\n",
        "\n",
        "#print new index list\n",
        "create_response = es.cat.indices()\n",
        "print(create_response)"
      ],
      "execution_count": null,
      "outputs": [
        {
          "output_type": "stream",
          "text": [
            "yellow open bert-sentence-cacm-corpus HD0w4eWbT9mtQYTW1w-BIg 1 1 1111 0 187.3mb 187.3mb\n",
            "yellow open cacm-corpus               c-bAxQL-SjuzWBbX--iQiQ 1 1  320 0   1.8mb   1.8mb\n",
            "yellow open cisi-corpus               mAqlDRZySk-fsYEoW_bk0A 1 1  243 0   2.6mb   2.6mb\n",
            "yellow open adi-corpus                EsnE2mIfS0muc2B9317jQg 1 1   82 0 220.6kb 220.6kb\n",
            "yellow open bert-sentence-adi-corpus  gTr0KthuTn6vZI8T1ar-zQ 1 1  285 0   4.3mb   4.3mb\n",
            "yellow open bert-sentence-cisi-corpus y1gDtVm9RCGRcgtlRRyYlA 1 1 1411 0  91.6mb  91.6mb\n",
            "\n"
          ],
          "name": "stdout"
        }
      ]
    },
    {
      "cell_type": "markdown",
      "metadata": {
        "id": "2uBvUwRPpxT_"
      },
      "source": [
        "### Cranfield Corpus\n"
      ]
    },
    {
      "cell_type": "markdown",
      "metadata": {
        "id": "bcJkkOXMTL79"
      },
      "source": [
        "You can get the corpus from [this link](http://ir.dcs.gla.ac.uk/resources/test_collections/cran/).  <br>\n",
        "For detailed information about the parsing of this corpus look at [ this Notebook](https://colab.research.google.com/github/pragmalingu/private_experiments/blob/cranfield_corpus/CranfieldCorpus.ipynb) or for parsing in generel read [this guide](https://)."
      ]
    },
    {
      "cell_type": "markdown",
      "metadata": {
        "id": "QRQUEbD_TRv-"
      },
      "source": [
        "**Parsing**"
      ]
    },
    {
      "cell_type": "code",
      "metadata": {
        "id": "kmlwZmVMTRCY",
        "colab": {
          "base_uri": "https://localhost:8080/"
        },
        "outputId": "f6412a9b-06ee-4ff0-bd15-af6560f65b7b"
      },
      "source": [
        "# download and unzip data\n",
        "!wget http://ir.dcs.gla.ac.uk/resources/test_collections/cran/cran.tar.gz\n",
        "!tar -xf cran.tar.gz\n",
        "\n",
        "# set paths to the dowloaded data as variables\n",
        "PATH_TO_CRAN_TXT = '/content/cran.all.1400'\n",
        "PATH_TO_CRAN_QRY = '/content/cran.qry'\n",
        "PATH_TO_CRAN_REL = '/content/cranqrel'\n",
        "\n",
        "from collections import defaultdict\n",
        "import re\n",
        "import json\n",
        "from io import StringIO\n",
        "import numpy as np\n",
        "\n",
        "\n",
        "# get the text entries from the text and query files\n",
        "\n",
        "ID_marker = re.compile('\\.I')\n",
        "\n",
        "def get_data(PATH_TO_FILE, marker):\n",
        "  \"\"\"\n",
        "  Reads file and spilts text into entries at the ID marker '.I'.\n",
        "  First entry is empty, so it's removed.\n",
        "  'marker' contains the regex at which we want to split\n",
        "  \"\"\"\n",
        "  with open (PATH_TO_FILE,'r') as f:\n",
        "    text = f.read().replace('\\n',\" \")\n",
        "    lines = re.split(marker,text)\n",
        "    lines.pop(0)\n",
        "  return lines\n",
        "\n",
        "cran_txt_list = get_data(PATH_TO_CRAN_TXT, ID_marker)\n",
        "cran_qry_list = get_data(PATH_TO_CRAN_QRY, ID_marker)\n",
        "\n",
        "# process text file\n",
        "\n",
        "cran_chunk_start = re.compile('\\.[A,B,T,W]')\n",
        "cran_txt_data = defaultdict(dict)\n",
        "\n",
        "for line in cran_txt_list:\n",
        "  entries= re.split(cran_chunk_start,line)\n",
        "  id = entries[0].strip()\n",
        "  title = entries[1]\n",
        "  author = entries[2]\n",
        "  publication_date = entries[3]\n",
        "  text = entries[4:]\n",
        "  cran_txt_data[id]['title'] = title\n",
        "  cran_txt_data[id]['author'] = author\n",
        "  cran_txt_data[id]['publication_date'] = publication_date\n",
        "  cran_txt_data[id]['text'] = ''.join(text)\n",
        "\n",
        "# process query file\n",
        "\n",
        "qry_chunk_start = re.compile('\\.W')\n",
        "cran_qry_data = defaultdict(dict)\n",
        "\n",
        "for n in range(0,len(cran_qry_list)-1):\n",
        "  line = cran_qry_list[n+1]\n",
        "  _ , question = re.split(qry_chunk_start,line)\n",
        "  cran_qry_data[n+1]['question'] = question\n",
        "\n",
        "# process relevance assesments without rating\n",
        "cran_rel = defaultdict(list)\n",
        "\n",
        "with open (PATH_TO_CRAN_REL,'r') as f:\n",
        "  for line in f:\n",
        "    line = re.split(' ',line)\n",
        "    cran_rel[int(line[0])].append(line[1])\n",
        "\n",
        "# transform text to sentences for BERT text search\n",
        "import nltk\n",
        "from nltk import tokenize\n",
        "from nltk.tokenize import sent_tokenize\n",
        "nltk.download('punkt')\n",
        "\n",
        "def text_to_sentences(string):\n",
        "  sentences = tokenize.sent_tokenize(string)\n",
        "  return sentences\n",
        "\n",
        "for ID, doc in cran_txt_data.items():\n",
        "  if 'text' in cran_txt_data[str(ID)]:\n",
        "    text = cran_txt_data[ID]['text']\n",
        "    cran_txt_data[ID]['sentences'] = text_to_sentences(text)"
      ],
      "execution_count": null,
      "outputs": [
        {
          "output_type": "stream",
          "text": [
            "--2020-12-15 11:10:49--  https://nextcloud.samyateia.de/index.php/s/ePSxPpLELCWteeL/download\n",
            "Resolving nextcloud.samyateia.de (nextcloud.samyateia.de)... 194.55.14.32\n",
            "Connecting to nextcloud.samyateia.de (nextcloud.samyateia.de)|194.55.14.32|:443... connected.\n",
            "HTTP request sent, awaiting response... 200 OK\n",
            "Length: 1698816 (1.6M) [application/x-gzip]\n",
            "Saving to: ‘download’\n",
            "\n",
            "download            100%[===================>]   1.62M  2.95MB/s    in 0.5s    \n",
            "\n",
            "2020-12-15 11:10:50 (2.95 MB/s) - ‘download’ saved [1698816/1698816]\n",
            "\n",
            "[nltk_data] Downloading package punkt to /root/nltk_data...\n",
            "[nltk_data]   Package punkt is already up-to-date!\n"
          ],
          "name": "stdout"
        }
      ]
    },
    {
      "cell_type": "markdown",
      "metadata": {
        "id": "WlYIgjIkTTbT"
      },
      "source": [
        "**Indexing**"
      ]
    },
    {
      "cell_type": "code",
      "metadata": {
        "id": "K2X6d9uySfeq",
        "colab": {
          "base_uri": "https://localhost:8080/"
        },
        "outputId": "38347d90-af6b-4fe5-87cb-e18f6db5b771"
      },
      "source": [
        "# Elasticsearch settings, without using Opendistro\n",
        "# Every index has title, text and vectors to fill\n",
        "settings_nest = {\n",
        "  \"mappings\": {\n",
        "    \"properties\": {\n",
        "      \"text_vector\": {\n",
        "        \"type\": \"nested\",\n",
        "        \"properties\": {\n",
        "          \"vector\": {\n",
        "            \"type\": \"dense_vector\",\n",
        "            \"dims\": 768 \n",
        "          }\n",
        "        }\n",
        "      },\n",
        "     \"text\": {\n",
        "            \"type\" : \"text\"\n",
        "          },\n",
        "    \"title_vector\": {\n",
        "           \"type\": \"dense_vector\",\n",
        "           \"dims\": 768\n",
        "            },\n",
        "      \"title\": {\n",
        "              \"type\": \"text\"\n",
        "              },\n",
        "    }\n",
        "  }\n",
        "}\n",
        "\n",
        "#create index, see https://elasticsearch-py.readthedocs.io/en/master/api.html#elasticsearch.client.IndicesClient.create\n",
        "\n",
        "\n",
        "\n",
        "#create index, see https://elasticsearch-py.readthedocs.io/en/master/api.html#elasticsearch.client.IndicesClient.create\n",
        "\n",
        "cran_index = \"cranfield-corpus\"\n",
        "es.indices.delete(index=cran_index, ignore=[400, 404])\n",
        "es.indices.create(cran_index)\n",
        "\n",
        "cran_index_sent = \"bert-sentence-cranfield-corpus\"\n",
        "es.indices.delete(index=cran_index_sent, ignore=[400, 404])\n",
        "es.indices.create(cran_index_sent, body=settings_nest)"
      ],
      "execution_count": null,
      "outputs": [
        {
          "output_type": "execute_result",
          "data": {
            "text/plain": [
              "{'acknowledged': True,\n",
              " 'index': 'bert-sentence-cranfield-corpus',\n",
              " 'shards_acknowledged': True}"
            ]
          },
          "metadata": {
            "tags": []
          },
          "execution_count": 21
        }
      ]
    },
    {
      "cell_type": "code",
      "metadata": {
        "id": "76ENSgO8Rj3g",
        "colab": {
          "base_uri": "https://localhost:8080/"
        },
        "outputId": "da4131f8-4235-453d-9500-355871fb1330"
      },
      "source": [
        "#index documents, see https://elasticsearch-py.readthedocs.io/en/master/#example-usage\n",
        "for ID, doc_data in cran_txt_data.items():\n",
        "      # Index for match query\n",
        "      es.index(index=cran_index, id=ID, body=doc_data)\n",
        "      # Index for BERT search\n",
        "      es.index(\n",
        "      index=cran_index_sent, \n",
        "      id=ID, \n",
        "      body={\n",
        "          'text_vector': [{\"vector\": model.encode(text)} for text in cran_txt_data[ID]['sentences']],\n",
        "          'text': cran_txt_data[ID]['text'],\n",
        "          'title_vector': model.encode(cran_txt_data[ID]['title']),\n",
        "          'title': cran_txt_data[ID]['title']\n",
        "          }\n",
        "    )\n",
        "      \n",
        "\n",
        "#print new index list\n",
        "create_response = es.cat.indices()\n",
        "print(create_response)"
      ],
      "execution_count": null,
      "outputs": [
        {
          "output_type": "stream",
          "text": [
            "yellow open bert-sentence-cacm-corpus      HD0w4eWbT9mtQYTW1w-BIg 1 1 15539 0 224.6mb 224.6mb\n",
            "yellow open cranfield-corpus               y7u7dN4nSBCXQCWdA_w3Xg 1 1   174 0   2.1mb   2.1mb\n",
            "yellow open bert-sentence-cranfield-corpus xt7cronIS1Ko1GUDcF9QRA 1 1  1521 0 142.1mb 142.1mb\n",
            "yellow open cacm-corpus                    c-bAxQL-SjuzWBbX--iQiQ 1 1  3204 0   6.7mb   6.7mb\n",
            "yellow open cisi-corpus                    mAqlDRZySk-fsYEoW_bk0A 1 1   243 0   2.7mb   2.7mb\n",
            "yellow open adi-corpus                     EsnE2mIfS0muc2B9317jQg 1 1    82 0 220.6kb 220.6kb\n",
            "yellow open bert-sentence-adi-corpus       gTr0KthuTn6vZI8T1ar-zQ 1 1   285 0   4.3mb   4.3mb\n",
            "yellow open bert-sentence-cisi-corpus      y1gDtVm9RCGRcgtlRRyYlA 1 1  1411 0  97.5mb  97.5mb\n",
            "\n"
          ],
          "name": "stdout"
        }
      ]
    },
    {
      "cell_type": "markdown",
      "metadata": {
        "id": "Hth0myYcBlAk"
      },
      "source": [
        "### LISA Corpus"
      ]
    },
    {
      "cell_type": "markdown",
      "metadata": {
        "id": "f3e5px45BlAo"
      },
      "source": [
        "You can get the corpus from [this link](http://ir.dcs.gla.ac.uk/resources/test_collections/lisa/).  <br>\n",
        "For detailed information about the format of the files, see the PragmaLingu [ Benchmarks](https://pragmalingu.de/docs/benchmarks/overview)"
      ]
    },
    {
      "cell_type": "markdown",
      "metadata": {
        "id": "8D3zYeCgBlAq"
      },
      "source": [
        "**Parsing**"
      ]
    },
    {
      "cell_type": "code",
      "metadata": {
        "id": "Eo4o1z1vBlAs",
        "colab": {
          "base_uri": "https://localhost:8080/"
        },
        "outputId": "4811c667-cbbd-4ea5-fcf3-22ae12d4c4a4"
      },
      "source": [
        "# download and unzip data\n",
        "!wget http://ir.dcs.gla.ac.uk/resources/test_collections/lisa/lisa.tar.gz\n",
        "!tar -xf lisa.tar.gz\n",
        "\n",
        "\n",
        "# set paths to the dowloaded data as variablesDownload and unzip data.\n",
        "\n",
        "PATH_TO_LISA_TXT = '/content/'\n",
        "PATH_TO_LISA_QRY = '/content/LISA.QUE'\n",
        "PATH_TO_LISA_REL = '/content/LISARJ.NUM'\n",
        "\n",
        "from collections import defaultdict\n",
        "import re\n",
        "import json\n",
        "from io import StringIO\n",
        "import numpy as np\n",
        "import os\n",
        "\n",
        "# get the text and query files\n",
        "\n",
        "file_regex = re.compile('LISA[0-5]')\n",
        "lisa_files = [i for i in os.listdir(PATH_TO_LISA_TXT) if os.path.isfile(os.path.join(PATH_TO_LISA_TXT,i)) and re.match(file_regex,i)]\n",
        "\n",
        "txt_entry_marker = re.compile('\\*{44}',re.MULTILINE)\n",
        "qry_entry_marker = re.compile('#')\n",
        "\n",
        "def get_data(PATH_TO_FILES, marker):\n",
        "  \"\"\"\n",
        "  Reads multiple files and spilts text into entries at the entry marker.\n",
        "  The 'marker' contains the regex at which we want to split\n",
        "  Pops last element since it's empty.\n",
        "  \"\"\"\n",
        "  with open (PATH_TO_FILES,'r') as f:\n",
        "    text = f.read().replace('     ','')\n",
        "    lines = re.split(marker,text)\n",
        "    lines.pop()\n",
        "  return lines\n",
        "\n",
        "lisa_txt_list = []\n",
        "for name in lisa_files: \n",
        "  lisa_txt_list.extend(get_data(PATH_TO_LISA_TXT+name, txt_entry_marker))\n",
        "\n",
        "lisa_qry_list = get_data(PATH_TO_LISA_QRY, qry_entry_marker)\n",
        "\n",
        "# process text file\n",
        "\n",
        "doc_strip = re.compile('\\n?Document {1,2}')\n",
        "\n",
        "lisa_txt_list_stripped = []\n",
        "lisa_txt_data = defaultdict(dict)\n",
        "\n",
        "for el in lisa_txt_list:\n",
        "  lisa_txt_list_stripped.append(re.sub(doc_strip,'', el))\n",
        "\n",
        "for entry in lisa_txt_list_stripped:\n",
        "  parts = entry.split('\\n')\n",
        "  empty_index = parts.index('')\n",
        "  ID = parts[0].strip(' ')\n",
        "  title = parts[1:empty_index]\n",
        "  text = parts[empty_index+1:]\n",
        "  lisa_txt_data[ID]['title'] = ''.join(title)\n",
        "  lisa_txt_data[ID]['text'] = ''.join(text)\n",
        "\n",
        "# process the query data\n",
        "\n",
        "lisa_qry_data = defaultdict(dict)\n",
        "# first line is a special case because it doesn't start with a newline\n",
        "first_line = lisa_qry_list[0]\n",
        "first_question = ' '.join(first_line[1:])\n",
        "lisa_qry_data[int(first_line[0])]['question'] = first_question\n",
        "\n",
        "# after that every line can be handle the same way\n",
        "for n in range(0,len(lisa_qry_list)-1):\n",
        "  line = re.split('\\n',lisa_qry_list[n+1])\n",
        "  question = ' '.join(line[2:])\n",
        "  lisa_qry_data[int(line[1])]['question'] = question\n",
        "\n",
        "# process relevance assesments\n",
        "lisa_rel = defaultdict(list)\n",
        "\n",
        "rel_marker = re.compile('            \\n        ')\n",
        "rel_split = re.compile('\\n')\n",
        "\n",
        "with open (PATH_TO_LISA_REL,'r') as f:\n",
        "  file = f.read().strip('       ').replace('\\n','')\n",
        "  lines = re.split(' ',file)\n",
        "  lines = list(filter(None, lines))\n",
        "  n = 0\n",
        "  while n < len(lines):\n",
        "    ID = int(lines[n])\n",
        "    num_rel = int(lines[n+1])\n",
        "    rels = lines[(n+2):(n+num_rel+2)]\n",
        "    lisa_rel[ID].extend(rels)\n",
        "    n = n+1+num_rel+1\n",
        "\n",
        "# transform text to sentences for BERT text search\n",
        "import nltk\n",
        "from nltk import tokenize\n",
        "from nltk.tokenize import sent_tokenize\n",
        "nltk.download('punkt')\n",
        "\n",
        "def text_to_sentences(string):\n",
        "  sentences = tokenize.sent_tokenize(string)\n",
        "  return sentences\n",
        "\n",
        "for ID, doc in lisa_txt_data.items():\n",
        "  text = lisa_txt_data[ID]['text']\n",
        "  lisa_txt_data[ID]['sentences'] = text_to_sentences(text)"
      ],
      "execution_count": null,
      "outputs": [
        {
          "output_type": "stream",
          "text": [
            "--2020-12-15 11:14:27--  https://nextcloud.samyateia.de/index.php/s/Ed8gekyDgpkGGQ6/download\n",
            "Resolving nextcloud.samyateia.de (nextcloud.samyateia.de)... 194.55.14.32\n",
            "Connecting to nextcloud.samyateia.de (nextcloud.samyateia.de)|194.55.14.32|:443... connected.\n",
            "HTTP request sent, awaiting response... 200 OK\n",
            "Length: 4012544 (3.8M) [application/x-gzip]\n",
            "Saving to: ‘download’\n",
            "\n",
            "download            100%[===================>]   3.83M  5.28MB/s    in 0.7s    \n",
            "\n",
            "2020-12-15 11:14:28 (5.28 MB/s) - ‘download’ saved [4012544/4012544]\n",
            "\n",
            "[nltk_data] Downloading package punkt to /root/nltk_data...\n",
            "[nltk_data]   Package punkt is already up-to-date!\n"
          ],
          "name": "stdout"
        }
      ]
    },
    {
      "cell_type": "markdown",
      "metadata": {
        "id": "kvj78Pc1BlBB"
      },
      "source": [
        "**Indexing**"
      ]
    },
    {
      "cell_type": "code",
      "metadata": {
        "id": "CyVRktILBlBD",
        "colab": {
          "base_uri": "https://localhost:8080/"
        },
        "outputId": "c2d34e4c-4eca-43e5-fdd3-368db06aa9b4"
      },
      "source": [
        "# Elasticsearch settings, without using Opendistro\n",
        "# Every index has title, text and vectors to fill\n",
        "settings_nest = {\n",
        "  \"mappings\": {\n",
        "    \"properties\": {\n",
        "      \"text_vector\": {\n",
        "        \"type\": \"nested\",\n",
        "        \"properties\": {\n",
        "          \"vector\": {\n",
        "            \"type\": \"dense_vector\",\n",
        "            \"dims\": 768 \n",
        "          }\n",
        "        }\n",
        "      },\n",
        "     \"text\": {\n",
        "            \"type\" : \"text\"\n",
        "          },\n",
        "          \"title_vector\": {\n",
        "           \"type\": \"dense_vector\",\n",
        "           \"dims\": 768\n",
        "            },\n",
        "      \"title\": {\n",
        "              \"type\": \"text\"\n",
        "              },\n",
        "    }\n",
        "  }\n",
        "}\n",
        "\n",
        "#create index, see https://elasticsearch-py.readthedocs.io/en/master/api.html#elasticsearch.client.IndicesClient.create\n",
        "lisa_index = \"lisa-corpus\"\n",
        "es.indices.delete(index=lisa_index, ignore=[400, 404])\n",
        "es.indices.create(lisa_index)\n",
        "\n",
        "lisa_index_sent = \"bert-sentence-lisa-corpus\"\n",
        "es.indices.delete(index=lisa_index_sent, ignore=[400, 404])\n",
        "es.indices.create(lisa_index_sent, body=settings_nest)"
      ],
      "execution_count": null,
      "outputs": [
        {
          "output_type": "execute_result",
          "data": {
            "text/plain": [
              "{'acknowledged': True,\n",
              " 'index': 'bert-sentence-lisa-corpus',\n",
              " 'shards_acknowledged': True}"
            ]
          },
          "metadata": {
            "tags": []
          },
          "execution_count": 24
        }
      ]
    },
    {
      "cell_type": "code",
      "metadata": {
        "id": "vkEWHA9NBlBO",
        "colab": {
          "base_uri": "https://localhost:8080/"
        },
        "outputId": "4ee6f453-217b-422e-df05-11112685611b"
      },
      "source": [
        "for ID, doc_data in lisa_txt_data.items():\n",
        "    # Index for match query\n",
        "    es.index(index=lisa_index, id=ID, body=doc_data)\n",
        "    # Index for BERT search\n",
        "    es.index(\n",
        "      index=lisa_index_sent, \n",
        "      id=ID, \n",
        "      body={\n",
        "          'text_vector': [{\"vector\": model.encode(text)} for text in lisa_txt_data[ID]['sentences']],\n",
        "          'text': lisa_txt_data[ID]['text'],\n",
        "          'title_vector': model.encode(''.join(lisa_txt_data[ID]['title'])),\n",
        "          'title': lisa_txt_data[ID]['title']\n",
        "          }\n",
        "    )\n",
        "#print new index list\n",
        "create_response = es.cat.indices()\n",
        "print(create_response)"
      ],
      "execution_count": null,
      "outputs": [
        {
          "output_type": "stream",
          "text": [
            "yellow open bert-sentence-cacm-corpus      HD0w4eWbT9mtQYTW1w-BIg 1 1 15539 0 224.6mb 224.6mb\n",
            "yellow open bert-sentence-lisa-corpus      bN38CQohRb-hM3-NaUGOEQ 1 1  1380 0 312.6mb 312.6mb\n",
            "yellow open cranfield-corpus               y7u7dN4nSBCXQCWdA_w3Xg 1 1  1400 0   4.5mb   4.5mb\n",
            "yellow open bert-sentence-cranfield-corpus xt7cronIS1Ko1GUDcF9QRA 1 1 11515 0 171.9mb 171.9mb\n",
            "yellow open cacm-corpus                    c-bAxQL-SjuzWBbX--iQiQ 1 1  3204 0   6.7mb   6.7mb\n",
            "yellow open cisi-corpus                    mAqlDRZySk-fsYEoW_bk0A 1 1  1460 0   4.4mb   4.4mb\n",
            "yellow open adi-corpus                     EsnE2mIfS0muc2B9317jQg 1 1    82 0 220.6kb 220.6kb\n",
            "yellow open lisa-corpus                    x5ABnXo-RGOIzxIB7pwOaw 1 1   331 0   3.5mb   3.5mb\n",
            "yellow open bert-sentence-adi-corpus       gTr0KthuTn6vZI8T1ar-zQ 1 1   285 0   4.3mb   4.3mb\n",
            "yellow open bert-sentence-cisi-corpus      y1gDtVm9RCGRcgtlRRyYlA 1 1  7792 0 116.7mb 116.7mb\n",
            "\n"
          ],
          "name": "stdout"
        }
      ]
    },
    {
      "cell_type": "markdown",
      "metadata": {
        "id": "1khYBntB-QGW"
      },
      "source": [
        "### Medline Corpus"
      ]
    },
    {
      "cell_type": "markdown",
      "metadata": {
        "id": "hdfuvzhY-QGW"
      },
      "source": [
        "You can get the corpus from [this link](http://ir.dcs.gla.ac.uk/resources/test_collections/med/).  <br>\n",
        "For detailed information about the format of the files, see the PragmaLingu [ Benchmarks](https://pragmalingu.de/docs/benchmarks/overview)"
      ]
    },
    {
      "cell_type": "markdown",
      "metadata": {
        "id": "iVxwNZ_a-QGX"
      },
      "source": [
        "**Parsing**"
      ]
    },
    {
      "cell_type": "code",
      "metadata": {
        "id": "eZl9p5nY-QGX",
        "colab": {
          "base_uri": "https://localhost:8080/"
        },
        "outputId": "a0ebaee9-d2db-4921-9586-8288a2eaf109"
      },
      "source": [
        "# download and unzip data\n",
        "!wget http://ir.dcs.gla.ac.uk/resources/test_collections/medl/med.tar.gz\n",
        "!tar -xf med.tar.gz\n",
        "\n",
        "# set paths to the dowloaded data as variables\n",
        "PATH_TO_MED_TXT = '/content/MED.ALL'\n",
        "PATH_TO_MED_QRY = '/content/MED.QRY'\n",
        "PATH_TO_MED_REL = '/content/MED.REL'\n",
        "\n",
        "from collections import defaultdict\n",
        "import re\n",
        "import json\n",
        "from io import StringIO\n",
        "import numpy as np\n",
        "\n",
        "\n",
        "# get the text and query files\n",
        "\n",
        "ID_marker = re.compile('\\.I')\n",
        "\n",
        "def get_data(PATH_TO_FILE, marker):\n",
        "  \"\"\"\n",
        "  Reads file and spilts text into entries at the ID marker '.I'.\n",
        "  First entry is empty, so it's removed.\n",
        "  'marker' contains the regex at which we want to split\n",
        "  \"\"\"\n",
        "  with open (PATH_TO_FILE,'r') as f:\n",
        "    text = f.read().replace('\\n',\" \")\n",
        "    lines = re.split(marker,text)\n",
        "    lines.pop(0)\n",
        "  return lines\n",
        "\n",
        "med_txt_list = get_data(PATH_TO_MED_TXT, ID_marker)\n",
        "med_qry_list = get_data(PATH_TO_MED_QRY, ID_marker)\n",
        "\n",
        "# process the text and query files\n",
        "\n",
        "import nltk\n",
        "from nltk import tokenize\n",
        "from nltk.tokenize import sent_tokenize\n",
        "nltk.download('punkt')\n",
        "\n",
        "def text_to_sentences(string):\n",
        "  sentences = tokenize.sent_tokenize(string)\n",
        "  return sentences\n",
        "\n",
        "qry_chunk_start = re.compile('\\.W')\n",
        "\n",
        "med_txt_data = defaultdict(dict)\n",
        "med_qry_data = defaultdict(dict)\n",
        "\n",
        "def fill_dictionary(dictionary, chunk_list, marker, key_name):\n",
        "  for n in range(0,len(chunk_list)-1):\n",
        "    line = chunk_list[n+1]\n",
        "    _ , chunk = re.split(marker,line)\n",
        "    dictionary[n+1][key_name] = chunk.strip()\n",
        "\n",
        "fill_dictionary(med_txt_data, med_txt_list, qry_chunk_start, 'text')\n",
        "fill_dictionary(med_qry_data, med_qry_list, qry_chunk_start, 'question')\n",
        "\n",
        "\n",
        "\n",
        "# process relevance assesments with rating\n",
        "\n",
        "med_rel_data = open(PATH_TO_MED_REL)\n",
        "med_np = np.loadtxt(med_rel_data, dtype=int)\n",
        "\n",
        "med_rel_rat = defaultdict(list)\n",
        "for row in med_np:\n",
        "  med_rel_rat[row[0]].append(row[2])\n",
        "\n",
        "# process relevance assesments without rating\n",
        "med_rel = defaultdict(list)\n",
        "\n",
        "with open (PATH_TO_MED_REL,'r') as f:\n",
        "  for line in f:\n",
        "    line = re.split(' ',line)\n",
        "    med_rel[int(line[0])].append(line[2])\n",
        "\n",
        "\n",
        "# transform text to sentences for BERT text search\n",
        "import nltk\n",
        "from nltk import tokenize\n",
        "from nltk.tokenize import sent_tokenize\n",
        "nltk.download('punkt')\n",
        "\n",
        "def text_to_sentences(string):\n",
        "  sentences = tokenize.sent_tokenize(string)\n",
        "  return sentences\n",
        "\n",
        "for ID, doc in med_txt_data.items():\n",
        "  text = med_txt_data[ID]['text']\n",
        "  med_txt_data[ID]['sentences'] = text_to_sentences(text)\n"
      ],
      "execution_count": null,
      "outputs": [
        {
          "output_type": "stream",
          "text": [
            "--2020-12-15 11:23:07--  https://nextcloud.samyateia.de/index.php/s/MrAgWHEJYMT6HN2/download\n",
            "Resolving nextcloud.samyateia.de (nextcloud.samyateia.de)... 194.55.14.32\n",
            "Connecting to nextcloud.samyateia.de (nextcloud.samyateia.de)|194.55.14.32|:443... connected.\n",
            "HTTP request sent, awaiting response... 200 OK\n",
            "Length: 1149440 (1.1M) [application/x-gzip]\n",
            "Saving to: ‘download’\n",
            "\n",
            "download            100%[===================>]   1.10M  2.01MB/s    in 0.5s    \n",
            "\n",
            "2020-12-15 11:23:08 (2.01 MB/s) - ‘download’ saved [1149440/1149440]\n",
            "\n",
            "[nltk_data] Downloading package punkt to /root/nltk_data...\n",
            "[nltk_data]   Package punkt is already up-to-date!\n",
            "[nltk_data] Downloading package punkt to /root/nltk_data...\n",
            "[nltk_data]   Package punkt is already up-to-date!\n"
          ],
          "name": "stdout"
        }
      ]
    },
    {
      "cell_type": "markdown",
      "metadata": {
        "id": "anwPWt-c-QGd"
      },
      "source": [
        "**Indexing**\n",
        "\n",
        "We won't index the title BERT search because Medline, NPL and Time don't have titles."
      ]
    },
    {
      "cell_type": "code",
      "metadata": {
        "id": "SCJHE6P5dR2f",
        "colab": {
          "base_uri": "https://localhost:8080/"
        },
        "outputId": "3ba9dc9d-7322-4e06-dd15-f609239cb2dd"
      },
      "source": [
        "# Elasticsearch settings, without using Opendistro\n",
        "# Every index has title, text and vectors to fill\n",
        "settings_nest = {\n",
        "  \"mappings\": {\n",
        "    \"properties\": {\n",
        "      \"text_vector\": {\n",
        "        \"type\": \"nested\",\n",
        "        \"properties\": {\n",
        "          \"vector\": {\n",
        "            \"type\": \"dense_vector\",\n",
        "            \"dims\": 768 \n",
        "          }\n",
        "        }\n",
        "      },\n",
        "     \"text\": {\n",
        "            \"type\" : \"text\"\n",
        "          },\n",
        "          \"title_vector\": {\n",
        "           \"type\": \"dense_vector\",\n",
        "           \"dims\": 768\n",
        "            },\n",
        "      \"title\": {\n",
        "              \"type\": \"text\"\n",
        "              },\n",
        "    }\n",
        "  }\n",
        "}\n",
        "\n",
        "#create index, see https://elasticsearch-py.readthedocs.io/en/master/api.html#elasticsearch.client.IndicesClient.create\n",
        "med_index = \"medline-corpus\"\n",
        "es.indices.delete(index=med_index, ignore=[400, 404])\n",
        "es.indices.create(med_index)\n",
        "\n",
        "med_index_sent = \"bert-sentence-medline-corpus\"\n",
        "es.indices.delete(index=med_index_sent, ignore=[400, 404])\n",
        "es.indices.create(med_index_sent, body=settings_nest)\n"
      ],
      "execution_count": null,
      "outputs": [
        {
          "output_type": "execute_result",
          "data": {
            "text/plain": [
              "{'acknowledged': True,\n",
              " 'index': 'bert-sentence-medline-corpus',\n",
              " 'shards_acknowledged': True}"
            ]
          },
          "metadata": {
            "tags": []
          },
          "execution_count": 27
        }
      ]
    },
    {
      "cell_type": "code",
      "metadata": {
        "id": "A2m-Y-XCdR2r",
        "colab": {
          "base_uri": "https://localhost:8080/"
        },
        "outputId": "4507592d-d3a4-4cde-8021-251a129a81c3"
      },
      "source": [
        "for ID, doc_data in med_txt_data.items():\n",
        "  # Index for match query\n",
        "  es.index(index=med_index, id=ID, body=doc_data)\n",
        "  # Index for BERT search\n",
        "  es.index(\n",
        "      index=med_index_sent, \n",
        "      id=ID, \n",
        "      body={\n",
        "          'text_vector': [{\"vector\": model.encode(text)} for text in med_txt_data[ID]['sentences']],\n",
        "          'text': med_txt_data[ID]['text']\n",
        "          }\n",
        "    )\n",
        "\n",
        "#print new index list\n",
        "create_response = es.cat.indices()\n",
        "print(create_response)"
      ],
      "execution_count": null,
      "outputs": [
        {
          "output_type": "stream",
          "text": [
            "yellow open bert-sentence-cacm-corpus      HD0w4eWbT9mtQYTW1w-BIg 1 1 15539 0 224.6mb 224.6mb\n",
            "yellow open bert-sentence-lisa-corpus      bN38CQohRb-hM3-NaUGOEQ 1 1 25833 0 385.9mb 385.9mb\n",
            "yellow open cranfield-corpus               y7u7dN4nSBCXQCWdA_w3Xg 1 1  1400 0   4.5mb   4.5mb\n",
            "yellow open bert-sentence-cranfield-corpus xt7cronIS1Ko1GUDcF9QRA 1 1 11515 0 171.9mb 171.9mb\n",
            "yellow open cacm-corpus                    c-bAxQL-SjuzWBbX--iQiQ 1 1  3204 0   6.7mb   6.7mb\n",
            "yellow open cisi-corpus                    mAqlDRZySk-fsYEoW_bk0A 1 1  1460 0   4.4mb   4.4mb\n",
            "yellow open adi-corpus                     EsnE2mIfS0muc2B9317jQg 1 1    82 0 220.6kb 220.6kb\n",
            "yellow open medline-corpus                 KG6L8KTHRBmMlhKBbC27mg 1 1   200 0   1.8mb   1.8mb\n",
            "yellow open lisa-corpus                    x5ABnXo-RGOIzxIB7pwOaw 1 1   331 0   3.5mb   3.5mb\n",
            "yellow open bert-sentence-medline-corpus   sygy8QvUQA2lF0wO-g05NA 1 1  1723 0  91.2mb  91.2mb\n",
            "yellow open bert-sentence-cisi-corpus      y1gDtVm9RCGRcgtlRRyYlA 1 1  7792 0 116.7mb 116.7mb\n",
            "yellow open bert-sentence-adi-corpus       gTr0KthuTn6vZI8T1ar-zQ 1 1   285 0   4.3mb   4.3mb\n",
            "\n"
          ],
          "name": "stdout"
        }
      ]
    },
    {
      "cell_type": "markdown",
      "metadata": {
        "id": "EXbsI4B_34QH"
      },
      "source": [
        "### NPL Corpus"
      ]
    },
    {
      "cell_type": "markdown",
      "metadata": {
        "id": "N-XV8MnE34QK"
      },
      "source": [
        "You can get the corpus from [this link](http://ir.dcs.gla.ac.uk/resources/test_collections/npl/).  <br>\n",
        "For detailed information about the format of the files, see the PragmaLingu [ Benchmarks](https://pragmalingu.de/docs/benchmarks/overview)"
      ]
    },
    {
      "cell_type": "markdown",
      "metadata": {
        "id": "nZl09cJE0755"
      },
      "source": [
        "**Parsing**"
      ]
    },
    {
      "cell_type": "code",
      "metadata": {
        "id": "FAcUrS6w34QS",
        "colab": {
          "base_uri": "https://localhost:8080/"
        },
        "outputId": "913cbaee-485d-4106-9118-1535f4077bed"
      },
      "source": [
        "# download and unzip data\n",
        "!wget http://ir.dcs.gla.ac.uk/resources/test_collections/npl/npl.tar.gz\n",
        "!tar -xf npl.tar.gz\n",
        "\n",
        "# set paths to the dowloaded data as variablesDownload and unzip data.\n",
        "\n",
        "PATH_TO_NPL_TXT = '/content/doc-text'\n",
        "PATH_TO_NPL_QRY = '/content/query-text'\n",
        "PATH_TO_NPL_REL = '/content/rlv-ass'\n",
        "\n",
        "from collections import defaultdict\n",
        "import re\n",
        "import json\n",
        "from io import StringIO\n",
        "import numpy as np\n",
        "import os\n",
        "\n",
        "npl_index = \"npl-corpus\"\n",
        "\n",
        "# get the text, query and rel files\n",
        "\n",
        "txt_entry_marker = re.compile('\\n   /\\n')\n",
        "qry_entry_marker = re.compile('\\n/\\n')\n",
        "rel_entry_marker = re.compile('\\n   /\\n')\n",
        "\n",
        "def get_data(PATH_TO_FILES, marker):\n",
        "  \"\"\"\n",
        "  Reads multiple files and spilts text into entries at the entry marker.\n",
        "  The 'marker' contains the regex at which we want to split\n",
        "  Pops last element since it's empty.\n",
        "  \"\"\"\n",
        "  with open (PATH_TO_FILES,'r') as f:\n",
        "    text = f.read()\n",
        "    lines = re.split(marker,text)\n",
        "    lines.pop()\n",
        "  return lines\n",
        "\n",
        "npl_txt_list = get_data(PATH_TO_NPL_TXT, txt_entry_marker)\n",
        "npl_qry_list = get_data(PATH_TO_NPL_QRY, qry_entry_marker)\n",
        "npl_rel_list = get_data(PATH_TO_NPL_REL, rel_entry_marker)\n",
        "\n",
        "# process the documents\n",
        "\n",
        "npl_txt_data = defaultdict(dict)\n",
        "\n",
        "for entry in npl_txt_list:\n",
        "  splitted = entry.split('\\n')\n",
        "  splitted = list(filter(None, splitted))\n",
        "  ID = splitted[0]\n",
        "  text = ' '.join(map(str, splitted[1:]))\n",
        "  npl_txt_data[ID]['text'] = text\n",
        "\n",
        "# process the queries\n",
        "\n",
        "npl_qry_data = defaultdict(dict)\n",
        "\n",
        "for entry in npl_qry_list:\n",
        "  splitted = entry.split('\\n')\n",
        "  splitted = list(filter(None, splitted))\n",
        "  ID = int(splitted[0])\n",
        "  question = ' '.join(map(str, splitted[1:]))\n",
        "  npl_qry_data[ID]['question'] = question\n",
        "\n",
        "# process relevance assesments\n",
        "\n",
        "npl_rel = defaultdict(list)\n",
        "\n",
        "for entry in npl_rel_list:\n",
        "  splitted = entry.replace('\\n','').split(' ')\n",
        "  splitted = list(filter(None, splitted))\n",
        "  ID = int(splitted[0])\n",
        "  npl_rel[ID].extend(splitted[1:]) \n",
        "\n",
        "# transform text to sentences for BERT text search\n",
        "import nltk\n",
        "from nltk import tokenize\n",
        "from nltk.tokenize import sent_tokenize\n",
        "nltk.download('punkt')\n",
        "\n",
        "def text_to_sentences(string):\n",
        "  sentences = tokenize.sent_tokenize(string)\n",
        "  return sentences\n",
        "\n",
        "for ID, doc in npl_txt_data.items():\n",
        "  text = npl_txt_data[ID]['text']\n",
        "  npl_txt_data[ID]['sentences'] = text_to_sentences(text)"
      ],
      "execution_count": null,
      "outputs": [
        {
          "output_type": "stream",
          "text": [
            "--2020-12-15 11:25:30--  https://nextcloud.samyateia.de/index.php/s/R9NjseQTwqc8PcR/download\n",
            "Resolving nextcloud.samyateia.de (nextcloud.samyateia.de)... 194.55.14.32\n",
            "Connecting to nextcloud.samyateia.de (nextcloud.samyateia.de)|194.55.14.32|:443... connected.\n",
            "HTTP request sent, awaiting response... 200 OK\n",
            "Length: 6428672 (6.1M) [application/x-gzip]\n",
            "Saving to: ‘download’\n",
            "\n",
            "download            100%[===================>]   6.13M  8.21MB/s    in 0.7s    \n",
            "\n",
            "2020-12-15 11:25:32 (8.21 MB/s) - ‘download’ saved [6428672/6428672]\n",
            "\n",
            "[nltk_data] Downloading package punkt to /root/nltk_data...\n",
            "[nltk_data]   Package punkt is already up-to-date!\n"
          ],
          "name": "stdout"
        }
      ]
    },
    {
      "cell_type": "markdown",
      "metadata": {
        "id": "e4IbFZrZ5ivZ"
      },
      "source": [
        "**Indexing**\n",
        "\n",
        "We won't index the title BERT search because Medline, NPL and Time don't have titles."
      ]
    },
    {
      "cell_type": "code",
      "metadata": {
        "id": "XSF2kme_deg0",
        "colab": {
          "base_uri": "https://localhost:8080/"
        },
        "outputId": "a98bd0e6-f7d6-48b4-cd09-2527c1df9e52"
      },
      "source": [
        "# Elasticsearch settings, without using Opendistro\n",
        "# Every index has title, text and vectors to fill\n",
        "settings_nest = {\n",
        "  \"mappings\": {\n",
        "    \"properties\": {\n",
        "      \"text_vector\": {\n",
        "        \"type\": \"nested\",\n",
        "        \"properties\": {\n",
        "          \"vector\": {\n",
        "            \"type\": \"dense_vector\",\n",
        "            \"dims\": 768 \n",
        "          }\n",
        "        }\n",
        "      },\n",
        "     \"text\": {\n",
        "            \"type\" : \"text\",\n",
        "          },\n",
        "          \"title\": {\n",
        "              \"type\": \"text\"\n",
        "              },\n",
        "          \"title_vector\": {\n",
        "           \"type\": \"dense_vector\",\n",
        "           \"dims\": 768\n",
        "            }\n",
        "    }\n",
        "  }\n",
        "}\n",
        "\n",
        "#create index, see https://elasticsearch-py.readthedocs.io/en/master/api.html#elasticsearch.client.IndicesClient.create\n",
        "\n",
        "npl_index = \"npl-corpus\"\n",
        "es.indices.delete(index=npl_index, ignore=[400, 404])\n",
        "es.indices.create(npl_index)\n",
        "\n",
        "npl_index_sent = \"bert-sentence-npl-corpus\"\n",
        "es.indices.delete(index=npl_index_sent, ignore=[400, 404])\n",
        "es.indices.create(npl_index_sent, body=settings_nest)"
      ],
      "execution_count": null,
      "outputs": [
        {
          "output_type": "execute_result",
          "data": {
            "text/plain": [
              "{'acknowledged': True,\n",
              " 'index': 'bert-sentence-npl-corpus',\n",
              " 'shards_acknowledged': True}"
            ]
          },
          "metadata": {
            "tags": []
          },
          "execution_count": 30
        }
      ]
    },
    {
      "cell_type": "code",
      "metadata": {
        "id": "Po8_o4QodehB",
        "colab": {
          "base_uri": "https://localhost:8080/"
        },
        "outputId": "db61000b-b2ef-483f-c417-efefb9e79530"
      },
      "source": [
        "for ID, doc_data in npl_txt_data.items():\n",
        "  # Index for match query\n",
        "  es.index(index=npl_index, id=ID, body=doc_data)\n",
        "  # Index for BERT search\n",
        "  text_list = []\n",
        "  es.index(\n",
        "      index=npl_index_sent, \n",
        "      id=ID, \n",
        "      body={\n",
        "          'text_vector': [{\"vector\": model.encode(text)} for text in npl_txt_data[ID]['sentences']],\n",
        "          'text': npl_txt_data[ID]['text']\n",
        "          }\n",
        "    )\n",
        "\n",
        "#print new index list\n",
        "create_response = es.cat.indices()\n",
        "print(create_response)"
      ],
      "execution_count": null,
      "outputs": [
        {
          "output_type": "stream",
          "text": [
            "yellow open bert-sentence-lisa-corpus      bN38CQohRb-hM3-NaUGOEQ 1 1 25833 0 385.9mb 385.9mb\n",
            "yellow open cranfield-corpus               y7u7dN4nSBCXQCWdA_w3Xg 1 1  1400 0   4.5mb   4.5mb\n",
            "yellow open bert-sentence-cranfield-corpus xt7cronIS1Ko1GUDcF9QRA 1 1 11515 0 171.9mb 171.9mb\n",
            "yellow open adi-corpus                     EsnE2mIfS0muc2B9317jQg 1 1    82 0 220.6kb 220.6kb\n",
            "yellow open medline-corpus                 KG6L8KTHRBmMlhKBbC27mg 1 1  1032 0   3.2mb   3.2mb\n",
            "yellow open lisa-corpus                    x5ABnXo-RGOIzxIB7pwOaw 1 1  6000 0  10.1mb  10.1mb\n",
            "yellow open bert-sentence-medline-corpus   sygy8QvUQA2lF0wO-g05NA 1 1  8287 0 108.5mb 108.5mb\n",
            "yellow open bert-sentence-adi-corpus       gTr0KthuTn6vZI8T1ar-zQ 1 1   285 0   4.3mb   4.3mb\n",
            "yellow open bert-sentence-cacm-corpus      HD0w4eWbT9mtQYTW1w-BIg 1 1 15539 0 224.6mb 224.6mb\n",
            "yellow open npl-corpus                     3grn9zQgShuG5UIfV_zmrg 1 1   923 0   3.3mb   3.3mb\n",
            "yellow open cacm-corpus                    c-bAxQL-SjuzWBbX--iQiQ 1 1  3204 0   6.7mb   6.7mb\n",
            "yellow open cisi-corpus                    mAqlDRZySk-fsYEoW_bk0A 1 1  1460 0   4.4mb   4.4mb\n",
            "yellow open bert-sentence-npl-corpus       oOf8X_XITl2Gdlbq0fivpA 1 1  1866 0   150mb   150mb\n",
            "yellow open bert-sentence-cisi-corpus      y1gDtVm9RCGRcgtlRRyYlA 1 1  7792 0 116.7mb 116.7mb\n",
            "\n"
          ],
          "name": "stdout"
        }
      ]
    },
    {
      "cell_type": "markdown",
      "metadata": {
        "id": "nzHvsKajyd8o"
      },
      "source": [
        "### Time Corpus\n",
        "\n"
      ]
    },
    {
      "cell_type": "markdown",
      "metadata": {
        "id": "z1OwnRY3yd8w"
      },
      "source": [
        "You can get the corpus from [this link](http://ir.dcs.gla.ac.uk/resources/test_collections/time/).  <br>\n",
        "For detailed information about the format of the files, see the PragmaLingu [ Benchmarks](https://pragmalingu.de/docs/benchmarks/overview)"
      ]
    },
    {
      "cell_type": "markdown",
      "metadata": {
        "id": "X6uTwgD31Azk"
      },
      "source": [
        "**Parsing**"
      ]
    },
    {
      "cell_type": "code",
      "metadata": {
        "id": "JHfj2Jzbyd83",
        "colab": {
          "base_uri": "https://localhost:8080/"
        },
        "outputId": "ff9ad166-1d23-4339-dcbe-26420cace7e3"
      },
      "source": [
        "# download and unzip data\n",
        "!wget http://ir.dcs.gla.ac.uk/resources/test_collections/time/time.tar.gz\n",
        "!tar -xf time.tar.gz\n",
        "\n",
        "# set paths to the dowloaded data as variablesDownload and unzip data.\n",
        "\n",
        "PATH_TO_TIME_TXT = '/content/TIME.ALL'\n",
        "PATH_TO_TIME_QRY = '/content/TIME.QUE'\n",
        "PATH_TO_TIME_REL = '/content/TIME.REL'\n",
        "\n",
        "from collections import defaultdict\n",
        "import re\n",
        "import json\n",
        "from io import StringIO\n",
        "import numpy as np\n",
        "import os\n",
        "\n",
        "time_index = \"time-corpus\"\n",
        "\n",
        "# get the text and query files\n",
        "\n",
        "txt_entry_marker = re.compile('\\*TEXT')\n",
        "qry_entry_marker = re.compile('\\*FIND    ')\n",
        "def get_data(PATH_TO_FILES, marker):\n",
        "  \"\"\"\n",
        "  Reads multiple files and spilts text into entries at the entry marker.\n",
        "  The 'marker' contains the regex at which we want to split\n",
        "  Pops last element since it's empty.\n",
        "  \"\"\"\n",
        "  with open (PATH_TO_FILES,'r') as f:\n",
        "    text = f.read()\n",
        "    lines = re.split(marker,text)\n",
        "    lines.pop(0)\n",
        "  return lines\n",
        "\n",
        "time_txt_list = get_data(PATH_TO_TIME_TXT, txt_entry_marker)\n",
        "time_qry_list = get_data(PATH_TO_TIME_QRY, qry_entry_marker)\n",
        "\n",
        "# process text file\n",
        "page_split = re.compile('PAGE \\d{3}')\n",
        "\n",
        "time_txt_data = defaultdict(dict)\n",
        "ID = 1\n",
        "for entry in time_txt_list:\n",
        "  splitted = re.split(page_split,entry)\n",
        "  time_txt_data[ID]['text'] = splitted[1]\n",
        "  ID += 1\n",
        "  \n",
        "\n",
        "time_qry_data = defaultdict(dict)\n",
        "qry_split = re.compile('\\n\\n ')\n",
        "\n",
        "for query in time_qry_list:\n",
        "  entries = re.split(qry_split,query)\n",
        "  time_qry_data[int(entries[0])]['question'] = entries[1]\n",
        "\n",
        "# process relevance assesments\n",
        "time_rel = defaultdict(list)\n",
        "\n",
        "rel_marker = re.compile('            \\n        ')\n",
        "rel_split = re.compile('\\n')\n",
        "\n",
        "with open (PATH_TO_TIME_REL,'r') as f:\n",
        "  for lines in f:\n",
        "    line = lines.strip().replace('   ',' ').replace('  ',' ').split(' ')\n",
        "    if len(line) > 1:\n",
        "      time_rel[int(line[0])].extend(line[1:])\n",
        "\n",
        "# transform text to sentences for BERT text search\n",
        "import nltk\n",
        "from nltk import tokenize\n",
        "from nltk.tokenize import sent_tokenize\n",
        "nltk.download('punkt')\n",
        "\n",
        "def text_to_sentences(string):\n",
        "  sentences = tokenize.sent_tokenize(string)\n",
        "  return sentences\n",
        "\n",
        "for ID, doc in time_txt_data.items():\n",
        "  text = time_txt_data[ID]['text']\n",
        "  time_txt_data[ID]['sentences'] = text_to_sentences(text)"
      ],
      "execution_count": null,
      "outputs": [
        {
          "output_type": "stream",
          "text": [
            "--2020-12-15 11:31:25--  https://nextcloud.samyateia.de/index.php/s/9z7pMCNwXKCC2bY/download\n",
            "Resolving nextcloud.samyateia.de (nextcloud.samyateia.de)... 194.55.14.32\n",
            "Connecting to nextcloud.samyateia.de (nextcloud.samyateia.de)|194.55.14.32|:443... connected.\n",
            "HTTP request sent, awaiting response... 200 OK\n",
            "Length: 1568768 (1.5M) [application/x-gzip]\n",
            "Saving to: ‘download’\n",
            "\n",
            "download            100%[===================>]   1.50M  2.73MB/s    in 0.5s    \n",
            "\n",
            "2020-12-15 11:31:26 (2.73 MB/s) - ‘download’ saved [1568768/1568768]\n",
            "\n",
            "[nltk_data] Downloading package punkt to /root/nltk_data...\n",
            "[nltk_data]   Package punkt is already up-to-date!\n"
          ],
          "name": "stdout"
        }
      ]
    },
    {
      "cell_type": "markdown",
      "metadata": {
        "id": "dAk3A0Kq7gBN"
      },
      "source": [
        "**Indexing**\n",
        "\n",
        "We won't index the title BERT search because Medline, NPL and Time don't have titles."
      ]
    },
    {
      "cell_type": "code",
      "metadata": {
        "id": "VUOBFj7teE4N",
        "colab": {
          "base_uri": "https://localhost:8080/"
        },
        "outputId": "fa6c8e37-241c-4c7b-df5e-5005392144ff"
      },
      "source": [
        "# Elasticsearch settings, without using Opendistro\n",
        "# Every index has title, text and vectors to fill\n",
        "settings_nest = {\n",
        "  \"mappings\": {\n",
        "    \"properties\": {\n",
        "      \"text_vector\": {\n",
        "        \"type\": \"nested\",\n",
        "        \"properties\": {\n",
        "          \"vector\": {\n",
        "            \"type\": \"dense_vector\",\n",
        "            \"dims\": 768 \n",
        "          }\n",
        "        }\n",
        "      },\n",
        "     \"text\": {\n",
        "            \"type\" : \"text\",\n",
        "          },\n",
        "          \"title\": {\n",
        "              \"type\": \"text\"\n",
        "              },\n",
        "          \"title_vector\": {\n",
        "           \"type\": \"dense_vector\",\n",
        "           \"dims\": 768\n",
        "            }\n",
        "    }\n",
        "  }\n",
        "}\n",
        "\n",
        "#create index, see https://elasticsearch-py.readthedocs.io/en/master/api.html#elasticsearch.client.IndicesClient.create\n",
        "\n",
        "time_index = \"time-corpus\"\n",
        "es.indices.delete(index=time_index, ignore=[400, 404])\n",
        "es.indices.create(time_index)\n",
        "\n",
        "time_index_sent = \"bert-sentence-time-corpus\"\n",
        "es.indices.delete(index=time_index_sent, ignore=[400, 404])\n",
        "es.indices.create(time_index_sent, body=settings_nest)"
      ],
      "execution_count": null,
      "outputs": [
        {
          "output_type": "execute_result",
          "data": {
            "text/plain": [
              "{'acknowledged': True,\n",
              " 'index': 'bert-sentence-time-corpus',\n",
              " 'shards_acknowledged': True}"
            ]
          },
          "metadata": {
            "tags": []
          },
          "execution_count": 35
        }
      ]
    },
    {
      "cell_type": "code",
      "metadata": {
        "id": "0j_EeFrJeE4Z",
        "colab": {
          "base_uri": "https://localhost:8080/"
        },
        "outputId": "a87c9230-26f3-46b0-bcab-d5c5a4837225"
      },
      "source": [
        "for ID, doc_data in time_txt_data.items():\n",
        "  # Index for match query\n",
        "  es.index(index=time_index, id=ID, body=doc_data)\n",
        "  # Index for BERT search\n",
        "  es.index(\n",
        "      index=time_index_sent, \n",
        "      id=ID, \n",
        "      body={\n",
        "          'text_vector': [{\"vector\": model.encode(text)} for text in time_txt_data[ID]['sentences']],\n",
        "          'text': time_txt_data[ID]['text']\n",
        "          }\n",
        "    )\n",
        "\n",
        "#print new index list\n",
        "create_response = es.cat.indices()\n",
        "print(create_response)"
      ],
      "execution_count": null,
      "outputs": [
        {
          "output_type": "stream",
          "text": [
            "yellow open bert-sentence-lisa-corpus      bN38CQohRb-hM3-NaUGOEQ 1 1 25833 0 385.9mb 385.9mb\n",
            "yellow open cranfield-corpus               y7u7dN4nSBCXQCWdA_w3Xg 1 1  1400 0   4.5mb   4.5mb\n",
            "yellow open bert-sentence-cranfield-corpus xt7cronIS1Ko1GUDcF9QRA 1 1 11515 0 171.9mb 171.9mb\n",
            "yellow open adi-corpus                     EsnE2mIfS0muc2B9317jQg 1 1    82 0 220.6kb 220.6kb\n",
            "yellow open medline-corpus                 KG6L8KTHRBmMlhKBbC27mg 1 1  1032 0   3.2mb   3.2mb\n",
            "yellow open lisa-corpus                    x5ABnXo-RGOIzxIB7pwOaw 1 1  6000 0  10.1mb  10.1mb\n",
            "yellow open bert-sentence-medline-corpus   sygy8QvUQA2lF0wO-g05NA 1 1  8287 0 108.5mb 108.5mb\n",
            "yellow open bert-sentence-adi-corpus       gTr0KthuTn6vZI8T1ar-zQ 1 1   285 0   4.3mb   4.3mb\n",
            "yellow open bert-sentence-cacm-corpus      HD0w4eWbT9mtQYTW1w-BIg 1 1 15539 0 224.6mb 224.6mb\n",
            "yellow open npl-corpus                     3grn9zQgShuG5UIfV_zmrg 1 1 11429 0   7.5mb   7.5mb\n",
            "yellow open cacm-corpus                    c-bAxQL-SjuzWBbX--iQiQ 1 1  3204 0   6.7mb   6.7mb\n",
            "yellow open cisi-corpus                    mAqlDRZySk-fsYEoW_bk0A 1 1  1460 0   4.4mb   4.4mb\n",
            "yellow open bert-sentence-npl-corpus       oOf8X_XITl2Gdlbq0fivpA 1 1 22858 0 168.6mb 168.6mb\n",
            "yellow open time-corpus                    lEJpWnWxSZ-aqAANUrgypw 1 1    51 0   1.9mb   1.9mb\n",
            "yellow open bert-sentence-cisi-corpus      y1gDtVm9RCGRcgtlRRyYlA 1 1  7792 0 116.7mb 116.7mb\n",
            "yellow open bert-sentence-time-corpus      PlVC1hUYSbOrjsZRH0L2WQ 1 1  1627 0 156.9mb 156.9mb\n",
            "\n"
          ],
          "name": "stdout"
        }
      ]
    },
    {
      "cell_type": "markdown",
      "metadata": {
        "id": "-xNf8E2oSYOT"
      },
      "source": [
        "## Evaluation"
      ]
    },
    {
      "cell_type": "markdown",
      "metadata": {
        "id": "CemuLaUAMHKP"
      },
      "source": [
        "### Recall\n",
        "\n",
        "In this section we only evaluate the Recall scores."
      ]
    },
    {
      "cell_type": "markdown",
      "metadata": {
        "id": "u71ZvdbWMkIe"
      },
      "source": [
        "**Multi Match Query**\n",
        "\n",
        "Here we evaluate the data with the [\"multi_match\"](https://pragmalingu.de/docs/experiments/experiment1#standard-elasticsearch) option of elastic search:"
      ]
    },
    {
      "cell_type": "code",
      "metadata": {
        "id": "pn_g9h7xMkIi"
      },
      "source": [
        "#use rank eval api, see https://elasticsearch-py.readthedocs.io/en/master/api.html?highlight=_rank_eval#elasticsearch.Elasticsearch.rank_eval \n",
        "#and https://www.elastic.co/guide/en/elasticsearch/reference/current/query-dsl-simple-query-string-query.html \n",
        "\n",
        "import json\n",
        "from collections import defaultdict\n",
        "\n",
        "adi_index = 'adi-corpus'\n",
        "cacm_index = 'cacm-corpus'\n",
        "cisi_index = 'cisi-corpus'\n",
        "cran_index = 'cranfield-corpus'\n",
        "lisa_index = 'lisa-corpus'\n",
        "med_index = 'medline-corpus'\n",
        "npl_index = 'npl-corpus'\n",
        "time_index = 'time-corpus'\n",
        "\n",
        "text_field = ['text']\n",
        "title_field = ['title']\n",
        "text_title_field = ['title','text']\n",
        "\n",
        "#function to get normal match evaluation body \n",
        "def create_query_body_match_recall(query_dict, rel_dict, index_name,field):\n",
        "  \"\"\"\n",
        "  The function creates a request for every query in query_dict and rates the relevant documents with rel_dict to 1.\n",
        "  The index name has to be the same as from the documents your looking at.\n",
        "  An evaluation body for the elasticsearch ranking API is returned.\n",
        "  \"\"\"\n",
        "  eval_body = {\n",
        "      \"requests\": '',\n",
        "      \"metric\": {\n",
        "          \"recall\": {\n",
        "              \"relevant_rating_threshold\": 1,\n",
        "              \"k\": 20\n",
        "              }\n",
        "      }\n",
        "  }\n",
        "  requests = [] \n",
        "  current_request = defaultdict(lambda: defaultdict())\n",
        "  current_rel = {\"_index\": index_name, \"_id\": '', \"rating\": int}\n",
        "  for query_ID, query_txt in query_dict.items():\n",
        "    current_query = {\"query\": { \"multi_match\": { \"query\": '' , \"fields\" : field}}}\n",
        "    current_query[\"query\"][\"multi_match\"][\"query\"] = query_txt['question']\n",
        "    current_request[\"id\"] = 'Query_'+str(query_ID)\n",
        "    current_request[\"request\"] = current_query.copy()\n",
        "    current_request[\"ratings\"] = [{\"_index\": index_name, \"_id\": str(el), \"rating\": 1} for el in rel_dict[query_ID]]\n",
        "    requests.append(current_request.copy())\n",
        "  eval_body[\"requests\"] = requests\n",
        "  return eval_body\n",
        "\n",
        "\n",
        "#ADI\n",
        "adi_create_match_recall = create_query_body_match_recall(adi_qry_data, adi_rel, adi_index,title_field)\n",
        "adi_eval_body_match_recall = json.dumps(adi_create_match_recall)\n",
        "adi_res_match_recall_title = es.rank_eval(adi_eval_body_match_recall, adi_index)\n",
        "#print(json.dumps(adi_res_match_recall, indent=4, sort_keys=True))\n",
        "adi_create_match_recall = create_query_body_match_recall(adi_qry_data, adi_rel, adi_index,text_field)\n",
        "adi_eval_body_match_recall = json.dumps(adi_create_match_recall)\n",
        "adi_res_match_recall_text = es.rank_eval(adi_eval_body_match_recall, adi_index)\n",
        "#print(json.dumps(adi_create_match_recall, indent=4, sort_keys=True))\n",
        "adi_create_match_recall = create_query_body_match_recall(adi_qry_data, adi_rel, adi_index,text_title_field)\n",
        "adi_eval_body_match_recall = json.dumps(adi_create_match_recall)\n",
        "adi_res_match_recall_text_title = es.rank_eval(adi_eval_body_match_recall, adi_index)\n",
        "#print(json.dumps(adi_create_match_recall, indent=4, sort_keys=True))\n",
        "\n",
        "#CACM\n",
        "cacm_create_match_recall = create_query_body_match_recall(cacm_qry_data, cacm_rel, cacm_index,title_field)\n",
        "cacm_eval_body_match_recall = json.dumps(cacm_create_match_recall)\n",
        "cacm_res_match_recall_title = es.rank_eval(cacm_eval_body_match_recall,cacm_index)\n",
        "#print(json.dumps(cacm_res_match_recall, indent=4, sort_keys=True))\n",
        "cacm_create_match_recall = create_query_body_match_recall(cacm_qry_data, cacm_rel, cacm_index,text_field)\n",
        "cacm_eval_body_match_recall = json.dumps(cacm_create_match_recall)\n",
        "cacm_res_match_recall_text = es.rank_eval(cacm_eval_body_match_recall,cacm_index)\n",
        "#print(json.dumps(cacm_res_match_recall, indent=4, sort_keys=True))\n",
        "cacm_create_match_recall = create_query_body_match_recall(cacm_qry_data, cacm_rel, cacm_index,text_title_field)\n",
        "cacm_eval_body_match_recall = json.dumps(cacm_create_match_recall)\n",
        "cacm_res_match_recall_text_title = es.rank_eval(cacm_eval_body_match_recall,cacm_index)\n",
        "#print(json.dumps(cacm_res_match_recall, indent=4, sort_keys=True))\n",
        "\n",
        "#CISI\n",
        "cisi_create_match_recall = create_query_body_match_recall(cisi_qry_data, cisi_rel, cisi_index,title_field)\n",
        "cisi_eval_body_match_recall = json.dumps(cisi_create_match_recall)\n",
        "cisi_res_match_recall_title = es.rank_eval(cisi_eval_body_match_recall, cisi_index)\n",
        "#print(json.dumps(cisi_res_match_recall, indent=4, sort_keys=True))\n",
        "cisi_create_match_recall = create_query_body_match_recall(cisi_qry_data, cisi_rel, cisi_index,text_field)\n",
        "cisi_eval_body_match_recall = json.dumps(cisi_create_match_recall)\n",
        "cisi_res_match_recall_text = es.rank_eval(cisi_eval_body_match_recall, cisi_index)\n",
        "#print(json.dumps(cisi_res_match_recall, indent=4, sort_keys=True))\n",
        "cisi_create_match_recall = create_query_body_match_recall(cisi_qry_data, cisi_rel, cisi_index,text_title_field)\n",
        "cisi_eval_body_match_recall = json.dumps(cisi_create_match_recall)\n",
        "cisi_res_match_recall_text_title = es.rank_eval(cisi_eval_body_match_recall, cisi_index)\n",
        "#print(json.dumps(cisi_res_match_recall, indent=4, sort_keys=True))\n",
        "\n",
        "#Cranfield\n",
        "cran_create_match_recall = create_query_body_match_recall(cran_qry_data, cran_rel, cran_index,title_field)\n",
        "cran_eval_body_match_recall = json.dumps(cran_create_match_recall)\n",
        "cran_res_match_recall_title = es.rank_eval(cran_eval_body_match_recall, cran_index)\n",
        "#print(json.dumps(cran_create_match_recall, indent=4, sort_keys=True))\n",
        "cran_create_match_recall = create_query_body_match_recall(cran_qry_data, cran_rel, cran_index,text_field)\n",
        "cran_eval_body_match_recall = json.dumps(cran_create_match_recall)\n",
        "cran_res_match_recall_text = es.rank_eval(cran_eval_body_match_recall, cran_index)\n",
        "#print(json.dumps(cran_create_match_recall, indent=4, sort_keys=True))\n",
        "cran_create_match_recall = create_query_body_match_recall(cran_qry_data, cran_rel, cran_index,text_title_field)\n",
        "cran_eval_body_match_recall = json.dumps(cran_create_match_recall)\n",
        "cran_res_match_recall_text_title = es.rank_eval(cran_eval_body_match_recall, cran_index)\n",
        "#print(json.dumps(cran_create_match_recall, indent=4, sort_keys=True))\n",
        "\n",
        "#LISA\n",
        "lisa_create_match_recall = create_query_body_match_recall(lisa_qry_data, lisa_rel, lisa_index,title_field)\n",
        "lisa_eval_body_match_recall = json.dumps(lisa_create_match_recall)\n",
        "lisa_res_match_recall_title = es.rank_eval(lisa_eval_body_match_recall,lisa_index)\n",
        "#print(json.dumps(lisa_res_match_recall, indent=4, sort_keys=True))\n",
        "lisa_create_match_recall = create_query_body_match_recall(lisa_qry_data, lisa_rel, lisa_index,text_field)\n",
        "lisa_eval_body_match_recall = json.dumps(lisa_create_match_recall)\n",
        "lisa_res_match_recall_text = es.rank_eval(lisa_eval_body_match_recall,lisa_index)\n",
        "#print(json.dumps(lisa_res_match_recall, indent=4, sort_keys=True))\n",
        "lisa_create_match_recall = create_query_body_match_recall(lisa_qry_data, lisa_rel, lisa_index,text_title_field)\n",
        "lisa_eval_body_match_recall = json.dumps(lisa_create_match_recall)\n",
        "lisa_res_match_recall_text_title = es.rank_eval(lisa_eval_body_match_recall,lisa_index)\n",
        "#print(json.dumps(lisa_res_match_recall, indent=4, sort_keys=True))\n",
        "\n",
        "#Medline\n",
        "med_create_match_recall = create_query_body_match_recall(med_qry_data, med_rel, med_index,text_field)\n",
        "med_eval_body_match_recall = json.dumps(med_create_match_recall)\n",
        "med_res_match_recall_text = es.rank_eval(med_eval_body_match_recall, med_index)\n",
        "#print(json.dumps(med_res_match_recall, indent=4, sort_keys=True))\n",
        "\n",
        "#NPL\n",
        "npl_create_match_recall = create_query_body_match_recall(npl_qry_data, npl_rel, npl_index,text_field)\n",
        "npl_eval_body_match_recall = json.dumps(npl_create_match_recall)\n",
        "npl_res_match_recall_text = es.rank_eval(npl_eval_body_match_recall,npl_index)\n",
        "#print(json.dumps(npl_res_match_recall, indent=4, sort_keys=True))\n",
        "\n",
        "#TIME\n",
        "time_create_match_recall = create_query_body_match_recall(time_qry_data, time_rel, time_index,text_field)\n",
        "time_eval_body_match_recall = json.dumps(time_create_match_recall)\n",
        "time_res_match_recall_text = es.rank_eval(time_eval_body_match_recall,time_index)\n",
        "#print(json.dumps(time_res_match_recall, indent=4, sort_keys=True))"
      ],
      "execution_count": null,
      "outputs": []
    },
    {
      "cell_type": "markdown",
      "metadata": {
        "id": "keSi-TDWnxmF"
      },
      "source": [
        "**BERT Sentence Embbedings on 'title' field**"
      ]
    },
    {
      "cell_type": "code",
      "metadata": {
        "id": "Vijm2d9Uwou2",
        "colab": {
          "base_uri": "https://localhost:8080/"
        },
        "outputId": "9f32b8d3-147c-4936-8bef-e245966509c4"
      },
      "source": [
        "#use rank eval api, see https://elasticsearch-py.readthedocs.io/en/master/api.html?highlight=_rank_eval#elasticsearch.Elasticsearch.rank_eval \n",
        "#and https://www.elastic.co/guide/en/elasticsearch/reference/current/search-rank-eval.html#search-rank-eval\n",
        "\n",
        "from collections import defaultdict\n",
        "\n",
        "adi_index = 'bert-sentence-adi-corpus'\n",
        "cacm_index = 'bert-sentence-cacm-corpus'\n",
        "cisi_index = 'bert-sentence-cisi-corpus'\n",
        "cran_index = 'bert-sentence-cranfield-corpus'\n",
        "lisa_index = 'bert-sentence-lisa-corpus'\n",
        "# Medline, NPL and Time corpus are excluded because they don't have any titles\n",
        "\n",
        "# function to get normal match evaluation body \n",
        "\n",
        "def create_query_body_bert_title_recall(query_dict, rel_dict, index_name):\n",
        "  \"\"\"\n",
        "  The function creates a request for every query in query_dict and rates the relevant documents with rel_dict to 1.\n",
        "  The index name has to be the same as from the documents your looking at.\n",
        "  An evaluation body for the elasticsearch ranking API is returned.\n",
        "  \"\"\"\n",
        "  eval_body = {\n",
        "      \"requests\":'',\n",
        "      \"metric\": {\n",
        "          \"recall\": {\n",
        "          \"k\" : 20,\n",
        "          \"relevant_rating_threshold\": 1,\n",
        "          #\"ignore_unlabeled\": \"false\"\n",
        "          }\n",
        "         }\n",
        "      }\n",
        "  requests = [] \n",
        "  current_request = defaultdict(lambda: defaultdict())\n",
        "  current_rel = {\"_index\": index_name, \"_id\": '', \"rating\": int}\n",
        "  for query_ID, query_txt in query_dict.items():\n",
        "    current_query = {\n",
        "        \"query\" : {\n",
        "  \"script_score\": {\n",
        "    \"query\": {\"match_all\": {}},\n",
        "    \"script\": {\n",
        "      \"source\": \"cosineSimilarity(params.query_vector, doc['title_vector']) + 1.0\",\n",
        "      \"params\": {\"query_vector\": list(model.encode(query_txt['question']).astype(float))}\n",
        "    }\n",
        "  }\n",
        "  }\n",
        "    }\n",
        "    current_request[\"id\"] = 'Query_'+str(query_ID)\n",
        "    current_request[\"request\"] = current_query.copy()\n",
        "    current_request[\"ratings\"] = [{\n",
        "          \"_index\": index_name, \n",
        "          \"_id\": str(el) if type(el) != tuple else str(el[0]), \n",
        "          \"rating\": 1} for el in rel_dict[query_ID]]\n",
        "    requests.append(current_request.copy())\n",
        "  eval_body[\"requests\"] = requests\n",
        "  return eval_body\n",
        "\n",
        "\n",
        "# ADI\n",
        "\n",
        "adi_create_bert_title_recall = create_query_body_bert_title_recall(adi_qry_data, adi_rel, adi_index)\n",
        "adi_eval_body_bert_title_recall = json.dumps(adi_create_bert_title_recall)\n",
        "adi_res_bert_title_recall = es.rank_eval(adi_eval_body_bert_title_recall, adi_index)\n",
        "#print(json.dumps(adi_res_bert_title_recall, indent=4, sort_keys=True))\n",
        "\n",
        "# CACM\n",
        "\n",
        "cacm_create_bert_title_recall = create_query_body_bert_title_recall(cacm_qry_data, cacm_rel, cacm_index)\n",
        "cacm_eval_body_bert_title_recall = json.dumps(cacm_create_bert_title_recall)\n",
        "cacm_res_bert_title_recall = es.rank_eval(cacm_eval_body_bert_title_recall, cacm_index)\n",
        "#print(json.dumps(cacm_res_bert_title_recall, indent=4, sort_keys=True))\n",
        "\n",
        "# CISI\n",
        "\n",
        "cisi_create_bert_title_recall = create_query_body_bert_title_recall(cisi_qry_data, cisi_rel, cisi_index)\n",
        "cisi_eval_body_bert_title_recall = json.dumps(cisi_create_bert_title_recall)\n",
        "cisi_res_bert_title_recall = es.rank_eval(cisi_eval_body_bert_title_recall, cisi_index)\n",
        "#print(json.dumps(cisi_res_bert_title_recall, indent=4, sort_keys=True))\n",
        "\n",
        "# Cranfield\n",
        "\n",
        "cran_create_bert_title_recall = create_query_body_bert_title_recall(cran_qry_data, cran_rel, cran_index)\n",
        "cran_eval_body_bert_title_recall = json.dumps(cran_create_bert_title_recall)\n",
        "cran_res_bert_title_recall = es.rank_eval(cran_eval_body_bert_title_recall, cran_index)\n",
        "#print(json.dumps(cran_res_bert_title_recall, indent=4, sort_keys=True))\n",
        "\n",
        "# LISA\n",
        "\n",
        "lisa_create_bert_title_recall = create_query_body_bert_title_recall(lisa_qry_data, lisa_rel, lisa_index)\n",
        "lisa_eval_body_bert_title_recall = json.dumps(lisa_create_bert_title_recall)\n",
        "lisa_res_bert_title_recall = es.rank_eval(lisa_eval_body_bert_title_recall, lisa_index)\n",
        "#print(json.dumps(lisa_res_bert_title_recall, indent=4, sort_keys=True))"
      ],
      "execution_count": null,
      "outputs": [
        {
          "output_type": "stream",
          "text": [
            "/usr/local/lib/python3.6/dist-packages/elasticsearch/connection/base.py:193: ElasticsearchDeprecationWarning: The vector functions of the form function(query, doc['field']) are deprecated, and the form function(query, 'field') should be used instead. For example, cosineSimilarity(query, doc['field']) is replaced by cosineSimilarity(query, 'field').\n",
            "  warnings.warn(message, category=ElasticsearchDeprecationWarning)\n"
          ],
          "name": "stderr"
        }
      ]
    },
    {
      "cell_type": "markdown",
      "metadata": {
        "id": "XwxKPgOpLLQe"
      },
      "source": [
        "**Rerank with BERT on title field**"
      ]
    },
    {
      "cell_type": "code",
      "metadata": {
        "colab": {
          "base_uri": "https://localhost:8080/"
        },
        "id": "61qFSv7OLKYr",
        "outputId": "cc5de6a4-8621-4b47-fd74-bb201e97f7d7"
      },
      "source": [
        "#use rank eval api, see https://elasticsearch-py.readthedocs.io/en/master/api.html?highlight=_rank_eval#elasticsearch.Elasticsearch.rank_eval \n",
        "#and https://www.elastic.co/guide/en/elasticsearch/reference/current/search-rank-eval.html#search-rank-eval\n",
        "\n",
        "from collections import defaultdict\n",
        "\n",
        "adi_index = 'bert-sentence-adi-corpus'\n",
        "cacm_index = 'bert-sentence-cacm-corpus'\n",
        "cisi_index = 'bert-sentence-cisi-corpus'\n",
        "cran_index = 'bert-sentence-cranfield-corpus'\n",
        "lisa_index = 'bert-sentence-lisa-corpus'\n",
        "# Medline, NPL and Time corpus are excluded because they don't have any titles\n",
        "\n",
        "# function to get normal match evaluation body \n",
        "\n",
        "def create_query_body_rerank_title_recall(query_dict, rel_dict, index_name):\n",
        "  \"\"\"\n",
        "  The function creates a request for every query in query_dict and rates the relevant documents with rel_dict to 1.\n",
        "  The index name has to be the same as from the documents your looking at.\n",
        "  An evaluation body for the elasticsearch ranking API is returned.\n",
        "  \"\"\"\n",
        "  eval_body = {\n",
        "      \"requests\":'',\n",
        "      \"metric\": {\n",
        "          \"recall\": {\n",
        "          \"k\" : 20,\n",
        "          \"relevant_rating_threshold\": 1,\n",
        "          #\"ignore_unlabeled\": \"false\"\n",
        "          }\n",
        "         }\n",
        "      }\n",
        "  requests = [] \n",
        "  current_request = defaultdict(lambda: defaultdict())\n",
        "  current_rel = {\"_index\": index_name, \"_id\": '', \"rating\": int}\n",
        "  for query_ID, query_txt in query_dict.items():\n",
        "    current_query =  {\n",
        "  \"query\": {\n",
        "    \"multi_match\" : {\n",
        "                  \"query\" : query_txt['question'],\n",
        "                  \"fields\" : ['title']\n",
        "            }\n",
        "  },\n",
        "  \"rescore\" : {\n",
        "      \"window_size\" : 100,\n",
        "      \"query\" : {\n",
        "         \"rescore_query\" : {\n",
        "              \"script_score\": {\n",
        "    \"query\": {\"match_all\": {}},\n",
        "    \"script\": {\n",
        "      \"source\": \"cosineSimilarity(params.query_vector, doc['title_vector']) + 1.0\",\n",
        "      \"params\": {\"query_vector\": list(model.encode(query_txt['question']).astype(float))}\n",
        "    }\n",
        "            }\n",
        "      }\n",
        "   }\n",
        "}\n",
        "    }\n",
        "    current_request[\"id\"] = 'Query_'+str(query_ID)\n",
        "    current_request[\"request\"] = current_query.copy()\n",
        "    current_request[\"ratings\"] = [{\n",
        "          \"_index\": index_name, \n",
        "          \"_id\": str(el) if type(el) != tuple else str(el[0]), \n",
        "          \"rating\": 1} for el in rel_dict[query_ID]]\n",
        "    requests.append(current_request.copy())\n",
        "  eval_body[\"requests\"] = requests\n",
        "  return eval_body\n",
        "\n",
        "\n",
        "# ADI\n",
        "\n",
        "adi_create_rerank_title_recall = create_query_body_rerank_title_recall(adi_qry_data, adi_rel, adi_index)\n",
        "adi_eval_body_rerank_title_recall = json.dumps(adi_create_rerank_title_recall)\n",
        "adi_res_rerank_title_recall = es.rank_eval(adi_eval_body_rerank_title_recall, adi_index)\n",
        "#print(json.dumps(adi_res_rerank_title_recall, indent=4, sort_keys=True))\n",
        "\n",
        "# CACM\n",
        "\n",
        "cacm_create_rerank_title_recall = create_query_body_rerank_title_recall(cacm_qry_data, cacm_rel, cacm_index)\n",
        "cacm_eval_body_rerank_title_recall = json.dumps(cacm_create_rerank_title_recall)\n",
        "cacm_res_rerank_title_recall = es.rank_eval(cacm_eval_body_rerank_title_recall, cacm_index)\n",
        "#print(json.dumps(cacm_res_rerank_title_recall, indent=4, sort_keys=True))\n",
        "\n",
        "# CISI\n",
        "\n",
        "cisi_create_rerank_title_recall = create_query_body_rerank_title_recall(cisi_qry_data, cisi_rel, cisi_index)\n",
        "cisi_eval_body_rerank_title_recall = json.dumps(cisi_create_rerank_title_recall)\n",
        "cisi_res_rerank_title_recall = es.rank_eval(cisi_eval_body_rerank_title_recall, cisi_index)\n",
        "#print(json.dumps(cisi_res_rerank_title_recall, indent=4, sort_keys=True))\n",
        "\n",
        "# Cranfield\n",
        "\n",
        "cran_create_rerank_title_recall = create_query_body_rerank_title_recall(cran_qry_data, cran_rel, cran_index)\n",
        "cran_eval_body_rerank_title_recall = json.dumps(cran_create_rerank_title_recall)\n",
        "cran_res_rerank_title_recall = es.rank_eval(cran_eval_body_rerank_title_recall, cran_index)\n",
        "#print(json.dumps(cran_res_rerank_title_recall, indent=4, sort_keys=True))\n",
        "\n",
        "# LISA\n",
        "\n",
        "lisa_create_rerank_title_recall = create_query_body_rerank_title_recall(lisa_qry_data, lisa_rel, lisa_index)\n",
        "lisa_eval_body_rerank_title_recall = json.dumps(lisa_create_rerank_title_recall)\n",
        "lisa_res_rerank_title_recall = es.rank_eval(lisa_eval_body_rerank_title_recall, lisa_index)\n",
        "#print(json.dumps(lisa_res_rerank_title_recall, indent=4, sort_keys=True))"
      ],
      "execution_count": null,
      "outputs": [
        {
          "output_type": "stream",
          "text": [
            "/usr/local/lib/python3.6/dist-packages/elasticsearch/connection/base.py:193: ElasticsearchDeprecationWarning: The vector functions of the form function(query, doc['field']) are deprecated, and the form function(query, 'field') should be used instead. For example, cosineSimilarity(query, doc['field']) is replaced by cosineSimilarity(query, 'field').\n",
            "  warnings.warn(message, category=ElasticsearchDeprecationWarning)\n"
          ],
          "name": "stderr"
        }
      ]
    },
    {
      "cell_type": "markdown",
      "metadata": {
        "id": "cKJJH-CaIy9J"
      },
      "source": [
        "**BERT Transformer on 'text' field**"
      ]
    },
    {
      "cell_type": "code",
      "metadata": {
        "id": "BJGIESLqMmFv"
      },
      "source": [
        "#use rank eval api, see https://elasticsearch-py.readthedocs.io/en/master/api.html?highlight=_rank_eval#elasticsearch.Elasticsearch.rank_eval \n",
        "#and https://www.elastic.co/guide/en/elasticsearch/reference/current/search-rank-eval.html#search-rank-eval\n",
        "\n",
        "from collections import defaultdict\n",
        "\n",
        "adi_index = 'bert-sentence-adi-corpus'\n",
        "cacm_index = 'bert-sentence-cacm-corpus'\n",
        "cisi_index = 'bert-sentence-cisi-corpus'\n",
        "cran_index = 'bert-sentence-cranfield-corpus'\n",
        "lisa_index = 'bert-sentence-lisa-corpus'\n",
        "med_index = 'bert-sentence-medline-corpus'\n",
        "npl_index = 'bert-sentence-npl-corpus'\n",
        "time_index = 'bert-sentence-time-corpus'\n",
        "\n",
        "# function to get normal match evaluation body \n",
        "\n",
        "def create_query_body_bert_text_recall(query_dict, rel_dict, index_name):\n",
        "  \"\"\"\n",
        "  The function creates a request for every query in query_dict and rates the relevant documents with rel_dict to 1.\n",
        "  The index name has to be the same as from the documents your looking at.\n",
        "  An evaluation body for the elasticsearch ranking API is returned.\n",
        "  \"\"\"\n",
        "  eval_body = {\n",
        "      \"requests\":'',\n",
        "      \"metric\": {\n",
        "          \"recall\": {\n",
        "          \"k\" : 20,\n",
        "          \"relevant_rating_threshold\": 1,\n",
        "          #\"ignore_unlabeled\": \"false\"\n",
        "          }\n",
        "         }\n",
        "      }\n",
        "  requests = [] \n",
        "  current_request = defaultdict(lambda: defaultdict())\n",
        "  current_rel = {\"_index\": index_name, \"_id\": '', \"rating\": int}\n",
        "  for query_ID, query_txt in query_dict.items():\n",
        "    current_query = {\n",
        "        \"query\": {\n",
        "            \"nested\": {\n",
        "                \"path\": \"text_vector\",\n",
        "                \"score_mode\": \"min\", \n",
        "                \"query\": {\n",
        "                    \"function_score\": {\n",
        "                        \"script_score\": {\n",
        "                            \"script\": {\n",
        "                                \"source\": \"1.0 + cosineSimilarity(params.query_vector, 'text_vector.vector')\",\n",
        "                                \"params\": {\"query_vector\": list(model.encode(query_txt['question']).astype(float))}\n",
        "                                }\n",
        "                                }\n",
        "                                }\n",
        "                          }\n",
        "                       }\n",
        "                  }\n",
        "                  }\n",
        "    current_request[\"id\"] = 'Query_'+str(query_ID)\n",
        "    current_request[\"request\"] = current_query.copy()\n",
        "    current_request[\"ratings\"] = [{\n",
        "          \"_index\": index_name, \n",
        "          \"_id\": str(el) if type(el) != tuple else str(el[0]), \n",
        "          \"rating\": 1} for el in rel_dict[query_ID]]\n",
        "    requests.append(current_request.copy())\n",
        "  eval_body[\"requests\"] = requests\n",
        "  return eval_body\n",
        "\n",
        "# ADI\n",
        "\n",
        "adi_create_bert_text_recall = create_query_body_bert_text_recall(adi_qry_data, adi_rel, adi_index)\n",
        "adi_eval_body_bert_text_recall = json.dumps(adi_create_bert_text_recall)\n",
        "adi_res_bert_text_recall = es.rank_eval(adi_eval_body_bert_text_recall, adi_index)\n",
        "#print(json.dumps(adi_res, indent=4, sort_keys=True))\n",
        "\n",
        "# CACM\n",
        "\n",
        "cacm_create_bert_text_recall = create_query_body_bert_text_recall(cacm_qry_data, cacm_rel, cacm_index)\n",
        "cacm_eval_body_bert_text_recall = json.dumps(cacm_create_bert_text_recall)\n",
        "cacm_res_bert_text_recall = es.rank_eval(cacm_eval_body_bert_text_recall, cacm_index)\n",
        "#print(json.dumps(cacm_res, indent=4, sort_keys=True))\n",
        "\n",
        "# CISI\n",
        "\n",
        "cisi_create_bert_text_recall = create_query_body_bert_text_recall(cisi_qry_data, cisi_rel, cisi_index)\n",
        "cisi_eval_body_bert_text_recall = json.dumps(cisi_create_bert_text_recall)\n",
        "cisi_res_bert_text_recall = es.rank_eval(cisi_eval_body_bert_text_recall, cisi_index)\n",
        "#print(json.dumps(cisi_res, indent=4, sort_keys=True))\n",
        "\n",
        "# Cranfield\n",
        "\n",
        "cran_create_bert_text_recall = create_query_body_bert_text_recall(cran_qry_data, cran_rel, cran_index)\n",
        "cran_eval_body_bert_text_recall = json.dumps(cran_create_bert_text_recall)\n",
        "cran_res_bert_text_recall = es.rank_eval(cran_eval_body_bert_text_recall, cran_index, request_timeout=160)\n",
        "#print(json.dumps(cran_res_bert_text_recall, indent=4, sort_keys=True))\n",
        "\n",
        "# LISA\n",
        "\n",
        "lisa_create_bert_text_recall = create_query_body_bert_text_recall(lisa_qry_data, lisa_rel, lisa_index)\n",
        "lisa_eval_body_bert_text_recall = json.dumps(lisa_create_bert_text_recall)\n",
        "lisa_res_bert_text_recall = es.rank_eval(lisa_eval_body_bert_text_recall, lisa_index)\n",
        "#print(json.dumps(lisa_res, indent=4, sort_keys=True))\n",
        "\n",
        "# Medline\n",
        "\n",
        "med_create_bert_text_recall = create_query_body_bert_text_recall(med_qry_data, med_rel, med_index)\n",
        "med_eval_body_bert_text_recall = json.dumps(med_create_bert_text_recall)\n",
        "med_res_bert_text_recall = es.rank_eval(med_eval_body_bert_text_recall, med_index)\n",
        "#print(json.dumps(med_res, indent=4, sort_keys=True))\n",
        "\n",
        "# NPL\n",
        "\n",
        "npl_create_bert_text_recall = create_query_body_bert_text_recall(npl_qry_data, npl_rel, npl_index)\n",
        "npl_eval_body_bert_text_recall = json.dumps(npl_create_bert_text_recall)\n",
        "npl_res_bert_text_recall = es.rank_eval(npl_eval_body_bert_text_recall, npl_index)\n",
        "#print(json.dumps(npl_res, indent=4, sort_keys=True))\n",
        "\n",
        "# Time\n",
        "\n",
        "time_create_bert_text_recall = create_query_body_bert_text_recall(time_qry_data, time_rel, time_index)\n",
        "time_eval_body_bert_text_recall = json.dumps(time_create_bert_text_recall)\n",
        "time_res_bert_text_recall = es.rank_eval(time_eval_body_bert_text_recall, time_index)\n",
        "#print(json.dumps(time_res, indent=4, sort_keys=True))"
      ],
      "execution_count": null,
      "outputs": []
    },
    {
      "cell_type": "markdown",
      "metadata": {
        "id": "CxZIfWk-LDfJ"
      },
      "source": [
        "**Rerank with BERT on text field**"
      ]
    },
    {
      "cell_type": "code",
      "metadata": {
        "id": "7XThXyyeJlah"
      },
      "source": [
        "#use rank eval api, see https://elasticsearch-py.readthedocs.io/en/master/api.html?highlight=_rank_eval#elasticsearch.Elasticsearch.rank_eval \n",
        "#and https://www.elastic.co/guide/en/elasticsearch/reference/current/search-rank-eval.html#search-rank-eval\n",
        "\n",
        "from collections import defaultdict\n",
        "\n",
        "adi_index = 'bert-sentence-adi-corpus'\n",
        "cacm_index = 'bert-sentence-cacm-corpus'\n",
        "cisi_index = 'bert-sentence-cisi-corpus'\n",
        "cran_index = 'bert-sentence-cranfield-corpus'\n",
        "lisa_index = 'bert-sentence-lisa-corpus'\n",
        "med_index = 'bert-sentence-medline-corpus'\n",
        "npl_index = 'bert-sentence-npl-corpus'\n",
        "time_index = 'bert-sentence-time-corpus'\n",
        "\n",
        "# function to get normal match evaluation body \n",
        "\n",
        "def create_query_body_rerank_text_recall(query_dict, rel_dict, index_name):\n",
        "  \"\"\"\n",
        "  The function creates a request for every query in query_dict and rates the relevant documents with rel_dict to 1.\n",
        "  The index name has to be the same as from the documents your looking at.\n",
        "  An evaluation body for the elasticsearch ranking API is returned.\n",
        "  \"\"\"\n",
        "  eval_body = {\n",
        "      \"requests\":'',\n",
        "      \"metric\": {\n",
        "          \"recall\": {\n",
        "          \"k\" : 20,\n",
        "          \"relevant_rating_threshold\": 1,\n",
        "          #\"ignore_unlabeled\": \"false\"\n",
        "          }\n",
        "         }\n",
        "      }\n",
        "  requests = [] \n",
        "  current_request = defaultdict(lambda: defaultdict())\n",
        "  current_rel = {\"_index\": index_name, \"_id\": '', \"rating\": int}\n",
        "  for query_ID, query_txt in query_dict.items():\n",
        "    current_query = {\n",
        "  \"query\": {\n",
        "    \"multi_match\" : {\n",
        "                  \"query\" : query_txt['question'],\n",
        "                  \"fields\" : ['text']\n",
        "            }\n",
        "  },\n",
        "  \"rescore\" : {\n",
        "      \"window_size\" : 100,\n",
        "      \"query\": {\n",
        "          \"rescore_query\" : {\n",
        "            \"nested\": {\n",
        "                \"path\": \"text_vector\",\n",
        "                \"score_mode\": \"min\", \n",
        "                \"query\": {\n",
        "                    \"function_score\": {\n",
        "                        \"script_score\": {\n",
        "                            \"script\": {\n",
        "                                \"source\": \"1.0 + cosineSimilarity(params.query_vector, 'text_vector.vector')\",\n",
        "                                \"params\": {\"query_vector\": list(model.encode(query_txt['question']).astype(float))}\n",
        "                                }\n",
        "                                }\n",
        "                                }\n",
        "                          }\n",
        "                       }\n",
        "            }\n",
        "                  }\n",
        "}\n",
        "    }\n",
        "    current_request[\"id\"] = 'Query_'+str(query_ID)\n",
        "    current_request[\"request\"] = current_query.copy()\n",
        "    current_request[\"ratings\"] = [{\n",
        "          \"_index\": index_name, \n",
        "          \"_id\": str(el) if type(el) != tuple else str(el[0]), \n",
        "          \"rating\": 1} for el in rel_dict[query_ID]]\n",
        "    requests.append(current_request.copy())\n",
        "  eval_body[\"requests\"] = requests\n",
        "  return eval_body\n",
        "\n",
        "# ADI\n",
        "\n",
        "adi_create_rerank_text_recall = create_query_body_rerank_text_recall(adi_qry_data, adi_rel, adi_index)\n",
        "adi_eval_body_rerank_text_recall = json.dumps(adi_create_rerank_text_recall)\n",
        "adi_res_rerank_text_recall = es.rank_eval(adi_eval_body_rerank_text_recall, adi_index)\n",
        "#print(json.dumps(adi_res_rerank_text_recall, indent=4, sort_keys=True))\n",
        "\n",
        "# CACM\n",
        "\n",
        "cacm_create_rerank_text_recall = create_query_body_rerank_text_recall(cacm_qry_data, cacm_rel, cacm_index)\n",
        "cacm_eval_body_rerank_text_recall = json.dumps(cacm_create_rerank_text_recall)\n",
        "cacm_res_rerank_text_recall = es.rank_eval(cacm_eval_body_rerank_text_recall, cacm_index)\n",
        "#print(json.dumps(cacm_res_rerank_text_recall, indent=4, sort_keys=True))\n",
        "\n",
        "# CISI\n",
        "\n",
        "cisi_create_rerank_text_recall = create_query_body_rerank_text_recall(cisi_qry_data, cisi_rel, cisi_index)\n",
        "cisi_eval_body_rerank_text_recall = json.dumps(cisi_create_rerank_text_recall)\n",
        "cisi_res_rerank_text_recall = es.rank_eval(cisi_eval_body_rerank_text_recall, cisi_index)\n",
        "#print(json.dumps(cisi_res_rerank_text_recall, indent=4, sort_keys=True))\n",
        "\n",
        "# Cranfield\n",
        "\n",
        "cran_create_rerank_text_recall = create_query_body_rerank_text_recall(cran_qry_data, cran_rel, cran_index)\n",
        "cran_eval_body_rerank_text_recall = json.dumps(cran_create_rerank_text_recall)\n",
        "cran_res_rerank_text_recall = es.rank_eval(cran_eval_body_rerank_text_recall, cran_index)\n",
        "#print(json.dumps(cran_res_rerank_text_recall, indent=4, sort_keys=True))\n",
        "\n",
        "# LISA\n",
        "\n",
        "lisa_create_rerank_text_recall = create_query_body_rerank_text_recall(lisa_qry_data, lisa_rel, lisa_index)\n",
        "lisa_eval_body_rerank_text_recall = json.dumps(lisa_create_rerank_text_recall)\n",
        "lisa_res_rerank_text_recall = es.rank_eval(lisa_eval_body_rerank_text_recall, lisa_index)\n",
        "#print(json.dumps(lisa_res_rerank_text_recall, indent=4, sort_keys=True))\n",
        "\n",
        "# Medline\n",
        "\n",
        "med_create_rerank_text_recall = create_query_body_rerank_text_recall(med_qry_data, med_rel, med_index)\n",
        "med_eval_body_rerank_text_recall = json.dumps(med_create_rerank_text_recall)\n",
        "med_res_rerank_text_recall = es.rank_eval(med_eval_body_rerank_text_recall, med_index)\n",
        "#print(json.dumps(med_res_rerank_text_recall, indent=4, sort_keys=True))\n",
        "\n",
        "# NPL\n",
        "\n",
        "npl_create_rerank_text_recall = create_query_body_rerank_text_recall(npl_qry_data, npl_rel, npl_index)\n",
        "npl_eval_body_rerank_text_recall = json.dumps(npl_create_rerank_text_recall)\n",
        "npl_res_rerank_text_recall = es.rank_eval(npl_eval_body_rerank_text_recall, npl_index)\n",
        "#print(json.dumps(npl_res_rerank_text_recall, indent=4, sort_keys=True))\n",
        "\n",
        "# Time\n",
        "\n",
        "time_create_rerank_text_recall = create_query_body_rerank_text_recall(time_qry_data, time_rel, time_index)\n",
        "time_eval_body_rerank_text_recall = json.dumps(time_create_rerank_text_recall)\n",
        "time_res_rerank_text_recall = es.rank_eval(time_eval_body_rerank_text_recall, time_index)\n",
        "#print(json.dumps(time_res_rerank_text_recall, indent=4, sort_keys=True))"
      ],
      "execution_count": null,
      "outputs": []
    },
    {
      "cell_type": "markdown",
      "metadata": {
        "id": "DuTM-6zybmu8"
      },
      "source": [
        "**Complex Rerank Query**"
      ]
    },
    {
      "cell_type": "code",
      "metadata": {
        "colab": {
          "base_uri": "https://localhost:8080/"
        },
        "id": "Z5lQwfbtbpFL",
        "outputId": "15e1a370-86d6-454c-ea05-842e79f087a8"
      },
      "source": [
        "#use rank eval api, see https://elasticsearch-py.readthedocs.io/en/master/api.html?highlight=_rank_eval#elasticsearch.Elasticsearch.rank_eval \n",
        "#and https://www.elastic.co/guide/en/elasticsearch/reference/current/search-rank-eval.html#search-rank-eval\n",
        "\n",
        "from collections import defaultdict\n",
        "\n",
        "adi_index = 'bert-sentence-adi-corpus'\n",
        "cacm_index = 'bert-sentence-cacm-corpus'\n",
        "cisi_index = 'bert-sentence-cisi-corpus'\n",
        "cran_index = 'bert-sentence-cranfield-corpus'\n",
        "lisa_index = 'bert-sentence-lisa-corpus'\n",
        "med_index = 'bert-sentence-medline-corpus'\n",
        "npl_index = 'bert-sentence-npl-corpus'\n",
        "time_index = 'bert-sentence-time-corpus'\n",
        "\n",
        "query_weight = 0.7 # has to be float\n",
        "rescore_query_weight = 3.5 # has to be float\n",
        "\n",
        "# function to get normal match evaluation body \n",
        "\n",
        "def create_query_body_complex_rerank_recall(query_dict, rel_dict, index_name):\n",
        "  \"\"\"\n",
        "  The function creates a request for every query in query_dict and rates the relevant documents with rel_dict to 1.\n",
        "  The index name has to be the same as from the documents your looking at.\n",
        "  An evaluation body for the elasticsearch ranking API is returned.\n",
        "  \"\"\"\n",
        "  eval_body = {\n",
        "      \"requests\":'',\n",
        "      \"metric\": {\n",
        "          \"recall\": {\n",
        "          \"k\" : 20,\n",
        "          \"relevant_rating_threshold\": 1,\n",
        "          #\"ignore_unlabeled\": \"false\"\n",
        "          }\n",
        "         }\n",
        "      }\n",
        "  requests = [] \n",
        "  current_request = defaultdict(lambda: defaultdict())\n",
        "  current_rel = {\"_index\": index_name, \"_id\": '', \"rating\": int}\n",
        "  for query_ID, query_txt in query_dict.items():\n",
        "    current_query = {\n",
        "  \"query\": {\n",
        "    \"multi_match\" : {\n",
        "                  \"query\" : query_txt['question'],\n",
        "                  \"fields\" : ['text','title']\n",
        "            }\n",
        "  },\n",
        "  \"rescore\" :  [\n",
        "                {\n",
        "      \"window_size\" : 100,\n",
        "      \"query\" : {\n",
        "         \"rescore_query\" : {\n",
        "              \"script_score\": {\n",
        "    \"query\": {\"match_all\": {}},\n",
        "    \"script\": {\n",
        "      \"source\": \"cosineSimilarity(params.query_vector, doc['title_vector']) + 1.0\",\n",
        "      \"params\": {\"query_vector\": list(model.encode(query_txt['question']).astype(float))}\n",
        "    }\n",
        "            }\n",
        "      },\n",
        "         \"query_weight\" : query_weight,\n",
        "         \"rescore_query_weight\" : rescore_query_weight\n",
        "   }\n",
        "},\n",
        "                {\n",
        "      \"window_size\" : 100,\n",
        "      \"query\": {\n",
        "          \"rescore_query\" : {\n",
        "            \"nested\": {\n",
        "                \"path\": \"text_vector\",\n",
        "                \"score_mode\": \"min\", \n",
        "                \"query\": {\n",
        "                    \"function_score\": {\n",
        "                        \"script_score\": {\n",
        "                            \"script\": {\n",
        "                                \"source\": \"1.0 + cosineSimilarity(params.query_vector, 'text_vector.vector')\",\n",
        "                                \"params\": {\"query_vector\": list(model.encode(query_txt['question']).astype(float))}\n",
        "                                }\n",
        "                                }\n",
        "                                }\n",
        "                          }\n",
        "                       }\n",
        "            }\n",
        "                  }\n",
        "}  \n",
        "  ]}\n",
        "    current_request[\"id\"] = 'Query_'+str(query_ID)\n",
        "    current_request[\"request\"] = current_query.copy()\n",
        "    current_request[\"ratings\"] = [{\n",
        "          \"_index\": index_name, \n",
        "          \"_id\": str(el) if type(el) != tuple else str(el[0]), \n",
        "          \"rating\": 1} for el in rel_dict[query_ID]]\n",
        "    requests.append(current_request.copy())\n",
        "  eval_body[\"requests\"] = requests\n",
        "  return eval_body\n",
        "\n",
        "# ADI\n",
        "\n",
        "adi_create_complex_rerank_recall = create_query_body_complex_rerank_recall(adi_qry_data, adi_rel, adi_index)\n",
        "adi_eval_body_complex_rerank_recall = json.dumps(adi_create_complex_rerank_recall)\n",
        "adi_res_complex_rerank_recall = es.rank_eval(adi_eval_body_complex_rerank_recall, adi_index)\n",
        "#print(json.dumps(adi_res_complex_rerank_recall, indent=4, sort_keys=True))\n",
        "\n",
        "# CACM\n",
        "\n",
        "cacm_create_complex_rerank_recall = create_query_body_complex_rerank_recall(cacm_qry_data, cacm_rel, cacm_index)\n",
        "cacm_eval_body_complex_rerank_recall = json.dumps(cacm_create_complex_rerank_recall)\n",
        "cacm_res_complex_rerank_recall = es.rank_eval(cacm_eval_body_complex_rerank_recall, cacm_index)\n",
        "#print(json.dumps(cacm_res_complex_rerank_recall, indent=4, sort_keys=True))\n",
        "\n",
        "# CISI\n",
        "\n",
        "cisi_create_complex_rerank_recall = create_query_body_complex_rerank_recall(cisi_qry_data, cisi_rel, cisi_index)\n",
        "cisi_eval_body_complex_rerank_recall = json.dumps(cisi_create_complex_rerank_recall)\n",
        "cisi_res_complex_rerank_recall = es.rank_eval(cisi_eval_body_complex_rerank_recall, cisi_index)\n",
        "#print(json.dumps(cisi_res_complex_rerank_recall, indent=4, sort_keys=True))\n",
        "\n",
        "# Cranfield\n",
        "\n",
        "cran_create_complex_rerank_recall = create_query_body_complex_rerank_recall(cran_qry_data, cran_rel, cran_index)\n",
        "cran_eval_body_complex_rerank_recall = json.dumps(cran_create_complex_rerank_recall)\n",
        "cran_res_complex_rerank_recall = es.rank_eval(cran_eval_body_complex_rerank_recall, cran_index)\n",
        "#print(json.dumps(cran_res_complex_rerank_recall, indent=4, sort_keys=True))\n",
        "\n",
        "# LISA\n",
        "\n",
        "lisa_create_complex_rerank_recall = create_query_body_complex_rerank_recall(lisa_qry_data, lisa_rel, lisa_index)\n",
        "lisa_eval_body_complex_rerank_recall = json.dumps(lisa_create_complex_rerank_recall)\n",
        "lisa_res_complex_rerank_recall = es.rank_eval(lisa_eval_body_complex_rerank_recall, lisa_index)\n",
        "#print(json.dumps(lisa_res_complex_rerank_recall, indent=4, sort_keys=True))"
      ],
      "execution_count": null,
      "outputs": [
        {
          "output_type": "stream",
          "text": [
            "/usr/local/lib/python3.6/dist-packages/elasticsearch/connection/base.py:193: ElasticsearchDeprecationWarning: The vector functions of the form function(query, doc['field']) are deprecated, and the form function(query, 'field') should be used instead. For example, cosineSimilarity(query, doc['field']) is replaced by cosineSimilarity(query, 'field').\n",
            "  warnings.warn(message, category=ElasticsearchDeprecationWarning)\n"
          ],
          "name": "stderr"
        }
      ]
    },
    {
      "cell_type": "markdown",
      "metadata": {
        "id": "kuHz0wJvFBzW"
      },
      "source": [
        "### Precision\n",
        "\n",
        "In this section we only evaluate the Precision scores."
      ]
    },
    {
      "cell_type": "markdown",
      "metadata": {
        "id": "tfC6EgJdFBza"
      },
      "source": [
        "**Multi Match Query**\n",
        "\n",
        "Here we evaluate the data with the [\"multi_match\"](https://pragmalingu.de/docs/experiments/experiment1#standard-elasticsearch) option of elastic search:"
      ]
    },
    {
      "cell_type": "code",
      "metadata": {
        "id": "8dvtBA_NFBzc"
      },
      "source": [
        "#use rank eval api, see https://elasticsearch-py.readthedocs.io/en/master/api.html?highlight=_rank_eval#elasticsearch.Elasticsearch.rank_eval \n",
        "#and https://www.elastic.co/guide/en/elasticsearch/reference/current/query-dsl-simple-query-string-query.html \n",
        "\n",
        "import json\n",
        "from collections import defaultdict\n",
        "\n",
        "adi_index = 'adi-corpus'\n",
        "cacm_index = 'cacm-corpus'\n",
        "cisi_index = 'cisi-corpus'\n",
        "cran_index = 'cranfield-corpus'\n",
        "lisa_index = 'lisa-corpus'\n",
        "med_index = 'medline-corpus'\n",
        "npl_index = 'npl-corpus'\n",
        "time_index = 'time-corpus'\n",
        "\n",
        "text_field = ['text']\n",
        "title_field = ['title']\n",
        "text_title_field = ['title','text']\n",
        "\n",
        "\n",
        "#function to get normal match evaluation body \n",
        "def create_query_body_match_precision(query_dict, rel_dict, index_name, field):\n",
        "  \"\"\"\n",
        "  The function creates a request for every query in query_dict and rates the relevant documents with rel_dict to 1.\n",
        "  The index name has to be the same as from the documents your looking at.\n",
        "  An evaluation body for the elasticsearch ranking API is returned.\n",
        "  \"\"\"\n",
        "  eval_body = {\n",
        "      \"requests\": '',\n",
        "      \"metric\": {\n",
        "          \"precision\": {\n",
        "              \"relevant_rating_threshold\": 1,\n",
        "              \"k\": 20\n",
        "              }\n",
        "      }\n",
        "  }\n",
        "  requests = [] \n",
        "  current_request = defaultdict(lambda: defaultdict())\n",
        "  current_rel = {\"_index\": index_name, \"_id\": '', \"rating\": int}\n",
        "  for query_ID, query_txt in query_dict.items():\n",
        "    current_query = {\"query\": { \"multi_match\": { \"query\": '' , \"fields\" : field}}}\n",
        "    current_query[\"query\"][\"multi_match\"][\"query\"] = query_txt['question']\n",
        "    current_request[\"id\"] = 'Query_'+str(query_ID)\n",
        "    current_request[\"request\"] = current_query.copy()\n",
        "    current_request[\"ratings\"] = [{\"_index\": index_name, \"_id\": str(el), \"rating\": 1} for el in rel_dict[query_ID]]\n",
        "    requests.append(current_request.copy())\n",
        "  eval_body[\"requests\"] = requests\n",
        "  return eval_body\n",
        "\n",
        "\n",
        "#ADI\n",
        "adi_create_match_precision= create_query_body_match_precision(adi_qry_data, adi_rel, adi_index,title_field)\n",
        "adi_eval_body_match_precision = json.dumps(adi_create_match_precision)\n",
        "adi_res_match_precision_title = es.rank_eval(adi_eval_body_match_precision, adi_index)\n",
        "#print(json.dumps(adi_res_match_precision, indent=4, sort_keys=True))\n",
        "adi_create_match_precision= create_query_body_match_precision(adi_qry_data, adi_rel, adi_index,text_field)\n",
        "adi_eval_body_match_precision = json.dumps(adi_create_match_precision)\n",
        "adi_res_match_precision_text = es.rank_eval(adi_eval_body_match_precision, adi_index)\n",
        "#print(json.dumps(adi_res_match_precision, indent=4, sort_keys=True))\n",
        "adi_create_match_precision= create_query_body_match_precision(adi_qry_data, adi_rel, adi_index,text_title_field)\n",
        "adi_eval_body_match_precision = json.dumps(adi_create_match_precision)\n",
        "adi_res_match_precision_text_title = es.rank_eval(adi_eval_body_match_precision, adi_index)\n",
        "#print(json.dumps(adi_res_match_precision, indent=4, sort_keys=True))\n",
        "\n",
        "#CACM\n",
        "cacm_create_match_precision = create_query_body_match_precision(cacm_qry_data, cacm_rel, cacm_index,title_field)\n",
        "cacm_eval_body_match_precision = json.dumps(cacm_create_match_precision)\n",
        "cacm_res_match_precision_title = es.rank_eval(cacm_eval_body_match_precision,cacm_index)\n",
        "#print(json.dumps(cacm_res_match_precision, indent=4, sort_keys=True))\n",
        "cacm_create_match_precision = create_query_body_match_precision(cacm_qry_data, cacm_rel, cacm_index,text_field)\n",
        "cacm_eval_body_match_precision = json.dumps(cacm_create_match_precision)\n",
        "cacm_res_match_precision_text = es.rank_eval(cacm_eval_body_match_precision,cacm_index)\n",
        "#print(json.dumps(cacm_res_match_precision, indent=4, sort_keys=True))\n",
        "cacm_create_match_precision = create_query_body_match_precision(cacm_qry_data, cacm_rel, cacm_index,text_title_field)\n",
        "cacm_eval_body_match_precision = json.dumps(cacm_create_match_precision)\n",
        "cacm_res_match_precision_text_title = es.rank_eval(cacm_eval_body_match_precision,cacm_index)\n",
        "#print(json.dumps(cacm_res_match_precision, indent=4, sort_keys=True))\n",
        "\n",
        "#CISI\n",
        "cisi_create_match_precision = create_query_body_match_precision(cisi_qry_data, cisi_rel, cisi_index,title_field)\n",
        "cisi_eval_body_match_precision = json.dumps(cisi_create_match_precision)\n",
        "cisi_res_match_precision_title = es.rank_eval(cisi_eval_body_match_precision, cisi_index)\n",
        "#print(json.dumps(cisi_res_match_precision, indent=4, sort_keys=True))\n",
        "cisi_create_match_precision = create_query_body_match_precision(cisi_qry_data, cisi_rel, cisi_index,text_field)\n",
        "cisi_eval_body_match_precision = json.dumps(cisi_create_match_precision)\n",
        "cisi_res_match_precision_text = es.rank_eval(cisi_eval_body_match_precision, cisi_index)\n",
        "#print(json.dumps(cisi_res_match_precision, indent=4, sort_keys=True))\n",
        "cisi_create_match_precision = create_query_body_match_precision(cisi_qry_data, cisi_rel, cisi_index,text_title_field)\n",
        "cisi_eval_body_match_precision = json.dumps(cisi_create_match_precision)\n",
        "cisi_res_match_precision_text_title = es.rank_eval(cisi_eval_body_match_precision, cisi_index)\n",
        "#print(json.dumps(cisi_res_match_precision, indent=4, sort_keys=True))\n",
        "\n",
        "#Cranfield\n",
        "cran_create_match_precision = create_query_body_match_precision(cran_qry_data, cran_rel, cran_index,title_field)\n",
        "cran_eval_body_match_precision = json.dumps(cran_create_match_precision)\n",
        "cran_res_match_precision_title = es.rank_eval(cran_eval_body_match_precision, cran_index)\n",
        "#print(json.dumps(cran_res_match_precision, indent=4, sort_keys=True))\n",
        "cran_create_match_precision = create_query_body_match_precision(cran_qry_data, cran_rel, cran_index,text_field)\n",
        "cran_eval_body_match_precision = json.dumps(cran_create_match_precision)\n",
        "cran_res_match_precision_text = es.rank_eval(cran_eval_body_match_precision, cran_index)\n",
        "#print(json.dumps(cran_res_match_precision, indent=4, sort_keys=True))\n",
        "cran_create_match_precision = create_query_body_match_precision(cran_qry_data, cran_rel, cran_index,text_title_field)\n",
        "cran_eval_body_match_precision = json.dumps(cran_create_match_precision)\n",
        "cran_res_match_precision_text_title = es.rank_eval(cran_eval_body_match_precision, cran_index)\n",
        "#print(json.dumps(cran_res_match_precision, indent=4, sort_keys=True))\n",
        "\n",
        "#LISA\n",
        "lisa_create_match_precision = create_query_body_match_precision(lisa_qry_data, lisa_rel, lisa_index,title_field)\n",
        "lisa_eval_body_match_precision = json.dumps(lisa_create_match_precision)\n",
        "lisa_res_match_precision_title = es.rank_eval(lisa_eval_body_match_precision,lisa_index)\n",
        "#print(json.dumps(lisa_res_match_precision, indent=4, sort_keys=True))\n",
        "lisa_create_match_precision = create_query_body_match_precision(lisa_qry_data, lisa_rel, lisa_index,text_field)\n",
        "lisa_eval_body_match_precision = json.dumps(lisa_create_match_precision)\n",
        "lisa_res_match_precision_text = es.rank_eval(lisa_eval_body_match_precision,lisa_index)\n",
        "#print(json.dumps(lisa_res_match_precision, indent=4, sort_keys=True))\n",
        "lisa_create_match_precision = create_query_body_match_precision(lisa_qry_data, lisa_rel, lisa_index,text_title_field)\n",
        "lisa_eval_body_match_precision = json.dumps(lisa_create_match_precision)\n",
        "lisa_res_match_precision_text_title = es.rank_eval(lisa_eval_body_match_precision,lisa_index)\n",
        "#print(json.dumps(lisa_res_match_precision, indent=4, sort_keys=True))\n",
        "\n",
        "#Medline\n",
        "med_create_match_precision = create_query_body_match_precision(med_qry_data, med_rel, med_index,text_field)\n",
        "med_eval_body_match_precision = json.dumps(med_create_match_precision)\n",
        "med_res_match_precision_text = es.rank_eval(med_eval_body_match_precision, med_index)\n",
        "#print(json.dumps(med_res_match_precision, indent=4, sort_keys=True))\n",
        "\n",
        "#NPL\n",
        "npl_create_match_precision = create_query_body_match_precision(npl_qry_data, npl_rel, npl_index,text_field)\n",
        "npl_eval_body_match_precision = json.dumps(npl_create_match_precision)\n",
        "npl_res_match_precision_text = es.rank_eval(npl_eval_body_match_precision,npl_index)\n",
        "#print(json.dumps(npl_res_match_precision, indent=4, sort_keys=True))\n",
        "\n",
        "#TIME\n",
        "time_create_match_precision = create_query_body_match_precision(time_qry_data, time_rel, time_index,text_field)\n",
        "time_eval_body_match_precision = json.dumps(time_create_match_precision)\n",
        "time_res_match_precision_text = es.rank_eval(time_eval_body_match_precision,time_index)\n",
        "#print(json.dumps(time_res_match_precision, indent=4, sort_keys=True))"
      ],
      "execution_count": null,
      "outputs": []
    },
    {
      "cell_type": "markdown",
      "metadata": {
        "id": "9t-G24e7FBzq"
      },
      "source": [
        "**BERT Sentence Embeddings on 'title' field**"
      ]
    },
    {
      "cell_type": "code",
      "metadata": {
        "id": "b3MqSL8VFBzs",
        "colab": {
          "base_uri": "https://localhost:8080/"
        },
        "outputId": "e86d5464-f099-45df-fc9b-a9d3b696d8d4"
      },
      "source": [
        "#use rank eval api, see https://elasticsearch-py.readthedocs.io/en/master/api.html?highlight=_rank_eval#elasticsearch.Elasticsearch.rank_eval \n",
        "#and https://www.elastic.co/guide/en/elasticsearch/reference/current/search-rank-eval.html#search-rank-eval\n",
        "\n",
        "from collections import defaultdict\n",
        "\n",
        "adi_index = 'bert-sentence-adi-corpus'\n",
        "cacm_index = 'bert-sentence-cacm-corpus'\n",
        "cisi_index = 'bert-sentence-cisi-corpus'\n",
        "cran_index = 'bert-sentence-cranfield-corpus'\n",
        "lisa_index = 'bert-sentence-lisa-corpus'\n",
        "# Medline, NPL and Time corpus are excluded because they don't have any titles\n",
        "\n",
        "# function to get normal match evaluation body \n",
        "\n",
        "def create_query_body_bert_title_precision(query_dict, rel_dict, index_name):\n",
        "  \"\"\"\n",
        "  The function creates a request for every query in query_dict and rates the relevant documents with rel_dict to 1.\n",
        "  The index name has to be the same as from the documents your looking at.\n",
        "  An evaluation body for the elasticsearch ranking API is returned.\n",
        "  \"\"\"\n",
        "  eval_body = {\n",
        "      \"requests\":'',\n",
        "      \"metric\": {\n",
        "          \"precision\": {\n",
        "            \"k\" : 20,\n",
        "            \"relevant_rating_threshold\": 1,\n",
        "            #\"ignore_unlabeled\": \"false\"\n",
        "            }\n",
        "      }\n",
        "  }\n",
        "  requests = [] \n",
        "  current_request = defaultdict(lambda: defaultdict())\n",
        "  current_rel = {\"_index\": index_name, \"_id\": '', \"rating\": int}\n",
        "  for query_ID, query_txt in query_dict.items():\n",
        "    current_query = {\n",
        "        \"query\" : {\n",
        "  \"script_score\": {\n",
        "    \"query\": {\"match_all\": {}},\n",
        "    \"script\": {\n",
        "      \"source\": \"cosineSimilarity(params.query_vector, doc['title_vector']) + 1.0\",\n",
        "      \"params\": {\"query_vector\": list(model.encode(query_txt['question']).astype(float))}\n",
        "    }\n",
        "  }\n",
        "  }\n",
        "    }\n",
        "    current_request[\"id\"] = 'Query_'+str(query_ID)\n",
        "    current_request[\"request\"] = current_query.copy()\n",
        "    current_request[\"ratings\"] = [{\n",
        "          \"_index\": index_name, \n",
        "          \"_id\": str(el) if type(el) != tuple else str(el[0]), \n",
        "          \"rating\": 1} for el in rel_dict[query_ID]]\n",
        "    requests.append(current_request.copy())\n",
        "  eval_body[\"requests\"] = requests\n",
        "  return eval_body\n",
        "\n",
        "\n",
        "# ADI\n",
        "\n",
        "adi_create_bert_title_precision = create_query_body_bert_title_recall(adi_qry_data, adi_rel, adi_index)\n",
        "adi_eval_body_bert_title_precision = json.dumps(adi_create_bert_title_precision)\n",
        "adi_res_bert_title_precision = es.rank_eval(adi_eval_body_bert_title_precision, adi_index)\n",
        "#print(json.dumps(adi_res_bert_title_precision, indent=4, sort_keys=True))\n",
        "\n",
        "# CACM\n",
        "\n",
        "cacm_create_bert_title_precision = create_query_body_bert_title_precision(cacm_qry_data, cacm_rel, cacm_index)\n",
        "cacm_eval_body_bert_title_precision = json.dumps(cacm_create_bert_title_precision)\n",
        "cacm_res_bert_title_precision = es.rank_eval(cacm_eval_body_bert_title_precision, cacm_index)\n",
        "#print(json.dumps(cacm_res_bert_title_precision, indent=4, sort_keys=True))\n",
        "\n",
        "# CISI\n",
        "\n",
        "cisi_create_bert_title_precision = create_query_body_bert_title_precision(cisi_qry_data, cisi_rel, cisi_index)\n",
        "cisi_eval_body_bert_title_precision = json.dumps(cisi_create_bert_title_precision)\n",
        "cisi_res_bert_title_precision = es.rank_eval(cisi_eval_body_bert_title_precision, cisi_index)\n",
        "#print(json.dumps(cisi_res_bert_title_precision, indent=4, sort_keys=True))\n",
        "\n",
        "# Cranfield\n",
        "\n",
        "cran_create_bert_title_precision = create_query_body_bert_title_precision(cran_qry_data, cran_rel, cran_index)\n",
        "cran_eval_body_bert_title_precision = json.dumps(cran_create_bert_title_precision)\n",
        "cran_res_bert_title_precision = es.rank_eval(cran_eval_body_bert_title_precision, cran_index)\n",
        "#print(json.dumps(cran_res_bert_title_precision, indent=4, sort_keys=True))\n",
        "\n",
        "# LISA\n",
        "\n",
        "lisa_create_bert_title_precision = create_query_body_bert_title_precision(lisa_qry_data, lisa_rel, lisa_index)\n",
        "lisa_eval_body_bert_title_precision = json.dumps(lisa_create_bert_title_precision)\n",
        "lisa_res_bert_title_precision = es.rank_eval(lisa_eval_body_bert_title_precision, lisa_index)\n",
        "#print(json.dumps(lisa_res_bert_title_precision, indent=4, sort_keys=True))"
      ],
      "execution_count": null,
      "outputs": [
        {
          "output_type": "stream",
          "text": [
            "/usr/local/lib/python3.6/dist-packages/elasticsearch/connection/base.py:193: ElasticsearchDeprecationWarning: The vector functions of the form function(query, doc['field']) are deprecated, and the form function(query, 'field') should be used instead. For example, cosineSimilarity(query, doc['field']) is replaced by cosineSimilarity(query, 'field').\n",
            "  warnings.warn(message, category=ElasticsearchDeprecationWarning)\n"
          ],
          "name": "stderr"
        }
      ]
    },
    {
      "cell_type": "markdown",
      "metadata": {
        "id": "ccWAsqthO04n"
      },
      "source": [
        "**Rerank with BERT on title field**"
      ]
    },
    {
      "cell_type": "code",
      "metadata": {
        "colab": {
          "base_uri": "https://localhost:8080/"
        },
        "id": "n5jZrcXMO04p",
        "outputId": "0f339f5f-0bb2-43a4-b149-92d1f6de3bad"
      },
      "source": [
        "#use rank eval api, see https://elasticsearch-py.readthedocs.io/en/master/api.html?highlight=_rank_eval#elasticsearch.Elasticsearch.rank_eval \n",
        "#and https://www.elastic.co/guide/en/elasticsearch/reference/current/search-rank-eval.html#search-rank-eval\n",
        "\n",
        "from collections import defaultdict\n",
        "\n",
        "adi_index = 'bert-sentence-adi-corpus'\n",
        "cacm_index = 'bert-sentence-cacm-corpus'\n",
        "cisi_index = 'bert-sentence-cisi-corpus'\n",
        "cran_index = 'bert-sentence-cranfield-corpus'\n",
        "lisa_index = 'bert-sentence-lisa-corpus'\n",
        "# Medline, NPL and Time corpus are excluded because they don't have any titles\n",
        "\n",
        "# function to get normal match evaluation body \n",
        "\n",
        "def create_query_body_rerank_title_precision(query_dict, rel_dict, index_name):\n",
        "  \"\"\"\n",
        "  The function creates a request for every query in query_dict and rates the relevant documents with rel_dict to 1.\n",
        "  The index name has to be the same as from the documents your looking at.\n",
        "  An evaluation body for the elasticsearch ranking API is returned.\n",
        "  \"\"\"\n",
        "  eval_body = {\n",
        "      \"requests\":'',\n",
        "      \"metric\": {\n",
        "          \"precision\": {\n",
        "          \"k\" : 20,\n",
        "          \"relevant_rating_threshold\": 1,\n",
        "          #\"ignore_unlabeled\": \"false\"\n",
        "          }\n",
        "         }\n",
        "      }\n",
        "  requests = [] \n",
        "  current_request = defaultdict(lambda: defaultdict())\n",
        "  current_rel = {\"_index\": index_name, \"_id\": '', \"rating\": int}\n",
        "  for query_ID, query_txt in query_dict.items():\n",
        "    current_query =  {\n",
        "  \"query\": {\n",
        "    \"multi_match\" : {\n",
        "                  \"query\" : query_txt['question'],\n",
        "                  \"fields\" : ['title']\n",
        "            }\n",
        "  },\n",
        "  \"rescore\" : {\n",
        "      \"window_size\" : 100,\n",
        "      \"query\" : {\n",
        "         \"rescore_query\" : {\n",
        "              \"script_score\": {\n",
        "    \"query\": {\"match_all\": {}},\n",
        "    \"script\": {\n",
        "      \"source\": \"cosineSimilarity(params.query_vector, doc['title_vector']) + 1.0\",\n",
        "      \"params\": {\"query_vector\": list(model.encode(query_txt['question']).astype(float))}\n",
        "    }\n",
        "            }\n",
        "      }\n",
        "   }\n",
        "}\n",
        "    }\n",
        "    current_request[\"id\"] = 'Query_'+str(query_ID)\n",
        "    current_request[\"request\"] = current_query.copy()\n",
        "    current_request[\"ratings\"] = [{\n",
        "          \"_index\": index_name, \n",
        "          \"_id\": str(el) if type(el) != tuple else str(el[0]), \n",
        "          \"rating\": 1} for el in rel_dict[query_ID]]\n",
        "    requests.append(current_request.copy())\n",
        "  eval_body[\"requests\"] = requests\n",
        "  return eval_body\n",
        "\n",
        "\n",
        "# ADI\n",
        "\n",
        "adi_create_rerank_title_precision = create_query_body_rerank_title_precision(adi_qry_data, adi_rel, adi_index)\n",
        "adi_eval_body_rerank_title_precision = json.dumps(adi_create_rerank_title_precision)\n",
        "adi_res_rerank_title_precision = es.rank_eval(adi_eval_body_rerank_title_precision, adi_index)\n",
        "#print(json.dumps(adi_res_rerank_title_recall, indent=4, sort_keys=True))\n",
        "\n",
        "# CACM\n",
        "\n",
        "cacm_create_rerank_title_precision = create_query_body_rerank_title_precision(cacm_qry_data, cacm_rel, cacm_index)\n",
        "cacm_eval_body_rerank_title_precision = json.dumps(cacm_create_rerank_title_precision)\n",
        "cacm_res_rerank_title_precision = es.rank_eval(cacm_eval_body_rerank_title_precision, cacm_index)\n",
        "#print(json.dumps(cacm_res_rerank_title_recall, indent=4, sort_keys=True))\n",
        "\n",
        "# CISI\n",
        "\n",
        "cisi_create_rerank_title_precision = create_query_body_rerank_title_precision(cisi_qry_data, cisi_rel, cisi_index)\n",
        "cisi_eval_body_rerank_title_precision = json.dumps(cisi_create_rerank_title_precision)\n",
        "cisi_res_rerank_title_precision = es.rank_eval(cisi_eval_body_rerank_title_precision, cisi_index)\n",
        "#print(json.dumps(cisi_res_rerank_title_recall, indent=4, sort_keys=True))\n",
        "\n",
        "# Cranfield\n",
        "\n",
        "cran_create_rerank_title_precision = create_query_body_rerank_title_precision(cran_qry_data, cran_rel, cran_index)\n",
        "cran_eval_body_rerank_title_precision = json.dumps(cran_create_rerank_title_precision)\n",
        "cran_res_rerank_title_precision = es.rank_eval(cran_eval_body_rerank_title_precision, cran_index)\n",
        "#print(json.dumps(cran_res_rerank_title_recall, indent=4, sort_keys=True))\n",
        "\n",
        "# LISA\n",
        "\n",
        "lisa_create_rerank_title_precision = create_query_body_rerank_title_precision(lisa_qry_data, lisa_rel, lisa_index)\n",
        "lisa_eval_body_rerank_title_precision = json.dumps(lisa_create_rerank_title_precision)\n",
        "lisa_res_rerank_title_precision = es.rank_eval(lisa_eval_body_rerank_title_precision, lisa_index)\n",
        "#print(json.dumps(lisa_res_rerank_title_recall, indent=4, sort_keys=True))"
      ],
      "execution_count": null,
      "outputs": [
        {
          "output_type": "stream",
          "text": [
            "/usr/local/lib/python3.6/dist-packages/elasticsearch/connection/base.py:193: ElasticsearchDeprecationWarning: The vector functions of the form function(query, doc['field']) are deprecated, and the form function(query, 'field') should be used instead. For example, cosineSimilarity(query, doc['field']) is replaced by cosineSimilarity(query, 'field').\n",
            "  warnings.warn(message, category=ElasticsearchDeprecationWarning)\n"
          ],
          "name": "stderr"
        }
      ]
    },
    {
      "cell_type": "markdown",
      "metadata": {
        "id": "T1W4bvetJDUI"
      },
      "source": [
        "**BERT Transformer on 'text' field**"
      ]
    },
    {
      "cell_type": "code",
      "metadata": {
        "id": "2sTzK1e2FBzk"
      },
      "source": [
        "#use rank eval api, see https://elasticsearch-py.readthedocs.io/en/master/api.html?highlight=_rank_eval#elasticsearch.Elasticsearch.rank_eval \n",
        "#and https://www.elastic.co/guide/en/elasticsearch/reference/current/search-rank-eval.html#search-rank-eval\n",
        "\n",
        "from collections import defaultdict\n",
        "\n",
        "adi_index = 'bert-sentence-adi-corpus'\n",
        "cacm_index = 'bert-sentence-cacm-corpus'\n",
        "cisi_index = 'bert-sentence-cisi-corpus'\n",
        "cran_index = 'bert-sentence-cranfield-corpus'\n",
        "lisa_index = 'bert-sentence-lisa-corpus'\n",
        "med_index = 'bert-sentence-medline-corpus'\n",
        "npl_index = 'bert-sentence-npl-corpus'\n",
        "time_index = 'bert-sentence-time-corpus'\n",
        "\n",
        "# function to get normal match evaluation body \n",
        "\n",
        "def create_query_body_bert_text_precision(query_dict, rel_dict, index_name):\n",
        "  \"\"\"\n",
        "  The function creates a request for every query in query_dict and rates the relevant documents with rel_dict to 1.\n",
        "  The index name has to be the same as from the documents your looking at.\n",
        "  An evaluation body for the elasticsearch ranking API is returned.\n",
        "  \"\"\"\n",
        "  eval_body = {\n",
        "      \"requests\":'',\n",
        "      \"metric\": {\n",
        "          \"precision\": {\n",
        "          \"k\" : 20,\n",
        "          \"relevant_rating_threshold\": 1,\n",
        "          #\"ignore_unlabeled\": \"false\"\n",
        "          }\n",
        "         }\n",
        "      }\n",
        "  requests = [] \n",
        "  current_request = defaultdict(lambda: defaultdict())\n",
        "  current_rel = {\"_index\": index_name, \"_id\": '', \"rating\": int}\n",
        "  for query_ID, query_txt in query_dict.items():\n",
        "    current_query = {\n",
        "        \"query\": {\n",
        "            \"nested\": {\n",
        "                \"path\": \"text_vector\",\n",
        "                \"score_mode\": \"min\", \n",
        "                \"query\": {\n",
        "                    \"function_score\": {\n",
        "                        \"script_score\": {\n",
        "                            \"script\": {\n",
        "                                \"source\": \"1.0 + cosineSimilarity(params.query_vector, 'text_vector.vector')\",\n",
        "                                \"params\": {\"query_vector\": list(model.encode(query_txt['question']).astype(float))}\n",
        "                                }\n",
        "                                }\n",
        "                                }\n",
        "                          }\n",
        "                       }\n",
        "                  }\n",
        "                  }\n",
        "    current_request[\"id\"] = 'Query_'+str(query_ID)\n",
        "    current_request[\"request\"] = current_query.copy()\n",
        "    current_request[\"ratings\"] = [{\n",
        "          \"_index\": index_name, \n",
        "          \"_id\": str(el) if type(el) != tuple else str(el[0]), \n",
        "          \"rating\": 1} for el in rel_dict[query_ID]]\n",
        "    requests.append(current_request.copy())\n",
        "  eval_body[\"requests\"] = requests\n",
        "  return eval_body\n",
        "\n",
        "\n",
        "\n",
        "# ADI\n",
        "\n",
        "adi_create_bert_text_precision = create_query_body_bert_text_precision(adi_qry_data, adi_rel, adi_index)\n",
        "adi_eval_body_bert_text_precision = json.dumps(adi_create_bert_text_precision)\n",
        "adi_res_bert_text_precision = es.rank_eval(adi_eval_body_bert_text_precision, adi_index)\n",
        "#print(json.dumps(adi_res, indent=4, sort_keys=True))\n",
        "\n",
        "# CACM\n",
        "\n",
        "cacm_create_bert_text_precision = create_query_body_bert_text_precision(cacm_qry_data, cacm_rel, cacm_index)\n",
        "cacm_eval_body_bert_text_precision = json.dumps(cacm_create_bert_text_precision)\n",
        "cacm_res_bert_text_precision = es.rank_eval(cacm_eval_body_bert_text_precision, cacm_index)\n",
        "#print(json.dumps(cacm_res, indent=4, sort_keys=True))\n",
        "\n",
        "# CISI\n",
        "\n",
        "cisi_create_bert_text_precision = create_query_body_bert_text_precision(cisi_qry_data, cisi_rel, cisi_index)\n",
        "cisi_eval_body_bert_text_precision = json.dumps(cisi_create_bert_text_precision)\n",
        "cisi_res_bert_text_precision = es.rank_eval(cisi_eval_body_bert_text_precision, cisi_index)\n",
        "#print(json.dumps(cisi_res, indent=4, sort_keys=True))\n",
        "\n",
        "# Cranfield\n",
        "\n",
        "cran_create_bert_text_precision = create_query_body_bert_text_precision(cran_qry_data, cran_rel, cran_index)\n",
        "cran_eval_body_bert_text_precision = json.dumps(cran_create_bert_text_precision)\n",
        "cran_res_bert_text_precision = es.rank_eval(cran_eval_body_bert_text_precision, cran_index)\n",
        "#print(json.dumps(cran_res, indent=4, sort_keys=True))\n",
        "\n",
        "# LISA\n",
        "\n",
        "lisa_create_bert_text_precision = create_query_body_bert_text_precision(lisa_qry_data, lisa_rel, lisa_index)\n",
        "lisa_eval_body_bert_text_precision = json.dumps(lisa_create_bert_text_precision)\n",
        "lisa_res_bert_text_precision = es.rank_eval(lisa_eval_body_bert_text_precision, lisa_index)\n",
        "#print(json.dumps(lisa_res, indent=4, sort_keys=True))\n",
        "\n",
        "# Medline\n",
        "\n",
        "med_create_bert_text_precision = create_query_body_bert_text_precision(med_qry_data, med_rel, med_index)\n",
        "med_eval_body_bert_text_precision = json.dumps(med_create_bert_text_precision)\n",
        "med_res_bert_text_precision = es.rank_eval(med_eval_body_bert_text_precision, med_index)\n",
        "#print(json.dumps(med_res, indent=4, sort_keys=True))\n",
        "\n",
        "# NPL\n",
        "\n",
        "npl_create_bert_text_precision = create_query_body_bert_text_precision(npl_qry_data, npl_rel, npl_index)\n",
        "npl_eval_body_bert_text_precision = json.dumps(npl_create_bert_text_precision)\n",
        "npl_res_bert_text_precision = es.rank_eval(npl_eval_body_bert_text_precision, npl_index)\n",
        "#print(json.dumps(npl_res, indent=4, sort_keys=True))\n",
        "\n",
        "# Time\n",
        "\n",
        "time_create_bert_text_precision = create_query_body_bert_text_precision(time_qry_data, time_rel, time_index)\n",
        "time_eval_body_bert_text_precision = json.dumps(time_create_bert_text_precision)\n",
        "time_res_bert_text_precision = es.rank_eval(time_eval_body_bert_text_precision, time_index)\n",
        "#print(json.dumps(time_res, indent=4, sort_keys=True))"
      ],
      "execution_count": null,
      "outputs": []
    },
    {
      "cell_type": "markdown",
      "metadata": {
        "id": "GCUrmPAtOzC5"
      },
      "source": [
        "**Rerank with BERT on text field**"
      ]
    },
    {
      "cell_type": "code",
      "metadata": {
        "id": "xENvFHovOzC5"
      },
      "source": [
        "#use rank eval api, see https://elasticsearch-py.readthedocs.io/en/master/api.html?highlight=_rank_eval#elasticsearch.Elasticsearch.rank_eval \n",
        "#and https://www.elastic.co/guide/en/elasticsearch/reference/current/search-rank-eval.html#search-rank-eval\n",
        "\n",
        "from collections import defaultdict\n",
        "\n",
        "adi_index = 'bert-sentence-adi-corpus'\n",
        "cacm_index = 'bert-sentence-cacm-corpus'\n",
        "cisi_index = 'bert-sentence-cisi-corpus'\n",
        "cran_index = 'bert-sentence-cranfield-corpus'\n",
        "lisa_index = 'bert-sentence-lisa-corpus'\n",
        "med_index = 'bert-sentence-medline-corpus'\n",
        "npl_index = 'bert-sentence-npl-corpus'\n",
        "time_index = 'bert-sentence-time-corpus'\n",
        "\n",
        "# function to get normal match evaluation body \n",
        "\n",
        "def create_query_body_rerank_text_precision(query_dict, rel_dict, index_name):\n",
        "  \"\"\"\n",
        "  The function creates a request for every query in query_dict and rates the relevant documents with rel_dict to 1.\n",
        "  The index name has to be the same as from the documents your looking at.\n",
        "  An evaluation body for the elasticsearch ranking API is returned.\n",
        "  \"\"\"\n",
        "  eval_body = {\n",
        "      \"requests\":'',\n",
        "      \"metric\": {\n",
        "          \"precision\": {\n",
        "          \"k\" : 20,\n",
        "          \"relevant_rating_threshold\": 1,\n",
        "          #\"ignore_unlabeled\": \"false\"\n",
        "          }\n",
        "         }\n",
        "      }\n",
        "  requests = [] \n",
        "  current_request = defaultdict(lambda: defaultdict())\n",
        "  current_rel = {\"_index\": index_name, \"_id\": '', \"rating\": int}\n",
        "  for query_ID, query_txt in query_dict.items():\n",
        "    current_query = {\n",
        "  \"query\": {\n",
        "    \"multi_match\" : {\n",
        "                  \"query\" : query_txt['question'],\n",
        "                  \"fields\" : ['text']\n",
        "            }\n",
        "  },\n",
        "  \"rescore\" : {\n",
        "      \"window_size\" : 100,\n",
        "      \"query\": {\n",
        "          \"rescore_query\" : {\n",
        "            \"nested\": {\n",
        "                \"path\": \"text_vector\",\n",
        "                \"score_mode\": \"min\", \n",
        "                \"query\": {\n",
        "                    \"function_score\": {\n",
        "                        \"script_score\": {\n",
        "                            \"script\": {\n",
        "                                \"source\": \"1.0 + cosineSimilarity(params.query_vector, 'text_vector.vector')\",\n",
        "                                \"params\": {\"query_vector\": list(model.encode(query_txt['question']).astype(float))}\n",
        "                                }\n",
        "                                }\n",
        "                                }\n",
        "                          }\n",
        "                       }\n",
        "            }\n",
        "                  }\n",
        "}\n",
        "    }\n",
        "    current_request[\"id\"] = 'Query_'+str(query_ID)\n",
        "    current_request[\"request\"] = current_query.copy()\n",
        "    current_request[\"ratings\"] = [{\n",
        "          \"_index\": index_name, \n",
        "          \"_id\": str(el) if type(el) != tuple else str(el[0]), \n",
        "          \"rating\": 1} for el in rel_dict[query_ID]]\n",
        "    requests.append(current_request.copy())\n",
        "  eval_body[\"requests\"] = requests\n",
        "  return eval_body\n",
        "\n",
        "# ADI\n",
        "\n",
        "adi_create_rerank_text_precision = create_query_body_rerank_text_precision(adi_qry_data, adi_rel, adi_index)\n",
        "adi_eval_body_rerank_text_precision = json.dumps(adi_create_rerank_text_precision)\n",
        "adi_res_rerank_text_precision = es.rank_eval(adi_eval_body_rerank_text_precision, adi_index)\n",
        "#print(json.dumps(adi_res_rerank_text_recall, indent=4, sort_keys=True))\n",
        "\n",
        "# CACM\n",
        "\n",
        "cacm_create_rerank_text_precision = create_query_body_rerank_text_precision(cacm_qry_data, cacm_rel, cacm_index)\n",
        "cacm_eval_body_rerank_text_precision = json.dumps(cacm_create_rerank_text_precision)\n",
        "cacm_res_rerank_text_precision = es.rank_eval(cacm_eval_body_rerank_text_precision, cacm_index)\n",
        "#print(json.dumps(cacm_res_rerank_text_recall, indent=4, sort_keys=True))\n",
        "\n",
        "# CISI\n",
        "\n",
        "cisi_create_rerank_text_precision = create_query_body_rerank_text_precision(cisi_qry_data, cisi_rel, cisi_index)\n",
        "cisi_eval_body_rerank_text_precision = json.dumps(cisi_create_rerank_text_precision)\n",
        "cisi_res_rerank_text_precision = es.rank_eval(cisi_eval_body_rerank_text_precision, cisi_index)\n",
        "#print(json.dumps(cisi_res_rerank_text_recall, indent=4, sort_keys=True))\n",
        "\n",
        "# Cranfield\n",
        "\n",
        "cran_create_rerank_text_precision = create_query_body_rerank_text_precision(cran_qry_data, cran_rel, cran_index)\n",
        "cran_eval_body_rerank_text_precision = json.dumps(cran_create_rerank_text_precision)\n",
        "cran_res_rerank_text_precision = es.rank_eval(cran_eval_body_rerank_text_precision, cran_index)\n",
        "#print(json.dumps(cran_res_rerank_text_recall, indent=4, sort_keys=True))\n",
        "\n",
        "# LISA\n",
        "\n",
        "lisa_create_rerank_text_precision = create_query_body_rerank_text_precision(lisa_qry_data, lisa_rel, lisa_index)\n",
        "lisa_eval_body_rerank_text_precision = json.dumps(lisa_create_rerank_text_precision)\n",
        "lisa_res_rerank_text_precision = es.rank_eval(lisa_eval_body_rerank_text_precision, lisa_index)\n",
        "#print(json.dumps(lisa_res_rerank_text_recall, indent=4, sort_keys=True))\n",
        "\n",
        "# Medline\n",
        "\n",
        "med_create_rerank_text_precision = create_query_body_rerank_text_precision(med_qry_data, med_rel, med_index)\n",
        "med_eval_body_rerank_text_precision = json.dumps(med_create_rerank_text_precision)\n",
        "med_res_rerank_text_precision = es.rank_eval(med_eval_body_rerank_text_precision, med_index)\n",
        "#print(json.dumps(med_res_rerank_text_recall, indent=4, sort_keys=True))\n",
        "\n",
        "# NPL\n",
        "\n",
        "npl_create_rerank_text_precision = create_query_body_rerank_text_precision(npl_qry_data, npl_rel, npl_index)\n",
        "npl_eval_body_rerank_text_precision = json.dumps(npl_create_rerank_text_precision)\n",
        "npl_res_rerank_text_precision = es.rank_eval(npl_eval_body_rerank_text_precision, npl_index)\n",
        "#print(json.dumps(npl_res_rerank_text_recall, indent=4, sort_keys=True))\n",
        "\n",
        "# Time\n",
        "\n",
        "time_create_rerank_text_precision = create_query_body_rerank_text_precision(time_qry_data, time_rel, time_index)\n",
        "time_eval_body_rerank_text_precision = json.dumps(time_create_rerank_text_precision)\n",
        "time_res_rerank_text_precision = es.rank_eval(time_eval_body_rerank_text_precision, time_index)\n",
        "#print(json.dumps(time_res_rerank_text_recall, indent=4, sort_keys=True))"
      ],
      "execution_count": null,
      "outputs": []
    },
    {
      "cell_type": "markdown",
      "metadata": {
        "id": "GKXP6GVR0Gbj"
      },
      "source": [
        "**Complex Rerank Query**"
      ]
    },
    {
      "cell_type": "code",
      "metadata": {
        "colab": {
          "base_uri": "https://localhost:8080/"
        },
        "id": "DR7MGYFK0YtL",
        "outputId": "17c8041a-b5dd-478a-99b9-a475cbd82cc5"
      },
      "source": [
        "#use rank eval api, see https://elasticsearch-py.readthedocs.io/en/master/api.html?highlight=_rank_eval#elasticsearch.Elasticsearch.rank_eval \n",
        "#and https://www.elastic.co/guide/en/elasticsearch/reference/current/search-rank-eval.html#search-rank-eval\n",
        "\n",
        "from collections import defaultdict\n",
        "\n",
        "adi_index = 'bert-sentence-adi-corpus'\n",
        "cacm_index = 'bert-sentence-cacm-corpus'\n",
        "cisi_index = 'bert-sentence-cisi-corpus'\n",
        "cran_index = 'bert-sentence-cranfield-corpus'\n",
        "lisa_index = 'bert-sentence-lisa-corpus'\n",
        "med_index = 'bert-sentence-medline-corpus'\n",
        "npl_index = 'bert-sentence-npl-corpus'\n",
        "time_index = 'bert-sentence-time-corpus'\n",
        "\n",
        "query_weight = 0.7 # has to be float\n",
        "rescore_query_weight = 3.5 # has to be float\n",
        "\n",
        "# function to get normal match evaluation body \n",
        "\n",
        "def create_query_body_complex_rerank_precision(query_dict, rel_dict, index_name):\n",
        "  \"\"\"\n",
        "  The function creates a request for every query in query_dict and rates the relevant documents with rel_dict to 1.\n",
        "  The index name has to be the same as from the documents your looking at.\n",
        "  An evaluation body for the elasticsearch ranking API is returned.\n",
        "  \"\"\"\n",
        "  eval_body = {\n",
        "      \"requests\":'',\n",
        "      \"metric\": {\n",
        "          \"precision\": {\n",
        "          \"k\" : 20,\n",
        "          \"relevant_rating_threshold\": 1,\n",
        "          #\"ignore_unlabeled\": \"false\"\n",
        "          }\n",
        "         }\n",
        "      }\n",
        "  requests = [] \n",
        "  current_request = defaultdict(lambda: defaultdict())\n",
        "  current_rel = {\"_index\": index_name, \"_id\": '', \"rating\": int}\n",
        "  for query_ID, query_txt in query_dict.items():\n",
        "    current_query = {\n",
        "  \"query\": {\n",
        "    \"multi_match\" : {\n",
        "                  \"query\" : query_txt['question'],\n",
        "                  \"fields\" : ['text','title']\n",
        "            }\n",
        "  },\n",
        "  \"rescore\" :  [\n",
        "                {\n",
        "      \"window_size\" : 100,\n",
        "      \"query\" : {\n",
        "         \"rescore_query\" : {\n",
        "              \"script_score\": {\n",
        "    \"query\": {\"match_all\": {}},\n",
        "    \"script\": {\n",
        "      \"source\": \"cosineSimilarity(params.query_vector, doc['title_vector']) + 1.0\",\n",
        "      \"params\": {\"query_vector\": list(model.encode(query_txt['question']).astype(float))}\n",
        "    }\n",
        "            }\n",
        "      },\n",
        "         \"query_weight\" : query_weight,\n",
        "         \"rescore_query_weight\" : rescore_query_weight\n",
        "   }\n",
        "},\n",
        "                {\n",
        "      \"window_size\" : 100,\n",
        "      \"query\": {\n",
        "          \"rescore_query\" : {\n",
        "            \"nested\": {\n",
        "                \"path\": \"text_vector\",\n",
        "                \"score_mode\": \"min\", \n",
        "                \"query\": {\n",
        "                    \"function_score\": {\n",
        "                        \"script_score\": {\n",
        "                            \"script\": {\n",
        "                                \"source\": \"1.0 + cosineSimilarity(params.query_vector, 'text_vector.vector')\",\n",
        "                                \"params\": {\"query_vector\": list(model.encode(query_txt['question']).astype(float))}\n",
        "                                }\n",
        "                                }\n",
        "                                }\n",
        "                          }\n",
        "                       }\n",
        "            }\n",
        "                  }\n",
        "}  \n",
        "  ]}\n",
        "    current_request[\"id\"] = 'Query_'+str(query_ID)\n",
        "    current_request[\"request\"] = current_query.copy()\n",
        "    current_request[\"ratings\"] = [{\n",
        "          \"_index\": index_name, \n",
        "          \"_id\": str(el) if type(el) != tuple else str(el[0]), \n",
        "          \"rating\": 1} for el in rel_dict[query_ID]]\n",
        "    requests.append(current_request.copy())\n",
        "  eval_body[\"requests\"] = requests\n",
        "  return eval_body\n",
        "\n",
        "# ADI\n",
        "\n",
        "adi_create_complex_rerank_precision = create_query_body_complex_rerank_precision(adi_qry_data, adi_rel, adi_index)\n",
        "adi_eval_body_complex_rerank_precision = json.dumps(adi_create_complex_rerank_precision)\n",
        "adi_res_complex_rerank_precision = es.rank_eval(adi_eval_body_complex_rerank_precision, adi_index)\n",
        "#print(json.dumps(adi_res_complex_rerank_precision, indent=4, sort_keys=True))\n",
        "\n",
        "# CACM\n",
        "\n",
        "cacm_create_complex_rerank_precision = create_query_body_complex_rerank_precision(cacm_qry_data, cacm_rel, cacm_index)\n",
        "cacm_eval_body_complex_rerank_precision = json.dumps(cacm_create_complex_rerank_precision)\n",
        "cacm_res_complex_rerank_precision = es.rank_eval(cacm_eval_body_complex_rerank_precision, cacm_index)\n",
        "#print(json.dumps(cacm_res_complex_rerank_precision, indent=4, sort_keys=True))\n",
        "\n",
        "# CISI\n",
        "\n",
        "cisi_create_complex_rerank_precision = create_query_body_complex_rerank_precision(cisi_qry_data, cisi_rel, cisi_index)\n",
        "cisi_eval_body_complex_rerank_precision = json.dumps(cisi_create_complex_rerank_precision)\n",
        "cisi_res_complex_rerank_precision = es.rank_eval(cisi_eval_body_complex_rerank_precision, cisi_index)\n",
        "#print(json.dumps(cisi_res_complex_rerank_precision, indent=4, sort_keys=True))\n",
        "\n",
        "# Cranfield\n",
        "\n",
        "cran_create_complex_rerank_precision = create_query_body_complex_rerank_precision(cran_qry_data, cran_rel, cran_index)\n",
        "cran_eval_body_complex_rerank_precision = json.dumps(cran_create_complex_rerank_precision)\n",
        "cran_res_complex_rerank_precision = es.rank_eval(cran_eval_body_complex_rerank_precision, cran_index)\n",
        "#print(json.dumps(cran_res_complex_rerank_precision, indent=4, sort_keys=True))\n",
        "\n",
        "# LISA\n",
        "\n",
        "lisa_create_complex_rerank_precision = create_query_body_complex_rerank_precision(lisa_qry_data, lisa_rel, lisa_index)\n",
        "lisa_eval_body_complex_rerank_precision = json.dumps(lisa_create_complex_rerank_precision)\n",
        "lisa_res_complex_rerank_precision = es.rank_eval(lisa_eval_body_complex_rerank_precision, lisa_index)\n",
        "#print(json.dumps(lisa_res_complex_rerank_precision, indent=4, sort_keys=True))"
      ],
      "execution_count": null,
      "outputs": [
        {
          "output_type": "stream",
          "text": [
            "/usr/local/lib/python3.6/dist-packages/elasticsearch/connection/base.py:193: ElasticsearchDeprecationWarning: The vector functions of the form function(query, doc['field']) are deprecated, and the form function(query, 'field') should be used instead. For example, cosineSimilarity(query, doc['field']) is replaced by cosineSimilarity(query, 'field').\n",
            "  warnings.warn(message, category=ElasticsearchDeprecationWarning)\n"
          ],
          "name": "stderr"
        }
      ]
    },
    {
      "cell_type": "markdown",
      "metadata": {
        "id": "gpKrbKC7TDxu"
      },
      "source": [
        "## Visualisation\n",
        "\n",
        "The last step is to visualize the data so we can analyze the differences:"
      ]
    },
    {
      "cell_type": "markdown",
      "metadata": {
        "id": "3GI_zdwhG4MF"
      },
      "source": [
        "### Recall"
      ]
    },
    {
      "cell_type": "markdown",
      "metadata": {
        "id": "nK5M8l-CRCvw"
      },
      "source": [
        "**Recall on 'title' field**"
      ]
    },
    {
      "cell_type": "code",
      "metadata": {
        "colab": {
          "base_uri": "https://localhost:8080/"
        },
        "id": "crBSdbZMPAH9",
        "outputId": "9e89d753-2671-4d06-8f94-46297163df29"
      },
      "source": [
        "import matplotlib\n",
        "import matplotlib.pyplot as plt\n",
        "import numpy as np\n",
        "\n",
        "match_metrics_recall_title = []\n",
        "match_metrics_recall_title.append(round(adi_res_match_recall_title['metric_score'], 3))\n",
        "match_metrics_recall_title.append(round(cacm_res_match_recall_title['metric_score'], 3))\n",
        "match_metrics_recall_title.append(round(cisi_res_match_recall_title['metric_score'], 3))\n",
        "match_metrics_recall_title.append(round(cran_res_match_recall_title['metric_score'], 3))\n",
        "match_metrics_recall_title.append(round(lisa_res_match_recall_title['metric_score'], 3))\n",
        "\n",
        "bert_title_metrics_recall = []\n",
        "bert_title_metrics_recall.append(round(adi_res_bert_title_recall['metric_score'], 3))\n",
        "bert_title_metrics_recall.append(round(cacm_res_bert_title_recall['metric_score'], 3))\n",
        "bert_title_metrics_recall.append(round(cisi_res_bert_title_recall['metric_score'], 3))\n",
        "bert_title_metrics_recall.append(round(cran_res_bert_title_recall['metric_score'], 3))\n",
        "bert_title_metrics_recall.append(round(lisa_res_bert_title_recall['metric_score'], 3))\n",
        "\n",
        "rerank_bert_title_metrics_recall = []\n",
        "rerank_bert_title_metrics_recall.append(round(adi_res_rerank_title_recall['metric_score'], 3))\n",
        "rerank_bert_title_metrics_recall.append(round(cacm_res_rerank_title_recall['metric_score'], 3))\n",
        "rerank_bert_title_metrics_recall.append(round(cisi_res_rerank_title_recall['metric_score'], 3))\n",
        "rerank_bert_title_metrics_recall.append(round(cran_res_rerank_title_recall['metric_score'], 3))\n",
        "rerank_bert_title_metrics_recall.append(round(lisa_res_rerank_title_recall['metric_score'], 3))\n",
        "\n",
        "labels = ['ADI','CACM', 'CISI','Cranfield', 'LISA']\n",
        "\n",
        "x = np.arange(len(labels))*2.5  # the label locations\n",
        "\n",
        "width = 0.5  # the width of the bars\n",
        "\n",
        "fig, ax = plt.subplots()\n",
        "rects1 = ax.bar(x - width, match_metrics_recall_title , width, label='With multi-match query title field')\n",
        "rects2 = ax.bar(x, bert_title_metrics_recall, width, label='With BERT on title field')\n",
        "rects3 = ax.bar(x + width, rerank_bert_title_metrics_recall, width, label='With Re-Ranking on title field')\n",
        "\n",
        "# Add some text for labels, title and custom x-axis tick labels, etc.\n",
        "ax.set_ylabel('metric scores')\n",
        "ax.set_title('Recall scores on title field by corpus')\n",
        "ax.set_xticks(x)\n",
        "ax.set_xticklabels(labels)\n",
        "ax.legend()\n",
        "\n",
        "def autolabel(rects):\n",
        "    \"\"\"Attach a text label above each bar in *rects*, displaying its height.\"\"\"\n",
        "    for rect in rects:\n",
        "        height = rect.get_height()\n",
        "        ax.annotate('{}'.format(height),\n",
        "                    xy=(rect.get_x() + rect.get_width() / 2, height),\n",
        "                    xytext=(0, 3),  # 3 points vertical offset\n",
        "                    textcoords=\"offset points\",\n",
        "                    ha='center', va='bottom')\n",
        "\n",
        "autolabel(rects1)\n",
        "autolabel(rects2)\n",
        "autolabel(rects3)\n",
        "\n",
        "\n",
        "fig.tight_layout()\n",
        "fig.set_figwidth(16)\n",
        "fig.set_figheight(10)\n",
        "\n",
        "plt.show()"
      ],
      "execution_count": null,
      "outputs": [
        {
          "output_type": "display_data",
          "data": {
            "image/png": "[encoded data removed]",
            "text/plain": [
              "<Figure size 1152x720 with 1 Axes>"
            ]
          },
          "metadata": {
            "tags": [],
            "needs_background": "light"
          }
        }
      ]
    },
    {
      "cell_type": "markdown",
      "metadata": {
        "id": "uOS8stFeTsI5"
      },
      "source": [
        "**Recall on 'text' field**"
      ]
    },
    {
      "cell_type": "code",
      "metadata": {
        "id": "BXibzPzmf_KK",
        "colab": {
          "base_uri": "https://localhost:8080/"
        },
        "outputId": "f69c3568-ddde-42b6-e6c3-0a2b2bd25313"
      },
      "source": [
        "import matplotlib\n",
        "import matplotlib.pyplot as plt\n",
        "import numpy as np\n",
        "\n",
        "match_metrics_recall_text = []\n",
        "match_metrics_recall_text.append(round(adi_res_match_recall_text['metric_score'], 3))\n",
        "match_metrics_recall_text.append(round(cacm_res_match_recall_text['metric_score'], 3))\n",
        "match_metrics_recall_text.append(round(cisi_res_match_recall_text['metric_score'], 3))\n",
        "match_metrics_recall_text.append(round(cran_res_match_recall_text['metric_score'], 3))\n",
        "match_metrics_recall_text.append(round(lisa_res_match_recall_text['metric_score'], 3))\n",
        "match_metrics_recall_text.append(round(med_res_match_recall_text['metric_score'], 3))\n",
        "match_metrics_recall_text.append(round(npl_res_match_recall_text['metric_score'], 3))\n",
        "match_metrics_recall_text.append(round(time_res_match_recall_text['metric_score'], 3))\n",
        "\n",
        "bert_text_metrics_recall = []\n",
        "bert_text_metrics_recall.append(round(adi_res_bert_text_recall['metric_score'], 3))\n",
        "bert_text_metrics_recall.append(round(cacm_res_bert_text_recall['metric_score'], 3))\n",
        "bert_text_metrics_recall.append(round(cisi_res_bert_text_recall['metric_score'], 3))\n",
        "bert_text_metrics_recall.append(round(cran_res_bert_text_recall['metric_score'], 3))\n",
        "bert_text_metrics_recall.append(round(lisa_res_bert_text_recall['metric_score'], 3))\n",
        "bert_text_metrics_recall.append(round(med_res_bert_text_recall['metric_score'], 3))\n",
        "bert_text_metrics_recall.append(round(npl_res_bert_text_recall['metric_score'], 3))\n",
        "bert_text_metrics_recall.append(round(time_res_bert_text_recall['metric_score'], 3))\n",
        "\n",
        "rerank_bert_text_metrics_recall = []\n",
        "rerank_bert_text_metrics_recall.append(round(adi_res_rerank_text_recall['metric_score'], 3))\n",
        "rerank_bert_text_metrics_recall.append(round(cacm_res_rerank_text_recall['metric_score'], 3))\n",
        "rerank_bert_text_metrics_recall.append(round(cisi_res_rerank_text_recall['metric_score'], 3))\n",
        "rerank_bert_text_metrics_recall.append(round(cran_res_rerank_text_recall['metric_score'], 3))\n",
        "rerank_bert_text_metrics_recall.append(round(lisa_res_rerank_text_recall['metric_score'], 3))\n",
        "rerank_bert_text_metrics_recall.append(round(med_res_rerank_text_recall['metric_score'], 3))\n",
        "rerank_bert_text_metrics_recall.append(round(npl_res_rerank_text_recall['metric_score'], 3))\n",
        "rerank_bert_text_metrics_recall.append(round(time_res_rerank_text_recall['metric_score'], 3))\n",
        "\n",
        "\n",
        "labels = ['ADI','CACM', 'CISI','Cranfield', 'LISA', 'Medline', 'NPL', 'Time']\n",
        "\n",
        "x = np.arange(len(labels))*2.5  # the label locations\n",
        "\n",
        "width = 0.6  # the width of the bars\n",
        "\n",
        "fig, ax = plt.subplots()\n",
        "rects1 = ax.bar(x - width, match_metrics_recall_text , width, label='With multi-match query text field')\n",
        "rects2 = ax.bar(x, bert_text_metrics_recall, width, label='With BERT on text field')\n",
        "rects3 = ax.bar(x + width, rerank_bert_text_metrics_recall, width, label='With Re-Ranking on text field')\n",
        "\n",
        "# Add some text for labels, title and custom x-axis tick labels, etc.\n",
        "ax.set_ylabel('metric scores')\n",
        "ax.set_title('Recall scores on text field by corpus')\n",
        "ax.set_xticks(x)\n",
        "ax.set_xticklabels(labels)\n",
        "ax.legend()\n",
        "\n",
        "def autolabel(rects):\n",
        "    \"\"\"Attach a text label above each bar in *rects*, displaying its height.\"\"\"\n",
        "    for rect in rects:\n",
        "        height = rect.get_height()\n",
        "        ax.annotate('{}'.format(height),\n",
        "                    xy=(rect.get_x() + rect.get_width() / 2, height),\n",
        "                    xytext=(0, 3),  # 3 points vertical offset\n",
        "                    textcoords=\"offset points\",\n",
        "                    ha='center', va='bottom')\n",
        "\n",
        "autolabel(rects1)\n",
        "autolabel(rects2)\n",
        "autolabel(rects3)\n",
        "\n",
        "\n",
        "fig.tight_layout()\n",
        "fig.set_figwidth(16)\n",
        "fig.set_figheight(8)\n",
        "\n",
        "plt.show()"
      ],
      "execution_count": null,
      "outputs": [
        {
          "output_type": "display_data",
          "data": {
            "image/png": "[encoded data removed]",
            "text/plain": [
              "<Figure size 1152x576 with 1 Axes>"
            ]
          },
          "metadata": {
            "tags": [],
            "needs_background": "light"
          }
        }
      ]
    },
    {
      "cell_type": "markdown",
      "metadata": {
        "id": "h0Ib8trlz4-t"
      },
      "source": [
        "**Recall on a complex re-ranking query**"
      ]
    },
    {
      "cell_type": "code",
      "metadata": {
        "colab": {
          "base_uri": "https://localhost:8080/"
        },
        "id": "tJBsXlxhmgPV",
        "outputId": "4a05e772-32d6-4afb-99cf-294d87a49c97"
      },
      "source": [
        "import matplotlib\n",
        "import matplotlib.pyplot as plt\n",
        "import numpy as np\n",
        "\n",
        "match_metrics_recall_text_title = []\n",
        "match_metrics_recall_text_title.append(round(adi_res_match_recall_text_title['metric_score'], 3))\n",
        "match_metrics_recall_text_title.append(round(cacm_res_match_recall_text_title['metric_score'], 3))\n",
        "match_metrics_recall_text_title.append(round(cisi_res_match_recall_text_title['metric_score'], 3))\n",
        "match_metrics_recall_text_title.append(round(cran_res_match_recall_text_title['metric_score'], 3))\n",
        "match_metrics_recall_text_title.append(round(lisa_res_match_recall_text_title['metric_score'], 3))\n",
        "\n",
        "complex_rerank_bert_metrics_recall = []\n",
        "complex_rerank_bert_metrics_recall.append(round(adi_res_complex_rerank_recall['metric_score'], 3))\n",
        "complex_rerank_bert_metrics_recall.append(round(cacm_res_complex_rerank_recall['metric_score'], 3))\n",
        "complex_rerank_bert_metrics_recall.append(round(cisi_res_complex_rerank_recall['metric_score'], 3))\n",
        "complex_rerank_bert_metrics_recall.append(round(cran_res_complex_rerank_recall['metric_score'], 3))\n",
        "complex_rerank_bert_metrics_recall.append(round(lisa_res_complex_rerank_recall['metric_score'], 3))\n",
        "\n",
        "rerank_bert_text_metrics_recall = []\n",
        "rerank_bert_text_metrics_recall.append(round(adi_res_rerank_text_recall['metric_score'], 3))\n",
        "rerank_bert_text_metrics_recall.append(round(cacm_res_rerank_text_recall['metric_score'], 3))\n",
        "rerank_bert_text_metrics_recall.append(round(cisi_res_rerank_text_recall['metric_score'], 3))\n",
        "rerank_bert_text_metrics_recall.append(round(cran_res_rerank_text_recall['metric_score'], 3))\n",
        "rerank_bert_text_metrics_recall.append(round(lisa_res_rerank_text_recall['metric_score'], 3))\n",
        "\n",
        "rerank_bert_title_metrics_recall = []\n",
        "rerank_bert_title_metrics_recall.append(round(adi_res_rerank_title_recall['metric_score'], 3))\n",
        "rerank_bert_title_metrics_recall.append(round(cacm_res_rerank_title_recall['metric_score'], 3))\n",
        "rerank_bert_title_metrics_recall.append(round(cisi_res_rerank_title_recall['metric_score'], 3))\n",
        "rerank_bert_title_metrics_recall.append(round(cran_res_rerank_title_recall['metric_score'], 3))\n",
        "rerank_bert_title_metrics_recall.append(round(lisa_res_rerank_title_recall['metric_score'], 3))\n",
        "\n",
        "\n",
        "labels = ['ADI','CACM', 'CISI','Cranfield', 'LISA']\n",
        "\n",
        "x = np.arange(len(labels))*2.5  # the label locations\n",
        "\n",
        "width = 0.5  # the width of the bars\n",
        "\n",
        "fig, ax = plt.subplots()\n",
        "rects1 = ax.bar(x - 2*width, match_metrics_recall_text_title , width, label='With multi-match query on title and text field')\n",
        "rects2 = ax.bar(x - width, complex_rerank_bert_metrics_recall , width, label='With complex reranking')\n",
        "rects3 = ax.bar(x, rerank_bert_text_metrics_recall, width, label='With Re-Ranking on text field')\n",
        "rects4 = ax.bar(x + width, rerank_bert_title_metrics_recall, width, label='With Re-Ranking on title field')\n",
        "\n",
        "# Add some text for labels, title and custom x-axis tick labels, etc.\n",
        "ax.set_ylabel('metric scores')\n",
        "ax.set_title('Complex re-rank recall scores by corpus')\n",
        "ax.set_xticks(x)\n",
        "ax.set_xticklabels(labels)\n",
        "ax.legend()\n",
        "\n",
        "def autolabel(rects):\n",
        "    \"\"\"Attach a text label above each bar in *rects*, displaying its height.\"\"\"\n",
        "    for rect in rects:\n",
        "        height = rect.get_height()\n",
        "        ax.annotate('{}'.format(height),\n",
        "                    xy=(rect.get_x() + rect.get_width() / 2, height),\n",
        "                    xytext=(0, 3),  # 3 points vertical offset\n",
        "                    textcoords=\"offset points\",\n",
        "                    ha='center', va='bottom')\n",
        "\n",
        "autolabel(rects1)\n",
        "autolabel(rects2)\n",
        "autolabel(rects3)\n",
        "autolabel(rects4)\n",
        "\n",
        "fig.tight_layout()\n",
        "fig.set_figwidth(16)\n",
        "fig.set_figheight(10)\n",
        "\n",
        "plt.show()"
      ],
      "execution_count": null,
      "outputs": [
        {
          "output_type": "display_data",
          "data": {
            "image/png": "[encoded data removed]",
            "text/plain": [
              "<Figure size 1152x720 with 1 Axes>"
            ]
          },
          "metadata": {
            "tags": [],
            "needs_background": "light"
          }
        }
      ]
    },
    {
      "cell_type": "markdown",
      "metadata": {
        "id": "QuxJmfYZG14r"
      },
      "source": [
        "### Precision"
      ]
    },
    {
      "cell_type": "markdown",
      "metadata": {
        "id": "MEC0F38kUqT7"
      },
      "source": [
        "**Precision on 'title' field**"
      ]
    },
    {
      "cell_type": "code",
      "metadata": {
        "colab": {
          "base_uri": "https://localhost:8080/"
        },
        "id": "Bp4g4N7TUpXB",
        "outputId": "31da9b9f-016c-43c2-c6d8-a68242570f3d"
      },
      "source": [
        "import matplotlib\n",
        "import matplotlib.pyplot as plt\n",
        "import numpy as np\n",
        "\n",
        "match_metrics_precision_title = []\n",
        "match_metrics_precision_title.append(round(adi_res_match_precision_title['metric_score'], 3))\n",
        "match_metrics_precision_title.append(round(cacm_res_match_precision_title['metric_score'], 3))\n",
        "match_metrics_precision_title.append(round(cisi_res_match_precision_title['metric_score'], 3))\n",
        "match_metrics_precision_title.append(round(cran_res_match_precision_title['metric_score'], 3))\n",
        "match_metrics_precision_title.append(round(lisa_res_match_precision_title['metric_score'], 3))\n",
        "\n",
        "bert_title_metrics_precision = []\n",
        "bert_title_metrics_precision.append(round(adi_res_bert_title_precision['metric_score'], 3))\n",
        "bert_title_metrics_precision.append(round(cacm_res_bert_title_precision['metric_score'], 3))\n",
        "bert_title_metrics_precision.append(round(cisi_res_bert_title_precision['metric_score'], 3))\n",
        "bert_title_metrics_precision.append(round(cran_res_bert_title_precision['metric_score'], 3))\n",
        "bert_title_metrics_precision.append(round(lisa_res_bert_title_precision['metric_score'], 3))\n",
        "\n",
        "rerank_bert_title_metrics_precision = []\n",
        "rerank_bert_title_metrics_precision.append(round(adi_res_rerank_title_precision['metric_score'], 3))\n",
        "rerank_bert_title_metrics_precision.append(round(cacm_res_rerank_title_precision['metric_score'], 3))\n",
        "rerank_bert_title_metrics_precision.append(round(cisi_res_rerank_title_precision['metric_score'], 3))\n",
        "rerank_bert_title_metrics_precision.append(round(cran_res_rerank_title_precision['metric_score'], 3))\n",
        "rerank_bert_title_metrics_precision.append(round(lisa_res_rerank_title_precision['metric_score'], 3))\n",
        "\n",
        "labels = ['ADI','CACM', 'CISI','Cranfield', 'LISA']\n",
        "\n",
        "x = np.arange(len(labels))*2.5  # the label locations\n",
        "\n",
        "width = 0.5  # the width of the bars\n",
        "\n",
        "fig, ax = plt.subplots()\n",
        "rects1 = ax.bar(x - width, match_metrics_precision_title , width, label='With multi-match query on title')\n",
        "rects2 = ax.bar(x, bert_title_metrics_precision, width, label='With BERT on title field')\n",
        "rects3 = ax.bar(x + width, rerank_bert_title_metrics_precision, width, label='With Re-Ranking on title field')\n",
        "\n",
        "# Add some text for labels, title and custom x-axis tick labels, etc.\n",
        "ax.set_ylabel('metric scores')\n",
        "ax.set_title('Precision scores on title field by corpus')\n",
        "ax.set_xticks(x)\n",
        "ax.set_xticklabels(labels)\n",
        "ax.legend()\n",
        "\n",
        "def autolabel(rects):\n",
        "    \"\"\"Attach a text label above each bar in *rects*, displaying its height.\"\"\"\n",
        "    for rect in rects:\n",
        "        height = rect.get_height()\n",
        "        ax.annotate('{}'.format(height),\n",
        "                    xy=(rect.get_x() + rect.get_width() / 2, height),\n",
        "                    xytext=(0, 3),  # 3 points vertical offset\n",
        "                    textcoords=\"offset points\",\n",
        "                    ha='center', va='bottom')\n",
        "\n",
        "autolabel(rects1)\n",
        "autolabel(rects2)\n",
        "autolabel(rects3)\n",
        "\n",
        "fig.tight_layout()\n",
        "fig.set_figwidth(16)\n",
        "fig.set_figheight(10)\n",
        "\n",
        "plt.show()"
      ],
      "execution_count": null,
      "outputs": [
        {
          "output_type": "display_data",
          "data": {
            "image/png": "[encoded data removed]",
            "text/plain": [
              "<Figure size 1152x720 with 1 Axes>"
            ]
          },
          "metadata": {
            "tags": [],
            "needs_background": "light"
          }
        }
      ]
    },
    {
      "cell_type": "markdown",
      "metadata": {
        "id": "VGP-gBVDVNz2"
      },
      "source": [
        "**Precision on 'text' field**"
      ]
    },
    {
      "cell_type": "code",
      "metadata": {
        "id": "tRF25Yq3G0QU",
        "colab": {
          "base_uri": "https://localhost:8080/"
        },
        "outputId": "e9e344ff-e796-4a67-8450-2bac38398f48"
      },
      "source": [
        "import matplotlib\n",
        "import matplotlib.pyplot as plt\n",
        "import numpy as np\n",
        "\n",
        "match_metrics_precision_text = []\n",
        "match_metrics_precision_text.append(round(adi_res_match_precision_text['metric_score'], 3))\n",
        "match_metrics_precision_text.append(round(cacm_res_match_precision_text['metric_score'], 3))\n",
        "match_metrics_precision_text.append(round(cisi_res_match_precision_text['metric_score'], 3))\n",
        "match_metrics_precision_text.append(round(cran_res_match_precision_text['metric_score'], 3))\n",
        "match_metrics_precision_text.append(round(lisa_res_match_precision_text['metric_score'], 3))\n",
        "match_metrics_precision_text.append(round(med_res_match_precision_text['metric_score'], 3))\n",
        "match_metrics_precision_text.append(round(npl_res_match_precision_text['metric_score'], 3))\n",
        "match_metrics_precision_text.append(round(time_res_match_precision_text['metric_score'], 3))\n",
        "\n",
        "bert_text_metrics_precision = []\n",
        "bert_text_metrics_precision.append(round(adi_res_bert_text_precision['metric_score'], 3))\n",
        "bert_text_metrics_precision.append(round(cacm_res_bert_text_precision['metric_score'], 3))\n",
        "bert_text_metrics_precision.append(round(cisi_res_bert_text_precision['metric_score'], 3))\n",
        "bert_text_metrics_precision.append(round(cran_res_bert_text_precision['metric_score'], 3))\n",
        "bert_text_metrics_precision.append(round(lisa_res_bert_text_precision['metric_score'], 3))\n",
        "bert_text_metrics_precision.append(round(med_res_bert_text_precision['metric_score'], 3))\n",
        "bert_text_metrics_precision.append(round(npl_res_bert_text_precision['metric_score'], 3))\n",
        "bert_text_metrics_precision.append(round(time_res_bert_text_precision['metric_score'], 3))\n",
        "\n",
        "rerank_bert_text_metrics_precision = []\n",
        "rerank_bert_text_metrics_precision.append(round(adi_res_rerank_text_precision['metric_score'], 3))\n",
        "rerank_bert_text_metrics_precision.append(round(cacm_res_rerank_text_precision['metric_score'], 3))\n",
        "rerank_bert_text_metrics_precision.append(round(cisi_res_rerank_text_precision['metric_score'], 3))\n",
        "rerank_bert_text_metrics_precision.append(round(cran_res_rerank_text_precision['metric_score'], 3))\n",
        "rerank_bert_text_metrics_precision.append(round(lisa_res_rerank_text_precision['metric_score'], 3))\n",
        "rerank_bert_text_metrics_precision.append(round(med_res_rerank_text_precision['metric_score'], 3))\n",
        "rerank_bert_text_metrics_precision.append(round(npl_res_rerank_text_precision['metric_score'], 3))\n",
        "rerank_bert_text_metrics_precision.append(round(time_res_rerank_text_precision['metric_score'], 3))\n",
        "\n",
        "\n",
        "labels = ['ADI','CACM', 'CISI','Cranfield', 'LISA', 'Medline', 'NPL', 'Time']\n",
        "\n",
        "x = np.arange(len(labels))*2.5  # the label locations\n",
        "\n",
        "width = 0.6  # the width of the bars\n",
        "\n",
        "fig, ax = plt.subplots()\n",
        "rects1 = ax.bar(x - width, match_metrics_precision_text , width, label='With multi-match query on text')\n",
        "rects2 = ax.bar(x, bert_text_metrics_precision, width, label='With BERT on text field')\n",
        "rects3 = ax.bar(x + width, rerank_bert_text_metrics_precision, width, label='With Re-Ranking on text field')\n",
        "\n",
        "# Add some text for labels, title and custom x-axis tick labels, etc.\n",
        "ax.set_ylabel('metric scores')\n",
        "ax.set_title('Precision scores on text field by corpus')\n",
        "ax.set_xticks(x)\n",
        "ax.set_xticklabels(labels)\n",
        "ax.legend()\n",
        "\n",
        "def autolabel(rects):\n",
        "    \"\"\"Attach a text label above each bar in *rects*, displaying its height.\"\"\"\n",
        "    for rect in rects:\n",
        "        height = rect.get_height()\n",
        "        ax.annotate('{}'.format(height),\n",
        "                    xy=(rect.get_x() + rect.get_width() / 2, height),\n",
        "                    xytext=(0, 3),  # 3 points vertical offset\n",
        "                    textcoords=\"offset points\",\n",
        "                    ha='center', va='bottom')\n",
        "\n",
        "autolabel(rects1)\n",
        "autolabel(rects2)\n",
        "autolabel(rects3)\n",
        "\n",
        "fig.tight_layout()\n",
        "fig.set_figwidth(16)\n",
        "fig.set_figheight(8)\n",
        "\n",
        "plt.show()"
      ],
      "execution_count": null,
      "outputs": [
        {
          "output_type": "display_data",
          "data": {
            "image/png": "[encoded data removed]",
            "text/plain": [
              "<Figure size 1152x576 with 1 Axes>"
            ]
          },
          "metadata": {
            "tags": [],
            "needs_background": "light"
          }
        }
      ]
    },
    {
      "cell_type": "markdown",
      "metadata": {
        "id": "qxvVx6Ew1Z3u"
      },
      "source": [
        "**Precision on a complex re-ranking query**"
      ]
    },
    {
      "cell_type": "code",
      "metadata": {
        "colab": {
          "base_uri": "https://localhost:8080/"
        },
        "id": "N41wwBZA1Z3v",
        "outputId": "a04358b8-52fd-430a-b385-58aced0f2930"
      },
      "source": [
        "import matplotlib\n",
        "import matplotlib.pyplot as plt\n",
        "import numpy as np\n",
        "\n",
        "match_metrics_precision_text_title = []\n",
        "match_metrics_precision_text_title.append(round(adi_res_match_precision_text_title['metric_score'], 3))\n",
        "match_metrics_precision_text_title.append(round(cacm_res_match_precision_text_title['metric_score'], 3))\n",
        "match_metrics_precision_text_title.append(round(cisi_res_match_precision_text_title['metric_score'], 3))\n",
        "match_metrics_precision_text_title.append(round(cran_res_match_precision_text_title['metric_score'], 3))\n",
        "match_metrics_precision_text_title.append(round(lisa_res_match_precision_text_title['metric_score'], 3))\n",
        "\n",
        "complex_rerank_bert_metrics_precision = []\n",
        "complex_rerank_bert_metrics_precision.append(round(adi_res_complex_rerank_precision['metric_score'], 3))\n",
        "complex_rerank_bert_metrics_precision.append(round(cacm_res_complex_rerank_precision['metric_score'], 3))\n",
        "complex_rerank_bert_metrics_precision.append(round(cisi_res_complex_rerank_precision['metric_score'], 3))\n",
        "complex_rerank_bert_metrics_precision.append(round(cran_res_complex_rerank_precision['metric_score'], 3))\n",
        "complex_rerank_bert_metrics_precision.append(round(lisa_res_complex_rerank_precision['metric_score'], 3))\n",
        "\n",
        "rerank_bert_text_metrics_precision = []\n",
        "rerank_bert_text_metrics_precision.append(round(adi_res_rerank_text_precision['metric_score'], 3))\n",
        "rerank_bert_text_metrics_precision.append(round(cacm_res_rerank_text_precision['metric_score'], 3))\n",
        "rerank_bert_text_metrics_precision.append(round(cisi_res_rerank_text_precision['metric_score'], 3))\n",
        "rerank_bert_text_metrics_precision.append(round(cran_res_rerank_text_precision['metric_score'], 3))\n",
        "rerank_bert_text_metrics_precision.append(round(lisa_res_rerank_text_precision['metric_score'], 3))\n",
        "\n",
        "rerank_bert_title_metrics_precision = []\n",
        "rerank_bert_title_metrics_precision.append(round(adi_res_rerank_title_precision['metric_score'], 3))\n",
        "rerank_bert_title_metrics_precision.append(round(cacm_res_rerank_title_precision['metric_score'], 3))\n",
        "rerank_bert_title_metrics_precision.append(round(cisi_res_rerank_title_precision['metric_score'], 3))\n",
        "rerank_bert_title_metrics_precision.append(round(cran_res_rerank_title_precision['metric_score'], 3))\n",
        "rerank_bert_title_metrics_precision.append(round(lisa_res_rerank_title_precision['metric_score'], 3))\n",
        "\n",
        "\n",
        "labels = ['ADI','CACM', 'CISI','Cranfield', 'LISA']\n",
        "\n",
        "x = np.arange(len(labels))*2.5  # the label locations\n",
        "\n",
        "width = 0.5  # the width of the bars\n",
        "\n",
        "fig, ax = plt.subplots()\n",
        "rects1 = ax.bar(x - 2*width, match_metrics_precision_text_title , width, label='With multi-match query on title and text field')\n",
        "rects2 = ax.bar(x - width, complex_rerank_bert_metrics_precision , width, label='With complex reranking')\n",
        "rects3 = ax.bar(x, rerank_bert_text_metrics_precision, width, label='With Re-Ranking on text field')\n",
        "rects4 = ax.bar(x + width, rerank_bert_title_metrics_precision, width, label='With Re-Ranking on title field')\n",
        "\n",
        "# Add some text for labels, title and custom x-axis tick labels, etc.\n",
        "ax.set_ylabel('metric scores')\n",
        "ax.set_title('Complex re-rank precision scores by corpus')\n",
        "ax.set_xticks(x)\n",
        "ax.set_xticklabels(labels)\n",
        "ax.legend()\n",
        "\n",
        "def autolabel(rects):\n",
        "    \"\"\"Attach a text label above each bar in *rects*, displaying its height.\"\"\"\n",
        "    for rect in rects:\n",
        "        height = rect.get_height()\n",
        "        ax.annotate('{}'.format(height),\n",
        "                    xy=(rect.get_x() + rect.get_width() / 2, height),\n",
        "                    xytext=(0, 3),  # 3 points vertical offset\n",
        "                    textcoords=\"offset points\",\n",
        "                    ha='center', va='bottom')\n",
        "\n",
        "autolabel(rects1)\n",
        "autolabel(rects2)\n",
        "autolabel(rects3)\n",
        "autolabel(rects4)\n",
        "\n",
        "fig.tight_layout()\n",
        "fig.set_figwidth(16)\n",
        "fig.set_figheight(10)\n",
        "\n",
        "plt.show()"
      ],
      "execution_count": null,
      "outputs": [
        {
          "output_type": "display_data",
          "data": {
            "image/png": "[encoded data removed]",
            "text/plain": [
              "<Figure size 1152x720 with 1 Axes>"
            ]
          },
          "metadata": {
            "tags": [],
            "needs_background": "light"
          }
        }
      ]
    },
    {
      "cell_type": "markdown",
      "metadata": {
        "id": "Gm1Aej_-T9e0"
      },
      "source": [
        "### F-Score"
      ]
    },
    {
      "cell_type": "markdown",
      "metadata": {
        "id": "0L5Od2S2V5Sn"
      },
      "source": [
        "**F-Score on 'title' field**"
      ]
    },
    {
      "cell_type": "code",
      "metadata": {
        "colab": {
          "base_uri": "https://localhost:8080/",
          "height": 647
        },
        "id": "mYfPAzYTVwRQ",
        "outputId": "50a11d4c-e478-4f92-d116-f988a7bb3d99"
      },
      "source": [
        "import matplotlib\n",
        "import matplotlib.pyplot as plt\n",
        "import numpy as np\n",
        "\n",
        "def f_score(recall,precision):\n",
        "  if recall or precision != 0:\n",
        "    fscore = (2*(recall*precision)/(recall+precision))\n",
        "    return fscore\n",
        "\n",
        "match_metrics_fscore_title = []\n",
        "match_metrics_fscore_title.append(round(f_score(adi_res_match_recall_title['metric_score'], adi_res_match_precision_title['metric_score']),3))\n",
        "match_metrics_fscore_title.append(round(f_score(cacm_res_match_recall_title['metric_score'], cacm_res_match_precision_title['metric_score']),3))\n",
        "match_metrics_fscore_title.append(round(f_score(cisi_res_match_recall_title['metric_score'], cisi_res_match_precision_title['metric_score']),3))\n",
        "match_metrics_fscore_title.append(round(f_score(cran_res_match_recall_title['metric_score'], cran_res_match_precision_title['metric_score']),3))\n",
        "match_metrics_fscore_title.append(round(f_score(lisa_res_match_recall_title['metric_score'], lisa_res_match_precision_title['metric_score']),3))\n",
        "\n",
        "bert_title_metrics_fscore = []\n",
        "bert_title_metrics_fscore.append(round(f_score(adi_res_bert_title_recall['metric_score'], adi_res_bert_title_precision['metric_score']),3))\n",
        "bert_title_metrics_fscore.append(round(f_score(cacm_res_bert_title_recall['metric_score'], cacm_res_bert_title_precision['metric_score']),3))\n",
        "bert_title_metrics_fscore.append(round(f_score(cisi_res_bert_title_recall['metric_score'], cisi_res_bert_title_precision['metric_score']),3))\n",
        "bert_title_metrics_fscore.append(round(f_score(cran_res_bert_title_recall['metric_score'], cran_res_bert_title_precision['metric_score']),3))\n",
        "bert_title_metrics_fscore.append(round(f_score(lisa_res_bert_title_recall['metric_score'], lisa_res_bert_title_precision['metric_score']),3))\n",
        "\n",
        "rerank_bert_title_metrics_fscore = []\n",
        "rerank_bert_title_metrics_fscore.append(round(f_score(adi_res_rerank_title_recall['metric_score'], adi_res_rerank_title_precision['metric_score']),3))\n",
        "rerank_bert_title_metrics_fscore.append(round(f_score(cacm_res_rerank_title_recall['metric_score'], cacm_res_rerank_title_precision['metric_score']),3))\n",
        "rerank_bert_title_metrics_fscore.append(round(f_score(cisi_res_rerank_title_recall['metric_score'], cisi_res_rerank_title_precision['metric_score']),3))\n",
        "rerank_bert_title_metrics_fscore.append(round(f_score(cran_res_rerank_title_recall['metric_score'], cran_res_rerank_title_precision['metric_score']),3))\n",
        "rerank_bert_title_metrics_fscore.append(round(f_score(lisa_res_rerank_title_recall['metric_score'], lisa_res_rerank_title_precision['metric_score']),3))\n",
        "\n",
        "\n",
        "labels = ['ADI','CACM', 'CISI','Cranfield', 'LISA']\n",
        "\n",
        "x = np.arange(len(labels))*2.5  # the label locations\n",
        "\n",
        "width = 0.5  # the width of the bars\n",
        "\n",
        "fig, ax = plt.subplots()\n",
        "rects1 = ax.bar(x - width, match_metrics_fscore_title , width, label='With multi-match query on title')\n",
        "rects2 = ax.bar(x , bert_title_metrics_fscore, width, label='With BERT on title field')\n",
        "rects3 = ax.bar(x + width, rerank_bert_title_metrics_fscore, width, label='With Rerank on title field')\n",
        "\n",
        "# Add some text for labels, title and custom x-axis tick labels, etc.\n",
        "ax.set_ylabel('metric scores')\n",
        "ax.set_title('F1-Scores on title field by corpus')\n",
        "ax.set_xticks(x)\n",
        "ax.set_xticklabels(labels)\n",
        "ax.legend()\n",
        "\n",
        "\n",
        "def autolabel(rects):\n",
        "    \"\"\"Attach a text label above each bar in *rects*, displaying its height.\"\"\"\n",
        "    for rect in rects:\n",
        "        height = rect.get_height()\n",
        "        ax.annotate('{}'.format(height),\n",
        "                    xy=(rect.get_x() + rect.get_width() / 2, height),\n",
        "                    xytext=(0, 3),  # 3 points vertical offset\n",
        "                    textcoords=\"offset points\",\n",
        "                    ha='center', va='bottom')\n",
        "\n",
        "\n",
        "autolabel(rects1)\n",
        "autolabel(rects2)\n",
        "autolabel(rects3)\n",
        "\n",
        "fig.tight_layout()\n",
        "fig.set_figwidth(16)\n",
        "fig.set_figheight(10)\n",
        "\n",
        "plt.show()"
      ],
      "execution_count": null,
      "outputs": [
        {
          "output_type": "display_data",
          "data": {
            "image/png": "[encoded data removed]",
            "text/plain": [
              "<Figure size 1152x720 with 1 Axes>"
            ]
          },
          "metadata": {
            "tags": [],
            "needs_background": "light"
          }
        }
      ]
    },
    {
      "cell_type": "markdown",
      "metadata": {
        "id": "-GbgGBIGV-d9"
      },
      "source": [
        "**F-Score on 'text' field**"
      ]
    },
    {
      "cell_type": "code",
      "metadata": {
        "id": "QA8CpbbRQtIH",
        "colab": {
          "base_uri": "https://localhost:8080/",
          "height": 531
        },
        "outputId": "0a2f9da1-9e38-4c4a-a1d5-2c586ec64c8c"
      },
      "source": [
        "import matplotlib\n",
        "import matplotlib.pyplot as plt\n",
        "import numpy as np\n",
        "\n",
        "def f_score(recall,precision):\n",
        "  if recall or precision != 0:\n",
        "    fscore = (2*(recall*precision)/(recall+precision))\n",
        "    return fscore\n",
        "\n",
        "match_metrics_fscore_text = []\n",
        "match_metrics_fscore_text.append(round(f_score(adi_res_match_recall_text['metric_score'], adi_res_match_precision_text['metric_score']),3))\n",
        "match_metrics_fscore_text.append(round(f_score(cacm_res_match_recall_text['metric_score'], cacm_res_match_precision_text['metric_score']),3))\n",
        "match_metrics_fscore_text.append(round(f_score(cisi_res_match_recall_text['metric_score'], cisi_res_match_precision_text['metric_score']),3))\n",
        "match_metrics_fscore_text.append(round(f_score(cran_res_match_recall_text['metric_score'], cran_res_match_precision_text['metric_score']),3))\n",
        "match_metrics_fscore_text.append(round(f_score(lisa_res_match_recall_text['metric_score'], lisa_res_match_precision_text['metric_score']),3))\n",
        "match_metrics_fscore_text.append(round(f_score(med_res_match_recall_text['metric_score'], med_res_match_precision_text['metric_score']),3))\n",
        "match_metrics_fscore_text.append(round(f_score(npl_res_match_recall_text['metric_score'], npl_res_match_precision_text['metric_score']),3))\n",
        "match_metrics_fscore_text.append(round(f_score(time_res_match_recall_text['metric_score'], time_res_match_precision_text['metric_score']),3))\n",
        "\n",
        "bert_text_metrics_fscore = []\n",
        "bert_text_metrics_fscore.append(round(f_score(adi_res_bert_text_recall['metric_score'], adi_res_bert_text_precision['metric_score']),3))\n",
        "bert_text_metrics_fscore.append(round(f_score(cacm_res_bert_text_recall['metric_score'], cacm_res_bert_text_precision['metric_score']),3))\n",
        "bert_text_metrics_fscore.append(round(f_score(cisi_res_bert_text_recall['metric_score'], cisi_res_bert_text_precision['metric_score']),3))\n",
        "bert_text_metrics_fscore.append(round(f_score(cran_res_bert_text_recall['metric_score'], cran_res_bert_text_precision['metric_score']),3))\n",
        "bert_text_metrics_fscore.append(round(f_score(lisa_res_bert_text_recall['metric_score'], lisa_res_bert_text_precision['metric_score']),3))\n",
        "bert_text_metrics_fscore.append(round(f_score(med_res_bert_text_recall['metric_score'], med_res_bert_text_precision['metric_score']),3))\n",
        "bert_text_metrics_fscore.append(round(f_score(npl_res_bert_text_recall['metric_score'], npl_res_bert_text_precision['metric_score']),3))\n",
        "bert_text_metrics_fscore.append(round(f_score(time_res_bert_text_recall['metric_score'], time_res_bert_text_precision['metric_score']),3))\n",
        "\n",
        "rerank_bert_text_metrics_fscore = []\n",
        "rerank_bert_text_metrics_fscore.append(round(f_score(adi_res_rerank_text_recall['metric_score'], adi_res_rerank_text_precision['metric_score']),3))\n",
        "rerank_bert_text_metrics_fscore.append(round(f_score(cacm_res_rerank_text_recall['metric_score'], cacm_res_rerank_text_precision['metric_score']),3))\n",
        "rerank_bert_text_metrics_fscore.append(round(f_score(cisi_res_rerank_text_recall['metric_score'], cisi_res_rerank_text_precision['metric_score']),3))\n",
        "rerank_bert_text_metrics_fscore.append(round(f_score(cran_res_rerank_text_recall['metric_score'], cran_res_rerank_text_precision['metric_score']),3))\n",
        "rerank_bert_text_metrics_fscore.append(round(f_score(lisa_res_rerank_text_recall['metric_score'], lisa_res_rerank_text_precision['metric_score']),3))\n",
        "rerank_bert_text_metrics_fscore.append(round(f_score(med_res_rerank_text_recall['metric_score'], med_res_rerank_text_precision['metric_score']),3))\n",
        "rerank_bert_text_metrics_fscore.append(round(f_score(npl_res_rerank_text_recall['metric_score'], npl_res_rerank_text_precision['metric_score']),3))\n",
        "rerank_bert_text_metrics_fscore.append(round(f_score(time_res_rerank_text_recall['metric_score'], time_res_rerank_text_precision['metric_score']),3))\n",
        "\n",
        "labels = ['ADI','CACM', 'CISI','Cranfield', 'LISA', 'Medline', 'NPL', 'Time']\n",
        "\n",
        "x = np.arange(len(labels))*2.5  # the label locations\n",
        "\n",
        "width = 0.6  # the width of the bars\n",
        "\n",
        "fig, ax = plt.subplots()\n",
        "rects1 = ax.bar(x - width, match_metrics_fscore_text , width, label='With multi-match query on text')\n",
        "rects2 = ax.bar(x , bert_text_metrics_fscore, width, label='With BERT on text field')\n",
        "rects3 = ax.bar(x + width,rerank_bert_text_metrics_fscore, width, label='With Rerank on text field')\n",
        "\n",
        "# Add some text for labels, title and custom x-axis tick labels, etc.\n",
        "ax.set_ylabel('metric scores')\n",
        "ax.set_title('F1-Scores on text field by corpus')\n",
        "ax.set_xticks(x)\n",
        "ax.set_xticklabels(labels)\n",
        "ax.legend()\n",
        "\n",
        "\n",
        "def autolabel(rects):\n",
        "    \"\"\"Attach a text label above each bar in *rects*, displaying its height.\"\"\"\n",
        "    for rect in rects:\n",
        "        height = rect.get_height()\n",
        "        ax.annotate('{}'.format(height),\n",
        "                    xy=(rect.get_x() + rect.get_width() / 2, height),\n",
        "                    xytext=(0, 3),  # 3 points vertical offset\n",
        "                    textcoords=\"offset points\",\n",
        "                    ha='center', va='bottom')\n",
        "\n",
        "\n",
        "autolabel(rects1)\n",
        "autolabel(rects2)\n",
        "autolabel(rects3)\n",
        "\n",
        "fig.tight_layout()\n",
        "fig.set_figwidth(16)\n",
        "fig.set_figheight(8)\n",
        "\n",
        "plt.show()"
      ],
      "execution_count": null,
      "outputs": [
        {
          "output_type": "display_data",
          "data": {
            "image/png": "[encoded data removed]",
            "text/plain": [
              "<Figure size 1152x576 with 1 Axes>"
            ]
          },
          "metadata": {
            "tags": [],
            "needs_background": "light"
          }
        }
      ]
    },
    {
      "cell_type": "markdown",
      "metadata": {
        "id": "SEyjJzbi2ys1"
      },
      "source": [
        "**F-score on a complex re-ranking query**"
      ]
    },
    {
      "cell_type": "code",
      "metadata": {
        "colab": {
          "base_uri": "https://localhost:8080/",
          "height": 647
        },
        "id": "hO3oqgZE2ys2",
        "outputId": "12c7d9c2-981f-4e22-c2df-667adc147240"
      },
      "source": [
        "import matplotlib\n",
        "import matplotlib.pyplot as plt\n",
        "import numpy as np\n",
        "\n",
        "def f_score(recall,precision):\n",
        "  if recall or precision != 0:\n",
        "    fscore = (2*(recall*precision)/(recall+precision))\n",
        "    return fscore\n",
        "\n",
        "match_metrics_fscore_text_title = []\n",
        "match_metrics_fscore_text_title.append((round(f_score(adi_res_match_recall_text_title['metric_score'], adi_res_match_precision_text_title['metric_score']),3)))\n",
        "match_metrics_fscore_text_title.append((round(f_score(cacm_res_match_recall_text_title['metric_score'], cacm_res_match_precision_text_title['metric_score']),3)))\n",
        "match_metrics_fscore_text_title.append((round(f_score(cisi_res_match_recall_text_title['metric_score'], cisi_res_match_precision_text_title['metric_score']),3)))\n",
        "match_metrics_fscore_text_title.append((round(f_score(cran_res_match_recall_text_title['metric_score'], cran_res_match_precision_text_title['metric_score']),3)))\n",
        "match_metrics_fscore_text_title.append((round(f_score(lisa_res_match_recall_text_title['metric_score'], lisa_res_match_precision_text_title['metric_score']),3)))\n",
        "\n",
        "complex_rerank_bert_metrics_fscore = []\n",
        "complex_rerank_bert_metrics_fscore.append((round(f_score(adi_res_complex_rerank_recall['metric_score'], adi_res_complex_rerank_precision['metric_score']),3)))\n",
        "complex_rerank_bert_metrics_fscore.append((round(f_score(cacm_res_complex_rerank_recall['metric_score'], cacm_res_complex_rerank_precision['metric_score']),3)))\n",
        "complex_rerank_bert_metrics_fscore.append((round(f_score(cisi_res_complex_rerank_recall['metric_score'], cisi_res_complex_rerank_precision['metric_score']),3)))\n",
        "complex_rerank_bert_metrics_fscore.append((round(f_score(cran_res_complex_rerank_recall['metric_score'], cran_res_complex_rerank_precision['metric_score']),3)))\n",
        "complex_rerank_bert_metrics_fscore.append((round(f_score(lisa_res_complex_rerank_recall['metric_score'], lisa_res_complex_rerank_precision['metric_score']),3)))\n",
        "\n",
        "rerank_bert_text_metrics_fscore = []\n",
        "rerank_bert_text_metrics_fscore.append((round(f_score(adi_res_rerank_text_recall['metric_score'], adi_res_rerank_text_precision['metric_score']),3)))\n",
        "rerank_bert_text_metrics_fscore.append((round(f_score(cacm_res_rerank_text_recall['metric_score'], cacm_res_rerank_text_precision['metric_score']),3)))\n",
        "rerank_bert_text_metrics_fscore.append((round(f_score(cisi_res_rerank_text_recall['metric_score'], cisi_res_rerank_text_precision['metric_score']),3)))\n",
        "rerank_bert_text_metrics_fscore.append((round(f_score(cran_res_rerank_text_recall['metric_score'], cran_res_rerank_text_precision['metric_score']),3)))\n",
        "rerank_bert_text_metrics_fscore.append((round(f_score(lisa_res_rerank_text_recall['metric_score'], lisa_res_rerank_text_precision['metric_score']),3)))\n",
        "\n",
        "rerank_bert_title_metrics_fscore = []\n",
        "rerank_bert_title_metrics_fscore.append((round(f_score(adi_res_rerank_title_recall['metric_score'], adi_res_rerank_title_precision['metric_score']),3)))\n",
        "rerank_bert_title_metrics_fscore.append((round(f_score(cacm_res_rerank_title_recall['metric_score'], cacm_res_rerank_title_precision['metric_score']),3)))\n",
        "rerank_bert_title_metrics_fscore.append((round(f_score(cisi_res_rerank_title_recall['metric_score'], cisi_res_rerank_title_precision['metric_score']),3)))\n",
        "rerank_bert_title_metrics_fscore.append((round(f_score(cran_res_rerank_title_recall['metric_score'], cran_res_rerank_title_precision['metric_score']),3)))\n",
        "rerank_bert_title_metrics_fscore.append((round(f_score(lisa_res_rerank_title_recall['metric_score'], lisa_res_rerank_title_precision['metric_score']),3)))\n",
        "\n",
        "\n",
        "labels = ['ADI','CACM', 'CISI','Cranfield', 'LISA']\n",
        "\n",
        "x = np.arange(len(labels))*2.5  # the label locations\n",
        "\n",
        "width = 0.5  # the width of the bars\n",
        "\n",
        "fig, ax = plt.subplots()\n",
        "rects1 = ax.bar(x - 2*width, match_metrics_fscore_text_title , width, label='With multi-match query on title and text field')\n",
        "rects2 = ax.bar(x - width, complex_rerank_bert_metrics_fscore , width, label='With complex reranking')\n",
        "rects3 = ax.bar(x, rerank_bert_text_metrics_fscore, width, label='With Re-Ranking on text field')\n",
        "rects4 = ax.bar(x + width, rerank_bert_title_metrics_fscore, width, label='With Re-Ranking on title field')\n",
        "\n",
        "# Add some text for labels, title and custom x-axis tick labels, etc.\n",
        "ax.set_ylabel('metric scores')\n",
        "ax.set_title('Complex re-ranking F1-Scores by corpus')\n",
        "ax.set_xticks(x)\n",
        "ax.set_xticklabels(labels)\n",
        "ax.legend()\n",
        "\n",
        "\n",
        "def autolabel(rects):\n",
        "    \"\"\"Attach a text label above each bar in *rects*, displaying its height.\"\"\"\n",
        "    for rect in rects:\n",
        "        height = rect.get_height()\n",
        "        ax.annotate('{}'.format(height),\n",
        "                    xy=(rect.get_x() + rect.get_width() / 2, height),\n",
        "                    xytext=(0, 3),  # 3 points vertical offset\n",
        "                    textcoords=\"offset points\",\n",
        "                    ha='center', va='bottom')\n",
        "\n",
        "\n",
        "autolabel(rects1)\n",
        "autolabel(rects2)\n",
        "autolabel(rects3)\n",
        "autolabel(rects4)\n",
        "\n",
        "fig.tight_layout()\n",
        "fig.set_figwidth(16)\n",
        "fig.set_figheight(10)\n",
        "\n",
        "plt.show()"
      ],
      "execution_count": null,
      "outputs": [
        {
          "output_type": "display_data",
          "data": {
            "image/png": "[encoded data removed]",
            "text/plain": [
              "<Figure size 1152x720 with 1 Axes>"
            ]
          },
          "metadata": {
            "tags": [],
            "needs_background": "light"
          }
        }
      ]
    },
    {
      "cell_type": "markdown",
      "metadata": {
        "id": "Ikgcrccon7a1"
      },
      "source": [
        "# Read More\n",
        "Details on this experiment can be found on our [website](https://pragmalingu.de/docs/experiments/experiment2)."
      ]
    }
  ]
}