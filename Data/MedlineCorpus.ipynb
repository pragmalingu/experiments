{
  "nbformat": 4,
  "nbformat_minor": 0,
  "metadata": {
    "colab": {
      "name": "MedlineCorpus.ipynb",
      "provenance": [],
      "toc_visible": true,
      "authorship_tag": "ABX9TyOOZHgEFKF0NRFFoi5nurC3",
      "include_colab_link": true
    },
    "kernelspec": {
      "name": "python3",
      "display_name": "Python 3"
    }
  },
  "cells": [
    {
      "cell_type": "markdown",
      "metadata": {
        "id": "view-in-github",
        "colab_type": "text"
      },
      "source": [
        "<a href=\"https://colab.research.google.com/github/pragmalingu/experiments/blob/master/Data/MedlineCorpus.ipynb\" target=\"_parent\"><img src=\"https://colab.research.google.com/assets/colab-badge.svg\" alt=\"Open In Colab\"/></a>"
      ]
    },
    {
      "cell_type": "markdown",
      "metadata": {
        "colab_type": "text",
        "id": "ZOrLXNr5DVER"
      },
      "source": [
        "# Setup an Elasticsearch Instance in Google Colab"
      ]
    },
    {
      "cell_type": "markdown",
      "metadata": {
        "colab_type": "text",
        "id": "V5AzHO1FDVEU"
      },
      "source": [
        "Everthing to connect to Elasticsearch, for detailed explaination see [this Notebook.](https://)\n",
        "Download:"
      ]
    },
    {
      "cell_type": "code",
      "metadata": {
        "colab_type": "code",
        "id": "bBnu7OFEDVEX",
        "colab": {}
      },
      "source": [
        "import os\n",
        "from subprocess import Popen, PIPE, STDOUT\n",
        "# download elasticsearch\n",
        "!wget https://artifacts.elastic.co/downloads/elasticsearch/elasticsearch-7.9.1-linux-x86_64.tar.gz -q\n",
        "!tar -xzf elasticsearch-7.9.1-linux-x86_64.tar.gz\n",
        "!chown -R daemon:daemon elasticsearch-7.9.1"
      ],
      "execution_count": null,
      "outputs": []
    },
    {
      "cell_type": "markdown",
      "metadata": {
        "id": "bxgS1p4_-zun",
        "colab_type": "text"
      },
      "source": [
        "Start a local server:"
      ]
    },
    {
      "cell_type": "code",
      "metadata": {
        "id": "L8rAj0Ti-pOC",
        "colab_type": "code",
        "colab": {}
      },
      "source": [
        "# start server\n",
        "es_server = Popen(['elasticsearch-7.9.1/bin/elasticsearch'], \n",
        "                  stdout=PIPE, stderr=STDOUT,\n",
        "                  preexec_fn=lambda: os.setuid(1)  # as daemon\n",
        "                 )\n",
        "# client-side\n",
        "!pip install elasticsearch -q\n",
        "from elasticsearch import Elasticsearch\n",
        "from datetime import datetime\n",
        "es = Elasticsearch()\n",
        "es.ping()  # got True"
      ],
      "execution_count": null,
      "outputs": []
    },
    {
      "cell_type": "markdown",
      "metadata": {
        "colab_type": "text",
        "id": "LW6zgF8_JG4e"
      },
      "source": [
        "# Parsing Medline Corpus"
      ]
    },
    {
      "cell_type": "markdown",
      "metadata": {
        "colab_type": "text",
        "id": "coEJjiebJG4j"
      },
      "source": [
        "You can get the corpus from [this link](http://ir.dcs.gla.ac.uk/resources/test_collections/medl/).  <br>\n",
        "For detailed information about the format of the files, see the PragmaLingu [ Benchmarks](https://pragmalingu.de/docs/benchmarks/overview)"
      ]
    },
    {
      "cell_type": "markdown",
      "metadata": {
        "colab_type": "text",
        "id": "LDNzoWupJG4m"
      },
      "source": [
        "### Dowlnoad Data"
      ]
    },
    {
      "cell_type": "markdown",
      "metadata": {
        "colab_type": "text",
        "id": "30J3Uno8JG4o"
      },
      "source": [
        "Download and unzip data."
      ]
    },
    {
      "cell_type": "code",
      "metadata": {
        "colab_type": "code",
        "id": "6Yo-Qv89JG4q",
        "colab": {}
      },
      "source": [
        "!wget http://ir.dcs.gla.ac.uk/resources/test_collections/medl/med.tar.gz\n",
        "!tar -xf med.tar.gz"
      ],
      "execution_count": null,
      "outputs": []
    },
    {
      "cell_type": "markdown",
      "metadata": {
        "colab_type": "text",
        "id": "Q4za9iN6JG4y"
      },
      "source": [
        "Set paths to the dowloaded data as variables:"
      ]
    },
    {
      "cell_type": "code",
      "metadata": {
        "colab_type": "code",
        "id": "1pRBe5nzJG41",
        "colab": {}
      },
      "source": [
        "PATH_TO_MED_TXT = '/content/MED.ALL'\n",
        "PATH_TO_MED_QRY = '/content/MED.QRY'\n",
        "PATH_TO_MED_REL = '/content/MED.REL'"
      ],
      "execution_count": null,
      "outputs": []
    },
    {
      "cell_type": "markdown",
      "metadata": {
        "colab_type": "text",
        "id": "UaetDYMrJG47"
      },
      "source": [
        "### Imports"
      ]
    },
    {
      "cell_type": "markdown",
      "metadata": {
        "colab_type": "text",
        "id": "0RR_-4FMJG49"
      },
      "source": [
        "Make all the imports:"
      ]
    },
    {
      "cell_type": "code",
      "metadata": {
        "colab_type": "code",
        "id": "bA6ajOZ4JG4-",
        "colab": {}
      },
      "source": [
        "from collections import defaultdict\n",
        "import re\n",
        "import json\n",
        "from io import StringIO\n",
        "import numpy as np"
      ],
      "execution_count": null,
      "outputs": []
    },
    {
      "cell_type": "markdown",
      "metadata": {
        "colab_type": "text",
        "id": "r2TDnrAiJG5E"
      },
      "source": [
        "### Process Data"
      ]
    },
    {
      "cell_type": "markdown",
      "metadata": {
        "colab_type": "text",
        "id": "N5bS8EKJJG5F"
      },
      "source": [
        "Get the text entries from the text and query file preprocessed as a list:"
      ]
    },
    {
      "cell_type": "code",
      "metadata": {
        "colab_type": "code",
        "id": "Eex42pVGJG5G",
        "colab": {}
      },
      "source": [
        "ID_marker = re.compile('^\\.I',re.MULTILINE)\n",
        "\n",
        "def get_data(PATH_TO_FILE, marker):\n",
        "  \"\"\"\n",
        "  Reads file and spilts text into entries at the ID marker '.I'.\n",
        "  First entry is empty, so it's removed.\n",
        "  'marker' contains the regex at which we want to split\n",
        "  \"\"\"\n",
        "  with open (PATH_TO_FILE,'r') as f:\n",
        "    text = f.read()\n",
        "    lines = re.split(marker,text)\n",
        "    lines.pop(0)\n",
        "  return lines\n",
        "\n",
        "med_txt_list = get_data(PATH_TO_MED_TXT, ID_marker)\n",
        "med_qry_list = get_data(PATH_TO_MED_QRY, ID_marker)"
      ],
      "execution_count": null,
      "outputs": []
    },
    {
      "cell_type": "markdown",
      "metadata": {
        "colab_type": "text",
        "id": "XG02EfYUJG5M"
      },
      "source": [
        "Process the list of the texts and queries into nested dictionaries which can be saved as json:"
      ]
    },
    {
      "cell_type": "code",
      "metadata": {
        "colab_type": "code",
        "id": "Jyk8FD8dJG5M",
        "colab": {}
      },
      "source": [
        "qry_chunk_start = re.compile('\\.W')\n",
        "\n",
        "# process the document data\n",
        "\n",
        "med_txt_data = defaultdict(dict)\n",
        "med_qry_data = defaultdict(dict)\n",
        "\n",
        "def fill_dictionary(dictionary, chunk_list, marker, key_name):\n",
        "  for n in range(0,len(chunk_list)-1):\n",
        "    line = chunk_list[n+1]\n",
        "    _ , chunk = re.split(marker,line)\n",
        "    dictionary[n+1][key_name] = chunk.strip()\n",
        "\n",
        "fill_dictionary(med_txt_data, med_txt_list, qry_chunk_start, 'text')\n",
        "fill_dictionary(med_qry_data, med_qry_list, qry_chunk_start, 'question')"
      ],
      "execution_count": null,
      "outputs": []
    },
    {
      "cell_type": "markdown",
      "metadata": {
        "colab_type": "text",
        "id": "a3IA3Hb-JG5X"
      },
      "source": [
        "Relevance assesments are saved as numpy and parsed to dictionary:"
      ]
    },
    {
      "cell_type": "code",
      "metadata": {
        "colab_type": "code",
        "id": "kN9Xp8bnJG5Y",
        "colab": {}
      },
      "source": [
        "# process relevance assesments with rating\n",
        "\n",
        "med_rel_data = open(PATH_TO_MED_REL)\n",
        "med_np = np.loadtxt(med_rel_data, dtype=int)\n",
        "\n",
        "med_rel_rat = defaultdict(list)\n",
        "for row in med_np:\n",
        "  med_rel_rat[row[0]].append(row[2])\n",
        "\n",
        "# process relevance assesments without rating\n",
        "med_rel = defaultdict(list)\n",
        "\n",
        "with open (PATH_TO_MED_REL,'r') as f:\n",
        "  for line in f:\n",
        "    line = re.split(' ',line)\n",
        "    med_rel[int(line[0])].append(line[2])"
      ],
      "execution_count": null,
      "outputs": []
    },
    {
      "cell_type": "markdown",
      "metadata": {
        "colab_type": "text",
        "id": "fiA5r3R3JG5e"
      },
      "source": [
        "### Create index for Medline corpus"
      ]
    },
    {
      "cell_type": "markdown",
      "metadata": {
        "id": "11sdTkFhpy5T",
        "colab_type": "text"
      },
      "source": [
        "Create an index for the medline corpus. This is only possible if it isn't created yet.\n",
        "\n",
        "(For more information see the [Elasticsearch documentation](https://elasticsearch-py.readthedocs.io/en/master/api.html#elasticsearch.client.IndicesClient.create))"
      ]
    },
    {
      "cell_type": "code",
      "metadata": {
        "colab_type": "code",
        "id": "cXBubnBUJG5f",
        "colab": {}
      },
      "source": [
        "#create index, see https://elasticsearch-py.readthedocs.io/en/master/api.html#elasticsearch.client.IndicesClient.create\n",
        "es.indices.create(\"medline-corpus\")\n",
        "#print new index list\n",
        "create_response = es.cat.indices()\n",
        "print(create_response)"
      ],
      "execution_count": null,
      "outputs": []
    },
    {
      "cell_type": "markdown",
      "metadata": {
        "id": "EOarkQK0p5mI",
        "colab_type": "text"
      },
      "source": [
        "Index all the documents that are processed to the created index in elasticsearch:\n",
        "\n",
        "(For more information see the [Elasticsearch documentation](https://elasticsearch-py.readthedocs.io/en/master/#example-usage))"
      ]
    },
    {
      "cell_type": "code",
      "metadata": {
        "colab_type": "code",
        "id": "7UMoCAEdJG5j",
        "colab": {}
      },
      "source": [
        "#index document, see https://elasticsearch-py.readthedocs.io/en/master/#example-usage\n",
        "med_index = \"medline-corpus\"\n",
        "\n",
        "for ID, doc_data in txt_data.items():\n",
        "  es.index(index=med_index, id=ID, body=doc_data)\n"
      ],
      "execution_count": null,
      "outputs": []
    },
    {
      "cell_type": "markdown",
      "metadata": {
        "id": "3NnzjwaHp-9I",
        "colab_type": "text"
      },
      "source": [
        "Verify if everthing went right by printing it:"
      ]
    },
    {
      "cell_type": "code",
      "metadata": {
        "id": "egkB6CTaqBPg",
        "colab_type": "code",
        "colab": {
          "base_uri": "https://localhost:8080/",
          "height": 459
        },
        "outputId": "acb30a69-e785-47e5-da22-f5e8766fb810"
      },
      "source": [
        "create_response = es.cat.indices()\n",
        "print(create_response)"
      ],
      "execution_count": null,
      "outputs": [
        {
          "output_type": "stream",
          "text": [
            "yellow open security-auditlog-2020.07.26 3KQWvUwlRHOYj3AeOYcfkg 1 1   31 0  75.6kb  75.6kb\n",
            "yellow open security-auditlog-2020.07.27 C3A4S_lhSC-y5NEvhhhAAg 1 1   20 0  36.9kb  36.9kb\n",
            "yellow open security-auditlog-2020.07.28 sLtcImDYTmafKHDoxhmg8g 1 1   22 0  72.3kb  72.3kb\n",
            "yellow open cranfield-corpus             _d6ZOeRPRGOnb2ftarkP3Q 1 1 1400 0   1.6mb   1.6mb\n",
            "green  open .kibana_92668751_admin_1     VkJe6jjiSMSj77PJCniIZQ 1 0    1 0   3.8kb   3.8kb\n",
            "yellow open pragmalingu-test             f_mKvLYwT9uqrczeykbXxw 1 1    0 0    208b    208b\n",
            "yellow open security-auditlog-2020.07.29 s_wFvB3PTeKWfVSZFdlgOw 1 1    9 0 123.3kb 123.3kb\n",
            "green  open stemmer-cranfield-corpus     sNr-pythTYWzdQtzkPDuAw 1 0 1400 0   1.7mb   1.7mb\n",
            "green  open .kibana_92668751_admin_2     jqG35SnPSluE8FaWoIYZmg 1 0    1 0   3.8kb   3.8kb\n",
            "yellow open adi-corpus                   GcMzBe2bTC28dNE6-UsucQ 1 1   82 0 130.5kb 130.5kb\n",
            "green  open .kibana_1                    JQnZPkFUSmO1fr5WE0TSzw 1 0    0 0    208b    208b\n",
            "green  open .opendistro_security         aOOHbiN_QwKao4FpRXXu7w 1 0    7 1  45.4kb  45.4kb\n",
            "yellow open medline-corpus               coqclML2SG-zVrvvg2M1Sg 1 1 1032 0   1.1mb   1.1mb\n",
            "green  open .tasks                       Ak1djmqKRuqDf9Dw-TLwKQ 1 0    1 0   6.4kb   6.4kb\n",
            "green  open stemmer_index                pnka52e8RcWl197aO2MPjw 1 0    1 0  10.2kb  10.2kb\n",
            "green  open stemmer_index1               rrkXJIfIRgm-FXmC7Ftk7A 1 0    1 0   4.5kb   4.5kb\n",
            "green  open stemmer-index                jrQLMtPxQnum00eNjeJerQ 1 0    1 0   4.5kb   4.5kb\n",
            "yellow open cacm-corpus                  Mj4b0GjXRMi5vW4euWh4UA 1 1 3204 0   4.2mb   4.2mb\n",
            "yellow open cisi-corpus                  eZpgz3IpSge1coQHmsTb7A 1 1 1460 0   2.5mb   2.5mb\n",
            "yellow open security-auditlog-2020.07.24 RtdL1IsqTZu0wcDOgvGIgA 1 1   96 0 163.7kb 163.7kb\n",
            "yellow open security-auditlog-2020.07.25 3B4O7qOhQx2xPKMp7cYIiw 1 1    8 0 110.9kb 110.9kb\n",
            "yellow open stemmer-test-index           nvJ8HZbpSZKDf5P5SNFmfg 1 1    1 0   4.7kb   4.7kb\n",
            "yellow open security-auditlog-2020.07.30 NnDU9kvORb2yutAOIeXr-g 1 1   10 0 141.6kb 141.6kb\n",
            "yellow open security-auditlog-2020.07.31 M3E0K2AzQVebCtny8uczyg 1 1   25 0  99.6kb  99.6kb\n",
            "\n"
          ],
          "name": "stdout"
        }
      ]
    },
    {
      "cell_type": "markdown",
      "metadata": {
        "colab_type": "text",
        "id": "DfDLyAs3JG5n"
      },
      "source": [
        "### Use Corpus in Ranking API"
      ]
    },
    {
      "cell_type": "markdown",
      "metadata": {
        "id": "TCYE0zm5qFa_",
        "colab_type": "text"
      },
      "source": [
        "Use the ranking evaluation API from elasticsearch to evaluate the corpus:\n",
        "\n",
        "(For more information see the [python documentation](https://elasticsearch-py.readthedocs.io/en/master/api.html?highlight=_rank_eval#elasticsearch.Elasticsearch.rank_eval) and the [Elasticsearch documentation](https://www.elastic.co/guide/en/elasticsearch/reference/current/search-rank-eval.html#search-rank-eval))"
      ]
    },
    {
      "cell_type": "code",
      "metadata": {
        "colab_type": "code",
        "id": "csXCyPM1JG5p",
        "colab": {}
      },
      "source": [
        "#use rank eval api, see https://elasticsearch-py.readthedocs.io/en/master/api.html?highlight=_rank_eval#elasticsearch.Elasticsearch.rank_eval \n",
        "#and https://www.elastic.co/guide/en/elasticsearch/reference/current/search-rank-eval.html#search-rank-eval\n",
        "from collections import defaultdict\n",
        "\n",
        "med_index = \"medline-corpus\"\n",
        "\n",
        "def create_query_body(query_dict, rel_dict, index_name):\n",
        "  \"\"\"\n",
        "  The function creates a request for every query in query_dict and rates the relevant documents with rel_dict to 1.\n",
        "  The index name has to be the same as from the documents your looking at.\n",
        "  An evaluation body for the elasticsearch ranking API is returned.\n",
        "  \"\"\"\n",
        "  eval_body = {\n",
        "      \"requests\":'',\n",
        "      \"metric\": {\n",
        "          \"recall\": {\n",
        "              \"relevant_rating_threshold\": 1,\n",
        "              \"k\": 20\n",
        "              }\n",
        "      }\n",
        "  }\n",
        "  requests = [] \n",
        "  current_request = defaultdict(lambda: defaultdict())\n",
        "  current_rel = {\"_index\": index_name, \"_id\": '', \"rating\": int}\n",
        "  for query_ID, query_txt in query_dict.items():\n",
        "    current_query = {\"query\": { \"multi_match\": { \"query\": '' , \"fields\" : [\"title\",\"text\"]}}}\n",
        "    current_query[\"query\"][\"multi_match\"][\"query\"] = query_txt['question']\n",
        "    current_request[\"id\"] = 'Query_'+str(query_ID)\n",
        "    current_request[\"request\"] = current_query.copy()\n",
        "    current_request[\"ratings\"] = [{\"_index\": index_name, \"_id\": str(el), \"rating\": 1} for el in rel_dict[query_ID]]\n",
        "    requests.append(current_request.copy())\n",
        "  eval_body[\"requests\"] = requests\n",
        "  return eval_body\n",
        "\n",
        "med_create = create_query_body(med_qry_data, med_rel, med_index)\n",
        "\n",
        "med_eval_body = json.dumps(med_create)"
      ],
      "execution_count": null,
      "outputs": []
    },
    {
      "cell_type": "markdown",
      "metadata": {
        "colab_type": "text",
        "id": "GHQ27azrJG5s"
      },
      "source": [
        "Print results of Ranking API:"
      ]
    },
    {
      "cell_type": "code",
      "metadata": {
        "colab_type": "code",
        "id": "IxStXr31JG5u",
        "colab": {}
      },
      "source": [
        "med_res = es.rank_eval(med_eval_body, med_index)\n",
        "\n",
        "print(json.dumps(med_res, indent=4, sort_keys=True))"
      ],
      "execution_count": null,
      "outputs": []
    }
  ]
}