{
  "nbformat": 4,
  "nbformat_minor": 0,
  "metadata": {
    "colab": {
      "name": "Comparison_BERT_vs_Standard_Search.ipynb",
      "provenance": [],
      "collapsed_sections": [
        "TGgSR-p4LbRi",
        "OXr3XUJ8Lg22"
      ],
      "toc_visible": true,
      "include_colab_link": true
    },
    "kernelspec": {
      "name": "python3",
      "display_name": "Python 3"
    },
    "accelerator": "GPU"
  },
  "cells": [
    {
      "cell_type": "markdown",
      "metadata": {
        "id": "view-in-github",
        "colab_type": "text"
      },
      "source": [
        "<a href=\"https://colab.research.google.com/github/pragmalingu/experiments/blob/02_BERT/Evaluation/Comparison_BERT_vs_Standard_Search.ipynb\" target=\"_parent\"><img src=\"https://colab.research.google.com/assets/colab-badge.svg\" alt=\"Open In Colab\"/></a>"
      ]
    },
    {
      "cell_type": "markdown",
      "metadata": {
        "id": "Vez_uAAlpyWs"
      },
      "source": [
        "# Second Comparison: Sentence Embeddings vs. Standard Search \n",
        "\n",
        "For our second experiment we connect the Notebook to an Elasticsearch instance and compare a standard Elasticsearch operator with our BERT approach. Therefore we got the vector representations for the documents from BERT and indexed them using an Elasticsearch built-in knn algorithm. \n",
        "We tried this approach in the whole document texts as well as on the document titles.\n",
        "\n",
        "**Bi-Directional Encoder Representation from Transformer (BERT)**\n",
        "\n",
        "BERT is an approach of using large pretrained neural networks with some exceptional solutions to get the vectors from texts, which we can use with some similarity metrics like cosine similarity to compare meaning of these texts.\n",
        "\n",
        "(By the way these networks are frequently used as a backbone or part of ensemble of models to solve some NLP tasks like Question Answering, Ranking, Named Entitity Recognition, etc.)\n",
        "\n",
        "[\"I'm brave enough to read the paper on BERT\"](https://arxiv.org/abs/1810.04805)"
      ]
    },
    {
      "cell_type": "code",
      "metadata": {
        "id": "bgszTWn5pwZL",
        "outputId": "a6943685-a537-4050-e0d8-2073621e7487",
        "colab": {
          "base_uri": "https://localhost:8080/",
          "height": 161
        }
      },
      "source": [
        "#@title Start the connection to our Elasticsearch instance { display-mode: \"form\" }\n",
        "!pip install Elasticsearch\n",
        "from elasticsearch import Elasticsearch\n",
        "from datetime import datetime\n",
        "es = Elasticsearch([\"pragmalingu:ekFYkgqIeeKZN6tbehsZ@ssh.pragmalingu.de:9200\"])\n",
        "response = es.cat.indices()"
      ],
      "execution_count": 1,
      "outputs": [
        {
          "output_type": "stream",
          "text": [
            "Collecting Elasticsearch\n",
            "\u001b[?25l  Downloading https://files.pythonhosted.org/packages/e4/b7/f8f03019089671486e2910282c1b6fce26ccc8a513322df72ac8994ab2de/elasticsearch-7.9.1-py2.py3-none-any.whl (219kB)\n",
            "\r\u001b[K     |█▌                              | 10kB 19.9MB/s eta 0:00:01\r\u001b[K     |███                             | 20kB 1.8MB/s eta 0:00:01\r\u001b[K     |████▌                           | 30kB 2.3MB/s eta 0:00:01\r\u001b[K     |██████                          | 40kB 2.5MB/s eta 0:00:01\r\u001b[K     |███████▌                        | 51kB 2.0MB/s eta 0:00:01\r\u001b[K     |█████████                       | 61kB 2.3MB/s eta 0:00:01\r\u001b[K     |██████████▌                     | 71kB 2.5MB/s eta 0:00:01\r\u001b[K     |████████████                    | 81kB 2.7MB/s eta 0:00:01\r\u001b[K     |█████████████▌                  | 92kB 3.0MB/s eta 0:00:01\r\u001b[K     |███████████████                 | 102kB 2.8MB/s eta 0:00:01\r\u001b[K     |████████████████▌               | 112kB 2.8MB/s eta 0:00:01\r\u001b[K     |██████████████████              | 122kB 2.8MB/s eta 0:00:01\r\u001b[K     |███████████████████▍            | 133kB 2.8MB/s eta 0:00:01\r\u001b[K     |█████████████████████           | 143kB 2.8MB/s eta 0:00:01\r\u001b[K     |██████████████████████▍         | 153kB 2.8MB/s eta 0:00:01\r\u001b[K     |████████████████████████        | 163kB 2.8MB/s eta 0:00:01\r\u001b[K     |█████████████████████████▍      | 174kB 2.8MB/s eta 0:00:01\r\u001b[K     |███████████████████████████     | 184kB 2.8MB/s eta 0:00:01\r\u001b[K     |████████████████████████████▍   | 194kB 2.8MB/s eta 0:00:01\r\u001b[K     |██████████████████████████████  | 204kB 2.8MB/s eta 0:00:01\r\u001b[K     |███████████████████████████████▍| 215kB 2.8MB/s eta 0:00:01\r\u001b[K     |████████████████████████████████| 225kB 2.8MB/s \n",
            "\u001b[?25hRequirement already satisfied: certifi in /usr/local/lib/python3.6/dist-packages (from Elasticsearch) (2020.6.20)\n",
            "Requirement already satisfied: urllib3>=1.21.1 in /usr/local/lib/python3.6/dist-packages (from Elasticsearch) (1.24.3)\n",
            "Installing collected packages: Elasticsearch\n",
            "Successfully installed Elasticsearch-7.9.1\n"
          ],
          "name": "stdout"
        }
      ]
    },
    {
      "cell_type": "markdown",
      "metadata": {
        "id": "OXr3XUJ8Lg22"
      },
      "source": [
        "### Download pretrained BERT model"
      ]
    },
    {
      "cell_type": "code",
      "metadata": {
        "id": "8_8fy6OMLfxt",
        "outputId": "e459b443-3464-469d-ed74-2417bb552de0",
        "colab": {
          "base_uri": "https://localhost:8080/",
          "height": 868
        }
      },
      "source": [
        "!pip install -U sentence-transformers\n",
        "\n",
        "from sentence_transformers import SentenceTransformer\n",
        "import torch\n",
        "\n",
        "model = SentenceTransformer('bert-base-nli-mean-tokens')\n",
        "\n",
        "# using gpu to boost inference if it's possible\n",
        "if torch.cuda.is_available():\n",
        "  model.to('cuda')\n",
        "\n",
        "#Change the length to max possible length (based on gpu memory)\n",
        "model.max_seq_length = 364\n",
        "\n",
        "print('Max Sequence Length:', model.max_seq_length)"
      ],
      "execution_count": 2,
      "outputs": [
        {
          "output_type": "stream",
          "text": [
            "Collecting sentence-transformers\n",
            "\u001b[?25l  Downloading https://files.pythonhosted.org/packages/f4/fd/0190080aa0af78d7cd5874e4e8e85f0bed9967dd387cf05d760832b95da9/sentence-transformers-0.3.8.tar.gz (66kB)\n",
            "\u001b[K     |████████████████████████████████| 71kB 2.2MB/s \n",
            "\u001b[?25hCollecting transformers<3.4.0,>=3.1.0\n",
            "\u001b[?25l  Downloading https://files.pythonhosted.org/packages/19/22/aff234f4a841f8999e68a7a94bdd4b60b4cebcfeca5d67d61cd08c9179de/transformers-3.3.1-py3-none-any.whl (1.1MB)\n",
            "\u001b[K     |████████████████████████████████| 1.1MB 7.8MB/s \n",
            "\u001b[?25hRequirement already satisfied, skipping upgrade: tqdm in /usr/local/lib/python3.6/dist-packages (from sentence-transformers) (4.41.1)\n",
            "Requirement already satisfied, skipping upgrade: torch>=1.2.0 in /usr/local/lib/python3.6/dist-packages (from sentence-transformers) (1.6.0+cu101)\n",
            "Requirement already satisfied, skipping upgrade: numpy in /usr/local/lib/python3.6/dist-packages (from sentence-transformers) (1.18.5)\n",
            "Requirement already satisfied, skipping upgrade: scikit-learn in /usr/local/lib/python3.6/dist-packages (from sentence-transformers) (0.22.2.post1)\n",
            "Requirement already satisfied, skipping upgrade: scipy in /usr/local/lib/python3.6/dist-packages (from sentence-transformers) (1.4.1)\n",
            "Requirement already satisfied, skipping upgrade: nltk in /usr/local/lib/python3.6/dist-packages (from sentence-transformers) (3.2.5)\n",
            "Requirement already satisfied, skipping upgrade: dataclasses; python_version < \"3.7\" in /usr/local/lib/python3.6/dist-packages (from transformers<3.4.0,>=3.1.0->sentence-transformers) (0.7)\n",
            "Requirement already satisfied, skipping upgrade: packaging in /usr/local/lib/python3.6/dist-packages (from transformers<3.4.0,>=3.1.0->sentence-transformers) (20.4)\n",
            "Requirement already satisfied, skipping upgrade: requests in /usr/local/lib/python3.6/dist-packages (from transformers<3.4.0,>=3.1.0->sentence-transformers) (2.23.0)\n",
            "Collecting sacremoses\n",
            "\u001b[?25l  Downloading https://files.pythonhosted.org/packages/7d/34/09d19aff26edcc8eb2a01bed8e98f13a1537005d31e95233fd48216eed10/sacremoses-0.0.43.tar.gz (883kB)\n",
            "\u001b[K     |████████████████████████████████| 890kB 25.8MB/s \n",
            "\u001b[?25hCollecting sentencepiece!=0.1.92\n",
            "\u001b[?25l  Downloading https://files.pythonhosted.org/packages/d4/a4/d0a884c4300004a78cca907a6ff9a5e9fe4f090f5d95ab341c53d28cbc58/sentencepiece-0.1.91-cp36-cp36m-manylinux1_x86_64.whl (1.1MB)\n",
            "\u001b[K     |████████████████████████████████| 1.1MB 45.3MB/s \n",
            "\u001b[?25hCollecting tokenizers==0.8.1.rc2\n",
            "\u001b[?25l  Downloading https://files.pythonhosted.org/packages/80/83/8b9fccb9e48eeb575ee19179e2bdde0ee9a1904f97de5f02d19016b8804f/tokenizers-0.8.1rc2-cp36-cp36m-manylinux1_x86_64.whl (3.0MB)\n",
            "\u001b[K     |████████████████████████████████| 3.0MB 47.7MB/s \n",
            "\u001b[?25hRequirement already satisfied, skipping upgrade: filelock in /usr/local/lib/python3.6/dist-packages (from transformers<3.4.0,>=3.1.0->sentence-transformers) (3.0.12)\n",
            "Requirement already satisfied, skipping upgrade: regex!=2019.12.17 in /usr/local/lib/python3.6/dist-packages (from transformers<3.4.0,>=3.1.0->sentence-transformers) (2019.12.20)\n",
            "Requirement already satisfied, skipping upgrade: future in /usr/local/lib/python3.6/dist-packages (from torch>=1.2.0->sentence-transformers) (0.16.0)\n",
            "Requirement already satisfied, skipping upgrade: joblib>=0.11 in /usr/local/lib/python3.6/dist-packages (from scikit-learn->sentence-transformers) (0.16.0)\n",
            "Requirement already satisfied, skipping upgrade: six in /usr/local/lib/python3.6/dist-packages (from nltk->sentence-transformers) (1.15.0)\n",
            "Requirement already satisfied, skipping upgrade: pyparsing>=2.0.2 in /usr/local/lib/python3.6/dist-packages (from packaging->transformers<3.4.0,>=3.1.0->sentence-transformers) (2.4.7)\n",
            "Requirement already satisfied, skipping upgrade: urllib3!=1.25.0,!=1.25.1,<1.26,>=1.21.1 in /usr/local/lib/python3.6/dist-packages (from requests->transformers<3.4.0,>=3.1.0->sentence-transformers) (1.24.3)\n",
            "Requirement already satisfied, skipping upgrade: idna<3,>=2.5 in /usr/local/lib/python3.6/dist-packages (from requests->transformers<3.4.0,>=3.1.0->sentence-transformers) (2.10)\n",
            "Requirement already satisfied, skipping upgrade: certifi>=2017.4.17 in /usr/local/lib/python3.6/dist-packages (from requests->transformers<3.4.0,>=3.1.0->sentence-transformers) (2020.6.20)\n",
            "Requirement already satisfied, skipping upgrade: chardet<4,>=3.0.2 in /usr/local/lib/python3.6/dist-packages (from requests->transformers<3.4.0,>=3.1.0->sentence-transformers) (3.0.4)\n",
            "Requirement already satisfied, skipping upgrade: click in /usr/local/lib/python3.6/dist-packages (from sacremoses->transformers<3.4.0,>=3.1.0->sentence-transformers) (7.1.2)\n",
            "Building wheels for collected packages: sentence-transformers, sacremoses\n",
            "  Building wheel for sentence-transformers (setup.py) ... \u001b[?25l\u001b[?25hdone\n",
            "  Created wheel for sentence-transformers: filename=sentence_transformers-0.3.8-cp36-none-any.whl size=101996 sha256=9331aab7833ab8d3030bdb41002b8dbbd38497a70d78b7048ff2c83435c31be6\n",
            "  Stored in directory: /root/.cache/pip/wheels/27/ec/b3/d12cc8e4daf77846db6543033d3a5642f204c0320b15945647\n",
            "  Building wheel for sacremoses (setup.py) ... \u001b[?25l\u001b[?25hdone\n",
            "  Created wheel for sacremoses: filename=sacremoses-0.0.43-cp36-none-any.whl size=893257 sha256=65f2f8e9109eaefb50b8a426845ee530c11a9fb7d161ac207af743fce9a43929\n",
            "  Stored in directory: /root/.cache/pip/wheels/29/3c/fd/7ce5c3f0666dab31a50123635e6fb5e19ceb42ce38d4e58f45\n",
            "Successfully built sentence-transformers sacremoses\n",
            "Installing collected packages: sacremoses, sentencepiece, tokenizers, transformers, sentence-transformers\n",
            "Successfully installed sacremoses-0.0.43 sentence-transformers-0.3.8 sentencepiece-0.1.91 tokenizers-0.8.1rc2 transformers-3.3.1\n"
          ],
          "name": "stdout"
        },
        {
          "output_type": "stream",
          "text": [
            "100%|██████████| 405M/405M [00:17<00:00, 23.8MB/s]\n"
          ],
          "name": "stderr"
        },
        {
          "output_type": "stream",
          "text": [
            "Max Sequence Length: 364\n"
          ],
          "name": "stdout"
        }
      ]
    },
    {
      "cell_type": "markdown",
      "metadata": {
        "id": "RQX8W6VepxxT"
      },
      "source": [
        "## Parse Data\n",
        "\n",
        "Get different corpora, format them and feed them to elasticsearch"
      ]
    },
    {
      "cell_type": "markdown",
      "metadata": {
        "id": "SIXjztjXSYnx"
      },
      "source": [
        "### ADI Corpus\n",
        "\n",
        "You can get the corpus from [this link](http://ir.dcs.gla.ac.uk/resources/test_collections/adi/).  <br>\n",
        "For detailed information about the parsing of this corpus look at [ this Notebook](https://colab.research.google.com/github/pragmalingu/private_experiments/blob/adi_corpus/ADICorpus.ipynb) or for parsing in generel read [this guide](https://). \n",
        "\n",
        "**Data Processing**"
      ]
    },
    {
      "cell_type": "code",
      "metadata": {
        "id": "cMSPDRFyShav",
        "outputId": "ef350e2c-e278-4ba8-f651-4af52335df53",
        "colab": {
          "base_uri": "https://localhost:8080/",
          "height": 212
        }
      },
      "source": [
        "# download and unzip data\n",
        "!wget https://nextcloud.samyateia.de/index.php/s/ZWpy29gH4D2sADY/download\n",
        "!tar -xf download\n",
        "!rm download\n",
        "\n",
        "# set paths to the dowloaded data as variables\n",
        "PATH_TO_ADI_QRY = '/content/ADI.QRY'\n",
        "PATH_TO_ADI_REL = '/content/ADI.REL'\n",
        "\n",
        "from collections import defaultdict\n",
        "import re\n",
        "import json\n",
        "from io import StringIO\n",
        "import numpy as np\n",
        "\n",
        "\n",
        "# get the query files\n",
        "\n",
        "ID_marker = re.compile('\\.I')\n",
        "\n",
        "def get_data(PATH_TO_FILE, marker):\n",
        "  \"\"\"\n",
        "  Reads file and spilts text into entries at the ID marker '.I'.\n",
        "  First entry is empty, so it's removed.\n",
        "  'marker' contains the regex at which we want to split\n",
        "  \"\"\"\n",
        "  with open (PATH_TO_FILE,'r') as f:\n",
        "    text = f.read().replace('\\n',\" \")\n",
        "    lines = re.split(marker,text)\n",
        "    lines.pop(0)\n",
        "  return lines\n",
        "\n",
        "adi_qry_list = get_data(PATH_TO_ADI_QRY, ID_marker)\n",
        "\n",
        "# process query file    \n",
        "\n",
        "qry_chunk_start = re.compile('\\.W')\n",
        "adi_qry_data = defaultdict(dict)\n",
        "\n",
        "for n in range(0,len(adi_qry_list)-1):\n",
        "  line = adi_qry_list[n+1]\n",
        "  _ , question = re.split(qry_chunk_start,line)\n",
        "  adi_qry_data[n+1]['question'] = question\n",
        "\n",
        "# process relevance assesment\n",
        "\n",
        "adi_rel_data = open(PATH_TO_ADI_REL)\n",
        "adi_np = np.loadtxt(adi_rel_data, dtype=float)\n",
        "\n",
        "adi_rel = defaultdict(list)\n",
        "for row in adi_np:\n",
        "  adi_rel[int(row[0])].append(int(row[1])) "
      ],
      "execution_count": 3,
      "outputs": [
        {
          "output_type": "stream",
          "text": [
            "--2020-10-20 13:48:20--  https://nextcloud.samyateia.de/index.php/s/ZWpy29gH4D2sADY/download\n",
            "Resolving nextcloud.samyateia.de (nextcloud.samyateia.de)... 194.55.14.32\n",
            "Connecting to nextcloud.samyateia.de (nextcloud.samyateia.de)|194.55.14.32|:443... connected.\n",
            "HTTP request sent, awaiting response... 200 OK\n",
            "Length: 57344 (56K) [application/x-gzip]\n",
            "Saving to: ‘download’\n",
            "\n",
            "download            100%[===================>]  56.00K   277KB/s    in 0.2s    \n",
            "\n",
            "2020-10-20 13:48:21 (277 KB/s) - ‘download’ saved [57344/57344]\n",
            "\n"
          ],
          "name": "stdout"
        }
      ]
    },
    {
      "cell_type": "markdown",
      "metadata": {
        "id": "RdZwKv7_SZFT"
      },
      "source": [
        "### CACM Corpus\n",
        "\n",
        "You can get the corpus from [this link](http://ir.dcs.gla.ac.uk/resources/test_collections/cacm/).  <br>\n",
        "For detailed information about the format of the files, see the PragmaLingu [ Benchmarks](https://pragmalingu.de/docs/benchmarks/overview)\n",
        "\n",
        "**Data Processing**"
      ]
    },
    {
      "cell_type": "code",
      "metadata": {
        "id": "wSONOisRSjTi",
        "outputId": "1360e66a-8f79-438d-d77d-0138e2bf5466",
        "colab": {
          "base_uri": "https://localhost:8080/",
          "height": 212
        }
      },
      "source": [
        "# download and unzip data\n",
        "!wget https://nextcloud.samyateia.de/index.php/s/s4WQLTc7DLYsAaZ/download\n",
        "!tar -xf download\n",
        "!rm download\n",
        "\n",
        "# set paths to the dowloaded data as variablesDownload and unzip data.\n",
        "\n",
        "PATH_TO_CACM_QRY = '/content/query.text'\n",
        "PATH_TO_CACM_REL = '/content/qrels.text'\n",
        "PATH_TO_CACM_COMMON_WORDS = '/content/common_words'\n",
        "\n",
        "from collections import defaultdict\n",
        "import re\n",
        "import json\n",
        "from io import StringIO\n",
        "import numpy as np\n",
        "\n",
        "# get the query files\n",
        "\n",
        "ID_marker = re.compile('^\\.I',re.MULTILINE)\n",
        "\n",
        "def get_data(PATH_TO_FILE, marker):\n",
        "  \"\"\"\n",
        "  Reads file and spilts text into entries at the ID marker '.I'.\n",
        "  First entry is empty, so it's removed.\n",
        "  'marker' contains the regex at which we want to split\n",
        "  \"\"\"\n",
        "  with open (PATH_TO_FILE,'r') as f:\n",
        "    text = f.read()\n",
        "    lines = re.split(marker,text)\n",
        "    lines.pop(0)\n",
        "  return lines\n",
        "\n",
        "cacm_qry_list = get_data(PATH_TO_CACM_QRY, ID_marker)\n",
        "\n",
        "# process the query data\n",
        "\n",
        "qry_chunk_start = re.compile('^\\.W\\n',re.MULTILINE)\n",
        "cacm_qry_data = defaultdict(dict)\n",
        "\n",
        "for n in range(0,len(cacm_qry_list)-1):\n",
        "  line = cacm_qry_list[n+1]\n",
        "  _ , question = re.split(qry_chunk_start,line)\n",
        "  cacm_qry_data[n+1]['question'] = question\n",
        "\n",
        "# process the relevance assesment data\n",
        "cacm_rel = defaultdict(list)\n",
        "\n",
        "with open (PATH_TO_CACM_REL,'r') as f:\n",
        "  for line in f:\n",
        "    line = re.split(' ',line)\n",
        "    cacm_rel[int(line[0])].append(line[1])"
      ],
      "execution_count": 4,
      "outputs": [
        {
          "output_type": "stream",
          "text": [
            "--2020-10-20 13:48:21--  https://nextcloud.samyateia.de/index.php/s/s4WQLTc7DLYsAaZ/download\n",
            "Resolving nextcloud.samyateia.de (nextcloud.samyateia.de)... 194.55.14.32\n",
            "Connecting to nextcloud.samyateia.de (nextcloud.samyateia.de)|194.55.14.32|:443... connected.\n",
            "HTTP request sent, awaiting response... 200 OK\n",
            "Length: 2221056 (2.1M) [application/x-gzip]\n",
            "Saving to: ‘download’\n",
            "\n",
            "download            100%[===================>]   2.12M  2.97MB/s    in 0.7s    \n",
            "\n",
            "2020-10-20 13:48:22 (2.97 MB/s) - ‘download’ saved [2221056/2221056]\n",
            "\n"
          ],
          "name": "stdout"
        }
      ]
    },
    {
      "cell_type": "markdown",
      "metadata": {
        "id": "E20KaO1jSZTc"
      },
      "source": [
        "### CISI Corpus\n",
        "\n",
        "You can get the corpus from [this link](http://ir.dcs.gla.ac.uk/resources/test_collections/cisi/).  <br>\n",
        "For detailed information about the parsing of this corpus look at [ this Notebook](https://colab.research.google.com/github/pragmalingu/private_experiments/blob/cisi_corpus/CISICorpus.ipynb) or for parsing in generel read [this guide](https://).\n",
        "\n",
        "**Data Processing**"
      ]
    },
    {
      "cell_type": "code",
      "metadata": {
        "id": "T64vUBjiSifp",
        "outputId": "8ce61f7d-f887-4a9b-f331-6697eecf1fe9",
        "colab": {
          "base_uri": "https://localhost:8080/",
          "height": 212
        }
      },
      "source": [
        "# download and unzip data\n",
        "!wget https://nextcloud.samyateia.de/index.php/s/ibPgbdqsstrWEAa/download\n",
        "!tar -xf download\n",
        "!rm download\n",
        "\n",
        "# set paths to the dowloaded data as variablesDownload and unzip data.\n",
        "PATH_TO_CISI_QRY = '/content/CISI.QRY'\n",
        "PATH_TO_CISI_REL = '/content/CISI.REL'\n",
        "\n",
        "from collections import defaultdict\n",
        "import re\n",
        "import json\n",
        "from io import StringIO\n",
        "import numpy as np\n",
        "\n",
        "# get the and query files\n",
        "\n",
        "ID_marker = re.compile('^\\.I',re.MULTILINE)\n",
        "\n",
        "def get_data(PATH_TO_FILE, marker):\n",
        "  \"\"\"\n",
        "  Reads file and spilts text into entries at the ID marker '.I'.\n",
        "  First entry is empty, so it's removed.\n",
        "  'marker' contains the regex at which we want to split\n",
        "  \"\"\"\n",
        "  with open (PATH_TO_FILE,'r') as f:\n",
        "    text = f.read()\n",
        "    lines = re.split(marker,text)\n",
        "    lines.pop(0)\n",
        "  return lines\n",
        "\n",
        "cisi_qry_list = get_data(PATH_TO_CISI_QRY, ID_marker)\n",
        "\n",
        "# process query file  \n",
        "\n",
        "qry_chunk_start = re.compile('[\\n]\\.W')\n",
        "\n",
        "cisi_qry_data = defaultdict(dict)\n",
        "\n",
        "for line in cisi_qry_list:\n",
        "  id , question = re.split(qry_chunk_start,line)\n",
        "  id = re.findall('\\d{1,3}',id)[0]\n",
        "  cisi_qry_data[id]['question'] = question\n",
        "\n",
        "# process the relevance assesment data\n",
        "cisi_rel = defaultdict(list)\n",
        "\n",
        "with open (PATH_TO_CISI_REL,'r') as f:\n",
        "  for line in f:\n",
        "    line = line.replace(' ','\\t')\n",
        "    line = re.split('\\t',line)\n",
        "    line = list(filter(None, line))\n",
        "    cisi_rel[str(line[0])].append(str(line[1]))"
      ],
      "execution_count": 5,
      "outputs": [
        {
          "output_type": "stream",
          "text": [
            "--2020-10-20 13:48:23--  https://nextcloud.samyateia.de/index.php/s/ibPgbdqsstrWEAa/download\n",
            "Resolving nextcloud.samyateia.de (nextcloud.samyateia.de)... 194.55.14.32\n",
            "Connecting to nextcloud.samyateia.de (nextcloud.samyateia.de)|194.55.14.32|:443... connected.\n",
            "HTTP request sent, awaiting response... 200 OK\n",
            "Length: 2385920 (2.3M) [application/x-gzip]\n",
            "Saving to: ‘download’\n",
            "\n",
            "download            100%[===================>]   2.28M  3.18MB/s    in 0.7s    \n",
            "\n",
            "2020-10-20 13:48:24 (3.18 MB/s) - ‘download’ saved [2385920/2385920]\n",
            "\n"
          ],
          "name": "stdout"
        }
      ]
    },
    {
      "cell_type": "markdown",
      "metadata": {
        "id": "2uBvUwRPpxT_"
      },
      "source": [
        "### Cranfield Corpus\n",
        "\n",
        "You can get the corpus from [this link](http://ir.dcs.gla.ac.uk/resources/test_collections/cran/).  <br>\n",
        "For detailed information about the parsing of this corpus look at [ this Notebook](https://colab.research.google.com/github/pragmalingu/private_experiments/blob/cranfield_corpus/CranfieldCorpus.ipynb) or for parsing in generel read [this guide](https://).\n",
        "\n",
        "**Data Processing**"
      ]
    },
    {
      "cell_type": "code",
      "metadata": {
        "id": "kmlwZmVMTRCY",
        "outputId": "f3d84cfa-45eb-4f5d-b24d-48748fced3f2",
        "colab": {
          "base_uri": "https://localhost:8080/",
          "height": 212
        }
      },
      "source": [
        "#download and unzip data\n",
        "!wget https://nextcloud.samyateia.de/index.php/s/ePSxPpLELCWteeL/download\n",
        "!tar -xf download\n",
        "!rm download\n",
        "\n",
        "#set paths for the downloaded data\n",
        "PATH_TO_CRAN_QRY = '/content/cran.qry'\n",
        "PATH_TO_CRAN_REL = '/content/cranqrel'\n",
        "\n",
        "#defaultdict calls a factory function to supply missing values \n",
        "from collections import defaultdict\n",
        "\n",
        "#regular expression operations\n",
        "import re \n",
        "\n",
        "def get_data(PATH_TO_FILE, marker):\n",
        "  \"\"\"\n",
        "  Reads file and spilts text into entries at the ID marker '.I'.\n",
        "  First entry is empty, so it's removed.\n",
        "  'marker' contains the regex at which we want to split\n",
        "  \"\"\"\n",
        "  with open (PATH_TO_FILE, 'r') as f:\n",
        "    text = f.read().replace('\\n', \" \")\n",
        "    lines = re.split(marker, text)\n",
        "    lines.pop(0)\n",
        "  return lines\n",
        "\n",
        "#get the query files\n",
        "ID_marker = re.compile('\\.I')\n",
        "cran_qry_list = get_data(PATH_TO_CRAN_QRY, ID_marker)\n",
        "\n",
        "#process query file\n",
        "cran_qry_data = defaultdict(dict)\n",
        "qry_chunk_start = re.compile('\\.W')\n",
        "\n",
        "for n in range(0, len(cran_qry_list)-1):\n",
        "  line = cran_qry_list[n+1]\n",
        "  _ , question = re.split(qry_chunk_start, line)\n",
        "  cran_qry_data[n+1]['question'] = question\n",
        "\n",
        "#process relevance assessments without rating\n",
        "cran_rel = defaultdict(list)\n",
        "\n",
        "with open(PATH_TO_CRAN_REL, 'r') as f:\n",
        "  for line in f:\n",
        "    line = re.split(' ', line)\n",
        "    cran_rel[int(line[0])].append(line[1])"
      ],
      "execution_count": 6,
      "outputs": [
        {
          "output_type": "stream",
          "text": [
            "--2020-10-20 13:48:25--  https://nextcloud.samyateia.de/index.php/s/ePSxPpLELCWteeL/download\n",
            "Resolving nextcloud.samyateia.de (nextcloud.samyateia.de)... 194.55.14.32\n",
            "Connecting to nextcloud.samyateia.de (nextcloud.samyateia.de)|194.55.14.32|:443... connected.\n",
            "HTTP request sent, awaiting response... 200 OK\n",
            "Length: 1698816 (1.6M) [application/x-gzip]\n",
            "Saving to: ‘download’\n",
            "\n",
            "download            100%[===================>]   1.62M  2.28MB/s    in 0.7s    \n",
            "\n",
            "2020-10-20 13:48:26 (2.28 MB/s) - ‘download’ saved [1698816/1698816]\n",
            "\n"
          ],
          "name": "stdout"
        }
      ]
    },
    {
      "cell_type": "markdown",
      "metadata": {
        "id": "Hth0myYcBlAk"
      },
      "source": [
        "### LISA Corpus\n",
        "\n",
        "You can get the corpus from [this link](http://ir.dcs.gla.ac.uk/resources/test_collections/lisa/).  <br>\n",
        "For detailed information about the format of the files, see the PragmaLingu [ Benchmarks](https://pragmalingu.de/docs/benchmarks/overview)\n",
        "\n",
        "**Data Processing**"
      ]
    },
    {
      "cell_type": "code",
      "metadata": {
        "id": "Eo4o1z1vBlAs",
        "outputId": "4df9c577-61a5-4462-8a52-b85f7e88c030",
        "colab": {
          "base_uri": "https://localhost:8080/",
          "height": 212
        }
      },
      "source": [
        "# download and unzip data\n",
        "!wget https://nextcloud.samyateia.de/index.php/s/Ed8gekyDgpkGGQ6/download\n",
        "!tar -xf download\n",
        "!rm download\n",
        "\n",
        "# set paths to the dowloaded data as variablesDownload and unzip data.\n",
        "\n",
        "PATH_TO_LISA_QRY = '/content/LISA.QUE'\n",
        "PATH_TO_LISA_REL = '/content/LISARJ.NUM'\n",
        "\n",
        "from collections import defaultdict\n",
        "import re\n",
        "import json\n",
        "from io import StringIO\n",
        "import numpy as np\n",
        "import os\n",
        "\n",
        "# get the query files\n",
        "qry_entry_marker = re.compile('#')\n",
        "\n",
        "def get_data(PATH_TO_FILES, marker):\n",
        "  \"\"\"\n",
        "  Reads multiple files and spilts text into entries at the entry marker.\n",
        "  The 'marker' contains the regex at which we want to split\n",
        "  Pops last element since it's empty.\n",
        "  \"\"\"\n",
        "  with open (PATH_TO_FILES,'r') as f:\n",
        "    text = f.read().replace('     ','')\n",
        "    lines = re.split(marker,text)\n",
        "    lines.pop()\n",
        "  return lines\n",
        "\n",
        "lisa_qry_list = get_data(PATH_TO_LISA_QRY, qry_entry_marker)\n",
        "\n",
        "# process the query data\n",
        "\n",
        "lisa_qry_data = defaultdict(dict)\n",
        "# first line is a special case because it doesn't start with a newline\n",
        "first_line = lisa_qry_list[0]\n",
        "first_question = ' '.join(first_line[1:])\n",
        "lisa_qry_data[int(first_line[0])]['question'] = first_question\n",
        "\n",
        "# after that every line can be handle the same way\n",
        "for n in range(0,len(lisa_qry_list)-1):\n",
        "  line = re.split('\\n',lisa_qry_list[n+1])\n",
        "  question = ' '.join(line[2:])\n",
        "  lisa_qry_data[int(line[1])]['question'] = question\n",
        "\n",
        "# process relevance assesments\n",
        "lisa_rel = defaultdict(list)\n",
        "\n",
        "rel_marker = re.compile('            \\n        ')\n",
        "rel_split = re.compile('\\n')\n",
        "\n",
        "with open (PATH_TO_LISA_REL,'r') as f:\n",
        "  file = f.read().strip('       ').replace('\\n','')\n",
        "  lines = re.split(' ',file)\n",
        "  lines = list(filter(None, lines))\n",
        "  n = 0\n",
        "  while n < len(lines):\n",
        "    ID = int(lines[n])\n",
        "    num_rel = int(lines[n+1])\n",
        "    rels = lines[(n+2):(n+num_rel+2)]\n",
        "    lisa_rel[ID].extend(rels)\n",
        "    n = n+1+num_rel+1"
      ],
      "execution_count": 7,
      "outputs": [
        {
          "output_type": "stream",
          "text": [
            "--2020-10-20 13:48:27--  https://nextcloud.samyateia.de/index.php/s/Ed8gekyDgpkGGQ6/download\n",
            "Resolving nextcloud.samyateia.de (nextcloud.samyateia.de)... 194.55.14.32\n",
            "Connecting to nextcloud.samyateia.de (nextcloud.samyateia.de)|194.55.14.32|:443... connected.\n",
            "HTTP request sent, awaiting response... 200 OK\n",
            "Length: 4012544 (3.8M) [application/x-gzip]\n",
            "Saving to: ‘download’\n",
            "\n",
            "download            100%[===================>]   3.83M  4.71MB/s    in 0.8s    \n",
            "\n",
            "2020-10-20 13:48:28 (4.71 MB/s) - ‘download’ saved [4012544/4012544]\n",
            "\n"
          ],
          "name": "stdout"
        }
      ]
    },
    {
      "cell_type": "markdown",
      "metadata": {
        "id": "-xNf8E2oSYOT"
      },
      "source": [
        "## Evaluation"
      ]
    },
    {
      "cell_type": "markdown",
      "metadata": {
        "id": "CemuLaUAMHKP"
      },
      "source": [
        "### Recall\n",
        "\n",
        "In this section we only evaluate the Recall scores."
      ]
    },
    {
      "cell_type": "markdown",
      "metadata": {
        "id": "u71ZvdbWMkIe"
      },
      "source": [
        "**Multi Match Query**\n",
        "\n",
        "Here we evaluate the data with the [\"multi_match\"](https://pragmalingu.de/docs/experiments/experiment1#standard-elasticsearch) option of elastic search:"
      ]
    },
    {
      "cell_type": "code",
      "metadata": {
        "id": "pn_g9h7xMkIi"
      },
      "source": [
        "#use rank eval api, see https://elasticsearch-py.readthedocs.io/en/master/api.html?highlight=_rank_eval#elasticsearch.Elasticsearch.rank_eval \n",
        "#and https://www.elastic.co/guide/en/elasticsearch/reference/current/query-dsl-simple-query-string-query.html \n",
        "\n",
        "import json\n",
        "from collections import defaultdict\n",
        "\n",
        "adi_index = 'pragmalingu-adi-corpus'\n",
        "cacm_index = 'pragmalingu-cacm-corpus'\n",
        "cisi_index = 'pragmalingu-cisi-corpus'\n",
        "cran_index = 'pragmalingu-cranfield-corpus'\n",
        "lisa_index = 'pragmalingu-lisa-corpus'\n",
        "\n",
        "#function to get normal match evaluation body \n",
        "def create_query_body_match_recall(query_dict, rel_dict, index_name):\n",
        "  \"\"\"\n",
        "  The function creates a request for every query in query_dict and rates the relevant documents with rel_dict to 1.\n",
        "  The index name has to be the same as from the documents your looking at.\n",
        "  An evaluation body for the elasticsearch ranking API is returned.\n",
        "  \"\"\"\n",
        "  eval_body = {\n",
        "      \"requests\": '',\n",
        "      \"metric\": {\n",
        "          \"recall\": {\n",
        "              \"relevant_rating_threshold\": 1,\n",
        "              \"k\": 20\n",
        "              }\n",
        "      }\n",
        "  }\n",
        "  requests = [] \n",
        "  current_request = defaultdict(lambda: defaultdict())\n",
        "  current_rel = {\"_index\": index_name, \"_id\": '', \"rating\": int}\n",
        "  for query_ID, query_txt in query_dict.items():\n",
        "    current_query = {\"query\": { \"multi_match\": { \"query\": '' , \"fields\" : [\"title\"]}}}\n",
        "    current_query[\"query\"][\"multi_match\"][\"query\"] = query_txt['question']\n",
        "    current_request[\"id\"] = 'Query_'+str(query_ID)\n",
        "    current_request[\"request\"] = current_query.copy()\n",
        "    current_request[\"ratings\"] = [{\"_index\": index_name, \"_id\": str(el), \"rating\": 1} for el in rel_dict[query_ID]]\n",
        "    requests.append(current_request.copy())\n",
        "  eval_body[\"requests\"] = requests\n",
        "  return eval_body\n",
        "\n",
        "\n",
        "#ADI\n",
        "adi_create_match_recall = create_query_body_match_recall(adi_qry_data, adi_rel, adi_index)\n",
        "adi_eval_body_match_recall = json.dumps(adi_create_match_recall)\n",
        "adi_res_match_recall = es.rank_eval(adi_eval_body_match_recall, adi_index)\n",
        "#print(json.dumps(adi_res_match_recall, indent=4, sort_keys=True))\n",
        "\n",
        "#CACM\n",
        "cacm_create_match_recall = create_query_body_match_recall(cacm_qry_data, cacm_rel, cacm_index)\n",
        "cacm_eval_body_match_recall = json.dumps(cacm_create_match_recall)\n",
        "cacm_res_match_recall = es.rank_eval(cacm_eval_body_match_recall,cacm_index)\n",
        "#print(json.dumps(cacm_res_match_recall, indent=4, sort_keys=True))\n",
        "\n",
        "#CISI\n",
        "cisi_create_match_recall = create_query_body_match_recall(cisi_qry_data, cisi_rel, cisi_index)\n",
        "cisi_eval_body_match_recall = json.dumps(cisi_create_match_recall)\n",
        "cisi_res_match_recall = es.rank_eval(cisi_eval_body_match_recall, cisi_index)\n",
        "#print(json.dumps(cisi_res_match_recall, indent=4, sort_keys=True))\n",
        "\n",
        "#Cranfield\n",
        "cran_create_match_recall = create_query_body_match_recall(cran_qry_data, cran_rel, cran_index)\n",
        "cran_eval_body_match_recall = json.dumps(cran_create_match_recall)\n",
        "cran_res_match_recall = es.rank_eval(cran_eval_body_match_recall, cran_index)\n",
        "#print(json.dumps(cran_res_match_recall, indent=4, sort_keys=True))\n",
        "\n",
        "#LISA\n",
        "lisa_create_match_recall = create_query_body_match_recall(lisa_qry_data, lisa_rel, lisa_index)\n",
        "lisa_eval_body_match_recall = json.dumps(lisa_create_match_recall)\n",
        "lisa_res_match_recall = es.rank_eval(lisa_eval_body_match_recall,lisa_index)\n",
        "#print(json.dumps(lisa_res_match_recall, indent=4, sort_keys=True))"
      ],
      "execution_count": 31,
      "outputs": []
    },
    {
      "cell_type": "markdown",
      "metadata": {
        "id": "NtYZw0nXnmNd"
      },
      "source": [
        "**BERT Sentence Embeddings on 'title' field**"
      ]
    },
    {
      "cell_type": "code",
      "metadata": {
        "id": "Vijm2d9Uwou2"
      },
      "source": [
        "#use rank eval api, see https://elasticsearch-py.readthedocs.io/en/master/api.html?highlight=_rank_eval#elasticsearch.Elasticsearch.rank_eval \n",
        "#and https://www.elastic.co/guide/en/elasticsearch/reference/current/search-rank-eval.html#search-rank-eval\n",
        "\n",
        "from collections import defaultdict\n",
        "\n",
        "adi_index = 'pragmalingu-bert-title-adi-corpus'\n",
        "cacm_index = 'pragmalingu-bert-title-cacm-corpus'\n",
        "cisi_index = 'pragmalingu-bert-title-cisi-corpus'\n",
        "cran_index = 'pragmalingu-bert-title-cranfield-corpus'\n",
        "lisa_index = 'pragmalingu-bert-title-lisa-corpus'\n",
        "\n",
        "# function to get normal match evaluation body \n",
        "\n",
        "def create_query_body_bert_title_recall(query_dict, rel_dict, index_name):\n",
        "  \"\"\"\n",
        "  The function creates a request for every query in query_dict and rates the relevant documents with rel_dict to 1.\n",
        "  The index name has to be the same as from the documents your looking at.\n",
        "  An evaluation body for the elasticsearch ranking API is returned.\n",
        "  \"\"\"\n",
        "  eval_body = {\n",
        "      \"requests\":'',\n",
        "      \"metric\": {\n",
        "          \"recall\": {\n",
        "            \"k\" : 20,\n",
        "            \"relevant_rating_threshold\": 1,\n",
        "            #\"ignore_unlabeled\": \"false\"\n",
        "            }\n",
        "      }\n",
        "  }\n",
        "  requests = [] \n",
        "  current_request = defaultdict(lambda: defaultdict())\n",
        "  current_rel = {\"_index\": index_name, \"_id\": '', \"rating\": int}\n",
        "  for query_ID, query_txt in query_dict.items():\n",
        "    current_query = {\n",
        "        \"size\": 20,\n",
        "        \"query\": {\n",
        "          \"knn\": {\n",
        "            \"bert_vector_title\": {\n",
        "              \"vector\": list(model.encode(query_txt['question']).astype(float)),\n",
        "              \"k\": 20\n",
        "            }\n",
        "          }\n",
        "        }\n",
        "      }\n",
        "      \n",
        "    current_request[\"id\"] = 'Query_'+str(query_ID)\n",
        "    current_request[\"request\"] = current_query.copy()\n",
        "    current_request[\"ratings\"] = [{\n",
        "          \"_index\": index_name, \n",
        "          \"_id\": str(el) if type(el) != tuple else str(el[0]), \n",
        "          \"rating\": 1} for el in rel_dict[query_ID]]\n",
        "    requests.append(current_request.copy())\n",
        "  eval_body[\"requests\"] = requests\n",
        "  return eval_body\n",
        "\n",
        "\n",
        "# ADI\n",
        "\n",
        "adi_create_bert_title_recall = create_query_body_bert_title_recall(adi_qry_data, adi_rel, adi_index)\n",
        "adi_eval_body_bert_title_recall = json.dumps(adi_create_bert_title_recall)\n",
        "adi_res_bert_title_recall = es.rank_eval(adi_eval_body_bert_title_recall, adi_index)\n",
        "#print(json.dumps(adi_create_bert_title_recall, indent=4, sort_keys=True))\n",
        "\n",
        "# CACM\n",
        "\n",
        "cacm_create_bert_title_recall = create_query_body_bert_title_recall(cacm_qry_data, cacm_rel, cacm_index)\n",
        "cacm_eval_body_bert_title_recall = json.dumps(cacm_create_bert_title_recall)\n",
        "cacm_res_bert_title_recall = es.rank_eval(cacm_eval_body_bert_title_recall, cacm_index)\n",
        "#print(json.dumps(cacm_res_bert_title_recall, indent=4, sort_keys=True))\n",
        "\n",
        "# CISI\n",
        "\n",
        "cisi_create_bert_title_recall = create_query_body_bert_title_recall(cisi_qry_data, cisi_rel, cisi_index)\n",
        "cisi_eval_body_bert_title_recall = json.dumps(cisi_create_bert_title_recall)\n",
        "cisi_res_bert_title_recall = es.rank_eval(cisi_eval_body_bert_title_recall, cisi_index)\n",
        "#print(json.dumps(cisi_res_bert_title_recall, indent=4, sort_keys=True))\n",
        "\n",
        "# Cranfield\n",
        "\n",
        "cran_create_bert_title_recall = create_query_body_bert_title_recall(cran_qry_data, cran_rel, cran_index)\n",
        "cran_eval_body_bert_title_recall = json.dumps(cran_create_bert_title_recall)\n",
        "cran_res_bert_title_recall = es.rank_eval(cran_eval_body_bert_title_recall, cran_index)\n",
        "#print(json.dumps(cran_res_bert_title_recall, indent=4, sort_keys=True))\n",
        "\n",
        "# LISA\n",
        "\n",
        "lisa_create_bert_title_recall = create_query_body_bert_title_recall(lisa_qry_data, lisa_rel, lisa_index)\n",
        "lisa_eval_body_bert_title_recall = json.dumps(lisa_create_bert_title_recall)\n",
        "lisa_res_bert_title_recall = es.rank_eval(lisa_eval_body_bert_title_recall, lisa_index)\n",
        "#print(json.dumps(lisa_res_bert_title_recall, indent=4, sort_keys=True))"
      ],
      "execution_count": 32,
      "outputs": []
    },
    {
      "cell_type": "markdown",
      "metadata": {
        "id": "kuHz0wJvFBzW"
      },
      "source": [
        "### Precision\n",
        "\n",
        "In this section we only evaluate the Precision scores."
      ]
    },
    {
      "cell_type": "markdown",
      "metadata": {
        "id": "tfC6EgJdFBza"
      },
      "source": [
        "**Multi Match Query**\n",
        "\n",
        "Here we evaluate the data with the [\"multi_match\"](https://pragmalingu.de/docs/experiments/experiment1#standard-elasticsearch) option of elastic search:"
      ]
    },
    {
      "cell_type": "code",
      "metadata": {
        "id": "8dvtBA_NFBzc"
      },
      "source": [
        "#use rank eval api, see https://elasticsearch-py.readthedocs.io/en/master/api.html?highlight=_rank_eval#elasticsearch.Elasticsearch.rank_eval \n",
        "#and https://www.elastic.co/guide/en/elasticsearch/reference/current/query-dsl-simple-query-string-query.html \n",
        "\n",
        "import json\n",
        "from collections import defaultdict\n",
        "\n",
        "adi_index = 'pragmalingu-adi-corpus'\n",
        "cacm_index = 'pragmalingu-cacm-corpus'\n",
        "cisi_index = 'pragmalingu-cisi-corpus'\n",
        "cran_index = 'pragmalingu-cranfield-corpus'\n",
        "lisa_index = 'pragmalingu-lisa-corpus'\n",
        "\n",
        "#function to get normal match evaluation body \n",
        "def create_query_body_match_precision(query_dict, rel_dict, index_name):\n",
        "  \"\"\"\n",
        "  The function creates a request for every query in query_dict and rates the relevant documents with rel_dict to 1.\n",
        "  The index name has to be the same as from the documents your looking at.\n",
        "  An evaluation body for the elasticsearch ranking API is returned.\n",
        "  \"\"\"\n",
        "  eval_body = {\n",
        "      \"requests\": '',\n",
        "      \"metric\": {\n",
        "          \"precision\": {\n",
        "              \"relevant_rating_threshold\": 1,\n",
        "              \"k\": 20\n",
        "              }\n",
        "      }\n",
        "  }\n",
        "  requests = [] \n",
        "  current_request = defaultdict(lambda: defaultdict())\n",
        "  current_rel = {\"_index\": index_name, \"_id\": '', \"rating\": int}\n",
        "  for query_ID, query_txt in query_dict.items():\n",
        "    current_query = {\"query\": { \"multi_match\": { \"query\": '' , \"fields\" : [\"title\"]}}}\n",
        "    current_query[\"query\"][\"multi_match\"][\"query\"] = query_txt['question']\n",
        "    current_request[\"id\"] = 'Query_'+str(query_ID)\n",
        "    current_request[\"request\"] = current_query.copy()\n",
        "    current_request[\"ratings\"] = [{\"_index\": index_name, \"_id\": str(el), \"rating\": 1} for el in rel_dict[query_ID]]\n",
        "    requests.append(current_request.copy())\n",
        "  eval_body[\"requests\"] = requests\n",
        "  return eval_body\n",
        "\n",
        "\n",
        "#ADI\n",
        "adi_create_match_precision= create_query_body_match_precision(adi_qry_data, adi_rel, adi_index)\n",
        "adi_eval_body_match_precision = json.dumps(adi_create_match_precision)\n",
        "adi_res_match_precision = es.rank_eval(adi_eval_body_match_precision, adi_index)\n",
        "#print(json.dumps(adi_res_match_precision, indent=4, sort_keys=True))\n",
        "\n",
        "#CACM\n",
        "cacm_create_match_precision = create_query_body_match_precision(cacm_qry_data, cacm_rel, cacm_index)\n",
        "cacm_eval_body_match_precision = json.dumps(cacm_create_match_precision)\n",
        "cacm_res_match_precision = es.rank_eval(cacm_eval_body_match_precision,cacm_index)\n",
        "#print(json.dumps(cacm_res_match_precision, indent=4, sort_keys=True))\n",
        "\n",
        "#CISI\n",
        "cisi_create_match_precision = create_query_body_match_precision(cisi_qry_data, cisi_rel, cisi_index)\n",
        "cisi_eval_body_match_precision = json.dumps(cisi_create_match_precision)\n",
        "cisi_res_match_precision = es.rank_eval(cisi_eval_body_match_precision, cisi_index)\n",
        "#print(json.dumps(cisi_res_match_precision, indent=4, sort_keys=True))\n",
        "\n",
        "#Cranfield\n",
        "cran_create_match_precision = create_query_body_match_precision(cran_qry_data, cran_rel, cran_index)\n",
        "cran_eval_body_match_precision = json.dumps(cran_create_match_precision)\n",
        "cran_res_match_precision = es.rank_eval(cran_eval_body_match_precision, cran_index)\n",
        "#print(json.dumps(cran_res_match_precision, indent=4, sort_keys=True))\n",
        "\n",
        "#LISA\n",
        "lisa_create_match_precision = create_query_body_match_precision(lisa_qry_data, lisa_rel, lisa_index)\n",
        "lisa_eval_body_match_precision = json.dumps(lisa_create_match_precision)\n",
        "lisa_res_match_precision = es.rank_eval(lisa_eval_body_match_precision,lisa_index)\n",
        "#print(json.dumps(lisa_res_match_precision, indent=4, sort_keys=True))"
      ],
      "execution_count": 34,
      "outputs": []
    },
    {
      "cell_type": "markdown",
      "metadata": {
        "id": "9t-G24e7FBzq"
      },
      "source": [
        "**BERT Sentence Embeddings on 'title' field**"
      ]
    },
    {
      "cell_type": "code",
      "metadata": {
        "id": "b3MqSL8VFBzs"
      },
      "source": [
        "#use rank eval api, see https://elasticsearch-py.readthedocs.io/en/master/api.html?highlight=_rank_eval#elasticsearch.Elasticsearch.rank_eval \n",
        "#and https://www.elastic.co/guide/en/elasticsearch/reference/current/search-rank-eval.html#search-rank-eval\n",
        "\n",
        "from collections import defaultdict\n",
        "\n",
        "adi_index = 'pragmalingu-bert-title-adi-corpus'\n",
        "cacm_index = 'pragmalingu-bert-title-cacm-corpus'\n",
        "cisi_index = 'pragmalingu-bert-title-cisi-corpus'\n",
        "cran_index = 'pragmalingu-bert-title-cranfield-corpus'\n",
        "lisa_index = 'pragmalingu-bert-title-lisa-corpus'\n",
        "\n",
        "# function to get normal match evaluation body \n",
        "\n",
        "def create_query_body_bert_title_precision(query_dict, rel_dict, index_name):\n",
        "  \"\"\"\n",
        "  The function creates a request for every query in query_dict and rates the relevant documents with rel_dict to 1.\n",
        "  The index name has to be the same as from the documents your looking at.\n",
        "  An evaluation body for the elasticsearch ranking API is returned.\n",
        "  \"\"\"\n",
        "  eval_body = {\n",
        "      \"requests\":'',\n",
        "      \"metric\": {\n",
        "          \"precision\": {\n",
        "            \"k\" : 20,\n",
        "            \"relevant_rating_threshold\": 1,\n",
        "            #\"ignore_unlabeled\": \"false\"\n",
        "            }\n",
        "      }\n",
        "  }\n",
        "  requests = [] \n",
        "  current_request = defaultdict(lambda: defaultdict())\n",
        "  current_rel = {\"_index\": index_name, \"_id\": '', \"rating\": int}\n",
        "  for query_ID, query_txt in query_dict.items():\n",
        "    current_query = {\n",
        "        \"size\": 20,\n",
        "        \"query\": {\n",
        "          \"knn\": {\n",
        "            \"bert_vector_title\": {\n",
        "              \"vector\": list(model.encode(query_txt['question']).astype(float)),\n",
        "              \"k\": 20\n",
        "            }\n",
        "          }\n",
        "        }\n",
        "      }\n",
        "      \n",
        "    current_request[\"id\"] = 'Query_'+str(query_ID)\n",
        "    current_request[\"request\"] = current_query.copy()\n",
        "    current_request[\"ratings\"] = [{\n",
        "          \"_index\": index_name, \n",
        "          \"_id\": str(el) if type(el) != tuple else str(el[0]), \n",
        "          \"rating\": 1} for el in rel_dict[query_ID]]\n",
        "    requests.append(current_request.copy())\n",
        "  eval_body[\"requests\"] = requests\n",
        "  return eval_body\n",
        "\n",
        "\n",
        "# ADI\n",
        "\n",
        "adi_create_bert_title_precision = create_query_body_bert_title_recall(adi_qry_data, adi_rel, adi_index)\n",
        "adi_eval_body_bert_title_precision = json.dumps(adi_create_bert_title_precision)\n",
        "adi_res_bert_title_precision = es.rank_eval(adi_eval_body_bert_title_precision, adi_index)\n",
        "#print(json.dumps(adi_res_bert_title_precision, indent=4, sort_keys=True))\n",
        "\n",
        "# CACM\n",
        "\n",
        "cacm_create_bert_title_precision = create_query_body_bert_title_precision(cacm_qry_data, cacm_rel, cacm_index)\n",
        "cacm_eval_body_bert_title_precision = json.dumps(cacm_create_bert_title_precision)\n",
        "cacm_res_bert_title_precision = es.rank_eval(cacm_eval_body_bert_title_precision, cacm_index)\n",
        "#print(json.dumps(cacm_res_bert_title_precision, indent=4, sort_keys=True))\n",
        "\n",
        "# CISI\n",
        "\n",
        "cisi_create_bert_title_precision = create_query_body_bert_title_precision(cisi_qry_data, cisi_rel, cisi_index)\n",
        "cisi_eval_body_bert_title_precision = json.dumps(cisi_create_bert_title_precision)\n",
        "cisi_res_bert_title_precision = es.rank_eval(cisi_eval_body_bert_title_precision, cisi_index)\n",
        "#print(json.dumps(cisi_res_bert_title_precision, indent=4, sort_keys=True))\n",
        "\n",
        "# Cranfield\n",
        "\n",
        "cran_create_bert_title_precision = create_query_body_bert_title_precision(cran_qry_data, cran_rel, cran_index)\n",
        "cran_eval_body_bert_title_precision = json.dumps(cran_create_bert_title_precision)\n",
        "cran_res_bert_title_precision = es.rank_eval(cran_eval_body_bert_title_precision, cran_index)\n",
        "#print(json.dumps(cran_res_bert_title_precision, indent=4, sort_keys=True))\n",
        "\n",
        "# LISA\n",
        "\n",
        "lisa_create_bert_title_precision = create_query_body_bert_title_precision(lisa_qry_data, lisa_rel, lisa_index)\n",
        "lisa_eval_body_bert_title_precision = json.dumps(lisa_create_bert_title_precision)\n",
        "lisa_res_bert_title_precision = es.rank_eval(lisa_eval_body_bert_title_precision, lisa_index)\n",
        "#print(json.dumps(lisa_res_bert_title_precision, indent=4, sort_keys=True))"
      ],
      "execution_count": 35,
      "outputs": []
    },
    {
      "cell_type": "markdown",
      "metadata": {
        "id": "gpKrbKC7TDxu"
      },
      "source": [
        "## Visualisation\n",
        "\n",
        "Here we visualize our results:"
      ]
    },
    {
      "cell_type": "markdown",
      "metadata": {
        "id": "3GI_zdwhG4MF"
      },
      "source": [
        "### Recall"
      ]
    },
    {
      "cell_type": "code",
      "metadata": {
        "id": "BXibzPzmf_KK",
        "outputId": "ed749e1a-12b4-43e6-831d-0674eb5f9d7b",
        "colab": {
          "base_uri": "https://localhost:8080/",
          "height": 531
        }
      },
      "source": [
        "import matplotlib\n",
        "import matplotlib.pyplot as plt\n",
        "import numpy as np\n",
        "\n",
        "match_metrics_recall = []\n",
        "match_metrics_recall.append(round(adi_res_match_recall['metric_score'], 3))\n",
        "match_metrics_recall.append(round(cacm_res_match_recall['metric_score'], 3))\n",
        "match_metrics_recall.append(round(cisi_res_match_recall['metric_score'], 3))\n",
        "match_metrics_recall.append(round(cran_res_match_recall['metric_score'], 3))\n",
        "match_metrics_recall.append(round(lisa_res_match_recall['metric_score'], 3))\n",
        "\n",
        "bert_title_metrics_recall = []\n",
        "bert_title_metrics_recall.append(round(adi_res_bert_title_recall['metric_score'], 3))\n",
        "bert_title_metrics_recall.append(round(cacm_res_bert_title_recall['metric_score'], 3))\n",
        "bert_title_metrics_recall.append(round(cisi_res_bert_title_recall['metric_score'], 3))\n",
        "bert_title_metrics_recall.append(round(cran_res_bert_title_recall['metric_score'], 3))\n",
        "bert_title_metrics_recall.append(round(lisa_res_bert_title_recall['metric_score'], 3))\n",
        "\n",
        "labels = ['ADI','CACM', 'CISI','Cranfield', 'LISA']\n",
        "\n",
        "x = np.arange(len(labels))*1.8  # the label locations\n",
        "\n",
        "width = 0.5  # the width of the bars\n",
        "\n",
        "fig, ax = plt.subplots()\n",
        "rects1 = ax.bar(x - width, match_metrics_recall , width, label='With multi-match query')\n",
        "rects2 = ax.bar(x, bert_title_metrics_recall, width, label='With BERT on title field')\n",
        "\n",
        "# Add some text for labels, title and custom x-axis tick labels, etc.\n",
        "ax.set_ylabel('metric scores')\n",
        "ax.set_title('Recall scores by corpus')\n",
        "ax.set_xticks(x)\n",
        "ax.set_xticklabels(labels)\n",
        "ax.legend()\n",
        "\n",
        "def autolabel(rects):\n",
        "    \"\"\"Attach a text label above each bar in *rects*, displaying its height.\"\"\"\n",
        "    for rect in rects:\n",
        "        height = rect.get_height()\n",
        "        ax.annotate('{}'.format(height),\n",
        "                    xy=(rect.get_x() + rect.get_width() / 2, height),\n",
        "                    xytext=(0, 3),  # 3 points vertical offset\n",
        "                    textcoords=\"offset points\",\n",
        "                    ha='center', va='bottom')\n",
        "\n",
        "autolabel(rects1)\n",
        "autolabel(rects2)\n",
        "\n",
        "fig.tight_layout()\n",
        "fig.set_figwidth(16)\n",
        "fig.set_figheight(8)\n",
        "\n",
        "plt.show()"
      ],
      "execution_count": 36,
      "outputs": [
        {
          "output_type": "display_data",
          "data": {
            "image/png": "[encoded data removed]",
            "text/plain": [
              "<Figure size 1152x576 with 1 Axes>"
            ]
          },
          "metadata": {
            "tags": [],
            "needs_background": "light"
          }
        }
      ]
    },
    {
      "cell_type": "code",
      "metadata": {
        "id": "nlVzOT5uDt3d",
        "outputId": "c192e686-8b42-4691-e705-007b19f1d66d",
        "colab": {
          "base_uri": "https://localhost:8080/",
          "height": 88
        }
      },
      "source": [
        "from tabulate import tabulate\n",
        "\n",
        "match_metrics_recall.insert(0, 'multi-match query') \n",
        "bert_title_metrics_recall.insert(0, 'BERT on title field')\n",
        "\n",
        "l = [match_metrics_recall, bert_title_metrics_recall]\n",
        "table = tabulate(l, headers=['ADI','CACM', 'CISI','cranfield', 'LISA'], tablefmt='orgtbl')\n",
        "\n",
        "print(table)"
      ],
      "execution_count": 37,
      "outputs": [
        {
          "output_type": "stream",
          "text": [
            "|                     |   ADI |   CACM |   CISI |   cranfield |   LISA |\n",
            "|---------------------+-------+--------+--------+-------------+--------|\n",
            "| multi-match query   | 0.24  |  0.031 |  0.058 |       0.117 |  0.289 |\n",
            "| BERT on title field | 0.227 |  0.007 |  0.038 |       0.071 |  0.139 |\n"
          ],
          "name": "stdout"
        }
      ]
    },
    {
      "cell_type": "markdown",
      "metadata": {
        "id": "QuxJmfYZG14r"
      },
      "source": [
        "### Precision"
      ]
    },
    {
      "cell_type": "code",
      "metadata": {
        "id": "tRF25Yq3G0QU",
        "outputId": "9c25f7fd-4f0b-4d2b-f320-b6c39a1706f5",
        "colab": {
          "base_uri": "https://localhost:8080/",
          "height": 531
        }
      },
      "source": [
        "import matplotlib\n",
        "import matplotlib.pyplot as plt\n",
        "import numpy as np\n",
        "\n",
        "match_metrics_precision = []\n",
        "match_metrics_precision.append(round(adi_res_match_precision['metric_score'], 3))\n",
        "match_metrics_precision.append(round(cacm_res_match_precision['metric_score'], 3))\n",
        "match_metrics_precision.append(round(cisi_res_match_precision['metric_score'], 3))\n",
        "match_metrics_precision.append(round(cran_res_match_precision['metric_score'], 3))\n",
        "match_metrics_precision.append(round(lisa_res_match_precision['metric_score'], 3))\n",
        "\n",
        "bert_title_metrics_precision = []\n",
        "bert_title_metrics_precision.append(round(adi_res_bert_title_precision['metric_score'], 3))\n",
        "bert_title_metrics_precision.append(round(cacm_res_bert_title_precision['metric_score'], 3))\n",
        "bert_title_metrics_precision.append(round(cisi_res_bert_title_precision['metric_score'], 3))\n",
        "bert_title_metrics_precision.append(round(cran_res_bert_title_precision['metric_score'], 3))\n",
        "bert_title_metrics_precision.append(round(lisa_res_bert_title_precision['metric_score'], 3))\n",
        "\n",
        "labels = ['ADI','CACM', 'CISI','Cranfield', 'LISA']\n",
        "\n",
        "x = np.arange(len(labels))*1.8  # the label locations\n",
        "\n",
        "width = 0.5  # the width of the bars\n",
        "\n",
        "fig, ax = plt.subplots()\n",
        "rects1 = ax.bar(x - width, match_metrics_precision , width, label='With multi-match query')\n",
        "rects2 = ax.bar(x, bert_title_metrics_precision, width, label='With BERT on title field')\n",
        "\n",
        "# Add some text for labels, title and custom x-axis tick labels, etc.\n",
        "ax.set_ylabel('metric scores')\n",
        "ax.set_title('Precision scores by corpus')\n",
        "ax.set_xticks(x)\n",
        "ax.set_xticklabels(labels)\n",
        "ax.legend()\n",
        "\n",
        "def autolabel(rects):\n",
        "    \"\"\"Attach a text label above each bar in *rects*, displaying its height.\"\"\"\n",
        "    for rect in rects:\n",
        "        height = rect.get_height()\n",
        "        ax.annotate('{}'.format(height),\n",
        "                    xy=(rect.get_x() + rect.get_width() / 2, height),\n",
        "                    xytext=(0, 3),  # 3 points vertical offset\n",
        "                    textcoords=\"offset points\",\n",
        "                    ha='center', va='bottom')\n",
        "\n",
        "autolabel(rects1)\n",
        "autolabel(rects2)\n",
        "\n",
        "fig.tight_layout()\n",
        "fig.set_figwidth(16)\n",
        "fig.set_figheight(8)\n",
        "\n",
        "plt.show()"
      ],
      "execution_count": 38,
      "outputs": [
        {
          "output_type": "display_data",
          "data": {
            "image/png": "[encoded data removed]",
            "text/plain": [
              "<Figure size 1152x576 with 1 Axes>"
            ]
          },
          "metadata": {
            "tags": [],
            "needs_background": "light"
          }
        }
      ]
    },
    {
      "cell_type": "code",
      "metadata": {
        "id": "eqQB7ExDDWzX",
        "outputId": "f9ff20f1-b503-4917-d3f1-4310d212ab4f",
        "colab": {
          "base_uri": "https://localhost:8080/",
          "height": 88
        }
      },
      "source": [
        "from tabulate import tabulate\n",
        "\n",
        "match_metrics_precision.insert(0, 'multi-match query') \n",
        "bert_title_metrics_precision.insert(0, 'BERT on title field')\n",
        "\n",
        "l = [match_metrics_precision, bert_title_metrics_precision]\n",
        "table = tabulate(l, headers=['ADI','CACM', 'CISI','cranfield', 'LISA'], tablefmt='orgtbl')\n",
        "\n",
        "print(table)"
      ],
      "execution_count": 39,
      "outputs": [
        {
          "output_type": "stream",
          "text": [
            "|                     |   ADI |   CACM |   CISI |   cranfield |   LISA |\n",
            "|---------------------+-------+--------+--------+-------------+--------|\n",
            "| multi-match query   | 0.056 |  0.018 |  0.092 |       0.044 |  0.139 |\n",
            "| BERT on title field | 0.227 |  0.006 |  0.088 |       0.028 |  0.056 |\n"
          ],
          "name": "stdout"
        }
      ]
    },
    {
      "cell_type": "markdown",
      "metadata": {
        "id": "Gm1Aej_-T9e0"
      },
      "source": [
        "### F-Score"
      ]
    },
    {
      "cell_type": "code",
      "metadata": {
        "id": "QA8CpbbRQtIH",
        "outputId": "27b21c3e-eed5-4cc1-dc0f-213f5586e655",
        "colab": {
          "base_uri": "https://localhost:8080/",
          "height": 531
        }
      },
      "source": [
        "import matplotlib\n",
        "import matplotlib.pyplot as plt\n",
        "import numpy as np\n",
        "\n",
        "def f_score(recall,precision):\n",
        "  if recall or precision != 0:\n",
        "    fscore = 2*((recall*precision)/(recall+precision))\n",
        "    return fscore\n",
        "  else: return 0\n",
        "\n",
        "match_metrics_fscore = []\n",
        "match_metrics_fscore.append(round(f_score(adi_res_match_recall['metric_score'], adi_res_match_precision['metric_score']),3))\n",
        "match_metrics_fscore.append(round(f_score(cacm_res_match_recall['metric_score'], cacm_res_match_precision['metric_score']),3))\n",
        "match_metrics_fscore.append(round(f_score(cisi_res_match_recall['metric_score'], cisi_res_match_precision['metric_score']),3))\n",
        "match_metrics_fscore.append(round(f_score(cran_res_match_recall['metric_score'], cran_res_match_precision['metric_score']),3))\n",
        "match_metrics_fscore.append(round(f_score(lisa_res_match_recall['metric_score'], lisa_res_match_precision['metric_score']),3))\n",
        "\n",
        "bert_title_metrics_fscore = []\n",
        "bert_title_metrics_fscore.append(round(f_score(adi_res_bert_title_recall['metric_score'], adi_res_bert_title_precision['metric_score']),3))\n",
        "bert_title_metrics_fscore.append(round(f_score(cacm_res_bert_title_recall['metric_score'], cacm_res_bert_title_precision['metric_score']),3))\n",
        "bert_title_metrics_fscore.append(round(f_score(cisi_res_bert_title_recall['metric_score'], cisi_res_bert_title_precision['metric_score']),3))\n",
        "bert_title_metrics_fscore.append(round(f_score(cran_res_bert_title_recall['metric_score'], cran_res_bert_title_precision['metric_score']),3))\n",
        "bert_title_metrics_fscore.append(round(f_score(lisa_res_bert_title_recall['metric_score'], lisa_res_bert_title_precision['metric_score']),3))\n",
        "\n",
        "labels = ['ADI','CACM', 'CISI','cranfield', 'LISA']\n",
        "\n",
        "x = np.arange(len(labels))*1.8  # the label locations\n",
        "\n",
        "width = 0.5  # the width of the bars\n",
        "\n",
        "fig, ax = plt.subplots()\n",
        "rects1 = ax.bar(x - width, match_metrics_fscore , width, label='With multi-match query')\n",
        "rects2 = ax.bar(x, bert_title_metrics_fscore, width, label='With BERT on title field')\n",
        "\n",
        "# Add some text for labels, title and custom x-axis tick labels, etc.\n",
        "ax.set_ylabel('metric scores')\n",
        "ax.set_title('F1-Scores by corpus')\n",
        "ax.set_xticks(x)\n",
        "ax.set_xticklabels(labels)\n",
        "ax.legend()\n",
        "\n",
        "\n",
        "def autolabel(rects):\n",
        "    \"\"\"Attach a text label above each bar in *rects*, displaying its height.\"\"\"\n",
        "    for rect in rects:\n",
        "        height = rect.get_height()\n",
        "        ax.annotate('{}'.format(height),\n",
        "                    xy=(rect.get_x() + rect.get_width() / 2, height),\n",
        "                    xytext=(0, 3),  # 3 points vertical offset\n",
        "                    textcoords=\"offset points\",\n",
        "                    ha='center', va='bottom')\n",
        "\n",
        "\n",
        "autolabel(rects1)\n",
        "autolabel(rects2)\n",
        "\n",
        "fig.tight_layout()\n",
        "fig.set_figwidth(16)\n",
        "fig.set_figheight(8)\n",
        "\n",
        "plt.show()"
      ],
      "execution_count": 40,
      "outputs": [
        {
          "output_type": "display_data",
          "data": {
            "image/png": "[encoded data removed]",
            "text/plain": [
              "<Figure size 1152x576 with 1 Axes>"
            ]
          },
          "metadata": {
            "tags": [],
            "needs_background": "light"
          }
        }
      ]
    },
    {
      "cell_type": "code",
      "metadata": {
        "id": "R6Tk6Vt8Ah5_",
        "outputId": "4101fe00-d760-4419-fbd8-13f4470ec17d",
        "colab": {
          "base_uri": "https://localhost:8080/",
          "height": 88
        }
      },
      "source": [
        "from tabulate import tabulate\n",
        "\n",
        "match_metrics_fscore.insert(0, 'multi-match query') \n",
        "bert_title_metrics_fscore.insert(0, 'BERT on title field')\n",
        "\n",
        "l = [match_metrics_fscore, bert_title_metrics_fscore]\n",
        "table = tabulate(l, headers=['ADI','CACM', 'CISI','cranfield', 'LISA'], tablefmt='orgtbl')\n",
        "\n",
        "print(table)"
      ],
      "execution_count": 41,
      "outputs": [
        {
          "output_type": "stream",
          "text": [
            "|                     |   ADI |   CACM |   CISI |   cranfield |   LISA |\n",
            "|---------------------+-------+--------+--------+-------------+--------|\n",
            "| multi-match query   | 0.091 |  0.023 |  0.071 |       0.064 |  0.187 |\n",
            "| BERT on title field | 0.227 |  0.006 |  0.054 |       0.04  |  0.08  |\n"
          ],
          "name": "stdout"
        }
      ]
    },
    {
      "cell_type": "markdown",
      "metadata": {
        "id": "Ikgcrccon7a1"
      },
      "source": [
        "Read more on this experiment on our [website](https://pragmalingu.de/docs/experiments/experiment1)."
      ]
    }
  ]
}