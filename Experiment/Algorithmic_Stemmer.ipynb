{
  "nbformat": 4,
  "nbformat_minor": 0,
  "metadata": {
    "colab": {
      "name": "Algorithmic_Stemmer.ipynb",
      "provenance": [],
      "collapsed_sections": [
        "hW251z7-J0Ca",
        "X3n5VA1TjdWv",
        "dz4HOfBQzEpL",
        "DUv41dfn9nzz",
        "n3y2zrw_GqBZ",
        "LW6zgF8_JG4e",
        "LDNzoWupJG4m",
        "fiA5r3R3JG5e",
        "LsUvuv-a1HQb",
        "Lj2O4o0G1HQg",
        "B8HH6SIf1HRT",
        "h46hrLuPNPvc",
        "IPqLfvffNPvg",
        "a9CZhmuouKbj",
        "xXozEnL8uKcg",
        "jsHupiWaGwNe"
      ],
      "include_colab_link": true
    },
    "kernelspec": {
      "name": "python3",
      "display_name": "Python 3"
    }
  },
  "cells": [
    {
      "cell_type": "markdown",
      "metadata": {
        "id": "view-in-github",
        "colab_type": "text"
      },
      "source": [
        "<a href=\"https://colab.research.google.com/github/pragmalingu/experiments/blob/01_Stemming/Experiment/Algorithmic_Stemmer.ipynb\" target=\"_parent\"><img src=\"https://colab.research.google.com/assets/colab-badge.svg\" alt=\"Open In Colab\"/></a>"
      ]
    },
    {
      "cell_type": "markdown",
      "metadata": {
        "id": "Q9EMclEPLvMS",
        "colab_type": "text"
      },
      "source": [
        "# Algorithmic Stemmer\n",
        "\n",
        "Algorithmic stemmers apply a series of rules to each word to reduce it to its root form.\n",
        "\n",
        "In this way, they present a few advantages:\n",
        "1. They require little setup and usually work well out of the box;\n",
        "2. They use little memory;\n",
        "3. They are typically faster than dictionary stemmers.\n",
        "\n",
        "(For more information see the [Elasticsearch documentation](https://www.elastic.co/guide/en/elasticsearch/reference/current/stemming.html#algorithmic-stemmers))"
      ]
    },
    {
      "cell_type": "markdown",
      "metadata": {
        "id": "hW251z7-J0Ca",
        "colab_type": "text"
      },
      "source": [
        "## Introduction"
      ]
    },
    {
      "cell_type": "markdown",
      "metadata": {
        "colab_type": "text",
        "id": "_Un-oDrHnDui"
      },
      "source": [
        "### Setup an Elasticsearch Instance in Google Colab"
      ]
    },
    {
      "cell_type": "markdown",
      "metadata": {
        "colab_type": "text",
        "id": "wQiAH-sinDum"
      },
      "source": [
        "Everthing to connect to Elasticsearch, for detailed explaination see [this Notebook.](https://)\n",
        "Download:"
      ]
    },
    {
      "cell_type": "code",
      "metadata": {
        "colab_type": "code",
        "id": "XdccmnTUnDup",
        "colab": {}
      },
      "source": [
        "import os\n",
        "from subprocess import Popen, PIPE, STDOUT\n",
        "# download elasticsearch\n",
        "!wget https://artifacts.elastic.co/downloads/elasticsearch/elasticsearch-7.9.1-linux-x86_64.tar.gz -q\n",
        "!tar -xzf elasticsearch-7.9.1-linux-x86_64.tar.gz\n",
        "!chown -R daemon:daemon elasticsearch-7.9.1"
      ],
      "execution_count": null,
      "outputs": []
    },
    {
      "cell_type": "markdown",
      "metadata": {
        "id": "bxgS1p4_-zun",
        "colab_type": "text"
      },
      "source": [
        "Start a local server:"
      ]
    },
    {
      "cell_type": "code",
      "metadata": {
        "id": "H9HrpRBGsg9y",
        "colab_type": "code",
        "colab": {
          "base_uri": "https://localhost:8080/",
          "height": 35
        },
        "outputId": "ce10824f-bcff-456c-be68-7a1f3d1607a0"
      },
      "source": [
        "# start server\n",
        "es_server = Popen(['elasticsearch-7.9.1/bin/elasticsearch'], \n",
        "                  stdout=PIPE, stderr=STDOUT,\n",
        "                  preexec_fn=lambda: os.setuid(1)  # as daemon\n",
        "                 )\n",
        "# client-side\n",
        "!pip install elasticsearch -q\n",
        "from elasticsearch import Elasticsearch\n",
        "from datetime import datetime\n",
        "es = Elasticsearch([\"localhost:9200/\"])\n",
        "#wait a bit\n",
        "import time\n",
        "time.sleep(30)\n",
        "es.ping()  # got True"
      ],
      "execution_count": null,
      "outputs": [
        {
          "output_type": "execute_result",
          "data": {
            "text/plain": [
              "True"
            ]
          },
          "metadata": {
            "tags": []
          },
          "execution_count": 12
        }
      ]
    },
    {
      "cell_type": "markdown",
      "metadata": {
        "id": "dz4HOfBQzEpL",
        "colab_type": "text"
      },
      "source": [
        "### Analyser\n",
        "\n",
        "An analyser contains three lower-level building blocks: character filters, a tokenizer, and token filters.\n",
        "To apply stemming we first need to configure a custom analyser that makes use of the stemmer filter. \n",
        "\n",
        "(Stemmer filter reference guide at [Elasticsearch documentation](https://www.elastic.co/guide/en/elasticsearch/reference/current/analysis-stemmer-tokenfilter.html#analysis-stemmer-tokenfilter))"
      ]
    },
    {
      "cell_type": "code",
      "metadata": {
        "id": "_8Y8NEe5qI3c",
        "colab_type": "code",
        "colab": {}
      },
      "source": [
        "#the order of filter and analyser is arbitrary\n",
        "stemming_analyser = {\n",
        "    \"filter\" : {\n",
        "        \"eng_stemmer\" : {\n",
        "        \"type\" : \"stemmer\",\n",
        "        \"name\" : \"english\"\n",
        "        }\n",
        "    },\n",
        "    \"analyzer\" : {\n",
        "        \"default\" : {\n",
        "            \"tokenizer\" : \"standard\",\n",
        "            \"filter\" : [\"lowercase\", \"eng_stemmer\"]\n",
        "        }\n",
        "    }\n",
        "}"
      ],
      "execution_count": null,
      "outputs": []
    },
    {
      "cell_type": "markdown",
      "metadata": {
        "id": "rS9_vfDNw1Un",
        "colab_type": "text"
      },
      "source": [
        "### Indexing\n",
        "\n",
        "Next step is to specify the default analyser for the index; in the following example we do so at index creation.\n",
        "\n",
        "(Reference guide for analyser specification at [Elasticsearch documentation](https://www.elastic.co/guide/en/elasticsearch/reference/current/specify-analyzer.html#specify-index-time-default-analyzer))"
      ]
    },
    {
      "cell_type": "code",
      "metadata": {
        "id": "KwsGM9oVvwIN",
        "colab_type": "code",
        "colab": {}
      },
      "source": [
        "#create the correct settings \n",
        "settings = {\n",
        "    \"settings\": {\n",
        "        \"number_of_shards\": 1,\n",
        "        \"number_of_replicas\": 0,\n",
        "        \"analysis\": stemming_analyser\n",
        "    }\n",
        "}\n",
        "\n",
        "# create index\n",
        "es.indices.delete(\"stemming-index\")\n",
        "es.indices.create(\"stemming-index\", body=settings)\n",
        "\n",
        "#indexing documents\n",
        "doc = {\n",
        "    'author': 'kimchy',\n",
        "    'text': 'the foxes jumping quickly',\n",
        "    'timestamp': datetime.now()\n",
        "}\n",
        "\n",
        "res = es.index(index=\"stemming-index\", id=1, body=doc)\n",
        "print(res['result'])"
      ],
      "execution_count": null,
      "outputs": []
    },
    {
      "cell_type": "markdown",
      "metadata": {
        "colab_type": "text",
        "id": "BMYrZjWp0cjA"
      },
      "source": [
        "### Searching\n",
        "\n",
        "Lastly, let us observe stemming in action by employing a mock query. It's worthwhile noting that the example searches for `jump` rather than `jumping`; Elasticsearchs english stemmer removes the `-ing` suffix, preserving the words root form. "
      ]
    },
    {
      "cell_type": "code",
      "metadata": {
        "id": "OSxra8go2m7x",
        "colab_type": "code",
        "colab": {}
      },
      "source": [
        "#test query\n",
        "res = es.search(index=\"stemming-index\", body={\"query\": {\"match\" : {\"text\": {\"query\" : \"jump\"} }}})\n",
        "\n",
        "print(\"Got %d Hits:\" % res['hits']['total']['value'])\n",
        "\n",
        "for hit in res['hits']['hits']:\n",
        "    print(\"%(timestamp)s %(author)s: %(text)s\" % hit[\"_source\"])"
      ],
      "execution_count": null,
      "outputs": []
    }
  ]
}