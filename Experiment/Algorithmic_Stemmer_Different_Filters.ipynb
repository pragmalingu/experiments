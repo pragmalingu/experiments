{
  "nbformat": 4,
  "nbformat_minor": 0,
  "metadata": {
    "colab": {
      "name": "Algorithmic_Stemmer_Filters.ipynb",
      "provenance": [],
      "collapsed_sections": [
        "hW251z7-J0Ca",
        "X3n5VA1TjdWv",
        "dz4HOfBQzEpL",
        "DUv41dfn9nzz",
        "n3y2zrw_GqBZ",
        "LW6zgF8_JG4e",
        "LDNzoWupJG4m",
        "fiA5r3R3JG5e",
        "LsUvuv-a1HQb",
        "Lj2O4o0G1HQg",
        "B8HH6SIf1HRT",
        "h46hrLuPNPvc",
        "IPqLfvffNPvg",
        "a9CZhmuouKbj",
        "xXozEnL8uKcg",
        "jsHupiWaGwNe"
      ],
      "include_colab_link": true
    },
    "kernelspec": {
      "name": "python3",
      "display_name": "Python 3"
    }
  },
  "cells": [
    {
      "cell_type": "markdown",
      "metadata": {
        "id": "view-in-github",
        "colab_type": "text"
      },
      "source": [
        "<a href=\"https://colab.research.google.com/github/pragmalingu/experiments/blob/01_Stemming/Experiment/Algorithmic_Stemmer_Different_Filters.ipynb\" target=\"_parent\"><img src=\"https://colab.research.google.com/assets/colab-badge.svg\" alt=\"Open In Colab\"/></a>"
      ]
    },
    {
      "cell_type": "markdown",
      "metadata": {
        "id": "Q9EMclEPLvMS",
        "colab_type": "text"
      },
      "source": [
        "# Algorithmic Stemmer\n",
        "\n",
        "Algorithmic stemmers apply a series of rules to each word to reduce it to its root form.\n",
        "\n",
        "In this way, they present a few advantages:\n",
        "1. They require little setup and usually work well out of the box;\n",
        "2. They use little memory;\n",
        "3. They are typically faster than dictionary stemmers.\n",
        "\n",
        "(For more information see the [Elasticsearch documentation](https://www.elastic.co/guide/en/elasticsearch/reference/current/stemming.html#algorithmic-stemmers))"
      ]
    },
    {
      "cell_type": "markdown",
      "metadata": {
        "id": "hW251z7-J0Ca",
        "colab_type": "text"
      },
      "source": [
        "## Basic Demonstration"
      ]
    },
    {
      "cell_type": "markdown",
      "metadata": {
        "colab_type": "text",
        "id": "_Un-oDrHnDui"
      },
      "source": [
        "## Setup an Elasticsearch Instance in Google Colab"
      ]
    },
    {
      "cell_type": "markdown",
      "metadata": {
        "colab_type": "text",
        "id": "wQiAH-sinDum"
      },
      "source": [
        "Everthing to connect to Elasticsearch, for detailed explaination see [this Notebook.](https://)\n",
        "Download:"
      ]
    },
    {
      "cell_type": "code",
      "metadata": {
        "colab_type": "code",
        "id": "XdccmnTUnDup",
        "colab": {}
      },
      "source": [
        "import os\n",
        "from subprocess import Popen, PIPE, STDOUT\n",
        "# download elasticsearch\n",
        "!wget https://artifacts.elastic.co/downloads/elasticsearch/elasticsearch-7.9.1-linux-x86_64.tar.gz -q\n",
        "!tar -xzf elasticsearch-7.9.1-linux-x86_64.tar.gz\n",
        "!chown -R daemon:daemon elasticsearch-7.9.1"
      ],
      "execution_count": null,
      "outputs": []
    },
    {
      "cell_type": "markdown",
      "metadata": {
        "id": "bxgS1p4_-zun",
        "colab_type": "text"
      },
      "source": [
        "Start a local server:"
      ]
    },
    {
      "cell_type": "code",
      "metadata": {
        "id": "H9HrpRBGsg9y",
        "colab_type": "code",
        "colab": {
          "base_uri": "https://localhost:8080/",
          "height": 35
        },
        "outputId": "ce10824f-bcff-456c-be68-7a1f3d1607a0"
      },
      "source": [
        "# start server\n",
        "es_server = Popen(['elasticsearch-7.9.1/bin/elasticsearch'], \n",
        "                  stdout=PIPE, stderr=STDOUT,\n",
        "                  preexec_fn=lambda: os.setuid(1)  # as daemon\n",
        "                 )\n",
        "# client-side\n",
        "!pip install elasticsearch -q\n",
        "from elasticsearch import Elasticsearch\n",
        "from datetime import datetime\n",
        "es = Elasticsearch([\"localhost:9200/\"])\n",
        "#wait a bit\n",
        "import time\n",
        "time.sleep(30)\n",
        "es.ping()  # got True"
      ],
      "execution_count": null,
      "outputs": [
        {
          "output_type": "execute_result",
          "data": {
            "text/plain": [
              "True"
            ]
          },
          "metadata": {
            "tags": []
          },
          "execution_count": 12
        }
      ]
    },
    {
      "cell_type": "markdown",
      "metadata": {
        "id": "dz4HOfBQzEpL",
        "colab_type": "text"
      },
      "source": [
        "### Analyser\n",
        "\n",
        "An Analyser contains three lower-level building blocks: character filters, tokenizers, and token filters.\n",
        "To apply stemming we first need to construct an analyser that makes use of the stemmer filter. \n",
        "\n",
        "(Stemmer filter reference guide at [Elasticsearch documentation](https://www.elastic.co/guide/en/elasticsearch/reference/current/analysis-stemmer-tokenfilter.html#analysis-stemmer-tokenfilter))"
      ]
    },
    {
      "cell_type": "code",
      "metadata": {
        "id": "_8Y8NEe5qI3c",
        "colab_type": "code",
        "colab": {}
      },
      "source": [
        "#the order of filter and analyser is arbitrary\n",
        "\n",
        "#stemmer token filter\n",
        "stemmer_analyser = {\n",
        "    \"filter\" : {\n",
        "        \"eng_stemmer\" : {\n",
        "        \"type\" : \"stemmer\",\n",
        "        \"name\" : \"english\"\n",
        "        }\n",
        "    },\n",
        "    \"analyzer\" : {\n",
        "        \"default\" : {\n",
        "            \"tokenizer\" : \"standard\",\n",
        "            \"filter\" : [\"lowercase\", \"eng_stemmer\"]\n",
        "        }\n",
        "    }\n",
        "}\n",
        "\n",
        "#kstem token filter\n",
        "kstem_analyser = {\n",
        "    \"filter\" : {\n",
        "        \"eng_stemmer\" : {\n",
        "        \"type\" : \"kstem\",\n",
        "        \"name\" : \"english\"\n",
        "        }\n",
        "    },\n",
        "    \"analyzer\" : {\n",
        "        \"default\" : {\n",
        "            \"tokenizer\" : \"standard\",\n",
        "            \"filter\" : [\"lowercase\", \"eng_stemmer\"]\n",
        "        }\n",
        "    }\n",
        "}\n",
        "\n",
        "#porter token filter\n",
        "porter_analyser = {\n",
        "    \"filter\" : {\n",
        "        \"eng_stemmer\" : {\n",
        "        \"type\" : \"porter_stem\",\n",
        "        \"name\" : \"english\"\n",
        "        }\n",
        "    },\n",
        "    \"analyzer\" : {\n",
        "        \"default\" : {\n",
        "            \"tokenizer\" : \"standard\",\n",
        "            \"filter\" : [\"lowercase\", \"eng_stemmer\"]\n",
        "        }\n",
        "    }\n",
        "}\n",
        "\n",
        "#snowball token filter\n",
        "snowball_analyser = {\n",
        "    \"filter\" : {\n",
        "        \"eng_stemmer\" : {\n",
        "        \"type\" : \"snowball\",\n",
        "        \"name\" : \"english\"\n",
        "        }\n",
        "    },\n",
        "    \"analyzer\" : {\n",
        "        \"default\" : {\n",
        "            \"tokenizer\" : \"standard\",\n",
        "            \"filter\" : [\"lowercase\", \"eng_stemmer\"]\n",
        "        }\n",
        "    }\n",
        "}"
      ],
      "execution_count": null,
      "outputs": []
    },
    {
      "cell_type": "markdown",
      "metadata": {
        "id": "rS9_vfDNw1Un",
        "colab_type": "text"
      },
      "source": [
        "### Indexing\n",
        "\n",
        "The next step is to specify a default analyser for the index; in the following example we do so at index creation.\n",
        "\n",
        "(Reference guide for analyser specification at [Elasticsearch documentation](https://www.elastic.co/guide/en/elasticsearch/reference/current/specify-analyzer.html#specify-index-time-default-analyzer))"
      ]
    },
    {
      "cell_type": "code",
      "metadata": {
        "id": "KwsGM9oVvwIN",
        "colab_type": "code",
        "colab": {}
      },
      "source": [
        "#create the correct settings\n",
        "stemmer_settings = {\n",
        "    \"settings\": {\n",
        "        \"number_of_shards\": 1,\n",
        "        \"number_of_replicas\": 0,\n",
        "        \"analysis\": stemmer_analyser\n",
        "    }\n",
        "}\n",
        "\n",
        "kstem_settings = {\n",
        "    \"settings\": {\n",
        "        \"number_of_shards\": 1,\n",
        "        \"number_of_replicas\": 0,\n",
        "        \"analysis\": kstem_analyser\n",
        "    }\n",
        "}\n",
        "\n",
        "porter_settings = {\n",
        "    \"settings\": {\n",
        "        \"number_of_shards\": 1,\n",
        "        \"number_of_replicas\": 0,\n",
        "        \"analysis\": porter_analyser\n",
        "    }\n",
        "}\n",
        "\n",
        "snowball_settings = {\n",
        "    \"settings\": {\n",
        "        \"number_of_shards\": 1,\n",
        "        \"number_of_replicas\": 0,\n",
        "        \"analysis\": snowball_analyser\n",
        "    }\n",
        "}\n",
        "\n",
        "# create index\n",
        "\n",
        "# stemmer token filter\n",
        "es.indices.delete(\"stemmer-index\")\n",
        "es.indices.create(\"stemmer-index\", body=stemmer_settings)\n",
        "\n",
        "# kstem token filter\n",
        "es.indices.delete(\"kstem-index\")\n",
        "es.indices.create(\"kstem-index\", body=kstem_settings)\n",
        "\n",
        "# porter token filter\n",
        "es.indices.delete(\"porter-index\")\n",
        "es.indices.create(\"porter-index\", body=porter_settings)\n",
        "\n",
        "# snowball token filter\n",
        "es.indices.delete(\"snowball-index\")\n",
        "es.indices.create(\"snowball-index\", body=snowball_settings)"
      ],
      "execution_count": null,
      "outputs": []
    },
    {
      "cell_type": "code",
      "metadata": {
        "colab_type": "code",
        "id": "ejJ9jRkVk1C0",
        "colab": {}
      },
      "source": [
        "#index document\n",
        "doc = {\n",
        "    'author': 'kimchy',\n",
        "    'text': 'the foxes jumping quickly',\n",
        "    'timestamp': datetime.now()\n",
        "}\n",
        "\n",
        "# stemmer token filter\n",
        "res = es.index(index=\"stemmer-index\", id=1, body=doc)\n",
        "print(res['result'])\n",
        "\n",
        "# kstem token filter\n",
        "res = es.index(index=\"kstem-index\", id=1, body=doc)\n",
        "print(res['result'])\n",
        "\n",
        "# porter token filter\n",
        "res = es.index(index=\"porter-index\", id=1, body=doc)\n",
        "print(res['result'])\n",
        "\n",
        "# snowball token filter\n",
        "res = es.index(index=\"snowball-index\", id=1, body=doc)\n",
        "print(res['result'])"
      ],
      "execution_count": null,
      "outputs": []
    },
    {
      "cell_type": "markdown",
      "metadata": {
        "colab_type": "text",
        "id": "BMYrZjWp0cjA"
      },
      "source": [
        "### Searching\n",
        "\n",
        "Lastly, let us test stemming using a mock query. It's worthwhile to note that the example searches for `jump` rather than `jumping`; Elasticsearchs english stemmer removes the `-ing` suffix, preserving the words root form."
      ]
    },
    {
      "cell_type": "code",
      "metadata": {
        "id": "OSxra8go2m7x",
        "colab_type": "code",
        "colab": {}
      },
      "source": [
        "#test query stemmer token filter\n",
        "res = es.search(index=\"stemmer-index\", body={\"query\": {\"match\" : {\"text\": {\"query\" : \"jump\"} }}})\n",
        "print(\"Got %d Hits:\" % res['hits']['total']['value'])\n",
        "for hit in res['hits']['hits']:\n",
        "    print(\"Stemmer: %(timestamp)s %(author)s: %(text)s\\n\" % hit[\"_source\"])\n",
        "\n",
        "#test query stemmer token filter\n",
        "res = es.search(index=\"kstem-index\", body={\"query\": {\"match\" : {\"text\": {\"query\" : \"jump\"} }}})\n",
        "print(\"Got %d Hits:\" % res['hits']['total']['value'])\n",
        "for hit in res['hits']['hits']:\n",
        "    print(\"Kstem: %(timestamp)s %(author)s: %(text)s\\n\" % hit[\"_source\"])\n",
        "\n",
        "#test query porter token filter\n",
        "res = es.search(index=\"porter-index\", body={\"query\": {\"match\" : {\"text\": {\"query\" : \"jump\"} }}})\n",
        "print(\"Got %d Hits:\" % res['hits']['total']['value'])\n",
        "for hit in res['hits']['hits']:\n",
        "    print(\"Porter: %(timestamp)s %(author)s: %(text)s\\n\" % hit[\"_source\"])\n",
        "\n",
        "#test query snowball token filter\n",
        "res = es.search(index=\"snowball-index\", body={\"query\": {\"match\" : {\"text\": {\"query\" : \"jump\"} }}})\n",
        "print(\"Got %d Hits:\" % res['hits']['total']['value'])\n",
        "for hit in res['hits']['hits']:\n",
        "    print(\"Snowball: %(timestamp)s %(author)s: %(text)s\" % hit[\"_source\"])"
      ],
      "execution_count": null,
      "outputs": []
    },
    {
      "cell_type": "markdown",
      "metadata": {
        "id": "QgWrwN0aKXFt",
        "colab_type": "text"
      },
      "source": [
        "## Start Experimenting \n",
        "\n",
        "Get different corpora, format them and feed them to elasticsearch"
      ]
    },
    {
      "cell_type": "markdown",
      "metadata": {
        "id": "89xRvatFztoo",
        "colab_type": "text"
      },
      "source": [
        "### Cranfield Corpus"
      ]
    },
    {
      "cell_type": "markdown",
      "metadata": {
        "id": "1fS6lVgXAO9F",
        "colab_type": "text"
      },
      "source": [
        "You can get the corpus from [this link](http://ir.dcs.gla.ac.uk/resources/test_collections/cran/).  <br>\n",
        "For detailed information about the parsing of this corpus look at [ this Notebook](https://colab.research.google.com/github/pragmalingu/private_experiments/blob/cranfield_corpus/CranfieldCorpus.ipynb) or for parsing in generel read [this guide](https://)."
      ]
    },
    {
      "cell_type": "markdown",
      "metadata": {
        "id": "DUv41dfn9nzz",
        "colab_type": "text"
      },
      "source": [
        "#### Data Processing"
      ]
    },
    {
      "cell_type": "markdown",
      "metadata": {
        "id": "FEh_A4MBj5Ii",
        "colab_type": "text"
      },
      "source": [
        "Get and process data:"
      ]
    },
    {
      "cell_type": "code",
      "metadata": {
        "id": "QsE0BqpwjrI1",
        "colab_type": "code",
        "colab": {}
      },
      "source": [
        "# download and unzip data\n",
        "!wget http://ir.dcs.gla.ac.uk/resources/test_collections/cran/cran.tar.gz\n",
        "!tar -xf cran.tar.gz\n",
        "\n",
        "# set paths to the dowloaded data as variables\n",
        "PATH_TO_CRAN_TXT = '/content/cran.all.1400'\n",
        "PATH_TO_CRAN_QRY = '/content/cran.qry'\n",
        "PATH_TO_CRAN_REL = '/content/cranqrel'\n",
        "\n",
        "from collections import defaultdict\n",
        "import re\n",
        "import json\n",
        "from io import StringIO\n",
        "import numpy as np\n",
        "\n",
        "stemmer_cran_index = \"stemmer-cranfield-corpus\"\n",
        "kstem_cran_index = \"kstem-cranfield-corpus\"\n",
        "porter_cran_index = \"porter-cranfield-corpus\"\n",
        "snowball_cran_index = \"snowball-cranfield-corpus\"\n",
        "\n",
        "# get the text entries from the text and query files\n",
        "\n",
        "ID_marker = re.compile('\\.I')\n",
        "\n",
        "def get_data(PATH_TO_FILE, marker):\n",
        "  \"\"\"\n",
        "  Reads file and spilts text into entries at the ID marker '.I'.\n",
        "  First entry is empty, so it's removed.\n",
        "  'marker' contains the regex at which we want to split\n",
        "  \"\"\"\n",
        "  with open (PATH_TO_FILE,'r') as f:\n",
        "    text = f.read().replace('\\n',\" \")\n",
        "    lines = re.split(marker,text)\n",
        "    lines.pop(0)\n",
        "  return lines\n",
        "\n",
        "cran_txt_list = get_data(PATH_TO_CRAN_TXT, ID_marker)\n",
        "cran_qry_list = get_data(PATH_TO_CRAN_QRY, ID_marker)\n",
        "\n",
        "# process text file\n",
        "\n",
        "cran_chunk_start = re.compile('\\.[A,B,T,W]')\n",
        "cran_txt_data = defaultdict(dict)\n",
        "\n",
        "for line in cran_txt_list:\n",
        "  entries= re.split(cran_chunk_start,line)\n",
        "  id = entries[0].strip()\n",
        "  title = entries[1]\n",
        "  author = entries[2]\n",
        "  publication_date = entries[3]\n",
        "  text = entries[4]\n",
        "  cran_txt_data[id]['title'] = title\n",
        "  cran_txt_data[id]['author'] = author\n",
        "  cran_txt_data[id]['publication_date'] = publication_date\n",
        "  cran_txt_data[id]['text'] = text\n",
        "\n",
        "# process query file\n",
        "\n",
        "qry_chunk_start = re.compile('\\.W')\n",
        "cran_qry_data = defaultdict(dict)\n",
        "\n",
        "for n in range(0,len(cran_qry_list)-1):\n",
        "  line = cran_qry_list[n+1]\n",
        "  _ , question = re.split(qry_chunk_start,line)\n",
        "  cran_qry_data[n+1]['question'] = question\n",
        "\n",
        "# process relevance assesments\n",
        "\n",
        "cran_rel_data = open(PATH_TO_CRAN_REL)\n",
        "cran_np = np.loadtxt(cran_rel_data, dtype=int)\n",
        "\n",
        "cran_rel = defaultdict(list)\n",
        "for row in cran_np:\n",
        "  cran_rel[row[0]].append(tuple(row[1:])) "
      ],
      "execution_count": null,
      "outputs": []
    },
    {
      "cell_type": "markdown",
      "metadata": {
        "id": "n3y2zrw_GqBZ",
        "colab_type": "text"
      },
      "source": [
        "#### Index Cranfield corpus"
      ]
    },
    {
      "cell_type": "markdown",
      "metadata": {
        "id": "PgUdhYgbyNk0",
        "colab_type": "text"
      },
      "source": [
        "Only needs to be done once, so if you're operating on our elastic search instance this one can be skipped:"
      ]
    },
    {
      "cell_type": "code",
      "metadata": {
        "id": "aOTyG_hrzMi7",
        "colab_type": "code",
        "colab": {}
      },
      "source": [
        "es.indices.delete(stemmer_cran_index)\n",
        "es.indices.create(stemmer_cran_index, body=stemmer_settings)\n",
        "\n",
        "es.indices.delete(kstem_cran_index)\n",
        "es.indices.create(kstem_cran_index, body=kstem_settings)\n",
        "\n",
        "es.indices.delete(porter_cran_index)\n",
        "es.indices.create(porter_cran_index, body=porter_settings)\n",
        "\n",
        "es.indices.delete(snowball_cran_index)\n",
        "es.indices.create(snowball_cran_index, body=snowball_settings)\n",
        "\n",
        "#index document, see https://elasticsearch-py.readthedocs.io/en/master/#example-usage\n",
        "for ID, doc_data in cran_txt_data.items():\n",
        "  es.index(index=stemmer_cran_index, id=ID, body=doc_data)\n",
        "  es.index(index=kstem_cran_index, id=ID, body=doc_data)\n",
        "  es.index(index=porter_cran_index, id=ID, body=doc_data)\n",
        "  es.index(index=snowball_cran_index, id=ID, body=doc_data)\n",
        "\n",
        "create_response = es.cat.indices()\n",
        "print(create_response)"
      ],
      "execution_count": null,
      "outputs": []
    },
    {
      "cell_type": "markdown",
      "metadata": {
        "colab_type": "text",
        "id": "LW6zgF8_JG4e"
      },
      "source": [
        "### Medline Corpus"
      ]
    },
    {
      "cell_type": "markdown",
      "metadata": {
        "id": "Gp1yEVO8037d",
        "colab_type": "text"
      },
      "source": [
        "You can get the corpus from [this link](http://ir.dcs.gla.ac.uk/resources/test_collections/med/).  <br>\n",
        "For detailed information about the parsing of this corpus look at [ this Notebook](https://colab.research.google.com/github/pragmalingu/private_experiments/blob/medline_corpus/MedlineCorpus.ipynb) or for parsing in generel read [this guide](https://)."
      ]
    },
    {
      "cell_type": "markdown",
      "metadata": {
        "colab_type": "text",
        "id": "LDNzoWupJG4m"
      },
      "source": [
        "#### Data Processing"
      ]
    },
    {
      "cell_type": "markdown",
      "metadata": {
        "colab_type": "text",
        "id": "30J3Uno8JG4o"
      },
      "source": [
        "Get and process data:"
      ]
    },
    {
      "cell_type": "code",
      "metadata": {
        "colab_type": "code",
        "id": "6Yo-Qv89JG4q",
        "colab": {}
      },
      "source": [
        "# download and unzip data\n",
        "!wget http://ir.dcs.gla.ac.uk/resources/test_collections/medl/med.tar.gz\n",
        "!tar -xf med.tar.gz\n",
        "\n",
        "# set paths to the dowloaded data as variables\n",
        "PATH_TO_MED_TXT = '/content/MED.ALL'\n",
        "PATH_TO_MED_QRY = '/content/MED.QRY'\n",
        "PATH_TO_MED_REL = '/content/MED.REL'\n",
        "\n",
        "from collections import defaultdict\n",
        "import re\n",
        "import json\n",
        "from io import StringIO\n",
        "import numpy as np\n",
        "\n",
        "stemmer_med_index = \"stemmer-medline-corpus\"\n",
        "kstem_med_index = \"kstem-medline-corpus\"\n",
        "porter_med_index = \"porter-medline-corpus\"\n",
        "snowball_med_index = \"snowball-medline-corpus\"\n",
        "\n",
        "# get the text and query files\n",
        "\n",
        "ID_marker = re.compile('\\.I')\n",
        "\n",
        "def get_data(PATH_TO_FILE, marker):\n",
        "  \"\"\"\n",
        "  Reads file and spilts text into entries at the ID marker '.I'.\n",
        "  First entry is empty, so it's removed.\n",
        "  'marker' contains the regex at which we want to split\n",
        "  \"\"\"\n",
        "  with open (PATH_TO_FILE,'r') as f:\n",
        "    text = f.read().replace('\\n',\" \")\n",
        "    lines = re.split(marker,text)\n",
        "    lines.pop(0)\n",
        "  return lines\n",
        "\n",
        "med_txt_list = get_data(PATH_TO_MED_TXT, ID_marker)\n",
        "med_qry_list = get_data(PATH_TO_MED_QRY, ID_marker)\n",
        "\n",
        "# process the text and query files\n",
        "\n",
        "qry_chunk_start = re.compile('\\.W')\n",
        "\n",
        "med_txt_data = defaultdict(dict)\n",
        "med_qry_data = defaultdict(dict)\n",
        "\n",
        "def fill_dictionary(dictionary, chunk_list, marker, key_name):\n",
        "  for n in range(0,len(chunk_list)-1):\n",
        "    line = chunk_list[n+1]\n",
        "    _ , chunk = re.split(marker,line)\n",
        "    dictionary[n+1][key_name] = chunk.strip()\n",
        "\n",
        "fill_dictionary(med_txt_data, med_txt_list, qry_chunk_start, 'text')\n",
        "fill_dictionary(med_qry_data, med_qry_list, qry_chunk_start, 'question')\n",
        "\n",
        "# process relevance assesments with rating\n",
        "\n",
        "med_rel_data = open(PATH_TO_MED_REL)\n",
        "med_np = np.loadtxt(med_rel_data, dtype=int)\n",
        "\n",
        "med_rel_rat = defaultdict(list)\n",
        "for row in med_np:\n",
        "  med_rel_rat[row[0]].append(row[2])\n",
        "\n",
        "# process relevance assesments without rating\n",
        "med_rel = defaultdict(list)\n",
        "\n",
        "with open (PATH_TO_MED_REL,'r') as f:\n",
        "  for line in f:\n",
        "    line = re.split(' ',line)\n",
        "    med_rel[int(line[0])].append(line[2])"
      ],
      "execution_count": null,
      "outputs": []
    },
    {
      "cell_type": "markdown",
      "metadata": {
        "colab_type": "text",
        "id": "fiA5r3R3JG5e"
      },
      "source": [
        "#### Index Medline corpus"
      ]
    },
    {
      "cell_type": "markdown",
      "metadata": {
        "id": "taFfRTmiywsf",
        "colab_type": "text"
      },
      "source": [
        "Only needs to be done once, so if you're operating on our elastic search instance this one can be skipped:"
      ]
    },
    {
      "cell_type": "code",
      "metadata": {
        "colab_type": "code",
        "id": "cXBubnBUJG5f",
        "colab": {}
      },
      "source": [
        "es.indices.delete(stemmer_med_index)\n",
        "es.indices.create(stemmer_med_index, body=stemmer_settings)\n",
        "\n",
        "es.indices.delete(kstem_med_index)\n",
        "es.indices.create(kstem_med_index, body=kstem_settings)\n",
        "\n",
        "es.indices.delete(porter_med_index)\n",
        "es.indices.create(porter_med_index, body=porter_settings)\n",
        "\n",
        "es.indices.delete(snowball_med_index)\n",
        "es.indices.create(snowball_med_index, body=snowball_settings)\n",
        "\n",
        "#index document, see https://elasticsearch-py.readthedocs.io/en/master/#example-usage\n",
        "\n",
        "for ID, doc_data in med_txt_data.items():\n",
        "  es.index(index=stemmer_med_index, id=ID, body=doc_data)\n",
        "  es.index(index=kstem_med_index, id=ID, body=doc_data)\n",
        "  es.index(index=porter_med_index, id=ID, body=doc_data)\n",
        "  es.index(index=snowball_med_index, id=ID, body=doc_data)\n",
        "\n",
        "create_response = es.cat.indices()\n",
        "print(create_response)"
      ],
      "execution_count": null,
      "outputs": []
    },
    {
      "cell_type": "markdown",
      "metadata": {
        "colab_type": "text",
        "id": "LsUvuv-a1HQb"
      },
      "source": [
        "### ADI Corpus"
      ]
    },
    {
      "cell_type": "markdown",
      "metadata": {
        "colab_type": "text",
        "id": "ugn-mmHEJk0T"
      },
      "source": [
        "You can get the corpus from [this link](http://ir.dcs.gla.ac.uk/resources/test_collections/adi/).  <br>\n",
        "For detailed information about the parsing of this corpus look at [ this Notebook](https://colab.research.google.com/github/pragmalingu/private_experiments/blob/adi_corpus/ADICorpus.ipynb) or for parsing in generel read [this guide](https://)."
      ]
    },
    {
      "cell_type": "markdown",
      "metadata": {
        "colab_type": "text",
        "id": "Lj2O4o0G1HQg"
      },
      "source": [
        "#### Data Processing"
      ]
    },
    {
      "cell_type": "markdown",
      "metadata": {
        "colab_type": "text",
        "id": "3FXLQm-I1HQh"
      },
      "source": [
        "Download and parse data:"
      ]
    },
    {
      "cell_type": "code",
      "metadata": {
        "colab_type": "code",
        "id": "P1zxf-JB1HQj",
        "colab": {}
      },
      "source": [
        "# download and unzip data\n",
        "!wget http://ir.dcs.gla.ac.uk/resources/test_collections/adi/adi.tar.gz\n",
        "!tar -xf adi.tar.gz\n",
        "\n",
        "# set paths to the dowloaded data as variables\n",
        "PATH_TO_ADI_TXT = '/content/ADI.ALL'\n",
        "PATH_TO_ADI_QRY = '/content/ADI.QRY'\n",
        "PATH_TO_ADI_REL = '/content/ADI.REL'\n",
        "\n",
        "from collections import defaultdict\n",
        "import re\n",
        "import json\n",
        "from io import StringIO\n",
        "import numpy as np\n",
        "\n",
        "stemmer_adi_index = \"stemmer-adi-corpus\"\n",
        "kstem_adi_index = \"kstem-adi-corpus\"\n",
        "porter_adi_index = \"porter-adi-corpus\"\n",
        "snowball_adi_index = \"snowball-adi-corpus\"\n",
        "\n",
        "# get the text and query files\n",
        "\n",
        "ID_marker = re.compile('\\.I')\n",
        "\n",
        "def get_data(PATH_TO_FILE, marker):\n",
        "  \"\"\"\n",
        "  Reads file and spilts text into entries at the ID marker '.I'.\n",
        "  First entry is empty, so it's removed.\n",
        "  'marker' contains the regex at which we want to split\n",
        "  \"\"\"\n",
        "  with open (PATH_TO_FILE,'r') as f:\n",
        "    text = f.read().replace('\\n',\" \")\n",
        "    lines = re.split(marker,text)\n",
        "    lines.pop(0)\n",
        "  return lines\n",
        "\n",
        "adi_txt_list = get_data(PATH_TO_ADI_TXT, ID_marker)\n",
        "adi_qry_list = get_data(PATH_TO_ADI_QRY, ID_marker)\n",
        "\n",
        "# process text file\n",
        "\n",
        "adi_title_start = re.compile('\\.T')\n",
        "adi_author_start = re.compile('\\.A')\n",
        "adi_text_start = re.compile('\\.W')\n",
        "\n",
        "adi_txt_data = defaultdict(dict)\n",
        "\n",
        "for line in adi_txt_list:\n",
        "  entries = re.split(adi_title_start,line,1)\n",
        "  id = entries[0].strip()\n",
        "  no_id = entries[1]\n",
        "  if len(re.split(adi_author_start, no_id,1)) > 1:\n",
        "    no_id_entries = re.split(adi_author_start, no_id,1)\n",
        "    adi_txt_data[id]['title'] = no_id_entries[0]\n",
        "    no_title = no_id_entries[1]\n",
        "    no_title_entries = re.split(adi_text_start, no_title)\n",
        "    adi_txt_data[id]['author'] = no_title_entries[0]\n",
        "    adi_txt_data[id]['text'] = no_title_entries[1]\n",
        "  else:\n",
        "    no_id_entries = re.split(adi_text_start, no_id)\n",
        "    adi_txt_data[id]['title'] = no_id_entries[0]\n",
        "    adi_txt_data[id]['text'] = no_id_entries[1]\n",
        "\n",
        "# process query file    \n",
        "\n",
        "qry_chunk_start = re.compile('\\.W')\n",
        "adi_qry_data = defaultdict(dict)\n",
        "\n",
        "for n in range(0,len(adi_qry_list)-1):\n",
        "  line = adi_qry_list[n+1]\n",
        "  _ , question = re.split(qry_chunk_start,line)\n",
        "  adi_qry_data[n+1]['question'] = question\n",
        "\n",
        "# process relevance assesment\n",
        "\n",
        "adi_rel_data = open(PATH_TO_ADI_REL)\n",
        "adi_np = np.loadtxt(adi_rel_data, dtype=float)\n",
        "\n",
        "adi_rel = defaultdict(list)\n",
        "for row in adi_np:\n",
        "  adi_rel[int(row[0])].append(int(row[1])) "
      ],
      "execution_count": null,
      "outputs": []
    },
    {
      "cell_type": "markdown",
      "metadata": {
        "colab_type": "text",
        "id": "B8HH6SIf1HRT"
      },
      "source": [
        "#### Index ADI corpus"
      ]
    },
    {
      "cell_type": "markdown",
      "metadata": {
        "id": "VID8rmg_L7iC",
        "colab_type": "text"
      },
      "source": [
        "Only needs to be done once, so if you're operating on our elastic search instance this one can be skipped:"
      ]
    },
    {
      "cell_type": "code",
      "metadata": {
        "colab_type": "code",
        "id": "m6dPVndo1HRU",
        "colab": {}
      },
      "source": [
        "es.indices.delete(stemmer_adi_index)\n",
        "es.indices.create(stemmer_adi_index, body=stemmer_settings)\n",
        "\n",
        "es.indices.delete(kstem_adi_index)\n",
        "es.indices.create(kstem_adi_index, body=kstem_settings)\n",
        "\n",
        "es.indices.delete(porter_adi_index)\n",
        "es.indices.create(porter_adi_index, body=porter_settings)\n",
        "\n",
        "es.indices.delete(snowball_adi_index)\n",
        "es.indices.create(snowball_adi_index, body=snowball_settings)\n",
        "\n",
        "#index document, see https://elasticsearch-py.readthedocs.io/en/master/#example-usage\n",
        "\n",
        "for ID, doc_data in adi_txt_data.items():\n",
        "  es.index(index=stemmer_adi_index, id=ID, body=doc_data)\n",
        "  es.index(index=kstem_adi_index, id=ID, body=doc_data)\n",
        "  es.index(index=porter_adi_index, id=ID, body=doc_data)\n",
        "  es.index(index=snowball_adi_index, id=ID, body=doc_data)\n",
        "\n",
        "create_response = es.cat.indices()\n",
        "print(create_response)"
      ],
      "execution_count": null,
      "outputs": []
    },
    {
      "cell_type": "markdown",
      "metadata": {
        "colab_type": "text",
        "id": "h46hrLuPNPvc"
      },
      "source": [
        "### CISI Corpus"
      ]
    },
    {
      "cell_type": "markdown",
      "metadata": {
        "colab_type": "text",
        "id": "lhEMgc2JNPve"
      },
      "source": [
        "You can get the corpus from [this link](http://ir.dcs.gla.ac.uk/resources/test_collections/cisi/).  <br>\n",
        "For detailed information about the parsing of this corpus look at [ this Notebook](https://colab.research.google.com/github/pragmalingu/private_experiments/blob/cisi_corpus/CISICorpus.ipynb) or for parsing in generel read [this guide](https://)."
      ]
    },
    {
      "cell_type": "markdown",
      "metadata": {
        "colab_type": "text",
        "id": "IPqLfvffNPvg"
      },
      "source": [
        "#### Data Processing"
      ]
    },
    {
      "cell_type": "markdown",
      "metadata": {
        "colab_type": "text",
        "id": "4w47lPXHNPvh"
      },
      "source": [
        "Download and parse data:"
      ]
    },
    {
      "cell_type": "code",
      "metadata": {
        "colab_type": "code",
        "id": "hdn3IdFvNPvi",
        "colab": {}
      },
      "source": [
        "# download and unzip data\n",
        "!wget http://ir.dcs.gla.ac.uk/resources/test_collections/cisi/cisi.tar.gz\n",
        "!tar -xf cisi.tar.gz\n",
        "\n",
        "# set paths to the dowloaded data as variablesDownload and unzip data.\n",
        "PATH_TO_CISI_TXT = '/content/CISI.ALL'\n",
        "PATH_TO_CISI_QRY = '/content/CISI.QRY'\n",
        "PATH_TO_CISI_REL = '/content/CISI.REL'\n",
        "\n",
        "from collections import defaultdict\n",
        "import re\n",
        "import json\n",
        "from io import StringIO\n",
        "import numpy as np\n",
        "\n",
        "stemmer_cisi_index = \"stemmer-cisi-corpus\"\n",
        "kstem_cisi_index = \"kstem-cisi-corpus\"\n",
        "porter_cisi_index = \"porter-cisi-corpus\"\n",
        "snowball_cisi_index = \"snowball-cisi-corpus\"\n",
        "\n",
        "# get the text and query files\n",
        "\n",
        "ID_marker = re.compile('^\\.I',re.MULTILINE)\n",
        "\n",
        "def get_data(PATH_TO_FILE, marker):\n",
        "  \"\"\"\n",
        "  Reads file and spilts text into entries at the ID marker '.I'.\n",
        "  First entry is empty, so it's removed.\n",
        "  'marker' contains the regex at which we want to split\n",
        "  \"\"\"\n",
        "  with open (PATH_TO_FILE,'r') as f:\n",
        "    text = f.read()\n",
        "    lines = re.split(marker,text)\n",
        "    lines.pop(0)\n",
        "  return lines\n",
        "\n",
        "cisi_txt_list = get_data(PATH_TO_CISI_TXT, ID_marker)\n",
        "cisi_qry_list = get_data(PATH_TO_CISI_QRY, ID_marker)\n",
        "\n",
        "# process text file\n",
        "\n",
        "cisi_title_start = re.compile('[\\n]\\.T')\n",
        "cisi_author_start = re.compile('[\\n]\\.A')\n",
        "cisi_date_start = re.compile('[\\n]\\.B')\n",
        "cisi_text_start = re.compile('[\\n]\\.W')\n",
        "cisi_cross_start = re.compile('[\\n]\\.X')\n",
        "\n",
        "cisi_txt_data = defaultdict(dict)\n",
        "\n",
        "for line in cisi_txt_list:\n",
        "  entries = re.split(cisi_title_start,line,1)\n",
        "  id = entries[0].strip()#save the id\n",
        "  no_id = entries[1] \n",
        "  \n",
        "  if len(re.split(cisi_author_start, no_id)) >= 2: # is there just one author?\n",
        "    no_id_entries = re.split(cisi_author_start, no_id,1)\n",
        "    cisi_txt_data[id]['title'] = no_id_entries[0].strip() # save title\n",
        "    no_title = no_id_entries[1]\n",
        "\n",
        "    if len(re.split(cisi_date_start, no_title)) > 1: # is there a publication date?\n",
        "      no_title_entries = re.split(cisi_date_start, no_title)\n",
        "      cisi_txt_data[id]['author'] = no_title_entries[0].strip() # save athour\n",
        "      no_author = no_title_entries[1]\n",
        "      no_author_entries = re.split(cisi_text_start, no_author)\n",
        "      cisi_txt_data[id]['publication_date'] = no_author_entries[0].strip() # save publication date\n",
        "      no_author_date = no_author_entries[1]\n",
        "    else:\n",
        "      no_title_entries = re.split(cisi_text_start, no_title)\n",
        "      cisi_txt_data[id]['author'] = no_title_entries[0].strip() # save athour\n",
        "      no_author_date = no_title_entries[1]\n",
        "\n",
        "  else:\n",
        "    no_id_entries = re.split(cisi_author_start, no_id)\n",
        "    cisi_txt_data[id]['title'] = no_id_entries[0].strip() # save title\n",
        "    cisi_txt_data[id]['author'] = no_id_entries[1].strip() # save first author\n",
        "    no_title_entries = re.split(cisi_text_start, no_title)\n",
        "    cisi_txt_data[id]['author'] += ','+no_title_entries[0].strip() # save second athour\n",
        "    no_author_date = no_title_entries[1]\n",
        "\n",
        "  last_entries = re.split(cisi_cross_start, no_author_date)\n",
        "  cisi_txt_data[id]['text'] = last_entries[0].strip() # save text\n",
        "  cisi_txt_data[id]['cross-refrences'] = last_entries[1].strip() # save cross refrences\n",
        "\n",
        "# process query file  \n",
        "\n",
        "qry_chunk_start = re.compile('[\\n]\\.W')\n",
        "\n",
        "cisi_qry_data = defaultdict(dict)\n",
        "\n",
        "for line in cisi_qry_list:\n",
        "  id , question = re.split(qry_chunk_start,line)\n",
        "  id = re.findall('\\d{1,3}',id)[0]\n",
        "  cisi_qry_data[id]['question'] = question\n",
        "\n",
        "# process the relevance assesment data\n",
        "cisi_rel = defaultdict(list)\n",
        "\n",
        "with open (PATH_TO_CISI_REL,'r') as f:\n",
        "  for line in f:\n",
        "    line = line.replace(' ','\\t')\n",
        "    line = re.split('\\t',line)\n",
        "    line = list(filter(None, line))\n",
        "    cisi_rel[str(line[0])].append(str(line[1]))"
      ],
      "execution_count": null,
      "outputs": []
    },
    {
      "cell_type": "markdown",
      "metadata": {
        "colab_type": "text",
        "id": "YajcmFGrNPwS"
      },
      "source": [
        "#### Index CISI corpus"
      ]
    },
    {
      "cell_type": "markdown",
      "metadata": {
        "id": "pDEOsOkxE8-2",
        "colab_type": "text"
      },
      "source": [
        "Only needs to be done once, so if you're operating on our elastic search instance this one can be skipped:"
      ]
    },
    {
      "cell_type": "code",
      "metadata": {
        "colab_type": "code",
        "id": "cuZt-mWSNPwT",
        "colab": {}
      },
      "source": [
        "es.indices.delete(stemmer_cisi_index)\n",
        "es.indices.create(stemmer_cisi_index, body=stemmer_settings)\n",
        "\n",
        "es.indices.delete(kstem_cisi_index)\n",
        "es.indices.create(kstem_cisi_index, body=kstem_settings)\n",
        "\n",
        "es.indices.delete(porter_cisi_index)\n",
        "es.indices.create(porter_cisi_index, body=porter_settings)\n",
        "\n",
        "es.indices.delete(snowball_cisi_index)\n",
        "es.indices.create(snowball_cisi_index, body=snowball_settings)\n",
        "\n",
        "#index document, see https://elasticsearch-py.readthedocs.io/en/master/#example-usage\n",
        "\n",
        "for ID, doc_data in cisi_txt_data.items():\n",
        "  es.index(index=stemmer_cisi_index, id=ID, body=doc_data)\n",
        "  es.index(index=kstem_cisi_index, id=ID, body=doc_data)\n",
        "  es.index(index=porter_cisi_index, id=ID, body=doc_data)\n",
        "  es.index(index=snowball_cisi_index, id=ID, body=doc_data)\n",
        "\n",
        "create_response = es.cat.indices()\n",
        "print(create_response)"
      ],
      "execution_count": null,
      "outputs": []
    },
    {
      "cell_type": "markdown",
      "metadata": {
        "colab_type": "text",
        "id": "K0ZqWC9JuKbe"
      },
      "source": [
        "### CACM Corpus"
      ]
    },
    {
      "cell_type": "markdown",
      "metadata": {
        "colab_type": "text",
        "id": "eDc4PrF_uKbi"
      },
      "source": [
        "You can get the corpus from [this link](http://ir.dcs.gla.ac.uk/resources/test_collections/cacm/).  <br>\n",
        "For detailed information about the format of the files, see the PragmaLingu [ Benchmarks](https://pragmalingu.de/docs/benchmarks/overview)"
      ]
    },
    {
      "cell_type": "markdown",
      "metadata": {
        "colab_type": "text",
        "id": "a9CZhmuouKbj"
      },
      "source": [
        "#### Data Processing"
      ]
    },
    {
      "cell_type": "markdown",
      "metadata": {
        "colab_type": "text",
        "id": "uzmvRA6juKbk"
      },
      "source": [
        "Download and parse data:"
      ]
    },
    {
      "cell_type": "code",
      "metadata": {
        "colab_type": "code",
        "id": "CLroBvrduKbn",
        "colab": {}
      },
      "source": [
        "# download and unzip data\n",
        "!wget http://ir.dcs.gla.ac.uk/resources/test_collections/cacm/cacm.tar.gz\n",
        "!tar -xf cacm.tar.gz\n",
        "\n",
        "# set paths to the dowloaded data as variablesDownload and unzip data.\n",
        "\n",
        "PATH_TO_CACM_TXT = '/content/cacm.all'\n",
        "PATH_TO_CACM_QRY = '/content/query.text'\n",
        "PATH_TO_CACM_REL = '/content/qrels.text'\n",
        "PATH_TO_CACM_COMMON_WORDS = '/content/common_words'\n",
        "\n",
        "from collections import defaultdict\n",
        "import re\n",
        "import json\n",
        "from io import StringIO\n",
        "import numpy as np\n",
        "\n",
        "stemmer_cacm_index = \"stemmer-cacm-corpus\"\n",
        "kstem_cacm_index = \"kstem-cacm-corpus\"\n",
        "porter_cacm_index = \"porter-cacm-corpus\"\n",
        "snowball_cacm_index = \"snowball-cacm-corpus\"\n",
        "\n",
        "# get the text and query files\n",
        "\n",
        "ID_marker = re.compile('^\\.I',re.MULTILINE)\n",
        "\n",
        "def get_data(PATH_TO_FILE, marker):\n",
        "  \"\"\"\n",
        "  Reads file and spilts text into entries at the ID marker '.I'.\n",
        "  First entry is empty, so it's removed.\n",
        "  'marker' contains the regex at which we want to split\n",
        "  \"\"\"\n",
        "  with open (PATH_TO_FILE,'r') as f:\n",
        "    text = f.read()\n",
        "    lines = re.split(marker,text)\n",
        "    lines.pop(0)\n",
        "  return lines\n",
        "\n",
        "cacm_txt_list = get_data(PATH_TO_CACM_TXT, ID_marker)\n",
        "cacm_qry_list = get_data(PATH_TO_CACM_QRY, ID_marker)\n",
        "\n",
        "# process text file\n",
        "\n",
        "cacm_chunk_title = re.compile('\\.[T]\\n')\n",
        "cacm_chunk_txt = re.compile('\\n\\.W\\n') # not enough\n",
        "cacm_chunk_txt_pub = re.compile('\\.[W,B]')\n",
        "cacm_chunk_publication = re.compile('\\.[B]\\n')\n",
        "cacm_chunk_author = re.compile('^\\.[A]\\n', re.MULTILINE)\n",
        "cacm_chunk_author_add_cross = re.compile('^\\.[A,N,X]\\n',re.MULTILINE) # not enough\n",
        "cacm_chunk_add_cross = re.compile('\\.[B,N,X]\\n')\n",
        "\n",
        "\n",
        "cacm_txt_data = defaultdict(dict)\n",
        "\n",
        "for line in cacm_txt_list:\n",
        "  entries= re.split(cacm_chunk_title,line)\n",
        "  id = entries[0].strip() #save id\n",
        "  no_id = entries[1]\n",
        "\n",
        "  if len(re.split(cacm_chunk_txt, no_id)) == 2: # is there text\n",
        "    no_id_entries = re.split(cacm_chunk_txt_pub, no_id,1)\n",
        "    cacm_txt_data[id]['title'] = no_id_entries[0].strip() # save title\n",
        "    cacm_txt_data[id]['text'] = no_id_entries[1].strip() # save text\n",
        "    no_title_txt = no_id_entries[1]\n",
        "\n",
        "    if len(re.split(cacm_chunk_author, no_title_txt)) == 2: # is there a auhtor\n",
        "      no_title_entries = re.split(cacm_chunk_author_add_cross, no_title_txt)\n",
        "      cacm_txt_data[id]['publication_date'] = no_title_entries[0].strip() # save publication date\n",
        "      cacm_txt_data[id]['author'] = no_title_entries[1].strip() # save athor\n",
        "      cacm_txt_data[id]['add_date'] = no_title_entries[2].strip() # save add date\n",
        "      cacm_txt_data[id]['cross-references'] = no_title_entries[3].strip() # save cross-references\n",
        "\n",
        "    else:\n",
        "      no_title_entries = re.split(cacm_chunk_publication, no_title_txt)\n",
        "      cacm_txt_data[id]['publication_date'] = no_title_entries[0].strip() # save publication date\n",
        "      cacm_txt_data[id]['add_date'] = no_title_entries[1].strip() # save add date\n",
        "      cacm_txt_data[id]['cross-references'] = no_title_entries[1].strip() # save cross-references\n",
        "\n",
        "  else:\n",
        "    no_id_entries = re.split(cacm_chunk_publication, no_id,1)\n",
        "    cacm_txt_data[id]['title'] = no_id_entries[0].strip() # save title\n",
        "    no_title = no_id_entries[1]\n",
        "\n",
        "    if len(re.split(cacm_chunk_author, no_title,1)) == 2: # is there a auhtor\n",
        "      no_title_entries = re.split(cacm_chunk_author_add_cross, no_title)\n",
        "      cacm_txt_data[id]['publication_date'] = no_title_entries[0].strip() # save publication date\n",
        "      cacm_txt_data[id]['author'] = no_title_entries[1].strip() # save athor\n",
        "      cacm_txt_data[id]['add_date'] = no_title_entries[2].strip() # save add date\n",
        "      cacm_txt_data[id]['cross-references'] = no_title_entries[3].strip() # save cross-references\n",
        "\n",
        "    else:\n",
        "      no_title_entries = re.split(cacm_chunk_add_cross, no_title)\n",
        "      cacm_txt_data[id]['publication_date'] = no_title_entries[0].strip() # save publication date\n",
        "      cacm_txt_data[id]['add_date'] = no_title_entries[1].strip() # save add date\n",
        "      cacm_txt_data[id]['cross-references'] = no_title_entries[2].strip() # save cross-references\n",
        "\n",
        "# process the query data\n",
        "\n",
        "qry_chunk_start = re.compile('^\\.W\\n',re.MULTILINE)\n",
        "cacm_qry_data = defaultdict(dict)\n",
        "\n",
        "for n in range(0,len(cacm_qry_list)-1):\n",
        "  line = cacm_qry_list[n+1]\n",
        "  _ , question = re.split(qry_chunk_start,line)\n",
        "  cacm_qry_data[n+1]['question'] = question\n",
        "\n",
        "# process the relevance assesment data\n",
        "cacm_rel = defaultdict(list)\n",
        "\n",
        "with open (PATH_TO_CACM_REL,'r') as f:\n",
        "  for line in f:\n",
        "    line = re.split(' ',line)\n",
        "    cacm_rel[int(line[0])].append(line[1])"
      ],
      "execution_count": null,
      "outputs": []
    },
    {
      "cell_type": "markdown",
      "metadata": {
        "colab_type": "text",
        "id": "xXozEnL8uKcg"
      },
      "source": [
        "#### Index CACM corpus"
      ]
    },
    {
      "cell_type": "markdown",
      "metadata": {
        "id": "U8ewU0omCuD-",
        "colab_type": "text"
      },
      "source": [
        "Create an index for the CACM corpus. This is only possible if it isn't created yet.\n",
        "\n",
        "(For more information see the [Elasticsearch documentation](https://elasticsearch-py.readthedocs.io/en/master/api.html#elasticsearch.client.IndicesClient.create))"
      ]
    },
    {
      "cell_type": "code",
      "metadata": {
        "colab_type": "code",
        "id": "dW1vEqn_uKch",
        "colab": {}
      },
      "source": [
        "#es.indices.delete(stemmer_cacm_index)\n",
        "es.indices.create(stemmer_cacm_index, body=stemmer_settings)\n",
        "\n",
        "#es.indices.delete(kstem_cacm_index)\n",
        "es.indices.create(kstem_cacm_index, body=kstem_settings)\n",
        "\n",
        "#es.indices.delete(porter_cacm_index)\n",
        "es.indices.create(porter_cacm_index, body=porter_settings)\n",
        "\n",
        "#es.indices.delete(snowball_cacm_index)\n",
        "es.indices.create(snowball_cacm_index, body=snowball_settings)\n",
        "\n",
        "#index document, see https://elasticsearch-py.readthedocs.io/en/master/#example-usage\n",
        "\n",
        "for ID, doc_data in cacm_txt_data.items():\n",
        "  es.index(index=stemmer_cacm_index, id=ID, body=doc_data)\n",
        "  es.index(index=kstem_cacm_index, id=ID, body=doc_data)\n",
        "  es.index(index=porter_cacm_index, id=ID, body=doc_data)\n",
        "  es.index(index=snowball_cacm_index, id=ID, body=doc_data)\n",
        "\n",
        "create_response = es.cat.indices()\n",
        "print(create_response)"
      ],
      "execution_count": null,
      "outputs": []
    },
    {
      "cell_type": "markdown",
      "metadata": {
        "id": "jsHupiWaGwNe",
        "colab_type": "text"
      },
      "source": [
        "## Evaluation"
      ]
    },
    {
      "cell_type": "markdown",
      "metadata": {
        "id": "evaCfIZSLb5d",
        "colab_type": "text"
      },
      "source": [
        "### Stemmer"
      ]
    },
    {
      "cell_type": "code",
      "metadata": {
        "colab_type": "code",
        "id": "jlnHtqCwnAbb",
        "colab": {}
      },
      "source": [
        "#use rank eval api, see https://elasticsearch-py.readthedocs.io/en/master/api.html?highlight=_rank_eval#elasticsearch.Elasticsearch.rank_eval \n",
        "#and https://www.elastic.co/guide/en/elasticsearch/reference/current/search-rank-eval.html#search-rank-eval\n",
        "\n",
        "from collections import defaultdict\n",
        "\n",
        "cran_index = 'stemmer-cranfield-corpus'\n",
        "med_index = 'stemmer-medline-corpus'\n",
        "adi_index = 'stemmer-adi-corpus'\n",
        "cisi_index = 'stemmer-cisi-corpus'\n",
        "cacm_index = 'stemmer-cacm-corpus'\n",
        "\n",
        "# function to get normal match evaluation body \n",
        "\n",
        "def create_query_body_match(query_dict, rel_dict, index_name):\n",
        "  \"\"\"\n",
        "  The function creates a request for every query in query_dict and rates the relevant documents with rel_dict to 1.\n",
        "  The index name has to be the same as from the documents your looking at.\n",
        "  An evaluation body for the elasticsearch ranking API is returned.\n",
        "  \"\"\"\n",
        "  eval_body = {\n",
        "      \"requests\":'',\n",
        "      \"metric\": {\n",
        "          \"precision\": {\n",
        "              \"k\" : 20,\n",
        "              \"relevant_rating_threshold\": 1,\n",
        "              \"ignore_unlabeled\": \"false\"\n",
        "              }\n",
        "      }\n",
        "  }\n",
        "  requests = [] \n",
        "  current_request = defaultdict(lambda: defaultdict())\n",
        "  current_rel = {\"_index\": index_name, \"_id\": '', \"rating\": int}\n",
        "  for query_ID, query_txt in query_dict.items():\n",
        "    current_query = {\"query\": { \"match\": { \"text\": '' }}}\n",
        "    current_query[\"query\"][\"match\"][\"text\"] = query_txt['question']\n",
        "    current_request[\"id\"] = 'Query_'+str(query_ID)\n",
        "    current_request[\"request\"] = current_query.copy()\n",
        "    current_request[\"ratings\"] = [{\"_index\": index_name, \"_id\": str(el), \"rating\": 1} for el in rel_dict[query_ID]]\n",
        "    requests.append(current_request.copy())\n",
        "  eval_body[\"requests\"] = requests\n",
        "  return eval_body\n",
        "\n",
        "# cranfield\n",
        "\n",
        "cran_create_stemmer = create_query_body_match(cran_qry_data, cran_rel, cran_index)\n",
        "cran_eval_body_stemmer = json.dumps(cran_create_stemmer)\n",
        "cran_res_stemmer = es.rank_eval(cran_eval_body_stemmer, cran_index)\n",
        "#print(json.dumps(cran_res, indent=4, sort_keys=True))\n",
        "\n",
        "# medline\n",
        "\n",
        "med_create_stemmer = create_query_body_match(med_qry_data, med_rel, med_index)\n",
        "med_eval_body_stemmer = json.dumps(med_create_stemmer)\n",
        "med_res_stemmer = es.rank_eval(med_eval_body_stemmer, med_index)\n",
        "#print(json.dumps(med_res, indent=4, sort_keys=True))\n",
        "\n",
        "# adi\n",
        "\n",
        "adi_create_stemmer = create_query_body_match(adi_qry_data, adi_rel, adi_index)\n",
        "adi_eval_body_stemmer = json.dumps(adi_create_stemmer)\n",
        "adi_res_stemmer = es.rank_eval(adi_eval_body_stemmer, adi_index)\n",
        "#print(json.dumps(adi_res, indent=4, sort_keys=True))\n",
        "\n",
        "# cisi\n",
        "\n",
        "cisi_create_stemmer = create_query_body_match(cisi_qry_data, cisi_rel, cisi_index)\n",
        "cisi_eval_body_stemmer = json.dumps(cisi_create_stemmer)\n",
        "cisi_res_stemmer = es.rank_eval(cisi_eval_body_stemmer, cisi_index)\n",
        "#print(json.dumps(cisi_res, indent=4, sort_keys=True))\n",
        "\n",
        "# cacm\n",
        "\n",
        "cacm_create_stemmer = create_query_body_match(cacm_qry_data, cacm_rel, cacm_index)\n",
        "cacm_eval_body_stemmer = json.dumps(cacm_create_stemmer)\n",
        "cacm_res_stemmer = es.rank_eval(cacm_eval_body_stemmer, cacm_index)\n",
        "#print(json.dumps(cacm_res, indent=4, sort_keys=True))"
      ],
      "execution_count": null,
      "outputs": []
    },
    {
      "cell_type": "markdown",
      "metadata": {
        "colab_type": "text",
        "id": "2-YAvvc3Mvc8"
      },
      "source": [
        "### Kstem"
      ]
    },
    {
      "cell_type": "code",
      "metadata": {
        "colab_type": "code",
        "id": "OsOGWAUeMvdH",
        "colab": {}
      },
      "source": [
        "#use rank eval api, see https://elasticsearch-py.readthedocs.io/en/master/api.html?highlight=_rank_eval#elasticsearch.Elasticsearch.rank_eval \n",
        "#and https://www.elastic.co/guide/en/elasticsearch/reference/current/search-rank-eval.html#search-rank-eval\n",
        "\n",
        "from collections import defaultdict\n",
        "\n",
        "cran_index = 'kstem-cranfield-corpus'\n",
        "med_index = 'kstem-medline-corpus'\n",
        "adi_index = 'kstem-adi-corpus'\n",
        "cisi_index = 'kstem-cisi-corpus'\n",
        "cacm_index = 'kstem-cacm-corpus'\n",
        "\n",
        "# function to get normal match evaluation body \n",
        "\n",
        "def create_query_body_match(query_dict, rel_dict, index_name):\n",
        "  \"\"\"\n",
        "  The function creates a request for every query in query_dict and rates the relevant documents with rel_dict to 1.\n",
        "  The index name has to be the same as from the documents your looking at.\n",
        "  An evaluation body for the elasticsearch ranking API is returned.\n",
        "  \"\"\"\n",
        "  eval_body = {\n",
        "      \"requests\":'',\n",
        "      \"metric\": {\n",
        "          \"precision\": {\n",
        "              \"k\" : 20,\n",
        "              \"relevant_rating_threshold\": 1,\n",
        "              \"ignore_unlabeled\": \"false\"\n",
        "              }\n",
        "      }\n",
        "  }\n",
        "  requests = [] \n",
        "  current_request = defaultdict(lambda: defaultdict())\n",
        "  current_rel = {\"_index\": index_name, \"_id\": '', \"rating\": int}\n",
        "  for query_ID, query_txt in query_dict.items():\n",
        "    current_query = {\"query\": { \"match\": { \"text\": '' }}}\n",
        "    current_query[\"query\"][\"match\"][\"text\"] = query_txt['question']\n",
        "    current_request[\"id\"] = 'Query_'+str(query_ID)\n",
        "    current_request[\"request\"] = current_query.copy()\n",
        "    current_request[\"ratings\"] = [{\"_index\": index_name, \"_id\": str(el), \"rating\": 1} for el in rel_dict[query_ID]]\n",
        "    requests.append(current_request.copy())\n",
        "  eval_body[\"requests\"] = requests\n",
        "  return eval_body\n",
        "\n",
        "# cranfield\n",
        "\n",
        "cran_create_kstem = create_query_body_match(cran_qry_data, cran_rel, cran_index)\n",
        "cran_eval_body_kstem = json.dumps(cran_create_kstem)\n",
        "cran_res_kstem = es.rank_eval(cran_eval_body_kstem, cran_index)\n",
        "#print(json.dumps(cran_res, indent=4, sort_keys=True))\n",
        "\n",
        "# medline\n",
        "\n",
        "med_create_kstem = create_query_body_match(med_qry_data, med_rel, med_index)\n",
        "med_eval_body_kstem = json.dumps(med_create_kstem)\n",
        "med_res_kstem = es.rank_eval(med_eval_body_kstem, med_index)\n",
        "#print(json.dumps(med_res, indent=4, sort_keys=True))\n",
        "\n",
        "# adi\n",
        "\n",
        "adi_create_kstem = create_query_body_match(adi_qry_data, adi_rel, adi_index)\n",
        "adi_eval_body_kstem = json.dumps(adi_create_kstem)\n",
        "adi_res_kstem = es.rank_eval(adi_eval_body_kstem, adi_index)\n",
        "#print(json.dumps(adi_res, indent=4, sort_keys=True))\n",
        "\n",
        "# cisi\n",
        "\n",
        "cisi_create_kstem = create_query_body_match(cisi_qry_data, cisi_rel, cisi_index)\n",
        "cisi_eval_body_kstem = json.dumps(cisi_create_kstem)\n",
        "cisi_res_kstem = es.rank_eval(cisi_eval_body_kstem, cisi_index)\n",
        "#print(json.dumps(cisi_res, indent=4, sort_keys=True))\n",
        "\n",
        "# cacm\n",
        "\n",
        "cacm_create_kstem = create_query_body_match(cacm_qry_data, cacm_rel, cacm_index)\n",
        "cacm_eval_body_kstem = json.dumps(cacm_create_kstem)\n",
        "cacm_res_kstem = es.rank_eval(cacm_eval_body_kstem, cacm_index)\n",
        "#print(json.dumps(cacm_res, indent=4, sort_keys=True))"
      ],
      "execution_count": null,
      "outputs": []
    },
    {
      "cell_type": "markdown",
      "metadata": {
        "colab_type": "text",
        "id": "GzpfKAe2N1ad"
      },
      "source": [
        "### Porter"
      ]
    },
    {
      "cell_type": "code",
      "metadata": {
        "colab_type": "code",
        "id": "sDwZjQt1N1ai",
        "colab": {}
      },
      "source": [
        "#use rank eval api, see https://elasticsearch-py.readthedocs.io/en/master/api.html?highlight=_rank_eval#elasticsearch.Elasticsearch.rank_eval \n",
        "#and https://www.elastic.co/guide/en/elasticsearch/reference/current/search-rank-eval.html#search-rank-eval\n",
        "\n",
        "from collections import defaultdict\n",
        "\n",
        "cran_index = 'porter-cranfield-corpus'\n",
        "med_index = 'porter-medline-corpus'\n",
        "adi_index = 'porter-adi-corpus'\n",
        "cisi_index = 'porter-cisi-corpus'\n",
        "cacm_index = 'porter-cacm-corpus'\n",
        "\n",
        "# function to get normal match evaluation body \n",
        "\n",
        "def create_query_body_match(query_dict, rel_dict, index_name):\n",
        "  \"\"\"\n",
        "  The function creates a request for every query in query_dict and rates the relevant documents with rel_dict to 1.\n",
        "  The index name has to be the same as from the documents your looking at.\n",
        "  An evaluation body for the elasticsearch ranking API is returned.\n",
        "  \"\"\"\n",
        "  eval_body = {\n",
        "      \"requests\":'',\n",
        "      \"metric\": {\n",
        "          \"precision\": {\n",
        "              \"k\" : 20,\n",
        "              \"relevant_rating_threshold\": 1,\n",
        "              \"ignore_unlabeled\": \"false\"\n",
        "              }\n",
        "      }\n",
        "  }\n",
        "  requests = [] \n",
        "  current_request = defaultdict(lambda: defaultdict())\n",
        "  current_rel = {\"_index\": index_name, \"_id\": '', \"rating\": int}\n",
        "  for query_ID, query_txt in query_dict.items():\n",
        "    current_query = {\"query\": { \"match\": { \"text\": '' }}}\n",
        "    current_query[\"query\"][\"match\"][\"text\"] = query_txt['question']\n",
        "    current_request[\"id\"] = 'Query_'+str(query_ID)\n",
        "    current_request[\"request\"] = current_query.copy()\n",
        "    current_request[\"ratings\"] = [{\"_index\": index_name, \"_id\": str(el), \"rating\": 1} for el in rel_dict[query_ID]]\n",
        "    requests.append(current_request.copy())\n",
        "  eval_body[\"requests\"] = requests\n",
        "  return eval_body\n",
        "\n",
        "# cranfield\n",
        "\n",
        "cran_create_porter = create_query_body_match(cran_qry_data, cran_rel, cran_index)\n",
        "cran_eval_body_porter = json.dumps(cran_create_porter)\n",
        "cran_res_porter = es.rank_eval(cran_eval_body_porter, cran_index)\n",
        "#print(json.dumps(cran_res, indent=4, sort_keys=True))\n",
        "\n",
        "# medline\n",
        "\n",
        "med_create_porter = create_query_body_match(med_qry_data, med_rel, med_index)\n",
        "med_eval_body_porter = json.dumps(med_create_porter)\n",
        "med_res_porter = es.rank_eval(med_eval_body_porter, med_index)\n",
        "#print(json.dumps(med_res, indent=4, sort_keys=True))\n",
        "\n",
        "# adi\n",
        "\n",
        "adi_create_porter = create_query_body_match(adi_qry_data, adi_rel, adi_index)\n",
        "adi_eval_body_porter = json.dumps(adi_create_porter)\n",
        "adi_res_porter = es.rank_eval(adi_eval_body_porter, adi_index)\n",
        "#print(json.dumps(adi_res, indent=4, sort_keys=True))\n",
        "\n",
        "# cisi\n",
        "\n",
        "cisi_create_porter = create_query_body_match(cisi_qry_data, cisi_rel, cisi_index)\n",
        "cisi_eval_body_porter = json.dumps(cisi_create_porter)\n",
        "cisi_res_porter = es.rank_eval(cisi_eval_body_porter, cisi_index)\n",
        "#print(json.dumps(cisi_res, indent=4, sort_keys=True))\n",
        "\n",
        "# cacm\n",
        "\n",
        "cacm_create_porter = create_query_body_match(cacm_qry_data, cacm_rel, cacm_index)\n",
        "cacm_eval_body_porter = json.dumps(cacm_create_porter)\n",
        "cacm_res_porter = es.rank_eval(cacm_eval_body_porter, cacm_index)\n",
        "#print(json.dumps(cacm_res, indent=4, sort_keys=True))"
      ],
      "execution_count": null,
      "outputs": []
    },
    {
      "cell_type": "markdown",
      "metadata": {
        "colab_type": "text",
        "id": "ehPZvu5ZPNDm"
      },
      "source": [
        "### Snowball"
      ]
    },
    {
      "cell_type": "code",
      "metadata": {
        "colab_type": "code",
        "id": "8pnkO7rlPNDs",
        "colab": {}
      },
      "source": [
        "#use rank eval api, see https://elasticsearch-py.readthedocs.io/en/master/api.html?highlight=_rank_eval#elasticsearch.Elasticsearch.rank_eval \n",
        "#and https://www.elastic.co/guide/en/elasticsearch/reference/current/search-rank-eval.html#search-rank-eval\n",
        "\n",
        "from collections import defaultdict\n",
        "\n",
        "cran_index = 'snowball-cranfield-corpus'\n",
        "med_index = 'snowball-medline-corpus'\n",
        "adi_index = 'snowball-adi-corpus'\n",
        "cisi_index = 'snowball-cisi-corpus'\n",
        "cacm_index = 'snowball-cacm-corpus'\n",
        "\n",
        "# function to get normal match evaluation body \n",
        "\n",
        "def create_query_body_match(query_dict, rel_dict, index_name):\n",
        "  \"\"\"\n",
        "  The function creates a request for every query in query_dict and rates the relevant documents with rel_dict to 1.\n",
        "  The index name has to be the same as from the documents your looking at.\n",
        "  An evaluation body for the elasticsearch ranking API is returned.\n",
        "  \"\"\"\n",
        "  eval_body = {\n",
        "      \"requests\":'',\n",
        "      \"metric\": {\n",
        "          \"precision\": {\n",
        "              \"k\" : 20,\n",
        "              \"relevant_rating_threshold\": 1,\n",
        "              \"ignore_unlabeled\": \"false\"\n",
        "              }\n",
        "      }\n",
        "  }\n",
        "  requests = [] \n",
        "  current_request = defaultdict(lambda: defaultdict())\n",
        "  current_rel = {\"_index\": index_name, \"_id\": '', \"rating\": int}\n",
        "  for query_ID, query_txt in query_dict.items():\n",
        "    current_query = {\"query\": { \"match\": { \"text\": '' }}}\n",
        "    current_query[\"query\"][\"match\"][\"text\"] = query_txt['question']\n",
        "    current_request[\"id\"] = 'Query_'+str(query_ID)\n",
        "    current_request[\"request\"] = current_query.copy()\n",
        "    current_request[\"ratings\"] = [{\"_index\": index_name, \"_id\": str(el), \"rating\": 1} for el in rel_dict[query_ID]]\n",
        "    requests.append(current_request.copy())\n",
        "  eval_body[\"requests\"] = requests\n",
        "  return eval_body\n",
        "\n",
        "# cranfield\n",
        "\n",
        "cran_create_snowball = create_query_body_match(cran_qry_data, cran_rel, cran_index)\n",
        "cran_eval_body_snowball = json.dumps(cran_create_snowball)\n",
        "cran_res_snowball = es.rank_eval(cran_eval_body_snowball, cran_index)\n",
        "#print(json.dumps(cran_res, indent=4, sort_keys=True))\n",
        "\n",
        "# medline\n",
        "\n",
        "med_create_snowball = create_query_body_match(med_qry_data, med_rel, med_index)\n",
        "med_eval_body_snowball = json.dumps(med_create_snowball)\n",
        "med_res_snowball = es.rank_eval(med_eval_body_snowball, med_index)\n",
        "#print(json.dumps(med_res, indent=4, sort_keys=True))\n",
        "\n",
        "# adi\n",
        "\n",
        "adi_create_snowball = create_query_body_match(adi_qry_data, adi_rel, adi_index)\n",
        "adi_eval_body_snowball = json.dumps(adi_create_snowball)\n",
        "adi_res_snowball = es.rank_eval(adi_eval_body_snowball, adi_index)\n",
        "#print(json.dumps(adi_res, indent=4, sort_keys=True))\n",
        "\n",
        "# cisi\n",
        "\n",
        "cisi_create_snowball = create_query_body_match(cisi_qry_data, cisi_rel, cisi_index)\n",
        "cisi_eval_body_snowball = json.dumps(cisi_create_snowball)\n",
        "cisi_res_snowball = es.rank_eval(cisi_eval_body_snowball, cisi_index)\n",
        "#print(json.dumps(cisi_res, indent=4, sort_keys=True))\n",
        "\n",
        "# cacm\n",
        "\n",
        "cacm_create_snowball = create_query_body_match(cacm_qry_data, cacm_rel, cacm_index)\n",
        "cacm_eval_body_snowball = json.dumps(cacm_create_snowball)\n",
        "cacm_res_snowball = es.rank_eval(cacm_eval_body_snowball, cacm_index)\n",
        "#print(json.dumps(cacm_res, indent=4, sort_keys=True))"
      ],
      "execution_count": null,
      "outputs": []
    },
    {
      "cell_type": "markdown",
      "metadata": {
        "id": "C-U2gL9UkWi3",
        "colab_type": "text"
      },
      "source": [
        "## Visualisation"
      ]
    },
    {
      "cell_type": "code",
      "metadata": {
        "id": "YvjJ8xRilGKj",
        "colab_type": "code",
        "colab": {
          "base_uri": "https://localhost:8080/",
          "height": 414
        },
        "outputId": "8977d080-c2b3-4ba4-ef86-68501c3bd41c"
      },
      "source": [
        "import matplotlib\n",
        "import matplotlib.pyplot as plt\n",
        "import numpy as np\n",
        "\n",
        "stemmer_metrics = []\n",
        "stemmer_metrics.append(round(cran_res_stemmer['metric_score'], 3))\n",
        "stemmer_metrics.append(round(cisi_res_stemmer['metric_score'], 3))\n",
        "stemmer_metrics.append(round(adi_res_stemmer['metric_score'], 3))\n",
        "stemmer_metrics.append(round(med_res_stemmer['metric_score'], 3))\n",
        "stemmer_metrics.append(round(cacm_res_stemmer['metric_score'], 3))\n",
        "\n",
        "kstem_metrics = []\n",
        "kstem_metrics.append(round(cran_res_kstem['metric_score'], 3))\n",
        "kstem_metrics.append(round(cisi_res_kstem['metric_score'], 3))\n",
        "kstem_metrics.append(round(adi_res_kstem['metric_score'], 3))\n",
        "kstem_metrics.append(round(med_res_kstem['metric_score'], 3))\n",
        "kstem_metrics.append(round(cacm_res_kstem['metric_score'], 3))\n",
        "\n",
        "porter_metrics = []\n",
        "porter_metrics.append(round(cran_res_porter['metric_score'], 3))\n",
        "porter_metrics.append(round(cisi_res_porter['metric_score'], 3))\n",
        "porter_metrics.append(round(adi_res_porter['metric_score'], 3))\n",
        "porter_metrics.append(round(med_res_porter['metric_score'], 3))\n",
        "porter_metrics.append(round(cacm_res_porter['metric_score'], 3))\n",
        "\n",
        "snowball_metrics = []\n",
        "snowball_metrics.append(round(cran_res_snowball['metric_score'], 3))\n",
        "snowball_metrics.append(round(cisi_res_snowball['metric_score'], 3))\n",
        "snowball_metrics.append(round(adi_res_snowball['metric_score'], 3))\n",
        "snowball_metrics.append(round(med_res_snowball['metric_score'], 3))\n",
        "snowball_metrics.append(round(cacm_res_snowball['metric_score'], 3))\n",
        "\n",
        "labels = ['cranfield', 'CISI', 'ADI', 'medline', 'CACM']\n",
        "\n",
        "x = np.arange(len(labels))*2  # the label locations\n",
        "\n",
        "width = 0.4  # the width of the bars\n",
        "\n",
        "fig, ax = plt.subplots()\n",
        "rects1 = ax.bar(x - width*1.5, stemmer_metrics , width, label='With stemmer')\n",
        "rects2 = ax.bar(x - width/2, kstem_metrics, width, label='With kstem')\n",
        "rects3 = ax.bar(x + width*1.5, porter_metrics, width, label='With porter')\n",
        "rects4 = ax.bar(x + width/2, snowball_metrics, width, label='With snowball')\n",
        "\n",
        "# Add some text for labels, title and custom x-axis tick labels, etc.\n",
        "ax.set_ylabel('metric scores')\n",
        "ax.set_title('Scores by corpus')\n",
        "ax.set_xticks(x)\n",
        "ax.set_xticklabels(labels)\n",
        "ax.legend()\n",
        "\n",
        "\n",
        "def autolabel(rects):\n",
        "    \"\"\"Attach a text label above each bar in *rects*, displaying its height.\"\"\"\n",
        "    for rect in rects:\n",
        "        height = rect.get_height()\n",
        "        ax.annotate('{}'.format(height),\n",
        "                    xy=(rect.get_x() + rect.get_width() / 2, height),\n",
        "                    xytext=(0, 3),  # 3 points vertical offset\n",
        "                    textcoords=\"offset points\",\n",
        "                    ha='center', va='bottom')\n",
        "\n",
        "\n",
        "autolabel(rects1)\n",
        "autolabel(rects2)\n",
        "autolabel(rects3)\n",
        "autolabel(rects4)\n",
        "\n",
        "fig.tight_layout()\n",
        "fig.set_figwidth(15)\n",
        "fig.set_figheight(6)\n",
        "\n",
        "plt.show()"
      ],
      "execution_count": null,
      "outputs": [
        {
          "output_type": "display_data",
          "data": {
            "image/png": "[encoded data removed]",
            "text/plain": [
              "<Figure size 1080x432 with 1 Axes>"
            ]
          },
          "metadata": {
            "tags": [],
            "needs_background": "light"
          }
        }
      ]
    }
  ]
}