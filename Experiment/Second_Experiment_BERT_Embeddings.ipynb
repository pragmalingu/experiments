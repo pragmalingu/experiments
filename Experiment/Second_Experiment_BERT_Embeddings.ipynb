{
  "nbformat": 4,
  "nbformat_minor": 0,
  "metadata": {
    "colab": {
      "name": "Second Experiment: BERT Embeddings.ipynb",
      "provenance": [],
      "collapsed_sections": [
        "_Un-oDrHnDui",
        "r4_SDsRLasRA",
        "nZl09cJE0755",
        "X6uTwgD31Azk"
      ],
      "include_colab_link": true
    },
    "kernelspec": {
      "name": "python3",
      "display_name": "Python 3"
    },
    "accelerator": "GPU"
  },
  "cells": [
    {
      "cell_type": "markdown",
      "metadata": {
        "id": "view-in-github",
        "colab_type": "text"
      },
      "source": [
        "<a href=\"https://colab.research.google.com/github/pragmalingu/experiments/blob/02_BERT/Experiment/Second_Experiment_BERT_Embeddings.ipynb\" target=\"_parent\"><img src=\"https://colab.research.google.com/assets/colab-badge.svg\" alt=\"Open In Colab\"/></a>"
      ]
    },
    {
      "cell_type": "markdown",
      "metadata": {
        "id": "n93d8RqwhKXs"
      },
      "source": [
        "# Second Experiment\n",
        "\n"
      ]
    },
    {
      "cell_type": "markdown",
      "metadata": {
        "id": "tApgxGG-lbTG"
      },
      "source": [
        "For our second experiment we connect the Notebook to an Elasticsearch instance and compare a standard Elasticsearch operator with Embeddings we get from BERT (Bi-Directional Encoder Representation from Transformer). The Embeddings are indexed built-in stemming methods: 'Stemmer Token Filter' and 'Hunspell Token Filter'. \n",
        "(To read details about this experiment visit our [website](https://pragmalingu.de/docs/experiments/experiment1))"
      ]
    },
    {
      "cell_type": "markdown",
      "metadata": {
        "id": "_Un-oDrHnDui"
      },
      "source": [
        "## Setup an Elasticsearch Instance in Google Colab"
      ]
    },
    {
      "cell_type": "markdown",
      "metadata": {
        "id": "wQiAH-sinDum"
      },
      "source": [
        "Everthing to connect to Elasticsearch, for detailed explaination see [this Notebook.](https://)\n",
        "Download:"
      ]
    },
    {
      "cell_type": "code",
      "metadata": {
        "id": "XdccmnTUnDup"
      },
      "source": [
        "import os\n",
        "from subprocess import Popen, PIPE, STDOUT\n",
        "# download elasticsearch\n",
        "!wget https://artifacts.elastic.co/downloads/elasticsearch/elasticsearch-7.9.1-linux-x86_64.tar.gz -q\n",
        "!tar -xzf elasticsearch-7.9.1-linux-x86_64.tar.gz\n",
        "!chown -R daemon:daemon elasticsearch-7.9.1\n"
      ],
      "execution_count": 1,
      "outputs": []
    },
    {
      "cell_type": "markdown",
      "metadata": {
        "id": "bxgS1p4_-zun"
      },
      "source": [
        "Start a local server:"
      ]
    },
    {
      "cell_type": "code",
      "metadata": {
        "id": "H9HrpRBGsg9y",
        "outputId": "9225bc26-31a2-4f6d-d8b6-72bea388d024",
        "colab": {
          "base_uri": "https://localhost:8080/"
        }
      },
      "source": [
        "# start server\n",
        "es_server = Popen(['elasticsearch-7.9.1/bin/elasticsearch'], \n",
        "                  stdout=PIPE, stderr=STDOUT,\n",
        "                  preexec_fn=lambda: os.setuid(1)  # as daemon\n",
        "                 )\n",
        "# client-side\n",
        "!pip install elasticsearch -q\n",
        "from elasticsearch import Elasticsearch\n",
        "from datetime import datetime\n",
        "es = Elasticsearch([\"localhost:9200/\"])\n",
        "#wait a bit\n",
        "import time\n",
        "time.sleep(30)\n",
        "es.ping()  # got True"
      ],
      "execution_count": 54,
      "outputs": [
        {
          "output_type": "execute_result",
          "data": {
            "text/plain": [
              "True"
            ]
          },
          "metadata": {
            "tags": []
          },
          "execution_count": 54
        }
      ]
    },
    {
      "cell_type": "code",
      "metadata": {
        "id": "jW1d1vUw_Bjb",
        "outputId": "1d9874f9-0c5e-42d7-edf8-e4cf24aca9cd",
        "colab": {
          "base_uri": "https://localhost:8080/"
        }
      },
      "source": [
        "#print new index list\n",
        "create_response = es.cat.indices()\n",
        "print(create_response)"
      ],
      "execution_count": 55,
      "outputs": [
        {
          "output_type": "stream",
          "text": [
            "yellow open bert-text-npl-corpus        HugJkR3XRr-UBJSvLWalwQ 1 1     0     0    208b    208b\n",
            "yellow open bert-title-lisa-corpus      _Zk-W3jyQYWkBuJYyNcsFQ 1 1  6000     0    87mb    87mb\n",
            "yellow open bert-title-adi-corpus       5NZ2feyNSJi5YaK8faWcAw 1 1    82     2   1.2mb   1.2mb\n",
            "yellow open cranfield-corpus            HZho7vQUTc6-mkyEkcGlxw 1 1  1400     0   1.8mb   1.8mb\n",
            "yellow open bert-title-cranfield-corpus l5stGz_nRf6FaIaqtp57Cg 1 1  1400     0  20.1mb  20.1mb\n",
            "yellow open bert-text-adi-corpus        cfu0A2CbQZyn0rZIbuMZpQ 1 1    82     2   1.2mb   1.2mb\n",
            "yellow open bert-text-lisa-corpus       q2NXPH0kTLaaTQiBq0JGSA 1 1  6000     0  90.3mb  90.3mb\n",
            "yellow open adi-corpus                  Dbi2R6rsSkmzIUVuMzYpmw 1 1    82     0  77.9kb  77.9kb\n",
            "yellow open medline-corpus              TfAePKE6QYmR5BnSAY4JFw 1 1  1032     0   1.1mb   1.1mb\n",
            "yellow open lisa-corpus                 al5RAQAJTW-bT3aeZtct5w 1 1  6000     0   4.6mb   4.6mb\n",
            "yellow open bert-title-cacm-corpus      GGdRLigNQT27iy5C_BlQuA 1 1  3204     0  46.3mb  46.3mb\n",
            "yellow open bert-title-cisi-corpus      lFEamdwTTnytbV7Di-1fpA 1 1  1460     0  21.1mb  21.1mb\n",
            "yellow open bert-text-medline-corpus    OE2yTVONRQqxOXpHiDrndw 1 1     1     0  22.2kb  22.2kb\n",
            "yellow open npl-corpus                  XSzB-QLKRPSdWaucqkNYAg 1 1 11429 11429 208.9mb 208.9mb\n",
            "yellow open bert-text-cranfield-corpus  6Lt51krIRYGs139LCm8iXQ 1 1  1400     0  21.9mb  21.9mb\n",
            "yellow open cacm-corpus                 68btxa2bS8u1yc6-N4vpeQ 1 1  3204     0   4.2mb   4.2mb\n",
            "yellow open bert-text-cacm-corpus       sAYHNVBzQAiR-5TH5VgFuQ 1 1  3204     0  36.6mb  36.6mb\n",
            "yellow open cisi-corpus                 b2cAuIqIQfi0eunWGgBQow 1 1  1460     0   2.5mb   2.5mb\n",
            "yellow open bert-text-time-corpus       jSqoK30QSKm38ma-mfkAzg 1 1   423     0   8.2mb   8.2mb\n",
            "yellow open bert-text-cisi-corpus       VtQ_Sx0iScu_HthPi-3L-w 1 1  1460     0  22.5mb  22.5mb\n",
            "yellow open time-corpus                 qc7eaXc_TMmvFPoZOaD8dQ 1 1   423     0   1.9mb   1.9mb\n",
            "\n"
          ],
          "name": "stdout"
        }
      ]
    },
    {
      "cell_type": "markdown",
      "metadata": {
        "id": "OXr3XUJ8Lg22"
      },
      "source": [
        "## Download and intializie pretrained BERT model"
      ]
    },
    {
      "cell_type": "code",
      "metadata": {
        "id": "8_8fy6OMLfxt",
        "outputId": "c923cb99-e3b5-4c4e-e329-324953d602ea",
        "colab": {
          "base_uri": "https://localhost:8080/"
        }
      },
      "source": [
        "!pip install -U sentence-transformers\n",
        "\n",
        "from sentence_transformers import SentenceTransformer\n",
        "import torch\n",
        "from tqdm import tqdm_notebook\n",
        "\n",
        "model = SentenceTransformer('bert-base-nli-mean-tokens')\n",
        "\n",
        "# using gpu to boost inference if it's possible\n",
        "if torch.cuda.is_available():\n",
        "  model.to('cuda')\n",
        "\n",
        "print('Max Sequence Length:', model.max_seq_length)\n",
        "\n",
        "#Change the length to max possible length (based on gpu memory)\n",
        "model.max_seq_length = 364\n",
        "\n",
        "print('Max Sequence Length:', model.max_seq_length)"
      ],
      "execution_count": 3,
      "outputs": [
        {
          "output_type": "stream",
          "text": [
            "Collecting sentence-transformers\n",
            "\u001b[?25l  Downloading https://files.pythonhosted.org/packages/f4/fd/0190080aa0af78d7cd5874e4e8e85f0bed9967dd387cf05d760832b95da9/sentence-transformers-0.3.8.tar.gz (66kB)\n",
            "\u001b[K     |████████████████████████████████| 71kB 2.1MB/s \n",
            "\u001b[?25hCollecting transformers<3.4.0,>=3.1.0\n",
            "\u001b[?25l  Downloading https://files.pythonhosted.org/packages/19/22/aff234f4a841f8999e68a7a94bdd4b60b4cebcfeca5d67d61cd08c9179de/transformers-3.3.1-py3-none-any.whl (1.1MB)\n",
            "\u001b[K     |████████████████████████████████| 1.1MB 7.5MB/s \n",
            "\u001b[?25hRequirement already satisfied, skipping upgrade: tqdm in /usr/local/lib/python3.6/dist-packages (from sentence-transformers) (4.41.1)\n",
            "Requirement already satisfied, skipping upgrade: torch>=1.2.0 in /usr/local/lib/python3.6/dist-packages (from sentence-transformers) (1.6.0+cu101)\n",
            "Requirement already satisfied, skipping upgrade: numpy in /usr/local/lib/python3.6/dist-packages (from sentence-transformers) (1.18.5)\n",
            "Requirement already satisfied, skipping upgrade: scikit-learn in /usr/local/lib/python3.6/dist-packages (from sentence-transformers) (0.22.2.post1)\n",
            "Requirement already satisfied, skipping upgrade: scipy in /usr/local/lib/python3.6/dist-packages (from sentence-transformers) (1.4.1)\n",
            "Requirement already satisfied, skipping upgrade: nltk in /usr/local/lib/python3.6/dist-packages (from sentence-transformers) (3.2.5)\n",
            "Requirement already satisfied, skipping upgrade: regex!=2019.12.17 in /usr/local/lib/python3.6/dist-packages (from transformers<3.4.0,>=3.1.0->sentence-transformers) (2019.12.20)\n",
            "Collecting sacremoses\n",
            "\u001b[?25l  Downloading https://files.pythonhosted.org/packages/7d/34/09d19aff26edcc8eb2a01bed8e98f13a1537005d31e95233fd48216eed10/sacremoses-0.0.43.tar.gz (883kB)\n",
            "\u001b[K     |████████████████████████████████| 890kB 21.4MB/s \n",
            "\u001b[?25hRequirement already satisfied, skipping upgrade: packaging in /usr/local/lib/python3.6/dist-packages (from transformers<3.4.0,>=3.1.0->sentence-transformers) (20.4)\n",
            "Requirement already satisfied, skipping upgrade: filelock in /usr/local/lib/python3.6/dist-packages (from transformers<3.4.0,>=3.1.0->sentence-transformers) (3.0.12)\n",
            "Collecting tokenizers==0.8.1.rc2\n",
            "\u001b[?25l  Downloading https://files.pythonhosted.org/packages/80/83/8b9fccb9e48eeb575ee19179e2bdde0ee9a1904f97de5f02d19016b8804f/tokenizers-0.8.1rc2-cp36-cp36m-manylinux1_x86_64.whl (3.0MB)\n",
            "\u001b[K     |████████████████████████████████| 3.0MB 27.9MB/s \n",
            "\u001b[?25hCollecting sentencepiece!=0.1.92\n",
            "\u001b[?25l  Downloading https://files.pythonhosted.org/packages/d4/a4/d0a884c4300004a78cca907a6ff9a5e9fe4f090f5d95ab341c53d28cbc58/sentencepiece-0.1.91-cp36-cp36m-manylinux1_x86_64.whl (1.1MB)\n",
            "\u001b[K     |████████████████████████████████| 1.1MB 42.7MB/s \n",
            "\u001b[?25hRequirement already satisfied, skipping upgrade: dataclasses; python_version < \"3.7\" in /usr/local/lib/python3.6/dist-packages (from transformers<3.4.0,>=3.1.0->sentence-transformers) (0.7)\n",
            "Requirement already satisfied, skipping upgrade: requests in /usr/local/lib/python3.6/dist-packages (from transformers<3.4.0,>=3.1.0->sentence-transformers) (2.23.0)\n",
            "Requirement already satisfied, skipping upgrade: future in /usr/local/lib/python3.6/dist-packages (from torch>=1.2.0->sentence-transformers) (0.16.0)\n",
            "Requirement already satisfied, skipping upgrade: joblib>=0.11 in /usr/local/lib/python3.6/dist-packages (from scikit-learn->sentence-transformers) (0.16.0)\n",
            "Requirement already satisfied, skipping upgrade: six in /usr/local/lib/python3.6/dist-packages (from nltk->sentence-transformers) (1.15.0)\n",
            "Requirement already satisfied, skipping upgrade: click in /usr/local/lib/python3.6/dist-packages (from sacremoses->transformers<3.4.0,>=3.1.0->sentence-transformers) (7.1.2)\n",
            "Requirement already satisfied, skipping upgrade: pyparsing>=2.0.2 in /usr/local/lib/python3.6/dist-packages (from packaging->transformers<3.4.0,>=3.1.0->sentence-transformers) (2.4.7)\n",
            "Requirement already satisfied, skipping upgrade: chardet<4,>=3.0.2 in /usr/local/lib/python3.6/dist-packages (from requests->transformers<3.4.0,>=3.1.0->sentence-transformers) (3.0.4)\n",
            "Requirement already satisfied, skipping upgrade: certifi>=2017.4.17 in /usr/local/lib/python3.6/dist-packages (from requests->transformers<3.4.0,>=3.1.0->sentence-transformers) (2020.6.20)\n",
            "Requirement already satisfied, skipping upgrade: urllib3!=1.25.0,!=1.25.1,<1.26,>=1.21.1 in /usr/local/lib/python3.6/dist-packages (from requests->transformers<3.4.0,>=3.1.0->sentence-transformers) (1.24.3)\n",
            "Requirement already satisfied, skipping upgrade: idna<3,>=2.5 in /usr/local/lib/python3.6/dist-packages (from requests->transformers<3.4.0,>=3.1.0->sentence-transformers) (2.10)\n",
            "Building wheels for collected packages: sentence-transformers, sacremoses\n",
            "  Building wheel for sentence-transformers (setup.py) ... \u001b[?25l\u001b[?25hdone\n",
            "  Created wheel for sentence-transformers: filename=sentence_transformers-0.3.8-cp36-none-any.whl size=101996 sha256=f4de3683ee3a88064bcceeaea63e375e223d70aedfef35b3784bdfdd147377dc\n",
            "  Stored in directory: /root/.cache/pip/wheels/27/ec/b3/d12cc8e4daf77846db6543033d3a5642f204c0320b15945647\n",
            "  Building wheel for sacremoses (setup.py) ... \u001b[?25l\u001b[?25hdone\n",
            "  Created wheel for sacremoses: filename=sacremoses-0.0.43-cp36-none-any.whl size=893257 sha256=e968317ffefbc50ae281dcc641b435dfc0678144d2cb5f6d3ae4775418a16856\n",
            "  Stored in directory: /root/.cache/pip/wheels/29/3c/fd/7ce5c3f0666dab31a50123635e6fb5e19ceb42ce38d4e58f45\n",
            "Successfully built sentence-transformers sacremoses\n",
            "Installing collected packages: sacremoses, tokenizers, sentencepiece, transformers, sentence-transformers\n",
            "Successfully installed sacremoses-0.0.43 sentence-transformers-0.3.8 sentencepiece-0.1.91 tokenizers-0.8.1rc2 transformers-3.3.1\n"
          ],
          "name": "stdout"
        },
        {
          "output_type": "stream",
          "text": [
            "100%|██████████| 405M/405M [00:45<00:00, 8.83MB/s]\n"
          ],
          "name": "stderr"
        },
        {
          "output_type": "stream",
          "text": [
            "Max Sequence Length: 128\n",
            "Max Sequence Length: 364\n"
          ],
          "name": "stdout"
        }
      ]
    },
    {
      "cell_type": "markdown",
      "metadata": {
        "id": "RQX8W6VepxxT"
      },
      "source": [
        "## Parse Data\n",
        "\n",
        "Get different corpora, format them and feed them to elasticsearch"
      ]
    },
    {
      "cell_type": "markdown",
      "metadata": {
        "id": "SIXjztjXSYnx"
      },
      "source": [
        "### ADI Corpus"
      ]
    },
    {
      "cell_type": "markdown",
      "metadata": {
        "id": "DGpEnztyYttx"
      },
      "source": [
        "You can get the corpus from [this link](http://ir.dcs.gla.ac.uk/resources/test_collections/adi/).  <br>\n",
        "For detailed information about the parsing of this corpus look at [ this Notebook](https://colab.research.google.com/github/pragmalingu/private_experiments/blob/adi_corpus/ADICorpus.ipynb) or for parsing in generel read [this guide](https://)."
      ]
    },
    {
      "cell_type": "markdown",
      "metadata": {
        "id": "TbXadfCKYxHx"
      },
      "source": [
        "**Parsing**"
      ]
    },
    {
      "cell_type": "code",
      "metadata": {
        "id": "cMSPDRFyShav",
        "outputId": "f0e3c29e-fcac-45d4-aaf0-b709b84fbc02",
        "colab": {
          "base_uri": "https://localhost:8080/"
        }
      },
      "source": [
        "# download and unzip data\n",
        "!wget https://nextcloud.samyateia.de/index.php/s/ZWpy29gH4D2sADY/download\n",
        "!tar -xf download\n",
        "!rm download\n",
        "\n",
        "# set paths to the dowloaded data as variables\n",
        "PATH_TO_ADI_TXT = '/content/ADI.ALL'\n",
        "PATH_TO_ADI_QRY = '/content/ADI.QRY'\n",
        "PATH_TO_ADI_REL = '/content/ADI.REL'\n",
        "\n",
        "from collections import defaultdict\n",
        "import re\n",
        "import json\n",
        "from io import StringIO\n",
        "import numpy as np\n",
        "\n",
        "\n",
        "# get the text and query files\n",
        "\n",
        "ID_marker = re.compile('\\.I')\n",
        "\n",
        "def get_data(PATH_TO_FILE, marker):\n",
        "  \"\"\"\n",
        "  Reads file and spilts text into entries at the ID marker '.I'.\n",
        "  First entry is empty, so it's removed.\n",
        "  'marker' contains the regex at which we want to split\n",
        "  \"\"\"\n",
        "  with open (PATH_TO_FILE,'r') as f:\n",
        "    text = f.read().replace('\\n',\" \")\n",
        "    lines = re.split(marker,text)\n",
        "    lines.pop(0)\n",
        "  return lines\n",
        "\n",
        "adi_txt_list = get_data(PATH_TO_ADI_TXT, ID_marker)\n",
        "adi_qry_list = get_data(PATH_TO_ADI_QRY, ID_marker)\n",
        "\n",
        "# process text file\n",
        "\n",
        "adi_title_start = re.compile('\\.T')\n",
        "adi_author_start = re.compile('\\.A')\n",
        "adi_text_start = re.compile('\\.W')\n",
        "\n",
        "adi_txt_data = defaultdict(dict)\n",
        "\n",
        "for line in adi_txt_list:\n",
        "  entries = re.split(adi_title_start,line,1)\n",
        "  id = entries[0].strip()\n",
        "  no_id = entries[1]\n",
        "  if len(re.split(adi_author_start, no_id,1)) > 1:\n",
        "    no_id_entries = re.split(adi_author_start, no_id,1)\n",
        "    adi_txt_data[id]['title'] = no_id_entries[0]\n",
        "    no_title = no_id_entries[1]\n",
        "    no_title_entries = re.split(adi_text_start, no_title)\n",
        "    adi_txt_data[id]['author'] = no_title_entries[0]\n",
        "    adi_txt_data[id]['text'] = no_title_entries[1]\n",
        "  else:\n",
        "    no_id_entries = re.split(adi_text_start, no_id)\n",
        "    adi_txt_data[id]['title'] = no_id_entries[0]\n",
        "    adi_txt_data[id]['text'] = no_id_entries[1]\n",
        "\n",
        "# process query file    \n",
        "\n",
        "qry_chunk_start = re.compile('\\.W')\n",
        "adi_qry_data = defaultdict(dict)\n",
        "\n",
        "for n in range(0,len(adi_qry_list)-1):\n",
        "  line = adi_qry_list[n+1]\n",
        "  _ , question = re.split(qry_chunk_start,line)\n",
        "  adi_qry_data[n+1]['question'] = question\n",
        "\n",
        "# process relevance assesment\n",
        "\n",
        "adi_rel_data = open(PATH_TO_ADI_REL)\n",
        "adi_np = np.loadtxt(adi_rel_data, dtype=float)\n",
        "\n",
        "adi_rel = defaultdict(list)\n",
        "for row in adi_np:\n",
        "  adi_rel[int(row[0])].append(int(row[1])) "
      ],
      "execution_count": 4,
      "outputs": [
        {
          "output_type": "stream",
          "text": [
            "--2020-10-20 07:00:15--  https://nextcloud.samyateia.de/index.php/s/ZWpy29gH4D2sADY/download\n",
            "Resolving nextcloud.samyateia.de (nextcloud.samyateia.de)... 194.55.14.32\n",
            "Connecting to nextcloud.samyateia.de (nextcloud.samyateia.de)|194.55.14.32|:443... connected.\n",
            "HTTP request sent, awaiting response... 200 OK\n",
            "Length: 57344 (56K) [application/x-gzip]\n",
            "Saving to: ‘download’\n",
            "\n",
            "download            100%[===================>]  56.00K   107KB/s    in 0.5s    \n",
            "\n",
            "2020-10-20 07:00:17 (107 KB/s) - ‘download’ saved [57344/57344]\n",
            "\n"
          ],
          "name": "stdout"
        }
      ]
    },
    {
      "cell_type": "markdown",
      "metadata": {
        "id": "I1VXADwHZuij"
      },
      "source": [
        "**Indexing**"
      ]
    },
    {
      "cell_type": "code",
      "metadata": {
        "id": "jWA0rapwShiT",
        "outputId": "e9c3fdbf-4a3c-4f2d-8789-ae0a522fd922",
        "colab": {
          "base_uri": "https://localhost:8080/"
        }
      },
      "source": [
        "# Elasticsearch settings, without using Opendistro\n",
        "settings_text = {\n",
        "  \"mappings\": {\n",
        "      \"properties\": {\n",
        "          \"text\": {\n",
        "              \"type\": \"text\"\n",
        "              },\n",
        "          \"text_vector\": {\n",
        "           \"type\": \"dense_vector\",\n",
        "           \"dims\": 768\n",
        "            }\n",
        "    }\n",
        "  }\n",
        "}\n",
        "\n",
        "settings_title = {\n",
        "  \"mappings\": {\n",
        "      \"properties\": {\n",
        "          \"title\": {\n",
        "              \"type\": \"text\"\n",
        "              },\n",
        "          \"title_vector\": {\n",
        "           \"type\": \"dense_vector\",\n",
        "           \"dims\": 768\n",
        "            }\n",
        "    }\n",
        "  }\n",
        "}\n",
        "\n",
        "#create index, see https://elasticsearch-py.readthedocs.io/en/master/api.html#elasticsearch.client.IndicesClient.create\n",
        "adi_index_text = \"bert-text-adi-corpus\"\n",
        "es.indices.delete(index=adi_index_text, ignore=[400, 404])\n",
        "es.indices.create(adi_index_text, body=settings_text)\n",
        "\n",
        "adi_index_title = \"bert-title-adi-corpus\"\n",
        "es.indices.delete(index=adi_index_title, ignore=[400, 404])\n",
        "es.indices.create(adi_index_title, body=settings_title)\n",
        "\n",
        "adi_index = \"adi-corpus\"\n",
        "es.indices.delete(index=adi_index, ignore=[400, 404])\n",
        "es.indices.create(adi_index)"
      ],
      "execution_count": 5,
      "outputs": [
        {
          "output_type": "execute_result",
          "data": {
            "text/plain": [
              "{'acknowledged': True, 'index': 'adi-corpus', 'shards_acknowledged': True}"
            ]
          },
          "metadata": {
            "tags": []
          },
          "execution_count": 5
        }
      ]
    },
    {
      "cell_type": "code",
      "metadata": {
        "id": "ZaxpCqSDShgg",
        "outputId": "c6c177de-5019-43d8-e1d2-cc55323e5cc7",
        "colab": {
          "base_uri": "https://localhost:8080/"
        }
      },
      "source": [
        "for ID, doc_data in adi_txt_data.items():\n",
        "    es.index(index=adi_index, id=ID, body=doc_data)\n",
        "    es.index(\n",
        "      index=adi_index_text, \n",
        "      id=ID, \n",
        "      body={\n",
        "          'text_vector': model.encode(adi_txt_data[ID]['text']),\n",
        "          'text': adi_txt_data[ID]['text']\n",
        "          }\n",
        "    )\n",
        "    es.index(\n",
        "      index=adi_index_title, \n",
        "      id=ID, \n",
        "      body={\n",
        "          'title_vector': model.encode(adi_txt_data[ID]['title']),\n",
        "          'title': adi_txt_data[ID]['title'],\n",
        "          }\n",
        "    )\n",
        "\n",
        "#print new index list\n",
        "create_response = es.cat.indices()\n",
        "print(create_response)"
      ],
      "execution_count": 10,
      "outputs": [
        {
          "output_type": "stream",
          "text": [
            "yellow open bert-title-adi-corpus 5NZ2feyNSJi5YaK8faWcAw 1 1 1 0 762.9kb 762.9kb\n",
            "yellow open bert-text-adi-corpus  cfu0A2CbQZyn0rZIbuMZpQ 1 1 1 0 780.5kb 780.5kb\n",
            "yellow open adi-corpus            Dbi2R6rsSkmzIUVuMzYpmw 1 1 0 0   8.2kb   8.2kb\n",
            "\n"
          ],
          "name": "stdout"
        }
      ]
    },
    {
      "cell_type": "markdown",
      "metadata": {
        "id": "RdZwKv7_SZFT"
      },
      "source": [
        "### CACM Corpus"
      ]
    },
    {
      "cell_type": "markdown",
      "metadata": {
        "id": "QB0t-8e0bHEb"
      },
      "source": [
        "You can get the corpus from [this link](http://ir.dcs.gla.ac.uk/resources/test_collections/cacm/).  <br>\n",
        "For detailed information about the format of the files, see the PragmaLingu [ Benchmarks](https://pragmalingu.de/docs/benchmarks/overview)"
      ]
    },
    {
      "cell_type": "markdown",
      "metadata": {
        "id": "Vr9n3mvAbGwx"
      },
      "source": [
        "**Parsing**"
      ]
    },
    {
      "cell_type": "code",
      "metadata": {
        "id": "wSONOisRSjTi",
        "outputId": "66924b04-dfa5-44e2-aba1-792ba0a162ad",
        "colab": {
          "base_uri": "https://localhost:8080/"
        }
      },
      "source": [
        "# download and unzip data\n",
        "!wget https://nextcloud.samyateia.de/index.php/s/s4WQLTc7DLYsAaZ/download\n",
        "!tar -xf download\n",
        "!rm download\n",
        "\n",
        "# set paths to the dowloaded data as variablesDownload and unzip data.\n",
        "\n",
        "PATH_TO_CACM_TXT = '/content/cacm.all'\n",
        "PATH_TO_CACM_QRY = '/content/query.text'\n",
        "PATH_TO_CACM_REL = '/content/qrels.text'\n",
        "PATH_TO_CACM_COMMON_WORDS = '/content/common_words'\n",
        "\n",
        "from collections import defaultdict\n",
        "import re\n",
        "import json\n",
        "from io import StringIO\n",
        "import numpy as np\n",
        "\n",
        "# get the text and query files\n",
        "\n",
        "ID_marker = re.compile('^\\.I',re.MULTILINE)\n",
        "\n",
        "def get_data(PATH_TO_FILE, marker):\n",
        "  \"\"\"\n",
        "  Reads file and spilts text into entries at the ID marker '.I'.\n",
        "  First entry is empty, so it's removed.\n",
        "  'marker' contains the regex at which we want to split\n",
        "  \"\"\"\n",
        "  with open (PATH_TO_FILE,'r') as f:\n",
        "    text = f.read()\n",
        "    lines = re.split(marker,text)\n",
        "    lines.pop(0)\n",
        "  return lines\n",
        "\n",
        "cacm_txt_list = get_data(PATH_TO_CACM_TXT, ID_marker)\n",
        "cacm_qry_list = get_data(PATH_TO_CACM_QRY, ID_marker)\n",
        "\n",
        "# process text file\n",
        "\n",
        "cacm_chunk_title = re.compile('\\.[T]\\n')\n",
        "cacm_chunk_txt = re.compile('\\n\\.W\\n') # not enough\n",
        "cacm_chunk_txt_pub = re.compile('\\.[W,B]')\n",
        "cacm_chunk_publication = re.compile('\\.[B]\\n')\n",
        "cacm_chunk_author = re.compile('^\\.[A]\\n', re.MULTILINE)\n",
        "cacm_chunk_author_add_cross = re.compile('^\\.[A,N,X]\\n',re.MULTILINE) # not enough\n",
        "cacm_chunk_add_cross = re.compile('\\.[B,N,X]\\n')\n",
        "\n",
        "\n",
        "cacm_txt_data = defaultdict(dict)\n",
        "\n",
        "for line in cacm_txt_list:\n",
        "  entries= re.split(cacm_chunk_title,line)\n",
        "  id = entries[0].strip() #save id\n",
        "  no_id = entries[1]\n",
        "\n",
        "  if len(re.split(cacm_chunk_txt, no_id)) == 2: # is there text\n",
        "    no_id_entries = re.split(cacm_chunk_txt_pub, no_id,1)\n",
        "    cacm_txt_data[id]['title'] = no_id_entries[0].strip() # save title\n",
        "    cacm_txt_data[id]['text'] = no_id_entries[1].strip() # save text\n",
        "    no_title_txt = no_id_entries[1]\n",
        "\n",
        "    if len(re.split(cacm_chunk_author, no_title_txt)) == 2: # is there a auhtor\n",
        "      no_title_entries = re.split(cacm_chunk_author_add_cross, no_title_txt)\n",
        "      cacm_txt_data[id]['publication_date'] = no_title_entries[0].strip() # save publication date\n",
        "      cacm_txt_data[id]['author'] = no_title_entries[1].strip() # save athor\n",
        "      cacm_txt_data[id]['add_date'] = no_title_entries[2].strip() # save add date\n",
        "      cacm_txt_data[id]['cross-references'] = no_title_entries[3].strip() # save cross-references\n",
        "\n",
        "    else:\n",
        "      no_title_entries = re.split(cacm_chunk_publication, no_title_txt)\n",
        "      cacm_txt_data[id]['publication_date'] = no_title_entries[0].strip() # save publication date\n",
        "      cacm_txt_data[id]['add_date'] = no_title_entries[1].strip() # save add date\n",
        "      cacm_txt_data[id]['cross-references'] = no_title_entries[1].strip() # save cross-references\n",
        "\n",
        "  else:\n",
        "    no_id_entries = re.split(cacm_chunk_publication, no_id,1)\n",
        "    cacm_txt_data[id]['title'] = no_id_entries[0].strip() # save title\n",
        "    no_title = no_id_entries[1]\n",
        "\n",
        "    if len(re.split(cacm_chunk_author, no_title,1)) == 2: # is there a auhtor\n",
        "      no_title_entries = re.split(cacm_chunk_author_add_cross, no_title)\n",
        "      cacm_txt_data[id]['publication_date'] = no_title_entries[0].strip() # save publication date\n",
        "      cacm_txt_data[id]['author'] = no_title_entries[1].strip() # save athor\n",
        "      cacm_txt_data[id]['add_date'] = no_title_entries[2].strip() # save add date\n",
        "      cacm_txt_data[id]['cross-references'] = no_title_entries[3].strip() # save cross-references\n",
        "\n",
        "    else:\n",
        "      no_title_entries = re.split(cacm_chunk_add_cross, no_title)\n",
        "      cacm_txt_data[id]['publication_date'] = no_title_entries[0].strip() # save publication date\n",
        "      cacm_txt_data[id]['add_date'] = no_title_entries[1].strip() # save add date\n",
        "      cacm_txt_data[id]['cross-references'] = no_title_entries[2].strip() # save cross-references\n",
        "\n",
        "# process the query data\n",
        "\n",
        "qry_chunk_start = re.compile('^\\.W\\n',re.MULTILINE)\n",
        "cacm_qry_data = defaultdict(dict)\n",
        "\n",
        "for n in range(0,len(cacm_qry_list)-1):\n",
        "  line = cacm_qry_list[n+1]\n",
        "  _ , question = re.split(qry_chunk_start,line)\n",
        "  cacm_qry_data[n+1]['question'] = question\n",
        "\n",
        "# process the relevance assesment data\n",
        "cacm_rel = defaultdict(list)\n",
        "\n",
        "with open (PATH_TO_CACM_REL,'r') as f:\n",
        "  for line in f:\n",
        "    line = re.split(' ',line)\n",
        "    cacm_rel[int(line[0])].append(line[1])"
      ],
      "execution_count": 11,
      "outputs": [
        {
          "output_type": "stream",
          "text": [
            "--2020-10-20 07:06:09--  https://nextcloud.samyateia.de/index.php/s/s4WQLTc7DLYsAaZ/download\n",
            "Resolving nextcloud.samyateia.de (nextcloud.samyateia.de)... 194.55.14.32\n",
            "Connecting to nextcloud.samyateia.de (nextcloud.samyateia.de)|194.55.14.32|:443... connected.\n",
            "HTTP request sent, awaiting response... 200 OK\n",
            "Length: 2221056 (2.1M) [application/x-gzip]\n",
            "Saving to: ‘download’\n",
            "\n",
            "download            100%[===================>]   2.12M  1.15MB/s    in 1.8s    \n",
            "\n",
            "2020-10-20 07:06:12 (1.15 MB/s) - ‘download’ saved [2221056/2221056]\n",
            "\n"
          ],
          "name": "stdout"
        }
      ]
    },
    {
      "cell_type": "markdown",
      "metadata": {
        "id": "IQzMkOPobHtX"
      },
      "source": [
        "**Indexing**"
      ]
    },
    {
      "cell_type": "code",
      "metadata": {
        "id": "j8UEeudxSjZe",
        "outputId": "048cb54e-82db-4db6-9b89-5d6371476650",
        "colab": {
          "base_uri": "https://localhost:8080/"
        }
      },
      "source": [
        "# Elasticsearch settings, without using Opendistro\n",
        "settings_text = {\n",
        "  \"mappings\": {\n",
        "      \"properties\": {\n",
        "          \"text\": {\n",
        "              \"type\": \"text\"\n",
        "              },\n",
        "          \"text_vector\": {\n",
        "           \"type\": \"dense_vector\",\n",
        "           \"dims\": 768\n",
        "            }\n",
        "    }\n",
        "  }\n",
        "}\n",
        "\n",
        "settings_title = {\n",
        "  \"mappings\": {\n",
        "      \"properties\": {\n",
        "          \"title\": {\n",
        "              \"type\": \"text\"\n",
        "              },\n",
        "          \"title_vector\": {\n",
        "           \"type\": \"dense_vector\",\n",
        "           \"dims\": 768\n",
        "            }\n",
        "    }\n",
        "  }\n",
        "}\n",
        "\n",
        "#create index, see https://elasticsearch-py.readthedocs.io/en/master/api.html#elasticsearch.client.IndicesClient.create\n",
        "cacm_index_text = \"bert-text-cacm-corpus\"\n",
        "es.indices.delete(index=cacm_index_text, ignore=[400, 404])\n",
        "es.indices.create(cacm_index_text, body=settings_text)\n",
        "\n",
        "cacm_index_title = \"bert-title-cacm-corpus\"\n",
        "es.indices.delete(index=cacm_index_title, ignore=[400, 404])\n",
        "es.indices.create(cacm_index_title, body=settings_title)\n",
        "\n",
        "cacm_index= \"cacm-corpus\"\n",
        "es.indices.delete(index=cacm_index, ignore=[400, 404])\n",
        "es.indices.create(cacm_index)"
      ],
      "execution_count": 14,
      "outputs": [
        {
          "output_type": "execute_result",
          "data": {
            "text/plain": [
              "{'acknowledged': True, 'index': 'cacm-corpus', 'shards_acknowledged': True}"
            ]
          },
          "metadata": {
            "tags": []
          },
          "execution_count": 14
        }
      ]
    },
    {
      "cell_type": "code",
      "metadata": {
        "id": "FurCBp1tSjRD"
      },
      "source": [
        "model.eval()\n",
        "\n",
        "for ID, doc_data in cacm_txt_data.items():\n",
        "    # not every entry has text\n",
        "    es.index(index=cacm_index, id=ID, body=doc_data)\n",
        "    if 'text' not in cacm_txt_data[str(ID)]:\n",
        "      es.index(\n",
        "        index=cacm_index_text, \n",
        "        id=ID, \n",
        "        body={\n",
        "            'text_vector': model.encode('none'),\n",
        "            'text': ''\n",
        "            }\n",
        "             )\n",
        "    else:\n",
        "      es.index(\n",
        "          index=cacm_index_text, \n",
        "          id=ID, \n",
        "          body={\n",
        "              'text_vector': model.encode(cacm_txt_data[ID]['text']),\n",
        "              'text': cacm_txt_data[ID]['text']\n",
        "              }\n",
        "               )\n",
        "    if 'title' not in cacm_txt_data[str(ID)]:\n",
        "      es.index(\n",
        "          index=cacm_index_title, \n",
        "          id=ID, \n",
        "          body={\n",
        "              'title_vector': model.encode('none'),\n",
        "              'title': '',\n",
        "        }\n",
        "  )\n",
        "    else:\n",
        "      es.index(\n",
        "          index=cacm_index_title, \n",
        "          id=ID, \n",
        "          body={\n",
        "              'title_vector': model.encode(cacm_txt_data[ID]['title']),\n",
        "              'title': cacm_txt_data[ID]['title'],\n",
        "              }\n",
        "               )\n",
        "\n",
        "#print new index list\n",
        "create_response = es.cat.indices()\n",
        "print(create_response)"
      ],
      "execution_count": 15,
      "outputs": []
    },
    {
      "cell_type": "markdown",
      "metadata": {
        "id": "E20KaO1jSZTc"
      },
      "source": [
        "### CISI Corpus"
      ]
    },
    {
      "cell_type": "markdown",
      "metadata": {
        "id": "1_BbnCfzaQt5"
      },
      "source": [
        "You can get the corpus from [this link](http://ir.dcs.gla.ac.uk/resources/test_collections/cisi/).  <br>\n",
        "For detailed information about the parsing of this corpus look at [ this Notebook](https://colab.research.google.com/github/pragmalingu/private_experiments/blob/cisi_corpus/CISICorpus.ipynb) or for parsing in generel read [this guide](https://)."
      ]
    },
    {
      "cell_type": "markdown",
      "metadata": {
        "id": "BV4P5-4JaUgJ"
      },
      "source": [
        "**Parsing**"
      ]
    },
    {
      "cell_type": "code",
      "metadata": {
        "id": "T64vUBjiSifp",
        "outputId": "c41c5d41-4d0b-4aae-b426-ef0a55164d13",
        "colab": {
          "base_uri": "https://localhost:8080/"
        }
      },
      "source": [
        "# download and unzip data\n",
        "!wget https://nextcloud.samyateia.de/index.php/s/ibPgbdqsstrWEAa/download\n",
        "!tar -xf download\n",
        "!rm download\n",
        "\n",
        "# set paths to the dowloaded data as variablesDownload and unzip data.\n",
        "PATH_TO_CISI_TXT = '/content/CISI.ALL'\n",
        "PATH_TO_CISI_QRY = '/content/CISI.QRY'\n",
        "PATH_TO_CISI_REL = '/content/CISI.REL'\n",
        "\n",
        "from collections import defaultdict\n",
        "import re\n",
        "import json\n",
        "from io import StringIO\n",
        "import numpy as np\n",
        "\n",
        "# get the text and query files\n",
        "\n",
        "ID_marker = re.compile('^\\.I',re.MULTILINE)\n",
        "\n",
        "def get_data(PATH_TO_FILE, marker):\n",
        "  \"\"\"\n",
        "  Reads file and spilts text into entries at the ID marker '.I'.\n",
        "  First entry is empty, so it's removed.\n",
        "  'marker' contains the regex at which we want to split\n",
        "  \"\"\"\n",
        "  with open (PATH_TO_FILE,'r') as f:\n",
        "    text = f.read()\n",
        "    lines = re.split(marker,text)\n",
        "    lines.pop(0)\n",
        "  return lines\n",
        "\n",
        "cisi_txt_list = get_data(PATH_TO_CISI_TXT, ID_marker)\n",
        "cisi_qry_list = get_data(PATH_TO_CISI_QRY, ID_marker)\n",
        "\n",
        "# process text file\n",
        "\n",
        "cisi_title_start = re.compile('[\\n]\\.T')\n",
        "cisi_author_start = re.compile('[\\n]\\.A')\n",
        "cisi_date_start = re.compile('[\\n]\\.B')\n",
        "cisi_text_start = re.compile('[\\n]\\.W')\n",
        "cisi_cross_start = re.compile('[\\n]\\.X')\n",
        "\n",
        "cisi_txt_data = defaultdict(dict)\n",
        "\n",
        "for line in cisi_txt_list:\n",
        "  entries = re.split(cisi_title_start,line,1)\n",
        "  id = entries[0].strip()#save the id\n",
        "  no_id = entries[1] \n",
        "  \n",
        "  if len(re.split(cisi_author_start, no_id)) >= 2: # is there just one author?\n",
        "    no_id_entries = re.split(cisi_author_start, no_id,1)\n",
        "    cisi_txt_data[id]['title'] = no_id_entries[0].strip() # save title\n",
        "    no_title = no_id_entries[1]\n",
        "\n",
        "    if len(re.split(cisi_date_start, no_title)) > 1: # is there a publication date?\n",
        "      no_title_entries = re.split(cisi_date_start, no_title)\n",
        "      cisi_txt_data[id]['author'] = no_title_entries[0].strip() # save athour\n",
        "      no_author = no_title_entries[1]\n",
        "      no_author_entries = re.split(cisi_text_start, no_author)\n",
        "      cisi_txt_data[id]['publication_date'] = no_author_entries[0].strip() # save publication date\n",
        "      no_author_date = no_author_entries[1]\n",
        "    else:\n",
        "      no_title_entries = re.split(cisi_text_start, no_title)\n",
        "      cisi_txt_data[id]['author'] = no_title_entries[0].strip() # save athour\n",
        "      no_author_date = no_title_entries[1]\n",
        "\n",
        "  else:\n",
        "    no_id_entries = re.split(cisi_author_start, no_id)\n",
        "    cisi_txt_data[id]['title'] = no_id_entries[0].strip() # save title\n",
        "    cisi_txt_data[id]['author'] = no_id_entries[1].strip() # save first author\n",
        "    no_title_entries = re.split(cisi_text_start, no_title)\n",
        "    cisi_txt_data[id]['author'] += ','+no_title_entries[0].strip() # save second athour\n",
        "    no_author_date = no_title_entries[1]\n",
        "\n",
        "  last_entries = re.split(cisi_cross_start, no_author_date)\n",
        "  cisi_txt_data[id]['text'] = last_entries[0].strip() # save text\n",
        "  cisi_txt_data[id]['cross-refrences'] = last_entries[1].strip() # save cross refrences\n",
        "\n",
        "# process query file  \n",
        "\n",
        "qry_chunk_start = re.compile('[\\n]\\.W')\n",
        "\n",
        "cisi_qry_data = defaultdict(dict)\n",
        "\n",
        "for line in cisi_qry_list:\n",
        "  id , question = re.split(qry_chunk_start,line)\n",
        "  id = re.findall('\\d{1,3}',id)[0]\n",
        "  cisi_qry_data[id]['question'] = question\n",
        "\n",
        "# process the relevance assesment data\n",
        "cisi_rel = defaultdict(list)\n",
        "\n",
        "with open (PATH_TO_CISI_REL,'r') as f:\n",
        "  for line in f:\n",
        "    line = line.replace(' ','\\t')\n",
        "    line = re.split('\\t',line)\n",
        "    line = list(filter(None, line))\n",
        "    cisi_rel[str(line[0])].append(str(line[1]))"
      ],
      "execution_count": 16,
      "outputs": [
        {
          "output_type": "stream",
          "text": [
            "--2020-10-20 07:11:45--  https://nextcloud.samyateia.de/index.php/s/ibPgbdqsstrWEAa/download\n",
            "Resolving nextcloud.samyateia.de (nextcloud.samyateia.de)... 194.55.14.32\n",
            "Connecting to nextcloud.samyateia.de (nextcloud.samyateia.de)|194.55.14.32|:443... connected.\n",
            "HTTP request sent, awaiting response... 200 OK\n",
            "Length: 2385920 (2.3M) [application/x-gzip]\n",
            "Saving to: ‘download’\n",
            "\n",
            "download            100%[===================>]   2.28M  1.25MB/s    in 1.8s    \n",
            "\n",
            "2020-10-20 07:11:48 (1.25 MB/s) - ‘download’ saved [2385920/2385920]\n",
            "\n"
          ],
          "name": "stdout"
        }
      ]
    },
    {
      "cell_type": "markdown",
      "metadata": {
        "id": "MliI7zHGawSY"
      },
      "source": [
        "**Indexing**"
      ]
    },
    {
      "cell_type": "code",
      "metadata": {
        "id": "CXoFBXYUSikA",
        "outputId": "dabcdab2-4e49-45d5-a903-61870fbe3fdd",
        "colab": {
          "base_uri": "https://localhost:8080/"
        }
      },
      "source": [
        "# Elasticsearch settings, without using Opendistro\n",
        "settings_text = {\n",
        "  \"mappings\": {\n",
        "      \"properties\": {\n",
        "          \"text\": {\n",
        "              \"type\": \"text\"\n",
        "              },\n",
        "          \"text_vector\": {\n",
        "           \"type\": \"dense_vector\",\n",
        "           \"dims\": 768\n",
        "            }\n",
        "    }\n",
        "  }\n",
        "}\n",
        "\n",
        "settings_title = {\n",
        "  \"mappings\": {\n",
        "      \"properties\": {\n",
        "          \"title\": {\n",
        "              \"type\": \"text\"\n",
        "              },\n",
        "          \"title_vector\": {\n",
        "           \"type\": \"dense_vector\",\n",
        "           \"dims\": 768\n",
        "            }\n",
        "    }\n",
        "  }\n",
        "}\n",
        "\n",
        "#create index, see https://elasticsearch-py.readthedocs.io/en/master/api.html#elasticsearch.client.IndicesClient.create\n",
        "cisi_index_title = \"bert-title-cisi-corpus\"\n",
        "es.indices.delete(index=cisi_index_title, ignore=[400, 404])\n",
        "es.indices.create(cisi_index_title, body=settings_title)\n",
        "\n",
        "cisi_index_text = \"bert-text-cisi-corpus\"\n",
        "es.indices.delete(index=cisi_index_text, ignore=[400, 404])\n",
        "es.indices.create(cisi_index_text, body=settings_text)\n",
        "\n",
        "cisi_index = \"cisi-corpus\"\n",
        "es.indices.delete(index=cisi_index, ignore=[400, 404])\n",
        "es.indices.create(cisi_index)"
      ],
      "execution_count": 17,
      "outputs": [
        {
          "output_type": "execute_result",
          "data": {
            "text/plain": [
              "{'acknowledged': True, 'index': 'cisi-corpus', 'shards_acknowledged': True}"
            ]
          },
          "metadata": {
            "tags": []
          },
          "execution_count": 17
        }
      ]
    },
    {
      "cell_type": "code",
      "metadata": {
        "id": "FF6S6Q64SioH"
      },
      "source": [
        "for ID, doc_data in cisi_txt_data.items():\n",
        "    es.index(\n",
        "      index=cisi_index_text, \n",
        "      id=ID, \n",
        "      body={\n",
        "          'text_vector': model.encode(cisi_txt_data[ID]['text']),\n",
        "          'text': cisi_txt_data[ID]['text']\n",
        "          }\n",
        "    )\n",
        "    es.index(\n",
        "      index=cisi_index_title, \n",
        "      id=ID, \n",
        "      body={\n",
        "          'title_vector': model.encode(cisi_txt_data[ID]['title']),\n",
        "          'title': cisi_txt_data[ID]['title'],\n",
        "          }\n",
        "    )\n",
        "    es.index(index=cisi_index, id=ID, body=doc_data)\n",
        "\n",
        "#print new index list\n",
        "create_response = es.cat.indices()\n",
        "print(create_response)"
      ],
      "execution_count": 18,
      "outputs": []
    },
    {
      "cell_type": "markdown",
      "metadata": {
        "id": "2uBvUwRPpxT_"
      },
      "source": [
        "### Cranfield Corpus\n"
      ]
    },
    {
      "cell_type": "markdown",
      "metadata": {
        "id": "bcJkkOXMTL79"
      },
      "source": [
        "You can get the corpus from [this link](http://ir.dcs.gla.ac.uk/resources/test_collections/cran/).  <br>\n",
        "For detailed information about the parsing of this corpus look at [ this Notebook](https://colab.research.google.com/github/pragmalingu/private_experiments/blob/cranfield_corpus/CranfieldCorpus.ipynb) or for parsing in generel read [this guide](https://)."
      ]
    },
    {
      "cell_type": "markdown",
      "metadata": {
        "id": "QRQUEbD_TRv-"
      },
      "source": [
        "**Parsing**"
      ]
    },
    {
      "cell_type": "code",
      "metadata": {
        "id": "kmlwZmVMTRCY",
        "outputId": "15b76022-3f5c-4c9b-f067-725ac907dabd",
        "colab": {
          "base_uri": "https://localhost:8080/"
        }
      },
      "source": [
        "# download and unzip data\n",
        "!wget https://nextcloud.samyateia.de/index.php/s/ePSxPpLELCWteeL/download\n",
        "!tar -xf download\n",
        "!rm download\n",
        "\n",
        "# set paths to the dowloaded data as variables\n",
        "PATH_TO_CRAN_TXT = '/content/cran.all.1400'\n",
        "PATH_TO_CRAN_QRY = '/content/cran.qry'\n",
        "PATH_TO_CRAN_REL = '/content/cranqrel'\n",
        "\n",
        "from collections import defaultdict\n",
        "import re\n",
        "import json\n",
        "from io import StringIO\n",
        "import numpy as np\n",
        "\n",
        "\n",
        "# get the text entries from the text and query files\n",
        "\n",
        "ID_marker = re.compile('\\.I')\n",
        "\n",
        "def get_data(PATH_TO_FILE, marker):\n",
        "  \"\"\"\n",
        "  Reads file and spilts text into entries at the ID marker '.I'.\n",
        "  First entry is empty, so it's removed.\n",
        "  'marker' contains the regex at which we want to split\n",
        "  \"\"\"\n",
        "  with open (PATH_TO_FILE,'r') as f:\n",
        "    text = f.read().replace('\\n',\" \")\n",
        "    lines = re.split(marker,text)\n",
        "    lines.pop(0)\n",
        "  return lines\n",
        "\n",
        "cran_txt_list = get_data(PATH_TO_CRAN_TXT, ID_marker)\n",
        "cran_qry_list = get_data(PATH_TO_CRAN_QRY, ID_marker)\n",
        "\n",
        "# process text file\n",
        "\n",
        "cran_chunk_start = re.compile('\\.[A,B,T,W]')\n",
        "cran_txt_data = defaultdict(dict)\n",
        "\n",
        "for line in cran_txt_list:\n",
        "  entries= re.split(cran_chunk_start,line)\n",
        "  id = entries[0].strip()\n",
        "  title = entries[1]\n",
        "  author = entries[2]\n",
        "  publication_date = entries[3]\n",
        "  text = entries[4:]\n",
        "  cran_txt_data[id]['title'] = title\n",
        "  cran_txt_data[id]['author'] = author\n",
        "  cran_txt_data[id]['publication_date'] = publication_date\n",
        "  cran_txt_data[id]['text'] = ''.join(text)\n",
        "\n",
        "# process query file\n",
        "\n",
        "qry_chunk_start = re.compile('\\.W')\n",
        "cran_qry_data = defaultdict(dict)\n",
        "\n",
        "for n in range(0,len(cran_qry_list)-1):\n",
        "  line = cran_qry_list[n+1]\n",
        "  _ , question = re.split(qry_chunk_start,line)\n",
        "  cran_qry_data[n+1]['question'] = question\n",
        "\n",
        "# process relevance assesments without rating\n",
        "cran_rel = defaultdict(list)\n",
        "\n",
        "with open (PATH_TO_CRAN_REL,'r') as f:\n",
        "  for line in f:\n",
        "    line = re.split(' ',line)\n",
        "    cran_rel[int(line[0])].append(line[1])"
      ],
      "execution_count": 82,
      "outputs": [
        {
          "output_type": "stream",
          "text": [
            "--2020-10-20 08:07:41--  https://nextcloud.samyateia.de/index.php/s/ePSxPpLELCWteeL/download\n",
            "Resolving nextcloud.samyateia.de (nextcloud.samyateia.de)... 194.55.14.32\n",
            "Connecting to nextcloud.samyateia.de (nextcloud.samyateia.de)|194.55.14.32|:443... connected.\n",
            "HTTP request sent, awaiting response... 200 OK\n",
            "Length: 1698816 (1.6M) [application/x-gzip]\n",
            "Saving to: ‘download’\n",
            "\n",
            "download            100%[===================>]   1.62M   912KB/s    in 1.8s    \n",
            "\n",
            "2020-10-20 08:07:44 (912 KB/s) - ‘download’ saved [1698816/1698816]\n",
            "\n"
          ],
          "name": "stdout"
        }
      ]
    },
    {
      "cell_type": "code",
      "metadata": {
        "id": "OBS65mjTC0SG",
        "outputId": "839cc9d1-ca2f-422c-9cbd-59787d9e9b4e",
        "colab": {
          "base_uri": "https://localhost:8080/"
        }
      },
      "source": [
        "print(cran_rel)"
      ],
      "execution_count": 81,
      "outputs": [
        {
          "output_type": "stream",
          "text": [
            "defaultdict(<class 'list'>, {1: [(184, 2), (29, 2), (31, 2), (12, 3), (51, 3), (102, 3), (13, 4), (14, 4), (15, 4), (57, 2), (378, 2), (859, 2), (185, 3), (30, 3), (37, 3), (52, 4), (142, 4), (195, 4), (875, 2), (56, 3), (66, 3), (95, 3), (462, 4), (497, 3), (858, 3), (876, 3), (879, 3), (880, 3), (486, -1)], 2: [(12, 1), (15, 2), (184, 2), (858, 2), (51, 3), (102, 3), (202, 3), (14, 4), (52, 4), (380, 4), (746, 1), (859, 2), (948, 2), (285, 3), (390, 3), (391, 3), (442, 4), (497, 3), (643, 3), (856, 3), (857, 3), (877, 3), (864, 3), (658, 3), (486, -1)], 3: [(5, 3), (6, 3), (90, 3), (91, 3), (119, 3), (144, 3), (181, 3), (399, 3), (485, -1)], 4: [(236, 3), (166, 3), (488, -1)], 5: [(552, 1), (401, 3), (1297, 3), (1296, 1), (488, -1)], 6: [(99, 2), (115, 3), (257, 3), (258, 3), (491, -1)], 7: [(20, 2), (56, 3), (57, 3), (58, 3), (19, 4), (492, -1)], 8: [(48, 1), (122, 1), (20, 3), (58, 3), (196, 3), (354, 1), (360, 1), (197, 3), (999, 3), (1112, 3), (1005, 1), (492, -1)], 9: [(21, 2), (22, 2), (550, 2), (534, -1)], 10: [(259, 2), (405, 2), (302, 3), (436, 3), (437, 3), (438, 3), (998, 3), (1011, 3), (493, -1)], 11: [(27, 3), (28, 3), (262, 3), (160, 4), (20, 4), (263, 3), (654, 4), (495, -1)], 12: [(86, 2), (194, 2), (650, 2), (649, 4), (652, 2), (624, -1)], 13: [(64, 2), (265, 2), (65, 4), (311, 4), (496, -1)], 14: [(64, 1), (65, 4), (496, -1)], 15: [(463, 1), (462, 3), (497, -1)], 16: [(266, 2), (106, 3), (196, 3), (498, -1)], 17: [(106, 2), (196, 3), (498, -1)], 18: [(196, 2), (197, 2), (198, 2), (498, -1)], 19: [(32, 2), (67, 2), (164, 2), (639, 3), (715, 3), (716, 3), (719, 4), (1379, 4), (717, 3), (499, -1)], 20: [(87, 3), (88, 3), (104, 3), (267, 3), (268, 3), (269, 3), (270, 3), (407, 3), (408, 3), (500, -1)], 21: [(271, 1), (16, 2), (413, 2), (414, 3), (502, -1)], 22: [(68, 1), (502, -1)], 23: [(900, 1), (902, 1), (200, 2), (201, 2), (601, 2), (899, 3), (903, 3), (593, 3), (199, 4), (594, 4), (901, 2), (544, 2), (597, 2), (749, 3), (917, 3), (919, 3), (1333, 4), (634, 2), (687, 2), (698, 2), (1290, 3), (700, 2), (704, 2), (705, 2), (1109, 2), (1112, 2), (1141, 2), (1197, 2), (1256, 2), (1259, 2), (1272, 2), (1289, 2), (892, -1)], 24: [(46, 2), (47, 2), (92, 3), (756, -1)], 25: [(213, 2), (212, 3), (214, 3), (215, 3), (216, 3), (276, 3), (277, 3), (426, 3), (427, 3), (511, -1)], 26: [(145, 1), (611, 1), (376, 2), (406, 2), (565, 2), (1076, 2), (511, -1)], 27: [(224, 2), (278, 3), (428, 3), (512, -1)], 28: [(224, 3), (279, 3), (512, -1)], 29: [(250, 2), (514, 2), (609, 2), (225, 3), (793, 3), (464, 4), (465, 4), (612, 2), (466, 4), (513, -1)], 30: [(225, 2), (464, 2), (514, 2), (466, 3), (609, 3), (612, 3), (793, 4), (513, -1)], 31: [(776, 4), (751, -1)], 32: [(465, 2), (249, 3), (777, 3), (778, 3), (247, 4), (250, 4), (752, -1)], 33: [(252, 3), (431, 3), (141, 4), (516, -1)], 34: [(252, 1), (431, 3), (672, 3), (714, 3), (799, 3), (800, 3), (516, -1)], 35: [(166, 1), (167, 1), (132, 3), (517, -1)], 36: [(169, 2), (168, 3), (518, -1)], 37: [(173, 2), (188, 2), (172, 3), (97, 3), (121, 3), (187, 3), (242, 3), (409, 3), (487, 3), (519, -1)], 38: [(24, 2), (283, 2), (552, 2), (272, 3), (557, 4), (558, 4), (553, 2), (554, 2), (555, 2), (556, 2), (536, -1)], 39: [(272, 1), (555, 1), (24, 2), (283, 2), (552, 2), (79, 3), (207, 3), (418, 3), (557, 4), (554, 2), (556, 2), (505, 3), (1257, 3), (536, -1)], 40: [(24, 2), (283, 2), (552, 2), (272, 3), (85, 3), (976, 3), (557, 4), (558, 4), (553, 2), (554, 2), (555, 2), (556, 2), (536, -1)], 41: [(288, 1), (289, 1), (433, 2), (520, -1)], 42: [(468, 2), (467, 3), (469, 3), (470, 3), (775, 4), (521, -1)], 43: [(467, 1), (468, 1), (39, 3), (503, 3), (775, 3), (469, 1), (521, -1)], 44: [(302, 3), (436, 3), (437, 4), (524, -1)], 45: [(305, 2), (570, 2), (308, 3), (481, 3), (338, 3), (1226, 4), (1355, 4), (1185, 3), (629, 3), (663, 3), (798, 3), (572, 3), (525, -1)], 46: [(305, 2), (338, 3), (344, 3), (481, 3), (84, 4), (123, 4), (1185, 4), (623, 3), (570, 3), (798, 3), (1226, 4), (629, 4), (663, 4), (572, 4), (1355, 4), (525, -1)], 47: [(304, 2), (306, 2), (307, 2), (305, 3), (629, 3), (663, 3), (308, 4), (309, 2), (310, 2), (570, 2), (798, 3), (1185, 3), (1355, 3), (572, 2), (525, -1)], 48: [(439, 2), (311, 3), (316, 3), (440, 3), (187, 4), (314, 4), (315, 4), (797, 3), (798, 3), (794, 4), (265, 4), (526, -1)], 49: [(320, 3), (478, 4), (527, -1)], 50: [(326, 2), (629, 2), (21, 4), (94, 4), (22, 4), (306, 4), (528, -1)], 51: [(94, 1), (23, 2), (105, 2), (381, 2), (192, 3), (326, 4), (63, 4), (494, 2), (629, 2), (261, 4), (528, -1)], 52: [(21, 2), (22, 2), (306, 2), (326, 4), (528, -1)], 53: [(296, 3), (33, 3), (446, 4), (447, 4), (448, 4), (449, 4), (208, 4), (297, 4), (298, 4), (299, 4), (531, -1)], 54: [(84, 2), (24, 3), (101, 3), (294, 3), (628, 4), (661, 4), (364, 3), (365, 3), (560, 3), (123, -1)], 55: [(16, 2), (375, 2), (460, 2), (378, 3), (255, 3), (271, 3), (376, 4), (377, 4), (562, 2), (502, 3), (538, -1)], 56: [(380, 2), (749, 3), (1339, 3), (14, 4), (705, 4), (779, 4), (780, 4), (379, 4), (643, 4), (686, 4), (753, -1)], 57: [(380, 2), (593, 3), (746, 3), (914, 3), (14, 4), (379, 4), (705, 4), (779, 4), (780, 4), (704, 4), (12, 4), (15, 4), (857, 4), (859, 4), (753, -1)], 58: [(788, 2), (785, 3), (786, 3), (787, 3), (23, 4), (381, 4), (382, 4), (784, 4), (789, 4), (754, -1)], 59: [(788, 2), (785, 3), (786, 3), (787, 3), (754, -1)], 60: [(475, 2), (476, 3), (527, 3), (320, 4), (478, 4), (322, -1)], 61: [(565, 2), (566, 2), (564, 3), (1159, 3), (661, 4), (539, -1)], 62: [(566, 1), (567, 2), (1084, 2), (1078, 3), (1081, 3), (539, -1)], 63: [(567, 1), (564, 3), (566, 3), (539, -1)], 64: [(390, 1), (391, 2), (627, -1)], 65: [(2, 2), (3, 2), (128, 2), (180, 3), (323, 3), (324, 3), (418, 4), (664, 2), (629, 2), (393, 3), (394, 3), (659, 3), (4, 3), (384, 3), (1302, 3), (388, -1)], 66: [(664, 2), (629, 2), (180, 3), (659, 3), (660, 3), (388, -1)], 67: [(2, 1), (3, 1), (664, 2), (629, 2), (323, 3), (324, 3), (393, 3), (128, 1), (180, 1), (394, 3), (659, 3), (389, 3), (4, 3), (1302, 3), (388, -1)], 68: [(662, 2), (101, 3), (460, 3), (661, 3), (62, 3), (628, -1)], 69: [(458, 2), (570, 2), (977, 3), (62, 3), (336, 4), (540, -1)], 70: [(333, 1), (568, 2), (570, 2), (62, 2), (101, 3), (283, 3), (565, 3), (24, 4), (977, 3), (307, 3), (540, -1)], 71: [(569, 1), (571, 1), (1355, 2), (101, 3), (655, 3), (1213, 3), (798, 4), (572, 1), (540, -1)], 72: [(21, 2), (324, 2), (630, 2), (94, 3), (664, 3), (304, 3), (128, 4), (323, 4), (663, 4), (570, 3), (494, 3), (305, 4), (309, 4), (571, 4), (655, 4), (388, 4), (62, 4), (629, -1)], 73: [(332, 2), (572, 2), (578, 2), (573, 3), (574, 3), (421, 3), (25, 4), (317, 4), (577, 4), (401, 2), (625, 2), (160, 3), (1213, 3), (1304, 3), (1198, 4), (655, 4), (1355, 4), (68, 3), (571, 3), (1252, 3), (541, -1)], 74: [(576, 2), (656, 2), (575, 3), (317, 4), (574, 4), (578, 4), (541, -1)], 75: [(667, 2), (324, 3), (378, 3), (666, 3), (670, 3), (630, -1)], 76: [(378, 2), (667, 2), (324, 3), (666, 3), (670, 3), (1391, 3), (329, 3), (630, -1)], 77: [(668, 2), (666, 3), (667, 3), (670, 3), (329, 4), (1391, 4), (630, -1)], 78: [(588, 2), (589, 3), (590, 3), (543, -1)], 79: [(597, 3), (598, 3), (688, 4), (708, 4), (713, 4), (544, -1)], 80: [(594, 1), (597, 1), (596, 3), (598, 3), (544, -1)], 81: [(672, 1), (799, 4), (631, -1)], 82: [(676, 2), (677, 2), (678, 3), (679, 3), (205, 3), (632, -1)], 83: [(680, 2), (681, 2), (682, 2), (683, 2), (633, -1)], 84: [(606, 2), (406, 2), (608, 3), (142, 3), (294, 3), (354, 4), (522, 4), (962, 3), (1192, 3), (1213, 3), (873, 4), (546, -1)], 85: [(608, 1), (406, 2), (606, 3), (710, 3), (546, -1)], 86: [(594, 3), (790, 3), (755, -1)], 87: [(606, 2), (611, 2), (562, 3), (50, 4), (236, 4), (609, 4), (612, 4), (406, 4), (547, -1)], 88: [(613, 2), (614, 2), (615, 2), (616, 3), (617, 3), (618, 4), (548, -1)], 89: [(793, 2), (794, 2), (797, 3), (795, 4), (796, 4), (420, 4), (757, -1)], 90: [(794, 2), (797, 2), (798, 2), (793, 3), (796, 3), (291, 3), (800, 4), (1187, 4), (256, 2), (311, 3), (335, 3), (1364, 3), (1367, 4), (757, -1)], 91: [(252, 2), (801, 2), (797, 3), (799, 3), (800, 3), (793, 4), (794, 4), (1154, 3), (672, 4), (757, -1)], 92: [(802, 2), (803, 2), (808, 3), (809, 3), (811, 3), (804, 4), (805, 4), (806, 4), (253, 3), (1247, 3), (807, 4), (810, 4), (1243, 4), (758, -1)], 93: [(691, 3), (635, -1)], 94: [(24, 1), (283, 3), (294, 3), (559, 3), (689, 4), (690, 4), (101, 4), (1393, 3), (354, 4), (1104, 4), (1161, 4), (1395, 4), (635, -1)], 95: [(283, 1), (662, 4), (635, -1)], 96: [(703, 3), (704, 3), (705, 3), (698, 4), (699, 4), (700, 4), (1289, 3), (779, 3), (701, 4), (702, 4), (706, 4), (792, 4), (1339, 4), (637, -1)], 97: [(699, 3), (700, 3), (701, 3), (698, 4), (1289, 4), (702, 3), (703, 3), (779, 3), (1339, 4), (681, 3), (637, -1)], 98: [(713, 2), (708, 4), (709, 4), (711, 4), (712, 4), (638, -1)], 99: [(717, 2), (719, 2), (1001, 3), (1379, 3), (639, -1)], 100: [(821, 2), (822, 2), (824, 2), (820, 3), (823, 3), (825, 3), (1122, 2), (1051, 3), (1121, 3), (760, -1)], 101: [(817, 2), (818, 2), (819, 2), (820, 3), (825, 3), (824, 2), (760, -1)], 102: [(728, 1), (913, 2), (910, 3), (911, 4), (729, -1)], 103: [(826, 3), (828, 3), (761, -1)], 104: [(833, 3), (834, 3), (835, 3), (836, 3), (837, 3), (762, -1)], 105: [(848, 3), (844, 4), (845, 4), (846, 4), (847, 4), (764, -1)], 106: [(847, 2), (846, 3), (849, 3), (844, 4), (845, 4), (764, -1)], 107: [(725, 2), (728, 2), (729, 3), (911, 3), (720, 4), (75, 4), (909, 4), (640, -1)], 108: [(724, 2), (726, 2), (727, 2), (75, 3), (909, 3), (720, 4), (723, 4), (640, -1)], 109: [(860, 1), (861, 1), (606, 3), (980, 3), (12, 3), (766, -1)], 110: [(862, 1), (863, 1), (31, 3), (1174, 4), (766, -1)], 111: [(15, 2), (391, 2), (864, 2), (914, 3), (392, 3), (627, 3), (658, 3), (894, -1)], 112: [(731, 3), (730, 4), (641, -1)], 113: [(746, 3), (748, 3), (749, 3), (265, 3), (643, -1)], 114: [(919, 1), (916, 2), (920, 3), (921, 3), (895, -1)], 115: [(51, 2), (185, 2), (878, 3), (874, 4), (184, -1)], 116: [(922, 1), (360, 3), (605, 3), (927, 3), (492, 4), (896, -1)], 117: [(360, 2), (605, 3), (896, -1)], 118: [(923, 2), (924, 3), (925, 3), (896, -1)], 119: [(926, 4), (897, -1)], 120: [(829, 2), (887, 2), (890, 2), (885, 3), (886, 3), (888, 3), (889, 4), (1146, 2), (891, 3), (769, -1)], 121: [(885, 1), (886, 1), (1146, 2), (887, 1), (888, 1), (890, 1), (891, 1), (769, -1)], 122: [(931, 4), (932, 2), (934, 4), (935, 4), (936, 2), (937, 2), (938, 2), (957, 3), (1131, 3), (898, -1)], 123: [(966, 2), (967, 3), (941, -1)], 124: [(967, 2), (968, 2), (964, 3), (965, 3), (941, -1)], 125: [(969, 2), (970, 2), (971, 2), (187, 3), (973, 3), (173, 3), (974, 4), (177, 4), (972, 2), (174, 2), (997, 2), (176, 3), (409, 3), (946, 3), (992, 3), (994, 3), (995, 3), (942, -1)], 126: [(974, 2), (1326, 2), (187, 3), (969, 3), (970, 3), (971, 3), (972, 3), (973, 3), (942, -1)], 127: [(101, 2), (164, 2), (981, 3), (982, 4), (983, 4), (944, -1)], 128: [(985, 3), (990, 3), (945, -1)], 129: [(985, 2), (987, 2), (984, 3), (988, 3), (989, 3), (986, 4), (990, 3), (945, -1)], 130: [(766, 2), (858, 3), (859, 3), (1008, 3), (12, 3), (948, -1)], 131: [(1014, 2), (1020, 2), (1013, 3), (1016, 3), (1017, 3), (1012, 4), (1018, 3), (1019, 3), (950, -1)], 132: [(1014, 1), (1013, 3), (1015, 3), (1016, 3), (1012, 4), (1018, 4), (1019, 4), (1017, 3), (951, 3), (1023, 3), (1020, 4), (952, 4), (1024, 4), (1025, 3), (1026, 3), (950, -1)], 133: [(1020, 1), (1018, 2), (1019, 2), (1024, 3), (1012, 4), (1016, 4), (1022, 4), (950, -1)], 134: [(1027, 2), (1028, 3), (951, -1)], 135: [(1018, 1), (1017, 4), (1023, 4), (1024, 4), (1025, 4), (1026, 4), (950, 4), (1016, 4), (951, -1)], 136: [(1021, 1), (1022, 4), (1034, 4), (951, -1)], 137: [(1029, 2), (1034, 3), (951, 3), (1021, 3), (952, -1)], 138: [(846, 1), (1036, 1), (953, -1)], 139: [(1031, 2), (1032, 2), (1035, 2), (1037, 4), (953, -1)], 140: [(1038, 1), (1039, 1), (1041, 2), (1042, 2), (1043, 4), (1044, 4), (954, -1)], 141: [(1038, 1), (1041, 1), (1043, 2), (1044, 2), (1039, 3), (1042, 3), (954, -1)], 142: [(1042, 1), (954, -1)], 143: [(1043, 1), (1044, 1), (954, -1)], 144: [(840, 2), (1045, 2), (763, 3), (838, 3), (839, 3), (841, 3), (955, -1)], 145: [(763, 2), (838, 2), (839, 2), (1045, 3), (743, 3), (852, 4), (841, 2), (955, -1)], 146: [(840, 1), (1045, 3), (955, -1)], 147: [(889, 3), (1046, 3), (1048, 3), (1047, 4), (1049, 4), (1051, 4), (1050, 3), (843, 3), (926, 4), (822, 4), (956, -1)], 148: [(889, 2), (1048, 2), (1050, 2), (1046, 3), (1049, 3), (843, 3), (956, -1)], 149: [(1057, 3), (1058, 3), (1059, 3), (1052, 4), (930, 3), (931, 3), (934, 3), (936, 3), (937, 3), (938, 3), (1131, 3), (957, -1)], 150: [(1074, 3), (1075, 3), (1062, -1)], 151: [(687, 2), (1076, 2), (1074, 3), (1075, 4), (1077, 4), (1062, -1)], 152: [(1076, 1), (1077, 3), (569, 3), (572, 3), (687, 4), (655, 3), (1062, -1)], 153: [(1078, 3), (1083, 3), (1084, 3), (1080, 4), (1081, 4), (1082, 4), (1085, 3), (1063, -1)], 154: [(1087, 2), (1088, 3), (1063, -1)], 155: [(1103, 1), (1100, 2), (983, 3), (1101, 3), (1104, 3), (1099, 4), (1065, -1)], 156: [(983, 1), (1102, 1), (1097, 2), (1100, 2), (274, 2), (1096, 3), (1098, 3), (1099, 3), (1103, 4), (982, 4), (1104, 1), (553, 2), (1101, 3), (82, 3), (1065, -1)], 157: [(273, 2), (1105, 2), (1106, 2), (93, 3), (161, 3), (302, 3), (122, 4), (666, 4), (1107, 2), (556, 2), (25, 2), (1011, 3), (19, 3), (35, 3), (1355, 4), (372, 2), (410, 2), (456, 2), (36, 3), (44, 3), (215, 3), (626, 2), (1151, 2), (354, 3), (369, 3), (370, 3), (421, 3), (557, 3), (605, 3), (655, 3), (657, 3), (689, 3), (1307, 3), (318, 3), (423, 3), (1304, 3), (160, 3), (482, 3), (572, 3), (1006, -1)], 158: [(302, 1), (1011, 1), (552, 2), (998, 3), (1009, 3), (1010, 3), (273, 4), (556, 4), (1006, -1)], 159: [(234, 3), (1108, 3), (1110, 3), (1114, 4), (1115, 4), (1111, 3), (1112, 3), (231, 3), (1066, -1)], 160: [(1134, 3), (1137, 3), (1138, 3), (1135, 4), (1136, 4), (1071, -1)], 161: [(54, 2), (1386, 2), (562, 3), (336, 3), (55, 4), (996, 4), (489, -1)], 162: [(111, 1), (155, 1), (460, 2), (461, 2), (54, 3), (562, 3), (458, 1), (459, 1), (489, -1)], 163: [(20, 3), (56, 3), (57, 3), (492, -1)], 164: [(311, 2), (415, 3), (416, 3), (798, 3), (316, 4), (335, 4), (1364, 3), (1367, 3), (503, -1)], 165: [(71, 1), (72, 1), (504, -1)], 166: [(40, 2), (41, 2), (74, 2), (207, 2), (272, 2), (418, 2), (170, 2), (1264, 2), (504, -1)], 167: [(274, 2), (82, 3), (509, -1)], 168: [(217, 1), (774, 1), (750, -1)], 169: [(118, 1), (157, 1), (774, 1), (775, 1), (750, -1)], 170: [(139, 2), (238, 2), (239, 3), (904, 3), (906, 3), (672, 3), (893, -1)], 171: [(252, 1), (431, 1), (141, 4), (516, -1)], 172: [(320, 1), (321, 1), (322, 3), (476, 3), (527, -1)], 173: [(367, 1), (451, 1), (532, -1)], 174: [(58, 1), (411, 1), (36, 2), (423, 4), (482, 1), (533, -1)], 175: [(351, 2), (966, 2), (967, 2), (964, 3), (965, 3), (941, -1)], 176: [(582, 1), (583, 1), (584, 3), (585, 3), (978, 4), (586, 1), (982, 1), (542, -1)], 177: [(588, 2), (589, 2), (592, 3), (772, 3), (590, 4), (543, -1)], 178: [(591, 1), (590, 3), (588, 4), (589, 4), (543, -1)], 179: [(680, 3), (681, 3), (682, 3), (683, 3), (633, -1)], 180: [(622, 2), (619, 3), (620, 3), (621, 3), (617, 4), (616, 4), (1150, 4), (548, -1)], 181: [(973, 2), (974, 2), (409, 2), (997, 3), (1061, 3), (942, -1)], 182: [(685, 1), (686, 3), (634, -1)], 183: [(803, 1), (808, 1), (802, 2), (807, 3), (811, 3), (253, 3), (804, 4), (805, 4), (806, 4), (809, 1), (810, 4), (1243, 4), (1247, 4), (758, -1)], 184: [(32, 3), (67, 3), (715, 3), (717, 4), (716, 3), (499, 3), (1379, 3), (639, -1)], 185: [(858, 2), (859, 2), (857, 2), (1008, 3), (856, 3), (15, 4), (285, 4), (894, 4), (766, 2), (948, -1)], 186: [(1309, 3), (1378, 3), (923, 3), (161, 4), (421, 4), (1377, 4), (924, 3), (1062, 3), (1074, 3), (1379, 4), (1380, 4), (1075, 3), (225, 3), (1280, 3), (1305, 3), (1304, 3), (1188, -1)], 187: [(838, 3), (839, 3), (840, 3), (743, 4), (842, 3), (1045, 3), (763, -1)], 188: [(721, 2), (722, 2), (723, 2), (75, 3), (909, 3), (724, 4), (726, 4), (725, 2), (728, 2), (729, 2), (911, 2), (640, -1)], 189: [(395, 2), (866, 2), (869, 2), (865, 3), (868, 3), (870, 3), (867, 4), (872, 3), (873, 3), (767, -1)], 190: [(15, 1), (391, 1), (285, 2), (390, 3), (864, 3), (894, -1)], 191: [(914, 1), (915, 1), (285, 2), (857, 2), (858, 2), (15, 3), (391, 3), (856, 3), (390, 4), (1008, 4), (948, 3), (864, 3), (658, 3), (894, -1)], 192: [(733, 1), (734, 1), (735, 1), (736, 1), (641, -1)], 193: [(730, 3), (422, 3), (648, 3), (731, 4), (733, 4), (734, 4), (1392, 3), (735, 4), (736, 4), (641, -1)], 194: [(739, 2), (740, 2), (742, 2), (744, 3), (741, 4), (743, 2), (642, -1)], 195: [(739, 3), (742, 3), (743, 3), (642, -1)], 196: [(51, 2), (185, 2), (874, 2), (878, 3), (879, 3), (880, 3), (12, 4), (875, 2), (876, 2), (202, 3), (746, 3), (13, 3), (184, -1)], 197: [(881, 2), (883, 3), (884, 3), (768, -1)], 198: [(887, 2), (888, 2), (889, 2), (843, 3), (769, -1)], 199: [(1052, 1), (1053, 1), (1054, 2), (1055, 2), (1056, 2), (1060, 2), (743, 2), (744, 2), (957, -1)], 200: [(1134, 2), (1137, 2), (1138, 2), (1071, -1)], 201: [(552, 2), (625, 2), (1296, 2), (93, 3), (1151, 3), (401, 3), (110, 4), (1391, 4), (423, 4), (541, 3), (1295, 3), (318, 3), (1304, 4), (160, 4), (369, 4), (482, 4), (1140, -1)], 202: [(1303, 2), (1304, 2), (1309, 2), (1306, 3), (1308, 3), (605, 3), (602, 4), (603, 4), (604, 4), (1110, 2), (1305, 4), (1310, 4), (48, 4), (232, 4), (1285, -1)], 203: [(58, 3), (1305, 3), (1306, 3), (602, 4), (603, 4), (604, 4), (1307, 3), (1310, 3), (19, 3), (232, 4), (323, 4), (688, 4), (122, 3), (1188, 4), (1285, -1)], 204: [(572, 2), (1311, 2), (63, 3), (540, 3), (602, 4), (603, 4), (604, 4), (1305, 4), (1188, 4), (307, 4), (1213, 4), (655, 4), (1355, 4), (68, 4), (1285, -1)], 205: [(1321, 2), (1322, 2), (1287, -1)], 206: [(1338, 2), (1341, 2), (1340, 3), (1290, -1)], 207: [(1338, 2), (1339, 2), (1340, 3), (1341, 3), (879, 4), (1290, -1)], 208: [(163, 3), (1344, 3), (1345, 3), (164, 4), (1347, 4), (1346, 3), (1291, -1)], 209: [(1351, 2), (1356, 2), (1350, 3), (187, 3), (487, 3), (45, 4), (55, 4), (316, 4), (1383, 3), (1385, 3), (1106, 4), (1228, 4), (1292, -1)], 210: [(1171, 2), (891, 3), (1172, 3), (1173, 3), (1030, 4), (1174, 3), (1145, -1)], 211: [(891, 2), (1172, 2), (1173, 3), (1174, 3), (763, 3), (769, 4), (1030, 4), (1031, 4), (1033, 4), (1052, 4), (1068, 4), (1145, -1)], 212: [(888, 2), (889, 2), (1178, 2), (885, 3), (887, 3), (886, 3), (841, 4), (1176, 4), (1177, 4), (890, 3), (769, 3), (891, 3), (1173, 3), (843, 3), (1146, -1)], 213: [(888, 1), (885, 2), (887, 2), (889, 2), (1178, 3), (769, 3), (1173, 3), (1177, 4), (886, 3), (890, 3), (843, 3), (1146, -1)], 214: [(833, 3), (1361, 3), (1362, 3), (1363, 3), (1294, -1)], 215: [(37, 4), (35, 4), (535, -1)], 216: [(156, 1), (506, -1)], 217: [(666, 1), (667, 1), (1258, 2), (1394, 2), (668, 3), (670, 3), (1204, 3), (1391, 4), (1395, 1), (1300, 3), (37, 3), (559, 3), (630, 3), (1107, 3), (1213, 3), (1191, -1)], 218: [(24, 1), (101, 1), (666, 3), (667, 3), (93, 3), (1258, 4), (1393, 1), (559, 3), (630, 3), (662, 3), (1104, 3), (1107, 3), (1204, 3), (1213, 3), (1300, 3), (1191, -1)], 219: [(1391, 1), (666, 2), (667, 2), (1258, 2), (1078, 3), (1080, 3), (1081, 3), (1394, 2), (1395, 2), (1214, 3), (1198, 3), (1204, 3), (1300, 3), (559, 3), (630, 3), (662, 3), (1107, 3), (1213, 3), (1191, -1)], 220: [(1383, 2), (1385, 2), (155, 3), (241, 3), (1382, 3), (1370, 4), (1386, 4), (111, 4), (1384, 3), (150, 3), (292, 3), (458, 4), (479, 4), (977, 4), (376, 3), (459, 3), (1365, 3), (62, 3), (1366, 3), (1182, -1)], 221: [(155, 2), (1383, 2), (1385, 2), (1382, 3), (62, 3), (292, 3), (241, 4), (1370, 4), (1384, 4), (458, 3), (459, 3), (461, 3), (1386, 4), (1365, 3), (1366, 3), (111, 3), (150, 3), (479, 3), (1182, -1)], 222: [(400, 3), (419, 3), (1387, 3), (412, 4), (1392, 4), (1398, 4), (1397, 3), (1400, 3), (1399, 4), (1396, -1)], 223: [(400, 3), (1387, 3), (1392, 3), (1398, 3), (1396, -1)], 224: [(656, 3), (1313, 3), (1317, 3), (1316, 4), (1318, 3), (1319, 3), (1157, 3), (1274, 3), (1286, -1)], 225: [(1379, 2), (1305, 2), (1304, 2), (40, 3), (293, 3), (1309, 3), (161, 4), (421, 4), (1377, 4), (1378, 3), (1381, 3), (225, 3), (1380, 4), (448, 3), (449, 3), (1124, 3), (1280, 3), (433, 3), (923, 3), (924, 3), (1062, 3), (1074, 3), (1075, 3), (1213, 3), (1188, -1)]})\n"
          ],
          "name": "stdout"
        }
      ]
    },
    {
      "cell_type": "markdown",
      "metadata": {
        "id": "WFXOYM-PVk3c"
      },
      "source": [
        "Too long texts will be cutted to 364 tokens per text"
      ]
    },
    {
      "cell_type": "markdown",
      "metadata": {
        "id": "WlYIgjIkTTbT"
      },
      "source": [
        "**Indexing**"
      ]
    },
    {
      "cell_type": "code",
      "metadata": {
        "id": "K2X6d9uySfeq",
        "outputId": "64ad1dc0-dadb-4dd9-bb37-012ca5b454b1",
        "colab": {
          "base_uri": "https://localhost:8080/"
        }
      },
      "source": [
        "# Elasticsearch settings, without using Opendistro\n",
        "settings_text = {\n",
        "  \"mappings\": {\n",
        "      \"properties\": {\n",
        "          \"text\": {\n",
        "              \"type\": \"text\"\n",
        "              },\n",
        "          \"text_vector\": {\n",
        "           \"type\": \"dense_vector\",\n",
        "           \"dims\": 768\n",
        "            }\n",
        "    }\n",
        "  }\n",
        "}\n",
        "\n",
        "settings_title = {\n",
        "  \"mappings\": {\n",
        "      \"properties\": {\n",
        "          \"title\": {\n",
        "              \"type\": \"text\"\n",
        "              },\n",
        "          \"title_vector\": {\n",
        "           \"type\": \"dense_vector\",\n",
        "           \"dims\": 768\n",
        "            }\n",
        "    }\n",
        "  }\n",
        "}\n",
        "\n",
        "#create index, see https://elasticsearch-py.readthedocs.io/en/master/api.html#elasticsearch.client.IndicesClient.create\n",
        "cran_index_text = \"bert-text-cranfield-corpus\"\n",
        "es.indices.delete(index=cran_index_text, ignore=[400, 404])\n",
        "es.indices.create(cran_index_text, body=settings_text)\n",
        "\n",
        "\n",
        "cran_index_title = \"bert-title-cranfield-corpus\"\n",
        "es.indices.delete(index=cran_index_title, ignore=[400, 404])\n",
        "es.indices.create(cran_index_title, body=settings_title)\n",
        "\n",
        "cran_index = \"cranfield-corpus\"\n",
        "es.indices.delete(index=cran_index, ignore=[400, 404])\n",
        "es.indices.create(cran_index)"
      ],
      "execution_count": 20,
      "outputs": [
        {
          "output_type": "execute_result",
          "data": {
            "text/plain": [
              "{'acknowledged': True,\n",
              " 'index': 'cranfield-corpus',\n",
              " 'shards_acknowledged': True}"
            ]
          },
          "metadata": {
            "tags": []
          },
          "execution_count": 20
        }
      ]
    },
    {
      "cell_type": "code",
      "metadata": {
        "id": "76ENSgO8Rj3g",
        "outputId": "0009cf3c-0b9b-4485-d4ad-431235ec6d15",
        "colab": {
          "base_uri": "https://localhost:8080/"
        }
      },
      "source": [
        "model.eval()\n",
        "#index documents, see https://elasticsearch-py.readthedocs.io/en/master/#example-usage\n",
        "for ID, doc_data in cran_txt_data.items():\n",
        "      # not every entry has text\n",
        "      es.index(index=cran_index, id=ID, body=doc_data)\n",
        "      if len(cran_txt_data[str(ID)]['text']) == 1:\n",
        "        es.index(\n",
        "            index=cran_index_text, \n",
        "            id=ID, \n",
        "            body={\n",
        "                'text_vector': model.encode('none'),\n",
        "                'text': cran_txt_data[ID]['text']\n",
        "                }\n",
        "                 )\n",
        "      else:\n",
        "        es.index(\n",
        "            index=cran_index_text, \n",
        "            id=ID, \n",
        "            body={\n",
        "                'text_vector': model.encode(cran_txt_data[ID]['text']),\n",
        "                'text': cran_txt_data[ID]['text']\n",
        "                }\n",
        "                 )\n",
        "      es.index(\n",
        "         index=cran_index_title, \n",
        "         id=ID, \n",
        "         body={\n",
        "          'title_vector': model.encode(cran_txt_data[ID]['title']),\n",
        "          'title': cran_txt_data[ID]['title'],\n",
        "          }\n",
        "    )\n",
        "\n",
        "#print new index list\n",
        "create_response = es.cat.indices()\n",
        "print(create_response)"
      ],
      "execution_count": 21,
      "outputs": [
        {
          "output_type": "stream",
          "text": [
            "yellow open bert-title-cacm-corpus      GGdRLigNQT27iy5C_BlQuA 1 1 305 0 37.7mb 37.7mb\n",
            "yellow open bert-title-cisi-corpus      lFEamdwTTnytbV7Di-1fpA 1 1 309 0 20.6mb 20.6mb\n",
            "yellow open bert-title-adi-corpus       5NZ2feyNSJi5YaK8faWcAw 1 1  82 2  1.2mb  1.2mb\n",
            "yellow open bert-text-cranfield-corpus  6Lt51krIRYGs139LCm8iXQ 1 1 293 0 21.2mb 21.2mb\n",
            "yellow open cranfield-corpus            HZho7vQUTc6-mkyEkcGlxw 1 1 298 0  1.5mb  1.5mb\n",
            "yellow open cacm-corpus                 68btxa2bS8u1yc6-N4vpeQ 1 1 301 0  1.6mb  1.6mb\n",
            "yellow open bert-title-cranfield-corpus l5stGz_nRf6FaIaqtp57Cg 1 1 294 0 19.5mb 19.5mb\n",
            "yellow open bert-text-adi-corpus        cfu0A2CbQZyn0rZIbuMZpQ 1 1  82 2  1.2mb  1.2mb\n",
            "yellow open bert-text-cacm-corpus       sAYHNVBzQAiR-5TH5VgFuQ 1 1 303 0   31mb   31mb\n",
            "yellow open cisi-corpus                 b2cAuIqIQfi0eunWGgBQow 1 1 312 0  2.1mb  2.1mb\n",
            "yellow open adi-corpus                  Dbi2R6rsSkmzIUVuMzYpmw 1 1  82 0 77.9kb 77.9kb\n",
            "yellow open bert-text-cisi-corpus       VtQ_Sx0iScu_HthPi-3L-w 1 1 311 0   22mb   22mb\n",
            "\n"
          ],
          "name": "stdout"
        }
      ]
    },
    {
      "cell_type": "markdown",
      "metadata": {
        "id": "Hth0myYcBlAk"
      },
      "source": [
        "### LISA Corpus"
      ]
    },
    {
      "cell_type": "markdown",
      "metadata": {
        "id": "f3e5px45BlAo"
      },
      "source": [
        "You can get the corpus from [this link](http://ir.dcs.gla.ac.uk/resources/test_collections/lisa/).  <br>\n",
        "For detailed information about the format of the files, see the PragmaLingu [ Benchmarks](https://pragmalingu.de/docs/benchmarks/overview)"
      ]
    },
    {
      "cell_type": "markdown",
      "metadata": {
        "id": "8D3zYeCgBlAq"
      },
      "source": [
        "**Parsing**"
      ]
    },
    {
      "cell_type": "code",
      "metadata": {
        "id": "Eo4o1z1vBlAs",
        "outputId": "caa2e7d6-fde7-4b5d-bde7-254d594e7fb1",
        "colab": {
          "base_uri": "https://localhost:8080/"
        }
      },
      "source": [
        "# download and unzip data\n",
        "!wget https://nextcloud.samyateia.de/index.php/s/Ed8gekyDgpkGGQ6/download\n",
        "!tar -xf download\n",
        "!rm download\n",
        "\n",
        "# set paths to the dowloaded data as variablesDownload and unzip data.\n",
        "\n",
        "PATH_TO_LISA_TXT = '/content/'\n",
        "PATH_TO_LISA_QRY = '/content/LISA.QUE'\n",
        "PATH_TO_LISA_REL = '/content/LISARJ.NUM'\n",
        "\n",
        "from collections import defaultdict\n",
        "import re\n",
        "import json\n",
        "from io import StringIO\n",
        "import numpy as np\n",
        "import os\n",
        "\n",
        "# get the text and query files\n",
        "\n",
        "file_regex = re.compile('LISA[0-5]')\n",
        "lisa_files = [i for i in os.listdir(PATH_TO_LISA_TXT) if os.path.isfile(os.path.join(PATH_TO_LISA_TXT,i)) and re.match(file_regex,i)]\n",
        "\n",
        "txt_entry_marker = re.compile('\\*{44}',re.MULTILINE)\n",
        "qry_entry_marker = re.compile('#')\n",
        "\n",
        "def get_data(PATH_TO_FILES, marker):\n",
        "  \"\"\"\n",
        "  Reads multiple files and spilts text into entries at the entry marker.\n",
        "  The 'marker' contains the regex at which we want to split\n",
        "  Pops last element since it's empty.\n",
        "  \"\"\"\n",
        "  with open (PATH_TO_FILES,'r') as f:\n",
        "    text = f.read().replace('     ','')\n",
        "    lines = re.split(marker,text)\n",
        "    lines.pop()\n",
        "  return lines\n",
        "\n",
        "lisa_txt_list = []\n",
        "for name in lisa_files: \n",
        "  lisa_txt_list.extend(get_data(PATH_TO_LISA_TXT+name, txt_entry_marker))\n",
        "\n",
        "lisa_qry_list = get_data(PATH_TO_LISA_QRY, qry_entry_marker)\n",
        "\n",
        "# process text file\n",
        "\n",
        "doc_strip = re.compile('\\n?Document {1,2}')\n",
        "\n",
        "lisa_txt_list_stripped = []\n",
        "lisa_txt_data = defaultdict(dict)\n",
        "\n",
        "for el in lisa_txt_list:\n",
        "  lisa_txt_list_stripped.append(re.sub(doc_strip,'', el))\n",
        "\n",
        "for entry in lisa_txt_list_stripped:\n",
        "  parts = entry.split('\\n')\n",
        "  empty_index = parts.index('')\n",
        "  ID = parts[0].strip(' ')\n",
        "  title = parts[1:empty_index]\n",
        "  text = parts[empty_index+1:]\n",
        "  lisa_txt_data[ID]['title'] = title\n",
        "  lisa_txt_data[ID]['text'] = ''.join(text)\n",
        "\n",
        "# process the query data\n",
        "\n",
        "lisa_qry_data = defaultdict(dict)\n",
        "# first line is a special case because it doesn't start with a newline\n",
        "first_line = lisa_qry_list[0]\n",
        "first_question = ' '.join(first_line[1:])\n",
        "lisa_qry_data[int(first_line[0])]['question'] = first_question\n",
        "\n",
        "# after that every line can be handle the same way\n",
        "for n in range(0,len(lisa_qry_list)-1):\n",
        "  line = re.split('\\n',lisa_qry_list[n+1])\n",
        "  question = ' '.join(line[2:])\n",
        "  lisa_qry_data[int(line[1])]['question'] = question\n",
        "\n",
        "# process the relevance assesment data\n",
        "\n",
        "# process relevance assesments\n",
        "lisa_rel = defaultdict(list)\n",
        "\n",
        "rel_marker = re.compile('            \\n        ')\n",
        "rel_split = re.compile('\\n')\n",
        "\n",
        "with open (PATH_TO_LISA_REL,'r') as f:\n",
        "  file = f.read().strip('       ').replace('\\n','')\n",
        "  lines = re.split(' ',file)\n",
        "  lines = list(filter(None, lines))\n",
        "  n = 0\n",
        "  while n < len(lines):\n",
        "    ID = int(lines[n])\n",
        "    num_rel = int(lines[n+1])\n",
        "    rels = lines[(n+2):(n+num_rel+2)]\n",
        "    lisa_rel[ID].extend(rels)\n",
        "    n = n+1+num_rel+1"
      ],
      "execution_count": 22,
      "outputs": [
        {
          "output_type": "stream",
          "text": [
            "--2020-10-20 07:16:13--  https://nextcloud.samyateia.de/index.php/s/Ed8gekyDgpkGGQ6/download\n",
            "Resolving nextcloud.samyateia.de (nextcloud.samyateia.de)... 194.55.14.32\n",
            "Connecting to nextcloud.samyateia.de (nextcloud.samyateia.de)|194.55.14.32|:443... connected.\n",
            "HTTP request sent, awaiting response... 200 OK\n",
            "Length: 4012544 (3.8M) [application/x-gzip]\n",
            "Saving to: ‘download’\n",
            "\n",
            "download            100%[===================>]   3.83M  1.85MB/s    in 2.1s    \n",
            "\n",
            "2020-10-20 07:16:17 (1.85 MB/s) - ‘download’ saved [4012544/4012544]\n",
            "\n"
          ],
          "name": "stdout"
        }
      ]
    },
    {
      "cell_type": "markdown",
      "metadata": {
        "id": "vun_GRH8BlA3"
      },
      "source": [
        "We will use only texts, because other fields like author or publication_date don't affect on meaning of text."
      ]
    },
    {
      "cell_type": "code",
      "metadata": {
        "id": "NvMbSUu5BlA4",
        "outputId": "5d1f2ec0-7eaf-4450-bce7-49e64ae2bc33",
        "colab": {
          "base_uri": "https://localhost:8080/"
        }
      },
      "source": [
        "num_docs_with_texts = 0\n",
        "num_docs_with_too_long_texts = 0\n",
        "max_length = 0\n",
        "\n",
        "docs_to_index = []\n",
        "\n",
        "for ID, doc_data in lisa_txt_data.items():\n",
        "  if 'text' in doc_data.keys():\n",
        "    docs_to_index.append(ID)\n",
        "    num_docs_with_texts += 1\n",
        "    length = len(model.tokenize(doc_data['title']))\n",
        "    if length > 364:\n",
        "      num_docs_with_too_long_texts += 1\n",
        "    if length > max_length:\n",
        "      max_length = length\n",
        "\n",
        "print(f'Total number of documents: {len(lisa_txt_data)}\\n',\n",
        "  f'Number of documents with \"title\": {num_docs_with_texts}\\n',\n",
        "  f'Number of documents with too long \"title\": {num_docs_with_too_long_texts}\\n',\n",
        "  f'Max length of title in tokens: {max_length}')"
      ],
      "execution_count": 23,
      "outputs": [
        {
          "output_type": "stream",
          "text": [
            "Total number of documents: 6000\n",
            " Number of documents with \"title\": 6000\n",
            " Number of documents with too long \"title\": 0\n",
            " Max length of title in tokens: 5\n"
          ],
          "name": "stdout"
        }
      ]
    },
    {
      "cell_type": "markdown",
      "metadata": {
        "id": "eAbMNCMdBlA-"
      },
      "source": [
        "Too long texts will be cutted to 364 tokens per text"
      ]
    },
    {
      "cell_type": "markdown",
      "metadata": {
        "id": "kvj78Pc1BlBB"
      },
      "source": [
        "**Indexing**"
      ]
    },
    {
      "cell_type": "code",
      "metadata": {
        "id": "CyVRktILBlBD",
        "outputId": "8f207853-20b7-4dc4-9cd5-b362633eb133",
        "colab": {
          "base_uri": "https://localhost:8080/"
        }
      },
      "source": [
        "# Elasticsearch settings, without using Opendistro\n",
        "settings_text = {\n",
        "  \"mappings\": {\n",
        "      \"properties\": {\n",
        "          \"text\": {\n",
        "              \"type\": \"text\"\n",
        "              },\n",
        "          \"text_vector\": {\n",
        "           \"type\": \"dense_vector\",\n",
        "           \"dims\": 768\n",
        "            }\n",
        "    }\n",
        "  }\n",
        "}\n",
        "\n",
        "settings_title = {\n",
        "  \"mappings\": {\n",
        "      \"properties\": {\n",
        "          \"title\": {\n",
        "              \"type\": \"text\"\n",
        "              },\n",
        "          \"title_vector\": {\n",
        "           \"type\": \"dense_vector\",\n",
        "           \"dims\": 768\n",
        "            }\n",
        "    }\n",
        "  }\n",
        "}\n",
        "\n",
        "#create index, see https://elasticsearch-py.readthedocs.io/en/master/api.html#elasticsearch.client.IndicesClient.create\n",
        "lisa_index_text = \"bert-text-lisa-corpus\"\n",
        "es.indices.delete(index=lisa_index_text, ignore=[400, 404])\n",
        "es.indices.create(lisa_index_text, body=settings_text)\n",
        "\n",
        "lisa_index_title = \"bert-title-lisa-corpus\"\n",
        "es.indices.delete(index=lisa_index_title, ignore=[400, 404])\n",
        "es.indices.create(lisa_index_title, body=settings_title)\n",
        "\n",
        "lisa_index = \"lisa-corpus\"\n",
        "es.indices.delete(index=lisa_index, ignore=[400, 404])\n",
        "es.indices.create(lisa_index)"
      ],
      "execution_count": 24,
      "outputs": [
        {
          "output_type": "execute_result",
          "data": {
            "text/plain": [
              "{'acknowledged': True, 'index': 'lisa-corpus', 'shards_acknowledged': True}"
            ]
          },
          "metadata": {
            "tags": []
          },
          "execution_count": 24
        }
      ]
    },
    {
      "cell_type": "code",
      "metadata": {
        "id": "vkEWHA9NBlBO",
        "outputId": "b52ce310-6ef8-4d11-cefe-bf2aa6dad28e",
        "colab": {
          "base_uri": "https://localhost:8080/"
        }
      },
      "source": [
        "from tqdm import tqdm_notebook\n",
        "model.eval()\n",
        "for ID, doc_data in lisa_txt_data.items():\n",
        "    es.index(\n",
        "      index=lisa_index_text, \n",
        "      id=ID, \n",
        "      body={\n",
        "          'text_vector': model.encode(lisa_txt_data[ID]['text']),\n",
        "          'text': lisa_txt_data[ID]['text']\n",
        "          }\n",
        "    )\n",
        "    es.index(\n",
        "      index=lisa_index_title, \n",
        "      id=ID, \n",
        "      body={\n",
        "          'title_vector': model.encode(''.join(lisa_txt_data[ID]['title'])),\n",
        "          'title': lisa_txt_data[ID]['title'],\n",
        "          }\n",
        "    )\n",
        "    es.index(index=lisa_index, id=ID, body=doc_data)\n",
        "#print new index list\n",
        "create_response = es.cat.indices()\n",
        "print(create_response)"
      ],
      "execution_count": 25,
      "outputs": [
        {
          "output_type": "stream",
          "text": [
            "yellow open bert-title-lisa-corpus      _Zk-W3jyQYWkBuJYyNcsFQ 1 1  308 0 72.8mb 72.8mb\n",
            "yellow open bert-title-adi-corpus       5NZ2feyNSJi5YaK8faWcAw 1 1   82 2  1.2mb  1.2mb\n",
            "yellow open cranfield-corpus            HZho7vQUTc6-mkyEkcGlxw 1 1 1400 0  1.8mb  1.8mb\n",
            "yellow open bert-title-cranfield-corpus l5stGz_nRf6FaIaqtp57Cg 1 1 1400 0 20.1mb 20.1mb\n",
            "yellow open bert-text-adi-corpus        cfu0A2CbQZyn0rZIbuMZpQ 1 1   82 2  1.2mb  1.2mb\n",
            "yellow open bert-text-lisa-corpus       q2NXPH0kTLaaTQiBq0JGSA 1 1  309 0 75.3mb 75.3mb\n",
            "yellow open adi-corpus                  Dbi2R6rsSkmzIUVuMzYpmw 1 1   82 0 77.9kb 77.9kb\n",
            "yellow open lisa-corpus                 al5RAQAJTW-bT3aeZtct5w 1 1  308 0  2.6mb  2.6mb\n",
            "yellow open bert-title-cacm-corpus      GGdRLigNQT27iy5C_BlQuA 1 1 3204 0 46.3mb 46.3mb\n",
            "yellow open bert-title-cisi-corpus      lFEamdwTTnytbV7Di-1fpA 1 1 1460 0 21.1mb 21.1mb\n",
            "yellow open bert-text-cranfield-corpus  6Lt51krIRYGs139LCm8iXQ 1 1 1400 0 21.9mb 21.9mb\n",
            "yellow open cacm-corpus                 68btxa2bS8u1yc6-N4vpeQ 1 1 3204 0  4.2mb  4.2mb\n",
            "yellow open bert-text-cacm-corpus       sAYHNVBzQAiR-5TH5VgFuQ 1 1 3204 0 36.6mb 36.6mb\n",
            "yellow open cisi-corpus                 b2cAuIqIQfi0eunWGgBQow 1 1 1460 0  2.5mb  2.5mb\n",
            "yellow open bert-text-cisi-corpus       VtQ_Sx0iScu_HthPi-3L-w 1 1 1460 0 22.5mb 22.5mb\n",
            "\n"
          ],
          "name": "stdout"
        }
      ]
    },
    {
      "cell_type": "markdown",
      "metadata": {
        "id": "Q0KuSIu8SYRi"
      },
      "source": [
        "### Medline Corpus"
      ]
    },
    {
      "cell_type": "markdown",
      "metadata": {
        "id": "u_MWt2fnXGI6"
      },
      "source": [
        "You can get the corpus from [this link](http://ir.dcs.gla.ac.uk/resources/test_collections/med/).  <br>\n",
        "For detailed information about the parsing of this corpus look at [ this Notebook](https://colab.research.google.com/github/pragmalingu/private_experiments/blob/medline_corpus/MedlineCorpus.ipynb) or for parsing in generel read [this guide](https://). We won't use the Medline corpus for the title part of the experiment, because there aren't any titles to search with."
      ]
    },
    {
      "cell_type": "markdown",
      "metadata": {
        "id": "iVxwNZ_a-QGX"
      },
      "source": [
        "**Parsing**"
      ]
    },
    {
      "cell_type": "code",
      "metadata": {
        "id": "eZl9p5nY-QGX",
        "outputId": "bb039779-7907-4398-e693-a07d759ef36d",
        "colab": {
          "base_uri": "https://localhost:8080/"
        }
      },
      "source": [
        "# download and unzip data\n",
        "!wget https://nextcloud.samyateia.de/index.php/s/MrAgWHEJYMT6HN2/download\n",
        "!tar -xf download\n",
        "!rm download\n",
        "\n",
        "# set paths to the dowloaded data as variables\n",
        "PATH_TO_MED_TXT = '/content/MED.ALL'\n",
        "PATH_TO_MED_QRY = '/content/MED.QRY'\n",
        "PATH_TO_MED_REL = '/content/MED.REL'\n",
        "\n",
        "from collections import defaultdict\n",
        "import re\n",
        "import json\n",
        "from io import StringIO\n",
        "import numpy as np\n",
        "\n",
        "\n",
        "# get the text and query files\n",
        "\n",
        "ID_marker = re.compile('\\.I')\n",
        "\n",
        "def get_data(PATH_TO_FILE, marker):\n",
        "  \"\"\"\n",
        "  Reads file and spilts text into entries at the ID marker '.I'.\n",
        "  First entry is empty, so it's removed.\n",
        "  'marker' contains the regex at which we want to split\n",
        "  \"\"\"\n",
        "  with open (PATH_TO_FILE,'r') as f:\n",
        "    text = f.read().replace('\\n',\" \")\n",
        "    lines = re.split(marker,text)\n",
        "    lines.pop(0)\n",
        "  return lines\n",
        "\n",
        "med_txt_list = get_data(PATH_TO_MED_TXT, ID_marker)\n",
        "med_qry_list = get_data(PATH_TO_MED_QRY, ID_marker)\n",
        "\n",
        "# process the text and query files\n",
        "\n",
        "qry_chunk_start = re.compile('\\.W')\n",
        "\n",
        "med_txt_data = defaultdict(dict)\n",
        "med_qry_data = defaultdict(dict)\n",
        "\n",
        "def fill_dictionary(dictionary, chunk_list, marker, key_name):\n",
        "  for n in range(0,len(chunk_list)-1):\n",
        "    line = chunk_list[n+1]\n",
        "    _ , chunk = re.split(marker,line)\n",
        "    dictionary[n+1][key_name] = chunk.strip()\n",
        "\n",
        "fill_dictionary(med_txt_data, med_txt_list, qry_chunk_start, 'text')\n",
        "fill_dictionary(med_qry_data, med_qry_list, qry_chunk_start, 'question')\n",
        "\n",
        "# process relevance assesments with rating\n",
        "\n",
        "med_rel_data = open(PATH_TO_MED_REL)\n",
        "med_np = np.loadtxt(med_rel_data, dtype=int)\n",
        "\n",
        "med_rel_rat = defaultdict(list)\n",
        "for row in med_np:\n",
        "  med_rel_rat[row[0]].append(row[2])\n",
        "\n",
        "# process relevance assesments without rating\n",
        "med_rel = defaultdict(list)\n",
        "\n",
        "with open (PATH_TO_MED_REL,'r') as f:\n",
        "  for line in f:\n",
        "    line = re.split(' ',line)\n",
        "    med_rel[int(line[0])].append(line[2])"
      ],
      "execution_count": 26,
      "outputs": [
        {
          "output_type": "stream",
          "text": [
            "--2020-10-20 07:24:39--  https://nextcloud.samyateia.de/index.php/s/MrAgWHEJYMT6HN2/download\n",
            "Resolving nextcloud.samyateia.de (nextcloud.samyateia.de)... 194.55.14.32\n",
            "Connecting to nextcloud.samyateia.de (nextcloud.samyateia.de)|194.55.14.32|:443... connected.\n",
            "HTTP request sent, awaiting response... 200 OK\n",
            "Length: 1149440 (1.1M) [application/x-gzip]\n",
            "Saving to: ‘download’\n",
            "\n",
            "download            100%[===================>]   1.10M   725KB/s    in 1.5s    \n",
            "\n",
            "2020-10-20 07:24:42 (725 KB/s) - ‘download’ saved [1149440/1149440]\n",
            "\n"
          ],
          "name": "stdout"
        }
      ]
    },
    {
      "cell_type": "code",
      "metadata": {
        "id": "5xwEu7Ep-QGb",
        "outputId": "918cde7a-906d-4426-90a4-0a7bdbf1884e",
        "colab": {
          "base_uri": "https://localhost:8080/"
        }
      },
      "source": [
        "num_docs_with_too_long_texts = 0\n",
        "max_length = 0\n",
        "\n",
        "\n",
        "for text in med_txt_list:\n",
        "  num_docs_with_texts += 1\n",
        "  length = len(model.tokenize(text))\n",
        "  if length > 364:\n",
        "    num_docs_with_too_long_texts += 1\n",
        "  if length > max_length:\n",
        "    max_length = length\n",
        "\n",
        "print(f'Total number of documents: {len(med_txt_list)}\\n',\n",
        "  f'Number of documents with too long \"text\": {num_docs_with_too_long_texts}\\n',\n",
        "  f'Max length of texts in tokens: {max_length}')"
      ],
      "execution_count": 27,
      "outputs": [
        {
          "output_type": "stream",
          "text": [
            "Total number of documents: 1033\n",
            " Number of documents with too long \"text\": 113\n",
            " Max length of texts in tokens: 937\n"
          ],
          "name": "stdout"
        }
      ]
    },
    {
      "cell_type": "markdown",
      "metadata": {
        "id": "anwPWt-c-QGd"
      },
      "source": [
        "**Indexing**"
      ]
    },
    {
      "cell_type": "code",
      "metadata": {
        "id": "eUf2JBNM-QGe",
        "outputId": "28be1c90-1ca1-449f-8e62-65514dcbf3fe",
        "colab": {
          "base_uri": "https://localhost:8080/"
        }
      },
      "source": [
        "# Elasticsearch settings, without using Opendistro\n",
        "settings_text = {\n",
        "  \"mappings\": {\n",
        "      \"properties\": {\n",
        "          \"text\": {\n",
        "              \"type\": \"text\"\n",
        "              },\n",
        "          \"text_vector\": {\n",
        "           \"type\": \"dense_vector\",\n",
        "           \"dims\": 768\n",
        "            }\n",
        "    }\n",
        "  }\n",
        "}\n",
        "\n",
        "#create index, see https://elasticsearch-py.readthedocs.io/en/master/api.html#elasticsearch.client.IndicesClient.create\n",
        "med_index_text = \"bert-text-medline-corpus\"\n",
        "es.indices.delete(index=med_index_text, ignore=[400, 404])\n",
        "es.indices.create(med_index_text, body=settings_text)\n",
        "\n",
        "med_index = \"medline-corpus\"\n",
        "es.indices.delete(index=med_index, ignore=[400, 404])\n",
        "es.indices.create(med_index)"
      ],
      "execution_count": 95,
      "outputs": [
        {
          "output_type": "execute_result",
          "data": {
            "text/plain": [
              "{'acknowledged': True, 'index': 'medline-corpus', 'shards_acknowledged': True}"
            ]
          },
          "metadata": {
            "tags": []
          },
          "execution_count": 95
        }
      ]
    },
    {
      "cell_type": "code",
      "metadata": {
        "id": "OcO4ph3d-QGh",
        "outputId": "3d41237a-f9ca-4514-c32b-97c907d80976",
        "colab": {
          "base_uri": "https://localhost:8080/"
        }
      },
      "source": [
        "model.eval()\n",
        "#index documents, see https://elasticsearch-py.readthedocs.io/en/master/#example-usage\n",
        "for ID, doc_data in med_txt_data.items():\n",
        "    es.index(\n",
        "      index=med_index_text, \n",
        "      id=ID, \n",
        "      body={\n",
        "          'text_vector': model.encode(med_txt_data[ID]['text']),\n",
        "          'text': med_txt_data[ID]['text'],\n",
        "          }\n",
        "    )\n",
        "    es.index(index=med_index, id=ID, body=doc_data)\n",
        "#print new index list\n",
        "create_response = es.cat.indices()\n",
        "print(create_response)"
      ],
      "execution_count": 98,
      "outputs": [
        {
          "output_type": "stream",
          "text": [
            "yellow open bert-text-npl-corpus        HugJkR3XRr-UBJSvLWalwQ 1 1     0     0    208b    208b\n",
            "yellow open bert-title-lisa-corpus      _Zk-W3jyQYWkBuJYyNcsFQ 1 1  6000     0    87mb    87mb\n",
            "yellow open bert-title-adi-corpus       5NZ2feyNSJi5YaK8faWcAw 1 1    82     2   1.2mb   1.2mb\n",
            "yellow open cranfield-corpus            HZho7vQUTc6-mkyEkcGlxw 1 1  1400     0   1.8mb   1.8mb\n",
            "yellow open bert-title-cranfield-corpus l5stGz_nRf6FaIaqtp57Cg 1 1  1400     0  20.1mb  20.1mb\n",
            "yellow open bert-text-lisa-corpus       q2NXPH0kTLaaTQiBq0JGSA 1 1  6000     0  90.3mb  90.3mb\n",
            "yellow open bert-text-adi-corpus        cfu0A2CbQZyn0rZIbuMZpQ 1 1    82     2   1.2mb   1.2mb\n",
            "yellow open adi-corpus                  Dbi2R6rsSkmzIUVuMzYpmw 1 1    82     0  77.9kb  77.9kb\n",
            "yellow open medline-corpus              k-gMF2PKTPKMCtjWGsAfYw 1 1     0     0   632kb   632kb\n",
            "yellow open lisa-corpus                 al5RAQAJTW-bT3aeZtct5w 1 1  6000     0   4.6mb   4.6mb\n",
            "yellow open bert-title-cacm-corpus      GGdRLigNQT27iy5C_BlQuA 1 1  3204     0  46.3mb  46.3mb\n",
            "yellow open bert-title-cisi-corpus      lFEamdwTTnytbV7Di-1fpA 1 1  1460     0  21.1mb  21.1mb\n",
            "yellow open npl-corpus                  XSzB-QLKRPSdWaucqkNYAg 1 1 11429 11429 208.9mb 208.9mb\n",
            "yellow open bert-text-medline-corpus    69tJC2K3Q7iuFTm1GP77Pg 1 1     0     0  12.7mb  12.7mb\n",
            "yellow open bert-text-cranfield-corpus  6Lt51krIRYGs139LCm8iXQ 1 1  1400     0  21.9mb  21.9mb\n",
            "yellow open cacm-corpus                 68btxa2bS8u1yc6-N4vpeQ 1 1  3204     0   4.2mb   4.2mb\n",
            "yellow open bert-text-cacm-corpus       sAYHNVBzQAiR-5TH5VgFuQ 1 1  3204     0  36.6mb  36.6mb\n",
            "yellow open bert-text-time-corpus       jSqoK30QSKm38ma-mfkAzg 1 1   423     0   8.2mb   8.2mb\n",
            "yellow open cisi-corpus                 b2cAuIqIQfi0eunWGgBQow 1 1  1460     0   2.5mb   2.5mb\n",
            "yellow open bert-text-cisi-corpus       VtQ_Sx0iScu_HthPi-3L-w 1 1  1460     0  22.5mb  22.5mb\n",
            "yellow open time-corpus                 qc7eaXc_TMmvFPoZOaD8dQ 1 1   423     0   1.9mb   1.9mb\n",
            "\n"
          ],
          "name": "stdout"
        }
      ]
    },
    {
      "cell_type": "markdown",
      "metadata": {
        "id": "EDtzPvaLB2xa"
      },
      "source": [
        "### NPL Corpus"
      ]
    },
    {
      "cell_type": "markdown",
      "metadata": {
        "id": "A3CAi9xVB2xc"
      },
      "source": [
        "You can get the corpus from [this link](http://ir.dcs.gla.ac.uk/resources/test_collections/npl/).  <br>\n",
        "For detailed information about the format of the files, see the PragmaLingu [ Benchmarks](https://pragmalingu.de/docs/benchmarks/overview)\n",
        "We won't use the NPL corpus for the title part of the experiment, because there aren't any titles to search with."
      ]
    },
    {
      "cell_type": "markdown",
      "metadata": {
        "id": "nZl09cJE0755"
      },
      "source": [
        "**Parsing**"
      ]
    },
    {
      "cell_type": "code",
      "metadata": {
        "id": "FAcUrS6w34QS",
        "outputId": "20f2c5d2-dad5-419a-85df-109a383784c2",
        "colab": {
          "base_uri": "https://localhost:8080/"
        }
      },
      "source": [
        "# download and unzip data\n",
        "!wget https://nextcloud.samyateia.de/index.php/s/R9NjseQTwqc8PcR/download\n",
        "!tar -xf download\n",
        "!rm download\n",
        "\n",
        "# set paths to the dowloaded data as variablesDownload and unzip data.\n",
        "\n",
        "PATH_TO_NPL_TXT = '/content/doc-text'\n",
        "PATH_TO_NPL_QRY = '/content/query-text'\n",
        "PATH_TO_NPL_REL = '/content/rlv-ass'\n",
        "\n",
        "from collections import defaultdict\n",
        "import re\n",
        "import json\n",
        "from io import StringIO\n",
        "import numpy as np\n",
        "import os\n",
        "\n",
        "npl_index = \"npl-corpus\"\n",
        "\n",
        "# get the text, query and rel files\n",
        "\n",
        "txt_entry_marker = re.compile('\\n   /\\n')\n",
        "qry_entry_marker = re.compile('\\n/\\n')\n",
        "rel_entry_marker = re.compile('\\n   /\\n')\n",
        "\n",
        "def get_data(PATH_TO_FILES, marker):\n",
        "  \"\"\"\n",
        "  Reads multiple files and spilts text into entries at the entry marker.\n",
        "  The 'marker' contains the regex at which we want to split\n",
        "  Pops last element since it's empty.\n",
        "  \"\"\"\n",
        "  with open (PATH_TO_FILES,'r') as f:\n",
        "    text = f.read()\n",
        "    lines = re.split(marker,text)\n",
        "    lines.pop()\n",
        "  return lines\n",
        "\n",
        "npl_txt_list = get_data(PATH_TO_NPL_TXT, txt_entry_marker)\n",
        "npl_qry_list = get_data(PATH_TO_NPL_QRY, qry_entry_marker)\n",
        "npl_rel_list = get_data(PATH_TO_NPL_REL, rel_entry_marker)\n",
        "\n",
        "# process the documents\n",
        "\n",
        "npl_txt_data = defaultdict(dict)\n",
        "\n",
        "for entry in npl_txt_list:\n",
        "  splitted = entry.split('\\n')\n",
        "  splitted = list(filter(None, splitted))\n",
        "  ID = splitted[0]\n",
        "  text = ' '.join(map(str, splitted[1:]))\n",
        "  npl_txt_data[ID]['text'] = text\n",
        "\n",
        "# process the queries\n",
        "\n",
        "npl_qry_data = defaultdict(dict)\n",
        "\n",
        "for entry in npl_qry_list:\n",
        "  splitted = entry.split('\\n')\n",
        "  splitted = list(filter(None, splitted))\n",
        "  ID = int(splitted[0])\n",
        "  question = ' '.join(map(str, splitted[1:]))\n",
        "  npl_qry_data[ID]['question'] = question\n",
        "\n",
        "# process relevance assesments\n",
        "\n",
        "npl_rel = defaultdict(list)\n",
        "\n",
        "for entry in npl_rel_list:\n",
        "  splitted = entry.replace('\\n','').split(' ')\n",
        "  splitted = list(filter(None, splitted))\n",
        "  ID = int(splitted[0])\n",
        "  npl_rel[ID].extend(splitted[1:]) "
      ],
      "execution_count": 123,
      "outputs": [
        {
          "output_type": "stream",
          "text": [
            "--2020-10-20 08:42:37--  https://nextcloud.samyateia.de/index.php/s/R9NjseQTwqc8PcR/download\n",
            "Resolving nextcloud.samyateia.de (nextcloud.samyateia.de)... 194.55.14.32\n",
            "Connecting to nextcloud.samyateia.de (nextcloud.samyateia.de)|194.55.14.32|:443... connected.\n",
            "HTTP request sent, awaiting response... 200 OK\n",
            "Length: 6428672 (6.1M) [application/x-gzip]\n",
            "Saving to: ‘download’\n",
            "\n",
            "download            100%[===================>]   6.13M  2.92MB/s    in 2.1s    \n",
            "\n",
            "2020-10-20 08:42:41 (2.92 MB/s) - ‘download’ saved [6428672/6428672]\n",
            "\n"
          ],
          "name": "stdout"
        }
      ]
    },
    {
      "cell_type": "code",
      "metadata": {
        "id": "x1X_SQCMU-pP",
        "outputId": "be8925fd-c74d-4100-b4fc-b2447ee52eff",
        "colab": {
          "base_uri": "https://localhost:8080/"
        }
      },
      "source": [
        "num_docs_with_too_long_texts = 0\n",
        "max_length = 0\n",
        "\n",
        "\n",
        "for text in npl_txt_list:\n",
        "  num_docs_with_texts += 1\n",
        "  length = len(model.tokenize(text))\n",
        "  if length > 364:\n",
        "    num_docs_with_too_long_texts += 1\n",
        "  if length > max_length:\n",
        "    max_length = length\n",
        "\n",
        "print(f'Total number of documents: {len(npl_txt_list)}\\n',\n",
        "  f'Number of documents with too long \"text\": {num_docs_with_too_long_texts}\\n',\n",
        "  f'Max length of texts in tokens: {max_length}')"
      ],
      "execution_count": 31,
      "outputs": [
        {
          "output_type": "stream",
          "text": [
            "Total number of documents: 11429\n",
            " Number of documents with too long \"text\": 0\n",
            " Max length of texts in tokens: 328\n"
          ],
          "name": "stdout"
        }
      ]
    },
    {
      "cell_type": "markdown",
      "metadata": {
        "id": "e4IbFZrZ5ivZ"
      },
      "source": [
        "**Indexing**"
      ]
    },
    {
      "cell_type": "code",
      "metadata": {
        "id": "VwUiR6q_5ivc",
        "outputId": "b9aee8b3-ada1-4789-c044-8a986d6a129e",
        "colab": {
          "base_uri": "https://localhost:8080/"
        }
      },
      "source": [
        "# Elasticsearch settings, without using Opendistro\n",
        "settings_text = {\n",
        "  \"mappings\": {\n",
        "      \"properties\": {\n",
        "          \"text\": {\n",
        "              \"type\": \"text\"\n",
        "              },\n",
        "          \"text_vector\": {\n",
        "           \"type\": \"dense_vector\",\n",
        "           \"dims\": 768\n",
        "            }\n",
        "    }\n",
        "  }\n",
        "}\n",
        "\n",
        "#create index, see https://elasticsearch-py.readthedocs.io/en/master/api.html#elasticsearch.client.IndicesClient.create\n",
        "npl_index_text = \"bert-text-npl-corpus\"\n",
        "es.indices.delete(index=npl_index_text, ignore=[400, 404])\n",
        "es.indices.create(npl_index_text, body=settings_text)\n",
        "\n",
        "npl_index_text = \"npl-corpus\"\n",
        "es.indices.delete(index=npl_index, ignore=[400, 404])\n",
        "es.indices.create(npl_index)"
      ],
      "execution_count": 32,
      "outputs": [
        {
          "output_type": "execute_result",
          "data": {
            "text/plain": [
              "{'acknowledged': True, 'index': 'npl-corpus', 'shards_acknowledged': True}"
            ]
          },
          "metadata": {
            "tags": []
          },
          "execution_count": 32
        }
      ]
    },
    {
      "cell_type": "code",
      "metadata": {
        "id": "MvMayUPH5ivl"
      },
      "source": [
        "model.eval()\n",
        "#index documents, see https://elasticsearch-py.readthedocs.io/en/master/#example-usage\n",
        "for ID, doc_data in npl_txt_data.items():\n",
        "    es.index(\n",
        "      index=npl_index_text, \n",
        "      id=ID, \n",
        "      body={\n",
        "          'text_vector': model.encode(npl_txt_data[ID]['text']),\n",
        "          'text': npl_txt_data[ID]['text']\n",
        "          }\n",
        "    )\n",
        "    es.index(index=npl_index, id=ID, body=doc_data)\n",
        "#print new index list\n",
        "create_response = es.cat.indices()\n",
        "print(create_response)"
      ],
      "execution_count": null,
      "outputs": []
    },
    {
      "cell_type": "markdown",
      "metadata": {
        "id": "8Lrv5IiMC2ye"
      },
      "source": [
        "### Time Corpus"
      ]
    },
    {
      "cell_type": "markdown",
      "metadata": {
        "id": "9Y2eMD1EC2yg"
      },
      "source": [
        "You can get the corpus from [this link](http://ir.dcs.gla.ac.uk/resources/test_collections/time/).  <br>\n",
        "For detailed information about the format of the files, see the PragmaLingu [ Benchmarks](https://pragmalingu.de/docs/benchmarks/overview)\n",
        "We won't use the NPL corpus for the title part of the experiment, because there aren't any titles to search with."
      ]
    },
    {
      "cell_type": "markdown",
      "metadata": {
        "id": "X6uTwgD31Azk"
      },
      "source": [
        "**Parsing**"
      ]
    },
    {
      "cell_type": "code",
      "metadata": {
        "id": "JHfj2Jzbyd83",
        "outputId": "c46b53fc-65b6-4704-adf3-0856aacac2d1",
        "colab": {
          "base_uri": "https://localhost:8080/"
        }
      },
      "source": [
        "# download and unzip data\n",
        "!wget https://nextcloud.samyateia.de/index.php/s/9z7pMCNwXKCC2bY/download\n",
        "!tar -xf download\n",
        "!rm download\n",
        "\n",
        "# set paths to the dowloaded data as variablesDownload and unzip data.\n",
        "\n",
        "PATH_TO_TIME_TXT = '/content/TIME.ALL'\n",
        "PATH_TO_TIME_QRY = '/content/TIME.QUE'\n",
        "PATH_TO_TIME_REL = '/content/TIME.REL'\n",
        "\n",
        "from collections import defaultdict\n",
        "import re\n",
        "import json\n",
        "from io import StringIO\n",
        "import numpy as np\n",
        "import os\n",
        "\n",
        "time_index = \"time-corpus\"\n",
        "\n",
        "# get the text and query files\n",
        "\n",
        "txt_entry_marker = re.compile('\\*TEXT')\n",
        "qry_entry_marker = re.compile('\\*FIND    ')\n",
        "def get_data(PATH_TO_FILES, marker):\n",
        "  \"\"\"\n",
        "  Reads multiple files and spilts text into entries at the entry marker.\n",
        "  The 'marker' contains the regex at which we want to split\n",
        "  Pops last element since it's empty.\n",
        "  \"\"\"\n",
        "  with open (PATH_TO_FILES,'r') as f:\n",
        "    text = f.read()\n",
        "    lines = re.split(marker,text)\n",
        "    lines.pop(0)\n",
        "  return lines\n",
        "\n",
        "time_txt_list = get_data(PATH_TO_TIME_TXT, txt_entry_marker)\n",
        "time_qry_list = get_data(PATH_TO_TIME_QRY, qry_entry_marker)\n",
        "\n",
        "# process text file\n",
        "\n",
        "page_split = re.compile('PAGE \\d{3}')\n",
        "\n",
        "time_txt_data = defaultdict(dict)\n",
        "ID = 1\n",
        "for entry in time_txt_list:\n",
        "  splitted = re.split(page_split,entry)\n",
        "  time_txt_data[ID]['text'] = splitted[1]\n",
        "  ID += 1\n",
        "  \n",
        "\n",
        "time_qry_data = defaultdict(dict)\n",
        "qry_split = re.compile('\\n\\n ')\n",
        "\n",
        "for query in time_qry_list:\n",
        "  entries = re.split(qry_split,query)\n",
        "  time_qry_data[int(entries[0])]['question'] = entries[1]\n",
        "\n",
        "# process relevance assesments\n",
        "time_rel = defaultdict(list)\n",
        "\n",
        "rel_marker = re.compile('            \\n        ')\n",
        "rel_split = re.compile('\\n')\n",
        "\n",
        "with open (PATH_TO_TIME_REL,'r') as f:\n",
        "  for lines in f:\n",
        "    line = lines.strip().replace('   ',' ').replace('  ',' ').split(' ')\n",
        "    if len(line) > 1:\n",
        "      time_rel[int(line[0])].extend(line[1:])"
      ],
      "execution_count": 34,
      "outputs": [
        {
          "output_type": "stream",
          "text": [
            "--2020-10-20 07:35:18--  https://nextcloud.samyateia.de/index.php/s/9z7pMCNwXKCC2bY/download\n",
            "Resolving nextcloud.samyateia.de (nextcloud.samyateia.de)... 194.55.14.32\n",
            "Connecting to nextcloud.samyateia.de (nextcloud.samyateia.de)|194.55.14.32|:443... connected.\n",
            "HTTP request sent, awaiting response... 200 OK\n",
            "Length: 1568768 (1.5M) [application/x-gzip]\n",
            "Saving to: ‘download’\n",
            "\n",
            "download            100%[===================>]   1.50M   974KB/s    in 1.6s    \n",
            "\n",
            "2020-10-20 07:35:21 (974 KB/s) - ‘download’ saved [1568768/1568768]\n",
            "\n"
          ],
          "name": "stdout"
        }
      ]
    },
    {
      "cell_type": "code",
      "metadata": {
        "id": "IkvBj6_8VMOE",
        "outputId": "edb87eb0-a212-49a9-c5a0-77248e7831e5",
        "colab": {
          "base_uri": "https://localhost:8080/"
        }
      },
      "source": [
        "num_docs_with_too_long_texts = 0\n",
        "max_length = 0\n",
        "\n",
        "\n",
        "for text in time_txt_list:\n",
        "  num_docs_with_texts += 1\n",
        "  length = len(model.tokenize(text))\n",
        "  if length > 364:\n",
        "    num_docs_with_too_long_texts += 1\n",
        "  if length > max_length:\n",
        "    max_length = length\n",
        "\n",
        "print(f'Total number of documents: {len(time_txt_list)}\\n',\n",
        "  f'Number of documents with too long \"text\": {num_docs_with_too_long_texts}\\n',\n",
        "  f'Max length of texts in tokens: {max_length}')"
      ],
      "execution_count": 35,
      "outputs": [
        {
          "output_type": "stream",
          "text": [
            "Total number of documents: 423\n",
            " Number of documents with too long \"text\": 352\n",
            " Max length of texts in tokens: 6442\n"
          ],
          "name": "stdout"
        }
      ]
    },
    {
      "cell_type": "markdown",
      "metadata": {
        "id": "dAk3A0Kq7gBN"
      },
      "source": [
        "**Indexing**"
      ]
    },
    {
      "cell_type": "code",
      "metadata": {
        "id": "BKa-E6pV7gBS",
        "outputId": "f8e38f2d-8a5f-48a5-aad0-d70d3ea1d553",
        "colab": {
          "base_uri": "https://localhost:8080/"
        }
      },
      "source": [
        "# Elasticsearch settings, without using Opendistro\n",
        "settings_text = {\n",
        "  \"mappings\": {\n",
        "      \"properties\": {\n",
        "          \"text\": {\n",
        "              \"type\": \"text\"\n",
        "              },\n",
        "          \"text_vector\": {\n",
        "           \"type\": \"dense_vector\",\n",
        "           \"dims\": 768\n",
        "            }\n",
        "    }\n",
        "  }\n",
        "}\n",
        "\n",
        "#create index, see https://elasticsearch-py.readthedocs.io/en/master/api.html#elasticsearch.client.IndicesClient.create\n",
        "time_index_text = \"bert-text-time-corpus\"\n",
        "es.indices.delete(index=time_index_text, ignore=[400, 404])\n",
        "es.indices.create(time_index_text, body=settings_text)\n",
        "\n",
        "time_index = \"time-corpus\"\n",
        "es.indices.delete(index=time_index, ignore=[400, 404])\n",
        "es.indices.create(time_index)"
      ],
      "execution_count": 36,
      "outputs": [
        {
          "output_type": "execute_result",
          "data": {
            "text/plain": [
              "{'acknowledged': True, 'index': 'time-corpus', 'shards_acknowledged': True}"
            ]
          },
          "metadata": {
            "tags": []
          },
          "execution_count": 36
        }
      ]
    },
    {
      "cell_type": "code",
      "metadata": {
        "id": "oqcH0MnP7gBc",
        "outputId": "39f4d9d7-c22f-4ce3-fa2b-207ee06952ea",
        "colab": {
          "base_uri": "https://localhost:8080/"
        }
      },
      "source": [
        "model.eval()\n",
        "#index documents, see https://elasticsearch-py.readthedocs.io/en/master/#example-usage\n",
        "for ID, doc_data in time_txt_data.items():\n",
        "    es.index(\n",
        "      index=time_index_text, \n",
        "      id=ID, \n",
        "      body={\n",
        "          'text_vector': model.encode(time_txt_data[ID]['text']),\n",
        "          'text': time_txt_data[ID]['text']\n",
        "          }\n",
        "    )\n",
        "    es.index(index=time_index, id=ID, body=doc_data)\n",
        "#print new index list\n",
        "create_response = es.cat.indices()\n",
        "print(create_response)"
      ],
      "execution_count": 37,
      "outputs": [
        {
          "output_type": "stream",
          "text": [
            "yellow open bert-text-npl-corpus        HugJkR3XRr-UBJSvLWalwQ 1 1     0     0    208b    208b\n",
            "yellow open bert-title-lisa-corpus      _Zk-W3jyQYWkBuJYyNcsFQ 1 1  6000     0    87mb    87mb\n",
            "yellow open bert-title-adi-corpus       5NZ2feyNSJi5YaK8faWcAw 1 1    82     2   1.2mb   1.2mb\n",
            "yellow open cranfield-corpus            HZho7vQUTc6-mkyEkcGlxw 1 1  1400     0   1.8mb   1.8mb\n",
            "yellow open bert-title-cranfield-corpus l5stGz_nRf6FaIaqtp57Cg 1 1  1400     0  20.1mb  20.1mb\n",
            "yellow open bert-text-lisa-corpus       q2NXPH0kTLaaTQiBq0JGSA 1 1  6000     0  90.3mb  90.3mb\n",
            "yellow open bert-text-adi-corpus        cfu0A2CbQZyn0rZIbuMZpQ 1 1    82     2   1.2mb   1.2mb\n",
            "yellow open adi-corpus                  Dbi2R6rsSkmzIUVuMzYpmw 1 1    82     0  77.9kb  77.9kb\n",
            "yellow open medline-corpus              TfAePKE6QYmR5BnSAY4JFw 1 1  1032     0   1.1mb   1.1mb\n",
            "yellow open lisa-corpus                 al5RAQAJTW-bT3aeZtct5w 1 1  6000     0   4.6mb   4.6mb\n",
            "yellow open bert-title-cacm-corpus      GGdRLigNQT27iy5C_BlQuA 1 1  3204     0  46.3mb  46.3mb\n",
            "yellow open bert-title-cisi-corpus      lFEamdwTTnytbV7Di-1fpA 1 1  1460     0  21.1mb  21.1mb\n",
            "yellow open npl-corpus                  XSzB-QLKRPSdWaucqkNYAg 1 1 11155 11155 206.9mb 206.9mb\n",
            "yellow open bert-text-medline-corpus    OE2yTVONRQqxOXpHiDrndw 1 1     1     0  22.2kb  22.2kb\n",
            "yellow open bert-text-cranfield-corpus  6Lt51krIRYGs139LCm8iXQ 1 1  1400     0  21.9mb  21.9mb\n",
            "yellow open cacm-corpus                 68btxa2bS8u1yc6-N4vpeQ 1 1  3204     0   4.2mb   4.2mb\n",
            "yellow open bert-text-cacm-corpus       sAYHNVBzQAiR-5TH5VgFuQ 1 1  3204     0  36.6mb  36.6mb\n",
            "yellow open bert-text-time-corpus       jSqoK30QSKm38ma-mfkAzg 1 1   298     0  11.5mb  11.5mb\n",
            "yellow open cisi-corpus                 b2cAuIqIQfi0eunWGgBQow 1 1  1460     0   2.5mb   2.5mb\n",
            "yellow open bert-text-cisi-corpus       VtQ_Sx0iScu_HthPi-3L-w 1 1  1460     0  22.5mb  22.5mb\n",
            "yellow open time-corpus                 qc7eaXc_TMmvFPoZOaD8dQ 1 1   299     0   2.6mb   2.6mb\n",
            "\n"
          ],
          "name": "stdout"
        }
      ]
    },
    {
      "cell_type": "markdown",
      "metadata": {
        "id": "-xNf8E2oSYOT"
      },
      "source": [
        "## Evaluation"
      ]
    },
    {
      "cell_type": "markdown",
      "metadata": {
        "id": "CemuLaUAMHKP"
      },
      "source": [
        "### Recall\n",
        "\n",
        "In this section we only evaluate the Recall scores."
      ]
    },
    {
      "cell_type": "markdown",
      "metadata": {
        "id": "u71ZvdbWMkIe"
      },
      "source": [
        "**Multi Match Query**\n",
        "\n",
        "Here we evaluate the data with the [\"multi_match\"](https://pragmalingu.de/docs/experiments/experiment1#standard-elasticsearch) option of elastic search:"
      ]
    },
    {
      "cell_type": "code",
      "metadata": {
        "id": "pn_g9h7xMkIi"
      },
      "source": [
        "#use rank eval api, see https://elasticsearch-py.readthedocs.io/en/master/api.html?highlight=_rank_eval#elasticsearch.Elasticsearch.rank_eval \n",
        "#and https://www.elastic.co/guide/en/elasticsearch/reference/current/query-dsl-simple-query-string-query.html \n",
        "\n",
        "import json\n",
        "from collections import defaultdict\n",
        "\n",
        "adi_index = 'adi-corpus'\n",
        "cacm_index = 'cacm-corpus'\n",
        "cisi_index = 'cisi-corpus'\n",
        "cran_index = 'cranfield-corpus'\n",
        "lisa_index = 'lisa-corpus'\n",
        "med_index = 'medline-corpus'\n",
        "npl_index = 'npl-corpus'\n",
        "time_index = 'time-corpus'\n",
        "\n",
        "#function to get normal match evaluation body \n",
        "def create_query_body_match_recall(query_dict, rel_dict, index_name):\n",
        "  \"\"\"\n",
        "  The function creates a request for every query in query_dict and rates the relevant documents with rel_dict to 1.\n",
        "  The index name has to be the same as from the documents your looking at.\n",
        "  An evaluation body for the elasticsearch ranking API is returned.\n",
        "  \"\"\"\n",
        "  eval_body = {\n",
        "      \"requests\": '',\n",
        "      \"metric\": {\n",
        "          \"recall\": {\n",
        "              \"relevant_rating_threshold\": 1,\n",
        "              \"k\": 20\n",
        "              }\n",
        "      }\n",
        "  }\n",
        "  requests = [] \n",
        "  current_request = defaultdict(lambda: defaultdict())\n",
        "  current_rel = {\"_index\": index_name, \"_id\": '', \"rating\": int}\n",
        "  for query_ID, query_txt in query_dict.items():\n",
        "    current_query = {\"query\": { \"multi_match\": { \"query\": '' , \"fields\" : [\"title\",\"text\"]}}}\n",
        "    current_query[\"query\"][\"multi_match\"][\"query\"] = query_txt['question']\n",
        "    current_request[\"id\"] = 'Query_'+str(query_ID)\n",
        "    current_request[\"request\"] = current_query.copy()\n",
        "    current_request[\"ratings\"] = [{\"_index\": index_name, \"_id\": str(el), \"rating\": 1} for el in rel_dict[query_ID]]\n",
        "    requests.append(current_request.copy())\n",
        "  eval_body[\"requests\"] = requests\n",
        "  return eval_body\n",
        "\n",
        "\n",
        "#ADI\n",
        "adi_create_match_recall = create_query_body_match_recall(adi_qry_data, adi_rel, adi_index)\n",
        "adi_eval_body_match_recall = json.dumps(adi_create_match_recall)\n",
        "adi_res_match_recall = es.rank_eval(adi_eval_body_match_recall, adi_index)\n",
        "#print(json.dumps(adi_res_match_recall, indent=4, sort_keys=True))\n",
        "\n",
        "#CACM\n",
        "cacm_create_match_recall = create_query_body_match_recall(cacm_qry_data, cacm_rel, cacm_index)\n",
        "cacm_eval_body_match_recall = json.dumps(cacm_create_match_recall)\n",
        "cacm_res_match_recall = es.rank_eval(cacm_eval_body_match_recall,cacm_index)\n",
        "#print(json.dumps(cacm_res_match_recall, indent=4, sort_keys=True))\n",
        "\n",
        "#CISI\n",
        "cisi_create_match_recall = create_query_body_match_recall(cisi_qry_data, cisi_rel, cisi_index)\n",
        "cisi_eval_body_match_recall = json.dumps(cisi_create_match_recall)\n",
        "cisi_res_match_recall = es.rank_eval(cisi_eval_body_match_recall, cisi_index)\n",
        "#print(json.dumps(cisi_res_match_recall, indent=4, sort_keys=True))\n",
        "\n",
        "#Cranfield\n",
        "cran_create_match_recall = create_query_body_match_recall(cran_qry_data, cran_rel, cran_index)\n",
        "cran_eval_body_match_recall = json.dumps(cran_create_match_recall)\n",
        "cran_res_match_recall = es.rank_eval(cran_eval_body_match_recall, cran_index)\n",
        "#print(json.dumps(cran_create_match_recall, indent=4, sort_keys=True))\n",
        "\n",
        "#LISA\n",
        "lisa_create_match_recall = create_query_body_match_recall(lisa_qry_data, lisa_rel, lisa_index)\n",
        "lisa_eval_body_match_recall = json.dumps(lisa_create_match_recall)\n",
        "lisa_res_match_recall = es.rank_eval(lisa_eval_body_match_recall,lisa_index)\n",
        "#print(json.dumps(lisa_res_match_recall, indent=4, sort_keys=True))\n",
        "\n",
        "#Medline\n",
        "med_create_match_recall = create_query_body_match_recall(med_qry_data, med_rel, med_index)\n",
        "med_eval_body_match_recall = json.dumps(med_create_match_recall)\n",
        "med_res_match_recall = es.rank_eval(med_eval_body_match_recall, med_index)\n",
        "#print(json.dumps(med_res_match_recall, indent=4, sort_keys=True))\n",
        "\n",
        "#NPL\n",
        "npl_create_match_recall = create_query_body_match_recall(npl_qry_data, npl_rel, npl_index)\n",
        "npl_eval_body_match_recall = json.dumps(npl_create_match_recall)\n",
        "npl_res_match_recall = es.rank_eval(npl_eval_body_match_recall,npl_index)\n",
        "#print(json.dumps(npl_res_match_recall, indent=4, sort_keys=True))\n",
        "\n",
        "#TIME\n",
        "time_create_match_recall = create_query_body_match_recall(time_qry_data, time_rel, time_index)\n",
        "time_eval_body_match_recall = json.dumps(time_create_match_recall)\n",
        "time_res_match_recall = es.rank_eval(time_eval_body_match_recall,time_index)\n",
        "#print(json.dumps(time_res_match_recall, indent=4, sort_keys=True))"
      ],
      "execution_count": 128,
      "outputs": []
    },
    {
      "cell_type": "markdown",
      "metadata": {
        "id": "NtYZw0nXnmNd"
      },
      "source": [
        "**BERT Transformer on 'text' field**"
      ]
    },
    {
      "cell_type": "code",
      "metadata": {
        "id": "BJGIESLqMmFv",
        "outputId": "33fd3322-4646-4b6b-a9ff-0ccb285c245f",
        "colab": {
          "base_uri": "https://localhost:8080/"
        }
      },
      "source": [
        "#use rank eval api, see https://elasticsearch-py.readthedocs.io/en/master/api.html?highlight=_rank_eval#elasticsearch.Elasticsearch.rank_eval \n",
        "#and https://www.elastic.co/guide/en/elasticsearch/reference/current/search-rank-eval.html#search-rank-eval\n",
        "\n",
        "from collections import defaultdict\n",
        "\n",
        "adi_index = 'bert-text-adi-corpus'\n",
        "cacm_index = 'bert-text-cacm-corpus'\n",
        "cisi_index = 'bert-text-cisi-corpus'\n",
        "cran_index = 'bert-text-cranfield-corpus'\n",
        "lisa_index = 'bert-text-lisa-corpus'\n",
        "med_index = 'bert-text-medline-corpus'\n",
        "npl_index = 'bert-text-npl-corpus'\n",
        "time_index = 'bert-text-time-corpus'\n",
        "\n",
        "# function to get normal match evaluation body \n",
        "\n",
        "def create_query_body_bert_text_recall(query_dict, rel_dict, index_name):\n",
        "  \"\"\"\n",
        "  The function creates a request for every query in query_dict and rates the relevant documents with rel_dict to 1.\n",
        "  The index name has to be the same as from the documents your looking at.\n",
        "  An evaluation body for the elasticsearch ranking API is returned.\n",
        "  \"\"\"\n",
        "  eval_body = {\n",
        "      \"requests\":'',\n",
        "      \"metric\": {\n",
        "          \"recall\": {\n",
        "            \"k\" : 20,\n",
        "            \"relevant_rating_threshold\": 1,\n",
        "            #\"ignore_unlabeled\": \"false\"\n",
        "            }\n",
        "      }\n",
        "  }\n",
        "  requests = [] \n",
        "  current_request = defaultdict(lambda: defaultdict())\n",
        "  current_rel = {\"_index\": index_name, \"_id\": '', \"rating\": int}\n",
        "  for query_ID, query_txt in query_dict.items():\n",
        "    current_query = {\n",
        "        \"query\" : {\n",
        "  \"script_score\": {\n",
        "    \"query\": {\"match_all\": {}},\n",
        "    \"script\": {\n",
        "      \"source\": \"cosineSimilarity(params.query_vector, doc['text_vector']) + 1.0\",\n",
        "      \"params\": {\"query_vector\": list(model.encode(query_txt['question']).astype(float))}\n",
        "    }\n",
        "  }\n",
        "  }\n",
        "    }\n",
        "    current_request[\"id\"] = 'Query_'+str(query_ID)\n",
        "    current_request[\"request\"] = current_query.copy()\n",
        "    current_request[\"ratings\"] = [{\n",
        "          \"_index\": index_name, \n",
        "          \"_id\": str(el) if type(el) != tuple else str(el[0]), \n",
        "          \"rating\": 1} for el in rel_dict[query_ID]]\n",
        "    requests.append(current_request.copy())\n",
        "  eval_body[\"requests\"] = requests\n",
        "  return eval_body\n",
        "\n",
        "\n",
        "# ADI\n",
        "\n",
        "adi_create_bert_text_recall = create_query_body_bert_text_recall(adi_qry_data, adi_rel, adi_index)\n",
        "adi_eval_body_bert_text_recall = json.dumps(adi_create_bert_text_recall)\n",
        "adi_res_bert_text_recall = es.rank_eval(adi_eval_body_bert_text_recall, adi_index)\n",
        "#print(json.dumps(adi_res, indent=4, sort_keys=True))\n",
        "\n",
        "# CACM\n",
        "\n",
        "cacm_create_bert_text_recall = create_query_body_bert_text_recall(cacm_qry_data, cacm_rel, cacm_index)\n",
        "cacm_eval_body_bert_text_recall = json.dumps(cacm_create_bert_text_recall)\n",
        "cacm_res_bert_text_recall = es.rank_eval(cacm_eval_body_bert_text_recall, cacm_index)\n",
        "#print(json.dumps(cacm_res_bert_text_recall, indent=4, sort_keys=True))\n",
        "\n",
        "# CISI\n",
        "\n",
        "cisi_create_bert_text_recall = create_query_body_bert_text_recall(cisi_qry_data, cisi_rel, cisi_index)\n",
        "cisi_eval_body_bert_text_recall = json.dumps(cisi_create_bert_text_recall)\n",
        "cisi_res_bert_text_recall = es.rank_eval(cisi_eval_body_bert_text_recall, cisi_index)\n",
        "#print(json.dumps(cisi_res, indent=4, sort_keys=True))\n",
        "\n",
        "# Cranfield\n",
        "\n",
        "cran_create_bert_text_recall = create_query_body_bert_text_recall(cran_qry_data, cran_rel, cran_index)\n",
        "cran_eval_body_bert_text_recall = json.dumps(cran_create_bert_text_recall)\n",
        "cran_res_bert_text_recall = es.rank_eval(cran_eval_body_bert_text_recall, cran_index)\n",
        "#print(json.dumps(cran_res, indent=4, sort_keys=True))\n",
        "\n",
        "# LISA\n",
        "\n",
        "lisa_create_bert_text_recall = create_query_body_bert_text_recall(lisa_qry_data, lisa_rel, lisa_index)\n",
        "lisa_eval_body_bert_text_recall = json.dumps(lisa_create_bert_text_recall)\n",
        "lisa_res_bert_text_recall = es.rank_eval(lisa_eval_body_bert_text_recall, lisa_index)\n",
        "#print(json.dumps(lisa_res, indent=4, sort_keys=True))\n",
        "\n",
        "# Medline\n",
        "\n",
        "med_create_bert_text_recall = create_query_body_bert_text_recall(med_qry_data, med_rel, med_index)\n",
        "med_eval_body_bert_text_recall = json.dumps(med_create_bert_text_recall)\n",
        "med_res_bert_text_recall = es.rank_eval(med_eval_body_bert_text_recall, med_index)\n",
        "#print(json.dumps(med_res_bert_text_recall, indent=4, sort_keys=True))\n",
        "\n",
        "# NPL\n",
        "\n",
        "npl_create_bert_text_recall = create_query_body_bert_text_recall(npl_qry_data, npl_rel, npl_index)\n",
        "npl_eval_body_bert_text_recall = json.dumps(npl_create_bert_text_recall)\n",
        "npl_res_bert_text_recall = es.rank_eval(npl_eval_body_bert_text_recall, npl_index)\n",
        "#print(json.dumps(npl_create_bert_text_recall, indent=4, sort_keys=True))\n",
        "\n",
        "# Time\n",
        "\n",
        "time_create_bert_text_recall = create_query_body_bert_text_recall(time_qry_data, time_rel, time_index)\n",
        "time_eval_body_bert_text_recall = json.dumps(time_create_bert_text_recall)\n",
        "time_res_bert_text_recall = es.rank_eval(time_eval_body_bert_text_recall, time_index)\n",
        "#print(json.dumps(time_res, indent=4, sort_keys=True))"
      ],
      "execution_count": 129,
      "outputs": [
        {
          "output_type": "stream",
          "text": [
            "/usr/local/lib/python3.6/dist-packages/elasticsearch/connection/base.py:190: ElasticsearchDeprecationWarning: The vector functions of the form function(query, doc['field']) are deprecated, and the form function(query, 'field') should be used instead. For example, cosineSimilarity(query, doc['field']) is replaced by cosineSimilarity(query, 'field').\n",
            "  warnings.warn(message, category=ElasticsearchDeprecationWarning)\n"
          ],
          "name": "stderr"
        }
      ]
    },
    {
      "cell_type": "markdown",
      "metadata": {
        "id": "keSi-TDWnxmF"
      },
      "source": [
        "**BERT Transformer on 'text' and 'title' field**"
      ]
    },
    {
      "cell_type": "code",
      "metadata": {
        "id": "Vijm2d9Uwou2",
        "outputId": "d881c126-d32c-4b43-b3e9-4281d12590c5",
        "colab": {
          "base_uri": "https://localhost:8080/"
        }
      },
      "source": [
        "#use rank eval api, see https://elasticsearch-py.readthedocs.io/en/master/api.html?highlight=_rank_eval#elasticsearch.Elasticsearch.rank_eval \n",
        "#and https://www.elastic.co/guide/en/elasticsearch/reference/current/search-rank-eval.html#search-rank-eval\n",
        "\n",
        "from collections import defaultdict\n",
        "\n",
        "adi_index = 'bert-title-adi-corpus'\n",
        "cacm_index = 'bert-title-cacm-corpus'\n",
        "cisi_index = 'bert-title-cisi-corpus'\n",
        "cran_index = 'bert-title-cranfield-corpus'\n",
        "lisa_index = 'bert-title-lisa-corpus'\n",
        "# Medline, NPL and Time corpus are excluded because they don't have any titles\n",
        "#med_index = 'bert-title-medline-corpus'\n",
        "#npl_index = 'bert-title-npl-corpus'\n",
        "#time_index = 'bert-title-time-corpus'\n",
        "\n",
        "# function to get normal match evaluation body \n",
        "\n",
        "def create_query_body_bert_title_recall(query_dict, rel_dict, index_name):\n",
        "  \"\"\"\n",
        "  The function creates a request for every query in query_dict and rates the relevant documents with rel_dict to 1.\n",
        "  The index name has to be the same as from the documents your looking at.\n",
        "  An evaluation body for the elasticsearch ranking API is returned.\n",
        "  \"\"\"\n",
        "  eval_body = {\n",
        "      \"requests\":'',\n",
        "      \"metric\": {\n",
        "          \"recall\": {\n",
        "          \"k\" : 20,\n",
        "          \"relevant_rating_threshold\": 1,\n",
        "          #\"ignore_unlabeled\": \"false\"\n",
        "          }\n",
        "         }\n",
        "      }\n",
        "  requests = [] \n",
        "  current_request = defaultdict(lambda: defaultdict())\n",
        "  current_rel = {\"_index\": index_name, \"_id\": '', \"rating\": int}\n",
        "  for query_ID, query_txt in query_dict.items():\n",
        "    current_query = {\n",
        "        \"query\" : {\n",
        "  \"script_score\": {\n",
        "    \"query\": {\"match_all\": {}},\n",
        "    \"script\": {\n",
        "      \"source\": \"cosineSimilarity(params.query_vector, doc['title_vector']) + 1.0\",\n",
        "      \"params\": {\"query_vector\": list(model.encode(query_txt['question']).astype(float))}\n",
        "    }\n",
        "  }\n",
        "  }\n",
        "    }\n",
        "    current_request[\"id\"] = 'Query_'+str(query_ID)\n",
        "    current_request[\"request\"] = current_query.copy()\n",
        "    current_request[\"ratings\"] = [{\n",
        "          \"_index\": index_name, \n",
        "          \"_id\": str(el) if type(el) != tuple else str(el[0]), \n",
        "          \"rating\": 1} for el in rel_dict[query_ID]]\n",
        "    requests.append(current_request.copy())\n",
        "  eval_body[\"requests\"] = requests\n",
        "  return eval_body\n",
        "\n",
        "\n",
        "# ADI\n",
        "\n",
        "adi_create_bert_title_recall = create_query_body_bert_title_recall(adi_qry_data, adi_rel, adi_index)\n",
        "adi_eval_body_bert_title_recall = json.dumps(adi_create_bert_title_recall)\n",
        "adi_res_bert_title_recall = es.rank_eval(adi_eval_body_bert_title_recall, adi_index)\n",
        "#print(json.dumps(adi_res_bert_title_recall, indent=4, sort_keys=True))\n",
        "\n",
        "# CACM\n",
        "\n",
        "cacm_create_bert_title_recall = create_query_body_bert_title_recall(cacm_qry_data, cacm_rel, cacm_index)\n",
        "cacm_eval_body_bert_title_recall = json.dumps(cacm_create_bert_title_recall)\n",
        "cacm_res_bert_title_recall = es.rank_eval(cacm_eval_body_bert_title_recall, cacm_index)\n",
        "#print(json.dumps(cacm_res_bert_title_recall, indent=4, sort_keys=True))\n",
        "\n",
        "# CISI\n",
        "\n",
        "cisi_create_bert_title_recall = create_query_body_bert_title_recall(cisi_qry_data, cisi_rel, cisi_index)\n",
        "cisi_eval_body_bert_title_recall = json.dumps(cisi_create_bert_title_recall)\n",
        "cisi_res_bert_title_recall = es.rank_eval(cisi_eval_body_bert_title_recall, cisi_index)\n",
        "#print(json.dumps(cisi_res_bert_title_recall, indent=4, sort_keys=True))\n",
        "\n",
        "# Cranfield\n",
        "\n",
        "cran_create_bert_title_recall = create_query_body_bert_title_recall(cran_qry_data, cran_rel, cran_index)\n",
        "cran_eval_body_bert_title_recall = json.dumps(cran_create_bert_title_recall)\n",
        "cran_res_bert_title_recall = es.rank_eval(cran_eval_body_bert_title_recall, cran_index)\n",
        "#print(json.dumps(cran_res_bert_title_recall, indent=4, sort_keys=True))\n",
        "\n",
        "# LISA\n",
        "\n",
        "lisa_create_bert_title_recall = create_query_body_bert_title_recall(lisa_qry_data, lisa_rel, lisa_index)\n",
        "lisa_eval_body_bert_title_recall = json.dumps(lisa_create_bert_title_recall)\n",
        "lisa_res_bert_title_recall = es.rank_eval(lisa_eval_body_bert_title_recall, lisa_index)\n",
        "#print(json.dumps(lisa_res_bert_title_recall, indent=4, sort_keys=True))\n",
        "\n",
        "# Medline\n",
        "\n",
        "#med_create_bert_title_recall = create_query_body_bert_title_recall(med_qry_data, med_rel, med_index)\n",
        "#med_eval_body_bert_title_recall = json.dumps(med_create_bert_title_recall)\n",
        "#med_res_bert_title_recall = es.rank_eval(med_eval_body_bert_title_recall, med_index)\n",
        "#print(json.dumps(med_res_bert_title_recall, indent=4, sort_keys=True))\n",
        "\n",
        "# NPL\n",
        "\n",
        "#npl_create_bert_title_recall = create_query_body_bert_title_recall(npl_qry_data, npl_rel, npl_index)\n",
        "#npl_eval_body_bert_title_recall = json.dumps(npl_create_bert_title_recall)\n",
        "#npl_res_bert_title_recall = es.rank_eval(npl_eval_body_bert_title_recall, npl_index)\n",
        "#print(json.dumps(npl_res_bert_title_recall, indent=4, sort_keys=True))\n",
        "\n",
        "# Time\n",
        "\n",
        "#time_create_bert_title_recall = create_query_body_bert_title_recall(time_qry_data, time_rel, time_index)\n",
        "#time_eval_body_bert_title_recall = json.dumps(time_create_bert_title_recall)\n",
        "#time_res_bert_title_recall = es.rank_eval(time_eval_body_bert_title_recall, time_index)\n",
        "#print(json.dumps(time_res_bert_title_recall, indent=4, sort_keys=True))"
      ],
      "execution_count": 130,
      "outputs": [
        {
          "output_type": "stream",
          "text": [
            "/usr/local/lib/python3.6/dist-packages/elasticsearch/connection/base.py:190: ElasticsearchDeprecationWarning: The vector functions of the form function(query, doc['field']) are deprecated, and the form function(query, 'field') should be used instead. For example, cosineSimilarity(query, doc['field']) is replaced by cosineSimilarity(query, 'field').\n",
            "  warnings.warn(message, category=ElasticsearchDeprecationWarning)\n"
          ],
          "name": "stderr"
        }
      ]
    },
    {
      "cell_type": "markdown",
      "metadata": {
        "id": "kuHz0wJvFBzW"
      },
      "source": [
        "### Precision\n",
        "\n",
        "In this section we only evaluate the Precision scores."
      ]
    },
    {
      "cell_type": "markdown",
      "metadata": {
        "id": "tfC6EgJdFBza"
      },
      "source": [
        "**Multi Match Query**\n",
        "\n",
        "Here we evaluate the data with the [\"multi_match\"](https://pragmalingu.de/docs/experiments/experiment1#standard-elasticsearch) option of elastic search:"
      ]
    },
    {
      "cell_type": "code",
      "metadata": {
        "id": "8dvtBA_NFBzc"
      },
      "source": [
        "#use rank eval api, see https://elasticsearch-py.readthedocs.io/en/master/api.html?highlight=_rank_eval#elasticsearch.Elasticsearch.rank_eval \n",
        "#and https://www.elastic.co/guide/en/elasticsearch/reference/current/query-dsl-simple-query-string-query.html \n",
        "\n",
        "import json\n",
        "from collections import defaultdict\n",
        "\n",
        "adi_index = 'adi-corpus'\n",
        "cacm_index = 'cacm-corpus'\n",
        "cisi_index = 'cisi-corpus'\n",
        "cran_index = 'cranfield-corpus'\n",
        "lisa_index = 'lisa-corpus'\n",
        "med_index = 'medline-corpus'\n",
        "npl_index = 'npl-corpus'\n",
        "time_index = 'time-corpus'\n",
        "\n",
        "#function to get normal match evaluation body \n",
        "def create_query_body_match_precision(query_dict, rel_dict, index_name):\n",
        "  \"\"\"\n",
        "  The function creates a request for every query in query_dict and rates the relevant documents with rel_dict to 1.\n",
        "  The index name has to be the same as from the documents your looking at.\n",
        "  An evaluation body for the elasticsearch ranking API is returned.\n",
        "  \"\"\"\n",
        "  eval_body = {\n",
        "      \"requests\": '',\n",
        "      \"metric\": {\n",
        "          \"precision\": {\n",
        "              \"relevant_rating_threshold\": 1,\n",
        "              \"k\": 20\n",
        "              }\n",
        "      }\n",
        "  }\n",
        "  requests = [] \n",
        "  current_request = defaultdict(lambda: defaultdict())\n",
        "  current_rel = {\"_index\": index_name, \"_id\": '', \"rating\": int}\n",
        "  for query_ID, query_txt in query_dict.items():\n",
        "    current_query = {\"query\": { \"multi_match\": { \"query\": '' , \"fields\" : [\"title\",\"text\"]}}}\n",
        "    current_query[\"query\"][\"multi_match\"][\"query\"] = query_txt['question']\n",
        "    current_request[\"id\"] = 'Query_'+str(query_ID)\n",
        "    current_request[\"request\"] = current_query.copy()\n",
        "    current_request[\"ratings\"] = [{\"_index\": index_name, \"_id\": str(el), \"rating\": 1} for el in rel_dict[query_ID]]\n",
        "    requests.append(current_request.copy())\n",
        "  eval_body[\"requests\"] = requests\n",
        "  return eval_body\n",
        "\n",
        "\n",
        "#ADI\n",
        "adi_create_match_precision= create_query_body_match_precision(adi_qry_data, adi_rel, adi_index)\n",
        "adi_eval_body_match_precision = json.dumps(adi_create_match_precision)\n",
        "adi_res_match_precision = es.rank_eval(adi_eval_body_match_precision, adi_index)\n",
        "#print(json.dumps(adi_res_match_precision, indent=4, sort_keys=True))\n",
        "\n",
        "#CACM\n",
        "cacm_create_match_precision = create_query_body_match_precision(cacm_qry_data, cacm_rel, cacm_index)\n",
        "cacm_eval_body_match_precision = json.dumps(cacm_create_match_precision)\n",
        "cacm_res_match_precision = es.rank_eval(cacm_eval_body_match_precision,cacm_index)\n",
        "#print(json.dumps(cacm_res_match_precision, indent=4, sort_keys=True))\n",
        "\n",
        "#CISI\n",
        "cisi_create_match_precision = create_query_body_match_precision(cisi_qry_data, cisi_rel, cisi_index)\n",
        "cisi_eval_body_match_precision = json.dumps(cisi_create_match_precision)\n",
        "cisi_res_match_precision = es.rank_eval(cisi_eval_body_match_precision, cisi_index)\n",
        "#print(json.dumps(cisi_res_match_precision, indent=4, sort_keys=True))\n",
        "\n",
        "#Cranfield\n",
        "cran_create_match_precision = create_query_body_match_precision(cran_qry_data, cran_rel, cran_index)\n",
        "cran_eval_body_match_precision = json.dumps(cran_create_match_precision)\n",
        "cran_res_match_precision = es.rank_eval(cran_eval_body_match_precision, cran_index)\n",
        "#print(json.dumps(cran_res_match_precision, indent=4, sort_keys=True))\n",
        "\n",
        "#LISA\n",
        "lisa_create_match_precision = create_query_body_match_precision(lisa_qry_data, lisa_rel, lisa_index)\n",
        "lisa_eval_body_match_precision = json.dumps(lisa_create_match_precision)\n",
        "lisa_res_match_precision = es.rank_eval(lisa_eval_body_match_precision,lisa_index)\n",
        "#print(json.dumps(lisa_res_match_precision, indent=4, sort_keys=True))\n",
        "\n",
        "#Medline\n",
        "med_create_match_precision = create_query_body_match_precision(med_qry_data, med_rel, med_index)\n",
        "med_eval_body_match_precision = json.dumps(med_create_match_precision)\n",
        "med_res_match_precision = es.rank_eval(med_eval_body_match_precision, med_index)\n",
        "#print(json.dumps(med_res_match_precision, indent=4, sort_keys=True))\n",
        "\n",
        "#NPL\n",
        "npl_create_match_precision = create_query_body_match_precision(npl_qry_data, npl_rel, npl_index)\n",
        "npl_eval_body_match_precision = json.dumps(npl_create_match_precision)\n",
        "npl_res_match_precision = es.rank_eval(npl_eval_body_match_precision,npl_index)\n",
        "#print(json.dumps(npl_res_match_precision, indent=4, sort_keys=True))\n",
        "\n",
        "#TIME\n",
        "time_create_match_precision = create_query_body_match_precision(time_qry_data, time_rel, time_index)\n",
        "time_eval_body_match_precision = json.dumps(time_create_match_precision)\n",
        "time_res_match_precision = es.rank_eval(time_eval_body_match_precision,time_index)\n",
        "#print(json.dumps(time_res_match_precision, indent=4, sort_keys=True))"
      ],
      "execution_count": 131,
      "outputs": []
    },
    {
      "cell_type": "markdown",
      "metadata": {
        "id": "VBEtm3W_FBzj"
      },
      "source": [
        "**BERT Transformer on 'text' field**"
      ]
    },
    {
      "cell_type": "code",
      "metadata": {
        "id": "2sTzK1e2FBzk",
        "outputId": "e1d93115-2b9d-4936-e5a0-1cde6fb23c52",
        "colab": {
          "base_uri": "https://localhost:8080/"
        }
      },
      "source": [
        "#use rank eval api, see https://elasticsearch-py.readthedocs.io/en/master/api.html?highlight=_rank_eval#elasticsearch.Elasticsearch.rank_eval \n",
        "#and https://www.elastic.co/guide/en/elasticsearch/reference/current/search-rank-eval.html#search-rank-eval\n",
        "\n",
        "from collections import defaultdict\n",
        "\n",
        "adi_index = 'bert-text-adi-corpus'\n",
        "cacm_index = 'bert-text-cacm-corpus'\n",
        "cisi_index = 'bert-text-cisi-corpus'\n",
        "cran_index = 'bert-text-cranfield-corpus'\n",
        "lisa_index = 'bert-text-lisa-corpus'\n",
        "med_index = 'bert-text-medline-corpus'\n",
        "npl_index = 'bert-text-npl-corpus'\n",
        "time_index = 'bert-text-time-corpus'\n",
        "\n",
        "# function to get normal match evaluation body \n",
        "\n",
        "def create_query_body_bert_text_precision(query_dict, rel_dict, index_name):\n",
        "  \"\"\"\n",
        "  The function creates a request for every query in query_dict and rates the relevant documents with rel_dict to 1.\n",
        "  The index name has to be the same as from the documents your looking at.\n",
        "  An evaluation body for the elasticsearch ranking API is returned.\n",
        "  \"\"\"\n",
        "  eval_body = {\n",
        "      \"requests\":'',\n",
        "      \"metric\": {\n",
        "          \"precision\": {\n",
        "            \"k\" : 20,\n",
        "            \"relevant_rating_threshold\": 1,\n",
        "            #\"ignore_unlabeled\": \"false\"\n",
        "            }\n",
        "      }\n",
        "  }\n",
        "  requests = [] \n",
        "  current_request = defaultdict(lambda: defaultdict())\n",
        "  current_rel = {\"_index\": index_name, \"_id\": '', \"rating\": int}\n",
        "  for query_ID, query_txt in query_dict.items():\n",
        "    current_query = {\n",
        "        \"query\" : {\n",
        "  \"script_score\": {\n",
        "    \"query\": {\"match_all\": {}},\n",
        "    \"script\": {\n",
        "      \"source\": \"cosineSimilarity(params.query_vector, doc['text_vector']) + 1.0\",\n",
        "      \"params\": {\"query_vector\": list(model.encode(query_txt['question']).astype(float))}\n",
        "    }\n",
        "  }\n",
        "  }\n",
        "    }\n",
        "    current_request[\"id\"] = 'Query_'+str(query_ID)\n",
        "    current_request[\"request\"] = current_query.copy()\n",
        "    current_request[\"ratings\"] = [{\n",
        "          \"_index\": index_name, \n",
        "          \"_id\": str(el) if type(el) != tuple else str(el[0]), \n",
        "          \"rating\": 1} for el in rel_dict[query_ID]]\n",
        "    requests.append(current_request.copy())\n",
        "  eval_body[\"requests\"] = requests\n",
        "  return eval_body\n",
        "\n",
        "\n",
        "# ADI\n",
        "\n",
        "adi_create_bert_text_precision = create_query_body_bert_text_precision(adi_qry_data, adi_rel, adi_index)\n",
        "adi_eval_body_bert_text_precision = json.dumps(adi_create_bert_text_precision)\n",
        "adi_res_bert_text_precision = es.rank_eval(adi_eval_body_bert_text_precision, adi_index)\n",
        "#print(json.dumps(adi_res, indent=4, sort_keys=True))\n",
        "\n",
        "# CACM\n",
        "\n",
        "cacm_create_bert_text_precision = create_query_body_bert_text_precision(cacm_qry_data, cacm_rel, cacm_index)\n",
        "cacm_eval_body_bert_text_precision = json.dumps(cacm_create_bert_text_precision)\n",
        "cacm_res_bert_text_precision = es.rank_eval(cacm_eval_body_bert_text_precision, cacm_index)\n",
        "#print(json.dumps(cacm_res, indent=4, sort_keys=True))\n",
        "\n",
        "# CISI\n",
        "\n",
        "cisi_create_bert_text_precision = create_query_body_bert_text_precision(cisi_qry_data, cisi_rel, cisi_index)\n",
        "cisi_eval_body_bert_text_precision = json.dumps(cisi_create_bert_text_precision)\n",
        "cisi_res_bert_text_precision = es.rank_eval(cisi_eval_body_bert_text_precision, cisi_index)\n",
        "#print(json.dumps(cisi_res, indent=4, sort_keys=True))\n",
        "\n",
        "# Cranfield\n",
        "\n",
        "cran_create_bert_text_precision = create_query_body_bert_text_precision(cran_qry_data, cran_rel, cran_index)\n",
        "cran_eval_body_bert_text_precision = json.dumps(cran_create_bert_text_precision)\n",
        "cran_res_bert_text_precision = es.rank_eval(cran_eval_body_bert_text_precision, cran_index)\n",
        "#print(json.dumps(cran_res, indent=4, sort_keys=True))\n",
        "\n",
        "# LISA\n",
        "\n",
        "lisa_create_bert_text_precision = create_query_body_bert_text_precision(lisa_qry_data, lisa_rel, lisa_index)\n",
        "lisa_eval_body_bert_text_precision = json.dumps(lisa_create_bert_text_precision)\n",
        "lisa_res_bert_text_precision = es.rank_eval(lisa_eval_body_bert_text_precision, lisa_index)\n",
        "#print(json.dumps(lisa_res, indent=4, sort_keys=True))\n",
        "\n",
        "# Medline\n",
        "\n",
        "med_create_bert_text_precision = create_query_body_bert_text_precision(med_qry_data, med_rel, med_index)\n",
        "med_eval_body_bert_text_precision = json.dumps(med_create_bert_text_precision)\n",
        "med_res_bert_text_precision = es.rank_eval(med_eval_body_bert_text_precision, med_index)\n",
        "#print(json.dumps(med_res_bert_text_precision, indent=4, sort_keys=True))\n",
        "\n",
        "# NPL\n",
        "\n",
        "npl_create_bert_text_precision = create_query_body_bert_text_precision(npl_qry_data, npl_rel, npl_index)\n",
        "npl_eval_body_bert_text_precision = json.dumps(npl_create_bert_text_precision)\n",
        "npl_res_bert_text_precision = es.rank_eval(npl_eval_body_bert_text_precision, npl_index)\n",
        "#print(json.dumps(npl_res, indent=4, sort_keys=True))\n",
        "\n",
        "# Time\n",
        "\n",
        "time_create_bert_text_precision = create_query_body_bert_text_precision(time_qry_data, time_rel, time_index)\n",
        "time_eval_body_bert_text_precision = json.dumps(time_create_bert_text_precision)\n",
        "time_res_bert_text_precision = es.rank_eval(time_eval_body_bert_text_precision, time_index)\n",
        "#print(json.dumps(time_res, indent=4, sort_keys=True))"
      ],
      "execution_count": 132,
      "outputs": [
        {
          "output_type": "stream",
          "text": [
            "/usr/local/lib/python3.6/dist-packages/elasticsearch/connection/base.py:190: ElasticsearchDeprecationWarning: The vector functions of the form function(query, doc['field']) are deprecated, and the form function(query, 'field') should be used instead. For example, cosineSimilarity(query, doc['field']) is replaced by cosineSimilarity(query, 'field').\n",
            "  warnings.warn(message, category=ElasticsearchDeprecationWarning)\n"
          ],
          "name": "stderr"
        }
      ]
    },
    {
      "cell_type": "markdown",
      "metadata": {
        "id": "9t-G24e7FBzq"
      },
      "source": [
        "**BERT Transformer on 'title' field**"
      ]
    },
    {
      "cell_type": "code",
      "metadata": {
        "id": "b3MqSL8VFBzs",
        "outputId": "385594c4-2d8d-4492-efac-db5e0ac81760",
        "colab": {
          "base_uri": "https://localhost:8080/"
        }
      },
      "source": [
        "#use rank eval api, see https://elasticsearch-py.readthedocs.io/en/master/api.html?highlight=_rank_eval#elasticsearch.Elasticsearch.rank_eval \n",
        "#and https://www.elastic.co/guide/en/elasticsearch/reference/current/search-rank-eval.html#search-rank-eval\n",
        "\n",
        "from collections import defaultdict\n",
        "\n",
        "adi_index = 'bert-title-adi-corpus'\n",
        "cacm_index = 'bert-title-cacm-corpus'\n",
        "cisi_index = 'bert-title-cisi-corpus'\n",
        "cran_index = 'bert-title-cranfield-corpus'\n",
        "lisa_index = 'bert-title-lisa-corpus'\n",
        "# Medline, NPL and Time corpus are excluded because they don't have any titles\n",
        "#med_index = 'bert-title-medline-corpus'\n",
        "#npl_index = 'bert-title-npl-corpus'\n",
        "#time_index = 'bert-title-time-corpus'\n",
        "\n",
        "# function to get normal match evaluation body \n",
        "\n",
        "def create_query_body_bert_title_precision(query_dict, rel_dict, index_name):\n",
        "  \"\"\"\n",
        "  The function creates a request for every query in query_dict and rates the relevant documents with rel_dict to 1.\n",
        "  The index name has to be the same as from the documents your looking at.\n",
        "  An evaluation body for the elasticsearch ranking API is returned.\n",
        "  \"\"\"\n",
        "  eval_body = {\n",
        "      \"requests\":'',\n",
        "      \"metric\": {\n",
        "          \"precision\": {\n",
        "            \"k\" : 20,\n",
        "            \"relevant_rating_threshold\": 1,\n",
        "            #\"ignore_unlabeled\": \"false\"\n",
        "            }\n",
        "      }\n",
        "  }\n",
        "  requests = [] \n",
        "  current_request = defaultdict(lambda: defaultdict())\n",
        "  current_rel = {\"_index\": index_name, \"_id\": '', \"rating\": int}\n",
        "  for query_ID, query_txt in query_dict.items():\n",
        "    current_query = {\n",
        "        \"query\" : {\n",
        "  \"script_score\": {\n",
        "    \"query\": {\"match_all\": {}},\n",
        "    \"script\": {\n",
        "      \"source\": \"cosineSimilarity(params.query_vector, doc['title_vector']) + 1.0\",\n",
        "      \"params\": {\"query_vector\": list(model.encode(query_txt['question']).astype(float))}\n",
        "    }\n",
        "  }\n",
        "  }\n",
        "    }\n",
        "    current_request[\"id\"] = 'Query_'+str(query_ID)\n",
        "    current_request[\"request\"] = current_query.copy()\n",
        "    current_request[\"ratings\"] = [{\n",
        "          \"_index\": index_name, \n",
        "          \"_id\": str(el) if type(el) != tuple else str(el[0]), \n",
        "          \"rating\": 1} for el in rel_dict[query_ID]]\n",
        "    requests.append(current_request.copy())\n",
        "  eval_body[\"requests\"] = requests\n",
        "  return eval_body\n",
        "\n",
        "\n",
        "# ADI\n",
        "\n",
        "adi_create_bert_title_precision = create_query_body_bert_title_recall(adi_qry_data, adi_rel, adi_index)\n",
        "adi_eval_body_bert_title_precision = json.dumps(adi_create_bert_title_precision)\n",
        "adi_res_bert_title_precision = es.rank_eval(adi_eval_body_bert_title_precision, adi_index)\n",
        "#print(json.dumps(adi_res_bert_title_precision, indent=4, sort_keys=True))\n",
        "\n",
        "# CACM\n",
        "\n",
        "cacm_create_bert_title_precision = create_query_body_bert_title_precision(cacm_qry_data, cacm_rel, cacm_index)\n",
        "cacm_eval_body_bert_title_precision = json.dumps(cacm_create_bert_title_precision)\n",
        "cacm_res_bert_title_precision = es.rank_eval(cacm_eval_body_bert_title_precision, cacm_index)\n",
        "#print(json.dumps(cacm_res_bert_title_precision, indent=4, sort_keys=True))\n",
        "\n",
        "# CISI\n",
        "\n",
        "cisi_create_bert_title_precision = create_query_body_bert_title_precision(cisi_qry_data, cisi_rel, cisi_index)\n",
        "cisi_eval_body_bert_title_precision = json.dumps(cisi_create_bert_title_precision)\n",
        "cisi_res_bert_title_precision = es.rank_eval(cisi_eval_body_bert_title_precision, cisi_index)\n",
        "#print(json.dumps(cisi_res_bert_title_precision, indent=4, sort_keys=True))\n",
        "\n",
        "# Cranfield\n",
        "\n",
        "cran_create_bert_title_precision = create_query_body_bert_title_precision(cran_qry_data, cran_rel, cran_index)\n",
        "cran_eval_body_bert_title_precision = json.dumps(cran_create_bert_title_precision)\n",
        "cran_res_bert_title_precision = es.rank_eval(cran_eval_body_bert_title_precision, cran_index)\n",
        "#print(json.dumps(cran_res_bert_title_precision, indent=4, sort_keys=True))\n",
        "\n",
        "# LISA\n",
        "\n",
        "lisa_create_bert_title_precision = create_query_body_bert_title_precision(lisa_qry_data, lisa_rel, lisa_index)\n",
        "lisa_eval_body_bert_title_precision = json.dumps(lisa_create_bert_title_precision)\n",
        "lisa_res_bert_title_precision = es.rank_eval(lisa_eval_body_bert_title_precision, lisa_index)\n",
        "#print(json.dumps(lisa_res_bert_title_precision, indent=4, sort_keys=True))\n",
        "\n",
        "# Medline\n",
        "\n",
        "#med_create_bert_title_precision = create_query_body_bert_title_precision(med_qry_data, med_rel, med_index)\n",
        "#med_eval_body_bert_title_precision = json.dumps(med_create_bert_title_precision)\n",
        "#med_res_bert_title_precision = es.rank_eval(med_eval_body_bert_title_precision, med_index)\n",
        "#print(json.dumps(med_res_bert_title_precision, indent=4, sort_keys=True))\n",
        "\n",
        "# NPL\n",
        "\n",
        "#npl_create_bert_title_precision = create_query_body_bert_title_precision(npl_qry_data, npl_rel, npl_index)\n",
        "#npl_eval_body_bert_title_precision = json.dumps(npl_create_bert_title_precision)\n",
        "#npl_res_bert_title_precision = es.rank_eval(npl_eval_body_bert_title_precision, npl_index)\n",
        "#print(json.dumps(npl_res_bert_title_precision, indent=4, sort_keys=True))\n",
        "\n",
        "# Time\n",
        "\n",
        "#time_create_bert_title_precision = create_query_body_bert_title_precision(time_qry_data, time_rel, time_index)\n",
        "#time_eval_body_bert_title_precision = json.dumps(time_create_bert_title_precision)\n",
        "#time_res_bert_title_precision = es.rank_eval(time_eval_body_bert_title_precision, time_index)\n",
        "#print(json.dumps(time_res_bert_title_precision, indent=4, sort_keys=True))"
      ],
      "execution_count": 133,
      "outputs": [
        {
          "output_type": "stream",
          "text": [
            "/usr/local/lib/python3.6/dist-packages/elasticsearch/connection/base.py:190: ElasticsearchDeprecationWarning: The vector functions of the form function(query, doc['field']) are deprecated, and the form function(query, 'field') should be used instead. For example, cosineSimilarity(query, doc['field']) is replaced by cosineSimilarity(query, 'field').\n",
            "  warnings.warn(message, category=ElasticsearchDeprecationWarning)\n"
          ],
          "name": "stderr"
        }
      ]
    },
    {
      "cell_type": "markdown",
      "metadata": {
        "id": "gpKrbKC7TDxu"
      },
      "source": [
        "## Visualisation\n",
        "\n",
        "Here we visualize our results:"
      ]
    },
    {
      "cell_type": "markdown",
      "metadata": {
        "id": "3GI_zdwhG4MF"
      },
      "source": [
        "### Recall"
      ]
    },
    {
      "cell_type": "code",
      "metadata": {
        "id": "BXibzPzmf_KK",
        "outputId": "12919d51-0a3c-42a6-c4ad-80c1e07d0fee",
        "colab": {
          "base_uri": "https://localhost:8080/",
          "height": 531
        }
      },
      "source": [
        "import matplotlib\n",
        "import matplotlib.pyplot as plt\n",
        "import numpy as np\n",
        "\n",
        "match_metrics_recall = []\n",
        "match_metrics_recall.append(round(adi_res_match_recall['metric_score'], 3))\n",
        "match_metrics_recall.append(round(cacm_res_match_recall['metric_score'], 3))\n",
        "match_metrics_recall.append(round(cisi_res_match_recall['metric_score'], 3))\n",
        "match_metrics_recall.append(round(cran_res_match_recall['metric_score'], 3))\n",
        "match_metrics_recall.append(round(lisa_res_match_recall['metric_score'], 3))\n",
        "match_metrics_recall.append(round(med_res_match_recall['metric_score'], 3))\n",
        "match_metrics_recall.append(round(npl_res_match_recall['metric_score'], 3))\n",
        "match_metrics_recall.append(round(time_res_match_recall['metric_score'], 3))\n",
        "\n",
        "bert_text_metrics_recall = []\n",
        "bert_text_metrics_recall.append(round(adi_res_bert_text_recall['metric_score'], 3))\n",
        "bert_text_metrics_recall.append(round(cacm_res_bert_text_recall['metric_score'], 3))\n",
        "bert_text_metrics_recall.append(round(cisi_res_bert_text_recall['metric_score'], 3))\n",
        "bert_text_metrics_recall.append(round(cran_res_bert_text_recall['metric_score'], 3))\n",
        "bert_text_metrics_recall.append(round(lisa_res_bert_text_recall['metric_score'], 3))\n",
        "bert_text_metrics_recall.append(round(med_res_bert_text_recall['metric_score'], 3))\n",
        "bert_text_metrics_recall.append(round(npl_res_bert_text_recall['metric_score'], 3))\n",
        "bert_text_metrics_recall.append(round(time_res_bert_text_recall['metric_score'], 3))\n",
        "\n",
        "bert_title_metrics_recall = []\n",
        "bert_title_metrics_recall.append(round(adi_res_bert_title_recall['metric_score'], 3))\n",
        "bert_title_metrics_recall.append(round(cacm_res_bert_title_recall['metric_score'], 3))\n",
        "bert_title_metrics_recall.append(round(cisi_res_bert_title_recall['metric_score'], 3))\n",
        "bert_title_metrics_recall.append(round(cran_res_bert_title_recall['metric_score'], 3))\n",
        "bert_title_metrics_recall.append(round(lisa_res_bert_title_recall['metric_score'], 3))\n",
        "bert_title_metrics_recall.append(0)\n",
        "bert_title_metrics_recall.append(0)\n",
        "bert_title_metrics_recall.append(0)\n",
        "\n",
        "labels = ['ADI','CACM', 'CISI','Cranfield', 'LISA', 'Medline', 'NPL','Time']\n",
        "\n",
        "x = np.arange(len(labels))*1.8  # the label locations\n",
        "\n",
        "width = 0.5  # the width of the bars\n",
        "\n",
        "fig, ax = plt.subplots()\n",
        "rects1 = ax.bar(x - width, match_metrics_recall , width, label='With multi-match query')\n",
        "rects2 = ax.bar(x, bert_text_metrics_recall, width, label='With BERT on text field')\n",
        "rects3 = ax.bar(x + width, bert_title_metrics_recall, width, label='With BERT on title field')\n",
        "\n",
        "# Add some text for labels, title and custom x-axis tick labels, etc.\n",
        "ax.set_ylabel('metric scores')\n",
        "ax.set_title('Recall scores by corpus')\n",
        "ax.set_xticks(x)\n",
        "ax.set_xticklabels(labels)\n",
        "ax.legend()\n",
        "\n",
        "def autolabel(rects):\n",
        "    \"\"\"Attach a text label above each bar in *rects*, displaying its height.\"\"\"\n",
        "    for rect in rects:\n",
        "        height = rect.get_height()\n",
        "        ax.annotate('{}'.format(height),\n",
        "                    xy=(rect.get_x() + rect.get_width() / 2, height),\n",
        "                    xytext=(0, 3),  # 3 points vertical offset\n",
        "                    textcoords=\"offset points\",\n",
        "                    ha='center', va='bottom')\n",
        "\n",
        "autolabel(rects1)\n",
        "autolabel(rects2)\n",
        "autolabel(rects3)\n",
        "\n",
        "fig.tight_layout()\n",
        "fig.set_figwidth(16)\n",
        "fig.set_figheight(8)\n",
        "\n",
        "plt.show()"
      ],
      "execution_count": 134,
      "outputs": [
        {
          "output_type": "display_data",
          "data": {
            "image/png": "[encoded data removed]",
            "text/plain": [
              "<Figure size 1152x576 with 1 Axes>"
            ]
          },
          "metadata": {
            "tags": [],
            "needs_background": "light"
          }
        }
      ]
    },
    {
      "cell_type": "code",
      "metadata": {
        "id": "nlVzOT5uDt3d",
        "outputId": "2dca1ad1-2d68-4cdd-d67c-34b4998d7c65",
        "colab": {
          "base_uri": "https://localhost:8080/"
        }
      },
      "source": [
        "from tabulate import tabulate\n",
        "\n",
        "match_metrics_recall.insert(0, 'multi-match query') \n",
        "bert_text_metrics_recall.insert(0, 'BERT on text field') \n",
        "bert_title_metrics_recall.insert(0, 'BERT on title field')\n",
        "\n",
        "l = [match_metrics_recall, bert_text_metrics_recall, bert_title_metrics_recall]\n",
        "table = tabulate(l, headers=['ADI','CACM', 'CISI','cranfield', 'LISA', 'medline', 'NPL','Time'], tablefmt='orgtbl')\n",
        "\n",
        "print(table)"
      ],
      "execution_count": 135,
      "outputs": [
        {
          "output_type": "stream",
          "text": [
            "|                     |   ADI |   CACM |   CISI |   cranfield |   LISA |   medline |   NPL |   Time |\n",
            "|---------------------+-------+--------+--------+-------------+--------+-----------+-------+--------|\n",
            "| multi-match query   | 0.328 |  0.034 |  0.103 |       0.156 |  0.365 |     0.032 | 0.233 |  0.772 |\n",
            "| BERT on text field  | 0.242 |  0.021 |  0.059 |       0.05  |  0.134 |     0.027 | 0     |  0.473 |\n",
            "| BERT on title field | 0.227 |  0.007 |  0.038 |       0.071 |  0.139 |     0     | 0     |  0     |\n"
          ],
          "name": "stdout"
        }
      ]
    },
    {
      "cell_type": "markdown",
      "metadata": {
        "id": "QuxJmfYZG14r"
      },
      "source": [
        "### Precision"
      ]
    },
    {
      "cell_type": "code",
      "metadata": {
        "id": "tRF25Yq3G0QU",
        "outputId": "c8f9638e-6135-4add-c3ee-7514168dc764",
        "colab": {
          "base_uri": "https://localhost:8080/",
          "height": 531
        }
      },
      "source": [
        "import matplotlib\n",
        "import matplotlib.pyplot as plt\n",
        "import numpy as np\n",
        "\n",
        "match_metrics_precision = []\n",
        "match_metrics_precision.append(round(adi_res_match_precision['metric_score'], 3))\n",
        "match_metrics_precision.append(round(cacm_res_match_precision['metric_score'], 3))\n",
        "match_metrics_precision.append(round(cisi_res_match_precision['metric_score'], 3))\n",
        "match_metrics_precision.append(round(cran_res_match_precision['metric_score'], 3))\n",
        "match_metrics_precision.append(round(lisa_res_match_precision['metric_score'], 3))\n",
        "match_metrics_precision.append(round(med_res_match_precision['metric_score'], 3))\n",
        "match_metrics_precision.append(round(npl_res_match_precision['metric_score'], 3))\n",
        "match_metrics_precision.append(round(time_res_match_precision['metric_score'], 3))\n",
        "\n",
        "bert_text_metrics_precision = []\n",
        "bert_text_metrics_precision.append(round(adi_res_bert_text_precision['metric_score'], 3))\n",
        "bert_text_metrics_precision.append(round(cacm_res_bert_text_precision['metric_score'], 3))\n",
        "bert_text_metrics_precision.append(round(cisi_res_bert_text_precision['metric_score'], 3))\n",
        "bert_text_metrics_precision.append(round(cran_res_bert_text_precision['metric_score'], 3))\n",
        "bert_text_metrics_precision.append(round(lisa_res_bert_text_precision['metric_score'], 3))\n",
        "bert_text_metrics_precision.append(round(med_res_bert_text_precision['metric_score'], 3))\n",
        "bert_text_metrics_precision.append(round(npl_res_bert_text_precision['metric_score'], 3))\n",
        "bert_text_metrics_precision.append(round(time_res_bert_text_precision['metric_score'], 3))\n",
        "\n",
        "bert_title_metrics_precision = []\n",
        "bert_title_metrics_precision.append(round(adi_res_bert_title_precision['metric_score'], 3))\n",
        "bert_title_metrics_precision.append(round(cacm_res_bert_title_precision['metric_score'], 3))\n",
        "bert_title_metrics_precision.append(round(cisi_res_bert_title_precision['metric_score'], 3))\n",
        "bert_title_metrics_precision.append(round(cran_res_bert_title_precision['metric_score'], 3))\n",
        "bert_title_metrics_precision.append(round(lisa_res_bert_title_precision['metric_score'], 3))\n",
        "bert_title_metrics_precision.append(0)\n",
        "bert_title_metrics_precision.append(0)\n",
        "bert_title_metrics_precision.append(0)\n",
        "\n",
        "labels = ['ADI','CACM', 'CISI','Cranfield', 'LISA', 'Medline', 'NPL','Time']\n",
        "\n",
        "x = np.arange(len(labels))*1.8  # the label locations\n",
        "\n",
        "width = 0.5  # the width of the bars\n",
        "\n",
        "fig, ax = plt.subplots()\n",
        "rects1 = ax.bar(x - width, match_metrics_precision , width, label='With multi-match query')\n",
        "rects2 = ax.bar(x, bert_text_metrics_precision, width, label='With BERT on text field')\n",
        "rects3 = ax.bar(x + width, bert_title_metrics_precision, width, label='With BERT on title field')\n",
        "\n",
        "# Add some text for labels, title and custom x-axis tick labels, etc.\n",
        "ax.set_ylabel('metric scores')\n",
        "ax.set_title('Precision scores by corpus')\n",
        "ax.set_xticks(x)\n",
        "ax.set_xticklabels(labels)\n",
        "ax.legend()\n",
        "\n",
        "def autolabel(rects):\n",
        "    \"\"\"Attach a text label above each bar in *rects*, displaying its height.\"\"\"\n",
        "    for rect in rects:\n",
        "        height = rect.get_height()\n",
        "        ax.annotate('{}'.format(height),\n",
        "                    xy=(rect.get_x() + rect.get_width() / 2, height),\n",
        "                    xytext=(0, 3),  # 3 points vertical offset\n",
        "                    textcoords=\"offset points\",\n",
        "                    ha='center', va='bottom')\n",
        "\n",
        "autolabel(rects1)\n",
        "autolabel(rects2)\n",
        "autolabel(rects3)\n",
        "\n",
        "fig.tight_layout()\n",
        "fig.set_figwidth(16)\n",
        "fig.set_figheight(8)\n",
        "\n",
        "plt.show()"
      ],
      "execution_count": 143,
      "outputs": [
        {
          "output_type": "display_data",
          "data": {
            "image/png": "[encoded data removed]",
            "text/plain": [
              "<Figure size 1152x576 with 1 Axes>"
            ]
          },
          "metadata": {
            "tags": [],
            "needs_background": "light"
          }
        }
      ]
    },
    {
      "cell_type": "code",
      "metadata": {
        "id": "eqQB7ExDDWzX",
        "outputId": "85142f68-52aa-4246-cfdc-a6090b8ee961",
        "colab": {
          "base_uri": "https://localhost:8080/"
        }
      },
      "source": [
        "from tabulate import tabulate\n",
        "\n",
        "match_metrics_precision.insert(0, 'multi-match query') \n",
        "bert_text_metrics_precision.insert(0, 'BERT on text field') \n",
        "bert_title_metrics_precision.insert(0, 'BERT on title field')\n",
        "\n",
        "l = [match_metrics_precision, bert_text_metrics_precision, bert_title_metrics_precision]\n",
        "table = tabulate(l, headers=['ADI','CACM', 'CISI','cranfield', 'LISA', 'medline', 'NPL','Time'], tablefmt='orgtbl')\n",
        "\n",
        "print(table)"
      ],
      "execution_count": 141,
      "outputs": [
        {
          "output_type": "stream",
          "text": [
            "|                     |   ADI |   CACM |   CISI |   cranfield |   LISA |   medline |   NPL |   Time |\n",
            "|---------------------+-------+--------+--------+-------------+--------+-----------+-------+--------|\n",
            "| multi-match query   | 0.074 |  0.022 |  0.154 |       0.058 |  0.164 |     0.031 | 0.217 |  0.15  |\n",
            "| BERT on text field  | 0.063 |  0.014 |  0.088 |       0.019 |  0.049 |     0.029 | 0     |  0.084 |\n",
            "| BERT on title field |       |        |        |             |        |           |       |        |\n"
          ],
          "name": "stdout"
        }
      ]
    },
    {
      "cell_type": "markdown",
      "metadata": {
        "id": "Gm1Aej_-T9e0"
      },
      "source": [
        "### F-Score"
      ]
    },
    {
      "cell_type": "code",
      "metadata": {
        "id": "QA8CpbbRQtIH",
        "outputId": "2bc0ef16-4d98-4ab5-f8f3-4b40282b7cee",
        "colab": {
          "base_uri": "https://localhost:8080/",
          "height": 531
        }
      },
      "source": [
        "import matplotlib\n",
        "import matplotlib.pyplot as plt\n",
        "import numpy as np\n",
        "\n",
        "def f_score(recall,precision):\n",
        "  if recall or precision != 0:\n",
        "    fscore = 2*((recall*precision)/(recall+precision))\n",
        "    return fscore\n",
        "  else: return 0\n",
        "\n",
        "match_metrics_fscore = []\n",
        "match_metrics_fscore.append(round(f_score(adi_res_match_recall['metric_score'], adi_res_match_precision['metric_score']),3))\n",
        "match_metrics_fscore.append(round(f_score(cacm_res_match_recall['metric_score'], cacm_res_match_precision['metric_score']),3))\n",
        "match_metrics_fscore.append(round(f_score(cisi_res_match_recall['metric_score'], cisi_res_match_precision['metric_score']),3))\n",
        "match_metrics_fscore.append(round(f_score(cran_res_match_recall['metric_score'], cran_res_match_precision['metric_score']),3))\n",
        "match_metrics_fscore.append(round(f_score(lisa_res_match_recall['metric_score'], lisa_res_match_precision['metric_score']),3))\n",
        "match_metrics_fscore.append(round(f_score(med_res_match_recall['metric_score'], med_res_match_precision['metric_score']),3))\n",
        "match_metrics_fscore.append(round(f_score(npl_res_match_recall['metric_score'], npl_res_match_precision['metric_score']),3))\n",
        "match_metrics_fscore.append(round(f_score(time_res_match_recall['metric_score'], time_res_match_precision['metric_score']),3))\n",
        "\n",
        "bert_text_metrics_fscore = []\n",
        "bert_text_metrics_fscore.append(round(f_score(adi_res_bert_text_recall['metric_score'], adi_res_bert_text_precision['metric_score']),3))\n",
        "bert_text_metrics_fscore.append(round(f_score(cacm_res_bert_text_recall['metric_score'], cacm_res_bert_text_precision['metric_score']),3))\n",
        "bert_text_metrics_fscore.append(round(f_score(cisi_res_bert_text_recall['metric_score'], cisi_res_bert_text_precision['metric_score']),3))\n",
        "bert_text_metrics_fscore.append(round(f_score(cran_res_bert_text_recall['metric_score'], cran_res_bert_text_precision['metric_score']),3))\n",
        "bert_text_metrics_fscore.append(round(f_score(lisa_res_bert_text_recall['metric_score'], lisa_res_bert_text_precision['metric_score']),3))\n",
        "bert_text_metrics_fscore.append(round(f_score(med_res_bert_text_recall['metric_score'], med_res_bert_text_precision['metric_score']),3))\n",
        "bert_text_metrics_fscore.append(round(f_score(npl_res_bert_text_recall['metric_score'], npl_res_bert_text_precision['metric_score']),3))\n",
        "bert_text_metrics_fscore.append(round(f_score(time_res_bert_text_recall['metric_score'], time_res_bert_text_precision['metric_score']),3))\n",
        "\n",
        "bert_title_metrics_fscore = []\n",
        "bert_title_metrics_fscore.append(round(f_score(adi_res_bert_title_recall['metric_score'], adi_res_bert_title_precision['metric_score']),3))\n",
        "bert_title_metrics_fscore.append(round(f_score(cacm_res_bert_title_recall['metric_score'], cacm_res_bert_title_precision['metric_score']),3))\n",
        "bert_title_metrics_fscore.append(round(f_score(cisi_res_bert_title_recall['metric_score'], cisi_res_bert_title_precision['metric_score']),3))\n",
        "bert_title_metrics_fscore.append(round(f_score(cran_res_bert_title_recall['metric_score'], cran_res_bert_title_precision['metric_score']),3))\n",
        "bert_title_metrics_fscore.append(round(f_score(lisa_res_bert_title_recall['metric_score'], lisa_res_bert_title_precision['metric_score']),3))\n",
        "bert_title_metrics_fscore.append(0)\n",
        "bert_title_metrics_fscore.append(0)\n",
        "bert_title_metrics_fscore.append(0)\n",
        "\n",
        "labels = ['ADI','CACM', 'CISI','cranfield', 'LISA', 'medline', 'NPL','Time']\n",
        "\n",
        "x = np.arange(len(labels))*1.8  # the label locations\n",
        "\n",
        "width = 0.5  # the width of the bars\n",
        "\n",
        "fig, ax = plt.subplots()\n",
        "rects1 = ax.bar(x - width, match_metrics_fscore , width, label='With multi-match query')\n",
        "rects2 = ax.bar(x, bert_text_metrics_fscore, width, label='With BERT on text field')\n",
        "rects3 = ax.bar(x + width, bert_title_metrics_fscore, width, label='With BERT on title field')\n",
        "\n",
        "# Add some text for labels, title and custom x-axis tick labels, etc.\n",
        "ax.set_ylabel('metric scores')\n",
        "ax.set_title('F1-Scores by corpus')\n",
        "ax.set_xticks(x)\n",
        "ax.set_xticklabels(labels)\n",
        "ax.legend()\n",
        "\n",
        "\n",
        "def autolabel(rects):\n",
        "    \"\"\"Attach a text label above each bar in *rects*, displaying its height.\"\"\"\n",
        "    for rect in rects:\n",
        "        height = rect.get_height()\n",
        "        ax.annotate('{}'.format(height),\n",
        "                    xy=(rect.get_x() + rect.get_width() / 2, height),\n",
        "                    xytext=(0, 3),  # 3 points vertical offset\n",
        "                    textcoords=\"offset points\",\n",
        "                    ha='center', va='bottom')\n",
        "\n",
        "\n",
        "autolabel(rects1)\n",
        "autolabel(rects2)\n",
        "autolabel(rects3)\n",
        "\n",
        "fig.tight_layout()\n",
        "fig.set_figwidth(16)\n",
        "fig.set_figheight(8)\n",
        "\n",
        "plt.show()"
      ],
      "execution_count": 138,
      "outputs": [
        {
          "output_type": "display_data",
          "data": {
            "image/png": "[encoded data removed]",
            "text/plain": [
              "<Figure size 1152x576 with 1 Axes>"
            ]
          },
          "metadata": {
            "tags": [],
            "needs_background": "light"
          }
        }
      ]
    },
    {
      "cell_type": "code",
      "metadata": {
        "id": "R6Tk6Vt8Ah5_",
        "outputId": "8e34c1d6-a9c7-4270-8d6c-a432d8d210f7",
        "colab": {
          "base_uri": "https://localhost:8080/"
        }
      },
      "source": [
        "from tabulate import tabulate\n",
        "\n",
        "match_metrics_fscore.insert(0, 'multi-match query') \n",
        "bert_text_metrics_fscore.insert(0, 'BERT on text field') \n",
        "bert_title_metrics_fscore.insert(0, 'BERT on title field')\n",
        "\n",
        "l = [match_metrics_fscore, bert_text_metrics_fscore, bert_title_metrics_fscore]\n",
        "table = tabulate(l, headers=['ADI','CACM', 'CISI','cranfield', 'LISA', 'medline', 'NPL','Time'], tablefmt='orgtbl')\n",
        "\n",
        "print(table)"
      ],
      "execution_count": 139,
      "outputs": [
        {
          "output_type": "stream",
          "text": [
            "|                     |   ADI |   CACM |   CISI |   cranfield |   LISA |   medline |   NPL |   Time |\n",
            "|---------------------+-------+--------+--------+-------------+--------+-----------+-------+--------|\n",
            "| multi-match query   | 0.12  |  0.027 |  0.123 |       0.085 |  0.227 |     0.032 | 0.225 |  0.251 |\n",
            "| BERT on text field  | 0.1   |  0.017 |  0.07  |       0.028 |  0.071 |     0.028 | 0     |  0.143 |\n",
            "| BERT on title field | 0.227 |  0.006 |  0.054 |       0.04  |  0.08  |     0     | 0     |  0     |\n"
          ],
          "name": "stdout"
        }
      ]
    },
    {
      "cell_type": "markdown",
      "metadata": {
        "id": "Ikgcrccon7a1"
      },
      "source": [
        "Read more on this experiment on our [website](https://pragmalingu.de/docs/experiments/experiment1)."
      ]
    }
  ]
}