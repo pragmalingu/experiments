{
  "nbformat": 4,
  "nbformat_minor": 0,
  "metadata": {
    "colab": {
      "name": "Second Experiment: BERT Embeddings.ipynb",
      "provenance": [],
      "collapsed_sections": [
        "_Un-oDrHnDui",
        "r4_SDsRLasRA",
        "nZl09cJE0755",
        "X6uTwgD31Azk"
      ],
      "include_colab_link": true
    },
    "kernelspec": {
      "name": "python3",
      "display_name": "Python 3"
    },
    "accelerator": "GPU"
  },
  "cells": [
    {
      "cell_type": "markdown",
      "metadata": {
        "id": "view-in-github",
        "colab_type": "text"
      },
      "source": [
        "<a href=\"https://colab.research.google.com/github/pragmalingu/experiments/blob/master/Experiment/Second_Experiment_BERT_Embeddings.ipynb\" target=\"_parent\"><img src=\"https://colab.research.google.com/assets/colab-badge.svg\" alt=\"Open In Colab\"/></a>"
      ]
    },
    {
      "cell_type": "markdown",
      "metadata": {
        "id": "n93d8RqwhKXs"
      },
      "source": [
        "# Second Experiment\n",
        "\n"
      ]
    },
    {
      "cell_type": "markdown",
      "metadata": {
        "id": "tApgxGG-lbTG"
      },
      "source": [
        "For our second experiment we connect the Notebook to an Elasticsearch instance and compare a standard Elasticsearch operator with Embeddings we get from BERT (Bi-Directional Encoder Representation from Transformer). The Embeddings are indexed built-in stemming methods: 'Stemmer Token Filter' and 'Hunspell Token Filter'. \n",
        "(To read details about this experiment visit our [website](https://pragmalingu.de/docs/experiments/experiment1))"
      ]
    },
    {
      "cell_type": "markdown",
      "metadata": {
        "id": "_Un-oDrHnDui"
      },
      "source": [
        "## Setup an Elasticsearch Instance in Google Colab"
      ]
    },
    {
      "cell_type": "markdown",
      "metadata": {
        "id": "wQiAH-sinDum"
      },
      "source": [
        "Everthing to connect to Elasticsearch, for detailed explaination see [this Notebook.](https://)\n",
        "Download:"
      ]
    },
    {
      "cell_type": "code",
      "metadata": {
        "id": "XdccmnTUnDup"
      },
      "source": [
        "import os\n",
        "from subprocess import Popen, PIPE, STDOUT\n",
        "# download elasticsearch\n",
        "!wget https://artifacts.elastic.co/downloads/elasticsearch/elasticsearch-7.9.1-linux-x86_64.tar.gz -q\n",
        "!tar -xzf elasticsearch-7.9.1-linux-x86_64.tar.gz\n",
        "!chown -R daemon:daemon elasticsearch-7.9.1\n"
      ],
      "execution_count": 1,
      "outputs": []
    },
    {
      "cell_type": "markdown",
      "metadata": {
        "id": "bxgS1p4_-zun"
      },
      "source": [
        "Start a local server:"
      ]
    },
    {
      "cell_type": "code",
      "metadata": {
        "id": "H9HrpRBGsg9y",
        "outputId": "11bde851-2daf-4e59-bbf3-904342638791",
        "colab": {
          "base_uri": "https://localhost:8080/"
        }
      },
      "source": [
        "# start server\n",
        "es_server = Popen(['elasticsearch-7.9.1/bin/elasticsearch'], \n",
        "                  stdout=PIPE, stderr=STDOUT,\n",
        "                  preexec_fn=lambda: os.setuid(1)  # as daemon\n",
        "                 )\n",
        "# client-side\n",
        "!pip install elasticsearch -q\n",
        "from elasticsearch import Elasticsearch\n",
        "from datetime import datetime\n",
        "es = Elasticsearch([\"localhost:9200/\"])\n",
        "#wait a bit\n",
        "import time\n",
        "time.sleep(30)\n",
        "es.ping()  # got True"
      ],
      "execution_count": 2,
      "outputs": [
        {
          "output_type": "stream",
          "text": [
            "\u001b[?25l\r\u001b[K     |█▌                              | 10kB 21.3MB/s eta 0:00:01\r\u001b[K     |███                             | 20kB 3.1MB/s eta 0:00:01\r\u001b[K     |████▌                           | 30kB 3.8MB/s eta 0:00:01\r\u001b[K     |██████                          | 40kB 3.9MB/s eta 0:00:01\r\u001b[K     |███████▌                        | 51kB 3.1MB/s eta 0:00:01\r\u001b[K     |█████████                       | 61kB 3.6MB/s eta 0:00:01\r\u001b[K     |██████████▌                     | 71kB 4.0MB/s eta 0:00:01\r\u001b[K     |████████████                    | 81kB 4.4MB/s eta 0:00:01\r\u001b[K     |█████████████▌                  | 92kB 4.3MB/s eta 0:00:01\r\u001b[K     |███████████████                 | 102kB 4.5MB/s eta 0:00:01\r\u001b[K     |████████████████▌               | 112kB 4.5MB/s eta 0:00:01\r\u001b[K     |██████████████████              | 122kB 4.5MB/s eta 0:00:01\r\u001b[K     |███████████████████▍            | 133kB 4.5MB/s eta 0:00:01\r\u001b[K     |█████████████████████           | 143kB 4.5MB/s eta 0:00:01\r\u001b[K     |██████████████████████▍         | 153kB 4.5MB/s eta 0:00:01\r\u001b[K     |████████████████████████        | 163kB 4.5MB/s eta 0:00:01\r\u001b[K     |█████████████████████████▍      | 174kB 4.5MB/s eta 0:00:01\r\u001b[K     |███████████████████████████     | 184kB 4.5MB/s eta 0:00:01\r\u001b[K     |████████████████████████████▍   | 194kB 4.5MB/s eta 0:00:01\r\u001b[K     |██████████████████████████████  | 204kB 4.5MB/s eta 0:00:01\r\u001b[K     |███████████████████████████████▍| 215kB 4.5MB/s eta 0:00:01\r\u001b[K     |████████████████████████████████| 225kB 4.5MB/s \n",
            "\u001b[?25h"
          ],
          "name": "stdout"
        },
        {
          "output_type": "execute_result",
          "data": {
            "text/plain": [
              "True"
            ]
          },
          "metadata": {
            "tags": []
          },
          "execution_count": 2
        }
      ]
    },
    {
      "cell_type": "code",
      "metadata": {
        "id": "jW1d1vUw_Bjb",
        "outputId": "5b24fc87-7e67-488c-d913-ac5f833bf910",
        "colab": {
          "base_uri": "https://localhost:8080/"
        }
      },
      "source": [
        "#print new index list\n",
        "create_response = es.cat.indices()\n",
        "print(create_response)"
      ],
      "execution_count": 3,
      "outputs": [
        {
          "output_type": "stream",
          "text": [
            "\n"
          ],
          "name": "stdout"
        }
      ]
    },
    {
      "cell_type": "markdown",
      "metadata": {
        "id": "OXr3XUJ8Lg22"
      },
      "source": [
        "## Download and intializie pretrained BERT model"
      ]
    },
    {
      "cell_type": "code",
      "metadata": {
        "id": "8_8fy6OMLfxt",
        "outputId": "0987e5d9-fee6-402d-8e18-71795f1cf4a3",
        "colab": {
          "base_uri": "https://localhost:8080/"
        }
      },
      "source": [
        "!pip install -U sentence-transformers\n",
        "\n",
        "from sentence_transformers import SentenceTransformer\n",
        "import torch\n",
        "from tqdm import tqdm_notebook\n",
        "\n",
        "model = SentenceTransformer('bert-base-nli-mean-tokens')\n",
        "\n",
        "# using gpu to boost inference if it's possible\n",
        "if torch.cuda.is_available():\n",
        "  model.to('cuda')\n",
        "\n",
        "print('Max Sequence Length:', model.max_seq_length)\n",
        "\n",
        "#Change the length to max possible length (based on gpu memory)\n",
        "model.max_seq_length = 364\n",
        "\n",
        "print('Max Sequence Length:', model.max_seq_length)"
      ],
      "execution_count": 4,
      "outputs": [
        {
          "output_type": "stream",
          "text": [
            "Collecting sentence-transformers\n",
            "\u001b[?25l  Downloading https://files.pythonhosted.org/packages/f4/fd/0190080aa0af78d7cd5874e4e8e85f0bed9967dd387cf05d760832b95da9/sentence-transformers-0.3.8.tar.gz (66kB)\n",
            "\u001b[K     |████████████████████████████████| 71kB 3.3MB/s \n",
            "\u001b[?25hCollecting transformers<3.4.0,>=3.1.0\n",
            "\u001b[?25l  Downloading https://files.pythonhosted.org/packages/19/22/aff234f4a841f8999e68a7a94bdd4b60b4cebcfeca5d67d61cd08c9179de/transformers-3.3.1-py3-none-any.whl (1.1MB)\n",
            "\u001b[K     |████████████████████████████████| 1.1MB 13.7MB/s \n",
            "\u001b[?25hRequirement already satisfied, skipping upgrade: tqdm in /usr/local/lib/python3.6/dist-packages (from sentence-transformers) (4.41.1)\n",
            "Requirement already satisfied, skipping upgrade: torch>=1.2.0 in /usr/local/lib/python3.6/dist-packages (from sentence-transformers) (1.6.0+cu101)\n",
            "Requirement already satisfied, skipping upgrade: numpy in /usr/local/lib/python3.6/dist-packages (from sentence-transformers) (1.18.5)\n",
            "Requirement already satisfied, skipping upgrade: scikit-learn in /usr/local/lib/python3.6/dist-packages (from sentence-transformers) (0.22.2.post1)\n",
            "Requirement already satisfied, skipping upgrade: scipy in /usr/local/lib/python3.6/dist-packages (from sentence-transformers) (1.4.1)\n",
            "Requirement already satisfied, skipping upgrade: nltk in /usr/local/lib/python3.6/dist-packages (from sentence-transformers) (3.2.5)\n",
            "Collecting sentencepiece!=0.1.92\n",
            "\u001b[?25l  Downloading https://files.pythonhosted.org/packages/d4/a4/d0a884c4300004a78cca907a6ff9a5e9fe4f090f5d95ab341c53d28cbc58/sentencepiece-0.1.91-cp36-cp36m-manylinux1_x86_64.whl (1.1MB)\n",
            "\u001b[K     |████████████████████████████████| 1.1MB 47.4MB/s \n",
            "\u001b[?25hRequirement already satisfied, skipping upgrade: packaging in /usr/local/lib/python3.6/dist-packages (from transformers<3.4.0,>=3.1.0->sentence-transformers) (20.4)\n",
            "Collecting tokenizers==0.8.1.rc2\n",
            "\u001b[?25l  Downloading https://files.pythonhosted.org/packages/80/83/8b9fccb9e48eeb575ee19179e2bdde0ee9a1904f97de5f02d19016b8804f/tokenizers-0.8.1rc2-cp36-cp36m-manylinux1_x86_64.whl (3.0MB)\n",
            "\u001b[K     |████████████████████████████████| 3.0MB 56.2MB/s \n",
            "\u001b[?25hRequirement already satisfied, skipping upgrade: regex!=2019.12.17 in /usr/local/lib/python3.6/dist-packages (from transformers<3.4.0,>=3.1.0->sentence-transformers) (2019.12.20)\n",
            "Requirement already satisfied, skipping upgrade: requests in /usr/local/lib/python3.6/dist-packages (from transformers<3.4.0,>=3.1.0->sentence-transformers) (2.23.0)\n",
            "Collecting sacremoses\n",
            "\u001b[?25l  Downloading https://files.pythonhosted.org/packages/7d/34/09d19aff26edcc8eb2a01bed8e98f13a1537005d31e95233fd48216eed10/sacremoses-0.0.43.tar.gz (883kB)\n",
            "\u001b[K     |████████████████████████████████| 890kB 47.7MB/s \n",
            "\u001b[?25hRequirement already satisfied, skipping upgrade: filelock in /usr/local/lib/python3.6/dist-packages (from transformers<3.4.0,>=3.1.0->sentence-transformers) (3.0.12)\n",
            "Requirement already satisfied, skipping upgrade: dataclasses; python_version < \"3.7\" in /usr/local/lib/python3.6/dist-packages (from transformers<3.4.0,>=3.1.0->sentence-transformers) (0.7)\n",
            "Requirement already satisfied, skipping upgrade: future in /usr/local/lib/python3.6/dist-packages (from torch>=1.2.0->sentence-transformers) (0.16.0)\n",
            "Requirement already satisfied, skipping upgrade: joblib>=0.11 in /usr/local/lib/python3.6/dist-packages (from scikit-learn->sentence-transformers) (0.16.0)\n",
            "Requirement already satisfied, skipping upgrade: six in /usr/local/lib/python3.6/dist-packages (from nltk->sentence-transformers) (1.15.0)\n",
            "Requirement already satisfied, skipping upgrade: pyparsing>=2.0.2 in /usr/local/lib/python3.6/dist-packages (from packaging->transformers<3.4.0,>=3.1.0->sentence-transformers) (2.4.7)\n",
            "Requirement already satisfied, skipping upgrade: idna<3,>=2.5 in /usr/local/lib/python3.6/dist-packages (from requests->transformers<3.4.0,>=3.1.0->sentence-transformers) (2.10)\n",
            "Requirement already satisfied, skipping upgrade: certifi>=2017.4.17 in /usr/local/lib/python3.6/dist-packages (from requests->transformers<3.4.0,>=3.1.0->sentence-transformers) (2020.6.20)\n",
            "Requirement already satisfied, skipping upgrade: chardet<4,>=3.0.2 in /usr/local/lib/python3.6/dist-packages (from requests->transformers<3.4.0,>=3.1.0->sentence-transformers) (3.0.4)\n",
            "Requirement already satisfied, skipping upgrade: urllib3!=1.25.0,!=1.25.1,<1.26,>=1.21.1 in /usr/local/lib/python3.6/dist-packages (from requests->transformers<3.4.0,>=3.1.0->sentence-transformers) (1.24.3)\n",
            "Requirement already satisfied, skipping upgrade: click in /usr/local/lib/python3.6/dist-packages (from sacremoses->transformers<3.4.0,>=3.1.0->sentence-transformers) (7.1.2)\n",
            "Building wheels for collected packages: sentence-transformers, sacremoses\n",
            "  Building wheel for sentence-transformers (setup.py) ... \u001b[?25l\u001b[?25hdone\n",
            "  Created wheel for sentence-transformers: filename=sentence_transformers-0.3.8-cp36-none-any.whl size=101996 sha256=792b969d8fc10fc693d6dd5aa716142b1e810a381783dd95935b1ed3ad51181a\n",
            "  Stored in directory: /root/.cache/pip/wheels/27/ec/b3/d12cc8e4daf77846db6543033d3a5642f204c0320b15945647\n",
            "  Building wheel for sacremoses (setup.py) ... \u001b[?25l\u001b[?25hdone\n",
            "  Created wheel for sacremoses: filename=sacremoses-0.0.43-cp36-none-any.whl size=893257 sha256=8afa2fe8093bd204f3eccb003994b10f64e72f2a9532ea77f41173e9c4eed355\n",
            "  Stored in directory: /root/.cache/pip/wheels/29/3c/fd/7ce5c3f0666dab31a50123635e6fb5e19ceb42ce38d4e58f45\n",
            "Successfully built sentence-transformers sacremoses\n",
            "Installing collected packages: sentencepiece, tokenizers, sacremoses, transformers, sentence-transformers\n",
            "Successfully installed sacremoses-0.0.43 sentence-transformers-0.3.8 sentencepiece-0.1.91 tokenizers-0.8.1rc2 transformers-3.3.1\n"
          ],
          "name": "stdout"
        },
        {
          "output_type": "stream",
          "text": [
            "100%|██████████| 405M/405M [00:23<00:00, 17.1MB/s]\n"
          ],
          "name": "stderr"
        },
        {
          "output_type": "stream",
          "text": [
            "Max Sequence Length: 128\n",
            "Max Sequence Length: 364\n"
          ],
          "name": "stdout"
        }
      ]
    },
    {
      "cell_type": "markdown",
      "metadata": {
        "id": "RQX8W6VepxxT"
      },
      "source": [
        "## Parse Data\n",
        "\n",
        "Get different corpora, format them and feed them to elasticsearch"
      ]
    },
    {
      "cell_type": "markdown",
      "metadata": {
        "id": "SIXjztjXSYnx"
      },
      "source": [
        "### ADI Corpus"
      ]
    },
    {
      "cell_type": "markdown",
      "metadata": {
        "id": "DGpEnztyYttx"
      },
      "source": [
        "You can get the corpus from [this link](http://ir.dcs.gla.ac.uk/resources/test_collections/adi/).  <br>\n",
        "For detailed information about the parsing of this corpus look at [ this Notebook](https://colab.research.google.com/github/pragmalingu/private_experiments/blob/adi_corpus/ADICorpus.ipynb) or for parsing in generel read [this guide](https://)."
      ]
    },
    {
      "cell_type": "markdown",
      "metadata": {
        "id": "TbXadfCKYxHx"
      },
      "source": [
        "**Parsing**"
      ]
    },
    {
      "cell_type": "code",
      "metadata": {
        "id": "cMSPDRFyShav",
        "outputId": "ce481078-452a-4f01-91ce-0312c57ce82d",
        "colab": {
          "base_uri": "https://localhost:8080/"
        }
      },
      "source": [
        "# download and unzip data\n",
        "!wget https://nextcloud.samyateia.de/index.php/s/ZWpy29gH4D2sADY/download\n",
        "!tar -xf download\n",
        "!rm download\n",
        "\n",
        "# set paths to the dowloaded data as variables\n",
        "PATH_TO_ADI_TXT = '/content/ADI.ALL'\n",
        "PATH_TO_ADI_QRY = '/content/ADI.QRY'\n",
        "PATH_TO_ADI_REL = '/content/ADI.REL'\n",
        "\n",
        "from collections import defaultdict\n",
        "import re\n",
        "import json\n",
        "from io import StringIO\n",
        "import numpy as np\n",
        "\n",
        "\n",
        "# get the text and query files\n",
        "\n",
        "ID_marker = re.compile('\\.I')\n",
        "\n",
        "def get_data(PATH_TO_FILE, marker):\n",
        "  \"\"\"\n",
        "  Reads file and spilts text into entries at the ID marker '.I'.\n",
        "  First entry is empty, so it's removed.\n",
        "  'marker' contains the regex at which we want to split\n",
        "  \"\"\"\n",
        "  with open (PATH_TO_FILE,'r') as f:\n",
        "    text = f.read().replace('\\n',\" \")\n",
        "    lines = re.split(marker,text)\n",
        "    lines.pop(0)\n",
        "  return lines\n",
        "\n",
        "adi_txt_list = get_data(PATH_TO_ADI_TXT, ID_marker)\n",
        "adi_qry_list = get_data(PATH_TO_ADI_QRY, ID_marker)\n",
        "\n",
        "# process text file\n",
        "\n",
        "adi_title_start = re.compile('\\.T')\n",
        "adi_author_start = re.compile('\\.A')\n",
        "adi_text_start = re.compile('\\.W')\n",
        "\n",
        "adi_txt_data = defaultdict(dict)\n",
        "\n",
        "for line in adi_txt_list:\n",
        "  entries = re.split(adi_title_start,line,1)\n",
        "  id = entries[0].strip()\n",
        "  no_id = entries[1]\n",
        "  if len(re.split(adi_author_start, no_id,1)) > 1:\n",
        "    no_id_entries = re.split(adi_author_start, no_id,1)\n",
        "    adi_txt_data[id]['title'] = no_id_entries[0]\n",
        "    no_title = no_id_entries[1]\n",
        "    no_title_entries = re.split(adi_text_start, no_title)\n",
        "    adi_txt_data[id]['author'] = no_title_entries[0]\n",
        "    adi_txt_data[id]['text'] = no_title_entries[1]\n",
        "  else:\n",
        "    no_id_entries = re.split(adi_text_start, no_id)\n",
        "    adi_txt_data[id]['title'] = no_id_entries[0]\n",
        "    adi_txt_data[id]['text'] = no_id_entries[1]\n",
        "\n",
        "# process query file    \n",
        "\n",
        "qry_chunk_start = re.compile('\\.W')\n",
        "adi_qry_data = defaultdict(dict)\n",
        "\n",
        "for n in range(0,len(adi_qry_list)-1):\n",
        "  line = adi_qry_list[n+1]\n",
        "  _ , question = re.split(qry_chunk_start,line)\n",
        "  adi_qry_data[n+1]['question'] = question\n",
        "\n",
        "# process relevance assesment\n",
        "\n",
        "adi_rel_data = open(PATH_TO_ADI_REL)\n",
        "adi_np = np.loadtxt(adi_rel_data, dtype=float)\n",
        "\n",
        "adi_rel = defaultdict(list)\n",
        "for row in adi_np:\n",
        "  adi_rel[int(row[0])].append(int(row[1])) "
      ],
      "execution_count": 5,
      "outputs": [
        {
          "output_type": "stream",
          "text": [
            "--2020-10-20 13:57:31--  https://nextcloud.samyateia.de/index.php/s/ZWpy29gH4D2sADY/download\n",
            "Resolving nextcloud.samyateia.de (nextcloud.samyateia.de)... 194.55.14.32\n",
            "Connecting to nextcloud.samyateia.de (nextcloud.samyateia.de)|194.55.14.32|:443... connected.\n",
            "HTTP request sent, awaiting response... 200 OK\n",
            "Length: 57344 (56K) [application/x-gzip]\n",
            "Saving to: ‘download’\n",
            "\n",
            "download            100%[===================>]  56.00K   198KB/s    in 0.3s    \n",
            "\n",
            "2020-10-20 13:57:32 (198 KB/s) - ‘download’ saved [57344/57344]\n",
            "\n"
          ],
          "name": "stdout"
        }
      ]
    },
    {
      "cell_type": "markdown",
      "metadata": {
        "id": "I1VXADwHZuij"
      },
      "source": [
        "**Indexing**"
      ]
    },
    {
      "cell_type": "code",
      "metadata": {
        "id": "jWA0rapwShiT",
        "outputId": "e19eadb6-3d75-4be4-90ec-d2d5c4788bc1",
        "colab": {
          "base_uri": "https://localhost:8080/"
        }
      },
      "source": [
        "# Elasticsearch settings, without using Opendistro\n",
        "settings_text = {\n",
        "  \"mappings\": {\n",
        "      \"properties\": {\n",
        "          \"text\": {\n",
        "              \"type\": \"text\"\n",
        "              },\n",
        "          \"text_vector\": {\n",
        "           \"type\": \"dense_vector\",\n",
        "           \"dims\": 768\n",
        "            }\n",
        "    }\n",
        "  }\n",
        "}\n",
        "\n",
        "settings_title = {\n",
        "  \"mappings\": {\n",
        "      \"properties\": {\n",
        "          \"title\": {\n",
        "              \"type\": \"text\"\n",
        "              },\n",
        "          \"title_vector\": {\n",
        "           \"type\": \"dense_vector\",\n",
        "           \"dims\": 768\n",
        "            }\n",
        "    }\n",
        "  }\n",
        "}\n",
        "\n",
        "#create index, see https://elasticsearch-py.readthedocs.io/en/master/api.html#elasticsearch.client.IndicesClient.create\n",
        "adi_index_text = \"bert-text-adi-corpus\"\n",
        "es.indices.delete(index=adi_index_text, ignore=[400, 404])\n",
        "es.indices.create(adi_index_text, body=settings_text)\n",
        "\n",
        "adi_index_title = \"bert-title-adi-corpus\"\n",
        "es.indices.delete(index=adi_index_title, ignore=[400, 404])\n",
        "es.indices.create(adi_index_title, body=settings_title)\n",
        "\n",
        "adi_index = \"adi-corpus\"\n",
        "es.indices.delete(index=adi_index, ignore=[400, 404])\n",
        "es.indices.create(adi_index)"
      ],
      "execution_count": 6,
      "outputs": [
        {
          "output_type": "execute_result",
          "data": {
            "text/plain": [
              "{'acknowledged': True, 'index': 'adi-corpus', 'shards_acknowledged': True}"
            ]
          },
          "metadata": {
            "tags": []
          },
          "execution_count": 6
        }
      ]
    },
    {
      "cell_type": "code",
      "metadata": {
        "id": "ZaxpCqSDShgg",
        "outputId": "fbc1bcf4-c873-402f-bf70-a16acbc063b4",
        "colab": {
          "base_uri": "https://localhost:8080/"
        }
      },
      "source": [
        "for ID, doc_data in adi_txt_data.items():\n",
        "    es.index(index=adi_index, id=ID, body=doc_data)\n",
        "    es.index(\n",
        "      index=adi_index_text, \n",
        "      id=ID, \n",
        "      body={\n",
        "          'text_vector': model.encode(adi_txt_data[ID]['text']),\n",
        "          'text': adi_txt_data[ID]['text']\n",
        "          }\n",
        "    )\n",
        "    es.index(\n",
        "      index=adi_index_title, \n",
        "      id=ID, \n",
        "      body={\n",
        "          'title_vector': model.encode(adi_txt_data[ID]['title']),\n",
        "          'title': adi_txt_data[ID]['title'],\n",
        "          }\n",
        "    )\n",
        "\n",
        "#print new index list\n",
        "create_response = es.cat.indices()\n",
        "print(create_response)"
      ],
      "execution_count": 7,
      "outputs": [
        {
          "output_type": "stream",
          "text": [
            "yellow open bert-title-adi-corpus wjb1Za6tReee1yY1cWAPKw 1 1 73 0   1.1mb   1.1mb\n",
            "yellow open bert-text-adi-corpus  S_CFkjyaSzeblkt7PPHd7g 1 1 82 0   1.2mb   1.2mb\n",
            "yellow open adi-corpus            tN2i3LphQOSzvRj-xd6sUg 1 1 76 0 108.3kb 108.3kb\n",
            "\n"
          ],
          "name": "stdout"
        }
      ]
    },
    {
      "cell_type": "markdown",
      "metadata": {
        "id": "RdZwKv7_SZFT"
      },
      "source": [
        "### CACM Corpus"
      ]
    },
    {
      "cell_type": "markdown",
      "metadata": {
        "id": "QB0t-8e0bHEb"
      },
      "source": [
        "You can get the corpus from [this link](http://ir.dcs.gla.ac.uk/resources/test_collections/cacm/).  <br>\n",
        "For detailed information about the format of the files, see the PragmaLingu [ Benchmarks](https://pragmalingu.de/docs/benchmarks/overview)"
      ]
    },
    {
      "cell_type": "markdown",
      "metadata": {
        "id": "Vr9n3mvAbGwx"
      },
      "source": [
        "**Parsing**"
      ]
    },
    {
      "cell_type": "code",
      "metadata": {
        "id": "wSONOisRSjTi",
        "outputId": "257656ef-6a02-4f6a-8684-a3fcd7f6b2ec",
        "colab": {
          "base_uri": "https://localhost:8080/"
        }
      },
      "source": [
        "# download and unzip data\n",
        "!wget https://nextcloud.samyateia.de/index.php/s/s4WQLTc7DLYsAaZ/download\n",
        "!tar -xf download\n",
        "!rm download\n",
        "\n",
        "# set paths to the dowloaded data as variablesDownload and unzip data.\n",
        "\n",
        "PATH_TO_CACM_TXT = '/content/cacm.all'\n",
        "PATH_TO_CACM_QRY = '/content/query.text'\n",
        "PATH_TO_CACM_REL = '/content/qrels.text'\n",
        "PATH_TO_CACM_COMMON_WORDS = '/content/common_words'\n",
        "\n",
        "from collections import defaultdict\n",
        "import re\n",
        "import json\n",
        "from io import StringIO\n",
        "import numpy as np\n",
        "\n",
        "# get the text and query files\n",
        "\n",
        "ID_marker = re.compile('^\\.I',re.MULTILINE)\n",
        "\n",
        "def get_data(PATH_TO_FILE, marker):\n",
        "  \"\"\"\n",
        "  Reads file and spilts text into entries at the ID marker '.I'.\n",
        "  First entry is empty, so it's removed.\n",
        "  'marker' contains the regex at which we want to split\n",
        "  \"\"\"\n",
        "  with open (PATH_TO_FILE,'r') as f:\n",
        "    text = f.read()\n",
        "    lines = re.split(marker,text)\n",
        "    lines.pop(0)\n",
        "  return lines\n",
        "\n",
        "cacm_txt_list = get_data(PATH_TO_CACM_TXT, ID_marker)\n",
        "cacm_qry_list = get_data(PATH_TO_CACM_QRY, ID_marker)\n",
        "\n",
        "# process text file\n",
        "\n",
        "cacm_chunk_title = re.compile('\\.[T]\\n')\n",
        "cacm_chunk_txt = re.compile('\\n\\.W\\n') # not enough\n",
        "cacm_chunk_txt_pub = re.compile('\\.[W,B]')\n",
        "cacm_chunk_publication = re.compile('\\.[B]\\n')\n",
        "cacm_chunk_author = re.compile('^\\.[A]\\n', re.MULTILINE)\n",
        "cacm_chunk_author_add_cross = re.compile('^\\.[A,N,X]\\n',re.MULTILINE) # not enough\n",
        "cacm_chunk_add_cross = re.compile('\\.[B,N,X]\\n')\n",
        "\n",
        "\n",
        "cacm_txt_data = defaultdict(dict)\n",
        "\n",
        "for line in cacm_txt_list:\n",
        "  entries= re.split(cacm_chunk_title,line)\n",
        "  id = entries[0].strip() #save id\n",
        "  no_id = entries[1]\n",
        "\n",
        "  if len(re.split(cacm_chunk_txt, no_id)) == 2: # is there text\n",
        "    no_id_entries = re.split(cacm_chunk_txt_pub, no_id,1)\n",
        "    cacm_txt_data[id]['title'] = no_id_entries[0].strip() # save title\n",
        "    cacm_txt_data[id]['text'] = no_id_entries[1].strip() # save text\n",
        "    no_title_txt = no_id_entries[1]\n",
        "\n",
        "    if len(re.split(cacm_chunk_author, no_title_txt)) == 2: # is there a auhtor\n",
        "      no_title_entries = re.split(cacm_chunk_author_add_cross, no_title_txt)\n",
        "      cacm_txt_data[id]['publication_date'] = no_title_entries[0].strip() # save publication date\n",
        "      cacm_txt_data[id]['author'] = no_title_entries[1].strip() # save athor\n",
        "      cacm_txt_data[id]['add_date'] = no_title_entries[2].strip() # save add date\n",
        "      cacm_txt_data[id]['cross-references'] = no_title_entries[3].strip() # save cross-references\n",
        "\n",
        "    else:\n",
        "      no_title_entries = re.split(cacm_chunk_publication, no_title_txt)\n",
        "      cacm_txt_data[id]['publication_date'] = no_title_entries[0].strip() # save publication date\n",
        "      cacm_txt_data[id]['add_date'] = no_title_entries[1].strip() # save add date\n",
        "      cacm_txt_data[id]['cross-references'] = no_title_entries[1].strip() # save cross-references\n",
        "\n",
        "  else:\n",
        "    no_id_entries = re.split(cacm_chunk_publication, no_id,1)\n",
        "    cacm_txt_data[id]['title'] = no_id_entries[0].strip() # save title\n",
        "    no_title = no_id_entries[1]\n",
        "\n",
        "    if len(re.split(cacm_chunk_author, no_title,1)) == 2: # is there a auhtor\n",
        "      no_title_entries = re.split(cacm_chunk_author_add_cross, no_title)\n",
        "      cacm_txt_data[id]['publication_date'] = no_title_entries[0].strip() # save publication date\n",
        "      cacm_txt_data[id]['author'] = no_title_entries[1].strip() # save athor\n",
        "      cacm_txt_data[id]['add_date'] = no_title_entries[2].strip() # save add date\n",
        "      cacm_txt_data[id]['cross-references'] = no_title_entries[3].strip() # save cross-references\n",
        "\n",
        "    else:\n",
        "      no_title_entries = re.split(cacm_chunk_add_cross, no_title)\n",
        "      cacm_txt_data[id]['publication_date'] = no_title_entries[0].strip() # save publication date\n",
        "      cacm_txt_data[id]['add_date'] = no_title_entries[1].strip() # save add date\n",
        "      cacm_txt_data[id]['cross-references'] = no_title_entries[2].strip() # save cross-references\n",
        "\n",
        "# process the query data\n",
        "\n",
        "qry_chunk_start = re.compile('^\\.W\\n',re.MULTILINE)\n",
        "cacm_qry_data = defaultdict(dict)\n",
        "\n",
        "for n in range(0,len(cacm_qry_list)-1):\n",
        "  line = cacm_qry_list[n+1]\n",
        "  _ , question = re.split(qry_chunk_start,line)\n",
        "  cacm_qry_data[n+1]['question'] = question\n",
        "\n",
        "# process the relevance assesment data\n",
        "cacm_rel = defaultdict(list)\n",
        "\n",
        "with open (PATH_TO_CACM_REL,'r') as f:\n",
        "  for line in f:\n",
        "    line = re.split(' ',line)\n",
        "    cacm_rel[int(line[0])].append(line[1])"
      ],
      "execution_count": 8,
      "outputs": [
        {
          "output_type": "stream",
          "text": [
            "--2020-10-20 13:57:40--  https://nextcloud.samyateia.de/index.php/s/s4WQLTc7DLYsAaZ/download\n",
            "Resolving nextcloud.samyateia.de (nextcloud.samyateia.de)... 194.55.14.32\n",
            "Connecting to nextcloud.samyateia.de (nextcloud.samyateia.de)|194.55.14.32|:443... connected.\n",
            "HTTP request sent, awaiting response... 200 OK\n",
            "Length: 2221056 (2.1M) [application/x-gzip]\n",
            "Saving to: ‘download’\n",
            "\n",
            "download            100%[===================>]   2.12M  2.13MB/s    in 1.0s    \n",
            "\n",
            "2020-10-20 13:57:42 (2.13 MB/s) - ‘download’ saved [2221056/2221056]\n",
            "\n"
          ],
          "name": "stdout"
        }
      ]
    },
    {
      "cell_type": "markdown",
      "metadata": {
        "id": "IQzMkOPobHtX"
      },
      "source": [
        "**Indexing**"
      ]
    },
    {
      "cell_type": "code",
      "metadata": {
        "id": "j8UEeudxSjZe",
        "outputId": "e3faee25-ad06-44d9-8aae-ad13db1c9afc",
        "colab": {
          "base_uri": "https://localhost:8080/"
        }
      },
      "source": [
        "# Elasticsearch settings, without using Opendistro\n",
        "settings_text = {\n",
        "  \"mappings\": {\n",
        "      \"properties\": {\n",
        "          \"text\": {\n",
        "              \"type\": \"text\"\n",
        "              },\n",
        "          \"text_vector\": {\n",
        "           \"type\": \"dense_vector\",\n",
        "           \"dims\": 768\n",
        "            }\n",
        "    }\n",
        "  }\n",
        "}\n",
        "\n",
        "settings_title = {\n",
        "  \"mappings\": {\n",
        "      \"properties\": {\n",
        "          \"title\": {\n",
        "              \"type\": \"text\"\n",
        "              },\n",
        "          \"title_vector\": {\n",
        "           \"type\": \"dense_vector\",\n",
        "           \"dims\": 768\n",
        "            }\n",
        "    }\n",
        "  }\n",
        "}\n",
        "\n",
        "#create index, see https://elasticsearch-py.readthedocs.io/en/master/api.html#elasticsearch.client.IndicesClient.create\n",
        "cacm_index_text = \"bert-text-cacm-corpus\"\n",
        "es.indices.delete(index=cacm_index_text, ignore=[400, 404])\n",
        "es.indices.create(cacm_index_text, body=settings_text)\n",
        "\n",
        "cacm_index_title = \"bert-title-cacm-corpus\"\n",
        "es.indices.delete(index=cacm_index_title, ignore=[400, 404])\n",
        "es.indices.create(cacm_index_title, body=settings_title)\n",
        "\n",
        "cacm_index= \"cacm-corpus\"\n",
        "es.indices.delete(index=cacm_index, ignore=[400, 404])\n",
        "es.indices.create(cacm_index)"
      ],
      "execution_count": 9,
      "outputs": [
        {
          "output_type": "execute_result",
          "data": {
            "text/plain": [
              "{'acknowledged': True, 'index': 'cacm-corpus', 'shards_acknowledged': True}"
            ]
          },
          "metadata": {
            "tags": []
          },
          "execution_count": 9
        }
      ]
    },
    {
      "cell_type": "code",
      "metadata": {
        "id": "FurCBp1tSjRD",
        "outputId": "59133554-712e-4228-ce21-3591abe23820",
        "colab": {
          "base_uri": "https://localhost:8080/"
        }
      },
      "source": [
        "model.eval()\n",
        "\n",
        "for ID, doc_data in cacm_txt_data.items():\n",
        "    # not every entry has text\n",
        "    es.index(index=cacm_index, id=ID, body=doc_data)\n",
        "    if 'text' not in cacm_txt_data[str(ID)]:\n",
        "      es.index(\n",
        "        index=cacm_index_text, \n",
        "        id=ID, \n",
        "        body={\n",
        "            'text_vector': model.encode('none'),\n",
        "            'text': ''\n",
        "            }\n",
        "             )\n",
        "    else:\n",
        "      es.index(\n",
        "          index=cacm_index_text, \n",
        "          id=ID, \n",
        "          body={\n",
        "              'text_vector': model.encode(cacm_txt_data[ID]['text']),\n",
        "              'text': cacm_txt_data[ID]['text']\n",
        "              }\n",
        "               )\n",
        "    if 'title' not in cacm_txt_data[str(ID)]:\n",
        "      es.index(\n",
        "          index=cacm_index_title, \n",
        "          id=ID, \n",
        "          body={\n",
        "              'title_vector': model.encode('none'),\n",
        "              'title': '',\n",
        "        }\n",
        "  )\n",
        "    else:\n",
        "      es.index(\n",
        "          index=cacm_index_title, \n",
        "          id=ID, \n",
        "          body={\n",
        "              'title_vector': model.encode(cacm_txt_data[ID]['title']),\n",
        "              'title': cacm_txt_data[ID]['title'],\n",
        "              }\n",
        "               )\n",
        "\n",
        "#print new index list\n",
        "create_response = es.cat.indices()\n",
        "print(create_response)"
      ],
      "execution_count": 10,
      "outputs": [
        {
          "output_type": "stream",
          "text": [
            "yellow open bert-title-cacm-corpus DbSiZLHmRE2MsWiuvrP6BQ 1 1 450 0  42.4mb  42.4mb\n",
            "yellow open bert-title-adi-corpus  wjb1Za6tReee1yY1cWAPKw 1 1  82 0   1.2mb   1.2mb\n",
            "yellow open cacm-corpus            NCss9_IOSz-Q2qUp0iDuKA 1 1 454 0   1.9mb   1.9mb\n",
            "yellow open bert-text-adi-corpus   S_CFkjyaSzeblkt7PPHd7g 1 1  82 0   1.2mb   1.2mb\n",
            "yellow open bert-text-cacm-corpus  Cpa6oA2XQcqgnN5AP0-_5w 1 1 448 0  33.5mb  33.5mb\n",
            "yellow open adi-corpus             tN2i3LphQOSzvRj-xd6sUg 1 1  82 0 119.1kb 119.1kb\n",
            "\n"
          ],
          "name": "stdout"
        }
      ]
    },
    {
      "cell_type": "markdown",
      "metadata": {
        "id": "E20KaO1jSZTc"
      },
      "source": [
        "### CISI Corpus"
      ]
    },
    {
      "cell_type": "markdown",
      "metadata": {
        "id": "1_BbnCfzaQt5"
      },
      "source": [
        "You can get the corpus from [this link](http://ir.dcs.gla.ac.uk/resources/test_collections/cisi/).  <br>\n",
        "For detailed information about the parsing of this corpus look at [ this Notebook](https://colab.research.google.com/github/pragmalingu/private_experiments/blob/cisi_corpus/CISICorpus.ipynb) or for parsing in generel read [this guide](https://)."
      ]
    },
    {
      "cell_type": "markdown",
      "metadata": {
        "id": "BV4P5-4JaUgJ"
      },
      "source": [
        "**Parsing**"
      ]
    },
    {
      "cell_type": "code",
      "metadata": {
        "id": "T64vUBjiSifp",
        "outputId": "5a6862ef-ead3-4538-e809-131b75ddfba1",
        "colab": {
          "base_uri": "https://localhost:8080/"
        }
      },
      "source": [
        "# download and unzip data\n",
        "!wget https://nextcloud.samyateia.de/index.php/s/ibPgbdqsstrWEAa/download\n",
        "!tar -xf download\n",
        "!rm download\n",
        "\n",
        "# set paths to the dowloaded data as variablesDownload and unzip data.\n",
        "PATH_TO_CISI_TXT = '/content/CISI.ALL'\n",
        "PATH_TO_CISI_QRY = '/content/CISI.QRY'\n",
        "PATH_TO_CISI_REL = '/content/CISI.REL'\n",
        "\n",
        "from collections import defaultdict\n",
        "import re\n",
        "import json\n",
        "from io import StringIO\n",
        "import numpy as np\n",
        "\n",
        "# get the text and query files\n",
        "\n",
        "ID_marker = re.compile('^\\.I',re.MULTILINE)\n",
        "\n",
        "def get_data(PATH_TO_FILE, marker):\n",
        "  \"\"\"\n",
        "  Reads file and spilts text into entries at the ID marker '.I'.\n",
        "  First entry is empty, so it's removed.\n",
        "  'marker' contains the regex at which we want to split\n",
        "  \"\"\"\n",
        "  with open (PATH_TO_FILE,'r') as f:\n",
        "    text = f.read()\n",
        "    lines = re.split(marker,text)\n",
        "    lines.pop(0)\n",
        "  return lines\n",
        "\n",
        "cisi_txt_list = get_data(PATH_TO_CISI_TXT, ID_marker)\n",
        "cisi_qry_list = get_data(PATH_TO_CISI_QRY, ID_marker)\n",
        "\n",
        "# process text file\n",
        "\n",
        "cisi_title_start = re.compile('[\\n]\\.T')\n",
        "cisi_author_start = re.compile('[\\n]\\.A')\n",
        "cisi_date_start = re.compile('[\\n]\\.B')\n",
        "cisi_text_start = re.compile('[\\n]\\.W')\n",
        "cisi_cross_start = re.compile('[\\n]\\.X')\n",
        "\n",
        "cisi_txt_data = defaultdict(dict)\n",
        "\n",
        "for line in cisi_txt_list:\n",
        "  entries = re.split(cisi_title_start,line,1)\n",
        "  id = entries[0].strip()#save the id\n",
        "  no_id = entries[1] \n",
        "  \n",
        "  if len(re.split(cisi_author_start, no_id)) >= 2: # is there just one author?\n",
        "    no_id_entries = re.split(cisi_author_start, no_id,1)\n",
        "    cisi_txt_data[id]['title'] = no_id_entries[0].strip() # save title\n",
        "    no_title = no_id_entries[1]\n",
        "\n",
        "    if len(re.split(cisi_date_start, no_title)) > 1: # is there a publication date?\n",
        "      no_title_entries = re.split(cisi_date_start, no_title)\n",
        "      cisi_txt_data[id]['author'] = no_title_entries[0].strip() # save athour\n",
        "      no_author = no_title_entries[1]\n",
        "      no_author_entries = re.split(cisi_text_start, no_author)\n",
        "      cisi_txt_data[id]['publication_date'] = no_author_entries[0].strip() # save publication date\n",
        "      no_author_date = no_author_entries[1]\n",
        "    else:\n",
        "      no_title_entries = re.split(cisi_text_start, no_title)\n",
        "      cisi_txt_data[id]['author'] = no_title_entries[0].strip() # save athour\n",
        "      no_author_date = no_title_entries[1]\n",
        "\n",
        "  else:\n",
        "    no_id_entries = re.split(cisi_author_start, no_id)\n",
        "    cisi_txt_data[id]['title'] = no_id_entries[0].strip() # save title\n",
        "    cisi_txt_data[id]['author'] = no_id_entries[1].strip() # save first author\n",
        "    no_title_entries = re.split(cisi_text_start, no_title)\n",
        "    cisi_txt_data[id]['author'] += ','+no_title_entries[0].strip() # save second athour\n",
        "    no_author_date = no_title_entries[1]\n",
        "\n",
        "  last_entries = re.split(cisi_cross_start, no_author_date)\n",
        "  cisi_txt_data[id]['text'] = last_entries[0].strip() # save text\n",
        "  cisi_txt_data[id]['cross-refrences'] = last_entries[1].strip() # save cross refrences\n",
        "\n",
        "# process query file  \n",
        "\n",
        "qry_chunk_start = re.compile('[\\n]\\.W')\n",
        "\n",
        "cisi_qry_data = defaultdict(dict)\n",
        "\n",
        "for line in cisi_qry_list:\n",
        "  id , question = re.split(qry_chunk_start,line)\n",
        "  id = re.findall('\\d{1,3}',id)[0]\n",
        "  cisi_qry_data[id]['question'] = question\n",
        "\n",
        "# process the relevance assesment data\n",
        "cisi_rel = defaultdict(list)\n",
        "\n",
        "with open (PATH_TO_CISI_REL,'r') as f:\n",
        "  for line in f:\n",
        "    line = line.replace(' ','\\t')\n",
        "    line = re.split('\\t',line)\n",
        "    line = list(filter(None, line))\n",
        "    cisi_rel[str(line[0])].append(str(line[1]))"
      ],
      "execution_count": 11,
      "outputs": [
        {
          "output_type": "stream",
          "text": [
            "--2020-10-20 14:01:00--  https://nextcloud.samyateia.de/index.php/s/ibPgbdqsstrWEAa/download\n",
            "Resolving nextcloud.samyateia.de (nextcloud.samyateia.de)... 194.55.14.32\n",
            "Connecting to nextcloud.samyateia.de (nextcloud.samyateia.de)|194.55.14.32|:443... connected.\n",
            "HTTP request sent, awaiting response... 200 OK\n",
            "Length: 2385920 (2.3M) [application/x-gzip]\n",
            "Saving to: ‘download’\n",
            "\n",
            "download            100%[===================>]   2.28M  2.28MB/s    in 1.0s    \n",
            "\n",
            "2020-10-20 14:01:03 (2.28 MB/s) - ‘download’ saved [2385920/2385920]\n",
            "\n"
          ],
          "name": "stdout"
        }
      ]
    },
    {
      "cell_type": "markdown",
      "metadata": {
        "id": "MliI7zHGawSY"
      },
      "source": [
        "**Indexing**"
      ]
    },
    {
      "cell_type": "code",
      "metadata": {
        "id": "CXoFBXYUSikA",
        "outputId": "b02ff7ab-fc69-414d-a1f4-baea745c7bf8",
        "colab": {
          "base_uri": "https://localhost:8080/"
        }
      },
      "source": [
        "# Elasticsearch settings, without using Opendistro\n",
        "settings_text = {\n",
        "  \"mappings\": {\n",
        "      \"properties\": {\n",
        "          \"text\": {\n",
        "              \"type\": \"text\"\n",
        "              },\n",
        "          \"text_vector\": {\n",
        "           \"type\": \"dense_vector\",\n",
        "           \"dims\": 768\n",
        "            }\n",
        "    }\n",
        "  }\n",
        "}\n",
        "\n",
        "settings_title = {\n",
        "  \"mappings\": {\n",
        "      \"properties\": {\n",
        "          \"title\": {\n",
        "              \"type\": \"text\"\n",
        "              },\n",
        "          \"title_vector\": {\n",
        "           \"type\": \"dense_vector\",\n",
        "           \"dims\": 768\n",
        "            }\n",
        "    }\n",
        "  }\n",
        "}\n",
        "\n",
        "#create index, see https://elasticsearch-py.readthedocs.io/en/master/api.html#elasticsearch.client.IndicesClient.create\n",
        "cisi_index_title = \"bert-title-cisi-corpus\"\n",
        "es.indices.delete(index=cisi_index_title, ignore=[400, 404])\n",
        "es.indices.create(cisi_index_title, body=settings_title)\n",
        "\n",
        "cisi_index_text = \"bert-text-cisi-corpus\"\n",
        "es.indices.delete(index=cisi_index_text, ignore=[400, 404])\n",
        "es.indices.create(cisi_index_text, body=settings_text)\n",
        "\n",
        "cisi_index = \"cisi-corpus\"\n",
        "es.indices.delete(index=cisi_index, ignore=[400, 404])\n",
        "es.indices.create(cisi_index)"
      ],
      "execution_count": 12,
      "outputs": [
        {
          "output_type": "execute_result",
          "data": {
            "text/plain": [
              "{'acknowledged': True, 'index': 'cisi-corpus', 'shards_acknowledged': True}"
            ]
          },
          "metadata": {
            "tags": []
          },
          "execution_count": 12
        }
      ]
    },
    {
      "cell_type": "code",
      "metadata": {
        "id": "FF6S6Q64SioH",
        "outputId": "bbbb3324-db4d-4e5c-db08-126eb472ecb2",
        "colab": {
          "base_uri": "https://localhost:8080/"
        }
      },
      "source": [
        "for ID, doc_data in cisi_txt_data.items():\n",
        "    es.index(\n",
        "      index=cisi_index_text, \n",
        "      id=ID, \n",
        "      body={\n",
        "          'text_vector': model.encode(cisi_txt_data[ID]['text']),\n",
        "          'text': cisi_txt_data[ID]['text']\n",
        "          }\n",
        "    )\n",
        "    es.index(\n",
        "      index=cisi_index_title, \n",
        "      id=ID, \n",
        "      body={\n",
        "          'title_vector': model.encode(cisi_txt_data[ID]['title']),\n",
        "          'title': cisi_txt_data[ID]['title'],\n",
        "          }\n",
        "    )\n",
        "    es.index(index=cisi_index, id=ID, body=doc_data)\n",
        "\n",
        "#print new index list\n",
        "create_response = es.cat.indices()\n",
        "print(create_response)"
      ],
      "execution_count": 13,
      "outputs": [
        {
          "output_type": "stream",
          "text": [
            "yellow open bert-title-cacm-corpus DbSiZLHmRE2MsWiuvrP6BQ 1 1 450 0  42.4mb  42.4mb\n",
            "yellow open bert-title-cisi-corpus WQf_ov8kRwOMxaTB-vhkDQ 1 1 438 0  22.1mb  22.1mb\n",
            "yellow open bert-title-adi-corpus  wjb1Za6tReee1yY1cWAPKw 1 1  82 0   1.2mb   1.2mb\n",
            "yellow open cacm-corpus            NCss9_IOSz-Q2qUp0iDuKA 1 1 454 0   1.9mb   1.9mb\n",
            "yellow open bert-text-adi-corpus   S_CFkjyaSzeblkt7PPHd7g 1 1  82 0   1.2mb   1.2mb\n",
            "yellow open bert-text-cacm-corpus  Cpa6oA2XQcqgnN5AP0-_5w 1 1 448 0  33.5mb  33.5mb\n",
            "yellow open cisi-corpus            itpkSN0tQtmjSHUefuM8ww 1 1 444 0   2.4mb   2.4mb\n",
            "yellow open adi-corpus             tN2i3LphQOSzvRj-xd6sUg 1 1  82 0 119.1kb 119.1kb\n",
            "yellow open bert-text-cisi-corpus  VI2_BFMKTMWroZZwmqElhA 1 1 442 0  23.7mb  23.7mb\n",
            "\n"
          ],
          "name": "stdout"
        }
      ]
    },
    {
      "cell_type": "markdown",
      "metadata": {
        "id": "2uBvUwRPpxT_"
      },
      "source": [
        "### Cranfield Corpus\n"
      ]
    },
    {
      "cell_type": "markdown",
      "metadata": {
        "id": "bcJkkOXMTL79"
      },
      "source": [
        "You can get the corpus from [this link](http://ir.dcs.gla.ac.uk/resources/test_collections/cran/).  <br>\n",
        "For detailed information about the parsing of this corpus look at [ this Notebook](https://colab.research.google.com/github/pragmalingu/private_experiments/blob/cranfield_corpus/CranfieldCorpus.ipynb) or for parsing in generel read [this guide](https://)."
      ]
    },
    {
      "cell_type": "markdown",
      "metadata": {
        "id": "QRQUEbD_TRv-"
      },
      "source": [
        "**Parsing**"
      ]
    },
    {
      "cell_type": "code",
      "metadata": {
        "id": "kmlwZmVMTRCY",
        "outputId": "225ab40d-8705-4797-83f3-fe83353bf848",
        "colab": {
          "base_uri": "https://localhost:8080/"
        }
      },
      "source": [
        "# download and unzip data\n",
        "!wget https://nextcloud.samyateia.de/index.php/s/ePSxPpLELCWteeL/download\n",
        "!tar -xf download\n",
        "!rm download\n",
        "\n",
        "# set paths to the dowloaded data as variables\n",
        "PATH_TO_CRAN_TXT = '/content/cran.all.1400'\n",
        "PATH_TO_CRAN_QRY = '/content/cran.qry'\n",
        "PATH_TO_CRAN_REL = '/content/cranqrel'\n",
        "\n",
        "from collections import defaultdict\n",
        "import re\n",
        "import json\n",
        "from io import StringIO\n",
        "import numpy as np\n",
        "\n",
        "\n",
        "# get the text entries from the text and query files\n",
        "\n",
        "ID_marker = re.compile('\\.I')\n",
        "\n",
        "def get_data(PATH_TO_FILE, marker):\n",
        "  \"\"\"\n",
        "  Reads file and spilts text into entries at the ID marker '.I'.\n",
        "  First entry is empty, so it's removed.\n",
        "  'marker' contains the regex at which we want to split\n",
        "  \"\"\"\n",
        "  with open (PATH_TO_FILE,'r') as f:\n",
        "    text = f.read().replace('\\n',\" \")\n",
        "    lines = re.split(marker,text)\n",
        "    lines.pop(0)\n",
        "  return lines\n",
        "\n",
        "cran_txt_list = get_data(PATH_TO_CRAN_TXT, ID_marker)\n",
        "cran_qry_list = get_data(PATH_TO_CRAN_QRY, ID_marker)\n",
        "\n",
        "# process text file\n",
        "\n",
        "cran_chunk_start = re.compile('\\.[A,B,T,W]')\n",
        "cran_txt_data = defaultdict(dict)\n",
        "\n",
        "for line in cran_txt_list:\n",
        "  entries= re.split(cran_chunk_start,line)\n",
        "  id = entries[0].strip()\n",
        "  title = entries[1]\n",
        "  author = entries[2]\n",
        "  publication_date = entries[3]\n",
        "  text = entries[4:]\n",
        "  cran_txt_data[id]['title'] = title\n",
        "  cran_txt_data[id]['author'] = author\n",
        "  cran_txt_data[id]['publication_date'] = publication_date\n",
        "  cran_txt_data[id]['text'] = ''.join(text)\n",
        "\n",
        "# process query file\n",
        "\n",
        "qry_chunk_start = re.compile('\\.W')\n",
        "cran_qry_data = defaultdict(dict)\n",
        "\n",
        "for n in range(0,len(cran_qry_list)-1):\n",
        "  line = cran_qry_list[n+1]\n",
        "  _ , question = re.split(qry_chunk_start,line)\n",
        "  cran_qry_data[n+1]['question'] = question\n",
        "\n",
        "# process relevance assesments without rating\n",
        "cran_rel = defaultdict(list)\n",
        "\n",
        "with open (PATH_TO_CRAN_REL,'r') as f:\n",
        "  for line in f:\n",
        "    line = re.split(' ',line)\n",
        "    cran_rel[int(line[0])].append(line[1])"
      ],
      "execution_count": 14,
      "outputs": [
        {
          "output_type": "stream",
          "text": [
            "--2020-10-20 14:02:35--  https://nextcloud.samyateia.de/index.php/s/ePSxPpLELCWteeL/download\n",
            "Resolving nextcloud.samyateia.de (nextcloud.samyateia.de)... 194.55.14.32\n",
            "Connecting to nextcloud.samyateia.de (nextcloud.samyateia.de)|194.55.14.32|:443... connected.\n",
            "HTTP request sent, awaiting response... 200 OK\n",
            "Length: 1698816 (1.6M) [application/x-gzip]\n",
            "Saving to: ‘download’\n",
            "\n",
            "download            100%[===================>]   1.62M  1.92MB/s    in 0.8s    \n",
            "\n",
            "2020-10-20 14:02:36 (1.92 MB/s) - ‘download’ saved [1698816/1698816]\n",
            "\n"
          ],
          "name": "stdout"
        }
      ]
    },
    {
      "cell_type": "code",
      "metadata": {
        "id": "OBS65mjTC0SG",
        "outputId": "7ed4b25c-69d0-4953-a265-58aa15e06a25",
        "colab": {
          "base_uri": "https://localhost:8080/"
        }
      },
      "source": [
        "print(cran_rel)"
      ],
      "execution_count": 15,
      "outputs": [
        {
          "output_type": "stream",
          "text": [
            "defaultdict(<class 'list'>, {1: ['184', '29', '31', '12', '51', '102', '13', '14', '15', '57', '378', '859', '185', '30', '37', '52', '142', '195', '875', '56', '66', '95', '462', '497', '858', '876', '879', '880', '486'], 2: ['12', '15', '184', '858', '51', '102', '202', '14', '52', '380', '746', '859', '948', '285', '390', '391', '442', '497', '643', '856', '857', '877', '864', '658', '486'], 3: ['5', '6', '90', '91', '119', '144', '181', '399', '485'], 4: ['236', '166', '488'], 5: ['552', '401', '1297', '1296', '488'], 6: ['99', '115', '257', '258', '491'], 7: ['20', '56', '57', '58', '19', '492'], 8: ['48', '122', '20', '58', '196', '354', '360', '197', '999', '1112', '1005', '492'], 9: ['21', '22', '550', '534'], 10: ['259', '405', '302', '436', '437', '438', '998', '1011', '493'], 11: ['27', '28', '262', '160', '20', '263', '654', '495'], 12: ['86', '194', '650', '649', '652', '624'], 13: ['64', '265', '65', '311', '496'], 14: ['64', '65', '496'], 15: ['463', '462', '497'], 16: ['266', '106', '196', '498'], 17: ['106', '196', '498'], 18: ['196', '197', '198', '498'], 19: ['32', '67', '164', '639', '715', '716', '719', '1379', '717', '499'], 20: ['87', '88', '104', '267', '268', '269', '270', '407', '408', '500'], 21: ['271', '16', '413', '414', '502'], 22: ['68', '502'], 23: ['900', '902', '200', '201', '601', '899', '903', '593', '199', '594', '901', '544', '597', '749', '917', '919', '1333', '634', '687', '698', '1290', '700', '704', '705', '1109', '1112', '1141', '1197', '1256', '1259', '1272', '1289', '892'], 24: ['46', '47', '92', '756'], 25: ['213', '212', '214', '215', '216', '276', '277', '426', '427', '511'], 26: ['145', '611', '376', '406', '565', '1076', '511'], 27: ['224', '278', '428', '512'], 28: ['224', '279', '512'], 29: ['250', '514', '609', '225', '793', '464', '465', '612', '466', '513'], 30: ['225', '464', '514', '466', '609', '612', '793', '513'], 31: ['776', '751'], 32: ['465', '249', '777', '778', '247', '250', '752'], 33: ['252', '431', '141', '516'], 34: ['252', '431', '672', '714', '799', '800', '516'], 35: ['166', '167', '132', '517'], 36: ['169', '168', '518'], 37: ['173', '188', '172', '97', '121', '187', '242', '409', '487', '519'], 38: ['24', '283', '552', '272', '557', '558', '553', '554', '555', '556', '536'], 39: ['272', '555', '24', '283', '552', '79', '207', '418', '557', '554', '556', '505', '1257', '536'], 40: ['24', '283', '552', '272', '85', '976', '557', '558', '553', '554', '555', '556', '536'], 41: ['288', '289', '433', '520'], 42: ['468', '467', '469', '470', '775', '521'], 43: ['467', '468', '39', '503', '775', '469', '521'], 44: ['302', '436', '437', '524'], 45: ['305', '570', '308', '481', '338', '1226', '1355', '1185', '629', '663', '798', '572', '525'], 46: ['305', '338', '344', '481', '84', '123', '1185', '623', '570', '798', '1226', '629', '663', '572', '1355', '525'], 47: ['304', '306', '307', '305', '629', '663', '308', '309', '310', '570', '798', '1185', '1355', '572', '525'], 48: ['439', '311', '316', '440', '187', '314', '315', '797', '798', '794', '265', '526'], 49: ['320', '478', '527'], 50: ['326', '629', '21', '94', '22', '306', '528'], 51: ['94', '23', '105', '381', '192', '326', '63', '494', '629', '261', '528'], 52: ['21', '22', '306', '326', '528'], 53: ['296', '33', '446', '447', '448', '449', '208', '297', '298', '299', '531'], 54: ['84', '24', '101', '294', '628', '661', '364', '365', '560', '123'], 55: ['16', '375', '460', '378', '255', '271', '376', '377', '562', '502', '538'], 56: ['380', '749', '1339', '14', '705', '779', '780', '379', '643', '686', '753'], 57: ['380', '593', '746', '914', '14', '379', '705', '779', '780', '704', '12', '15', '857', '859', '753'], 58: ['788', '785', '786', '787', '23', '381', '382', '784', '789', '754'], 59: ['788', '785', '786', '787', '754'], 60: ['475', '476', '527', '320', '478', '322'], 61: ['565', '566', '564', '1159', '661', '539'], 62: ['566', '567', '1084', '1078', '1081', '539'], 63: ['567', '564', '566', '539'], 64: ['390', '391', '627'], 65: ['2', '3', '128', '180', '323', '324', '418', '664', '629', '393', '394', '659', '4', '384', '1302', '388'], 66: ['664', '629', '180', '659', '660', '388'], 67: ['2', '3', '664', '629', '323', '324', '393', '128', '180', '394', '659', '389', '4', '1302', '388'], 68: ['662', '101', '460', '661', '62', '628'], 69: ['458', '570', '977', '62', '336', '540'], 70: ['333', '568', '570', '62', '101', '283', '565', '24', '977', '307', '540'], 71: ['569', '571', '1355', '101', '655', '1213', '798', '572', '540'], 72: ['21', '324', '630', '94', '664', '304', '128', '323', '663', '570', '494', '305', '309', '571', '655', '388', '62', '629'], 73: ['332', '572', '578', '573', '574', '421', '25', '317', '577', '401', '625', '160', '1213', '1304', '1198', '655', '1355', '68', '571', '1252', '541'], 74: ['576', '656', '575', '317', '574', '578', '541'], 75: ['667', '324', '378', '666', '670', '630'], 76: ['378', '667', '324', '666', '670', '1391', '329', '630'], 77: ['668', '666', '667', '670', '329', '1391', '630'], 78: ['588', '589', '590', '543'], 79: ['597', '598', '688', '708', '713', '544'], 80: ['594', '597', '596', '598', '544'], 81: ['672', '799', '631'], 82: ['676', '677', '678', '679', '205', '632'], 83: ['680', '681', '682', '683', '633'], 84: ['606', '406', '608', '142', '294', '354', '522', '962', '1192', '1213', '873', '546'], 85: ['608', '406', '606', '710', '546'], 86: ['594', '790', '755'], 87: ['606', '611', '562', '50', '236', '609', '612', '406', '547'], 88: ['613', '614', '615', '616', '617', '618', '548'], 89: ['793', '794', '797', '795', '796', '420', '757'], 90: ['794', '797', '798', '793', '796', '291', '800', '1187', '256', '311', '335', '1364', '1367', '757'], 91: ['252', '801', '797', '799', '800', '793', '794', '1154', '672', '757'], 92: ['802', '803', '808', '809', '811', '804', '805', '806', '253', '1247', '807', '810', '1243', '758'], 93: ['691', '635'], 94: ['24', '283', '294', '559', '689', '690', '101', '1393', '354', '1104', '1161', '1395', '635'], 95: ['283', '662', '635'], 96: ['703', '704', '705', '698', '699', '700', '1289', '779', '701', '702', '706', '792', '1339', '637'], 97: ['699', '700', '701', '698', '1289', '702', '703', '779', '1339', '681', '637'], 98: ['713', '708', '709', '711', '712', '638'], 99: ['717', '719', '1001', '1379', '639'], 100: ['821', '822', '824', '820', '823', '825', '1122', '1051', '1121', '760'], 101: ['817', '818', '819', '820', '825', '824', '760'], 102: ['728', '913', '910', '911', '729'], 103: ['826', '828', '761'], 104: ['833', '834', '835', '836', '837', '762'], 105: ['848', '844', '845', '846', '847', '764'], 106: ['847', '846', '849', '844', '845', '764'], 107: ['725', '728', '729', '911', '720', '75', '909', '640'], 108: ['724', '726', '727', '75', '909', '720', '723', '640'], 109: ['860', '861', '606', '980', '12', '766'], 110: ['862', '863', '31', '1174', '766'], 111: ['15', '391', '864', '914', '392', '627', '658', '894'], 112: ['731', '730', '641'], 113: ['746', '748', '749', '265', '643'], 114: ['919', '916', '920', '921', '895'], 115: ['51', '185', '878', '874', '184'], 116: ['922', '360', '605', '927', '492', '896'], 117: ['360', '605', '896'], 118: ['923', '924', '925', '896'], 119: ['926', '897'], 120: ['829', '887', '890', '885', '886', '888', '889', '1146', '891', '769'], 121: ['885', '886', '1146', '887', '888', '890', '891', '769'], 122: ['931', '932', '934', '935', '936', '937', '938', '957', '1131', '898'], 123: ['966', '967', '941'], 124: ['967', '968', '964', '965', '941'], 125: ['969', '970', '971', '187', '973', '173', '974', '177', '972', '174', '997', '176', '409', '946', '992', '994', '995', '942'], 126: ['974', '1326', '187', '969', '970', '971', '972', '973', '942'], 127: ['101', '164', '981', '982', '983', '944'], 128: ['985', '990', '945'], 129: ['985', '987', '984', '988', '989', '986', '990', '945'], 130: ['766', '858', '859', '1008', '12', '948'], 131: ['1014', '1020', '1013', '1016', '1017', '1012', '1018', '1019', '950'], 132: ['1014', '1013', '1015', '1016', '1012', '1018', '1019', '1017', '951', '1023', '1020', '952', '1024', '1025', '1026', '950'], 133: ['1020', '1018', '1019', '1024', '1012', '1016', '1022', '950'], 134: ['1027', '1028', '951'], 135: ['1018', '1017', '1023', '1024', '1025', '1026', '950', '1016', '951'], 136: ['1021', '1022', '1034', '951'], 137: ['1029', '1034', '951', '1021', '952'], 138: ['846', '1036', '953'], 139: ['1031', '1032', '1035', '1037', '953'], 140: ['1038', '1039', '1041', '1042', '1043', '1044', '954'], 141: ['1038', '1041', '1043', '1044', '1039', '1042', '954'], 142: ['1042', '954'], 143: ['1043', '1044', '954'], 144: ['840', '1045', '763', '838', '839', '841', '955'], 145: ['763', '838', '839', '1045', '743', '852', '841', '955'], 146: ['840', '1045', '955'], 147: ['889', '1046', '1048', '1047', '1049', '1051', '1050', '843', '926', '822', '956'], 148: ['889', '1048', '1050', '1046', '1049', '843', '956'], 149: ['1057', '1058', '1059', '1052', '930', '931', '934', '936', '937', '938', '1131', '957'], 150: ['1074', '1075', '1062'], 151: ['687', '1076', '1074', '1075', '1077', '1062'], 152: ['1076', '1077', '569', '572', '687', '655', '1062'], 153: ['1078', '1083', '1084', '1080', '1081', '1082', '1085', '1063'], 154: ['1087', '1088', '1063'], 155: ['1103', '1100', '983', '1101', '1104', '1099', '1065'], 156: ['983', '1102', '1097', '1100', '274', '1096', '1098', '1099', '1103', '982', '1104', '553', '1101', '82', '1065'], 157: ['273', '1105', '1106', '93', '161', '302', '122', '666', '1107', '556', '25', '1011', '19', '35', '1355', '372', '410', '456', '36', '44', '215', '626', '1151', '354', '369', '370', '421', '557', '605', '655', '657', '689', '1307', '318', '423', '1304', '160', '482', '572', '1006'], 158: ['302', '1011', '552', '998', '1009', '1010', '273', '556', '1006'], 159: ['234', '1108', '1110', '1114', '1115', '1111', '1112', '231', '1066'], 160: ['1134', '1137', '1138', '1135', '1136', '1071'], 161: ['54', '1386', '562', '336', '55', '996', '489'], 162: ['111', '155', '460', '461', '54', '562', '458', '459', '489'], 163: ['20', '56', '57', '492'], 164: ['311', '415', '416', '798', '316', '335', '1364', '1367', '503'], 165: ['71', '72', '504'], 166: ['40', '41', '74', '207', '272', '418', '170', '1264', '504'], 167: ['274', '82', '509'], 168: ['217', '774', '750'], 169: ['118', '157', '774', '775', '750'], 170: ['139', '238', '239', '904', '906', '672', '893'], 171: ['252', '431', '141', '516'], 172: ['320', '321', '322', '476', '527'], 173: ['367', '451', '532'], 174: ['58', '411', '36', '423', '482', '533'], 175: ['351', '966', '967', '964', '965', '941'], 176: ['582', '583', '584', '585', '978', '586', '982', '542'], 177: ['588', '589', '592', '772', '590', '543'], 178: ['591', '590', '588', '589', '543'], 179: ['680', '681', '682', '683', '633'], 180: ['622', '619', '620', '621', '617', '616', '1150', '548'], 181: ['973', '974', '409', '997', '1061', '942'], 182: ['685', '686', '634'], 183: ['803', '808', '802', '807', '811', '253', '804', '805', '806', '809', '810', '1243', '1247', '758'], 184: ['32', '67', '715', '717', '716', '499', '1379', '639'], 185: ['858', '859', '857', '1008', '856', '15', '285', '894', '766', '948'], 186: ['1309', '1378', '923', '161', '421', '1377', '924', '1062', '1074', '1379', '1380', '1075', '225', '1280', '1305', '1304', '1188'], 187: ['838', '839', '840', '743', '842', '1045', '763'], 188: ['721', '722', '723', '75', '909', '724', '726', '725', '728', '729', '911', '640'], 189: ['395', '866', '869', '865', '868', '870', '867', '872', '873', '767'], 190: ['15', '391', '285', '390', '864', '894'], 191: ['914', '915', '285', '857', '858', '15', '391', '856', '390', '1008', '948', '864', '658', '894'], 192: ['733', '734', '735', '736', '641'], 193: ['730', '422', '648', '731', '733', '734', '1392', '735', '736', '641'], 194: ['739', '740', '742', '744', '741', '743', '642'], 195: ['739', '742', '743', '642'], 196: ['51', '185', '874', '878', '879', '880', '12', '875', '876', '202', '746', '13', '184'], 197: ['881', '883', '884', '768'], 198: ['887', '888', '889', '843', '769'], 199: ['1052', '1053', '1054', '1055', '1056', '1060', '743', '744', '957'], 200: ['1134', '1137', '1138', '1071'], 201: ['552', '625', '1296', '93', '1151', '401', '110', '1391', '423', '541', '1295', '318', '1304', '160', '369', '482', '1140'], 202: ['1303', '1304', '1309', '1306', '1308', '605', '602', '603', '604', '1110', '1305', '1310', '48', '232', '1285'], 203: ['58', '1305', '1306', '602', '603', '604', '1307', '1310', '19', '232', '323', '688', '122', '1188', '1285'], 204: ['572', '1311', '63', '540', '602', '603', '604', '1305', '1188', '307', '1213', '655', '1355', '68', '1285'], 205: ['1321', '1322', '1287'], 206: ['1338', '1341', '1340', '1290'], 207: ['1338', '1339', '1340', '1341', '879', '1290'], 208: ['163', '1344', '1345', '164', '1347', '1346', '1291'], 209: ['1351', '1356', '1350', '187', '487', '45', '55', '316', '1383', '1385', '1106', '1228', '1292'], 210: ['1171', '891', '1172', '1173', '1030', '1174', '1145'], 211: ['891', '1172', '1173', '1174', '763', '769', '1030', '1031', '1033', '1052', '1068', '1145'], 212: ['888', '889', '1178', '885', '887', '886', '841', '1176', '1177', '890', '769', '891', '1173', '843', '1146'], 213: ['888', '885', '887', '889', '1178', '769', '1173', '1177', '886', '890', '843', '1146'], 214: ['833', '1361', '1362', '1363', '1294'], 215: ['37', '35', '535'], 216: ['156', '506'], 217: ['666', '667', '1258', '1394', '668', '670', '1204', '1391', '1395', '1300', '37', '559', '630', '1107', '1213', '1191'], 218: ['24', '101', '666', '667', '93', '1258', '1393', '559', '630', '662', '1104', '1107', '1204', '1213', '1300', '1191'], 219: ['1391', '666', '667', '1258', '1078', '1080', '1081', '1394', '1395', '1214', '1198', '1204', '1300', '559', '630', '662', '1107', '1213', '1191'], 220: ['1383', '1385', '155', '241', '1382', '1370', '1386', '111', '1384', '150', '292', '458', '479', '977', '376', '459', '1365', '62', '1366', '1182'], 221: ['155', '1383', '1385', '1382', '62', '292', '241', '1370', '1384', '458', '459', '461', '1386', '1365', '1366', '111', '150', '479', '1182'], 222: ['400', '419', '1387', '412', '1392', '1398', '1397', '1400', '1399', '1396'], 223: ['400', '1387', '1392', '1398', '1396'], 224: ['656', '1313', '1317', '1316', '1318', '1319', '1157', '1274', '1286'], 225: ['1379', '1305', '1304', '40', '293', '1309', '161', '421', '1377', '1378', '1381', '225', '1380', '448', '449', '1124', '1280', '433', '923', '924', '1062', '1074', '1075', '1213', '1188']})\n"
          ],
          "name": "stdout"
        }
      ]
    },
    {
      "cell_type": "markdown",
      "metadata": {
        "id": "WFXOYM-PVk3c"
      },
      "source": [
        "Too long texts will be cutted to 364 tokens per text"
      ]
    },
    {
      "cell_type": "markdown",
      "metadata": {
        "id": "WlYIgjIkTTbT"
      },
      "source": [
        "**Indexing**"
      ]
    },
    {
      "cell_type": "code",
      "metadata": {
        "id": "K2X6d9uySfeq",
        "outputId": "1970eecd-e7cf-414b-8426-936d39dff07b",
        "colab": {
          "base_uri": "https://localhost:8080/"
        }
      },
      "source": [
        "# Elasticsearch settings, without using Opendistro\n",
        "settings_text = {\n",
        "  \"mappings\": {\n",
        "      \"properties\": {\n",
        "          \"text\": {\n",
        "              \"type\": \"text\"\n",
        "              },\n",
        "          \"text_vector\": {\n",
        "           \"type\": \"dense_vector\",\n",
        "           \"dims\": 768\n",
        "            }\n",
        "    }\n",
        "  }\n",
        "}\n",
        "\n",
        "settings_title = {\n",
        "  \"mappings\": {\n",
        "      \"properties\": {\n",
        "          \"title\": {\n",
        "              \"type\": \"text\"\n",
        "              },\n",
        "          \"title_vector\": {\n",
        "           \"type\": \"dense_vector\",\n",
        "           \"dims\": 768\n",
        "            }\n",
        "    }\n",
        "  }\n",
        "}\n",
        "\n",
        "#create index, see https://elasticsearch-py.readthedocs.io/en/master/api.html#elasticsearch.client.IndicesClient.create\n",
        "cran_index_text = \"bert-text-cranfield-corpus\"\n",
        "es.indices.delete(index=cran_index_text, ignore=[400, 404])\n",
        "es.indices.create(cran_index_text, body=settings_text)\n",
        "\n",
        "\n",
        "cran_index_title = \"bert-title-cranfield-corpus\"\n",
        "es.indices.delete(index=cran_index_title, ignore=[400, 404])\n",
        "es.indices.create(cran_index_title, body=settings_title)\n",
        "\n",
        "cran_index = \"cranfield-corpus\"\n",
        "es.indices.delete(index=cran_index, ignore=[400, 404])\n",
        "es.indices.create(cran_index)"
      ],
      "execution_count": 16,
      "outputs": [
        {
          "output_type": "execute_result",
          "data": {
            "text/plain": [
              "{'acknowledged': True,\n",
              " 'index': 'cranfield-corpus',\n",
              " 'shards_acknowledged': True}"
            ]
          },
          "metadata": {
            "tags": []
          },
          "execution_count": 16
        }
      ]
    },
    {
      "cell_type": "code",
      "metadata": {
        "id": "76ENSgO8Rj3g",
        "outputId": "5c3baaed-dc31-4521-f240-6981deb31be9",
        "colab": {
          "base_uri": "https://localhost:8080/"
        }
      },
      "source": [
        "model.eval()\n",
        "#index documents, see https://elasticsearch-py.readthedocs.io/en/master/#example-usage\n",
        "for ID, doc_data in cran_txt_data.items():\n",
        "      # not every entry has text\n",
        "      es.index(index=cran_index, id=ID, body=doc_data)\n",
        "      if len(cran_txt_data[str(ID)]['text']) == 1:\n",
        "        es.index(\n",
        "            index=cran_index_text, \n",
        "            id=ID, \n",
        "            body={\n",
        "                'text_vector': model.encode('none'),\n",
        "                'text': cran_txt_data[ID]['text']\n",
        "                }\n",
        "                 )\n",
        "      else:\n",
        "        es.index(\n",
        "            index=cran_index_text, \n",
        "            id=ID, \n",
        "            body={\n",
        "                'text_vector': model.encode(cran_txt_data[ID]['text']),\n",
        "                'text': cran_txt_data[ID]['text']\n",
        "                }\n",
        "                 )\n",
        "      es.index(\n",
        "         index=cran_index_title, \n",
        "         id=ID, \n",
        "         body={\n",
        "          'title_vector': model.encode(cran_txt_data[ID]['title']),\n",
        "          'title': cran_txt_data[ID]['title'],\n",
        "          }\n",
        "    )\n",
        "\n",
        "#print new index list\n",
        "create_response = es.cat.indices()\n",
        "print(create_response)"
      ],
      "execution_count": 17,
      "outputs": [
        {
          "output_type": "stream",
          "text": [
            "yellow open bert-title-cacm-corpus      DbSiZLHmRE2MsWiuvrP6BQ 1 1 450 0  42.4mb  42.4mb\n",
            "yellow open bert-title-cisi-corpus      WQf_ov8kRwOMxaTB-vhkDQ 1 1 438 0  22.1mb  22.1mb\n",
            "yellow open bert-title-adi-corpus       wjb1Za6tReee1yY1cWAPKw 1 1  82 0   1.2mb   1.2mb\n",
            "yellow open bert-text-cranfield-corpus  4oTqJqRQTx-jf0bZ4l6fmA 1 1 434 0  23.3mb  23.3mb\n",
            "yellow open cranfield-corpus            7ey2SoyATOKlVeKcM0bo2g 1 1 439 0   1.7mb   1.7mb\n",
            "yellow open bert-title-cranfield-corpus zLjG9ri1SXGW1hz50x_GcA 1 1 436 0  21.4mb  21.4mb\n",
            "yellow open cacm-corpus                 NCss9_IOSz-Q2qUp0iDuKA 1 1 454 0   1.9mb   1.9mb\n",
            "yellow open bert-text-adi-corpus        S_CFkjyaSzeblkt7PPHd7g 1 1  82 0   1.2mb   1.2mb\n",
            "yellow open bert-text-cacm-corpus       Cpa6oA2XQcqgnN5AP0-_5w 1 1 448 0  33.5mb  33.5mb\n",
            "yellow open cisi-corpus                 itpkSN0tQtmjSHUefuM8ww 1 1 444 0   2.4mb   2.4mb\n",
            "yellow open bert-text-cisi-corpus       VI2_BFMKTMWroZZwmqElhA 1 1 442 0  23.7mb  23.7mb\n",
            "yellow open adi-corpus                  tN2i3LphQOSzvRj-xd6sUg 1 1  82 0 119.7kb 119.7kb\n",
            "\n"
          ],
          "name": "stdout"
        }
      ]
    },
    {
      "cell_type": "markdown",
      "metadata": {
        "id": "Hth0myYcBlAk"
      },
      "source": [
        "### LISA Corpus"
      ]
    },
    {
      "cell_type": "markdown",
      "metadata": {
        "id": "f3e5px45BlAo"
      },
      "source": [
        "You can get the corpus from [this link](http://ir.dcs.gla.ac.uk/resources/test_collections/lisa/).  <br>\n",
        "For detailed information about the format of the files, see the PragmaLingu [ Benchmarks](https://pragmalingu.de/docs/benchmarks/overview)"
      ]
    },
    {
      "cell_type": "markdown",
      "metadata": {
        "id": "8D3zYeCgBlAq"
      },
      "source": [
        "**Parsing**"
      ]
    },
    {
      "cell_type": "code",
      "metadata": {
        "id": "Eo4o1z1vBlAs",
        "outputId": "41c43882-bc42-4549-cc97-d9f3935f8a51",
        "colab": {
          "base_uri": "https://localhost:8080/"
        }
      },
      "source": [
        "# download and unzip data\n",
        "!wget https://nextcloud.samyateia.de/index.php/s/Ed8gekyDgpkGGQ6/download\n",
        "!tar -xf download\n",
        "!rm download\n",
        "\n",
        "# set paths to the dowloaded data as variablesDownload and unzip data.\n",
        "\n",
        "PATH_TO_LISA_TXT = '/content/'\n",
        "PATH_TO_LISA_QRY = '/content/LISA.QUE'\n",
        "PATH_TO_LISA_REL = '/content/LISARJ.NUM'\n",
        "\n",
        "from collections import defaultdict\n",
        "import re\n",
        "import json\n",
        "from io import StringIO\n",
        "import numpy as np\n",
        "import os\n",
        "\n",
        "# get the text and query files\n",
        "\n",
        "file_regex = re.compile('LISA[0-5]')\n",
        "lisa_files = [i for i in os.listdir(PATH_TO_LISA_TXT) if os.path.isfile(os.path.join(PATH_TO_LISA_TXT,i)) and re.match(file_regex,i)]\n",
        "\n",
        "txt_entry_marker = re.compile('\\*{44}',re.MULTILINE)\n",
        "qry_entry_marker = re.compile('#')\n",
        "\n",
        "def get_data(PATH_TO_FILES, marker):\n",
        "  \"\"\"\n",
        "  Reads multiple files and spilts text into entries at the entry marker.\n",
        "  The 'marker' contains the regex at which we want to split\n",
        "  Pops last element since it's empty.\n",
        "  \"\"\"\n",
        "  with open (PATH_TO_FILES,'r') as f:\n",
        "    text = f.read().replace('     ','')\n",
        "    lines = re.split(marker,text)\n",
        "    lines.pop()\n",
        "  return lines\n",
        "\n",
        "lisa_txt_list = []\n",
        "for name in lisa_files: \n",
        "  lisa_txt_list.extend(get_data(PATH_TO_LISA_TXT+name, txt_entry_marker))\n",
        "\n",
        "lisa_qry_list = get_data(PATH_TO_LISA_QRY, qry_entry_marker)\n",
        "\n",
        "# process text file\n",
        "\n",
        "doc_strip = re.compile('\\n?Document {1,2}')\n",
        "\n",
        "lisa_txt_list_stripped = []\n",
        "lisa_txt_data = defaultdict(dict)\n",
        "\n",
        "for el in lisa_txt_list:\n",
        "  lisa_txt_list_stripped.append(re.sub(doc_strip,'', el))\n",
        "\n",
        "for entry in lisa_txt_list_stripped:\n",
        "  parts = entry.split('\\n')\n",
        "  empty_index = parts.index('')\n",
        "  ID = parts[0].strip(' ')\n",
        "  title = parts[1:empty_index]\n",
        "  text = parts[empty_index+1:]\n",
        "  lisa_txt_data[ID]['title'] = title\n",
        "  lisa_txt_data[ID]['text'] = ''.join(text)\n",
        "\n",
        "# process the query data\n",
        "\n",
        "lisa_qry_data = defaultdict(dict)\n",
        "# first line is a special case because it doesn't start with a newline\n",
        "first_line = lisa_qry_list[0]\n",
        "first_question = ' '.join(first_line[1:])\n",
        "lisa_qry_data[int(first_line[0])]['question'] = first_question\n",
        "\n",
        "# after that every line can be handle the same way\n",
        "for n in range(0,len(lisa_qry_list)-1):\n",
        "  line = re.split('\\n',lisa_qry_list[n+1])\n",
        "  question = ' '.join(line[2:])\n",
        "  lisa_qry_data[int(line[1])]['question'] = question\n",
        "\n",
        "# process relevance assesments\n",
        "lisa_rel = defaultdict(list)\n",
        "\n",
        "rel_marker = re.compile('            \\n        ')\n",
        "rel_split = re.compile('\\n')\n",
        "\n",
        "with open (PATH_TO_LISA_REL,'r') as f:\n",
        "  file = f.read().strip('       ').replace('\\n','')\n",
        "  lines = re.split(' ',file)\n",
        "  lines = list(filter(None, lines))\n",
        "  n = 0\n",
        "  while n < len(lines):\n",
        "    ID = int(lines[n])\n",
        "    num_rel = int(lines[n+1])\n",
        "    rels = lines[(n+2):(n+num_rel+2)]\n",
        "    lisa_rel[ID].extend(rels)\n",
        "    n = n+1+num_rel+1"
      ],
      "execution_count": 18,
      "outputs": [
        {
          "output_type": "stream",
          "text": [
            "--2020-10-20 14:04:07--  https://nextcloud.samyateia.de/index.php/s/Ed8gekyDgpkGGQ6/download\n",
            "Resolving nextcloud.samyateia.de (nextcloud.samyateia.de)... 194.55.14.32\n",
            "Connecting to nextcloud.samyateia.de (nextcloud.samyateia.de)|194.55.14.32|:443... connected.\n",
            "HTTP request sent, awaiting response... 200 OK\n",
            "Length: 4012544 (3.8M) [application/x-gzip]\n",
            "Saving to: ‘download’\n",
            "\n",
            "download            100%[===================>]   3.83M  3.28MB/s    in 1.2s    \n",
            "\n",
            "2020-10-20 14:04:09 (3.28 MB/s) - ‘download’ saved [4012544/4012544]\n",
            "\n"
          ],
          "name": "stdout"
        }
      ]
    },
    {
      "cell_type": "markdown",
      "metadata": {
        "id": "vun_GRH8BlA3"
      },
      "source": [
        "We will use only texts, because other fields like author or publication_date don't affect on meaning of text."
      ]
    },
    {
      "cell_type": "code",
      "metadata": {
        "id": "NvMbSUu5BlA4",
        "outputId": "b7345f66-0886-45e2-83b2-a4874b653129",
        "colab": {
          "base_uri": "https://localhost:8080/"
        }
      },
      "source": [
        "num_docs_with_texts = 0\n",
        "num_docs_with_too_long_texts = 0\n",
        "max_length = 0\n",
        "\n",
        "docs_to_index = []\n",
        "\n",
        "for ID, doc_data in lisa_txt_data.items():\n",
        "  if 'text' in doc_data.keys():\n",
        "    docs_to_index.append(ID)\n",
        "    num_docs_with_texts += 1\n",
        "    length = len(model.tokenize(doc_data['title']))\n",
        "    if length > 364:\n",
        "      num_docs_with_too_long_texts += 1\n",
        "    if length > max_length:\n",
        "      max_length = length\n",
        "\n",
        "print(f'Total number of documents: {len(lisa_txt_data)}\\n',\n",
        "  f'Number of documents with \"title\": {num_docs_with_texts}\\n',\n",
        "  f'Number of documents with too long \"title\": {num_docs_with_too_long_texts}\\n',\n",
        "  f'Max length of title in tokens: {max_length}')"
      ],
      "execution_count": 19,
      "outputs": [
        {
          "output_type": "stream",
          "text": [
            "Total number of documents: 6000\n",
            " Number of documents with \"title\": 6000\n",
            " Number of documents with too long \"title\": 0\n",
            " Max length of title in tokens: 5\n"
          ],
          "name": "stdout"
        }
      ]
    },
    {
      "cell_type": "markdown",
      "metadata": {
        "id": "eAbMNCMdBlA-"
      },
      "source": [
        "Too long texts will be cutted to 364 tokens per text"
      ]
    },
    {
      "cell_type": "markdown",
      "metadata": {
        "id": "kvj78Pc1BlBB"
      },
      "source": [
        "**Indexing**"
      ]
    },
    {
      "cell_type": "code",
      "metadata": {
        "id": "CyVRktILBlBD",
        "outputId": "29a8e723-fa13-4dc6-d8e0-84efa58fe1c0",
        "colab": {
          "base_uri": "https://localhost:8080/"
        }
      },
      "source": [
        "# Elasticsearch settings, without using Opendistro\n",
        "settings_text = {\n",
        "  \"mappings\": {\n",
        "      \"properties\": {\n",
        "          \"text\": {\n",
        "              \"type\": \"text\"\n",
        "              },\n",
        "          \"text_vector\": {\n",
        "           \"type\": \"dense_vector\",\n",
        "           \"dims\": 768\n",
        "            }\n",
        "    }\n",
        "  }\n",
        "}\n",
        "\n",
        "settings_title = {\n",
        "  \"mappings\": {\n",
        "      \"properties\": {\n",
        "          \"title\": {\n",
        "              \"type\": \"text\"\n",
        "              },\n",
        "          \"title_vector\": {\n",
        "           \"type\": \"dense_vector\",\n",
        "           \"dims\": 768\n",
        "            }\n",
        "    }\n",
        "  }\n",
        "}\n",
        "\n",
        "#create index, see https://elasticsearch-py.readthedocs.io/en/master/api.html#elasticsearch.client.IndicesClient.create\n",
        "lisa_index_text = \"bert-text-lisa-corpus\"\n",
        "es.indices.delete(index=lisa_index_text, ignore=[400, 404])\n",
        "es.indices.create(lisa_index_text, body=settings_text)\n",
        "\n",
        "lisa_index_title = \"bert-title-lisa-corpus\"\n",
        "es.indices.delete(index=lisa_index_title, ignore=[400, 404])\n",
        "es.indices.create(lisa_index_title, body=settings_title)\n",
        "\n",
        "lisa_index = \"lisa-corpus\"\n",
        "es.indices.delete(index=lisa_index, ignore=[400, 404])\n",
        "es.indices.create(lisa_index)"
      ],
      "execution_count": 20,
      "outputs": [
        {
          "output_type": "execute_result",
          "data": {
            "text/plain": [
              "{'acknowledged': True, 'index': 'lisa-corpus', 'shards_acknowledged': True}"
            ]
          },
          "metadata": {
            "tags": []
          },
          "execution_count": 20
        }
      ]
    },
    {
      "cell_type": "code",
      "metadata": {
        "id": "vkEWHA9NBlBO",
        "outputId": "8adfe54a-f5ce-496c-9001-27b2f600467f",
        "colab": {
          "base_uri": "https://localhost:8080/"
        }
      },
      "source": [
        "from tqdm import tqdm_notebook\n",
        "model.eval()\n",
        "for ID, doc_data in lisa_txt_data.items():\n",
        "    es.index(\n",
        "      index=lisa_index_text, \n",
        "      id=ID, \n",
        "      body={\n",
        "          'text_vector': model.encode(lisa_txt_data[ID]['text']),\n",
        "          'text': lisa_txt_data[ID]['text']\n",
        "          }\n",
        "    )\n",
        "    es.index(\n",
        "      index=lisa_index_title, \n",
        "      id=ID, \n",
        "      body={\n",
        "          'title_vector': model.encode(''.join(lisa_txt_data[ID]['title'])),\n",
        "          'title': lisa_txt_data[ID]['title'],\n",
        "          }\n",
        "    )\n",
        "    es.index(index=lisa_index, id=ID, body=doc_data)\n",
        "#print new index list\n",
        "create_response = es.cat.indices()\n",
        "print(create_response)"
      ],
      "execution_count": 21,
      "outputs": [
        {
          "output_type": "stream",
          "text": [
            "yellow open bert-title-lisa-corpus      4APtZ_bBSzWTyJM0A6W0UQ 1 1  472 0  75.1mb  75.1mb\n",
            "yellow open bert-title-adi-corpus       wjb1Za6tReee1yY1cWAPKw 1 1   82 0   1.2mb   1.2mb\n",
            "yellow open cranfield-corpus            7ey2SoyATOKlVeKcM0bo2g 1 1 1400 0   1.8mb   1.8mb\n",
            "yellow open bert-title-cranfield-corpus zLjG9ri1SXGW1hz50x_GcA 1 1 1400 0    20mb    20mb\n",
            "yellow open bert-text-adi-corpus        S_CFkjyaSzeblkt7PPHd7g 1 1   82 0   1.2mb   1.2mb\n",
            "yellow open bert-text-lisa-corpus       NXg7AszeTy6p6G-w_ILXhw 1 1  470 0  77.6mb  77.6mb\n",
            "yellow open adi-corpus                  tN2i3LphQOSzvRj-xd6sUg 1 1   82 0 119.7kb 119.7kb\n",
            "yellow open lisa-corpus                 FAyDOHysT2OFBqM3QjGXBA 1 1  473 0   2.7mb   2.7mb\n",
            "yellow open bert-title-cacm-corpus      DbSiZLHmRE2MsWiuvrP6BQ 1 1 3204 0  46.3mb  46.3mb\n",
            "yellow open bert-title-cisi-corpus      WQf_ov8kRwOMxaTB-vhkDQ 1 1 1460 0  21.1mb  21.1mb\n",
            "yellow open bert-text-cranfield-corpus  4oTqJqRQTx-jf0bZ4l6fmA 1 1 1400 0  21.9mb  21.9mb\n",
            "yellow open cacm-corpus                 NCss9_IOSz-Q2qUp0iDuKA 1 1 3204 0   4.2mb   4.2mb\n",
            "yellow open bert-text-cacm-corpus       Cpa6oA2XQcqgnN5AP0-_5w 1 1 3204 0  36.6mb  36.6mb\n",
            "yellow open cisi-corpus                 itpkSN0tQtmjSHUefuM8ww 1 1 1460 0   2.6mb   2.6mb\n",
            "yellow open bert-text-cisi-corpus       VI2_BFMKTMWroZZwmqElhA 1 1 1460 0  22.5mb  22.5mb\n",
            "\n"
          ],
          "name": "stdout"
        }
      ]
    },
    {
      "cell_type": "markdown",
      "metadata": {
        "id": "-xNf8E2oSYOT"
      },
      "source": [
        "## Evaluation"
      ]
    },
    {
      "cell_type": "markdown",
      "metadata": {
        "id": "CemuLaUAMHKP"
      },
      "source": [
        "### Recall\n",
        "\n",
        "In this section we only evaluate the Recall scores."
      ]
    },
    {
      "cell_type": "markdown",
      "metadata": {
        "id": "u71ZvdbWMkIe"
      },
      "source": [
        "**Multi Match Query**\n",
        "\n",
        "Here we evaluate the data with the [\"multi_match\"](https://pragmalingu.de/docs/experiments/experiment1#standard-elasticsearch) option of elastic search:"
      ]
    },
    {
      "cell_type": "code",
      "metadata": {
        "id": "pn_g9h7xMkIi"
      },
      "source": [
        "#use rank eval api, see https://elasticsearch-py.readthedocs.io/en/master/api.html?highlight=_rank_eval#elasticsearch.Elasticsearch.rank_eval \n",
        "#and https://www.elastic.co/guide/en/elasticsearch/reference/current/query-dsl-simple-query-string-query.html \n",
        "\n",
        "import json\n",
        "from collections import defaultdict\n",
        "\n",
        "adi_index = 'adi-corpus'\n",
        "cacm_index = 'cacm-corpus'\n",
        "cisi_index = 'cisi-corpus'\n",
        "cran_index = 'cranfield-corpus'\n",
        "lisa_index = 'lisa-corpus'\n",
        "\n",
        "#function to get normal match evaluation body \n",
        "def create_query_body_match_recall(query_dict, rel_dict, index_name):\n",
        "  \"\"\"\n",
        "  The function creates a request for every query in query_dict and rates the relevant documents with rel_dict to 1.\n",
        "  The index name has to be the same as from the documents your looking at.\n",
        "  An evaluation body for the elasticsearch ranking API is returned.\n",
        "  \"\"\"\n",
        "  eval_body = {\n",
        "      \"requests\": '',\n",
        "      \"metric\": {\n",
        "          \"recall\": {\n",
        "              \"relevant_rating_threshold\": 1,\n",
        "              \"k\": 20\n",
        "              }\n",
        "      }\n",
        "  }\n",
        "  requests = [] \n",
        "  current_request = defaultdict(lambda: defaultdict())\n",
        "  current_rel = {\"_index\": index_name, \"_id\": '', \"rating\": int}\n",
        "  for query_ID, query_txt in query_dict.items():\n",
        "    current_query = {\"query\": { \"multi_match\": { \"query\": '' , \"fields\" : [\"title\"]}}}\n",
        "    current_query[\"query\"][\"multi_match\"][\"query\"] = query_txt['question']\n",
        "    current_request[\"id\"] = 'Query_'+str(query_ID)\n",
        "    current_request[\"request\"] = current_query.copy()\n",
        "    current_request[\"ratings\"] = [{\"_index\": index_name, \"_id\": str(el), \"rating\": 1} for el in rel_dict[query_ID]]\n",
        "    requests.append(current_request.copy())\n",
        "  eval_body[\"requests\"] = requests\n",
        "  return eval_body\n",
        "\n",
        "\n",
        "#ADI\n",
        "adi_create_match_recall = create_query_body_match_recall(adi_qry_data, adi_rel, adi_index)\n",
        "adi_eval_body_match_recall = json.dumps(adi_create_match_recall)\n",
        "adi_res_match_recall = es.rank_eval(adi_eval_body_match_recall, adi_index)\n",
        "#print(json.dumps(adi_res_match_recall, indent=4, sort_keys=True))\n",
        "\n",
        "#CACM\n",
        "cacm_create_match_recall = create_query_body_match_recall(cacm_qry_data, cacm_rel, cacm_index)\n",
        "cacm_eval_body_match_recall = json.dumps(cacm_create_match_recall)\n",
        "cacm_res_match_recall = es.rank_eval(cacm_eval_body_match_recall,cacm_index)\n",
        "#print(json.dumps(cacm_res_match_recall, indent=4, sort_keys=True))\n",
        "\n",
        "#CISI\n",
        "cisi_create_match_recall = create_query_body_match_recall(cisi_qry_data, cisi_rel, cisi_index)\n",
        "cisi_eval_body_match_recall = json.dumps(cisi_create_match_recall)\n",
        "cisi_res_match_recall = es.rank_eval(cisi_eval_body_match_recall, cisi_index)\n",
        "#print(json.dumps(cisi_res_match_recall, indent=4, sort_keys=True))\n",
        "\n",
        "#Cranfield\n",
        "cran_create_match_recall = create_query_body_match_recall(cran_qry_data, cran_rel, cran_index)\n",
        "cran_eval_body_match_recall = json.dumps(cran_create_match_recall)\n",
        "cran_res_match_recall = es.rank_eval(cran_eval_body_match_recall, cran_index)\n",
        "#print(json.dumps(cran_create_match_recall, indent=4, sort_keys=True))\n",
        "\n",
        "#LISA\n",
        "lisa_create_match_recall = create_query_body_match_recall(lisa_qry_data, lisa_rel, lisa_index)\n",
        "lisa_eval_body_match_recall = json.dumps(lisa_create_match_recall)\n",
        "lisa_res_match_recall = es.rank_eval(lisa_eval_body_match_recall,lisa_index)\n",
        "#print(json.dumps(lisa_res_match_recall, indent=4, sort_keys=True))"
      ],
      "execution_count": 22,
      "outputs": []
    },
    {
      "cell_type": "markdown",
      "metadata": {
        "id": "keSi-TDWnxmF"
      },
      "source": [
        "**BERT Sentence Embbedings on 'title' field**"
      ]
    },
    {
      "cell_type": "code",
      "metadata": {
        "id": "Vijm2d9Uwou2",
        "outputId": "57754851-f4fd-456e-8dde-6d6d20c67850",
        "colab": {
          "base_uri": "https://localhost:8080/"
        }
      },
      "source": [
        "#use rank eval api, see https://elasticsearch-py.readthedocs.io/en/master/api.html?highlight=_rank_eval#elasticsearch.Elasticsearch.rank_eval \n",
        "#and https://www.elastic.co/guide/en/elasticsearch/reference/current/search-rank-eval.html#search-rank-eval\n",
        "\n",
        "from collections import defaultdict\n",
        "\n",
        "adi_index = 'bert-title-adi-corpus'\n",
        "cacm_index = 'bert-title-cacm-corpus'\n",
        "cisi_index = 'bert-title-cisi-corpus'\n",
        "cran_index = 'bert-title-cranfield-corpus'\n",
        "lisa_index = 'bert-title-lisa-corpus'\n",
        "\n",
        "# function to get normal match evaluation body \n",
        "\n",
        "def create_query_body_bert_title_recall(query_dict, rel_dict, index_name):\n",
        "  \"\"\"\n",
        "  The function creates a request for every query in query_dict and rates the relevant documents with rel_dict to 1.\n",
        "  The index name has to be the same as from the documents your looking at.\n",
        "  An evaluation body for the elasticsearch ranking API is returned.\n",
        "  \"\"\"\n",
        "  eval_body = {\n",
        "      \"requests\":'',\n",
        "      \"metric\": {\n",
        "          \"recall\": {\n",
        "          \"k\" : 20,\n",
        "          \"relevant_rating_threshold\": 1,\n",
        "          #\"ignore_unlabeled\": \"false\"\n",
        "          }\n",
        "         }\n",
        "      }\n",
        "  requests = [] \n",
        "  current_request = defaultdict(lambda: defaultdict())\n",
        "  current_rel = {\"_index\": index_name, \"_id\": '', \"rating\": int}\n",
        "  for query_ID, query_txt in query_dict.items():\n",
        "    current_query = {\n",
        "        \"query\" : {\n",
        "  \"script_score\": {\n",
        "    \"query\": {\"match_all\": {}},\n",
        "    \"script\": {\n",
        "      \"source\": \"cosineSimilarity(params.query_vector, doc['title_vector']) + 1.0\",\n",
        "      \"params\": {\"query_vector\": list(model.encode(query_txt['question']).astype(float))}\n",
        "    }\n",
        "  }\n",
        "  }\n",
        "    }\n",
        "    current_request[\"id\"] = 'Query_'+str(query_ID)\n",
        "    current_request[\"request\"] = current_query.copy()\n",
        "    current_request[\"ratings\"] = [{\n",
        "          \"_index\": index_name, \n",
        "          \"_id\": str(el) if type(el) != tuple else str(el[0]), \n",
        "          \"rating\": 1} for el in rel_dict[query_ID]]\n",
        "    requests.append(current_request.copy())\n",
        "  eval_body[\"requests\"] = requests\n",
        "  return eval_body\n",
        "\n",
        "\n",
        "# ADI\n",
        "\n",
        "adi_create_bert_title_recall = create_query_body_bert_title_recall(adi_qry_data, adi_rel, adi_index)\n",
        "adi_eval_body_bert_title_recall = json.dumps(adi_create_bert_title_recall)\n",
        "adi_res_bert_title_recall = es.rank_eval(adi_eval_body_bert_title_recall, adi_index)\n",
        "#print(json.dumps(adi_res_bert_title_recall, indent=4, sort_keys=True))\n",
        "\n",
        "# CACM\n",
        "\n",
        "cacm_create_bert_title_recall = create_query_body_bert_title_recall(cacm_qry_data, cacm_rel, cacm_index)\n",
        "cacm_eval_body_bert_title_recall = json.dumps(cacm_create_bert_title_recall)\n",
        "cacm_res_bert_title_recall = es.rank_eval(cacm_eval_body_bert_title_recall, cacm_index)\n",
        "#print(json.dumps(cacm_res_bert_title_recall, indent=4, sort_keys=True))\n",
        "\n",
        "# CISI\n",
        "\n",
        "cisi_create_bert_title_recall = create_query_body_bert_title_recall(cisi_qry_data, cisi_rel, cisi_index)\n",
        "cisi_eval_body_bert_title_recall = json.dumps(cisi_create_bert_title_recall)\n",
        "cisi_res_bert_title_recall = es.rank_eval(cisi_eval_body_bert_title_recall, cisi_index)\n",
        "#print(json.dumps(cisi_res_bert_title_recall, indent=4, sort_keys=True))\n",
        "\n",
        "# Cranfield\n",
        "\n",
        "cran_create_bert_title_recall = create_query_body_bert_title_recall(cran_qry_data, cran_rel, cran_index)\n",
        "cran_eval_body_bert_title_recall = json.dumps(cran_create_bert_title_recall)\n",
        "cran_res_bert_title_recall = es.rank_eval(cran_eval_body_bert_title_recall, cran_index)\n",
        "#print(json.dumps(cran_res_bert_title_recall, indent=4, sort_keys=True))\n",
        "\n",
        "# LISA\n",
        "\n",
        "lisa_create_bert_title_recall = create_query_body_bert_title_recall(lisa_qry_data, lisa_rel, lisa_index)\n",
        "lisa_eval_body_bert_title_recall = json.dumps(lisa_create_bert_title_recall)\n",
        "lisa_res_bert_title_recall = es.rank_eval(lisa_eval_body_bert_title_recall, lisa_index)\n",
        "#print(json.dumps(lisa_res_bert_title_recall, indent=4, sort_keys=True))"
      ],
      "execution_count": 23,
      "outputs": [
        {
          "output_type": "stream",
          "text": [
            "/usr/local/lib/python3.6/dist-packages/elasticsearch/connection/base.py:190: ElasticsearchDeprecationWarning: The vector functions of the form function(query, doc['field']) are deprecated, and the form function(query, 'field') should be used instead. For example, cosineSimilarity(query, doc['field']) is replaced by cosineSimilarity(query, 'field').\n",
            "  warnings.warn(message, category=ElasticsearchDeprecationWarning)\n"
          ],
          "name": "stderr"
        }
      ]
    },
    {
      "cell_type": "markdown",
      "metadata": {
        "id": "kuHz0wJvFBzW"
      },
      "source": [
        "### Precision\n",
        "\n",
        "In this section we only evaluate the Precision scores."
      ]
    },
    {
      "cell_type": "markdown",
      "metadata": {
        "id": "tfC6EgJdFBza"
      },
      "source": [
        "**Multi Match Query**\n",
        "\n",
        "Here we evaluate the data with the [\"multi_match\"](https://pragmalingu.de/docs/experiments/experiment1#standard-elasticsearch) option of elastic search:"
      ]
    },
    {
      "cell_type": "code",
      "metadata": {
        "id": "8dvtBA_NFBzc"
      },
      "source": [
        "#use rank eval api, see https://elasticsearch-py.readthedocs.io/en/master/api.html?highlight=_rank_eval#elasticsearch.Elasticsearch.rank_eval \n",
        "#and https://www.elastic.co/guide/en/elasticsearch/reference/current/query-dsl-simple-query-string-query.html \n",
        "\n",
        "import json\n",
        "from collections import defaultdict\n",
        "\n",
        "adi_index = 'adi-corpus'\n",
        "cacm_index = 'cacm-corpus'\n",
        "cisi_index = 'cisi-corpus'\n",
        "cran_index = 'cranfield-corpus'\n",
        "lisa_index = 'lisa-corpus'\n",
        "\n",
        "#function to get normal match evaluation body \n",
        "def create_query_body_match_precision(query_dict, rel_dict, index_name):\n",
        "  \"\"\"\n",
        "  The function creates a request for every query in query_dict and rates the relevant documents with rel_dict to 1.\n",
        "  The index name has to be the same as from the documents your looking at.\n",
        "  An evaluation body for the elasticsearch ranking API is returned.\n",
        "  \"\"\"\n",
        "  eval_body = {\n",
        "      \"requests\": '',\n",
        "      \"metric\": {\n",
        "          \"precision\": {\n",
        "              \"relevant_rating_threshold\": 1,\n",
        "              \"k\": 20\n",
        "              }\n",
        "      }\n",
        "  }\n",
        "  requests = [] \n",
        "  current_request = defaultdict(lambda: defaultdict())\n",
        "  current_rel = {\"_index\": index_name, \"_id\": '', \"rating\": int}\n",
        "  for query_ID, query_txt in query_dict.items():\n",
        "    current_query = {\"query\": { \"multi_match\": { \"query\": '' , \"fields\" : [\"title\"]}}}\n",
        "    current_query[\"query\"][\"multi_match\"][\"query\"] = query_txt['question']\n",
        "    current_request[\"id\"] = 'Query_'+str(query_ID)\n",
        "    current_request[\"request\"] = current_query.copy()\n",
        "    current_request[\"ratings\"] = [{\"_index\": index_name, \"_id\": str(el), \"rating\": 1} for el in rel_dict[query_ID]]\n",
        "    requests.append(current_request.copy())\n",
        "  eval_body[\"requests\"] = requests\n",
        "  return eval_body\n",
        "\n",
        "\n",
        "#ADI\n",
        "adi_create_match_precision= create_query_body_match_precision(adi_qry_data, adi_rel, adi_index)\n",
        "adi_eval_body_match_precision = json.dumps(adi_create_match_precision)\n",
        "adi_res_match_precision = es.rank_eval(adi_eval_body_match_precision, adi_index)\n",
        "#print(json.dumps(adi_res_match_precision, indent=4, sort_keys=True))\n",
        "\n",
        "#CACM\n",
        "cacm_create_match_precision = create_query_body_match_precision(cacm_qry_data, cacm_rel, cacm_index)\n",
        "cacm_eval_body_match_precision = json.dumps(cacm_create_match_precision)\n",
        "cacm_res_match_precision = es.rank_eval(cacm_eval_body_match_precision,cacm_index)\n",
        "#print(json.dumps(cacm_res_match_precision, indent=4, sort_keys=True))\n",
        "\n",
        "#CISI\n",
        "cisi_create_match_precision = create_query_body_match_precision(cisi_qry_data, cisi_rel, cisi_index)\n",
        "cisi_eval_body_match_precision = json.dumps(cisi_create_match_precision)\n",
        "cisi_res_match_precision = es.rank_eval(cisi_eval_body_match_precision, cisi_index)\n",
        "#print(json.dumps(cisi_res_match_precision, indent=4, sort_keys=True))\n",
        "\n",
        "#Cranfield\n",
        "cran_create_match_precision = create_query_body_match_precision(cran_qry_data, cran_rel, cran_index)\n",
        "cran_eval_body_match_precision = json.dumps(cran_create_match_precision)\n",
        "cran_res_match_precision = es.rank_eval(cran_eval_body_match_precision, cran_index)\n",
        "#print(json.dumps(cran_res_match_precision, indent=4, sort_keys=True))\n",
        "\n",
        "#LISA\n",
        "lisa_create_match_precision = create_query_body_match_precision(lisa_qry_data, lisa_rel, lisa_index)\n",
        "lisa_eval_body_match_precision = json.dumps(lisa_create_match_precision)\n",
        "lisa_res_match_precision = es.rank_eval(lisa_eval_body_match_precision,lisa_index)\n",
        "#print(json.dumps(lisa_res_match_precision, indent=4, sort_keys=True))"
      ],
      "execution_count": 24,
      "outputs": []
    },
    {
      "cell_type": "markdown",
      "metadata": {
        "id": "9t-G24e7FBzq"
      },
      "source": [
        "**BERT Sentence Embeddings on 'title' field**"
      ]
    },
    {
      "cell_type": "code",
      "metadata": {
        "id": "b3MqSL8VFBzs",
        "outputId": "1bf91240-bb9a-4031-a38f-54a5fd1bb806",
        "colab": {
          "base_uri": "https://localhost:8080/"
        }
      },
      "source": [
        "#use rank eval api, see https://elasticsearch-py.readthedocs.io/en/master/api.html?highlight=_rank_eval#elasticsearch.Elasticsearch.rank_eval \n",
        "#and https://www.elastic.co/guide/en/elasticsearch/reference/current/search-rank-eval.html#search-rank-eval\n",
        "\n",
        "from collections import defaultdict\n",
        "\n",
        "adi_index = 'bert-title-adi-corpus'\n",
        "cacm_index = 'bert-title-cacm-corpus'\n",
        "cisi_index = 'bert-title-cisi-corpus'\n",
        "cran_index = 'bert-title-cranfield-corpus'\n",
        "lisa_index = 'bert-title-lisa-corpus'\n",
        "\n",
        "# function to get normal match evaluation body \n",
        "\n",
        "def create_query_body_bert_title_precision(query_dict, rel_dict, index_name):\n",
        "  \"\"\"\n",
        "  The function creates a request for every query in query_dict and rates the relevant documents with rel_dict to 1.\n",
        "  The index name has to be the same as from the documents your looking at.\n",
        "  An evaluation body for the elasticsearch ranking API is returned.\n",
        "  \"\"\"\n",
        "  eval_body = {\n",
        "      \"requests\":'',\n",
        "      \"metric\": {\n",
        "          \"precision\": {\n",
        "            \"k\" : 20,\n",
        "            \"relevant_rating_threshold\": 1,\n",
        "            #\"ignore_unlabeled\": \"false\"\n",
        "            }\n",
        "      }\n",
        "  }\n",
        "  requests = [] \n",
        "  current_request = defaultdict(lambda: defaultdict())\n",
        "  current_rel = {\"_index\": index_name, \"_id\": '', \"rating\": int}\n",
        "  for query_ID, query_txt in query_dict.items():\n",
        "    current_query = {\n",
        "        \"query\" : {\n",
        "  \"script_score\": {\n",
        "    \"query\": {\"match_all\": {}},\n",
        "    \"script\": {\n",
        "      \"source\": \"cosineSimilarity(params.query_vector, doc['title_vector']) + 1.0\",\n",
        "      \"params\": {\"query_vector\": list(model.encode(query_txt['question']).astype(float))}\n",
        "    }\n",
        "  }\n",
        "  }\n",
        "    }\n",
        "    current_request[\"id\"] = 'Query_'+str(query_ID)\n",
        "    current_request[\"request\"] = current_query.copy()\n",
        "    current_request[\"ratings\"] = [{\n",
        "          \"_index\": index_name, \n",
        "          \"_id\": str(el) if type(el) != tuple else str(el[0]), \n",
        "          \"rating\": 1} for el in rel_dict[query_ID]]\n",
        "    requests.append(current_request.copy())\n",
        "  eval_body[\"requests\"] = requests\n",
        "  return eval_body\n",
        "\n",
        "\n",
        "# ADI\n",
        "\n",
        "adi_create_bert_title_precision = create_query_body_bert_title_recall(adi_qry_data, adi_rel, adi_index)\n",
        "adi_eval_body_bert_title_precision = json.dumps(adi_create_bert_title_precision)\n",
        "adi_res_bert_title_precision = es.rank_eval(adi_eval_body_bert_title_precision, adi_index)\n",
        "#print(json.dumps(adi_res_bert_title_precision, indent=4, sort_keys=True))\n",
        "\n",
        "# CACM\n",
        "\n",
        "cacm_create_bert_title_precision = create_query_body_bert_title_precision(cacm_qry_data, cacm_rel, cacm_index)\n",
        "cacm_eval_body_bert_title_precision = json.dumps(cacm_create_bert_title_precision)\n",
        "cacm_res_bert_title_precision = es.rank_eval(cacm_eval_body_bert_title_precision, cacm_index)\n",
        "#print(json.dumps(cacm_res_bert_title_precision, indent=4, sort_keys=True))\n",
        "\n",
        "# CISI\n",
        "\n",
        "cisi_create_bert_title_precision = create_query_body_bert_title_precision(cisi_qry_data, cisi_rel, cisi_index)\n",
        "cisi_eval_body_bert_title_precision = json.dumps(cisi_create_bert_title_precision)\n",
        "cisi_res_bert_title_precision = es.rank_eval(cisi_eval_body_bert_title_precision, cisi_index)\n",
        "#print(json.dumps(cisi_res_bert_title_precision, indent=4, sort_keys=True))\n",
        "\n",
        "# Cranfield\n",
        "\n",
        "cran_create_bert_title_precision = create_query_body_bert_title_precision(cran_qry_data, cran_rel, cran_index)\n",
        "cran_eval_body_bert_title_precision = json.dumps(cran_create_bert_title_precision)\n",
        "cran_res_bert_title_precision = es.rank_eval(cran_eval_body_bert_title_precision, cran_index)\n",
        "#print(json.dumps(cran_res_bert_title_precision, indent=4, sort_keys=True))\n",
        "\n",
        "# LISA\n",
        "\n",
        "lisa_create_bert_title_precision = create_query_body_bert_title_precision(lisa_qry_data, lisa_rel, lisa_index)\n",
        "lisa_eval_body_bert_title_precision = json.dumps(lisa_create_bert_title_precision)\n",
        "lisa_res_bert_title_precision = es.rank_eval(lisa_eval_body_bert_title_precision, lisa_index)\n",
        "#print(json.dumps(lisa_res_bert_title_precision, indent=4, sort_keys=True))"
      ],
      "execution_count": 25,
      "outputs": [
        {
          "output_type": "stream",
          "text": [
            "/usr/local/lib/python3.6/dist-packages/elasticsearch/connection/base.py:190: ElasticsearchDeprecationWarning: The vector functions of the form function(query, doc['field']) are deprecated, and the form function(query, 'field') should be used instead. For example, cosineSimilarity(query, doc['field']) is replaced by cosineSimilarity(query, 'field').\n",
            "  warnings.warn(message, category=ElasticsearchDeprecationWarning)\n"
          ],
          "name": "stderr"
        }
      ]
    },
    {
      "cell_type": "markdown",
      "metadata": {
        "id": "gpKrbKC7TDxu"
      },
      "source": [
        "## Visualisation\n",
        "\n",
        "Here we visualize our results:"
      ]
    },
    {
      "cell_type": "markdown",
      "metadata": {
        "id": "3GI_zdwhG4MF"
      },
      "source": [
        "### Recall"
      ]
    },
    {
      "cell_type": "code",
      "metadata": {
        "id": "BXibzPzmf_KK",
        "outputId": "ef096a5a-055d-4773-90b7-1d838d2846f9",
        "colab": {
          "base_uri": "https://localhost:8080/",
          "height": 531
        }
      },
      "source": [
        "import matplotlib\n",
        "import matplotlib.pyplot as plt\n",
        "import numpy as np\n",
        "\n",
        "match_metrics_recall = []\n",
        "match_metrics_recall.append(round(adi_res_match_recall['metric_score'], 3))\n",
        "match_metrics_recall.append(round(cacm_res_match_recall['metric_score'], 3))\n",
        "match_metrics_recall.append(round(cisi_res_match_recall['metric_score'], 3))\n",
        "match_metrics_recall.append(round(cran_res_match_recall['metric_score'], 3))\n",
        "match_metrics_recall.append(round(lisa_res_match_recall['metric_score'], 3))\n",
        "\n",
        "bert_title_metrics_recall = []\n",
        "bert_title_metrics_recall.append(round(adi_res_bert_title_recall['metric_score'], 3))\n",
        "bert_title_metrics_recall.append(round(cacm_res_bert_title_recall['metric_score'], 3))\n",
        "bert_title_metrics_recall.append(round(cisi_res_bert_title_recall['metric_score'], 3))\n",
        "bert_title_metrics_recall.append(round(cran_res_bert_title_recall['metric_score'], 3))\n",
        "bert_title_metrics_recall.append(round(lisa_res_bert_title_recall['metric_score'], 3))\n",
        "\n",
        "labels = ['ADI','CACM', 'CISI','Cranfield', 'LISA']\n",
        "\n",
        "x = np.arange(len(labels))*1.8  # the label locations\n",
        "\n",
        "width = 0.5  # the width of the bars\n",
        "\n",
        "fig, ax = plt.subplots()\n",
        "rects1 = ax.bar(x - width, match_metrics_recall , width, label='With multi-match query')\n",
        "rects2 = ax.bar(x, bert_title_metrics_recall, width, label='With BERT on title field')\n",
        "\n",
        "# Add some text for labels, title and custom x-axis tick labels, etc.\n",
        "ax.set_ylabel('metric scores')\n",
        "ax.set_title('Recall scores by corpus')\n",
        "ax.set_xticks(x)\n",
        "ax.set_xticklabels(labels)\n",
        "ax.legend()\n",
        "\n",
        "def autolabel(rects):\n",
        "    \"\"\"Attach a text label above each bar in *rects*, displaying its height.\"\"\"\n",
        "    for rect in rects:\n",
        "        height = rect.get_height()\n",
        "        ax.annotate('{}'.format(height),\n",
        "                    xy=(rect.get_x() + rect.get_width() / 2, height),\n",
        "                    xytext=(0, 3),  # 3 points vertical offset\n",
        "                    textcoords=\"offset points\",\n",
        "                    ha='center', va='bottom')\n",
        "\n",
        "autolabel(rects1)\n",
        "autolabel(rects2)\n",
        "\n",
        "fig.tight_layout()\n",
        "fig.set_figwidth(16)\n",
        "fig.set_figheight(8)\n",
        "\n",
        "plt.show()"
      ],
      "execution_count": 26,
      "outputs": [
        {
          "output_type": "display_data",
          "data": {
            "image/png": "[encoded data removed]",
            "text/plain": [
              "<Figure size 1152x576 with 1 Axes>"
            ]
          },
          "metadata": {
            "tags": [],
            "needs_background": "light"
          }
        }
      ]
    },
    {
      "cell_type": "code",
      "metadata": {
        "id": "nlVzOT5uDt3d",
        "outputId": "8041ad28-99c4-46ac-f2e5-fe4b600faa98",
        "colab": {
          "base_uri": "https://localhost:8080/"
        }
      },
      "source": [
        "from tabulate import tabulate\n",
        "\n",
        "match_metrics_recall.insert(0, 'multi-match query')  \n",
        "bert_title_metrics_recall.insert(0, 'BERT on title field')\n",
        "\n",
        "l = [match_metrics_recall, bert_title_metrics_recall]\n",
        "table = tabulate(l, headers=['ADI','CACM', 'CISI','cranfield', 'LISA'], tablefmt='orgtbl')\n",
        "\n",
        "print(table)"
      ],
      "execution_count": 27,
      "outputs": [
        {
          "output_type": "stream",
          "text": [
            "|                     |   ADI |   CACM |   CISI |   cranfield |   LISA |\n",
            "|---------------------+-------+--------+--------+-------------+--------|\n",
            "| multi-match query   | 0.24  |  0.031 |  0.058 |       0.118 |  0.31  |\n",
            "| BERT on title field | 0.227 |  0.007 |  0.038 |       0.071 |  0.139 |\n"
          ],
          "name": "stdout"
        }
      ]
    },
    {
      "cell_type": "markdown",
      "metadata": {
        "id": "QuxJmfYZG14r"
      },
      "source": [
        "### Precision"
      ]
    },
    {
      "cell_type": "code",
      "metadata": {
        "id": "tRF25Yq3G0QU",
        "outputId": "4dc3ff30-0f8c-4ddb-fa14-4d4f1141a6fd",
        "colab": {
          "base_uri": "https://localhost:8080/",
          "height": 531
        }
      },
      "source": [
        "import matplotlib\n",
        "import matplotlib.pyplot as plt\n",
        "import numpy as np\n",
        "\n",
        "match_metrics_precision = []\n",
        "match_metrics_precision.append(round(adi_res_match_precision['metric_score'], 3))\n",
        "match_metrics_precision.append(round(cacm_res_match_precision['metric_score'], 3))\n",
        "match_metrics_precision.append(round(cisi_res_match_precision['metric_score'], 3))\n",
        "match_metrics_precision.append(round(cran_res_match_precision['metric_score'], 3))\n",
        "match_metrics_precision.append(round(lisa_res_match_precision['metric_score'], 3))\n",
        "\n",
        "bert_title_metrics_precision = []\n",
        "bert_title_metrics_precision.append(round(adi_res_bert_title_precision['metric_score'], 3))\n",
        "bert_title_metrics_precision.append(round(cacm_res_bert_title_precision['metric_score'], 3))\n",
        "bert_title_metrics_precision.append(round(cisi_res_bert_title_precision['metric_score'], 3))\n",
        "bert_title_metrics_precision.append(round(cran_res_bert_title_precision['metric_score'], 3))\n",
        "bert_title_metrics_precision.append(round(lisa_res_bert_title_precision['metric_score'], 3))\n",
        "\n",
        "labels = ['ADI','CACM', 'CISI','Cranfield', 'LISA']\n",
        "\n",
        "x = np.arange(len(labels))*1.8  # the label locations\n",
        "\n",
        "width = 0.5  # the width of the bars\n",
        "\n",
        "fig, ax = plt.subplots()\n",
        "rects1 = ax.bar(x - width, match_metrics_precision , width, label='With multi-match query')\n",
        "rects2 = ax.bar(x, bert_title_metrics_precision, width, label='With BERT on title field')\n",
        "\n",
        "# Add some text for labels, title and custom x-axis tick labels, etc.\n",
        "ax.set_ylabel('metric scores')\n",
        "ax.set_title('Precision scores by corpus')\n",
        "ax.set_xticks(x)\n",
        "ax.set_xticklabels(labels)\n",
        "ax.legend()\n",
        "\n",
        "def autolabel(rects):\n",
        "    \"\"\"Attach a text label above each bar in *rects*, displaying its height.\"\"\"\n",
        "    for rect in rects:\n",
        "        height = rect.get_height()\n",
        "        ax.annotate('{}'.format(height),\n",
        "                    xy=(rect.get_x() + rect.get_width() / 2, height),\n",
        "                    xytext=(0, 3),  # 3 points vertical offset\n",
        "                    textcoords=\"offset points\",\n",
        "                    ha='center', va='bottom')\n",
        "\n",
        "autolabel(rects1)\n",
        "autolabel(rects2)\n",
        "\n",
        "fig.tight_layout()\n",
        "fig.set_figwidth(16)\n",
        "fig.set_figheight(8)\n",
        "\n",
        "plt.show()"
      ],
      "execution_count": 28,
      "outputs": [
        {
          "output_type": "display_data",
          "data": {
            "image/png": "[encoded data removed]",
            "text/plain": [
              "<Figure size 1152x576 with 1 Axes>"
            ]
          },
          "metadata": {
            "tags": [],
            "needs_background": "light"
          }
        }
      ]
    },
    {
      "cell_type": "code",
      "metadata": {
        "id": "eqQB7ExDDWzX",
        "outputId": "30d9001d-3647-46e7-d057-6fc5d1ab1fcc",
        "colab": {
          "base_uri": "https://localhost:8080/"
        }
      },
      "source": [
        "from tabulate import tabulate\n",
        "\n",
        "match_metrics_precision.insert(0, 'multi-match query') \n",
        "bert_title_metrics_precision.insert(0, 'BERT on title field')\n",
        "\n",
        "l = [match_metrics_precision, bert_title_metrics_precision]\n",
        "table = tabulate(l, headers=['ADI','CACM', 'CISI','cranfield', 'LISA'], tablefmt='orgtbl')\n",
        "\n",
        "print(table)"
      ],
      "execution_count": 29,
      "outputs": [
        {
          "output_type": "stream",
          "text": [
            "|                     |   ADI |   CACM |   CISI |   cranfield |   LISA |\n",
            "|---------------------+-------+--------+--------+-------------+--------|\n",
            "| multi-match query   | 0.056 |  0.018 |  0.092 |       0.044 |  0.146 |\n",
            "| BERT on title field | 0.227 |  0.006 |  0.088 |       0.028 |  0.056 |\n"
          ],
          "name": "stdout"
        }
      ]
    },
    {
      "cell_type": "markdown",
      "metadata": {
        "id": "Gm1Aej_-T9e0"
      },
      "source": [
        "### F-Score"
      ]
    },
    {
      "cell_type": "code",
      "metadata": {
        "id": "QA8CpbbRQtIH",
        "outputId": "a1da6fbe-bfb3-4f8d-f33f-caba8b76f876",
        "colab": {
          "base_uri": "https://localhost:8080/",
          "height": 531
        }
      },
      "source": [
        "import matplotlib\n",
        "import matplotlib.pyplot as plt\n",
        "import numpy as np\n",
        "\n",
        "def f_score(recall,precision):\n",
        "  if recall or precision != 0:\n",
        "    fscore = 2*((recall*precision)/(recall+precision))\n",
        "    return fscore\n",
        "  else: return 0\n",
        "\n",
        "match_metrics_fscore = []\n",
        "match_metrics_fscore.append(round(f_score(adi_res_match_recall['metric_score'], adi_res_match_precision['metric_score']),3))\n",
        "match_metrics_fscore.append(round(f_score(cacm_res_match_recall['metric_score'], cacm_res_match_precision['metric_score']),3))\n",
        "match_metrics_fscore.append(round(f_score(cisi_res_match_recall['metric_score'], cisi_res_match_precision['metric_score']),3))\n",
        "match_metrics_fscore.append(round(f_score(cran_res_match_recall['metric_score'], cran_res_match_precision['metric_score']),3))\n",
        "match_metrics_fscore.append(round(f_score(lisa_res_match_recall['metric_score'], lisa_res_match_precision['metric_score']),3))\n",
        "\n",
        "bert_title_metrics_fscore = []\n",
        "bert_title_metrics_fscore.append(round(f_score(adi_res_bert_title_recall['metric_score'], adi_res_bert_title_precision['metric_score']),3))\n",
        "bert_title_metrics_fscore.append(round(f_score(cacm_res_bert_title_recall['metric_score'], cacm_res_bert_title_precision['metric_score']),3))\n",
        "bert_title_metrics_fscore.append(round(f_score(cisi_res_bert_title_recall['metric_score'], cisi_res_bert_title_precision['metric_score']),3))\n",
        "bert_title_metrics_fscore.append(round(f_score(cran_res_bert_title_recall['metric_score'], cran_res_bert_title_precision['metric_score']),3))\n",
        "bert_title_metrics_fscore.append(round(f_score(lisa_res_bert_title_recall['metric_score'], lisa_res_bert_title_precision['metric_score']),3))\n",
        "\n",
        "labels = ['ADI','CACM', 'CISI','cranfield', 'LISA']\n",
        "\n",
        "x = np.arange(len(labels))*1.8  # the label locations\n",
        "\n",
        "width = 0.5  # the width of the bars\n",
        "\n",
        "fig, ax = plt.subplots()\n",
        "rects1 = ax.bar(x - width, match_metrics_fscore , width, label='With multi-match query')\n",
        "rects2 = ax.bar(x, bert_title_metrics_fscore, width, label='With BERT on title field')\n",
        "\n",
        "# Add some text for labels, title and custom x-axis tick labels, etc.\n",
        "ax.set_ylabel('metric scores')\n",
        "ax.set_title('F1-Scores by corpus')\n",
        "ax.set_xticks(x)\n",
        "ax.set_xticklabels(labels)\n",
        "ax.legend()\n",
        "\n",
        "\n",
        "def autolabel(rects):\n",
        "    \"\"\"Attach a text label above each bar in *rects*, displaying its height.\"\"\"\n",
        "    for rect in rects:\n",
        "        height = rect.get_height()\n",
        "        ax.annotate('{}'.format(height),\n",
        "                    xy=(rect.get_x() + rect.get_width() / 2, height),\n",
        "                    xytext=(0, 3),  # 3 points vertical offset\n",
        "                    textcoords=\"offset points\",\n",
        "                    ha='center', va='bottom')\n",
        "\n",
        "\n",
        "autolabel(rects1)\n",
        "autolabel(rects2)\n",
        "\n",
        "fig.tight_layout()\n",
        "fig.set_figwidth(16)\n",
        "fig.set_figheight(8)\n",
        "\n",
        "plt.show()"
      ],
      "execution_count": 31,
      "outputs": [
        {
          "output_type": "display_data",
          "data": {
            "image/png": "[encoded data removed]",
            "text/plain": [
              "<Figure size 1152x576 with 1 Axes>"
            ]
          },
          "metadata": {
            "tags": [],
            "needs_background": "light"
          }
        }
      ]
    },
    {
      "cell_type": "code",
      "metadata": {
        "id": "R6Tk6Vt8Ah5_",
        "outputId": "7cc2d0cb-2f13-4535-f3c4-77a9f80c4549",
        "colab": {
          "base_uri": "https://localhost:8080/"
        }
      },
      "source": [
        "from tabulate import tabulate\n",
        "\n",
        "match_metrics_fscore.insert(0, 'multi-match query') \n",
        "bert_title_metrics_fscore.insert(0, 'BERT on title field')\n",
        "\n",
        "l = [match_metrics_fscore, bert_title_metrics_fscore]\n",
        "table = tabulate(l, headers=['ADI','CACM', 'CISI','cranfield', 'LISA'], tablefmt='orgtbl')\n",
        "\n",
        "print(table)"
      ],
      "execution_count": 33,
      "outputs": [
        {
          "output_type": "stream",
          "text": [
            "|                     |   ADI |   CACM |   CISI |   cranfield |   LISA |\n",
            "|---------------------+-------+--------+--------+-------------+--------|\n",
            "| multi-match query   | 0.091 |  0.023 |  0.071 |       0.065 |  0.198 |\n",
            "| BERT on title field | 0.227 |  0.006 |  0.054 |       0.04  |  0.08  |\n"
          ],
          "name": "stdout"
        }
      ]
    },
    {
      "cell_type": "markdown",
      "metadata": {
        "id": "Ikgcrccon7a1"
      },
      "source": [
        "Read more on this experiment on our [website](https://pragmalingu.de/docs/experiments/experiment1)."
      ]
    }
  ]
}